{
 "cells": [
  {
   "cell_type": "markdown",
   "metadata": {},
   "source": [
    "### Определение перспективного тарифа для телеком-компании."
   ]
  },
  {
   "cell_type": "markdown",
   "metadata": {},
   "source": [
    "### План проекта\n",
    " \n",
    "1.[Открыть файл с данными и изучить общую информацию](#cell1)\n",
    "\n",
    "2.[Подготовка данных](#cell2)\n",
    "\n",
    "3.[Анализ данных](#cell3)\n",
    "\n",
    "4.[Проверка гипотез](#cell4)\n",
    "\n",
    "5.[Общий вывод](#cell5)"
   ]
  },
  {
   "cell_type": "markdown",
   "metadata": {},
   "source": [
    "### Открыть файл с данными и изучить общую информацию\n",
    "<a id='cell1'></a>"
   ]
  },
  {
   "cell_type": "markdown",
   "metadata": {},
   "source": [
    "5.1 Импортировал библиотеку pandas, matplotlib.pyplot, numpy, stats."
   ]
  },
  {
   "cell_type": "code",
   "execution_count": 1,
   "metadata": {},
   "outputs": [],
   "source": [
    "import pandas as pd\n",
    "import matplotlib.pyplot as plt\n",
    "import numpy as np\n",
    "from scipy import stats as st"
   ]
  },
  {
   "cell_type": "markdown",
   "metadata": {},
   "source": [
    "5.2 Прочитал содержимое файлов calls.csv, internet.csv, messages.csv, tariffs.csv, users.csv и сохранил их в переменных calls_df, internet_df, messages_df, tariffs_df, users_df."
   ]
  },
  {
   "cell_type": "code",
   "execution_count": 2,
   "metadata": {},
   "outputs": [],
   "source": [
    "calls_df = pd.read_csv('/datasets/calls.csv')\n",
    "internet_df = pd.read_csv('/datasets/internet.csv')\n",
    "messages_df = pd.read_csv('/datasets/messages.csv')\n",
    "tariffs_df = pd.read_csv('/datasets/tariffs.csv')\n",
    "users_df = pd.read_csv('/datasets/users.csv')"
   ]
  },
  {
   "cell_type": "markdown",
   "metadata": {},
   "source": [
    "5.3 Ознакомился с информацией в таблицах, вызвав методы info(), head(), describe().\n",
    "* Таблица calls_df."
   ]
  },
  {
   "cell_type": "code",
   "execution_count": 3,
   "metadata": {},
   "outputs": [
    {
     "name": "stdout",
     "output_type": "stream",
     "text": [
      "<class 'pandas.core.frame.DataFrame'>\n",
      "RangeIndex: 202607 entries, 0 to 202606\n",
      "Data columns (total 4 columns):\n",
      "id           202607 non-null object\n",
      "call_date    202607 non-null object\n",
      "duration     202607 non-null float64\n",
      "user_id      202607 non-null int64\n",
      "dtypes: float64(1), int64(1), object(2)\n",
      "memory usage: 6.2+ MB\n"
     ]
    }
   ],
   "source": [
    "calls_df.info()"
   ]
  },
  {
   "cell_type": "code",
   "execution_count": 4,
   "metadata": {},
   "outputs": [
    {
     "data": {
      "text/html": [
       "<div>\n",
       "<style scoped>\n",
       "    .dataframe tbody tr th:only-of-type {\n",
       "        vertical-align: middle;\n",
       "    }\n",
       "\n",
       "    .dataframe tbody tr th {\n",
       "        vertical-align: top;\n",
       "    }\n",
       "\n",
       "    .dataframe thead th {\n",
       "        text-align: right;\n",
       "    }\n",
       "</style>\n",
       "<table border=\"1\" class=\"dataframe\">\n",
       "  <thead>\n",
       "    <tr style=\"text-align: right;\">\n",
       "      <th></th>\n",
       "      <th>id</th>\n",
       "      <th>call_date</th>\n",
       "      <th>duration</th>\n",
       "      <th>user_id</th>\n",
       "    </tr>\n",
       "  </thead>\n",
       "  <tbody>\n",
       "    <tr>\n",
       "      <td>0</td>\n",
       "      <td>1000_0</td>\n",
       "      <td>2018-07-25</td>\n",
       "      <td>0.00</td>\n",
       "      <td>1000</td>\n",
       "    </tr>\n",
       "    <tr>\n",
       "      <td>1</td>\n",
       "      <td>1000_1</td>\n",
       "      <td>2018-08-17</td>\n",
       "      <td>0.00</td>\n",
       "      <td>1000</td>\n",
       "    </tr>\n",
       "    <tr>\n",
       "      <td>2</td>\n",
       "      <td>1000_2</td>\n",
       "      <td>2018-06-11</td>\n",
       "      <td>2.85</td>\n",
       "      <td>1000</td>\n",
       "    </tr>\n",
       "    <tr>\n",
       "      <td>3</td>\n",
       "      <td>1000_3</td>\n",
       "      <td>2018-09-21</td>\n",
       "      <td>13.80</td>\n",
       "      <td>1000</td>\n",
       "    </tr>\n",
       "    <tr>\n",
       "      <td>4</td>\n",
       "      <td>1000_4</td>\n",
       "      <td>2018-12-15</td>\n",
       "      <td>5.18</td>\n",
       "      <td>1000</td>\n",
       "    </tr>\n",
       "  </tbody>\n",
       "</table>\n",
       "</div>"
      ],
      "text/plain": [
       "       id   call_date  duration  user_id\n",
       "0  1000_0  2018-07-25      0.00     1000\n",
       "1  1000_1  2018-08-17      0.00     1000\n",
       "2  1000_2  2018-06-11      2.85     1000\n",
       "3  1000_3  2018-09-21     13.80     1000\n",
       "4  1000_4  2018-12-15      5.18     1000"
      ]
     },
     "execution_count": 4,
     "metadata": {},
     "output_type": "execute_result"
    }
   ],
   "source": [
    "calls_df.head()"
   ]
  },
  {
   "cell_type": "code",
   "execution_count": 5,
   "metadata": {},
   "outputs": [
    {
     "data": {
      "text/html": [
       "<div>\n",
       "<style scoped>\n",
       "    .dataframe tbody tr th:only-of-type {\n",
       "        vertical-align: middle;\n",
       "    }\n",
       "\n",
       "    .dataframe tbody tr th {\n",
       "        vertical-align: top;\n",
       "    }\n",
       "\n",
       "    .dataframe thead th {\n",
       "        text-align: right;\n",
       "    }\n",
       "</style>\n",
       "<table border=\"1\" class=\"dataframe\">\n",
       "  <thead>\n",
       "    <tr style=\"text-align: right;\">\n",
       "      <th></th>\n",
       "      <th>count</th>\n",
       "      <th>unique</th>\n",
       "      <th>top</th>\n",
       "      <th>freq</th>\n",
       "      <th>mean</th>\n",
       "      <th>std</th>\n",
       "      <th>min</th>\n",
       "      <th>25%</th>\n",
       "      <th>50%</th>\n",
       "      <th>75%</th>\n",
       "      <th>max</th>\n",
       "    </tr>\n",
       "  </thead>\n",
       "  <tbody>\n",
       "    <tr>\n",
       "      <td>id</td>\n",
       "      <td>202607</td>\n",
       "      <td>202607</td>\n",
       "      <td>1404_160</td>\n",
       "      <td>1</td>\n",
       "      <td>NaN</td>\n",
       "      <td>NaN</td>\n",
       "      <td>NaN</td>\n",
       "      <td>NaN</td>\n",
       "      <td>NaN</td>\n",
       "      <td>NaN</td>\n",
       "      <td>NaN</td>\n",
       "    </tr>\n",
       "    <tr>\n",
       "      <td>call_date</td>\n",
       "      <td>202607</td>\n",
       "      <td>365</td>\n",
       "      <td>2018-12-31</td>\n",
       "      <td>1435</td>\n",
       "      <td>NaN</td>\n",
       "      <td>NaN</td>\n",
       "      <td>NaN</td>\n",
       "      <td>NaN</td>\n",
       "      <td>NaN</td>\n",
       "      <td>NaN</td>\n",
       "      <td>NaN</td>\n",
       "    </tr>\n",
       "    <tr>\n",
       "      <td>duration</td>\n",
       "      <td>202607</td>\n",
       "      <td>NaN</td>\n",
       "      <td>NaN</td>\n",
       "      <td>NaN</td>\n",
       "      <td>6.75589</td>\n",
       "      <td>5.84337</td>\n",
       "      <td>0</td>\n",
       "      <td>1.3</td>\n",
       "      <td>6</td>\n",
       "      <td>10.7</td>\n",
       "      <td>38</td>\n",
       "    </tr>\n",
       "    <tr>\n",
       "      <td>user_id</td>\n",
       "      <td>202607</td>\n",
       "      <td>NaN</td>\n",
       "      <td>NaN</td>\n",
       "      <td>NaN</td>\n",
       "      <td>1253.94</td>\n",
       "      <td>144.723</td>\n",
       "      <td>1000</td>\n",
       "      <td>1126</td>\n",
       "      <td>1260</td>\n",
       "      <td>1379</td>\n",
       "      <td>1499</td>\n",
       "    </tr>\n",
       "  </tbody>\n",
       "</table>\n",
       "</div>"
      ],
      "text/plain": [
       "            count  unique         top  freq     mean      std   min   25%  \\\n",
       "id         202607  202607    1404_160     1      NaN      NaN   NaN   NaN   \n",
       "call_date  202607     365  2018-12-31  1435      NaN      NaN   NaN   NaN   \n",
       "duration   202607     NaN         NaN   NaN  6.75589  5.84337     0   1.3   \n",
       "user_id    202607     NaN         NaN   NaN  1253.94  144.723  1000  1126   \n",
       "\n",
       "            50%   75%   max  \n",
       "id          NaN   NaN   NaN  \n",
       "call_date   NaN   NaN   NaN  \n",
       "duration      6  10.7    38  \n",
       "user_id    1260  1379  1499  "
      ]
     },
     "execution_count": 5,
     "metadata": {},
     "output_type": "execute_result"
    }
   ],
   "source": [
    "calls_df.describe(include='all').T"
   ]
  },
  {
   "cell_type": "markdown",
   "metadata": {},
   "source": [
    "* Таблица internet_df."
   ]
  },
  {
   "cell_type": "code",
   "execution_count": 6,
   "metadata": {},
   "outputs": [
    {
     "name": "stdout",
     "output_type": "stream",
     "text": [
      "<class 'pandas.core.frame.DataFrame'>\n",
      "RangeIndex: 149396 entries, 0 to 149395\n",
      "Data columns (total 5 columns):\n",
      "Unnamed: 0      149396 non-null int64\n",
      "id              149396 non-null object\n",
      "mb_used         149396 non-null float64\n",
      "session_date    149396 non-null object\n",
      "user_id         149396 non-null int64\n",
      "dtypes: float64(1), int64(2), object(2)\n",
      "memory usage: 5.7+ MB\n"
     ]
    },
    {
     "data": {
      "text/html": [
       "<div>\n",
       "<style scoped>\n",
       "    .dataframe tbody tr th:only-of-type {\n",
       "        vertical-align: middle;\n",
       "    }\n",
       "\n",
       "    .dataframe tbody tr th {\n",
       "        vertical-align: top;\n",
       "    }\n",
       "\n",
       "    .dataframe thead th {\n",
       "        text-align: right;\n",
       "    }\n",
       "</style>\n",
       "<table border=\"1\" class=\"dataframe\">\n",
       "  <thead>\n",
       "    <tr style=\"text-align: right;\">\n",
       "      <th></th>\n",
       "      <th>Unnamed: 0</th>\n",
       "      <th>id</th>\n",
       "      <th>mb_used</th>\n",
       "      <th>session_date</th>\n",
       "      <th>user_id</th>\n",
       "    </tr>\n",
       "  </thead>\n",
       "  <tbody>\n",
       "    <tr>\n",
       "      <td>0</td>\n",
       "      <td>0</td>\n",
       "      <td>1000_0</td>\n",
       "      <td>112.95</td>\n",
       "      <td>2018-11-25</td>\n",
       "      <td>1000</td>\n",
       "    </tr>\n",
       "    <tr>\n",
       "      <td>1</td>\n",
       "      <td>1</td>\n",
       "      <td>1000_1</td>\n",
       "      <td>1052.81</td>\n",
       "      <td>2018-09-07</td>\n",
       "      <td>1000</td>\n",
       "    </tr>\n",
       "    <tr>\n",
       "      <td>2</td>\n",
       "      <td>2</td>\n",
       "      <td>1000_2</td>\n",
       "      <td>1197.26</td>\n",
       "      <td>2018-06-25</td>\n",
       "      <td>1000</td>\n",
       "    </tr>\n",
       "    <tr>\n",
       "      <td>3</td>\n",
       "      <td>3</td>\n",
       "      <td>1000_3</td>\n",
       "      <td>550.27</td>\n",
       "      <td>2018-08-22</td>\n",
       "      <td>1000</td>\n",
       "    </tr>\n",
       "    <tr>\n",
       "      <td>4</td>\n",
       "      <td>4</td>\n",
       "      <td>1000_4</td>\n",
       "      <td>302.56</td>\n",
       "      <td>2018-09-24</td>\n",
       "      <td>1000</td>\n",
       "    </tr>\n",
       "  </tbody>\n",
       "</table>\n",
       "</div>"
      ],
      "text/plain": [
       "   Unnamed: 0      id  mb_used session_date  user_id\n",
       "0           0  1000_0   112.95   2018-11-25     1000\n",
       "1           1  1000_1  1052.81   2018-09-07     1000\n",
       "2           2  1000_2  1197.26   2018-06-25     1000\n",
       "3           3  1000_3   550.27   2018-08-22     1000\n",
       "4           4  1000_4   302.56   2018-09-24     1000"
      ]
     },
     "execution_count": 6,
     "metadata": {},
     "output_type": "execute_result"
    }
   ],
   "source": [
    "internet_df.info()\n",
    "internet_df.head()"
   ]
  },
  {
   "cell_type": "code",
   "execution_count": 7,
   "metadata": {},
   "outputs": [
    {
     "data": {
      "text/html": [
       "<div>\n",
       "<style scoped>\n",
       "    .dataframe tbody tr th:only-of-type {\n",
       "        vertical-align: middle;\n",
       "    }\n",
       "\n",
       "    .dataframe tbody tr th {\n",
       "        vertical-align: top;\n",
       "    }\n",
       "\n",
       "    .dataframe thead th {\n",
       "        text-align: right;\n",
       "    }\n",
       "</style>\n",
       "<table border=\"1\" class=\"dataframe\">\n",
       "  <thead>\n",
       "    <tr style=\"text-align: right;\">\n",
       "      <th></th>\n",
       "      <th>count</th>\n",
       "      <th>unique</th>\n",
       "      <th>top</th>\n",
       "      <th>freq</th>\n",
       "      <th>mean</th>\n",
       "      <th>std</th>\n",
       "      <th>min</th>\n",
       "      <th>25%</th>\n",
       "      <th>50%</th>\n",
       "      <th>75%</th>\n",
       "      <th>max</th>\n",
       "    </tr>\n",
       "  </thead>\n",
       "  <tbody>\n",
       "    <tr>\n",
       "      <td>Unnamed: 0</td>\n",
       "      <td>149396</td>\n",
       "      <td>NaN</td>\n",
       "      <td>NaN</td>\n",
       "      <td>NaN</td>\n",
       "      <td>74697.5</td>\n",
       "      <td>43127.1</td>\n",
       "      <td>0</td>\n",
       "      <td>37348.8</td>\n",
       "      <td>74697.5</td>\n",
       "      <td>112046</td>\n",
       "      <td>149395</td>\n",
       "    </tr>\n",
       "    <tr>\n",
       "      <td>id</td>\n",
       "      <td>149396</td>\n",
       "      <td>149396</td>\n",
       "      <td>1310_82</td>\n",
       "      <td>1</td>\n",
       "      <td>NaN</td>\n",
       "      <td>NaN</td>\n",
       "      <td>NaN</td>\n",
       "      <td>NaN</td>\n",
       "      <td>NaN</td>\n",
       "      <td>NaN</td>\n",
       "      <td>NaN</td>\n",
       "    </tr>\n",
       "    <tr>\n",
       "      <td>mb_used</td>\n",
       "      <td>149396</td>\n",
       "      <td>NaN</td>\n",
       "      <td>NaN</td>\n",
       "      <td>NaN</td>\n",
       "      <td>370.192</td>\n",
       "      <td>278.301</td>\n",
       "      <td>0</td>\n",
       "      <td>138.188</td>\n",
       "      <td>348.015</td>\n",
       "      <td>559.553</td>\n",
       "      <td>1724.83</td>\n",
       "    </tr>\n",
       "    <tr>\n",
       "      <td>session_date</td>\n",
       "      <td>149396</td>\n",
       "      <td>365</td>\n",
       "      <td>2018-12-31</td>\n",
       "      <td>1057</td>\n",
       "      <td>NaN</td>\n",
       "      <td>NaN</td>\n",
       "      <td>NaN</td>\n",
       "      <td>NaN</td>\n",
       "      <td>NaN</td>\n",
       "      <td>NaN</td>\n",
       "      <td>NaN</td>\n",
       "    </tr>\n",
       "    <tr>\n",
       "      <td>user_id</td>\n",
       "      <td>149396</td>\n",
       "      <td>NaN</td>\n",
       "      <td>NaN</td>\n",
       "      <td>NaN</td>\n",
       "      <td>1252.1</td>\n",
       "      <td>144.051</td>\n",
       "      <td>1000</td>\n",
       "      <td>1130</td>\n",
       "      <td>1251</td>\n",
       "      <td>1380</td>\n",
       "      <td>1499</td>\n",
       "    </tr>\n",
       "  </tbody>\n",
       "</table>\n",
       "</div>"
      ],
      "text/plain": [
       "               count  unique         top  freq     mean      std   min  \\\n",
       "Unnamed: 0    149396     NaN         NaN   NaN  74697.5  43127.1     0   \n",
       "id            149396  149396     1310_82     1      NaN      NaN   NaN   \n",
       "mb_used       149396     NaN         NaN   NaN  370.192  278.301     0   \n",
       "session_date  149396     365  2018-12-31  1057      NaN      NaN   NaN   \n",
       "user_id       149396     NaN         NaN   NaN   1252.1  144.051  1000   \n",
       "\n",
       "                  25%      50%      75%      max  \n",
       "Unnamed: 0    37348.8  74697.5   112046   149395  \n",
       "id                NaN      NaN      NaN      NaN  \n",
       "mb_used       138.188  348.015  559.553  1724.83  \n",
       "session_date      NaN      NaN      NaN      NaN  \n",
       "user_id          1130     1251     1380     1499  "
      ]
     },
     "execution_count": 7,
     "metadata": {},
     "output_type": "execute_result"
    }
   ],
   "source": [
    "internet_df.describe(include='all').T"
   ]
  },
  {
   "cell_type": "markdown",
   "metadata": {},
   "source": [
    "* Таблица messages_df."
   ]
  },
  {
   "cell_type": "code",
   "execution_count": 8,
   "metadata": {},
   "outputs": [
    {
     "name": "stdout",
     "output_type": "stream",
     "text": [
      "<class 'pandas.core.frame.DataFrame'>\n",
      "RangeIndex: 123036 entries, 0 to 123035\n",
      "Data columns (total 3 columns):\n",
      "id              123036 non-null object\n",
      "message_date    123036 non-null object\n",
      "user_id         123036 non-null int64\n",
      "dtypes: int64(1), object(2)\n",
      "memory usage: 2.8+ MB\n"
     ]
    },
    {
     "data": {
      "text/html": [
       "<div>\n",
       "<style scoped>\n",
       "    .dataframe tbody tr th:only-of-type {\n",
       "        vertical-align: middle;\n",
       "    }\n",
       "\n",
       "    .dataframe tbody tr th {\n",
       "        vertical-align: top;\n",
       "    }\n",
       "\n",
       "    .dataframe thead th {\n",
       "        text-align: right;\n",
       "    }\n",
       "</style>\n",
       "<table border=\"1\" class=\"dataframe\">\n",
       "  <thead>\n",
       "    <tr style=\"text-align: right;\">\n",
       "      <th></th>\n",
       "      <th>id</th>\n",
       "      <th>message_date</th>\n",
       "      <th>user_id</th>\n",
       "    </tr>\n",
       "  </thead>\n",
       "  <tbody>\n",
       "    <tr>\n",
       "      <td>0</td>\n",
       "      <td>1000_0</td>\n",
       "      <td>2018-06-27</td>\n",
       "      <td>1000</td>\n",
       "    </tr>\n",
       "    <tr>\n",
       "      <td>1</td>\n",
       "      <td>1000_1</td>\n",
       "      <td>2018-10-08</td>\n",
       "      <td>1000</td>\n",
       "    </tr>\n",
       "    <tr>\n",
       "      <td>2</td>\n",
       "      <td>1000_2</td>\n",
       "      <td>2018-08-04</td>\n",
       "      <td>1000</td>\n",
       "    </tr>\n",
       "    <tr>\n",
       "      <td>3</td>\n",
       "      <td>1000_3</td>\n",
       "      <td>2018-06-16</td>\n",
       "      <td>1000</td>\n",
       "    </tr>\n",
       "    <tr>\n",
       "      <td>4</td>\n",
       "      <td>1000_4</td>\n",
       "      <td>2018-12-05</td>\n",
       "      <td>1000</td>\n",
       "    </tr>\n",
       "  </tbody>\n",
       "</table>\n",
       "</div>"
      ],
      "text/plain": [
       "       id message_date  user_id\n",
       "0  1000_0   2018-06-27     1000\n",
       "1  1000_1   2018-10-08     1000\n",
       "2  1000_2   2018-08-04     1000\n",
       "3  1000_3   2018-06-16     1000\n",
       "4  1000_4   2018-12-05     1000"
      ]
     },
     "execution_count": 8,
     "metadata": {},
     "output_type": "execute_result"
    }
   ],
   "source": [
    "messages_df.info()\n",
    "messages_df.head()"
   ]
  },
  {
   "cell_type": "code",
   "execution_count": 9,
   "metadata": {},
   "outputs": [
    {
     "data": {
      "text/html": [
       "<div>\n",
       "<style scoped>\n",
       "    .dataframe tbody tr th:only-of-type {\n",
       "        vertical-align: middle;\n",
       "    }\n",
       "\n",
       "    .dataframe tbody tr th {\n",
       "        vertical-align: top;\n",
       "    }\n",
       "\n",
       "    .dataframe thead th {\n",
       "        text-align: right;\n",
       "    }\n",
       "</style>\n",
       "<table border=\"1\" class=\"dataframe\">\n",
       "  <thead>\n",
       "    <tr style=\"text-align: right;\">\n",
       "      <th></th>\n",
       "      <th>count</th>\n",
       "      <th>unique</th>\n",
       "      <th>top</th>\n",
       "      <th>freq</th>\n",
       "      <th>mean</th>\n",
       "      <th>std</th>\n",
       "      <th>min</th>\n",
       "      <th>25%</th>\n",
       "      <th>50%</th>\n",
       "      <th>75%</th>\n",
       "      <th>max</th>\n",
       "    </tr>\n",
       "  </thead>\n",
       "  <tbody>\n",
       "    <tr>\n",
       "      <td>id</td>\n",
       "      <td>123036</td>\n",
       "      <td>123036</td>\n",
       "      <td>1396_96</td>\n",
       "      <td>1</td>\n",
       "      <td>NaN</td>\n",
       "      <td>NaN</td>\n",
       "      <td>NaN</td>\n",
       "      <td>NaN</td>\n",
       "      <td>NaN</td>\n",
       "      <td>NaN</td>\n",
       "      <td>NaN</td>\n",
       "    </tr>\n",
       "    <tr>\n",
       "      <td>message_date</td>\n",
       "      <td>123036</td>\n",
       "      <td>364</td>\n",
       "      <td>2018-12-31</td>\n",
       "      <td>859</td>\n",
       "      <td>NaN</td>\n",
       "      <td>NaN</td>\n",
       "      <td>NaN</td>\n",
       "      <td>NaN</td>\n",
       "      <td>NaN</td>\n",
       "      <td>NaN</td>\n",
       "      <td>NaN</td>\n",
       "    </tr>\n",
       "    <tr>\n",
       "      <td>user_id</td>\n",
       "      <td>123036</td>\n",
       "      <td>NaN</td>\n",
       "      <td>NaN</td>\n",
       "      <td>NaN</td>\n",
       "      <td>1256.99</td>\n",
       "      <td>143.524</td>\n",
       "      <td>1000</td>\n",
       "      <td>1134</td>\n",
       "      <td>1271</td>\n",
       "      <td>1381</td>\n",
       "      <td>1499</td>\n",
       "    </tr>\n",
       "  </tbody>\n",
       "</table>\n",
       "</div>"
      ],
      "text/plain": [
       "               count  unique         top freq     mean      std   min   25%  \\\n",
       "id            123036  123036     1396_96    1      NaN      NaN   NaN   NaN   \n",
       "message_date  123036     364  2018-12-31  859      NaN      NaN   NaN   NaN   \n",
       "user_id       123036     NaN         NaN  NaN  1256.99  143.524  1000  1134   \n",
       "\n",
       "               50%   75%   max  \n",
       "id             NaN   NaN   NaN  \n",
       "message_date   NaN   NaN   NaN  \n",
       "user_id       1271  1381  1499  "
      ]
     },
     "execution_count": 9,
     "metadata": {},
     "output_type": "execute_result"
    }
   ],
   "source": [
    "messages_df.describe(include='all').T"
   ]
  },
  {
   "cell_type": "markdown",
   "metadata": {},
   "source": [
    "* Таблица tariffs_df."
   ]
  },
  {
   "cell_type": "code",
   "execution_count": 10,
   "metadata": {},
   "outputs": [
    {
     "name": "stdout",
     "output_type": "stream",
     "text": [
      "<class 'pandas.core.frame.DataFrame'>\n",
      "RangeIndex: 2 entries, 0 to 1\n",
      "Data columns (total 8 columns):\n",
      "messages_included        2 non-null int64\n",
      "mb_per_month_included    2 non-null int64\n",
      "minutes_included         2 non-null int64\n",
      "rub_monthly_fee          2 non-null int64\n",
      "rub_per_gb               2 non-null int64\n",
      "rub_per_message          2 non-null int64\n",
      "rub_per_minute           2 non-null int64\n",
      "tariff_name              2 non-null object\n",
      "dtypes: int64(7), object(1)\n",
      "memory usage: 256.0+ bytes\n"
     ]
    },
    {
     "data": {
      "text/html": [
       "<div>\n",
       "<style scoped>\n",
       "    .dataframe tbody tr th:only-of-type {\n",
       "        vertical-align: middle;\n",
       "    }\n",
       "\n",
       "    .dataframe tbody tr th {\n",
       "        vertical-align: top;\n",
       "    }\n",
       "\n",
       "    .dataframe thead th {\n",
       "        text-align: right;\n",
       "    }\n",
       "</style>\n",
       "<table border=\"1\" class=\"dataframe\">\n",
       "  <thead>\n",
       "    <tr style=\"text-align: right;\">\n",
       "      <th></th>\n",
       "      <th>messages_included</th>\n",
       "      <th>mb_per_month_included</th>\n",
       "      <th>minutes_included</th>\n",
       "      <th>rub_monthly_fee</th>\n",
       "      <th>rub_per_gb</th>\n",
       "      <th>rub_per_message</th>\n",
       "      <th>rub_per_minute</th>\n",
       "      <th>tariff_name</th>\n",
       "    </tr>\n",
       "  </thead>\n",
       "  <tbody>\n",
       "    <tr>\n",
       "      <td>0</td>\n",
       "      <td>50</td>\n",
       "      <td>15360</td>\n",
       "      <td>500</td>\n",
       "      <td>550</td>\n",
       "      <td>200</td>\n",
       "      <td>3</td>\n",
       "      <td>3</td>\n",
       "      <td>smart</td>\n",
       "    </tr>\n",
       "    <tr>\n",
       "      <td>1</td>\n",
       "      <td>1000</td>\n",
       "      <td>30720</td>\n",
       "      <td>3000</td>\n",
       "      <td>1950</td>\n",
       "      <td>150</td>\n",
       "      <td>1</td>\n",
       "      <td>1</td>\n",
       "      <td>ultra</td>\n",
       "    </tr>\n",
       "  </tbody>\n",
       "</table>\n",
       "</div>"
      ],
      "text/plain": [
       "   messages_included  mb_per_month_included  minutes_included  \\\n",
       "0                 50                  15360               500   \n",
       "1               1000                  30720              3000   \n",
       "\n",
       "   rub_monthly_fee  rub_per_gb  rub_per_message  rub_per_minute tariff_name  \n",
       "0              550         200                3               3       smart  \n",
       "1             1950         150                1               1       ultra  "
      ]
     },
     "execution_count": 10,
     "metadata": {},
     "output_type": "execute_result"
    }
   ],
   "source": [
    "tariffs_df.info()\n",
    "tariffs_df.head()"
   ]
  },
  {
   "cell_type": "code",
   "execution_count": 11,
   "metadata": {},
   "outputs": [
    {
     "data": {
      "text/html": [
       "<div>\n",
       "<style scoped>\n",
       "    .dataframe tbody tr th:only-of-type {\n",
       "        vertical-align: middle;\n",
       "    }\n",
       "\n",
       "    .dataframe tbody tr th {\n",
       "        vertical-align: top;\n",
       "    }\n",
       "\n",
       "    .dataframe thead th {\n",
       "        text-align: right;\n",
       "    }\n",
       "</style>\n",
       "<table border=\"1\" class=\"dataframe\">\n",
       "  <thead>\n",
       "    <tr style=\"text-align: right;\">\n",
       "      <th></th>\n",
       "      <th>count</th>\n",
       "      <th>unique</th>\n",
       "      <th>top</th>\n",
       "      <th>freq</th>\n",
       "      <th>mean</th>\n",
       "      <th>std</th>\n",
       "      <th>min</th>\n",
       "      <th>25%</th>\n",
       "      <th>50%</th>\n",
       "      <th>75%</th>\n",
       "      <th>max</th>\n",
       "    </tr>\n",
       "  </thead>\n",
       "  <tbody>\n",
       "    <tr>\n",
       "      <td>Unnamed: 0</td>\n",
       "      <td>149396</td>\n",
       "      <td>NaN</td>\n",
       "      <td>NaN</td>\n",
       "      <td>NaN</td>\n",
       "      <td>74697.5</td>\n",
       "      <td>43127.1</td>\n",
       "      <td>0</td>\n",
       "      <td>37348.8</td>\n",
       "      <td>74697.5</td>\n",
       "      <td>112046</td>\n",
       "      <td>149395</td>\n",
       "    </tr>\n",
       "    <tr>\n",
       "      <td>id</td>\n",
       "      <td>149396</td>\n",
       "      <td>149396</td>\n",
       "      <td>1310_82</td>\n",
       "      <td>1</td>\n",
       "      <td>NaN</td>\n",
       "      <td>NaN</td>\n",
       "      <td>NaN</td>\n",
       "      <td>NaN</td>\n",
       "      <td>NaN</td>\n",
       "      <td>NaN</td>\n",
       "      <td>NaN</td>\n",
       "    </tr>\n",
       "    <tr>\n",
       "      <td>mb_used</td>\n",
       "      <td>149396</td>\n",
       "      <td>NaN</td>\n",
       "      <td>NaN</td>\n",
       "      <td>NaN</td>\n",
       "      <td>370.192</td>\n",
       "      <td>278.301</td>\n",
       "      <td>0</td>\n",
       "      <td>138.188</td>\n",
       "      <td>348.015</td>\n",
       "      <td>559.553</td>\n",
       "      <td>1724.83</td>\n",
       "    </tr>\n",
       "    <tr>\n",
       "      <td>session_date</td>\n",
       "      <td>149396</td>\n",
       "      <td>365</td>\n",
       "      <td>2018-12-31</td>\n",
       "      <td>1057</td>\n",
       "      <td>NaN</td>\n",
       "      <td>NaN</td>\n",
       "      <td>NaN</td>\n",
       "      <td>NaN</td>\n",
       "      <td>NaN</td>\n",
       "      <td>NaN</td>\n",
       "      <td>NaN</td>\n",
       "    </tr>\n",
       "    <tr>\n",
       "      <td>user_id</td>\n",
       "      <td>149396</td>\n",
       "      <td>NaN</td>\n",
       "      <td>NaN</td>\n",
       "      <td>NaN</td>\n",
       "      <td>1252.1</td>\n",
       "      <td>144.051</td>\n",
       "      <td>1000</td>\n",
       "      <td>1130</td>\n",
       "      <td>1251</td>\n",
       "      <td>1380</td>\n",
       "      <td>1499</td>\n",
       "    </tr>\n",
       "  </tbody>\n",
       "</table>\n",
       "</div>"
      ],
      "text/plain": [
       "               count  unique         top  freq     mean      std   min  \\\n",
       "Unnamed: 0    149396     NaN         NaN   NaN  74697.5  43127.1     0   \n",
       "id            149396  149396     1310_82     1      NaN      NaN   NaN   \n",
       "mb_used       149396     NaN         NaN   NaN  370.192  278.301     0   \n",
       "session_date  149396     365  2018-12-31  1057      NaN      NaN   NaN   \n",
       "user_id       149396     NaN         NaN   NaN   1252.1  144.051  1000   \n",
       "\n",
       "                  25%      50%      75%      max  \n",
       "Unnamed: 0    37348.8  74697.5   112046   149395  \n",
       "id                NaN      NaN      NaN      NaN  \n",
       "mb_used       138.188  348.015  559.553  1724.83  \n",
       "session_date      NaN      NaN      NaN      NaN  \n",
       "user_id          1130     1251     1380     1499  "
      ]
     },
     "execution_count": 11,
     "metadata": {},
     "output_type": "execute_result"
    }
   ],
   "source": [
    "internet_df.describe(include='all').T"
   ]
  },
  {
   "cell_type": "code",
   "execution_count": 12,
   "metadata": {},
   "outputs": [
    {
     "name": "stdout",
     "output_type": "stream",
     "text": [
      "<class 'pandas.core.frame.DataFrame'>\n",
      "RangeIndex: 500 entries, 0 to 499\n",
      "Data columns (total 8 columns):\n",
      "user_id       500 non-null int64\n",
      "age           500 non-null int64\n",
      "churn_date    38 non-null object\n",
      "city          500 non-null object\n",
      "first_name    500 non-null object\n",
      "last_name     500 non-null object\n",
      "reg_date      500 non-null object\n",
      "tariff        500 non-null object\n",
      "dtypes: int64(2), object(6)\n",
      "memory usage: 31.4+ KB\n"
     ]
    },
    {
     "data": {
      "text/html": [
       "<div>\n",
       "<style scoped>\n",
       "    .dataframe tbody tr th:only-of-type {\n",
       "        vertical-align: middle;\n",
       "    }\n",
       "\n",
       "    .dataframe tbody tr th {\n",
       "        vertical-align: top;\n",
       "    }\n",
       "\n",
       "    .dataframe thead th {\n",
       "        text-align: right;\n",
       "    }\n",
       "</style>\n",
       "<table border=\"1\" class=\"dataframe\">\n",
       "  <thead>\n",
       "    <tr style=\"text-align: right;\">\n",
       "      <th></th>\n",
       "      <th>user_id</th>\n",
       "      <th>age</th>\n",
       "      <th>churn_date</th>\n",
       "      <th>city</th>\n",
       "      <th>first_name</th>\n",
       "      <th>last_name</th>\n",
       "      <th>reg_date</th>\n",
       "      <th>tariff</th>\n",
       "    </tr>\n",
       "  </thead>\n",
       "  <tbody>\n",
       "    <tr>\n",
       "      <td>0</td>\n",
       "      <td>1000</td>\n",
       "      <td>52</td>\n",
       "      <td>NaN</td>\n",
       "      <td>Краснодар</td>\n",
       "      <td>Рафаил</td>\n",
       "      <td>Верещагин</td>\n",
       "      <td>2018-05-25</td>\n",
       "      <td>ultra</td>\n",
       "    </tr>\n",
       "    <tr>\n",
       "      <td>1</td>\n",
       "      <td>1001</td>\n",
       "      <td>41</td>\n",
       "      <td>NaN</td>\n",
       "      <td>Москва</td>\n",
       "      <td>Иван</td>\n",
       "      <td>Ежов</td>\n",
       "      <td>2018-11-01</td>\n",
       "      <td>smart</td>\n",
       "    </tr>\n",
       "    <tr>\n",
       "      <td>2</td>\n",
       "      <td>1002</td>\n",
       "      <td>59</td>\n",
       "      <td>NaN</td>\n",
       "      <td>Стерлитамак</td>\n",
       "      <td>Евгений</td>\n",
       "      <td>Абрамович</td>\n",
       "      <td>2018-06-17</td>\n",
       "      <td>smart</td>\n",
       "    </tr>\n",
       "    <tr>\n",
       "      <td>3</td>\n",
       "      <td>1003</td>\n",
       "      <td>23</td>\n",
       "      <td>NaN</td>\n",
       "      <td>Москва</td>\n",
       "      <td>Белла</td>\n",
       "      <td>Белякова</td>\n",
       "      <td>2018-08-17</td>\n",
       "      <td>ultra</td>\n",
       "    </tr>\n",
       "    <tr>\n",
       "      <td>4</td>\n",
       "      <td>1004</td>\n",
       "      <td>68</td>\n",
       "      <td>NaN</td>\n",
       "      <td>Новокузнецк</td>\n",
       "      <td>Татьяна</td>\n",
       "      <td>Авдеенко</td>\n",
       "      <td>2018-05-14</td>\n",
       "      <td>ultra</td>\n",
       "    </tr>\n",
       "  </tbody>\n",
       "</table>\n",
       "</div>"
      ],
      "text/plain": [
       "   user_id  age churn_date         city first_name  last_name    reg_date  \\\n",
       "0     1000   52        NaN    Краснодар     Рафаил  Верещагин  2018-05-25   \n",
       "1     1001   41        NaN       Москва       Иван       Ежов  2018-11-01   \n",
       "2     1002   59        NaN  Стерлитамак    Евгений  Абрамович  2018-06-17   \n",
       "3     1003   23        NaN       Москва      Белла   Белякова  2018-08-17   \n",
       "4     1004   68        NaN  Новокузнецк    Татьяна   Авдеенко  2018-05-14   \n",
       "\n",
       "  tariff  \n",
       "0  ultra  \n",
       "1  smart  \n",
       "2  smart  \n",
       "3  ultra  \n",
       "4  ultra  "
      ]
     },
     "execution_count": 12,
     "metadata": {},
     "output_type": "execute_result"
    }
   ],
   "source": [
    "users_df.info()\n",
    "users_df.head()"
   ]
  },
  {
   "cell_type": "code",
   "execution_count": 13,
   "metadata": {},
   "outputs": [
    {
     "data": {
      "text/html": [
       "<div>\n",
       "<style scoped>\n",
       "    .dataframe tbody tr th:only-of-type {\n",
       "        vertical-align: middle;\n",
       "    }\n",
       "\n",
       "    .dataframe tbody tr th {\n",
       "        vertical-align: top;\n",
       "    }\n",
       "\n",
       "    .dataframe thead th {\n",
       "        text-align: right;\n",
       "    }\n",
       "</style>\n",
       "<table border=\"1\" class=\"dataframe\">\n",
       "  <thead>\n",
       "    <tr style=\"text-align: right;\">\n",
       "      <th></th>\n",
       "      <th>count</th>\n",
       "      <th>unique</th>\n",
       "      <th>top</th>\n",
       "      <th>freq</th>\n",
       "      <th>mean</th>\n",
       "      <th>std</th>\n",
       "      <th>min</th>\n",
       "      <th>25%</th>\n",
       "      <th>50%</th>\n",
       "      <th>75%</th>\n",
       "      <th>max</th>\n",
       "    </tr>\n",
       "  </thead>\n",
       "  <tbody>\n",
       "    <tr>\n",
       "      <td>user_id</td>\n",
       "      <td>500</td>\n",
       "      <td>NaN</td>\n",
       "      <td>NaN</td>\n",
       "      <td>NaN</td>\n",
       "      <td>1249.5</td>\n",
       "      <td>144.482</td>\n",
       "      <td>1000</td>\n",
       "      <td>1124.75</td>\n",
       "      <td>1249.5</td>\n",
       "      <td>1374.25</td>\n",
       "      <td>1499</td>\n",
       "    </tr>\n",
       "    <tr>\n",
       "      <td>age</td>\n",
       "      <td>500</td>\n",
       "      <td>NaN</td>\n",
       "      <td>NaN</td>\n",
       "      <td>NaN</td>\n",
       "      <td>46.588</td>\n",
       "      <td>16.6676</td>\n",
       "      <td>18</td>\n",
       "      <td>32</td>\n",
       "      <td>46</td>\n",
       "      <td>62</td>\n",
       "      <td>75</td>\n",
       "    </tr>\n",
       "    <tr>\n",
       "      <td>churn_date</td>\n",
       "      <td>38</td>\n",
       "      <td>33</td>\n",
       "      <td>2018-12-03</td>\n",
       "      <td>2</td>\n",
       "      <td>NaN</td>\n",
       "      <td>NaN</td>\n",
       "      <td>NaN</td>\n",
       "      <td>NaN</td>\n",
       "      <td>NaN</td>\n",
       "      <td>NaN</td>\n",
       "      <td>NaN</td>\n",
       "    </tr>\n",
       "    <tr>\n",
       "      <td>city</td>\n",
       "      <td>500</td>\n",
       "      <td>76</td>\n",
       "      <td>Москва</td>\n",
       "      <td>99</td>\n",
       "      <td>NaN</td>\n",
       "      <td>NaN</td>\n",
       "      <td>NaN</td>\n",
       "      <td>NaN</td>\n",
       "      <td>NaN</td>\n",
       "      <td>NaN</td>\n",
       "      <td>NaN</td>\n",
       "    </tr>\n",
       "    <tr>\n",
       "      <td>first_name</td>\n",
       "      <td>500</td>\n",
       "      <td>246</td>\n",
       "      <td>Радим</td>\n",
       "      <td>6</td>\n",
       "      <td>NaN</td>\n",
       "      <td>NaN</td>\n",
       "      <td>NaN</td>\n",
       "      <td>NaN</td>\n",
       "      <td>NaN</td>\n",
       "      <td>NaN</td>\n",
       "      <td>NaN</td>\n",
       "    </tr>\n",
       "    <tr>\n",
       "      <td>last_name</td>\n",
       "      <td>500</td>\n",
       "      <td>419</td>\n",
       "      <td>Андреенко</td>\n",
       "      <td>5</td>\n",
       "      <td>NaN</td>\n",
       "      <td>NaN</td>\n",
       "      <td>NaN</td>\n",
       "      <td>NaN</td>\n",
       "      <td>NaN</td>\n",
       "      <td>NaN</td>\n",
       "      <td>NaN</td>\n",
       "    </tr>\n",
       "    <tr>\n",
       "      <td>reg_date</td>\n",
       "      <td>500</td>\n",
       "      <td>270</td>\n",
       "      <td>2018-05-28</td>\n",
       "      <td>8</td>\n",
       "      <td>NaN</td>\n",
       "      <td>NaN</td>\n",
       "      <td>NaN</td>\n",
       "      <td>NaN</td>\n",
       "      <td>NaN</td>\n",
       "      <td>NaN</td>\n",
       "      <td>NaN</td>\n",
       "    </tr>\n",
       "    <tr>\n",
       "      <td>tariff</td>\n",
       "      <td>500</td>\n",
       "      <td>2</td>\n",
       "      <td>smart</td>\n",
       "      <td>351</td>\n",
       "      <td>NaN</td>\n",
       "      <td>NaN</td>\n",
       "      <td>NaN</td>\n",
       "      <td>NaN</td>\n",
       "      <td>NaN</td>\n",
       "      <td>NaN</td>\n",
       "      <td>NaN</td>\n",
       "    </tr>\n",
       "  </tbody>\n",
       "</table>\n",
       "</div>"
      ],
      "text/plain": [
       "           count unique         top freq    mean      std   min      25%  \\\n",
       "user_id      500    NaN         NaN  NaN  1249.5  144.482  1000  1124.75   \n",
       "age          500    NaN         NaN  NaN  46.588  16.6676    18       32   \n",
       "churn_date    38     33  2018-12-03    2     NaN      NaN   NaN      NaN   \n",
       "city         500     76      Москва   99     NaN      NaN   NaN      NaN   \n",
       "first_name   500    246       Радим    6     NaN      NaN   NaN      NaN   \n",
       "last_name    500    419   Андреенко    5     NaN      NaN   NaN      NaN   \n",
       "reg_date     500    270  2018-05-28    8     NaN      NaN   NaN      NaN   \n",
       "tariff       500      2       smart  351     NaN      NaN   NaN      NaN   \n",
       "\n",
       "               50%      75%   max  \n",
       "user_id     1249.5  1374.25  1499  \n",
       "age             46       62    75  \n",
       "churn_date     NaN      NaN   NaN  \n",
       "city           NaN      NaN   NaN  \n",
       "first_name     NaN      NaN   NaN  \n",
       "last_name      NaN      NaN   NaN  \n",
       "reg_date       NaN      NaN   NaN  \n",
       "tariff         NaN      NaN   NaN  "
      ]
     },
     "execution_count": 13,
     "metadata": {},
     "output_type": "execute_result"
    }
   ],
   "source": [
    "users_df.describe(include='all').T"
   ]
  },
  {
   "cell_type": "markdown",
   "metadata": {},
   "source": [
    "Вывод: в предоставленных датафреймах нету проблем с дубликатами или большим количеством пропусков(в данных мало мусора), есть необходимость изменить тип данных в столбцах связанных с датой."
   ]
  },
  {
   "cell_type": "markdown",
   "metadata": {},
   "source": []
  },
  {
   "cell_type": "markdown",
   "metadata": {},
   "source": [
    "### Подготовка данных\n",
    "<a id='cell2'></a>"
   ]
  },
  {
   "cell_type": "markdown",
   "metadata": {},
   "source": [
    "6.1 Изменил тип данных связанный с датой в столбцах call_date, session_date, message_date, reg_date, churn_date."
   ]
  },
  {
   "cell_type": "code",
   "execution_count": 14,
   "metadata": {},
   "outputs": [],
   "source": [
    "calls_df['call_date'] = pd.to_datetime(calls_df['call_date'], format='%Y-%m-%dT%H:%M:%S')\n",
    "internet_df['session_date'] = pd.to_datetime(internet_df['session_date'], format='%Y-%m-%dT%H:%M:%S')\n",
    "messages_df['message_date'] = pd.to_datetime(messages_df['message_date'], format='%Y-%m-%dT%H:%M:%S')\n",
    "users_df['reg_date'] = pd.to_datetime(users_df['reg_date'], format='%Y-%m-%dT%H:%M:%S')\n",
    "users_df['churn_date'] = pd.to_datetime(users_df['churn_date'], format='%Y-%m-%dT%H:%M:%S')"
   ]
  },
  {
   "cell_type": "markdown",
   "metadata": {},
   "source": [
    "6.2 Проверил наличие пропусков в таблицах методами isnull().sum()."
   ]
  },
  {
   "cell_type": "code",
   "execution_count": 15,
   "metadata": {},
   "outputs": [
    {
     "data": {
      "text/plain": [
       "id           0\n",
       "call_date    0\n",
       "duration     0\n",
       "user_id      0\n",
       "dtype: int64"
      ]
     },
     "execution_count": 15,
     "metadata": {},
     "output_type": "execute_result"
    }
   ],
   "source": [
    "calls_df.isnull().sum()"
   ]
  },
  {
   "cell_type": "code",
   "execution_count": 16,
   "metadata": {},
   "outputs": [
    {
     "data": {
      "text/plain": [
       "Unnamed: 0      0\n",
       "id              0\n",
       "mb_used         0\n",
       "session_date    0\n",
       "user_id         0\n",
       "dtype: int64"
      ]
     },
     "execution_count": 16,
     "metadata": {},
     "output_type": "execute_result"
    }
   ],
   "source": [
    "internet_df.isnull().sum()"
   ]
  },
  {
   "cell_type": "code",
   "execution_count": 17,
   "metadata": {},
   "outputs": [
    {
     "data": {
      "text/plain": [
       "id              0\n",
       "message_date    0\n",
       "user_id         0\n",
       "dtype: int64"
      ]
     },
     "execution_count": 17,
     "metadata": {},
     "output_type": "execute_result"
    }
   ],
   "source": [
    "messages_df.isnull().sum()"
   ]
  },
  {
   "cell_type": "code",
   "execution_count": 18,
   "metadata": {},
   "outputs": [
    {
     "data": {
      "text/plain": [
       "user_id         0\n",
       "age             0\n",
       "churn_date    462\n",
       "city            0\n",
       "first_name      0\n",
       "last_name       0\n",
       "reg_date        0\n",
       "tariff          0\n",
       "dtype: int64"
      ]
     },
     "execution_count": 18,
     "metadata": {},
     "output_type": "execute_result"
    }
   ],
   "source": [
    "users_df.isnull().sum()"
   ]
  },
  {
   "cell_type": "markdown",
   "metadata": {},
   "source": [
    "6.3 Пропущенные значения в столбце 'churn_date' датафрейма users_df заменил методом fillna(). Пропуск означает, что тариф еще действует. "
   ]
  },
  {
   "cell_type": "code",
   "execution_count": 19,
   "metadata": {},
   "outputs": [
    {
     "data": {
      "text/html": [
       "<div>\n",
       "<style scoped>\n",
       "    .dataframe tbody tr th:only-of-type {\n",
       "        vertical-align: middle;\n",
       "    }\n",
       "\n",
       "    .dataframe tbody tr th {\n",
       "        vertical-align: top;\n",
       "    }\n",
       "\n",
       "    .dataframe thead th {\n",
       "        text-align: right;\n",
       "    }\n",
       "</style>\n",
       "<table border=\"1\" class=\"dataframe\">\n",
       "  <thead>\n",
       "    <tr style=\"text-align: right;\">\n",
       "      <th></th>\n",
       "      <th>user_id</th>\n",
       "      <th>age</th>\n",
       "      <th>churn_date</th>\n",
       "      <th>city</th>\n",
       "      <th>first_name</th>\n",
       "      <th>last_name</th>\n",
       "      <th>reg_date</th>\n",
       "      <th>tariff</th>\n",
       "    </tr>\n",
       "  </thead>\n",
       "  <tbody>\n",
       "    <tr>\n",
       "      <td>0</td>\n",
       "      <td>1000</td>\n",
       "      <td>52</td>\n",
       "      <td>действителен</td>\n",
       "      <td>Краснодар</td>\n",
       "      <td>Рафаил</td>\n",
       "      <td>Верещагин</td>\n",
       "      <td>2018-05-25</td>\n",
       "      <td>ultra</td>\n",
       "    </tr>\n",
       "    <tr>\n",
       "      <td>1</td>\n",
       "      <td>1001</td>\n",
       "      <td>41</td>\n",
       "      <td>действителен</td>\n",
       "      <td>Москва</td>\n",
       "      <td>Иван</td>\n",
       "      <td>Ежов</td>\n",
       "      <td>2018-11-01</td>\n",
       "      <td>smart</td>\n",
       "    </tr>\n",
       "    <tr>\n",
       "      <td>2</td>\n",
       "      <td>1002</td>\n",
       "      <td>59</td>\n",
       "      <td>действителен</td>\n",
       "      <td>Стерлитамак</td>\n",
       "      <td>Евгений</td>\n",
       "      <td>Абрамович</td>\n",
       "      <td>2018-06-17</td>\n",
       "      <td>smart</td>\n",
       "    </tr>\n",
       "    <tr>\n",
       "      <td>3</td>\n",
       "      <td>1003</td>\n",
       "      <td>23</td>\n",
       "      <td>действителен</td>\n",
       "      <td>Москва</td>\n",
       "      <td>Белла</td>\n",
       "      <td>Белякова</td>\n",
       "      <td>2018-08-17</td>\n",
       "      <td>ultra</td>\n",
       "    </tr>\n",
       "    <tr>\n",
       "      <td>4</td>\n",
       "      <td>1004</td>\n",
       "      <td>68</td>\n",
       "      <td>действителен</td>\n",
       "      <td>Новокузнецк</td>\n",
       "      <td>Татьяна</td>\n",
       "      <td>Авдеенко</td>\n",
       "      <td>2018-05-14</td>\n",
       "      <td>ultra</td>\n",
       "    </tr>\n",
       "    <tr>\n",
       "      <td>5</td>\n",
       "      <td>1005</td>\n",
       "      <td>67</td>\n",
       "      <td>действителен</td>\n",
       "      <td>Набережные Челны</td>\n",
       "      <td>Афанасий</td>\n",
       "      <td>Горлов</td>\n",
       "      <td>2018-01-25</td>\n",
       "      <td>smart</td>\n",
       "    </tr>\n",
       "    <tr>\n",
       "      <td>6</td>\n",
       "      <td>1006</td>\n",
       "      <td>21</td>\n",
       "      <td>действителен</td>\n",
       "      <td>Ульяновск</td>\n",
       "      <td>Леонид</td>\n",
       "      <td>Ермолаев</td>\n",
       "      <td>2018-02-26</td>\n",
       "      <td>smart</td>\n",
       "    </tr>\n",
       "    <tr>\n",
       "      <td>7</td>\n",
       "      <td>1007</td>\n",
       "      <td>65</td>\n",
       "      <td>действителен</td>\n",
       "      <td>Москва</td>\n",
       "      <td>Юна</td>\n",
       "      <td>Березина</td>\n",
       "      <td>2018-04-19</td>\n",
       "      <td>smart</td>\n",
       "    </tr>\n",
       "    <tr>\n",
       "      <td>8</td>\n",
       "      <td>1008</td>\n",
       "      <td>63</td>\n",
       "      <td>действителен</td>\n",
       "      <td>Челябинск</td>\n",
       "      <td>Рустэм</td>\n",
       "      <td>Пономарёв</td>\n",
       "      <td>2018-12-19</td>\n",
       "      <td>smart</td>\n",
       "    </tr>\n",
       "    <tr>\n",
       "      <td>9</td>\n",
       "      <td>1009</td>\n",
       "      <td>24</td>\n",
       "      <td>действителен</td>\n",
       "      <td>Пермь</td>\n",
       "      <td>Василиса</td>\n",
       "      <td>Блинова</td>\n",
       "      <td>2018-03-22</td>\n",
       "      <td>smart</td>\n",
       "    </tr>\n",
       "  </tbody>\n",
       "</table>\n",
       "</div>"
      ],
      "text/plain": [
       "   user_id  age    churn_date              city first_name  last_name  \\\n",
       "0     1000   52  действителен         Краснодар     Рафаил  Верещагин   \n",
       "1     1001   41  действителен            Москва       Иван       Ежов   \n",
       "2     1002   59  действителен       Стерлитамак    Евгений  Абрамович   \n",
       "3     1003   23  действителен            Москва      Белла   Белякова   \n",
       "4     1004   68  действителен       Новокузнецк    Татьяна   Авдеенко   \n",
       "5     1005   67  действителен  Набережные Челны   Афанасий     Горлов   \n",
       "6     1006   21  действителен         Ульяновск     Леонид   Ермолаев   \n",
       "7     1007   65  действителен            Москва        Юна   Березина   \n",
       "8     1008   63  действителен         Челябинск     Рустэм  Пономарёв   \n",
       "9     1009   24  действителен             Пермь   Василиса    Блинова   \n",
       "\n",
       "    reg_date tariff  \n",
       "0 2018-05-25  ultra  \n",
       "1 2018-11-01  smart  \n",
       "2 2018-06-17  smart  \n",
       "3 2018-08-17  ultra  \n",
       "4 2018-05-14  ultra  \n",
       "5 2018-01-25  smart  \n",
       "6 2018-02-26  smart  \n",
       "7 2018-04-19  smart  \n",
       "8 2018-12-19  smart  \n",
       "9 2018-03-22  smart  "
      ]
     },
     "execution_count": 19,
     "metadata": {},
     "output_type": "execute_result"
    }
   ],
   "source": [
    "users_df['churn_date'] = users_df['churn_date'].fillna('действителен')\n",
    "users_df.head(10)"
   ]
  },
  {
   "cell_type": "markdown",
   "metadata": {},
   "source": [
    "Посчитайте для каждого пользователя:\n",
    "1. количество сделанных звонков и израсходованных минут разговора по месяцам;\n",
    "2. количество отправленных сообщений по месяцам;\n",
    "3. объем израсходованного интернет-трафика по месяцам;\n",
    "4. помесячную выручку с каждого пользователя (вычтите бесплатный лимит из суммарного количества звонков, сообщений и интернет-* трафика; остаток умножьте на значение из тарифного плана; прибавьте абонентскую плату, соответствующую тарифному плану)."
   ]
  },
  {
   "cell_type": "markdown",
   "metadata": {},
   "source": [
    "1. количество сделанных звонков и израсходованных минут разговора по месяцам"
   ]
  },
  {
   "cell_type": "markdown",
   "metadata": {},
   "source": [
    "6.4 Добавил в датасет calls_df столбец 'month'. Округлил вверх значения столбца 'duration' методом round(), чтобы значения столбца округлились как требует того условие задания, то я прибавил 0.5."
   ]
  },
  {
   "cell_type": "code",
   "execution_count": 20,
   "metadata": {},
   "outputs": [
    {
     "data": {
      "text/html": [
       "<div>\n",
       "<style scoped>\n",
       "    .dataframe tbody tr th:only-of-type {\n",
       "        vertical-align: middle;\n",
       "    }\n",
       "\n",
       "    .dataframe tbody tr th {\n",
       "        vertical-align: top;\n",
       "    }\n",
       "\n",
       "    .dataframe thead th {\n",
       "        text-align: right;\n",
       "    }\n",
       "</style>\n",
       "<table border=\"1\" class=\"dataframe\">\n",
       "  <thead>\n",
       "    <tr style=\"text-align: right;\">\n",
       "      <th></th>\n",
       "      <th>id</th>\n",
       "      <th>call_date</th>\n",
       "      <th>duration</th>\n",
       "      <th>user_id</th>\n",
       "      <th>month</th>\n",
       "    </tr>\n",
       "  </thead>\n",
       "  <tbody>\n",
       "    <tr>\n",
       "      <td>0</td>\n",
       "      <td>1000_0</td>\n",
       "      <td>2018-07-25</td>\n",
       "      <td>0.0</td>\n",
       "      <td>1000</td>\n",
       "      <td>7</td>\n",
       "    </tr>\n",
       "    <tr>\n",
       "      <td>1</td>\n",
       "      <td>1000_1</td>\n",
       "      <td>2018-08-17</td>\n",
       "      <td>0.0</td>\n",
       "      <td>1000</td>\n",
       "      <td>8</td>\n",
       "    </tr>\n",
       "    <tr>\n",
       "      <td>2</td>\n",
       "      <td>1000_2</td>\n",
       "      <td>2018-06-11</td>\n",
       "      <td>3.0</td>\n",
       "      <td>1000</td>\n",
       "      <td>6</td>\n",
       "    </tr>\n",
       "    <tr>\n",
       "      <td>3</td>\n",
       "      <td>1000_3</td>\n",
       "      <td>2018-09-21</td>\n",
       "      <td>14.0</td>\n",
       "      <td>1000</td>\n",
       "      <td>9</td>\n",
       "    </tr>\n",
       "    <tr>\n",
       "      <td>4</td>\n",
       "      <td>1000_4</td>\n",
       "      <td>2018-12-15</td>\n",
       "      <td>6.0</td>\n",
       "      <td>1000</td>\n",
       "      <td>12</td>\n",
       "    </tr>\n",
       "  </tbody>\n",
       "</table>\n",
       "</div>"
      ],
      "text/plain": [
       "       id  call_date  duration  user_id  month\n",
       "0  1000_0 2018-07-25       0.0     1000      7\n",
       "1  1000_1 2018-08-17       0.0     1000      8\n",
       "2  1000_2 2018-06-11       3.0     1000      6\n",
       "3  1000_3 2018-09-21      14.0     1000      9\n",
       "4  1000_4 2018-12-15       6.0     1000     12"
      ]
     },
     "execution_count": 20,
     "metadata": {},
     "output_type": "execute_result"
    }
   ],
   "source": [
    "calls_df['month'] = calls_df['call_date'].dt.month\n",
    "calls_df['duration'] = (calls_df['duration'] + 0.5).round(0)\n",
    "calls_df.head()"
   ]
  },
  {
   "cell_type": "markdown",
   "metadata": {},
   "source": [
    "6.5 Посчитал время разговора и количество звонков по месяцам, применяя pivot_table(). Переименовал столбцы 'count' и 'sum' методом rename(). В дальнейшем, а точнее в пункте 7,в датафреймах calls_df_month, messages_df_month, internet_df_month, после их окончательной компановки, столбцы датафреймов будут переименованы."
   ]
  },
  {
   "cell_type": "code",
   "execution_count": 21,
   "metadata": {},
   "outputs": [
    {
     "data": {
      "text/html": [
       "<div>\n",
       "<style scoped>\n",
       "    .dataframe tbody tr th:only-of-type {\n",
       "        vertical-align: middle;\n",
       "    }\n",
       "\n",
       "    .dataframe tbody tr th {\n",
       "        vertical-align: top;\n",
       "    }\n",
       "\n",
       "    .dataframe thead tr th {\n",
       "        text-align: left;\n",
       "    }\n",
       "</style>\n",
       "<table border=\"1\" class=\"dataframe\">\n",
       "  <thead>\n",
       "    <tr>\n",
       "      <th></th>\n",
       "      <th>user_id</th>\n",
       "      <th>month</th>\n",
       "      <th>calls</th>\n",
       "      <th>minutes</th>\n",
       "    </tr>\n",
       "    <tr>\n",
       "      <th></th>\n",
       "      <th></th>\n",
       "      <th></th>\n",
       "      <th>duration</th>\n",
       "      <th>duration</th>\n",
       "    </tr>\n",
       "  </thead>\n",
       "  <tbody>\n",
       "    <tr>\n",
       "      <td>0</td>\n",
       "      <td>1000</td>\n",
       "      <td>5</td>\n",
       "      <td>22</td>\n",
       "      <td>159.0</td>\n",
       "    </tr>\n",
       "    <tr>\n",
       "      <td>1</td>\n",
       "      <td>1000</td>\n",
       "      <td>6</td>\n",
       "      <td>43</td>\n",
       "      <td>172.0</td>\n",
       "    </tr>\n",
       "    <tr>\n",
       "      <td>2</td>\n",
       "      <td>1000</td>\n",
       "      <td>7</td>\n",
       "      <td>47</td>\n",
       "      <td>340.0</td>\n",
       "    </tr>\n",
       "    <tr>\n",
       "      <td>3</td>\n",
       "      <td>1000</td>\n",
       "      <td>8</td>\n",
       "      <td>52</td>\n",
       "      <td>409.0</td>\n",
       "    </tr>\n",
       "    <tr>\n",
       "      <td>4</td>\n",
       "      <td>1000</td>\n",
       "      <td>9</td>\n",
       "      <td>58</td>\n",
       "      <td>467.0</td>\n",
       "    </tr>\n",
       "    <tr>\n",
       "      <td>5</td>\n",
       "      <td>1000</td>\n",
       "      <td>10</td>\n",
       "      <td>57</td>\n",
       "      <td>350.0</td>\n",
       "    </tr>\n",
       "    <tr>\n",
       "      <td>6</td>\n",
       "      <td>1000</td>\n",
       "      <td>11</td>\n",
       "      <td>43</td>\n",
       "      <td>338.0</td>\n",
       "    </tr>\n",
       "    <tr>\n",
       "      <td>7</td>\n",
       "      <td>1000</td>\n",
       "      <td>12</td>\n",
       "      <td>46</td>\n",
       "      <td>333.0</td>\n",
       "    </tr>\n",
       "    <tr>\n",
       "      <td>8</td>\n",
       "      <td>1001</td>\n",
       "      <td>11</td>\n",
       "      <td>59</td>\n",
       "      <td>430.0</td>\n",
       "    </tr>\n",
       "    <tr>\n",
       "      <td>9</td>\n",
       "      <td>1001</td>\n",
       "      <td>12</td>\n",
       "      <td>63</td>\n",
       "      <td>414.0</td>\n",
       "    </tr>\n",
       "  </tbody>\n",
       "</table>\n",
       "</div>"
      ],
      "text/plain": [
       "  user_id month    calls  minutes\n",
       "                duration duration\n",
       "0    1000     5       22    159.0\n",
       "1    1000     6       43    172.0\n",
       "2    1000     7       47    340.0\n",
       "3    1000     8       52    409.0\n",
       "4    1000     9       58    467.0\n",
       "5    1000    10       57    350.0\n",
       "6    1000    11       43    338.0\n",
       "7    1000    12       46    333.0\n",
       "8    1001    11       59    430.0\n",
       "9    1001    12       63    414.0"
      ]
     },
     "execution_count": 21,
     "metadata": {},
     "output_type": "execute_result"
    }
   ],
   "source": [
    "calls_df_month = calls_df.pivot_table(index = ['user_id', 'month'], values = 'duration', aggfunc = ['count', 'sum']).reset_index()\n",
    "calls_df_month.rename(columns={'count': 'calls'}, inplace=True)\n",
    "calls_df_month.rename(columns={'sum': 'minutes'}, inplace=True)\n",
    "calls_df_month.head(10)"
   ]
  },
  {
   "cell_type": "markdown",
   "metadata": {},
   "source": [
    "2. количество отправленных сообщений по месяцам;"
   ]
  },
  {
   "cell_type": "markdown",
   "metadata": {},
   "source": [
    "6.7 Добавил в татасет messages_df столбец 'month'."
   ]
  },
  {
   "cell_type": "code",
   "execution_count": 22,
   "metadata": {},
   "outputs": [],
   "source": [
    "messages_df['month'] = messages_df['message_date'].dt.month"
   ]
  },
  {
   "cell_type": "markdown",
   "metadata": {},
   "source": [
    "6.8 Посчитал количество отправленных сообщений по месяцам применяя pivot_table()."
   ]
  },
  {
   "cell_type": "code",
   "execution_count": 23,
   "metadata": {},
   "outputs": [
    {
     "data": {
      "text/html": [
       "<div>\n",
       "<style scoped>\n",
       "    .dataframe tbody tr th:only-of-type {\n",
       "        vertical-align: middle;\n",
       "    }\n",
       "\n",
       "    .dataframe tbody tr th {\n",
       "        vertical-align: top;\n",
       "    }\n",
       "\n",
       "    .dataframe thead th {\n",
       "        text-align: right;\n",
       "    }\n",
       "</style>\n",
       "<table border=\"1\" class=\"dataframe\">\n",
       "  <thead>\n",
       "    <tr style=\"text-align: right;\">\n",
       "      <th></th>\n",
       "      <th>user_id</th>\n",
       "      <th>month</th>\n",
       "      <th>id</th>\n",
       "      <th>message_date</th>\n",
       "    </tr>\n",
       "  </thead>\n",
       "  <tbody>\n",
       "    <tr>\n",
       "      <td>0</td>\n",
       "      <td>1000</td>\n",
       "      <td>5</td>\n",
       "      <td>22</td>\n",
       "      <td>22</td>\n",
       "    </tr>\n",
       "    <tr>\n",
       "      <td>1</td>\n",
       "      <td>1000</td>\n",
       "      <td>6</td>\n",
       "      <td>60</td>\n",
       "      <td>60</td>\n",
       "    </tr>\n",
       "    <tr>\n",
       "      <td>2</td>\n",
       "      <td>1000</td>\n",
       "      <td>7</td>\n",
       "      <td>75</td>\n",
       "      <td>75</td>\n",
       "    </tr>\n",
       "    <tr>\n",
       "      <td>3</td>\n",
       "      <td>1000</td>\n",
       "      <td>8</td>\n",
       "      <td>81</td>\n",
       "      <td>81</td>\n",
       "    </tr>\n",
       "    <tr>\n",
       "      <td>4</td>\n",
       "      <td>1000</td>\n",
       "      <td>9</td>\n",
       "      <td>57</td>\n",
       "      <td>57</td>\n",
       "    </tr>\n",
       "    <tr>\n",
       "      <td>5</td>\n",
       "      <td>1000</td>\n",
       "      <td>10</td>\n",
       "      <td>73</td>\n",
       "      <td>73</td>\n",
       "    </tr>\n",
       "    <tr>\n",
       "      <td>6</td>\n",
       "      <td>1000</td>\n",
       "      <td>11</td>\n",
       "      <td>58</td>\n",
       "      <td>58</td>\n",
       "    </tr>\n",
       "    <tr>\n",
       "      <td>7</td>\n",
       "      <td>1000</td>\n",
       "      <td>12</td>\n",
       "      <td>70</td>\n",
       "      <td>70</td>\n",
       "    </tr>\n",
       "    <tr>\n",
       "      <td>8</td>\n",
       "      <td>1002</td>\n",
       "      <td>6</td>\n",
       "      <td>4</td>\n",
       "      <td>4</td>\n",
       "    </tr>\n",
       "    <tr>\n",
       "      <td>9</td>\n",
       "      <td>1002</td>\n",
       "      <td>7</td>\n",
       "      <td>11</td>\n",
       "      <td>11</td>\n",
       "    </tr>\n",
       "  </tbody>\n",
       "</table>\n",
       "</div>"
      ],
      "text/plain": [
       "   user_id  month  id  message_date\n",
       "0     1000      5  22            22\n",
       "1     1000      6  60            60\n",
       "2     1000      7  75            75\n",
       "3     1000      8  81            81\n",
       "4     1000      9  57            57\n",
       "5     1000     10  73            73\n",
       "6     1000     11  58            58\n",
       "7     1000     12  70            70\n",
       "8     1002      6   4             4\n",
       "9     1002      7  11            11"
      ]
     },
     "execution_count": 23,
     "metadata": {},
     "output_type": "execute_result"
    }
   ],
   "source": [
    "messages_df_month = messages_df.pivot_table(index = ['user_id', 'month'], aggfunc = 'count').reset_index()\n",
    "messages_df_month.head(10)"
   ]
  },
  {
   "cell_type": "markdown",
   "metadata": {},
   "source": [
    "3. объем израсходованного интернет-трафика по месяцам."
   ]
  },
  {
   "cell_type": "markdown",
   "metadata": {},
   "source": [
    "6.8 Добавил в датасет Internet_df столбец 'month'. Округлил вверх значения столбца 'mb_used' методом round(), чтобы значения столбца округлились как требует того условие задания, то я прибавил 0.5."
   ]
  },
  {
   "cell_type": "code",
   "execution_count": 24,
   "metadata": {},
   "outputs": [
    {
     "data": {
      "text/html": [
       "<div>\n",
       "<style scoped>\n",
       "    .dataframe tbody tr th:only-of-type {\n",
       "        vertical-align: middle;\n",
       "    }\n",
       "\n",
       "    .dataframe tbody tr th {\n",
       "        vertical-align: top;\n",
       "    }\n",
       "\n",
       "    .dataframe thead th {\n",
       "        text-align: right;\n",
       "    }\n",
       "</style>\n",
       "<table border=\"1\" class=\"dataframe\">\n",
       "  <thead>\n",
       "    <tr style=\"text-align: right;\">\n",
       "      <th></th>\n",
       "      <th>Unnamed: 0</th>\n",
       "      <th>id</th>\n",
       "      <th>mb_used</th>\n",
       "      <th>session_date</th>\n",
       "      <th>user_id</th>\n",
       "      <th>month</th>\n",
       "    </tr>\n",
       "  </thead>\n",
       "  <tbody>\n",
       "    <tr>\n",
       "      <td>0</td>\n",
       "      <td>0</td>\n",
       "      <td>1000_0</td>\n",
       "      <td>113.0</td>\n",
       "      <td>2018-11-25</td>\n",
       "      <td>1000</td>\n",
       "      <td>11</td>\n",
       "    </tr>\n",
       "    <tr>\n",
       "      <td>1</td>\n",
       "      <td>1</td>\n",
       "      <td>1000_1</td>\n",
       "      <td>1053.0</td>\n",
       "      <td>2018-09-07</td>\n",
       "      <td>1000</td>\n",
       "      <td>9</td>\n",
       "    </tr>\n",
       "    <tr>\n",
       "      <td>2</td>\n",
       "      <td>2</td>\n",
       "      <td>1000_2</td>\n",
       "      <td>1198.0</td>\n",
       "      <td>2018-06-25</td>\n",
       "      <td>1000</td>\n",
       "      <td>6</td>\n",
       "    </tr>\n",
       "    <tr>\n",
       "      <td>3</td>\n",
       "      <td>3</td>\n",
       "      <td>1000_3</td>\n",
       "      <td>551.0</td>\n",
       "      <td>2018-08-22</td>\n",
       "      <td>1000</td>\n",
       "      <td>8</td>\n",
       "    </tr>\n",
       "    <tr>\n",
       "      <td>4</td>\n",
       "      <td>4</td>\n",
       "      <td>1000_4</td>\n",
       "      <td>303.0</td>\n",
       "      <td>2018-09-24</td>\n",
       "      <td>1000</td>\n",
       "      <td>9</td>\n",
       "    </tr>\n",
       "    <tr>\n",
       "      <td>5</td>\n",
       "      <td>5</td>\n",
       "      <td>1000_5</td>\n",
       "      <td>400.0</td>\n",
       "      <td>2018-10-02</td>\n",
       "      <td>1000</td>\n",
       "      <td>10</td>\n",
       "    </tr>\n",
       "    <tr>\n",
       "      <td>6</td>\n",
       "      <td>6</td>\n",
       "      <td>1000_6</td>\n",
       "      <td>541.0</td>\n",
       "      <td>2018-09-07</td>\n",
       "      <td>1000</td>\n",
       "      <td>9</td>\n",
       "    </tr>\n",
       "    <tr>\n",
       "      <td>7</td>\n",
       "      <td>7</td>\n",
       "      <td>1000_7</td>\n",
       "      <td>416.0</td>\n",
       "      <td>2018-07-11</td>\n",
       "      <td>1000</td>\n",
       "      <td>7</td>\n",
       "    </tr>\n",
       "    <tr>\n",
       "      <td>8</td>\n",
       "      <td>8</td>\n",
       "      <td>1000_8</td>\n",
       "      <td>506.0</td>\n",
       "      <td>2018-10-08</td>\n",
       "      <td>1000</td>\n",
       "      <td>10</td>\n",
       "    </tr>\n",
       "    <tr>\n",
       "      <td>9</td>\n",
       "      <td>9</td>\n",
       "      <td>1000_9</td>\n",
       "      <td>346.0</td>\n",
       "      <td>2018-09-03</td>\n",
       "      <td>1000</td>\n",
       "      <td>9</td>\n",
       "    </tr>\n",
       "  </tbody>\n",
       "</table>\n",
       "</div>"
      ],
      "text/plain": [
       "   Unnamed: 0      id  mb_used session_date  user_id  month\n",
       "0           0  1000_0    113.0   2018-11-25     1000     11\n",
       "1           1  1000_1   1053.0   2018-09-07     1000      9\n",
       "2           2  1000_2   1198.0   2018-06-25     1000      6\n",
       "3           3  1000_3    551.0   2018-08-22     1000      8\n",
       "4           4  1000_4    303.0   2018-09-24     1000      9\n",
       "5           5  1000_5    400.0   2018-10-02     1000     10\n",
       "6           6  1000_6    541.0   2018-09-07     1000      9\n",
       "7           7  1000_7    416.0   2018-07-11     1000      7\n",
       "8           8  1000_8    506.0   2018-10-08     1000     10\n",
       "9           9  1000_9    346.0   2018-09-03     1000      9"
      ]
     },
     "execution_count": 24,
     "metadata": {},
     "output_type": "execute_result"
    }
   ],
   "source": [
    "internet_df['month'] = internet_df['session_date'].dt.month\n",
    "internet_df['mb_used'] = (internet_df['mb_used']+ 0.5).round(0) \n",
    "internet_df.head(10)"
   ]
  },
  {
   "cell_type": "markdown",
   "metadata": {},
   "source": [
    "6.8 Посчитал объем израсходованного интернет-трафика по месяцам применяя pivot_table(). Переименовал столбец 'sum' на 'mb_used_month' методом rename."
   ]
  },
  {
   "cell_type": "code",
   "execution_count": 25,
   "metadata": {},
   "outputs": [
    {
     "data": {
      "text/html": [
       "<div>\n",
       "<style scoped>\n",
       "    .dataframe tbody tr th:only-of-type {\n",
       "        vertical-align: middle;\n",
       "    }\n",
       "\n",
       "    .dataframe tbody tr th {\n",
       "        vertical-align: top;\n",
       "    }\n",
       "\n",
       "    .dataframe thead tr th {\n",
       "        text-align: left;\n",
       "    }\n",
       "</style>\n",
       "<table border=\"1\" class=\"dataframe\">\n",
       "  <thead>\n",
       "    <tr>\n",
       "      <th></th>\n",
       "      <th>user_id</th>\n",
       "      <th>month</th>\n",
       "      <th>mb_used_month</th>\n",
       "    </tr>\n",
       "    <tr>\n",
       "      <th></th>\n",
       "      <th></th>\n",
       "      <th></th>\n",
       "      <th>mb_used</th>\n",
       "    </tr>\n",
       "  </thead>\n",
       "  <tbody>\n",
       "    <tr>\n",
       "      <td>0</td>\n",
       "      <td>1000</td>\n",
       "      <td>5</td>\n",
       "      <td>2256.0</td>\n",
       "    </tr>\n",
       "    <tr>\n",
       "      <td>1</td>\n",
       "      <td>1000</td>\n",
       "      <td>6</td>\n",
       "      <td>23257.0</td>\n",
       "    </tr>\n",
       "    <tr>\n",
       "      <td>2</td>\n",
       "      <td>1000</td>\n",
       "      <td>7</td>\n",
       "      <td>14016.0</td>\n",
       "    </tr>\n",
       "    <tr>\n",
       "      <td>3</td>\n",
       "      <td>1000</td>\n",
       "      <td>8</td>\n",
       "      <td>14070.0</td>\n",
       "    </tr>\n",
       "    <tr>\n",
       "      <td>4</td>\n",
       "      <td>1000</td>\n",
       "      <td>9</td>\n",
       "      <td>14581.0</td>\n",
       "    </tr>\n",
       "    <tr>\n",
       "      <td>5</td>\n",
       "      <td>1000</td>\n",
       "      <td>10</td>\n",
       "      <td>14717.0</td>\n",
       "    </tr>\n",
       "    <tr>\n",
       "      <td>6</td>\n",
       "      <td>1000</td>\n",
       "      <td>11</td>\n",
       "      <td>14768.0</td>\n",
       "    </tr>\n",
       "    <tr>\n",
       "      <td>7</td>\n",
       "      <td>1000</td>\n",
       "      <td>12</td>\n",
       "      <td>9827.0</td>\n",
       "    </tr>\n",
       "    <tr>\n",
       "      <td>8</td>\n",
       "      <td>1001</td>\n",
       "      <td>11</td>\n",
       "      <td>18452.0</td>\n",
       "    </tr>\n",
       "    <tr>\n",
       "      <td>9</td>\n",
       "      <td>1001</td>\n",
       "      <td>12</td>\n",
       "      <td>14053.0</td>\n",
       "    </tr>\n",
       "  </tbody>\n",
       "</table>\n",
       "</div>"
      ],
      "text/plain": [
       "  user_id month mb_used_month\n",
       "                      mb_used\n",
       "0    1000     5        2256.0\n",
       "1    1000     6       23257.0\n",
       "2    1000     7       14016.0\n",
       "3    1000     8       14070.0\n",
       "4    1000     9       14581.0\n",
       "5    1000    10       14717.0\n",
       "6    1000    11       14768.0\n",
       "7    1000    12        9827.0\n",
       "8    1001    11       18452.0\n",
       "9    1001    12       14053.0"
      ]
     },
     "execution_count": 25,
     "metadata": {},
     "output_type": "execute_result"
    }
   ],
   "source": [
    "internet_df_month = internet_df.pivot_table(index = ['user_id', 'month'], values = 'mb_used', aggfunc = ['sum']).reset_index()\n",
    "internet_df_month.rename(columns={'sum': 'mb_used_month'}, inplace=True)\n",
    "internet_df_month.head(10)"
   ]
  },
  {
   "cell_type": "markdown",
   "metadata": {},
   "source": [
    "4. помесячную выручку с каждого пользователя (вычтите бесплатный лимит из суммарного количества звонков, сообщений и интернет-* трафика; остаток умножьте на значение из тарифного плана; прибавьте абонентскую плату, соответствующую тарифному плану)."
   ]
  },
  {
   "cell_type": "markdown",
   "metadata": {},
   "source": [
    "6.9 Объединил таблицы calls_df_month, messages_df_month, internet_df_month, методом merge(). Переименовал название столбцов, т.к столбцы были мультииндексированы."
   ]
  },
  {
   "cell_type": "code",
   "execution_count": 51,
   "metadata": {
    "scrolled": true
   },
   "outputs": [],
   "source": [
    "df_3 = calls_df_month.merge(messages_df_month, on=['user_id','month'], how='outer')\n",
    "df_4 = df_3.merge(internet_df_month, on=['user_id','month'], how='outer')\n",
    "df_4.set_axis(['user_id','month','user_id_1','month','calls','minutes','id','messages','mb_used_month'],axis = 'columns',inplace = True);"
   ]
  },
  {
   "cell_type": "markdown",
   "metadata": {},
   "source": [
    "6.10 Пропуски в столбцах 'calls','minutes','messages','mb_used_month' заменил средними значениями."
   ]
  },
  {
   "cell_type": "code",
   "execution_count": 27,
   "metadata": {
    "scrolled": true
   },
   "outputs": [
    {
     "data": {
      "text/plain": [
       "user_id            0\n",
       "month              0\n",
       "user_id_1         40\n",
       "month             40\n",
       "calls              0\n",
       "minutes            0\n",
       "id               497\n",
       "messages           0\n",
       "mb_used_month      0\n",
       "dtype: int64"
      ]
     },
     "execution_count": 27,
     "metadata": {},
     "output_type": "execute_result"
    }
   ],
   "source": [
    "df_4['calls'] = df_4['calls'].fillna(0)\n",
    "df_4['minutes'] = df_4['minutes'].fillna(0)\n",
    "df_4['messages'] = df_4['messages'].fillna(0)\n",
    "df_4['mb_used_month'] = df_4['mb_used_month'].fillna(0)\n",
    "df_4.isnull().sum()"
   ]
  },
  {
   "cell_type": "markdown",
   "metadata": {},
   "source": [
    "6.11 Объединил получившийся датафрейм df_4 с данными о месячных расходах с датафреймом useres_df. Далее объединил с датафреймом tariffs_df, предварительно переименовав столбец 'tariff_name' на 'tariff', чтобы применить метод merge()."
   ]
  },
  {
   "cell_type": "code",
   "execution_count": 28,
   "metadata": {},
   "outputs": [
    {
     "data": {
      "text/html": [
       "<div>\n",
       "<style scoped>\n",
       "    .dataframe tbody tr th:only-of-type {\n",
       "        vertical-align: middle;\n",
       "    }\n",
       "\n",
       "    .dataframe tbody tr th {\n",
       "        vertical-align: top;\n",
       "    }\n",
       "\n",
       "    .dataframe thead th {\n",
       "        text-align: right;\n",
       "    }\n",
       "</style>\n",
       "<table border=\"1\" class=\"dataframe\">\n",
       "  <thead>\n",
       "    <tr style=\"text-align: right;\">\n",
       "      <th></th>\n",
       "      <th>user_id</th>\n",
       "      <th>month</th>\n",
       "      <th>user_id_1</th>\n",
       "      <th>month</th>\n",
       "      <th>calls</th>\n",
       "      <th>minutes</th>\n",
       "      <th>id</th>\n",
       "      <th>messages</th>\n",
       "      <th>mb_used_month</th>\n",
       "      <th>age</th>\n",
       "      <th>...</th>\n",
       "      <th>last_name</th>\n",
       "      <th>reg_date</th>\n",
       "      <th>tariff</th>\n",
       "      <th>messages_included</th>\n",
       "      <th>mb_per_month_included</th>\n",
       "      <th>minutes_included</th>\n",
       "      <th>rub_monthly_fee</th>\n",
       "      <th>rub_per_gb</th>\n",
       "      <th>rub_per_message</th>\n",
       "      <th>rub_per_minute</th>\n",
       "    </tr>\n",
       "  </thead>\n",
       "  <tbody>\n",
       "    <tr>\n",
       "      <td>0</td>\n",
       "      <td>1000</td>\n",
       "      <td>5.0</td>\n",
       "      <td>1000.0</td>\n",
       "      <td>5.0</td>\n",
       "      <td>22.0</td>\n",
       "      <td>159.0</td>\n",
       "      <td>22.0</td>\n",
       "      <td>22.0</td>\n",
       "      <td>2256.0</td>\n",
       "      <td>52</td>\n",
       "      <td>...</td>\n",
       "      <td>Верещагин</td>\n",
       "      <td>2018-05-25</td>\n",
       "      <td>ultra</td>\n",
       "      <td>1000</td>\n",
       "      <td>30720</td>\n",
       "      <td>3000</td>\n",
       "      <td>1950</td>\n",
       "      <td>150</td>\n",
       "      <td>1</td>\n",
       "      <td>1</td>\n",
       "    </tr>\n",
       "    <tr>\n",
       "      <td>1</td>\n",
       "      <td>1000</td>\n",
       "      <td>6.0</td>\n",
       "      <td>1000.0</td>\n",
       "      <td>6.0</td>\n",
       "      <td>43.0</td>\n",
       "      <td>172.0</td>\n",
       "      <td>60.0</td>\n",
       "      <td>60.0</td>\n",
       "      <td>23257.0</td>\n",
       "      <td>52</td>\n",
       "      <td>...</td>\n",
       "      <td>Верещагин</td>\n",
       "      <td>2018-05-25</td>\n",
       "      <td>ultra</td>\n",
       "      <td>1000</td>\n",
       "      <td>30720</td>\n",
       "      <td>3000</td>\n",
       "      <td>1950</td>\n",
       "      <td>150</td>\n",
       "      <td>1</td>\n",
       "      <td>1</td>\n",
       "    </tr>\n",
       "    <tr>\n",
       "      <td>2</td>\n",
       "      <td>1000</td>\n",
       "      <td>7.0</td>\n",
       "      <td>1000.0</td>\n",
       "      <td>7.0</td>\n",
       "      <td>47.0</td>\n",
       "      <td>340.0</td>\n",
       "      <td>75.0</td>\n",
       "      <td>75.0</td>\n",
       "      <td>14016.0</td>\n",
       "      <td>52</td>\n",
       "      <td>...</td>\n",
       "      <td>Верещагин</td>\n",
       "      <td>2018-05-25</td>\n",
       "      <td>ultra</td>\n",
       "      <td>1000</td>\n",
       "      <td>30720</td>\n",
       "      <td>3000</td>\n",
       "      <td>1950</td>\n",
       "      <td>150</td>\n",
       "      <td>1</td>\n",
       "      <td>1</td>\n",
       "    </tr>\n",
       "    <tr>\n",
       "      <td>3</td>\n",
       "      <td>1000</td>\n",
       "      <td>8.0</td>\n",
       "      <td>1000.0</td>\n",
       "      <td>8.0</td>\n",
       "      <td>52.0</td>\n",
       "      <td>409.0</td>\n",
       "      <td>81.0</td>\n",
       "      <td>81.0</td>\n",
       "      <td>14070.0</td>\n",
       "      <td>52</td>\n",
       "      <td>...</td>\n",
       "      <td>Верещагин</td>\n",
       "      <td>2018-05-25</td>\n",
       "      <td>ultra</td>\n",
       "      <td>1000</td>\n",
       "      <td>30720</td>\n",
       "      <td>3000</td>\n",
       "      <td>1950</td>\n",
       "      <td>150</td>\n",
       "      <td>1</td>\n",
       "      <td>1</td>\n",
       "    </tr>\n",
       "    <tr>\n",
       "      <td>4</td>\n",
       "      <td>1000</td>\n",
       "      <td>9.0</td>\n",
       "      <td>1000.0</td>\n",
       "      <td>9.0</td>\n",
       "      <td>58.0</td>\n",
       "      <td>467.0</td>\n",
       "      <td>57.0</td>\n",
       "      <td>57.0</td>\n",
       "      <td>14581.0</td>\n",
       "      <td>52</td>\n",
       "      <td>...</td>\n",
       "      <td>Верещагин</td>\n",
       "      <td>2018-05-25</td>\n",
       "      <td>ultra</td>\n",
       "      <td>1000</td>\n",
       "      <td>30720</td>\n",
       "      <td>3000</td>\n",
       "      <td>1950</td>\n",
       "      <td>150</td>\n",
       "      <td>1</td>\n",
       "      <td>1</td>\n",
       "    </tr>\n",
       "  </tbody>\n",
       "</table>\n",
       "<p>5 rows × 23 columns</p>\n",
       "</div>"
      ],
      "text/plain": [
       "   user_id  month  user_id_1  month  calls  minutes    id  messages  \\\n",
       "0     1000    5.0     1000.0    5.0   22.0    159.0  22.0      22.0   \n",
       "1     1000    6.0     1000.0    6.0   43.0    172.0  60.0      60.0   \n",
       "2     1000    7.0     1000.0    7.0   47.0    340.0  75.0      75.0   \n",
       "3     1000    8.0     1000.0    8.0   52.0    409.0  81.0      81.0   \n",
       "4     1000    9.0     1000.0    9.0   58.0    467.0  57.0      57.0   \n",
       "\n",
       "   mb_used_month  age  ...  last_name   reg_date tariff messages_included  \\\n",
       "0         2256.0   52  ...  Верещагин 2018-05-25  ultra              1000   \n",
       "1        23257.0   52  ...  Верещагин 2018-05-25  ultra              1000   \n",
       "2        14016.0   52  ...  Верещагин 2018-05-25  ultra              1000   \n",
       "3        14070.0   52  ...  Верещагин 2018-05-25  ultra              1000   \n",
       "4        14581.0   52  ...  Верещагин 2018-05-25  ultra              1000   \n",
       "\n",
       "  mb_per_month_included minutes_included  rub_monthly_fee  rub_per_gb  \\\n",
       "0                 30720             3000             1950         150   \n",
       "1                 30720             3000             1950         150   \n",
       "2                 30720             3000             1950         150   \n",
       "3                 30720             3000             1950         150   \n",
       "4                 30720             3000             1950         150   \n",
       "\n",
       "   rub_per_message  rub_per_minute  \n",
       "0                1               1  \n",
       "1                1               1  \n",
       "2                1               1  \n",
       "3                1               1  \n",
       "4                1               1  \n",
       "\n",
       "[5 rows x 23 columns]"
      ]
     },
     "execution_count": 28,
     "metadata": {},
     "output_type": "execute_result"
    }
   ],
   "source": [
    "df_5 = df_4.merge(users_df, on='user_id', how='outer')\n",
    "df_5 = df_5.fillna(0)\n",
    "tariffs_df.rename(columns={'tariff_name': 'tariff'}, inplace=True)\n",
    "df_6 = df_5.merge(tariffs_df, on='tariff', how='outer')\n",
    "df_6.head()"
   ]
  },
  {
   "cell_type": "markdown",
   "metadata": {},
   "source": [
    "6.12 Посчитал переплату за минуты сверхтарифа."
   ]
  },
  {
   "cell_type": "code",
   "execution_count": 29,
   "metadata": {},
   "outputs": [
    {
     "data": {
      "text/html": [
       "<div>\n",
       "<style scoped>\n",
       "    .dataframe tbody tr th:only-of-type {\n",
       "        vertical-align: middle;\n",
       "    }\n",
       "\n",
       "    .dataframe tbody tr th {\n",
       "        vertical-align: top;\n",
       "    }\n",
       "\n",
       "    .dataframe thead th {\n",
       "        text-align: right;\n",
       "    }\n",
       "</style>\n",
       "<table border=\"1\" class=\"dataframe\">\n",
       "  <thead>\n",
       "    <tr style=\"text-align: right;\">\n",
       "      <th></th>\n",
       "      <th>user_id</th>\n",
       "      <th>month</th>\n",
       "      <th>user_id_1</th>\n",
       "      <th>month</th>\n",
       "      <th>calls</th>\n",
       "      <th>minutes</th>\n",
       "      <th>id</th>\n",
       "      <th>messages</th>\n",
       "      <th>mb_used_month</th>\n",
       "      <th>age</th>\n",
       "      <th>...</th>\n",
       "      <th>reg_date</th>\n",
       "      <th>tariff</th>\n",
       "      <th>messages_included</th>\n",
       "      <th>mb_per_month_included</th>\n",
       "      <th>minutes_included</th>\n",
       "      <th>rub_monthly_fee</th>\n",
       "      <th>rub_per_gb</th>\n",
       "      <th>rub_per_message</th>\n",
       "      <th>rub_per_minute</th>\n",
       "      <th>minutes_month_over_pay</th>\n",
       "    </tr>\n",
       "  </thead>\n",
       "  <tbody>\n",
       "    <tr>\n",
       "      <td>3206</td>\n",
       "      <td>1499</td>\n",
       "      <td>9.0</td>\n",
       "      <td>1499.0</td>\n",
       "      <td>9.0</td>\n",
       "      <td>9.0</td>\n",
       "      <td>70.0</td>\n",
       "      <td>11.0</td>\n",
       "      <td>11.0</td>\n",
       "      <td>1848.0</td>\n",
       "      <td>35</td>\n",
       "      <td>...</td>\n",
       "      <td>2018-09-27</td>\n",
       "      <td>smart</td>\n",
       "      <td>50</td>\n",
       "      <td>15360</td>\n",
       "      <td>500</td>\n",
       "      <td>550</td>\n",
       "      <td>200</td>\n",
       "      <td>3</td>\n",
       "      <td>3</td>\n",
       "      <td>0.0</td>\n",
       "    </tr>\n",
       "    <tr>\n",
       "      <td>3207</td>\n",
       "      <td>1499</td>\n",
       "      <td>10.0</td>\n",
       "      <td>1499.0</td>\n",
       "      <td>10.0</td>\n",
       "      <td>68.0</td>\n",
       "      <td>449.0</td>\n",
       "      <td>48.0</td>\n",
       "      <td>48.0</td>\n",
       "      <td>17809.0</td>\n",
       "      <td>35</td>\n",
       "      <td>...</td>\n",
       "      <td>2018-09-27</td>\n",
       "      <td>smart</td>\n",
       "      <td>50</td>\n",
       "      <td>15360</td>\n",
       "      <td>500</td>\n",
       "      <td>550</td>\n",
       "      <td>200</td>\n",
       "      <td>3</td>\n",
       "      <td>3</td>\n",
       "      <td>0.0</td>\n",
       "    </tr>\n",
       "    <tr>\n",
       "      <td>3208</td>\n",
       "      <td>1499</td>\n",
       "      <td>11.0</td>\n",
       "      <td>1499.0</td>\n",
       "      <td>11.0</td>\n",
       "      <td>74.0</td>\n",
       "      <td>612.0</td>\n",
       "      <td>59.0</td>\n",
       "      <td>59.0</td>\n",
       "      <td>17984.0</td>\n",
       "      <td>35</td>\n",
       "      <td>...</td>\n",
       "      <td>2018-09-27</td>\n",
       "      <td>smart</td>\n",
       "      <td>50</td>\n",
       "      <td>15360</td>\n",
       "      <td>500</td>\n",
       "      <td>550</td>\n",
       "      <td>200</td>\n",
       "      <td>3</td>\n",
       "      <td>3</td>\n",
       "      <td>336.0</td>\n",
       "    </tr>\n",
       "    <tr>\n",
       "      <td>3209</td>\n",
       "      <td>1499</td>\n",
       "      <td>12.0</td>\n",
       "      <td>1499.0</td>\n",
       "      <td>12.0</td>\n",
       "      <td>69.0</td>\n",
       "      <td>492.0</td>\n",
       "      <td>66.0</td>\n",
       "      <td>66.0</td>\n",
       "      <td>13077.0</td>\n",
       "      <td>35</td>\n",
       "      <td>...</td>\n",
       "      <td>2018-09-27</td>\n",
       "      <td>smart</td>\n",
       "      <td>50</td>\n",
       "      <td>15360</td>\n",
       "      <td>500</td>\n",
       "      <td>550</td>\n",
       "      <td>200</td>\n",
       "      <td>3</td>\n",
       "      <td>3</td>\n",
       "      <td>0.0</td>\n",
       "    </tr>\n",
       "    <tr>\n",
       "      <td>3210</td>\n",
       "      <td>1489</td>\n",
       "      <td>8.0</td>\n",
       "      <td>0.0</td>\n",
       "      <td>0.0</td>\n",
       "      <td>0.0</td>\n",
       "      <td>0.0</td>\n",
       "      <td>17.0</td>\n",
       "      <td>17.0</td>\n",
       "      <td>11066.0</td>\n",
       "      <td>35</td>\n",
       "      <td>...</td>\n",
       "      <td>2018-08-15</td>\n",
       "      <td>smart</td>\n",
       "      <td>50</td>\n",
       "      <td>15360</td>\n",
       "      <td>500</td>\n",
       "      <td>550</td>\n",
       "      <td>200</td>\n",
       "      <td>3</td>\n",
       "      <td>3</td>\n",
       "      <td>0.0</td>\n",
       "    </tr>\n",
       "    <tr>\n",
       "      <td>3211</td>\n",
       "      <td>1489</td>\n",
       "      <td>9.0</td>\n",
       "      <td>0.0</td>\n",
       "      <td>0.0</td>\n",
       "      <td>0.0</td>\n",
       "      <td>0.0</td>\n",
       "      <td>32.0</td>\n",
       "      <td>32.0</td>\n",
       "      <td>17232.0</td>\n",
       "      <td>35</td>\n",
       "      <td>...</td>\n",
       "      <td>2018-08-15</td>\n",
       "      <td>smart</td>\n",
       "      <td>50</td>\n",
       "      <td>15360</td>\n",
       "      <td>500</td>\n",
       "      <td>550</td>\n",
       "      <td>200</td>\n",
       "      <td>3</td>\n",
       "      <td>3</td>\n",
       "      <td>0.0</td>\n",
       "    </tr>\n",
       "    <tr>\n",
       "      <td>3212</td>\n",
       "      <td>1489</td>\n",
       "      <td>10.0</td>\n",
       "      <td>0.0</td>\n",
       "      <td>0.0</td>\n",
       "      <td>0.0</td>\n",
       "      <td>0.0</td>\n",
       "      <td>21.0</td>\n",
       "      <td>21.0</td>\n",
       "      <td>19588.0</td>\n",
       "      <td>35</td>\n",
       "      <td>...</td>\n",
       "      <td>2018-08-15</td>\n",
       "      <td>smart</td>\n",
       "      <td>50</td>\n",
       "      <td>15360</td>\n",
       "      <td>500</td>\n",
       "      <td>550</td>\n",
       "      <td>200</td>\n",
       "      <td>3</td>\n",
       "      <td>3</td>\n",
       "      <td>0.0</td>\n",
       "    </tr>\n",
       "    <tr>\n",
       "      <td>3213</td>\n",
       "      <td>1489</td>\n",
       "      <td>11.0</td>\n",
       "      <td>0.0</td>\n",
       "      <td>0.0</td>\n",
       "      <td>0.0</td>\n",
       "      <td>0.0</td>\n",
       "      <td>20.0</td>\n",
       "      <td>20.0</td>\n",
       "      <td>17516.0</td>\n",
       "      <td>35</td>\n",
       "      <td>...</td>\n",
       "      <td>2018-08-15</td>\n",
       "      <td>smart</td>\n",
       "      <td>50</td>\n",
       "      <td>15360</td>\n",
       "      <td>500</td>\n",
       "      <td>550</td>\n",
       "      <td>200</td>\n",
       "      <td>3</td>\n",
       "      <td>3</td>\n",
       "      <td>0.0</td>\n",
       "    </tr>\n",
       "    <tr>\n",
       "      <td>3214</td>\n",
       "      <td>1489</td>\n",
       "      <td>12.0</td>\n",
       "      <td>0.0</td>\n",
       "      <td>0.0</td>\n",
       "      <td>0.0</td>\n",
       "      <td>0.0</td>\n",
       "      <td>35.0</td>\n",
       "      <td>35.0</td>\n",
       "      <td>17341.0</td>\n",
       "      <td>35</td>\n",
       "      <td>...</td>\n",
       "      <td>2018-08-15</td>\n",
       "      <td>smart</td>\n",
       "      <td>50</td>\n",
       "      <td>15360</td>\n",
       "      <td>500</td>\n",
       "      <td>550</td>\n",
       "      <td>200</td>\n",
       "      <td>3</td>\n",
       "      <td>3</td>\n",
       "      <td>0.0</td>\n",
       "    </tr>\n",
       "    <tr>\n",
       "      <td>3215</td>\n",
       "      <td>1371</td>\n",
       "      <td>0.0</td>\n",
       "      <td>0.0</td>\n",
       "      <td>0.0</td>\n",
       "      <td>0.0</td>\n",
       "      <td>0.0</td>\n",
       "      <td>0.0</td>\n",
       "      <td>0.0</td>\n",
       "      <td>0.0</td>\n",
       "      <td>50</td>\n",
       "      <td>...</td>\n",
       "      <td>2018-12-25</td>\n",
       "      <td>smart</td>\n",
       "      <td>50</td>\n",
       "      <td>15360</td>\n",
       "      <td>500</td>\n",
       "      <td>550</td>\n",
       "      <td>200</td>\n",
       "      <td>3</td>\n",
       "      <td>3</td>\n",
       "      <td>0.0</td>\n",
       "    </tr>\n",
       "  </tbody>\n",
       "</table>\n",
       "<p>10 rows × 24 columns</p>\n",
       "</div>"
      ],
      "text/plain": [
       "      user_id  month  user_id_1  month  calls  minutes    id  messages  \\\n",
       "3206     1499    9.0     1499.0    9.0    9.0     70.0  11.0      11.0   \n",
       "3207     1499   10.0     1499.0   10.0   68.0    449.0  48.0      48.0   \n",
       "3208     1499   11.0     1499.0   11.0   74.0    612.0  59.0      59.0   \n",
       "3209     1499   12.0     1499.0   12.0   69.0    492.0  66.0      66.0   \n",
       "3210     1489    8.0        0.0    0.0    0.0      0.0  17.0      17.0   \n",
       "3211     1489    9.0        0.0    0.0    0.0      0.0  32.0      32.0   \n",
       "3212     1489   10.0        0.0    0.0    0.0      0.0  21.0      21.0   \n",
       "3213     1489   11.0        0.0    0.0    0.0      0.0  20.0      20.0   \n",
       "3214     1489   12.0        0.0    0.0    0.0      0.0  35.0      35.0   \n",
       "3215     1371    0.0        0.0    0.0    0.0      0.0   0.0       0.0   \n",
       "\n",
       "      mb_used_month  age  ...   reg_date tariff messages_included  \\\n",
       "3206         1848.0   35  ... 2018-09-27  smart                50   \n",
       "3207        17809.0   35  ... 2018-09-27  smart                50   \n",
       "3208        17984.0   35  ... 2018-09-27  smart                50   \n",
       "3209        13077.0   35  ... 2018-09-27  smart                50   \n",
       "3210        11066.0   35  ... 2018-08-15  smart                50   \n",
       "3211        17232.0   35  ... 2018-08-15  smart                50   \n",
       "3212        19588.0   35  ... 2018-08-15  smart                50   \n",
       "3213        17516.0   35  ... 2018-08-15  smart                50   \n",
       "3214        17341.0   35  ... 2018-08-15  smart                50   \n",
       "3215            0.0   50  ... 2018-12-25  smart                50   \n",
       "\n",
       "     mb_per_month_included minutes_included rub_monthly_fee  rub_per_gb  \\\n",
       "3206                 15360              500             550         200   \n",
       "3207                 15360              500             550         200   \n",
       "3208                 15360              500             550         200   \n",
       "3209                 15360              500             550         200   \n",
       "3210                 15360              500             550         200   \n",
       "3211                 15360              500             550         200   \n",
       "3212                 15360              500             550         200   \n",
       "3213                 15360              500             550         200   \n",
       "3214                 15360              500             550         200   \n",
       "3215                 15360              500             550         200   \n",
       "\n",
       "      rub_per_message  rub_per_minute  minutes_month_over_pay  \n",
       "3206                3               3                     0.0  \n",
       "3207                3               3                     0.0  \n",
       "3208                3               3                   336.0  \n",
       "3209                3               3                     0.0  \n",
       "3210                3               3                     0.0  \n",
       "3211                3               3                     0.0  \n",
       "3212                3               3                     0.0  \n",
       "3213                3               3                     0.0  \n",
       "3214                3               3                     0.0  \n",
       "3215                3               3                     0.0  \n",
       "\n",
       "[10 rows x 24 columns]"
      ]
     },
     "execution_count": 29,
     "metadata": {},
     "output_type": "execute_result"
    }
   ],
   "source": [
    "df_6['minutes_month_over_pay'] = df_6['minutes'].where(df_6['minutes'] > df_6['minutes_included'])\n",
    "df_6['minutes_month_over_pay'] = df_6['minutes_month_over_pay'].fillna(0)\n",
    "df_6['minutes_month_over_pay'] = df_6['minutes_month_over_pay'] - df_6['minutes_included']\n",
    "df_6['minutes_month_over_pay'] = df_6['minutes_month_over_pay'].replace(-df_6['minutes_included'], 0)\n",
    "df_6['minutes_month_over_pay'] = df_6['minutes_month_over_pay']*df_6['rub_per_minute']\n",
    "df_6.tail(10)"
   ]
  },
  {
   "cell_type": "markdown",
   "metadata": {},
   "source": [
    "6.13 Посчитал переплату за сообщения сверхатрифа."
   ]
  },
  {
   "cell_type": "code",
   "execution_count": 30,
   "metadata": {},
   "outputs": [
    {
     "data": {
      "text/html": [
       "<div>\n",
       "<style scoped>\n",
       "    .dataframe tbody tr th:only-of-type {\n",
       "        vertical-align: middle;\n",
       "    }\n",
       "\n",
       "    .dataframe tbody tr th {\n",
       "        vertical-align: top;\n",
       "    }\n",
       "\n",
       "    .dataframe thead th {\n",
       "        text-align: right;\n",
       "    }\n",
       "</style>\n",
       "<table border=\"1\" class=\"dataframe\">\n",
       "  <thead>\n",
       "    <tr style=\"text-align: right;\">\n",
       "      <th></th>\n",
       "      <th>user_id</th>\n",
       "      <th>month</th>\n",
       "      <th>user_id_1</th>\n",
       "      <th>month</th>\n",
       "      <th>calls</th>\n",
       "      <th>minutes</th>\n",
       "      <th>id</th>\n",
       "      <th>messages</th>\n",
       "      <th>mb_used_month</th>\n",
       "      <th>age</th>\n",
       "      <th>...</th>\n",
       "      <th>tariff</th>\n",
       "      <th>messages_included</th>\n",
       "      <th>mb_per_month_included</th>\n",
       "      <th>minutes_included</th>\n",
       "      <th>rub_monthly_fee</th>\n",
       "      <th>rub_per_gb</th>\n",
       "      <th>rub_per_message</th>\n",
       "      <th>rub_per_minute</th>\n",
       "      <th>minutes_month_over_pay</th>\n",
       "      <th>messages_month_over_pay</th>\n",
       "    </tr>\n",
       "  </thead>\n",
       "  <tbody>\n",
       "    <tr>\n",
       "      <td>3206</td>\n",
       "      <td>1499</td>\n",
       "      <td>9.0</td>\n",
       "      <td>1499.0</td>\n",
       "      <td>9.0</td>\n",
       "      <td>9.0</td>\n",
       "      <td>70.0</td>\n",
       "      <td>11.0</td>\n",
       "      <td>11.0</td>\n",
       "      <td>1848.0</td>\n",
       "      <td>35</td>\n",
       "      <td>...</td>\n",
       "      <td>smart</td>\n",
       "      <td>50</td>\n",
       "      <td>15360</td>\n",
       "      <td>500</td>\n",
       "      <td>550</td>\n",
       "      <td>200</td>\n",
       "      <td>3</td>\n",
       "      <td>3</td>\n",
       "      <td>0.0</td>\n",
       "      <td>0.0</td>\n",
       "    </tr>\n",
       "    <tr>\n",
       "      <td>3207</td>\n",
       "      <td>1499</td>\n",
       "      <td>10.0</td>\n",
       "      <td>1499.0</td>\n",
       "      <td>10.0</td>\n",
       "      <td>68.0</td>\n",
       "      <td>449.0</td>\n",
       "      <td>48.0</td>\n",
       "      <td>48.0</td>\n",
       "      <td>17809.0</td>\n",
       "      <td>35</td>\n",
       "      <td>...</td>\n",
       "      <td>smart</td>\n",
       "      <td>50</td>\n",
       "      <td>15360</td>\n",
       "      <td>500</td>\n",
       "      <td>550</td>\n",
       "      <td>200</td>\n",
       "      <td>3</td>\n",
       "      <td>3</td>\n",
       "      <td>0.0</td>\n",
       "      <td>0.0</td>\n",
       "    </tr>\n",
       "    <tr>\n",
       "      <td>3208</td>\n",
       "      <td>1499</td>\n",
       "      <td>11.0</td>\n",
       "      <td>1499.0</td>\n",
       "      <td>11.0</td>\n",
       "      <td>74.0</td>\n",
       "      <td>612.0</td>\n",
       "      <td>59.0</td>\n",
       "      <td>59.0</td>\n",
       "      <td>17984.0</td>\n",
       "      <td>35</td>\n",
       "      <td>...</td>\n",
       "      <td>smart</td>\n",
       "      <td>50</td>\n",
       "      <td>15360</td>\n",
       "      <td>500</td>\n",
       "      <td>550</td>\n",
       "      <td>200</td>\n",
       "      <td>3</td>\n",
       "      <td>3</td>\n",
       "      <td>336.0</td>\n",
       "      <td>27.0</td>\n",
       "    </tr>\n",
       "    <tr>\n",
       "      <td>3209</td>\n",
       "      <td>1499</td>\n",
       "      <td>12.0</td>\n",
       "      <td>1499.0</td>\n",
       "      <td>12.0</td>\n",
       "      <td>69.0</td>\n",
       "      <td>492.0</td>\n",
       "      <td>66.0</td>\n",
       "      <td>66.0</td>\n",
       "      <td>13077.0</td>\n",
       "      <td>35</td>\n",
       "      <td>...</td>\n",
       "      <td>smart</td>\n",
       "      <td>50</td>\n",
       "      <td>15360</td>\n",
       "      <td>500</td>\n",
       "      <td>550</td>\n",
       "      <td>200</td>\n",
       "      <td>3</td>\n",
       "      <td>3</td>\n",
       "      <td>0.0</td>\n",
       "      <td>48.0</td>\n",
       "    </tr>\n",
       "    <tr>\n",
       "      <td>3210</td>\n",
       "      <td>1489</td>\n",
       "      <td>8.0</td>\n",
       "      <td>0.0</td>\n",
       "      <td>0.0</td>\n",
       "      <td>0.0</td>\n",
       "      <td>0.0</td>\n",
       "      <td>17.0</td>\n",
       "      <td>17.0</td>\n",
       "      <td>11066.0</td>\n",
       "      <td>35</td>\n",
       "      <td>...</td>\n",
       "      <td>smart</td>\n",
       "      <td>50</td>\n",
       "      <td>15360</td>\n",
       "      <td>500</td>\n",
       "      <td>550</td>\n",
       "      <td>200</td>\n",
       "      <td>3</td>\n",
       "      <td>3</td>\n",
       "      <td>0.0</td>\n",
       "      <td>0.0</td>\n",
       "    </tr>\n",
       "    <tr>\n",
       "      <td>3211</td>\n",
       "      <td>1489</td>\n",
       "      <td>9.0</td>\n",
       "      <td>0.0</td>\n",
       "      <td>0.0</td>\n",
       "      <td>0.0</td>\n",
       "      <td>0.0</td>\n",
       "      <td>32.0</td>\n",
       "      <td>32.0</td>\n",
       "      <td>17232.0</td>\n",
       "      <td>35</td>\n",
       "      <td>...</td>\n",
       "      <td>smart</td>\n",
       "      <td>50</td>\n",
       "      <td>15360</td>\n",
       "      <td>500</td>\n",
       "      <td>550</td>\n",
       "      <td>200</td>\n",
       "      <td>3</td>\n",
       "      <td>3</td>\n",
       "      <td>0.0</td>\n",
       "      <td>0.0</td>\n",
       "    </tr>\n",
       "    <tr>\n",
       "      <td>3212</td>\n",
       "      <td>1489</td>\n",
       "      <td>10.0</td>\n",
       "      <td>0.0</td>\n",
       "      <td>0.0</td>\n",
       "      <td>0.0</td>\n",
       "      <td>0.0</td>\n",
       "      <td>21.0</td>\n",
       "      <td>21.0</td>\n",
       "      <td>19588.0</td>\n",
       "      <td>35</td>\n",
       "      <td>...</td>\n",
       "      <td>smart</td>\n",
       "      <td>50</td>\n",
       "      <td>15360</td>\n",
       "      <td>500</td>\n",
       "      <td>550</td>\n",
       "      <td>200</td>\n",
       "      <td>3</td>\n",
       "      <td>3</td>\n",
       "      <td>0.0</td>\n",
       "      <td>0.0</td>\n",
       "    </tr>\n",
       "    <tr>\n",
       "      <td>3213</td>\n",
       "      <td>1489</td>\n",
       "      <td>11.0</td>\n",
       "      <td>0.0</td>\n",
       "      <td>0.0</td>\n",
       "      <td>0.0</td>\n",
       "      <td>0.0</td>\n",
       "      <td>20.0</td>\n",
       "      <td>20.0</td>\n",
       "      <td>17516.0</td>\n",
       "      <td>35</td>\n",
       "      <td>...</td>\n",
       "      <td>smart</td>\n",
       "      <td>50</td>\n",
       "      <td>15360</td>\n",
       "      <td>500</td>\n",
       "      <td>550</td>\n",
       "      <td>200</td>\n",
       "      <td>3</td>\n",
       "      <td>3</td>\n",
       "      <td>0.0</td>\n",
       "      <td>0.0</td>\n",
       "    </tr>\n",
       "    <tr>\n",
       "      <td>3214</td>\n",
       "      <td>1489</td>\n",
       "      <td>12.0</td>\n",
       "      <td>0.0</td>\n",
       "      <td>0.0</td>\n",
       "      <td>0.0</td>\n",
       "      <td>0.0</td>\n",
       "      <td>35.0</td>\n",
       "      <td>35.0</td>\n",
       "      <td>17341.0</td>\n",
       "      <td>35</td>\n",
       "      <td>...</td>\n",
       "      <td>smart</td>\n",
       "      <td>50</td>\n",
       "      <td>15360</td>\n",
       "      <td>500</td>\n",
       "      <td>550</td>\n",
       "      <td>200</td>\n",
       "      <td>3</td>\n",
       "      <td>3</td>\n",
       "      <td>0.0</td>\n",
       "      <td>0.0</td>\n",
       "    </tr>\n",
       "    <tr>\n",
       "      <td>3215</td>\n",
       "      <td>1371</td>\n",
       "      <td>0.0</td>\n",
       "      <td>0.0</td>\n",
       "      <td>0.0</td>\n",
       "      <td>0.0</td>\n",
       "      <td>0.0</td>\n",
       "      <td>0.0</td>\n",
       "      <td>0.0</td>\n",
       "      <td>0.0</td>\n",
       "      <td>50</td>\n",
       "      <td>...</td>\n",
       "      <td>smart</td>\n",
       "      <td>50</td>\n",
       "      <td>15360</td>\n",
       "      <td>500</td>\n",
       "      <td>550</td>\n",
       "      <td>200</td>\n",
       "      <td>3</td>\n",
       "      <td>3</td>\n",
       "      <td>0.0</td>\n",
       "      <td>0.0</td>\n",
       "    </tr>\n",
       "  </tbody>\n",
       "</table>\n",
       "<p>10 rows × 25 columns</p>\n",
       "</div>"
      ],
      "text/plain": [
       "      user_id  month  user_id_1  month  calls  minutes    id  messages  \\\n",
       "3206     1499    9.0     1499.0    9.0    9.0     70.0  11.0      11.0   \n",
       "3207     1499   10.0     1499.0   10.0   68.0    449.0  48.0      48.0   \n",
       "3208     1499   11.0     1499.0   11.0   74.0    612.0  59.0      59.0   \n",
       "3209     1499   12.0     1499.0   12.0   69.0    492.0  66.0      66.0   \n",
       "3210     1489    8.0        0.0    0.0    0.0      0.0  17.0      17.0   \n",
       "3211     1489    9.0        0.0    0.0    0.0      0.0  32.0      32.0   \n",
       "3212     1489   10.0        0.0    0.0    0.0      0.0  21.0      21.0   \n",
       "3213     1489   11.0        0.0    0.0    0.0      0.0  20.0      20.0   \n",
       "3214     1489   12.0        0.0    0.0    0.0      0.0  35.0      35.0   \n",
       "3215     1371    0.0        0.0    0.0    0.0      0.0   0.0       0.0   \n",
       "\n",
       "      mb_used_month  age  ... tariff messages_included mb_per_month_included  \\\n",
       "3206         1848.0   35  ...  smart                50                 15360   \n",
       "3207        17809.0   35  ...  smart                50                 15360   \n",
       "3208        17984.0   35  ...  smart                50                 15360   \n",
       "3209        13077.0   35  ...  smart                50                 15360   \n",
       "3210        11066.0   35  ...  smart                50                 15360   \n",
       "3211        17232.0   35  ...  smart                50                 15360   \n",
       "3212        19588.0   35  ...  smart                50                 15360   \n",
       "3213        17516.0   35  ...  smart                50                 15360   \n",
       "3214        17341.0   35  ...  smart                50                 15360   \n",
       "3215            0.0   50  ...  smart                50                 15360   \n",
       "\n",
       "     minutes_included rub_monthly_fee rub_per_gb  rub_per_message  \\\n",
       "3206              500             550        200                3   \n",
       "3207              500             550        200                3   \n",
       "3208              500             550        200                3   \n",
       "3209              500             550        200                3   \n",
       "3210              500             550        200                3   \n",
       "3211              500             550        200                3   \n",
       "3212              500             550        200                3   \n",
       "3213              500             550        200                3   \n",
       "3214              500             550        200                3   \n",
       "3215              500             550        200                3   \n",
       "\n",
       "      rub_per_minute  minutes_month_over_pay  messages_month_over_pay  \n",
       "3206               3                     0.0                      0.0  \n",
       "3207               3                     0.0                      0.0  \n",
       "3208               3                   336.0                     27.0  \n",
       "3209               3                     0.0                     48.0  \n",
       "3210               3                     0.0                      0.0  \n",
       "3211               3                     0.0                      0.0  \n",
       "3212               3                     0.0                      0.0  \n",
       "3213               3                     0.0                      0.0  \n",
       "3214               3                     0.0                      0.0  \n",
       "3215               3                     0.0                      0.0  \n",
       "\n",
       "[10 rows x 25 columns]"
      ]
     },
     "execution_count": 30,
     "metadata": {},
     "output_type": "execute_result"
    }
   ],
   "source": [
    "df_6['messages_month_over_pay'] = df_6['messages'].where(df_6['messages'] > df_6['messages_included'])\n",
    "df_6['messages_month_over_pay'] = df_6['messages_month_over_pay'].fillna(0)\n",
    "df_6['messages_month_over_pay'] = df_6['messages_month_over_pay'] - df_6['messages_included']\n",
    "df_6['messages_month_over_pay'] = df_6['messages_month_over_pay'].replace(-df_6['messages_included'], 0)\n",
    "df_6['messages_month_over_pay'] = df_6['messages_month_over_pay']*df_6['rub_per_message']\n",
    "df_6.tail(10)"
   ]
  },
  {
   "cell_type": "markdown",
   "metadata": {},
   "source": [
    "6.14 Посчитал переплату за интернет-трафик."
   ]
  },
  {
   "cell_type": "code",
   "execution_count": 31,
   "metadata": {},
   "outputs": [
    {
     "data": {
      "text/html": [
       "<div>\n",
       "<style scoped>\n",
       "    .dataframe tbody tr th:only-of-type {\n",
       "        vertical-align: middle;\n",
       "    }\n",
       "\n",
       "    .dataframe tbody tr th {\n",
       "        vertical-align: top;\n",
       "    }\n",
       "\n",
       "    .dataframe thead th {\n",
       "        text-align: right;\n",
       "    }\n",
       "</style>\n",
       "<table border=\"1\" class=\"dataframe\">\n",
       "  <thead>\n",
       "    <tr style=\"text-align: right;\">\n",
       "      <th></th>\n",
       "      <th>user_id</th>\n",
       "      <th>month</th>\n",
       "      <th>user_id_1</th>\n",
       "      <th>month</th>\n",
       "      <th>calls</th>\n",
       "      <th>minutes</th>\n",
       "      <th>id</th>\n",
       "      <th>messages</th>\n",
       "      <th>mb_used_month</th>\n",
       "      <th>age</th>\n",
       "      <th>...</th>\n",
       "      <th>messages_included</th>\n",
       "      <th>mb_per_month_included</th>\n",
       "      <th>minutes_included</th>\n",
       "      <th>rub_monthly_fee</th>\n",
       "      <th>rub_per_gb</th>\n",
       "      <th>rub_per_message</th>\n",
       "      <th>rub_per_minute</th>\n",
       "      <th>minutes_month_over_pay</th>\n",
       "      <th>messages_month_over_pay</th>\n",
       "      <th>mb_month_over_pay</th>\n",
       "    </tr>\n",
       "  </thead>\n",
       "  <tbody>\n",
       "    <tr>\n",
       "      <td>3206</td>\n",
       "      <td>1499</td>\n",
       "      <td>9.0</td>\n",
       "      <td>1499.0</td>\n",
       "      <td>9.0</td>\n",
       "      <td>9.0</td>\n",
       "      <td>70.0</td>\n",
       "      <td>11.0</td>\n",
       "      <td>11.0</td>\n",
       "      <td>1848.0</td>\n",
       "      <td>35</td>\n",
       "      <td>...</td>\n",
       "      <td>50</td>\n",
       "      <td>15360</td>\n",
       "      <td>500</td>\n",
       "      <td>550</td>\n",
       "      <td>200</td>\n",
       "      <td>3</td>\n",
       "      <td>3</td>\n",
       "      <td>0.0</td>\n",
       "      <td>0.0</td>\n",
       "      <td>0.0</td>\n",
       "    </tr>\n",
       "    <tr>\n",
       "      <td>3207</td>\n",
       "      <td>1499</td>\n",
       "      <td>10.0</td>\n",
       "      <td>1499.0</td>\n",
       "      <td>10.0</td>\n",
       "      <td>68.0</td>\n",
       "      <td>449.0</td>\n",
       "      <td>48.0</td>\n",
       "      <td>48.0</td>\n",
       "      <td>17809.0</td>\n",
       "      <td>35</td>\n",
       "      <td>...</td>\n",
       "      <td>50</td>\n",
       "      <td>15360</td>\n",
       "      <td>500</td>\n",
       "      <td>550</td>\n",
       "      <td>200</td>\n",
       "      <td>3</td>\n",
       "      <td>3</td>\n",
       "      <td>0.0</td>\n",
       "      <td>0.0</td>\n",
       "      <td>600.0</td>\n",
       "    </tr>\n",
       "    <tr>\n",
       "      <td>3208</td>\n",
       "      <td>1499</td>\n",
       "      <td>11.0</td>\n",
       "      <td>1499.0</td>\n",
       "      <td>11.0</td>\n",
       "      <td>74.0</td>\n",
       "      <td>612.0</td>\n",
       "      <td>59.0</td>\n",
       "      <td>59.0</td>\n",
       "      <td>17984.0</td>\n",
       "      <td>35</td>\n",
       "      <td>...</td>\n",
       "      <td>50</td>\n",
       "      <td>15360</td>\n",
       "      <td>500</td>\n",
       "      <td>550</td>\n",
       "      <td>200</td>\n",
       "      <td>3</td>\n",
       "      <td>3</td>\n",
       "      <td>336.0</td>\n",
       "      <td>27.0</td>\n",
       "      <td>600.0</td>\n",
       "    </tr>\n",
       "    <tr>\n",
       "      <td>3209</td>\n",
       "      <td>1499</td>\n",
       "      <td>12.0</td>\n",
       "      <td>1499.0</td>\n",
       "      <td>12.0</td>\n",
       "      <td>69.0</td>\n",
       "      <td>492.0</td>\n",
       "      <td>66.0</td>\n",
       "      <td>66.0</td>\n",
       "      <td>13077.0</td>\n",
       "      <td>35</td>\n",
       "      <td>...</td>\n",
       "      <td>50</td>\n",
       "      <td>15360</td>\n",
       "      <td>500</td>\n",
       "      <td>550</td>\n",
       "      <td>200</td>\n",
       "      <td>3</td>\n",
       "      <td>3</td>\n",
       "      <td>0.0</td>\n",
       "      <td>48.0</td>\n",
       "      <td>0.0</td>\n",
       "    </tr>\n",
       "    <tr>\n",
       "      <td>3210</td>\n",
       "      <td>1489</td>\n",
       "      <td>8.0</td>\n",
       "      <td>0.0</td>\n",
       "      <td>0.0</td>\n",
       "      <td>0.0</td>\n",
       "      <td>0.0</td>\n",
       "      <td>17.0</td>\n",
       "      <td>17.0</td>\n",
       "      <td>11066.0</td>\n",
       "      <td>35</td>\n",
       "      <td>...</td>\n",
       "      <td>50</td>\n",
       "      <td>15360</td>\n",
       "      <td>500</td>\n",
       "      <td>550</td>\n",
       "      <td>200</td>\n",
       "      <td>3</td>\n",
       "      <td>3</td>\n",
       "      <td>0.0</td>\n",
       "      <td>0.0</td>\n",
       "      <td>0.0</td>\n",
       "    </tr>\n",
       "    <tr>\n",
       "      <td>3211</td>\n",
       "      <td>1489</td>\n",
       "      <td>9.0</td>\n",
       "      <td>0.0</td>\n",
       "      <td>0.0</td>\n",
       "      <td>0.0</td>\n",
       "      <td>0.0</td>\n",
       "      <td>32.0</td>\n",
       "      <td>32.0</td>\n",
       "      <td>17232.0</td>\n",
       "      <td>35</td>\n",
       "      <td>...</td>\n",
       "      <td>50</td>\n",
       "      <td>15360</td>\n",
       "      <td>500</td>\n",
       "      <td>550</td>\n",
       "      <td>200</td>\n",
       "      <td>3</td>\n",
       "      <td>3</td>\n",
       "      <td>0.0</td>\n",
       "      <td>0.0</td>\n",
       "      <td>400.0</td>\n",
       "    </tr>\n",
       "    <tr>\n",
       "      <td>3212</td>\n",
       "      <td>1489</td>\n",
       "      <td>10.0</td>\n",
       "      <td>0.0</td>\n",
       "      <td>0.0</td>\n",
       "      <td>0.0</td>\n",
       "      <td>0.0</td>\n",
       "      <td>21.0</td>\n",
       "      <td>21.0</td>\n",
       "      <td>19588.0</td>\n",
       "      <td>35</td>\n",
       "      <td>...</td>\n",
       "      <td>50</td>\n",
       "      <td>15360</td>\n",
       "      <td>500</td>\n",
       "      <td>550</td>\n",
       "      <td>200</td>\n",
       "      <td>3</td>\n",
       "      <td>3</td>\n",
       "      <td>0.0</td>\n",
       "      <td>0.0</td>\n",
       "      <td>1000.0</td>\n",
       "    </tr>\n",
       "    <tr>\n",
       "      <td>3213</td>\n",
       "      <td>1489</td>\n",
       "      <td>11.0</td>\n",
       "      <td>0.0</td>\n",
       "      <td>0.0</td>\n",
       "      <td>0.0</td>\n",
       "      <td>0.0</td>\n",
       "      <td>20.0</td>\n",
       "      <td>20.0</td>\n",
       "      <td>17516.0</td>\n",
       "      <td>35</td>\n",
       "      <td>...</td>\n",
       "      <td>50</td>\n",
       "      <td>15360</td>\n",
       "      <td>500</td>\n",
       "      <td>550</td>\n",
       "      <td>200</td>\n",
       "      <td>3</td>\n",
       "      <td>3</td>\n",
       "      <td>0.0</td>\n",
       "      <td>0.0</td>\n",
       "      <td>600.0</td>\n",
       "    </tr>\n",
       "    <tr>\n",
       "      <td>3214</td>\n",
       "      <td>1489</td>\n",
       "      <td>12.0</td>\n",
       "      <td>0.0</td>\n",
       "      <td>0.0</td>\n",
       "      <td>0.0</td>\n",
       "      <td>0.0</td>\n",
       "      <td>35.0</td>\n",
       "      <td>35.0</td>\n",
       "      <td>17341.0</td>\n",
       "      <td>35</td>\n",
       "      <td>...</td>\n",
       "      <td>50</td>\n",
       "      <td>15360</td>\n",
       "      <td>500</td>\n",
       "      <td>550</td>\n",
       "      <td>200</td>\n",
       "      <td>3</td>\n",
       "      <td>3</td>\n",
       "      <td>0.0</td>\n",
       "      <td>0.0</td>\n",
       "      <td>400.0</td>\n",
       "    </tr>\n",
       "    <tr>\n",
       "      <td>3215</td>\n",
       "      <td>1371</td>\n",
       "      <td>0.0</td>\n",
       "      <td>0.0</td>\n",
       "      <td>0.0</td>\n",
       "      <td>0.0</td>\n",
       "      <td>0.0</td>\n",
       "      <td>0.0</td>\n",
       "      <td>0.0</td>\n",
       "      <td>0.0</td>\n",
       "      <td>50</td>\n",
       "      <td>...</td>\n",
       "      <td>50</td>\n",
       "      <td>15360</td>\n",
       "      <td>500</td>\n",
       "      <td>550</td>\n",
       "      <td>200</td>\n",
       "      <td>3</td>\n",
       "      <td>3</td>\n",
       "      <td>0.0</td>\n",
       "      <td>0.0</td>\n",
       "      <td>0.0</td>\n",
       "    </tr>\n",
       "  </tbody>\n",
       "</table>\n",
       "<p>10 rows × 26 columns</p>\n",
       "</div>"
      ],
      "text/plain": [
       "      user_id  month  user_id_1  month  calls  minutes    id  messages  \\\n",
       "3206     1499    9.0     1499.0    9.0    9.0     70.0  11.0      11.0   \n",
       "3207     1499   10.0     1499.0   10.0   68.0    449.0  48.0      48.0   \n",
       "3208     1499   11.0     1499.0   11.0   74.0    612.0  59.0      59.0   \n",
       "3209     1499   12.0     1499.0   12.0   69.0    492.0  66.0      66.0   \n",
       "3210     1489    8.0        0.0    0.0    0.0      0.0  17.0      17.0   \n",
       "3211     1489    9.0        0.0    0.0    0.0      0.0  32.0      32.0   \n",
       "3212     1489   10.0        0.0    0.0    0.0      0.0  21.0      21.0   \n",
       "3213     1489   11.0        0.0    0.0    0.0      0.0  20.0      20.0   \n",
       "3214     1489   12.0        0.0    0.0    0.0      0.0  35.0      35.0   \n",
       "3215     1371    0.0        0.0    0.0    0.0      0.0   0.0       0.0   \n",
       "\n",
       "      mb_used_month  age  ... messages_included mb_per_month_included  \\\n",
       "3206         1848.0   35  ...                50                 15360   \n",
       "3207        17809.0   35  ...                50                 15360   \n",
       "3208        17984.0   35  ...                50                 15360   \n",
       "3209        13077.0   35  ...                50                 15360   \n",
       "3210        11066.0   35  ...                50                 15360   \n",
       "3211        17232.0   35  ...                50                 15360   \n",
       "3212        19588.0   35  ...                50                 15360   \n",
       "3213        17516.0   35  ...                50                 15360   \n",
       "3214        17341.0   35  ...                50                 15360   \n",
       "3215            0.0   50  ...                50                 15360   \n",
       "\n",
       "     minutes_included rub_monthly_fee rub_per_gb rub_per_message  \\\n",
       "3206              500             550        200               3   \n",
       "3207              500             550        200               3   \n",
       "3208              500             550        200               3   \n",
       "3209              500             550        200               3   \n",
       "3210              500             550        200               3   \n",
       "3211              500             550        200               3   \n",
       "3212              500             550        200               3   \n",
       "3213              500             550        200               3   \n",
       "3214              500             550        200               3   \n",
       "3215              500             550        200               3   \n",
       "\n",
       "      rub_per_minute  minutes_month_over_pay  messages_month_over_pay  \\\n",
       "3206               3                     0.0                      0.0   \n",
       "3207               3                     0.0                      0.0   \n",
       "3208               3                   336.0                     27.0   \n",
       "3209               3                     0.0                     48.0   \n",
       "3210               3                     0.0                      0.0   \n",
       "3211               3                     0.0                      0.0   \n",
       "3212               3                     0.0                      0.0   \n",
       "3213               3                     0.0                      0.0   \n",
       "3214               3                     0.0                      0.0   \n",
       "3215               3                     0.0                      0.0   \n",
       "\n",
       "      mb_month_over_pay  \n",
       "3206                0.0  \n",
       "3207              600.0  \n",
       "3208              600.0  \n",
       "3209                0.0  \n",
       "3210                0.0  \n",
       "3211              400.0  \n",
       "3212             1000.0  \n",
       "3213              600.0  \n",
       "3214              400.0  \n",
       "3215                0.0  \n",
       "\n",
       "[10 rows x 26 columns]"
      ]
     },
     "execution_count": 31,
     "metadata": {},
     "output_type": "execute_result"
    }
   ],
   "source": [
    "df_6['mb_month_over_pay'] = df_6['mb_used_month'].where(df_6['mb_used_month'] > df_6['mb_per_month_included'])\n",
    "df_6['mb_month_over_pay'] = df_6['mb_month_over_pay'].fillna(0)\n",
    "df_6['mb_month_over_pay'] = df_6['mb_month_over_pay'] - df_6['mb_per_month_included']\n",
    "df_6['mb_month_over_pay'] = df_6['mb_month_over_pay'].replace(-df_6['mb_per_month_included'], 0)\n",
    "df_6['mb_month_over_pay'] = ((df_6['mb_month_over_pay'] / 1024)+ 0.5).round(0) #из мегабайт в гигабайты и округлил вверх\n",
    "df_6['mb_month_over_pay'] = df_6['mb_month_over_pay']*df_6['rub_per_gb']\n",
    "df_6.tail(10)"
   ]
  },
  {
   "cell_type": "markdown",
   "metadata": {},
   "source": [
    "6.15 Посчитал выручку за каждого клиента."
   ]
  },
  {
   "cell_type": "code",
   "execution_count": 32,
   "metadata": {
    "scrolled": true
   },
   "outputs": [
    {
     "data": {
      "text/html": [
       "<div>\n",
       "<style scoped>\n",
       "    .dataframe tbody tr th:only-of-type {\n",
       "        vertical-align: middle;\n",
       "    }\n",
       "\n",
       "    .dataframe tbody tr th {\n",
       "        vertical-align: top;\n",
       "    }\n",
       "\n",
       "    .dataframe thead th {\n",
       "        text-align: right;\n",
       "    }\n",
       "</style>\n",
       "<table border=\"1\" class=\"dataframe\">\n",
       "  <thead>\n",
       "    <tr style=\"text-align: right;\">\n",
       "      <th></th>\n",
       "      <th>user_id</th>\n",
       "      <th>month</th>\n",
       "      <th>user_id_1</th>\n",
       "      <th>month</th>\n",
       "      <th>calls</th>\n",
       "      <th>minutes</th>\n",
       "      <th>id</th>\n",
       "      <th>messages</th>\n",
       "      <th>mb_used_month</th>\n",
       "      <th>age</th>\n",
       "      <th>...</th>\n",
       "      <th>mb_per_month_included</th>\n",
       "      <th>minutes_included</th>\n",
       "      <th>rub_monthly_fee</th>\n",
       "      <th>rub_per_gb</th>\n",
       "      <th>rub_per_message</th>\n",
       "      <th>rub_per_minute</th>\n",
       "      <th>minutes_month_over_pay</th>\n",
       "      <th>messages_month_over_pay</th>\n",
       "      <th>mb_month_over_pay</th>\n",
       "      <th>total_pay</th>\n",
       "    </tr>\n",
       "  </thead>\n",
       "  <tbody>\n",
       "    <tr>\n",
       "      <td>3211</td>\n",
       "      <td>1489</td>\n",
       "      <td>9.0</td>\n",
       "      <td>0.0</td>\n",
       "      <td>0.0</td>\n",
       "      <td>0.0</td>\n",
       "      <td>0.0</td>\n",
       "      <td>32.0</td>\n",
       "      <td>32.0</td>\n",
       "      <td>17232.0</td>\n",
       "      <td>35</td>\n",
       "      <td>...</td>\n",
       "      <td>15360</td>\n",
       "      <td>500</td>\n",
       "      <td>550</td>\n",
       "      <td>200</td>\n",
       "      <td>3</td>\n",
       "      <td>3</td>\n",
       "      <td>0.0</td>\n",
       "      <td>0.0</td>\n",
       "      <td>400.0</td>\n",
       "      <td>950.0</td>\n",
       "    </tr>\n",
       "    <tr>\n",
       "      <td>3212</td>\n",
       "      <td>1489</td>\n",
       "      <td>10.0</td>\n",
       "      <td>0.0</td>\n",
       "      <td>0.0</td>\n",
       "      <td>0.0</td>\n",
       "      <td>0.0</td>\n",
       "      <td>21.0</td>\n",
       "      <td>21.0</td>\n",
       "      <td>19588.0</td>\n",
       "      <td>35</td>\n",
       "      <td>...</td>\n",
       "      <td>15360</td>\n",
       "      <td>500</td>\n",
       "      <td>550</td>\n",
       "      <td>200</td>\n",
       "      <td>3</td>\n",
       "      <td>3</td>\n",
       "      <td>0.0</td>\n",
       "      <td>0.0</td>\n",
       "      <td>1000.0</td>\n",
       "      <td>1550.0</td>\n",
       "    </tr>\n",
       "    <tr>\n",
       "      <td>3213</td>\n",
       "      <td>1489</td>\n",
       "      <td>11.0</td>\n",
       "      <td>0.0</td>\n",
       "      <td>0.0</td>\n",
       "      <td>0.0</td>\n",
       "      <td>0.0</td>\n",
       "      <td>20.0</td>\n",
       "      <td>20.0</td>\n",
       "      <td>17516.0</td>\n",
       "      <td>35</td>\n",
       "      <td>...</td>\n",
       "      <td>15360</td>\n",
       "      <td>500</td>\n",
       "      <td>550</td>\n",
       "      <td>200</td>\n",
       "      <td>3</td>\n",
       "      <td>3</td>\n",
       "      <td>0.0</td>\n",
       "      <td>0.0</td>\n",
       "      <td>600.0</td>\n",
       "      <td>1150.0</td>\n",
       "    </tr>\n",
       "    <tr>\n",
       "      <td>3214</td>\n",
       "      <td>1489</td>\n",
       "      <td>12.0</td>\n",
       "      <td>0.0</td>\n",
       "      <td>0.0</td>\n",
       "      <td>0.0</td>\n",
       "      <td>0.0</td>\n",
       "      <td>35.0</td>\n",
       "      <td>35.0</td>\n",
       "      <td>17341.0</td>\n",
       "      <td>35</td>\n",
       "      <td>...</td>\n",
       "      <td>15360</td>\n",
       "      <td>500</td>\n",
       "      <td>550</td>\n",
       "      <td>200</td>\n",
       "      <td>3</td>\n",
       "      <td>3</td>\n",
       "      <td>0.0</td>\n",
       "      <td>0.0</td>\n",
       "      <td>400.0</td>\n",
       "      <td>950.0</td>\n",
       "    </tr>\n",
       "    <tr>\n",
       "      <td>3215</td>\n",
       "      <td>1371</td>\n",
       "      <td>0.0</td>\n",
       "      <td>0.0</td>\n",
       "      <td>0.0</td>\n",
       "      <td>0.0</td>\n",
       "      <td>0.0</td>\n",
       "      <td>0.0</td>\n",
       "      <td>0.0</td>\n",
       "      <td>0.0</td>\n",
       "      <td>50</td>\n",
       "      <td>...</td>\n",
       "      <td>15360</td>\n",
       "      <td>500</td>\n",
       "      <td>550</td>\n",
       "      <td>200</td>\n",
       "      <td>3</td>\n",
       "      <td>3</td>\n",
       "      <td>0.0</td>\n",
       "      <td>0.0</td>\n",
       "      <td>0.0</td>\n",
       "      <td>550.0</td>\n",
       "    </tr>\n",
       "  </tbody>\n",
       "</table>\n",
       "<p>5 rows × 27 columns</p>\n",
       "</div>"
      ],
      "text/plain": [
       "      user_id  month  user_id_1  month  calls  minutes    id  messages  \\\n",
       "3211     1489    9.0        0.0    0.0    0.0      0.0  32.0      32.0   \n",
       "3212     1489   10.0        0.0    0.0    0.0      0.0  21.0      21.0   \n",
       "3213     1489   11.0        0.0    0.0    0.0      0.0  20.0      20.0   \n",
       "3214     1489   12.0        0.0    0.0    0.0      0.0  35.0      35.0   \n",
       "3215     1371    0.0        0.0    0.0    0.0      0.0   0.0       0.0   \n",
       "\n",
       "      mb_used_month  age  ... mb_per_month_included minutes_included  \\\n",
       "3211        17232.0   35  ...                 15360              500   \n",
       "3212        19588.0   35  ...                 15360              500   \n",
       "3213        17516.0   35  ...                 15360              500   \n",
       "3214        17341.0   35  ...                 15360              500   \n",
       "3215            0.0   50  ...                 15360              500   \n",
       "\n",
       "     rub_monthly_fee rub_per_gb rub_per_message rub_per_minute  \\\n",
       "3211             550        200               3              3   \n",
       "3212             550        200               3              3   \n",
       "3213             550        200               3              3   \n",
       "3214             550        200               3              3   \n",
       "3215             550        200               3              3   \n",
       "\n",
       "      minutes_month_over_pay  messages_month_over_pay  mb_month_over_pay  \\\n",
       "3211                     0.0                      0.0              400.0   \n",
       "3212                     0.0                      0.0             1000.0   \n",
       "3213                     0.0                      0.0              600.0   \n",
       "3214                     0.0                      0.0              400.0   \n",
       "3215                     0.0                      0.0                0.0   \n",
       "\n",
       "      total_pay  \n",
       "3211      950.0  \n",
       "3212     1550.0  \n",
       "3213     1150.0  \n",
       "3214      950.0  \n",
       "3215      550.0  \n",
       "\n",
       "[5 rows x 27 columns]"
      ]
     },
     "execution_count": 32,
     "metadata": {},
     "output_type": "execute_result"
    }
   ],
   "source": [
    "df_6['total_pay'] = df_6['rub_monthly_fee'] + df_6['minutes_month_over_pay'] + df_6['messages_month_over_pay'] + df_6['mb_month_over_pay']\n",
    "df_6.tail()"
   ]
  },
  {
   "cell_type": "markdown",
   "metadata": {},
   "source": [
    "### Анализ данных\n",
    "<a id='cell3'></a>\n",
    "\n",
    "Опишите поведение клиентов оператора, исходя из выборки. Сколько минут разговора, сколько сообщений и какой объём интернет-трафика требуется пользователям каждого тарифа в месяц? Посчитайте среднее количество, дисперсию и стандартное отклонение. Постройте гистограммы. Опишите распределения."
   ]
  },
  {
   "cell_type": "markdown",
   "metadata": {},
   "source": [
    "7.1 Посчитал среднее количество минут тарифа smart и ultra."
   ]
  },
  {
   "cell_type": "code",
   "execution_count": 34,
   "metadata": {
    "scrolled": true
   },
   "outputs": [
    {
     "name": "stdout",
     "output_type": "stream",
     "text": [
      "526.3732251521299\n",
      "417.97982062780267\n"
     ]
    }
   ],
   "source": [
    "mean_min_ultra = df_6.loc[df_6.loc[:,'tariff'] == 'ultra']['minutes'].mean()\n",
    "mean_min_smart = df_6.loc[df_6.loc[:,'tariff'] == 'smart']['minutes'].mean()\n",
    "print(mean_min_ultra)\n",
    "print(mean_min_smart)"
   ]
  },
  {
   "cell_type": "markdown",
   "metadata": {},
   "source": [
    "Вывод: Среднее значение минут разговора в тарифе 'Ультра' больше чем в 'Смарт', это логично т.к в тариф 'Ультра' включено 3000 минут, а в 'Смарт' 500 минут, клиент в среднем старается не переплачивать."
   ]
  },
  {
   "cell_type": "markdown",
   "metadata": {},
   "source": [
    "7.2 Посчитал дисперсию минут разговора тарифа smart и ultra. Применил метод var()."
   ]
  },
  {
   "cell_type": "code",
   "execution_count": 35,
   "metadata": {},
   "outputs": [
    {
     "name": "stdout",
     "output_type": "stream",
     "text": [
      "101049.63960765113\n",
      "36303.14443584226\n"
     ]
    }
   ],
   "source": [
    "variance_min_ultra = np.var(df_6.loc[df_6.loc[:,'tariff'] == 'ultra']['minutes'])\n",
    "variance_min_smart = np.var(df_6.loc[df_6.loc[:,'tariff'] == 'smart']['minutes'])\n",
    "print(variance_min_ultra)\n",
    "print(variance_min_smart)"
   ]
  },
  {
   "cell_type": "markdown",
   "metadata": {},
   "source": [
    "7.3 Посчитал стандартное отклонение минут разгвора тарифа smart и ultra. Применил метод std()."
   ]
  },
  {
   "cell_type": "code",
   "execution_count": 36,
   "metadata": {},
   "outputs": [
    {
     "name": "stdout",
     "output_type": "stream",
     "text": [
      "317.883059642459\n",
      "190.5338406578796\n"
     ]
    }
   ],
   "source": [
    "standard_deviation_min_ultra = np.std(df_6.loc[df_6.loc[:,'tariff'] == 'ultra']['minutes'])\n",
    "standard_deviation_min_smart = np.std(df_6.loc[df_6.loc[:,'tariff'] == 'smart']['minutes'])\n",
    "print(standard_deviation_min_ultra)\n",
    "print(standard_deviation_min_smart)"
   ]
  },
  {
   "cell_type": "markdown",
   "metadata": {},
   "source": [
    "Вывод: Разброс минут в тарифах различается и это логично, т.к тариф 'Ультра' предоставляет больше минут разговора, то и разброс больше чем у тарифа 'Смарт'. "
   ]
  },
  {
   "cell_type": "markdown",
   "metadata": {},
   "source": [
    "7.4 Построил гистограммы распределения минут по тарифам ultra и smart."
   ]
  },
  {
   "cell_type": "code",
   "execution_count": 37,
   "metadata": {},
   "outputs": [
    {
     "data": {
      "image/png": "[encoded data removed]",
      "text/plain": [
       "<Figure size 432x288 with 1 Axes>"
      ]
     },
     "metadata": {
      "needs_background": "light"
     },
     "output_type": "display_data"
    },
    {
     "data": {
      "image/png": "[encoded data removed]",
      "text/plain": [
       "<Figure size 432x288 with 1 Axes>"
      ]
     },
     "metadata": {
      "needs_background": "light"
     },
     "output_type": "display_data"
    }
   ],
   "source": [
    "ultra_minutes = df_6.loc[df_6.loc[:,'tariff'] == 'ultra']['minutes']\n",
    "smart_minutes = df_6.loc[df_6.loc[:,'tariff'] == 'smart']['minutes']\n",
    "ultra_minutes.plot(y=ultra_minutes,title='Ultra', grid=True, kind='hist', bins=10, range=(0, 1750))\n",
    "plt.show()\n",
    "smart_minutes.plot(y=smart_minutes,title='Smart', grid=True, kind='hist', bins=10, range=(0, 1250))\n",
    "plt.show()"
   ]
  },
  {
   "cell_type": "markdown",
   "metadata": {},
   "source": [
    "Вывод: Гистограмма количества минут по тарифу 'Ультра' скошена вправо, датасет имеет положительную скошенность, Гистограмма количества минут по тарифу 'Смарт' скошена влево, датасет имеет отрицательную скошенность. Опять же это связано с тем, что в тарифе 'Ультра' больше минут для разговора без переплаты по абонентской плате."
   ]
  },
  {
   "cell_type": "markdown",
   "metadata": {},
   "source": [
    "7.5 Посчитал среднее значение сообщений по тарифам 'Смарт' и 'Ультра' методом mean()."
   ]
  },
  {
   "cell_type": "code",
   "execution_count": 38,
   "metadata": {},
   "outputs": [
    {
     "name": "stdout",
     "output_type": "stream",
     "text": [
      "49.31338742393509\n",
      "33.36905829596412\n"
     ]
    }
   ],
   "source": [
    "mean_msg_ultra = df_6.loc[df_6.loc[:,'tariff'] == 'ultra']['messages'].mean()\n",
    "mean_msg_smart = df_6.loc[df_6.loc[:,'tariff'] == 'smart']['messages'].mean()\n",
    "print(mean_msg_ultra)\n",
    "print(mean_msg_smart)"
   ]
  },
  {
   "cell_type": "markdown",
   "metadata": {},
   "source": [
    "Вывод: Среднее значение отправленных сообщений в тарифе 'Ультра' больше чем в 'Смарт', это логично т.к в тариф 'Ультра' включено 1000 сообщений, а в 'Смарт' 50 сообщений, клиент в среднем старается не переплачивать."
   ]
  },
  {
   "cell_type": "markdown",
   "metadata": {},
   "source": [
    "7.6 Посчитал дисперсию сообщений тарифа smart и ultra. Применил метод var()."
   ]
  },
  {
   "cell_type": "code",
   "execution_count": 39,
   "metadata": {},
   "outputs": [
    {
     "name": "stdout",
     "output_type": "stream",
     "text": [
      "2283.0995570851965\n",
      "796.5978766916688\n"
     ]
    }
   ],
   "source": [
    "variance_msg_ultra = np.var(df_6.loc[df_6.loc[:,'tariff'] == 'ultra']['messages'])\n",
    "variance_msg_smart = np.var(df_6.loc[df_6.loc[:,'tariff'] == 'smart']['messages'])\n",
    "print(variance_msg_ultra)\n",
    "print(variance_msg_smart)"
   ]
  },
  {
   "cell_type": "markdown",
   "metadata": {},
   "source": [
    "7.7 Посчитал стандартное отклонение сообщений тарифа smart и ultra. Применил метод std()."
   ]
  },
  {
   "cell_type": "code",
   "execution_count": 40,
   "metadata": {},
   "outputs": [
    {
     "name": "stdout",
     "output_type": "stream",
     "text": [
      "47.781791061922284\n",
      "28.224065559229217\n"
     ]
    }
   ],
   "source": [
    "standard_deviation_msg_ultra = np.std(df_6.loc[df_6.loc[:,'tariff'] == 'ultra']['messages'])\n",
    "standard_deviation_msg_smart = np.std(df_6.loc[df_6.loc[:,'tariff'] == 'smart']['messages'])\n",
    "print(standard_deviation_msg_ultra)\n",
    "print(standard_deviation_msg_smart)"
   ]
  },
  {
   "cell_type": "markdown",
   "metadata": {},
   "source": [
    "Вывод: Разброс Сообщений в тарифах различается и это логично, т.к тариф 'Ультра' предоставляет больше сообщений, то и разброс больше чем у тарифа 'Смарт'. Картина аналогичная количеству минут."
   ]
  },
  {
   "cell_type": "markdown",
   "metadata": {},
   "source": [
    "7.8 Построил гистограммы распределения сообщений по тарифам ultra и smart."
   ]
  },
  {
   "cell_type": "code",
   "execution_count": 41,
   "metadata": {
    "scrolled": true
   },
   "outputs": [
    {
     "data": {
      "image/png": "[encoded data removed]",
      "text/plain": [
       "<Figure size 432x288 with 1 Axes>"
      ]
     },
     "metadata": {
      "needs_background": "light"
     },
     "output_type": "display_data"
    },
    {
     "data": {
      "image/png": "[encoded data removed]",
      "text/plain": [
       "<Figure size 432x288 with 1 Axes>"
      ]
     },
     "metadata": {
      "needs_background": "light"
     },
     "output_type": "display_data"
    }
   ],
   "source": [
    "ultra_messages = df_6.loc[df_6.loc[:,'tariff'] == 'ultra']['messages']\n",
    "smart_messages = df_6.loc[df_6.loc[:,'tariff'] == 'smart']['messages']\n",
    "ultra_messages.plot(y=ultra_messages,title='Ultra', grid=True, kind='hist', bins=10, range=(1, 300))\n",
    "plt.show()\n",
    "smart_messages.plot(y=smart_messages,title='Smart', grid=True, kind='hist', bins=10, range=(1, 300))\n",
    "plt.show()"
   ]
  },
  {
   "cell_type": "markdown",
   "metadata": {},
   "source": [
    "Вывод: Гистограмма количества минут по тарифу 'Ультра' скошена влево, датасет имеет отрицательную скошенность, Гистограмма количества минут по тарифу 'Смарт' тоже скошена влево, датасет имеет отрицательную скошенность. В большинсте своем, по обоим тарифам люди часто отправляют до 50 сообщений в месяц. В тарифе 'Ультра' люди укладываются в предоставляемый тарифом лимит на сообщения, а в тарифе 'Смарт, уходят за лимит."
   ]
  },
  {
   "cell_type": "markdown",
   "metadata": {},
   "source": [
    "7.9 Посчитал среднее количество интернет-трафика тарифа smart и ultra. "
   ]
  },
  {
   "cell_type": "code",
   "execution_count": 42,
   "metadata": {},
   "outputs": [
    {
     "name": "stdout",
     "output_type": "stream",
     "text": [
      "19467.330628803247\n",
      "16222.129596412557\n"
     ]
    }
   ],
   "source": [
    "mean_gb_ultra = df_6.loc[df_6.loc[:,'tariff'] == 'ultra']['mb_used_month'].mean()\n",
    "mean_gb_smart = df_6.loc[df_6.loc[:,'tariff'] == 'smart']['mb_used_month'].mean()\n",
    "print(mean_gb_ultra)\n",
    "print(mean_gb_smart)"
   ]
  },
  {
   "cell_type": "markdown",
   "metadata": {},
   "source": [
    "7.10 Посчитал дисперсию интернет-трафика тарифа smart и ultra. Применил метод var()."
   ]
  },
  {
   "cell_type": "code",
   "execution_count": 43,
   "metadata": {},
   "outputs": [
    {
     "name": "stdout",
     "output_type": "stream",
     "text": [
      "102115611.64930528\n",
      "34634027.662576966\n"
     ]
    }
   ],
   "source": [
    "variance_mb_ultra = np.var(df_6.loc[df_6.loc[:,'tariff'] == 'ultra']['mb_used_month'])\n",
    "variance_mb_smart = np.var(df_6.loc[df_6.loc[:,'tariff'] == 'smart']['mb_used_month'])\n",
    "print(variance_mb_ultra)\n",
    "print(variance_mb_smart)"
   ]
  },
  {
   "cell_type": "markdown",
   "metadata": {},
   "source": [
    "7.11 Посчитал стандартное отклонение интернет-трафика тарифа smart и ultra.Применил метод std()."
   ]
  },
  {
   "cell_type": "code",
   "execution_count": 44,
   "metadata": {},
   "outputs": [
    {
     "name": "stdout",
     "output_type": "stream",
     "text": [
      "10105.226946947074\n",
      "5885.0681952358855\n"
     ]
    }
   ],
   "source": [
    "standard_deviation_mb_ultra = np.std(df_6.loc[df_6.loc[:,'tariff'] == 'ultra']['mb_used_month'])\n",
    "standard_deviation_mb_smart = np.std(df_6.loc[df_6.loc[:,'tariff'] == 'smart']['mb_used_month'])\n",
    "print(standard_deviation_mb_ultra)\n",
    "print(standard_deviation_mb_smart)"
   ]
  },
  {
   "cell_type": "markdown",
   "metadata": {},
   "source": [
    "Вывод: По интернет трафику картина анлогична минутам и сообщениям."
   ]
  },
  {
   "cell_type": "markdown",
   "metadata": {},
   "source": [
    "7.12 Построил гистограммы распределения интернет-трафика по тарифам ultra и smart."
   ]
  },
  {
   "cell_type": "code",
   "execution_count": 45,
   "metadata": {},
   "outputs": [
    {
     "data": {
      "image/png": "[encoded data removed]",
      "text/plain": [
       "<Figure size 432x288 with 1 Axes>"
      ]
     },
     "metadata": {
      "needs_background": "light"
     },
     "output_type": "display_data"
    },
    {
     "data": {
      "image/png": "[encoded data removed]",
      "text/plain": [
       "<Figure size 432x288 with 1 Axes>"
      ]
     },
     "metadata": {
      "needs_background": "light"
     },
     "output_type": "display_data"
    }
   ],
   "source": [
    "ultra_mb = df_6.loc[df_6.loc[:,'tariff'] == 'ultra']['mb_used_month']\n",
    "smart_mb = df_6.loc[df_6.loc[:,'tariff'] == 'smart']['mb_used_month']\n",
    "ultra_mb.plot(y=ultra_mb,title='Ultra', grid=True, kind='hist', bins=10, range=(0, 60000))\n",
    "plt.show()\n",
    "smart_mb.plot(y=smart_mb,title='Smart', grid=True, kind='hist', bins=10, range=(0, 40000))\n",
    "plt.show()"
   ]
  },
  {
   "cell_type": "markdown",
   "metadata": {},
   "source": [
    "Вывод:  Гистограмма интернет-трафика по тарифу 'Ультра' скошена влево, датасет имеет отрицательную скошенность, Гистограмма интернет-трафика по тарифу 'Смарт' тоже скошена влево, датасет имеет отрицательную скошенность. Пользователи тарифа 'Ультра' реже заходят за предел интернет-трафика нежели чем в тарифе 'Смарт'."
   ]
  },
  {
   "cell_type": "markdown",
   "metadata": {},
   "source": [
    "Вывод: Среднему значению отправленных сообщений в тарифе 'Ультра' далеко до 1000, похожая картина с минутами, среднему значению 542 минт далеко до 3000, в среднем и гигабайт используется 19 из 30. Средние показатели по тарифу 'Смарт' 419 минут из 500 минут, 39 сообщений из 50 сообщений, 16.2 гб из 15 гб, превышение имеет только показатель интернет-трафика."
   ]
  },
  {
   "cell_type": "markdown",
   "metadata": {},
   "source": [
    "### Проверка гипотез\n",
    "<a id='cell4'></a>\n",
    "\n",
    "* средняя выручка пользователей тарифов «Ультра» и «Смарт» различается;\n",
    "* средняя выручка пользователей из Москвы отличается от выручки пользователей из других регионов;\n",
    "* Пороговое значение alpha задайте самостоятельно.\n",
    "\n",
    "Поясните:\n",
    "\n",
    "* как вы формулировали нулевую и альтернативную гипотезы;\n",
    "* какой критерий использовали для проверки гипотез и почему."
   ]
  },
  {
   "cell_type": "markdown",
   "metadata": {},
   "source": [
    "8.1 Посчитал среднюю выручку пользователей тарифов «Ультра» и «Смарт»."
   ]
  },
  {
   "cell_type": "code",
   "execution_count": 46,
   "metadata": {},
   "outputs": [
    {
     "name": "stdout",
     "output_type": "stream",
     "text": [
      "2070.943204868154\n",
      "1294.7488789237668\n"
     ]
    }
   ],
   "source": [
    "mean_ultra = df_6.loc[df_6.loc[:,'tariff'] == 'ultra']['total_pay'].mean()\n",
    "mean_smart = df_6.loc[df_6.loc[:,'tariff'] == 'smart']['total_pay'].mean()\n",
    "print(mean_ultra)\n",
    "print(mean_smart)"
   ]
  },
  {
   "cell_type": "markdown",
   "metadata": {},
   "source": [
    "8.2 Посчитал среднюю выручку пользователей из Москвы и пользователей из других регионов."
   ]
  },
  {
   "cell_type": "code",
   "execution_count": 47,
   "metadata": {},
   "outputs": [
    {
     "name": "stdout",
     "output_type": "stream",
     "text": [
      "1551.0310965630115\n",
      "1528.4299424184262\n"
     ]
    }
   ],
   "source": [
    "mean_Moscow = df_6.loc[df_6.loc[:,'city'] == 'Москва']['total_pay'].mean()\n",
    "mean_other_region = df_6.loc[df_6.loc[:,'city'] != 'Москва']['total_pay'].mean()\n",
    "\n",
    "print(mean_Moscow)\n",
    "print(mean_other_region)"
   ]
  },
  {
   "cell_type": "markdown",
   "metadata": {},
   "source": [
    "8.3 Cредняя выручка пользователей тарифов «Ультра» и «Смарт» различается. Чтобы проверить гипотезу о равенстве среднего двух генеральных совокупностей по взятым из них выборкам, применл метод scipy.stats.ttest_ind (array1, array2, equal_var)"
   ]
  },
  {
   "cell_type": "code",
   "execution_count": 48,
   "metadata": {},
   "outputs": [
    {
     "name": "stdout",
     "output_type": "stream",
     "text": [
      "p-значение: 2.800349849539667e-246\n",
      " Отвергаем нулевую гипотезу, cредняя выручка пользователей тарифов «Смарт» и «Ультра» различается.\n"
     ]
    }
   ],
   "source": [
    "#H0 - средняя выручка пользователей тарифов «Ультра» и «Смарт» не различается.\n",
    "#H1 - средняя выручка пользователей тарифов «Ультра» различается.\n",
    "\n",
    "df_ultra = df_6.loc[df_6.loc[:,'tariff'] == 'ultra']['total_pay']\n",
    "df_smart = df_6.loc[df_6.loc[:,'tariff'] == 'smart']['total_pay']\n",
    "\n",
    "\n",
    "alpha = 0.05 # критический уровень статистической значимости\n",
    " \n",
    "results = st.ttest_ind(df_smart, df_ultra, equal_var = False)\n",
    " \n",
    "print('p-значение:', results.pvalue)\n",
    "\n",
    "if results.pvalue < alpha:\n",
    "    print(\" Отвергаем нулевую гипотезу, cредняя выручка пользователей тарифов «Смарт» и «Ультра» различается.\")\n",
    "else:\n",
    "    print(\"Не получилось отвергнуть нулевую гипотезу, cредняя выручка пользователей тарифов «Смарт» и «Ультра» не различается .\")"
   ]
  },
  {
   "cell_type": "markdown",
   "metadata": {},
   "source": [
    "8.4 Cредняя выручка пользователей из Москвы отличается от выручки пользователей из других регионов. Чтобы проверить гипотезу о равенстве среднего двух генеральных совокупностей по взятым из них выборкам, применил метод scipy.stats.ttest_ind (array1, array2, equal_var)"
   ]
  },
  {
   "cell_type": "code",
   "execution_count": 49,
   "metadata": {},
   "outputs": [
    {
     "name": "stdout",
     "output_type": "stream",
     "text": [
      "p-значение: 0.5105087040131013\n",
      "Не получилось отвергнуть нулевую гипотезу, cредняя выручка пользователей в Москве не отличается от выручки пользователей из других регионов.\n"
     ]
    }
   ],
   "source": [
    "#H0 - Cредняя выручка пользователей из Москвы тарифа «Ультра» не различается от выручки пользователей из других регионов.\n",
    "#H1 - Cредняя выручка пользователей из Москвы тарифа «Ультра» различается от выручки пользователей из других регионов.\n",
    "\n",
    "mean_Moscow = df_6.loc[df_6.loc[:,'city'] == 'Москва']['total_pay']\n",
    "mean_other_region = df_6.loc[df_6.loc[:,'city'] != 'Москва']['total_pay']\n",
    "\n",
    "alpha = 0.05 # критический уровень статистической значимости\n",
    " \n",
    "results = st.ttest_ind(mean_Moscow, mean_other_region, equal_var = False)\n",
    " \n",
    "print('p-значение:', results.pvalue)\n",
    "\n",
    "if results.pvalue < alpha:\n",
    "    print(\" Отвергаем нулевую гипотезу, cредняя выручка пользователей в Москве отличается от выручки пользователей из других регионов.\")\n",
    "else:\n",
    "    print(\"Не получилось отвергнуть нулевую гипотезу, cредняя выручка пользователей в Москве не отличается от выручки пользователей из других регионов.\")"
   ]
  },
  {
   "cell_type": "markdown",
   "metadata": {},
   "source": [
    "### Общий вывод\n",
    "<a id='cell5'></a>\n",
    "\n",
    "Средние показатели по абоненсткой плате тарифа «Ультра» не сильно превышают месячный платеж,а вот с тарифом «Cмарт» картина критичная, пользователи в среднем почти в три раза переплачивают месячную абоненсткую плату, часто переплата идет за интернет-трафик. Средняя выручка в Москве и в регионе почти одинаковая. \n",
    "\n",
    "* Средняя выручка больше по тарифу «Ультра».\n",
    "\n",
    " - средняя месячная выручка тарифа «Ультра» - 2070.943204868154\n",
    " - средняя месячная вручка тарифа «Смарт» - 1294.9282511210763\n",
    "\n",
    "Если планируется активное использование интернет-трафика, долгие телефонные переговоры и отправка большого числа сообщений, то несомненно стоит выбрать тариф «Ультра».\n",
    "\n",
    "Тем не менее, несмотря на все достоинства тарифа «Ультра», тариф «Смарт» приносит больше денег.\n",
    "\n",
    " - выручка тарифа «Ультра» - 2041950.0\n",
    " - выручка тарифа «Смарт» - 2887690.0"
   ]
  },
  {
   "cell_type": "code",
   "execution_count": 50,
   "metadata": {},
   "outputs": [
    {
     "name": "stdout",
     "output_type": "stream",
     "text": [
      "2041950.0\n",
      "2887290.0\n"
     ]
    }
   ],
   "source": [
    "sum_ultra = df_6.loc[df_6.loc[:,'tariff'] == 'ultra']['total_pay'].sum()\n",
    "sum_smart = df_6.loc[df_6.loc[:,'tariff'] == 'smart']['total_pay'].sum()\n",
    "print(sum_ultra)\n",
    "print(sum_smart)"
   ]
  }
 ],
 "metadata": {
  "ExecuteTimeLog": [
   {
    "duration": 829,
    "start_time": "2021-06-08T16:52:36.697Z"
   },
   {
    "duration": 478,
    "start_time": "2021-06-08T16:52:37.528Z"
   },
   {
    "duration": 26,
    "start_time": "2021-06-08T16:52:38.009Z"
   },
   {
    "duration": 15,
    "start_time": "2021-06-08T16:52:38.038Z"
   },
   {
    "duration": 373,
    "start_time": "2021-06-08T16:52:38.055Z"
   },
   {
    "duration": 32,
    "start_time": "2021-06-08T16:52:38.431Z"
   },
   {
    "duration": 211,
    "start_time": "2021-06-08T16:52:38.484Z"
   },
   {
    "duration": 27,
    "start_time": "2021-06-08T16:52:38.700Z"
   },
   {
    "duration": 200,
    "start_time": "2021-06-08T16:52:38.731Z"
   },
   {
    "duration": 16,
    "start_time": "2021-06-08T16:52:38.933Z"
   },
   {
    "duration": 254,
    "start_time": "2021-06-08T16:52:38.952Z"
   },
   {
    "duration": 20,
    "start_time": "2021-06-08T16:52:39.208Z"
   },
   {
    "duration": 70,
    "start_time": "2021-06-08T16:52:39.231Z"
   },
   {
    "duration": 98,
    "start_time": "2021-06-08T16:52:39.304Z"
   },
   {
    "duration": 19,
    "start_time": "2021-06-08T16:52:39.404Z"
   },
   {
    "duration": 19,
    "start_time": "2021-06-08T16:52:39.425Z"
   },
   {
    "duration": 38,
    "start_time": "2021-06-08T16:52:39.446Z"
   },
   {
    "duration": 9,
    "start_time": "2021-06-08T16:52:39.487Z"
   },
   {
    "duration": 25,
    "start_time": "2021-06-08T16:52:39.498Z"
   },
   {
    "duration": 61,
    "start_time": "2021-06-08T16:52:39.526Z"
   },
   {
    "duration": 95,
    "start_time": "2021-06-08T16:52:39.589Z"
   },
   {
    "duration": 21,
    "start_time": "2021-06-08T16:52:39.687Z"
   },
   {
    "duration": 42,
    "start_time": "2021-06-08T16:52:39.713Z"
   },
   {
    "duration": 23,
    "start_time": "2021-06-08T16:52:39.783Z"
   },
   {
    "duration": 54,
    "start_time": "2021-06-08T16:52:39.809Z"
   },
   {
    "duration": 14,
    "start_time": "2021-06-08T16:52:39.883Z"
   },
   {
    "duration": 41,
    "start_time": "2021-06-08T16:52:39.900Z"
   },
   {
    "duration": 42,
    "start_time": "2021-06-08T16:52:39.943Z"
   },
   {
    "duration": 38,
    "start_time": "2021-06-08T16:52:39.987Z"
   },
   {
    "duration": 62,
    "start_time": "2021-06-08T16:52:40.027Z"
   },
   {
    "duration": 20,
    "start_time": "2021-06-08T16:52:40.091Z"
   },
   {
    "duration": 48,
    "start_time": "2021-06-08T16:52:40.113Z"
   },
   {
    "duration": 19,
    "start_time": "2021-06-08T16:52:40.183Z"
   },
   {
    "duration": 37,
    "start_time": "2021-06-08T16:52:40.204Z"
   },
   {
    "duration": 64,
    "start_time": "2021-06-08T16:52:40.243Z"
   },
   {
    "duration": 11,
    "start_time": "2021-06-08T16:52:40.309Z"
   },
   {
    "duration": 62,
    "start_time": "2021-06-08T16:52:40.323Z"
   },
   {
    "duration": 11,
    "start_time": "2021-06-08T16:52:40.387Z"
   },
   {
    "duration": 10,
    "start_time": "2021-06-08T16:52:40.400Z"
   },
   {
    "duration": 9,
    "start_time": "2021-06-08T16:52:40.413Z"
   },
   {
    "duration": 695,
    "start_time": "2021-06-08T16:52:40.425Z"
   },
   {
    "duration": 31,
    "start_time": "2021-06-08T16:52:41.121Z"
   },
   {
    "duration": 34,
    "start_time": "2021-06-08T16:52:41.154Z"
   },
   {
    "duration": 11,
    "start_time": "2021-06-08T16:52:41.191Z"
   },
   {
    "duration": 12,
    "start_time": "2021-06-08T16:52:41.204Z"
   },
   {
    "duration": 705,
    "start_time": "2021-06-08T16:52:41.218Z"
   },
   {
    "duration": 9,
    "start_time": "2021-06-08T16:52:41.925Z"
   },
   {
    "duration": 51,
    "start_time": "2021-06-08T16:52:41.937Z"
   },
   {
    "duration": 11,
    "start_time": "2021-06-08T16:52:41.990Z"
   },
   {
    "duration": 11,
    "start_time": "2021-06-08T16:52:42.004Z"
   },
   {
    "duration": 12,
    "start_time": "2021-06-08T16:52:42.017Z"
   },
   {
    "duration": 646,
    "start_time": "2021-06-08T16:52:42.031Z"
   },
   {
    "duration": 33,
    "start_time": "2021-06-08T16:53:00.727Z"
   },
   {
    "duration": 4,
    "start_time": "2021-06-08T16:53:24.091Z"
   },
   {
    "duration": 497,
    "start_time": "2021-06-08T16:53:24.106Z"
   },
   {
    "duration": 28,
    "start_time": "2021-06-08T16:53:24.606Z"
   },
   {
    "duration": 12,
    "start_time": "2021-06-08T16:53:24.638Z"
   },
   {
    "duration": 362,
    "start_time": "2021-06-08T16:53:24.654Z"
   },
   {
    "duration": 29,
    "start_time": "2021-06-08T16:53:25.018Z"
   },
   {
    "duration": 209,
    "start_time": "2021-06-08T16:53:25.049Z"
   },
   {
    "duration": 32,
    "start_time": "2021-06-08T16:53:25.260Z"
   },
   {
    "duration": 170,
    "start_time": "2021-06-08T16:53:25.296Z"
   },
   {
    "duration": 23,
    "start_time": "2021-06-08T16:53:25.469Z"
   },
   {
    "duration": 201,
    "start_time": "2021-06-08T16:53:25.494Z"
   },
   {
    "duration": 20,
    "start_time": "2021-06-08T16:53:25.698Z"
   },
   {
    "duration": 73,
    "start_time": "2021-06-08T16:53:25.721Z"
   },
   {
    "duration": 96,
    "start_time": "2021-06-08T16:53:25.796Z"
   },
   {
    "duration": 24,
    "start_time": "2021-06-08T16:53:25.895Z"
   },
   {
    "duration": 22,
    "start_time": "2021-06-08T16:53:25.922Z"
   },
   {
    "duration": 47,
    "start_time": "2021-06-08T16:53:25.947Z"
   },
   {
    "duration": 8,
    "start_time": "2021-06-08T16:53:25.997Z"
   },
   {
    "duration": 20,
    "start_time": "2021-06-08T16:53:26.008Z"
   },
   {
    "duration": 63,
    "start_time": "2021-06-08T16:53:26.031Z"
   },
   {
    "duration": 89,
    "start_time": "2021-06-08T16:53:26.096Z"
   },
   {
    "duration": 20,
    "start_time": "2021-06-08T16:53:26.188Z"
   },
   {
    "duration": 41,
    "start_time": "2021-06-08T16:53:26.211Z"
   },
   {
    "duration": 23,
    "start_time": "2021-06-08T16:53:26.282Z"
   },
   {
    "duration": 49,
    "start_time": "2021-06-08T16:53:26.308Z"
   },
   {
    "duration": 36,
    "start_time": "2021-06-08T16:53:26.359Z"
   },
   {
    "duration": 42,
    "start_time": "2021-06-08T16:53:26.397Z"
   },
   {
    "duration": 42,
    "start_time": "2021-06-08T16:53:26.442Z"
   },
   {
    "duration": 36,
    "start_time": "2021-06-08T16:53:26.487Z"
   },
   {
    "duration": 58,
    "start_time": "2021-06-08T16:53:26.525Z"
   },
   {
    "duration": 21,
    "start_time": "2021-06-08T16:53:26.585Z"
   },
   {
    "duration": 49,
    "start_time": "2021-06-08T16:53:26.608Z"
   },
   {
    "duration": 19,
    "start_time": "2021-06-08T16:53:26.683Z"
   },
   {
    "duration": 38,
    "start_time": "2021-06-08T16:53:26.704Z"
   },
   {
    "duration": 60,
    "start_time": "2021-06-08T16:53:26.744Z"
   },
   {
    "duration": 11,
    "start_time": "2021-06-08T16:53:26.806Z"
   },
   {
    "duration": 63,
    "start_time": "2021-06-08T16:53:26.820Z"
   },
   {
    "duration": 11,
    "start_time": "2021-06-08T16:53:26.885Z"
   },
   {
    "duration": 12,
    "start_time": "2021-06-08T16:53:26.898Z"
   },
   {
    "duration": 11,
    "start_time": "2021-06-08T16:53:26.912Z"
   },
   {
    "duration": 651,
    "start_time": "2021-06-08T16:53:26.925Z"
   },
   {
    "duration": 29,
    "start_time": "2021-06-08T16:53:27.579Z"
   },
   {
    "duration": 11,
    "start_time": "2021-06-08T16:53:27.611Z"
   },
   {
    "duration": 10,
    "start_time": "2021-06-08T16:53:27.624Z"
   },
   {
    "duration": 48,
    "start_time": "2021-06-08T16:53:27.637Z"
   },
   {
    "duration": 610,
    "start_time": "2021-06-08T16:53:27.688Z"
   },
   {
    "duration": 9,
    "start_time": "2021-06-08T16:53:28.301Z"
   },
   {
    "duration": 30,
    "start_time": "2021-06-08T16:53:28.312Z"
   },
   {
    "duration": 39,
    "start_time": "2021-06-08T16:53:28.344Z"
   },
   {
    "duration": 13,
    "start_time": "2021-06-08T16:53:28.386Z"
   },
   {
    "duration": 12,
    "start_time": "2021-06-08T16:53:28.402Z"
   },
   {
    "duration": 654,
    "start_time": "2021-06-08T16:53:28.416Z"
   },
   {
    "duration": 36,
    "start_time": "2021-06-08T16:53:29.073Z"
   },
   {
    "duration": 11,
    "start_time": "2021-06-08T16:56:11.255Z"
   },
   {
    "duration": 16,
    "start_time": "2021-06-08T17:04:24.284Z"
   },
   {
    "duration": 538,
    "start_time": "2021-06-08T17:28:11.094Z"
   },
   {
    "duration": 4,
    "start_time": "2021-06-08T17:28:26.352Z"
   },
   {
    "duration": 502,
    "start_time": "2021-06-08T17:28:26.358Z"
   },
   {
    "duration": 27,
    "start_time": "2021-06-08T17:28:26.863Z"
   },
   {
    "duration": 11,
    "start_time": "2021-06-08T17:28:26.893Z"
   },
   {
    "duration": 389,
    "start_time": "2021-06-08T17:28:26.907Z"
   },
   {
    "duration": 33,
    "start_time": "2021-06-08T17:28:27.299Z"
   },
   {
    "duration": 316,
    "start_time": "2021-06-08T17:28:27.335Z"
   },
   {
    "duration": 33,
    "start_time": "2021-06-08T17:28:27.653Z"
   },
   {
    "duration": 254,
    "start_time": "2021-06-08T17:28:27.691Z"
   },
   {
    "duration": 23,
    "start_time": "2021-06-08T17:28:27.949Z"
   },
   {
    "duration": 201,
    "start_time": "2021-06-08T17:28:27.984Z"
   },
   {
    "duration": 19,
    "start_time": "2021-06-08T17:28:28.187Z"
   },
   {
    "duration": 51,
    "start_time": "2021-06-08T17:28:28.209Z"
   },
   {
    "duration": 100,
    "start_time": "2021-06-08T17:28:28.263Z"
   },
   {
    "duration": 34,
    "start_time": "2021-06-08T17:28:28.365Z"
   },
   {
    "duration": 15,
    "start_time": "2021-06-08T17:28:28.401Z"
   },
   {
    "duration": 14,
    "start_time": "2021-06-08T17:28:28.419Z"
   },
   {
    "duration": 7,
    "start_time": "2021-06-08T17:28:28.436Z"
   },
   {
    "duration": 58,
    "start_time": "2021-06-08T17:28:28.445Z"
   },
   {
    "duration": 31,
    "start_time": "2021-06-08T17:28:28.505Z"
   },
   {
    "duration": 111,
    "start_time": "2021-06-08T17:28:28.538Z"
   },
   {
    "duration": 37,
    "start_time": "2021-06-08T17:28:28.651Z"
   },
   {
    "duration": 39,
    "start_time": "2021-06-08T17:28:28.690Z"
   },
   {
    "duration": 23,
    "start_time": "2021-06-08T17:28:28.732Z"
   },
   {
    "duration": 70,
    "start_time": "2021-06-08T17:28:28.757Z"
   },
   {
    "duration": 14,
    "start_time": "2021-06-08T17:28:28.829Z"
   },
   {
    "duration": 74,
    "start_time": "2021-06-08T17:28:28.849Z"
   },
   {
    "duration": 18,
    "start_time": "2021-06-08T17:28:28.926Z"
   },
   {
    "duration": 63,
    "start_time": "2021-06-08T17:28:28.946Z"
   },
   {
    "duration": 41,
    "start_time": "2021-06-08T17:28:29.012Z"
   },
   {
    "duration": 43,
    "start_time": "2021-06-08T17:28:29.056Z"
   },
   {
    "duration": 53,
    "start_time": "2021-06-08T17:28:29.101Z"
   },
   {
    "duration": 41,
    "start_time": "2021-06-08T17:28:29.157Z"
   },
   {
    "duration": 49,
    "start_time": "2021-06-08T17:28:29.200Z"
   },
   {
    "duration": 60,
    "start_time": "2021-06-08T17:28:29.251Z"
   },
   {
    "duration": 15,
    "start_time": "2021-06-08T17:28:29.314Z"
   },
   {
    "duration": 67,
    "start_time": "2021-06-08T17:28:29.332Z"
   },
   {
    "duration": 13,
    "start_time": "2021-06-08T17:28:29.401Z"
   },
   {
    "duration": 10,
    "start_time": "2021-06-08T17:28:29.417Z"
   },
   {
    "duration": 12,
    "start_time": "2021-06-08T17:28:29.429Z"
   },
   {
    "duration": 700,
    "start_time": "2021-06-08T17:28:29.444Z"
   },
   {
    "duration": 42,
    "start_time": "2021-06-08T17:28:30.146Z"
   },
   {
    "duration": 13,
    "start_time": "2021-06-08T17:28:30.190Z"
   },
   {
    "duration": 16,
    "start_time": "2021-06-08T17:28:30.205Z"
   },
   {
    "duration": 12,
    "start_time": "2021-06-08T17:28:30.224Z"
   },
   {
    "duration": 687,
    "start_time": "2021-06-08T17:28:30.238Z"
   },
   {
    "duration": 10,
    "start_time": "2021-06-08T17:28:30.927Z"
   },
   {
    "duration": 55,
    "start_time": "2021-06-08T17:28:30.939Z"
   },
   {
    "duration": 18,
    "start_time": "2021-06-08T17:28:30.997Z"
   },
   {
    "duration": 17,
    "start_time": "2021-06-08T17:28:31.018Z"
   },
   {
    "duration": 45,
    "start_time": "2021-06-08T17:28:31.038Z"
   },
   {
    "duration": 629,
    "start_time": "2021-06-08T17:28:31.086Z"
   },
   {
    "duration": 36,
    "start_time": "2021-06-08T17:28:31.718Z"
   },
   {
    "duration": 33,
    "start_time": "2021-06-08T17:28:31.756Z"
   },
   {
    "duration": 33,
    "start_time": "2021-06-08T17:28:31.792Z"
   },
   {
    "duration": 116,
    "start_time": "2021-06-08T17:28:31.828Z"
   },
   {
    "duration": 11,
    "start_time": "2021-06-08T17:31:41.786Z"
   },
   {
    "duration": 11,
    "start_time": "2021-06-08T17:33:41.340Z"
   },
   {
    "duration": 4,
    "start_time": "2021-06-08T17:33:45.379Z"
   },
   {
    "duration": 502,
    "start_time": "2021-06-08T17:33:45.389Z"
   },
   {
    "duration": 27,
    "start_time": "2021-06-08T17:33:45.894Z"
   },
   {
    "duration": 12,
    "start_time": "2021-06-08T17:33:45.924Z"
   },
   {
    "duration": 436,
    "start_time": "2021-06-08T17:33:45.938Z"
   },
   {
    "duration": 35,
    "start_time": "2021-06-08T17:33:46.376Z"
   },
   {
    "duration": 217,
    "start_time": "2021-06-08T17:33:46.413Z"
   },
   {
    "duration": 25,
    "start_time": "2021-06-08T17:33:46.632Z"
   },
   {
    "duration": 200,
    "start_time": "2021-06-08T17:33:46.661Z"
   },
   {
    "duration": 26,
    "start_time": "2021-06-08T17:33:46.864Z"
   },
   {
    "duration": 208,
    "start_time": "2021-06-08T17:33:46.892Z"
   },
   {
    "duration": 19,
    "start_time": "2021-06-08T17:33:47.102Z"
   },
   {
    "duration": 72,
    "start_time": "2021-06-08T17:33:47.124Z"
   },
   {
    "duration": 98,
    "start_time": "2021-06-08T17:33:47.199Z"
   },
   {
    "duration": 18,
    "start_time": "2021-06-08T17:33:47.299Z"
   },
   {
    "duration": 16,
    "start_time": "2021-06-08T17:33:47.319Z"
   },
   {
    "duration": 13,
    "start_time": "2021-06-08T17:33:47.338Z"
   },
   {
    "duration": 36,
    "start_time": "2021-06-08T17:33:47.353Z"
   },
   {
    "duration": 23,
    "start_time": "2021-06-08T17:33:47.391Z"
   },
   {
    "duration": 32,
    "start_time": "2021-06-08T17:33:47.417Z"
   },
   {
    "duration": 104,
    "start_time": "2021-06-08T17:33:47.451Z"
   },
   {
    "duration": 36,
    "start_time": "2021-06-08T17:33:47.557Z"
   },
   {
    "duration": 40,
    "start_time": "2021-06-08T17:33:47.596Z"
   },
   {
    "duration": 42,
    "start_time": "2021-06-08T17:33:47.641Z"
   },
   {
    "duration": 52,
    "start_time": "2021-06-08T17:33:47.686Z"
   },
   {
    "duration": 14,
    "start_time": "2021-06-08T17:33:47.740Z"
   },
   {
    "duration": 64,
    "start_time": "2021-06-08T17:33:47.756Z"
   },
   {
    "duration": 17,
    "start_time": "2021-06-08T17:33:47.822Z"
   },
   {
    "duration": 61,
    "start_time": "2021-06-08T17:33:47.841Z"
   },
   {
    "duration": 29,
    "start_time": "2021-06-08T17:33:47.904Z"
   },
   {
    "duration": 19,
    "start_time": "2021-06-08T17:33:47.935Z"
   },
   {
    "duration": 49,
    "start_time": "2021-06-08T17:33:47.983Z"
   },
   {
    "duration": 18,
    "start_time": "2021-06-08T17:33:48.034Z"
   },
   {
    "duration": 66,
    "start_time": "2021-06-08T17:33:48.055Z"
   },
   {
    "duration": 66,
    "start_time": "2021-06-08T17:33:48.124Z"
   },
   {
    "duration": 13,
    "start_time": "2021-06-08T17:33:48.193Z"
   },
   {
    "duration": 39,
    "start_time": "2021-06-08T17:33:48.209Z"
   },
   {
    "duration": 41,
    "start_time": "2021-06-08T17:33:48.250Z"
   },
   {
    "duration": 11,
    "start_time": "2021-06-08T17:33:48.293Z"
   },
   {
    "duration": 11,
    "start_time": "2021-06-08T17:33:48.307Z"
   },
   {
    "duration": 666,
    "start_time": "2021-06-08T17:33:48.321Z"
   },
   {
    "duration": 30,
    "start_time": "2021-06-08T17:33:48.989Z"
   },
   {
    "duration": 12,
    "start_time": "2021-06-08T17:33:49.022Z"
   },
   {
    "duration": 13,
    "start_time": "2021-06-08T17:33:49.037Z"
   },
   {
    "duration": 11,
    "start_time": "2021-06-08T17:33:49.084Z"
   },
   {
    "duration": 661,
    "start_time": "2021-06-08T17:33:49.097Z"
   },
   {
    "duration": 10,
    "start_time": "2021-06-08T17:33:49.760Z"
   },
   {
    "duration": 32,
    "start_time": "2021-06-08T17:33:49.784Z"
   },
   {
    "duration": 12,
    "start_time": "2021-06-08T17:33:49.819Z"
   },
   {
    "duration": 15,
    "start_time": "2021-06-08T17:33:49.833Z"
   },
   {
    "duration": 41,
    "start_time": "2021-06-08T17:33:49.850Z"
   },
   {
    "duration": 655,
    "start_time": "2021-06-08T17:33:49.894Z"
   },
   {
    "duration": 41,
    "start_time": "2021-06-08T17:33:50.551Z"
   },
   {
    "duration": 10,
    "start_time": "2021-06-08T17:33:50.595Z"
   },
   {
    "duration": 24,
    "start_time": "2021-06-08T17:33:50.607Z"
   },
   {
    "duration": 11,
    "start_time": "2021-06-08T17:33:50.634Z"
   },
   {
    "duration": 14,
    "start_time": "2021-06-08T17:34:29.258Z"
   },
   {
    "duration": 4,
    "start_time": "2021-06-08T17:34:36.781Z"
   },
   {
    "duration": 536,
    "start_time": "2021-06-08T17:34:36.790Z"
   },
   {
    "duration": 28,
    "start_time": "2021-06-08T17:34:37.329Z"
   },
   {
    "duration": 11,
    "start_time": "2021-06-08T17:34:37.360Z"
   },
   {
    "duration": 348,
    "start_time": "2021-06-08T17:34:37.374Z"
   },
   {
    "duration": 29,
    "start_time": "2021-06-08T17:34:37.724Z"
   },
   {
    "duration": 212,
    "start_time": "2021-06-08T17:34:37.755Z"
   },
   {
    "duration": 29,
    "start_time": "2021-06-08T17:34:37.969Z"
   },
   {
    "duration": 197,
    "start_time": "2021-06-08T17:34:38.002Z"
   },
   {
    "duration": 17,
    "start_time": "2021-06-08T17:34:38.202Z"
   },
   {
    "duration": 220,
    "start_time": "2021-06-08T17:34:38.222Z"
   },
   {
    "duration": 19,
    "start_time": "2021-06-08T17:34:38.445Z"
   },
   {
    "duration": 62,
    "start_time": "2021-06-08T17:34:38.467Z"
   },
   {
    "duration": 108,
    "start_time": "2021-06-08T17:34:38.532Z"
   },
   {
    "duration": 20,
    "start_time": "2021-06-08T17:34:38.642Z"
   },
   {
    "duration": 28,
    "start_time": "2021-06-08T17:34:38.664Z"
   },
   {
    "duration": 19,
    "start_time": "2021-06-08T17:34:38.695Z"
   },
   {
    "duration": 8,
    "start_time": "2021-06-08T17:34:38.716Z"
   },
   {
    "duration": 28,
    "start_time": "2021-06-08T17:34:38.726Z"
   },
   {
    "duration": 33,
    "start_time": "2021-06-08T17:34:38.783Z"
   },
   {
    "duration": 95,
    "start_time": "2021-06-08T17:34:38.818Z"
   },
   {
    "duration": 23,
    "start_time": "2021-06-08T17:34:38.915Z"
   },
   {
    "duration": 62,
    "start_time": "2021-06-08T17:34:38.942Z"
   },
   {
    "duration": 26,
    "start_time": "2021-06-08T17:34:39.010Z"
   },
   {
    "duration": 73,
    "start_time": "2021-06-08T17:34:39.039Z"
   },
   {
    "duration": 16,
    "start_time": "2021-06-08T17:34:39.114Z"
   },
   {
    "duration": 64,
    "start_time": "2021-06-08T17:34:39.132Z"
   },
   {
    "duration": 19,
    "start_time": "2021-06-08T17:34:39.198Z"
   },
   {
    "duration": 42,
    "start_time": "2021-06-08T17:34:39.219Z"
   },
   {
    "duration": 30,
    "start_time": "2021-06-08T17:34:39.283Z"
   },
   {
    "duration": 22,
    "start_time": "2021-06-08T17:34:39.315Z"
   },
   {
    "duration": 79,
    "start_time": "2021-06-08T17:34:39.339Z"
   },
   {
    "duration": 22,
    "start_time": "2021-06-08T17:34:39.420Z"
   },
   {
    "duration": 59,
    "start_time": "2021-06-08T17:34:39.444Z"
   },
   {
    "duration": 36,
    "start_time": "2021-06-08T17:34:39.505Z"
   },
   {
    "duration": 11,
    "start_time": "2021-06-08T17:34:39.543Z"
   },
   {
    "duration": 42,
    "start_time": "2021-06-08T17:34:39.584Z"
   },
   {
    "duration": 15,
    "start_time": "2021-06-08T17:34:39.629Z"
   },
   {
    "duration": 43,
    "start_time": "2021-06-08T17:34:39.646Z"
   },
   {
    "duration": 12,
    "start_time": "2021-06-08T17:34:39.691Z"
   },
   {
    "duration": 701,
    "start_time": "2021-06-08T17:34:39.707Z"
   },
   {
    "duration": 30,
    "start_time": "2021-06-08T17:34:40.411Z"
   },
   {
    "duration": 13,
    "start_time": "2021-06-08T17:34:40.443Z"
   },
   {
    "duration": 11,
    "start_time": "2021-06-08T17:34:40.484Z"
   },
   {
    "duration": 11,
    "start_time": "2021-06-08T17:34:40.498Z"
   },
   {
    "duration": 774,
    "start_time": "2021-06-08T17:34:40.511Z"
   },
   {
    "duration": 10,
    "start_time": "2021-06-08T17:34:41.287Z"
   },
   {
    "duration": 33,
    "start_time": "2021-06-08T17:34:41.300Z"
   },
   {
    "duration": 13,
    "start_time": "2021-06-08T17:34:41.336Z"
   },
   {
    "duration": 14,
    "start_time": "2021-06-08T17:34:41.384Z"
   },
   {
    "duration": 14,
    "start_time": "2021-06-08T17:34:41.400Z"
   },
   {
    "duration": 657,
    "start_time": "2021-06-08T17:34:41.416Z"
   },
   {
    "duration": 36,
    "start_time": "2021-06-08T17:34:42.075Z"
   },
   {
    "duration": 9,
    "start_time": "2021-06-08T17:34:42.114Z"
   },
   {
    "duration": 22,
    "start_time": "2021-06-08T17:34:42.125Z"
   },
   {
    "duration": 38,
    "start_time": "2021-06-08T17:34:42.149Z"
   },
   {
    "duration": 10,
    "start_time": "2021-06-08T17:35:19.544Z"
   },
   {
    "duration": 9,
    "start_time": "2021-06-08T17:36:11.479Z"
   },
   {
    "duration": 4,
    "start_time": "2021-06-08T17:36:39.925Z"
   },
   {
    "duration": 503,
    "start_time": "2021-06-08T17:36:39.936Z"
   },
   {
    "duration": 26,
    "start_time": "2021-06-08T17:36:40.441Z"
   },
   {
    "duration": 11,
    "start_time": "2021-06-08T17:36:40.470Z"
   },
   {
    "duration": 359,
    "start_time": "2021-06-08T17:36:40.484Z"
   },
   {
    "duration": 46,
    "start_time": "2021-06-08T17:36:40.845Z"
   },
   {
    "duration": 234,
    "start_time": "2021-06-08T17:36:40.894Z"
   },
   {
    "duration": 25,
    "start_time": "2021-06-08T17:36:41.130Z"
   },
   {
    "duration": 196,
    "start_time": "2021-06-08T17:36:41.158Z"
   },
   {
    "duration": 27,
    "start_time": "2021-06-08T17:36:41.356Z"
   },
   {
    "duration": 208,
    "start_time": "2021-06-08T17:36:41.385Z"
   },
   {
    "duration": 19,
    "start_time": "2021-06-08T17:36:41.595Z"
   },
   {
    "duration": 75,
    "start_time": "2021-06-08T17:36:41.616Z"
   },
   {
    "duration": 90,
    "start_time": "2021-06-08T17:36:41.693Z"
   },
   {
    "duration": 17,
    "start_time": "2021-06-08T17:36:41.785Z"
   },
   {
    "duration": 16,
    "start_time": "2021-06-08T17:36:41.805Z"
   },
   {
    "duration": 13,
    "start_time": "2021-06-08T17:36:41.824Z"
   },
   {
    "duration": 47,
    "start_time": "2021-06-08T17:36:41.839Z"
   },
   {
    "duration": 19,
    "start_time": "2021-06-08T17:36:41.888Z"
   },
   {
    "duration": 34,
    "start_time": "2021-06-08T17:36:41.909Z"
   },
   {
    "duration": 111,
    "start_time": "2021-06-08T17:36:41.945Z"
   },
   {
    "duration": 33,
    "start_time": "2021-06-08T17:36:42.058Z"
   },
   {
    "duration": 41,
    "start_time": "2021-06-08T17:36:42.094Z"
   },
   {
    "duration": 42,
    "start_time": "2021-06-08T17:36:42.141Z"
   },
   {
    "duration": 61,
    "start_time": "2021-06-08T17:36:42.186Z"
   },
   {
    "duration": 14,
    "start_time": "2021-06-08T17:36:42.250Z"
   },
   {
    "duration": 43,
    "start_time": "2021-06-08T17:36:42.282Z"
   },
   {
    "duration": 17,
    "start_time": "2021-06-08T17:36:42.327Z"
   },
   {
    "duration": 65,
    "start_time": "2021-06-08T17:36:42.346Z"
   },
   {
    "duration": 30,
    "start_time": "2021-06-08T17:36:42.413Z"
   },
   {
    "duration": 49,
    "start_time": "2021-06-08T17:36:42.446Z"
   },
   {
    "duration": 51,
    "start_time": "2021-06-08T17:36:42.497Z"
   },
   {
    "duration": 49,
    "start_time": "2021-06-08T17:36:42.551Z"
   },
   {
    "duration": 40,
    "start_time": "2021-06-08T17:36:42.603Z"
   },
   {
    "duration": 67,
    "start_time": "2021-06-08T17:36:42.646Z"
   },
   {
    "duration": 14,
    "start_time": "2021-06-08T17:36:42.716Z"
   },
   {
    "duration": 79,
    "start_time": "2021-06-08T17:36:42.733Z"
   },
   {
    "duration": 15,
    "start_time": "2021-06-08T17:36:42.815Z"
   },
   {
    "duration": 13,
    "start_time": "2021-06-08T17:36:42.832Z"
   },
   {
    "duration": 43,
    "start_time": "2021-06-08T17:36:42.848Z"
   },
   {
    "duration": 659,
    "start_time": "2021-06-08T17:36:42.894Z"
   },
   {
    "duration": 43,
    "start_time": "2021-06-08T17:36:43.556Z"
   },
   {
    "duration": 10,
    "start_time": "2021-06-08T17:36:43.602Z"
   },
   {
    "duration": 9,
    "start_time": "2021-06-08T17:36:43.615Z"
   },
   {
    "duration": 15,
    "start_time": "2021-06-08T17:36:43.627Z"
   },
   {
    "duration": 658,
    "start_time": "2021-06-08T17:36:43.644Z"
   },
   {
    "duration": 10,
    "start_time": "2021-06-08T17:36:44.304Z"
   },
   {
    "duration": 38,
    "start_time": "2021-06-08T17:36:44.316Z"
   },
   {
    "duration": 31,
    "start_time": "2021-06-08T17:36:44.357Z"
   },
   {
    "duration": 10,
    "start_time": "2021-06-08T17:36:44.390Z"
   },
   {
    "duration": 13,
    "start_time": "2021-06-08T17:36:44.403Z"
   },
   {
    "duration": 626,
    "start_time": "2021-06-08T17:36:44.419Z"
   },
   {
    "duration": 48,
    "start_time": "2021-06-08T17:36:45.048Z"
   },
   {
    "duration": 14,
    "start_time": "2021-06-08T17:36:45.099Z"
   },
   {
    "duration": 17,
    "start_time": "2021-06-08T17:36:45.115Z"
   },
   {
    "duration": 7,
    "start_time": "2021-06-08T17:36:45.134Z"
   },
   {
    "duration": 9,
    "start_time": "2021-06-08T17:37:08.291Z"
   },
   {
    "duration": 3,
    "start_time": "2021-06-08T17:38:30.345Z"
   },
   {
    "duration": 4,
    "start_time": "2021-06-08T17:38:35.362Z"
   },
   {
    "duration": 514,
    "start_time": "2021-06-08T17:38:35.375Z"
   },
   {
    "duration": 26,
    "start_time": "2021-06-08T17:38:35.892Z"
   },
   {
    "duration": 11,
    "start_time": "2021-06-08T17:38:35.921Z"
   },
   {
    "duration": 395,
    "start_time": "2021-06-08T17:38:35.935Z"
   },
   {
    "duration": 50,
    "start_time": "2021-06-08T17:38:36.332Z"
   },
   {
    "duration": 320,
    "start_time": "2021-06-08T17:38:36.385Z"
   },
   {
    "duration": 40,
    "start_time": "2021-06-08T17:38:36.708Z"
   },
   {
    "duration": 306,
    "start_time": "2021-06-08T17:38:36.753Z"
   },
   {
    "duration": 27,
    "start_time": "2021-06-08T17:38:37.064Z"
   },
   {
    "duration": 272,
    "start_time": "2021-06-08T17:38:37.094Z"
   },
   {
    "duration": 25,
    "start_time": "2021-06-08T17:38:37.368Z"
   },
   {
    "duration": 46,
    "start_time": "2021-06-08T17:38:37.396Z"
   },
   {
    "duration": 110,
    "start_time": "2021-06-08T17:38:37.444Z"
   },
   {
    "duration": 28,
    "start_time": "2021-06-08T17:38:37.556Z"
   },
   {
    "duration": 14,
    "start_time": "2021-06-08T17:38:37.587Z"
   },
   {
    "duration": 28,
    "start_time": "2021-06-08T17:38:37.604Z"
   },
   {
    "duration": 23,
    "start_time": "2021-06-08T17:38:37.634Z"
   },
   {
    "duration": 29,
    "start_time": "2021-06-08T17:38:37.659Z"
   },
   {
    "duration": 55,
    "start_time": "2021-06-08T17:38:37.691Z"
   },
   {
    "duration": 81,
    "start_time": "2021-06-08T17:38:37.748Z"
   },
   {
    "duration": 20,
    "start_time": "2021-06-08T17:38:37.832Z"
   },
   {
    "duration": 60,
    "start_time": "2021-06-08T17:38:37.854Z"
   },
   {
    "duration": 23,
    "start_time": "2021-06-08T17:38:37.920Z"
   },
   {
    "duration": 67,
    "start_time": "2021-06-08T17:38:37.947Z"
   },
   {
    "duration": 16,
    "start_time": "2021-06-08T17:38:38.016Z"
   },
   {
    "duration": 65,
    "start_time": "2021-06-08T17:38:38.034Z"
   },
   {
    "duration": 18,
    "start_time": "2021-06-08T17:38:38.101Z"
   },
   {
    "duration": 63,
    "start_time": "2021-06-08T17:38:38.122Z"
   },
   {
    "duration": 30,
    "start_time": "2021-06-08T17:38:38.188Z"
   },
   {
    "duration": 21,
    "start_time": "2021-06-08T17:38:38.220Z"
   },
   {
    "duration": 84,
    "start_time": "2021-06-08T17:38:38.243Z"
   },
   {
    "duration": 20,
    "start_time": "2021-06-08T17:38:38.329Z"
   },
   {
    "duration": 63,
    "start_time": "2021-06-08T17:38:38.351Z"
   },
   {
    "duration": 38,
    "start_time": "2021-06-08T17:38:38.417Z"
   },
   {
    "duration": 33,
    "start_time": "2021-06-08T17:38:38.457Z"
   },
   {
    "duration": 40,
    "start_time": "2021-06-08T17:38:38.493Z"
   },
   {
    "duration": 13,
    "start_time": "2021-06-08T17:38:38.535Z"
   },
   {
    "duration": 44,
    "start_time": "2021-06-08T17:38:38.551Z"
   },
   {
    "duration": 13,
    "start_time": "2021-06-08T17:38:38.597Z"
   },
   {
    "duration": 828,
    "start_time": "2021-06-08T17:38:38.612Z"
   },
   {
    "duration": 49,
    "start_time": "2021-06-08T17:38:39.443Z"
   },
   {
    "duration": 18,
    "start_time": "2021-06-08T17:38:39.494Z"
   },
   {
    "duration": 18,
    "start_time": "2021-06-08T17:38:39.515Z"
   },
   {
    "duration": 17,
    "start_time": "2021-06-08T17:38:39.536Z"
   },
   {
    "duration": 756,
    "start_time": "2021-06-08T17:38:39.555Z"
   },
   {
    "duration": 11,
    "start_time": "2021-06-08T17:38:40.313Z"
   },
   {
    "duration": 37,
    "start_time": "2021-06-08T17:38:40.326Z"
   },
   {
    "duration": 18,
    "start_time": "2021-06-08T17:38:40.382Z"
   },
   {
    "duration": 15,
    "start_time": "2021-06-08T17:38:40.403Z"
   },
   {
    "duration": 15,
    "start_time": "2021-06-08T17:38:40.421Z"
   },
   {
    "duration": 966,
    "start_time": "2021-06-08T17:38:40.440Z"
   },
   {
    "duration": 48,
    "start_time": "2021-06-08T17:38:41.409Z"
   },
   {
    "duration": 34,
    "start_time": "2021-06-08T17:38:41.460Z"
   },
   {
    "duration": 31,
    "start_time": "2021-06-08T17:38:41.497Z"
   },
   {
    "duration": 12,
    "start_time": "2021-06-08T17:38:41.530Z"
   },
   {
    "duration": 10,
    "start_time": "2021-06-08T17:39:20.300Z"
   },
   {
    "duration": 3,
    "start_time": "2021-06-08T17:39:37.714Z"
   },
   {
    "duration": 7,
    "start_time": "2021-06-08T17:39:48.541Z"
   },
   {
    "duration": 7,
    "start_time": "2021-06-08T17:39:59.094Z"
   },
   {
    "duration": 12,
    "start_time": "2021-06-08T17:40:46.345Z"
   },
   {
    "duration": 9,
    "start_time": "2021-06-08T17:41:19.029Z"
   },
   {
    "duration": 12,
    "start_time": "2021-06-08T17:42:29.312Z"
   },
   {
    "duration": 14,
    "start_time": "2021-06-08T17:43:04.877Z"
   },
   {
    "duration": 12,
    "start_time": "2021-06-08T17:43:59.883Z"
   },
   {
    "duration": 12,
    "start_time": "2021-06-08T17:44:46.317Z"
   },
   {
    "duration": 12,
    "start_time": "2021-06-08T17:45:40.984Z"
   },
   {
    "duration": 13,
    "start_time": "2021-06-08T17:47:44.305Z"
   },
   {
    "duration": 3,
    "start_time": "2021-06-08T17:47:48.947Z"
   },
   {
    "duration": 516,
    "start_time": "2021-06-08T17:47:48.960Z"
   },
   {
    "duration": 27,
    "start_time": "2021-06-08T17:47:49.478Z"
   },
   {
    "duration": 13,
    "start_time": "2021-06-08T17:47:49.508Z"
   },
   {
    "duration": 383,
    "start_time": "2021-06-08T17:47:49.524Z"
   },
   {
    "duration": 30,
    "start_time": "2021-06-08T17:47:49.909Z"
   },
   {
    "duration": 222,
    "start_time": "2021-06-08T17:47:49.942Z"
   },
   {
    "duration": 33,
    "start_time": "2021-06-08T17:47:50.166Z"
   },
   {
    "duration": 181,
    "start_time": "2021-06-08T17:47:50.203Z"
   },
   {
    "duration": 17,
    "start_time": "2021-06-08T17:47:50.387Z"
   },
   {
    "duration": 255,
    "start_time": "2021-06-08T17:47:50.406Z"
   },
   {
    "duration": 24,
    "start_time": "2021-06-08T17:47:50.663Z"
   },
   {
    "duration": 55,
    "start_time": "2021-06-08T17:47:50.690Z"
   },
   {
    "duration": 98,
    "start_time": "2021-06-08T17:47:50.748Z"
   },
   {
    "duration": 17,
    "start_time": "2021-06-08T17:47:50.848Z"
   },
   {
    "duration": 29,
    "start_time": "2021-06-08T17:47:50.868Z"
   },
   {
    "duration": 15,
    "start_time": "2021-06-08T17:47:50.900Z"
   },
   {
    "duration": 8,
    "start_time": "2021-06-08T17:47:50.918Z"
   },
   {
    "duration": 56,
    "start_time": "2021-06-08T17:47:50.929Z"
   },
   {
    "duration": 31,
    "start_time": "2021-06-08T17:47:50.987Z"
   },
   {
    "duration": 99,
    "start_time": "2021-06-08T17:47:51.021Z"
   },
   {
    "duration": 21,
    "start_time": "2021-06-08T17:47:51.123Z"
   },
   {
    "duration": 59,
    "start_time": "2021-06-08T17:47:51.146Z"
   },
   {
    "duration": 24,
    "start_time": "2021-06-08T17:47:51.211Z"
   },
   {
    "duration": 68,
    "start_time": "2021-06-08T17:47:51.238Z"
   },
   {
    "duration": 14,
    "start_time": "2021-06-08T17:47:51.308Z"
   },
   {
    "duration": 64,
    "start_time": "2021-06-08T17:47:51.324Z"
   },
   {
    "duration": 17,
    "start_time": "2021-06-08T17:47:51.390Z"
   },
   {
    "duration": 36,
    "start_time": "2021-06-08T17:47:51.410Z"
   },
   {
    "duration": 51,
    "start_time": "2021-06-08T17:47:51.449Z"
   },
   {
    "duration": 20,
    "start_time": "2021-06-08T17:47:51.502Z"
   },
   {
    "duration": 80,
    "start_time": "2021-06-08T17:47:51.525Z"
   },
   {
    "duration": 20,
    "start_time": "2021-06-08T17:47:51.607Z"
   },
   {
    "duration": 61,
    "start_time": "2021-06-08T17:47:51.630Z"
   },
   {
    "duration": 36,
    "start_time": "2021-06-08T17:47:51.693Z"
   },
   {
    "duration": 12,
    "start_time": "2021-06-08T17:47:51.731Z"
   },
   {
    "duration": 71,
    "start_time": "2021-06-08T17:47:51.745Z"
   },
   {
    "duration": 11,
    "start_time": "2021-06-08T17:47:51.818Z"
   },
   {
    "duration": 11,
    "start_time": "2021-06-08T17:47:51.831Z"
   },
   {
    "duration": 45,
    "start_time": "2021-06-08T17:47:51.844Z"
   },
   {
    "duration": 722,
    "start_time": "2021-06-08T17:47:51.892Z"
   },
   {
    "duration": 32,
    "start_time": "2021-06-08T17:47:52.616Z"
   },
   {
    "duration": 39,
    "start_time": "2021-06-08T17:47:52.650Z"
   },
   {
    "duration": 11,
    "start_time": "2021-06-08T17:47:52.692Z"
   },
   {
    "duration": 11,
    "start_time": "2021-06-08T17:47:52.705Z"
   },
   {
    "duration": 668,
    "start_time": "2021-06-08T17:47:52.718Z"
   },
   {
    "duration": 10,
    "start_time": "2021-06-08T17:47:53.388Z"
   },
   {
    "duration": 33,
    "start_time": "2021-06-08T17:47:53.400Z"
   },
   {
    "duration": 10,
    "start_time": "2021-06-08T17:47:53.436Z"
   },
   {
    "duration": 45,
    "start_time": "2021-06-08T17:47:53.449Z"
   },
   {
    "duration": 13,
    "start_time": "2021-06-08T17:47:53.496Z"
   },
   {
    "duration": 748,
    "start_time": "2021-06-08T17:47:53.512Z"
   },
   {
    "duration": 44,
    "start_time": "2021-06-08T17:47:54.263Z"
   },
   {
    "duration": 13,
    "start_time": "2021-06-08T17:47:54.310Z"
   },
   {
    "duration": 19,
    "start_time": "2021-06-08T17:47:54.326Z"
   },
   {
    "duration": 48,
    "start_time": "2021-06-08T17:47:54.348Z"
   },
   {
    "duration": 4,
    "start_time": "2021-06-08T17:48:04.673Z"
   },
   {
    "duration": 677,
    "start_time": "2021-06-08T17:48:04.684Z"
   },
   {
    "duration": 27,
    "start_time": "2021-06-08T17:48:05.364Z"
   },
   {
    "duration": 13,
    "start_time": "2021-06-08T17:48:05.394Z"
   },
   {
    "duration": 414,
    "start_time": "2021-06-08T17:48:05.410Z"
   },
   {
    "duration": 30,
    "start_time": "2021-06-08T17:48:05.827Z"
   },
   {
    "duration": 231,
    "start_time": "2021-06-08T17:48:05.860Z"
   },
   {
    "duration": 26,
    "start_time": "2021-06-08T17:48:06.093Z"
   },
   {
    "duration": 183,
    "start_time": "2021-06-08T17:48:06.123Z"
   },
   {
    "duration": 18,
    "start_time": "2021-06-08T17:48:06.309Z"
   },
   {
    "duration": 221,
    "start_time": "2021-06-08T17:48:06.329Z"
   },
   {
    "duration": 33,
    "start_time": "2021-06-08T17:48:06.553Z"
   },
   {
    "duration": 53,
    "start_time": "2021-06-08T17:48:06.589Z"
   },
   {
    "duration": 160,
    "start_time": "2021-06-08T17:48:06.645Z"
   },
   {
    "duration": 26,
    "start_time": "2021-06-08T17:48:06.808Z"
   },
   {
    "duration": 15,
    "start_time": "2021-06-08T17:48:06.837Z"
   },
   {
    "duration": 40,
    "start_time": "2021-06-08T17:48:06.854Z"
   },
   {
    "duration": 7,
    "start_time": "2021-06-08T17:48:06.896Z"
   },
   {
    "duration": 21,
    "start_time": "2021-06-08T17:48:06.906Z"
   },
   {
    "duration": 64,
    "start_time": "2021-06-08T17:48:06.929Z"
   },
   {
    "duration": 93,
    "start_time": "2021-06-08T17:48:06.996Z"
   },
   {
    "duration": 20,
    "start_time": "2021-06-08T17:48:07.091Z"
   },
   {
    "duration": 44,
    "start_time": "2021-06-08T17:48:07.113Z"
   },
   {
    "duration": 29,
    "start_time": "2021-06-08T17:48:07.186Z"
   },
   {
    "duration": 89,
    "start_time": "2021-06-08T17:48:07.219Z"
   },
   {
    "duration": 17,
    "start_time": "2021-06-08T17:48:07.312Z"
   },
   {
    "duration": 69,
    "start_time": "2021-06-08T17:48:07.332Z"
   },
   {
    "duration": 17,
    "start_time": "2021-06-08T17:48:07.404Z"
   },
   {
    "duration": 39,
    "start_time": "2021-06-08T17:48:07.424Z"
   },
   {
    "duration": 29,
    "start_time": "2021-06-08T17:48:07.483Z"
   },
   {
    "duration": 20,
    "start_time": "2021-06-08T17:48:07.515Z"
   },
   {
    "duration": 84,
    "start_time": "2021-06-08T17:48:07.538Z"
   },
   {
    "duration": 19,
    "start_time": "2021-06-08T17:48:07.625Z"
   },
   {
    "duration": 60,
    "start_time": "2021-06-08T17:48:07.646Z"
   },
   {
    "duration": 36,
    "start_time": "2021-06-08T17:48:07.709Z"
   },
   {
    "duration": 39,
    "start_time": "2021-06-08T17:48:07.747Z"
   },
   {
    "duration": 45,
    "start_time": "2021-06-08T17:48:07.789Z"
   },
   {
    "duration": 11,
    "start_time": "2021-06-08T17:48:07.837Z"
   },
   {
    "duration": 38,
    "start_time": "2021-06-08T17:48:07.851Z"
   },
   {
    "duration": 13,
    "start_time": "2021-06-08T17:48:07.892Z"
   },
   {
    "duration": 706,
    "start_time": "2021-06-08T17:48:07.908Z"
   },
   {
    "duration": 31,
    "start_time": "2021-06-08T17:48:08.617Z"
   },
   {
    "duration": 36,
    "start_time": "2021-06-08T17:48:08.650Z"
   },
   {
    "duration": 11,
    "start_time": "2021-06-08T17:48:08.688Z"
   },
   {
    "duration": 12,
    "start_time": "2021-06-08T17:48:08.701Z"
   },
   {
    "duration": 659,
    "start_time": "2021-06-08T17:48:08.715Z"
   },
   {
    "duration": 14,
    "start_time": "2021-06-08T17:48:09.376Z"
   },
   {
    "duration": 34,
    "start_time": "2021-06-08T17:48:09.392Z"
   },
   {
    "duration": 11,
    "start_time": "2021-06-08T17:48:09.428Z"
   },
   {
    "duration": 46,
    "start_time": "2021-06-08T17:48:09.442Z"
   },
   {
    "duration": 11,
    "start_time": "2021-06-08T17:48:09.490Z"
   },
   {
    "duration": 657,
    "start_time": "2021-06-08T17:48:09.503Z"
   },
   {
    "duration": 41,
    "start_time": "2021-06-08T17:48:10.162Z"
   },
   {
    "duration": 11,
    "start_time": "2021-06-08T17:48:10.205Z"
   },
   {
    "duration": 19,
    "start_time": "2021-06-08T17:48:10.219Z"
   },
   {
    "duration": 51,
    "start_time": "2021-06-08T17:48:10.241Z"
   },
   {
    "duration": 371,
    "start_time": "2021-06-08T17:48:58.867Z"
   },
   {
    "duration": 290,
    "start_time": "2021-06-08T17:49:14.306Z"
   },
   {
    "duration": 6,
    "start_time": "2021-06-08T17:50:15.329Z"
   },
   {
    "duration": 4,
    "start_time": "2021-06-08T17:51:30.797Z"
   },
   {
    "duration": 568,
    "start_time": "2021-06-08T17:51:30.808Z"
   },
   {
    "duration": 45,
    "start_time": "2021-06-08T17:51:31.379Z"
   },
   {
    "duration": 16,
    "start_time": "2021-06-08T17:51:31.428Z"
   },
   {
    "duration": 456,
    "start_time": "2021-06-08T17:51:31.448Z"
   },
   {
    "duration": 29,
    "start_time": "2021-06-08T17:51:31.906Z"
   },
   {
    "duration": 264,
    "start_time": "2021-06-08T17:51:31.937Z"
   },
   {
    "duration": 25,
    "start_time": "2021-06-08T17:51:32.204Z"
   },
   {
    "duration": 221,
    "start_time": "2021-06-08T17:51:32.233Z"
   },
   {
    "duration": 29,
    "start_time": "2021-06-08T17:51:32.457Z"
   },
   {
    "duration": 248,
    "start_time": "2021-06-08T17:51:32.489Z"
   },
   {
    "duration": 20,
    "start_time": "2021-06-08T17:51:32.739Z"
   },
   {
    "duration": 70,
    "start_time": "2021-06-08T17:51:32.762Z"
   },
   {
    "duration": 113,
    "start_time": "2021-06-08T17:51:32.835Z"
   },
   {
    "duration": 19,
    "start_time": "2021-06-08T17:51:32.950Z"
   },
   {
    "duration": 20,
    "start_time": "2021-06-08T17:51:32.985Z"
   },
   {
    "duration": 16,
    "start_time": "2021-06-08T17:51:33.007Z"
   },
   {
    "duration": 9,
    "start_time": "2021-06-08T17:51:33.026Z"
   },
   {
    "duration": 63,
    "start_time": "2021-06-08T17:51:33.037Z"
   },
   {
    "duration": 33,
    "start_time": "2021-06-08T17:51:33.103Z"
   },
   {
    "duration": 118,
    "start_time": "2021-06-08T17:51:33.139Z"
   },
   {
    "duration": 33,
    "start_time": "2021-06-08T17:51:33.259Z"
   },
   {
    "duration": 44,
    "start_time": "2021-06-08T17:51:33.295Z"
   },
   {
    "duration": 45,
    "start_time": "2021-06-08T17:51:33.345Z"
   },
   {
    "duration": 52,
    "start_time": "2021-06-08T17:51:33.395Z"
   },
   {
    "duration": 37,
    "start_time": "2021-06-08T17:51:33.450Z"
   },
   {
    "duration": 51,
    "start_time": "2021-06-08T17:51:33.489Z"
   },
   {
    "duration": 43,
    "start_time": "2021-06-08T17:51:33.542Z"
   },
   {
    "duration": 42,
    "start_time": "2021-06-08T17:51:33.588Z"
   },
   {
    "duration": 69,
    "start_time": "2021-06-08T17:51:33.633Z"
   },
   {
    "duration": 21,
    "start_time": "2021-06-08T17:51:33.705Z"
   },
   {
    "duration": 85,
    "start_time": "2021-06-08T17:51:33.729Z"
   },
   {
    "duration": 19,
    "start_time": "2021-06-08T17:51:33.817Z"
   },
   {
    "duration": 70,
    "start_time": "2021-06-08T17:51:33.839Z"
   },
   {
    "duration": 34,
    "start_time": "2021-06-08T17:51:33.912Z"
   },
   {
    "duration": 37,
    "start_time": "2021-06-08T17:51:33.949Z"
   },
   {
    "duration": 43,
    "start_time": "2021-06-08T17:51:33.990Z"
   },
   {
    "duration": 12,
    "start_time": "2021-06-08T17:51:34.036Z"
   },
   {
    "duration": 43,
    "start_time": "2021-06-08T17:51:34.051Z"
   },
   {
    "duration": 15,
    "start_time": "2021-06-08T17:51:34.097Z"
   },
   {
    "duration": 794,
    "start_time": "2021-06-08T17:51:34.114Z"
   },
   {
    "duration": 32,
    "start_time": "2021-06-08T17:51:34.911Z"
   },
   {
    "duration": 42,
    "start_time": "2021-06-08T17:51:34.946Z"
   },
   {
    "duration": 15,
    "start_time": "2021-06-08T17:51:34.991Z"
   },
   {
    "duration": 11,
    "start_time": "2021-06-08T17:51:35.008Z"
   },
   {
    "duration": 699,
    "start_time": "2021-06-08T17:51:35.021Z"
   },
   {
    "duration": 10,
    "start_time": "2021-06-08T17:51:35.722Z"
   },
   {
    "duration": 51,
    "start_time": "2021-06-08T17:51:35.734Z"
   },
   {
    "duration": 15,
    "start_time": "2021-06-08T17:51:35.788Z"
   },
   {
    "duration": 10,
    "start_time": "2021-06-08T17:51:35.806Z"
   },
   {
    "duration": 15,
    "start_time": "2021-06-08T17:51:35.819Z"
   },
   {
    "duration": 683,
    "start_time": "2021-06-08T17:51:35.836Z"
   },
   {
    "duration": 35,
    "start_time": "2021-06-08T17:51:36.521Z"
   },
   {
    "duration": 34,
    "start_time": "2021-06-08T17:51:36.558Z"
   },
   {
    "duration": 20,
    "start_time": "2021-06-08T17:51:36.596Z"
   },
   {
    "duration": 7,
    "start_time": "2021-06-08T17:51:36.619Z"
   },
   {
    "duration": 4,
    "start_time": "2021-06-08T17:53:09.343Z"
   },
   {
    "duration": 7,
    "start_time": "2021-06-08T17:54:16.871Z"
   },
   {
    "duration": 6,
    "start_time": "2021-06-08T17:54:56.110Z"
   },
   {
    "duration": 7,
    "start_time": "2021-06-08T17:55:00.875Z"
   },
   {
    "duration": 4,
    "start_time": "2021-06-08T17:55:14.750Z"
   },
   {
    "duration": 538,
    "start_time": "2021-06-08T17:55:14.756Z"
   },
   {
    "duration": 29,
    "start_time": "2021-06-08T17:55:15.298Z"
   },
   {
    "duration": 11,
    "start_time": "2021-06-08T17:55:15.331Z"
   },
   {
    "duration": 412,
    "start_time": "2021-06-08T17:55:15.344Z"
   },
   {
    "duration": 45,
    "start_time": "2021-06-08T17:55:15.758Z"
   },
   {
    "duration": 213,
    "start_time": "2021-06-08T17:55:15.806Z"
   },
   {
    "duration": 25,
    "start_time": "2021-06-08T17:55:16.023Z"
   },
   {
    "duration": 202,
    "start_time": "2021-06-08T17:55:16.051Z"
   },
   {
    "duration": 30,
    "start_time": "2021-06-08T17:55:16.256Z"
   },
   {
    "duration": 222,
    "start_time": "2021-06-08T17:55:16.289Z"
   },
   {
    "duration": 19,
    "start_time": "2021-06-08T17:55:16.513Z"
   },
   {
    "duration": 77,
    "start_time": "2021-06-08T17:55:16.535Z"
   },
   {
    "duration": 98,
    "start_time": "2021-06-08T17:55:16.615Z"
   },
   {
    "duration": 17,
    "start_time": "2021-06-08T17:55:16.715Z"
   },
   {
    "duration": 15,
    "start_time": "2021-06-08T17:55:16.735Z"
   },
   {
    "duration": 37,
    "start_time": "2021-06-08T17:55:16.753Z"
   },
   {
    "duration": 11,
    "start_time": "2021-06-08T17:55:16.793Z"
   },
   {
    "duration": 23,
    "start_time": "2021-06-08T17:55:16.806Z"
   },
   {
    "duration": 69,
    "start_time": "2021-06-08T17:55:16.832Z"
   },
   {
    "duration": 97,
    "start_time": "2021-06-08T17:55:16.905Z"
   },
   {
    "duration": 20,
    "start_time": "2021-06-08T17:55:17.004Z"
   },
   {
    "duration": 61,
    "start_time": "2021-06-08T17:55:17.029Z"
   },
   {
    "duration": 24,
    "start_time": "2021-06-08T17:55:17.095Z"
   },
   {
    "duration": 77,
    "start_time": "2021-06-08T17:55:17.122Z"
   },
   {
    "duration": 15,
    "start_time": "2021-06-08T17:55:17.201Z"
   },
   {
    "duration": 64,
    "start_time": "2021-06-08T17:55:17.218Z"
   },
   {
    "duration": 25,
    "start_time": "2021-06-08T17:55:17.285Z"
   },
   {
    "duration": 39,
    "start_time": "2021-06-08T17:55:17.312Z"
   },
   {
    "duration": 65,
    "start_time": "2021-06-08T17:55:17.353Z"
   },
   {
    "duration": 20,
    "start_time": "2021-06-08T17:55:17.420Z"
   },
   {
    "duration": 82,
    "start_time": "2021-06-08T17:55:17.442Z"
   },
   {
    "duration": 18,
    "start_time": "2021-06-08T17:55:17.526Z"
   },
   {
    "duration": 70,
    "start_time": "2021-06-08T17:55:17.546Z"
   },
   {
    "duration": 34,
    "start_time": "2021-06-08T17:55:17.618Z"
   },
   {
    "duration": 34,
    "start_time": "2021-06-08T17:55:17.654Z"
   },
   {
    "duration": 43,
    "start_time": "2021-06-08T17:55:17.693Z"
   },
   {
    "duration": 12,
    "start_time": "2021-06-08T17:55:17.738Z"
   },
   {
    "duration": 41,
    "start_time": "2021-06-08T17:55:17.752Z"
   },
   {
    "duration": 12,
    "start_time": "2021-06-08T17:55:17.798Z"
   },
   {
    "duration": 704,
    "start_time": "2021-06-08T17:55:17.813Z"
   },
   {
    "duration": 30,
    "start_time": "2021-06-08T17:55:18.519Z"
   },
   {
    "duration": 36,
    "start_time": "2021-06-08T17:55:18.551Z"
   },
   {
    "duration": 22,
    "start_time": "2021-06-08T17:55:18.591Z"
   },
   {
    "duration": 11,
    "start_time": "2021-06-08T17:55:18.615Z"
   },
   {
    "duration": 730,
    "start_time": "2021-06-08T17:55:18.628Z"
   },
   {
    "duration": 22,
    "start_time": "2021-06-08T17:55:19.361Z"
   },
   {
    "duration": 40,
    "start_time": "2021-06-08T17:55:19.386Z"
   },
   {
    "duration": 11,
    "start_time": "2021-06-08T17:55:19.429Z"
   },
   {
    "duration": 50,
    "start_time": "2021-06-08T17:55:19.442Z"
   },
   {
    "duration": 20,
    "start_time": "2021-06-08T17:55:19.496Z"
   },
   {
    "duration": 783,
    "start_time": "2021-06-08T17:55:19.519Z"
   },
   {
    "duration": 34,
    "start_time": "2021-06-08T17:55:20.304Z"
   },
   {
    "duration": 12,
    "start_time": "2021-06-08T17:55:20.342Z"
   },
   {
    "duration": 20,
    "start_time": "2021-06-08T17:55:20.385Z"
   },
   {
    "duration": 3,
    "start_time": "2021-06-08T17:55:20.409Z"
   },
   {
    "duration": 10,
    "start_time": "2021-06-08T17:55:20.415Z"
   },
   {
    "duration": 7,
    "start_time": "2021-06-08T17:55:37.924Z"
   },
   {
    "duration": 6,
    "start_time": "2021-06-08T18:00:26.354Z"
   },
   {
    "duration": 11,
    "start_time": "2021-06-08T18:00:45.044Z"
   },
   {
    "duration": 7,
    "start_time": "2021-06-08T18:06:17.627Z"
   },
   {
    "duration": 4,
    "start_time": "2021-06-08T18:06:24.794Z"
   },
   {
    "duration": 535,
    "start_time": "2021-06-08T18:06:24.805Z"
   },
   {
    "duration": 28,
    "start_time": "2021-06-08T18:06:25.342Z"
   },
   {
    "duration": 13,
    "start_time": "2021-06-08T18:06:25.373Z"
   },
   {
    "duration": 394,
    "start_time": "2021-06-08T18:06:25.391Z"
   },
   {
    "duration": 34,
    "start_time": "2021-06-08T18:06:25.788Z"
   },
   {
    "duration": 269,
    "start_time": "2021-06-08T18:06:25.824Z"
   },
   {
    "duration": 30,
    "start_time": "2021-06-08T18:06:26.096Z"
   },
   {
    "duration": 204,
    "start_time": "2021-06-08T18:06:26.129Z"
   },
   {
    "duration": 17,
    "start_time": "2021-06-08T18:06:26.336Z"
   },
   {
    "duration": 227,
    "start_time": "2021-06-08T18:06:26.356Z"
   },
   {
    "duration": 25,
    "start_time": "2021-06-08T18:06:26.586Z"
   },
   {
    "duration": 73,
    "start_time": "2021-06-08T18:06:26.614Z"
   },
   {
    "duration": 92,
    "start_time": "2021-06-08T18:06:26.691Z"
   },
   {
    "duration": 25,
    "start_time": "2021-06-08T18:06:26.786Z"
   },
   {
    "duration": 16,
    "start_time": "2021-06-08T18:06:26.813Z"
   },
   {
    "duration": 12,
    "start_time": "2021-06-08T18:06:26.832Z"
   },
   {
    "duration": 44,
    "start_time": "2021-06-08T18:06:26.846Z"
   },
   {
    "duration": 25,
    "start_time": "2021-06-08T18:06:26.894Z"
   },
   {
    "duration": 35,
    "start_time": "2021-06-08T18:06:26.921Z"
   },
   {
    "duration": 107,
    "start_time": "2021-06-08T18:06:26.958Z"
   },
   {
    "duration": 36,
    "start_time": "2021-06-08T18:06:27.067Z"
   },
   {
    "duration": 42,
    "start_time": "2021-06-08T18:06:27.105Z"
   },
   {
    "duration": 58,
    "start_time": "2021-06-08T18:06:27.152Z"
   },
   {
    "duration": 50,
    "start_time": "2021-06-08T18:06:27.214Z"
   },
   {
    "duration": 44,
    "start_time": "2021-06-08T18:06:27.266Z"
   },
   {
    "duration": 69,
    "start_time": "2021-06-08T18:06:27.313Z"
   },
   {
    "duration": 26,
    "start_time": "2021-06-08T18:06:27.387Z"
   },
   {
    "duration": 70,
    "start_time": "2021-06-08T18:06:27.416Z"
   },
   {
    "duration": 35,
    "start_time": "2021-06-08T18:06:27.489Z"
   },
   {
    "duration": 22,
    "start_time": "2021-06-08T18:06:27.527Z"
   },
   {
    "duration": 104,
    "start_time": "2021-06-08T18:06:27.552Z"
   },
   {
    "duration": 40,
    "start_time": "2021-06-08T18:06:27.659Z"
   },
   {
    "duration": 42,
    "start_time": "2021-06-08T18:06:27.702Z"
   },
   {
    "duration": 70,
    "start_time": "2021-06-08T18:06:27.747Z"
   },
   {
    "duration": 11,
    "start_time": "2021-06-08T18:06:27.826Z"
   },
   {
    "duration": 74,
    "start_time": "2021-06-08T18:06:27.840Z"
   },
   {
    "duration": 13,
    "start_time": "2021-06-08T18:06:27.917Z"
   },
   {
    "duration": 11,
    "start_time": "2021-06-08T18:06:27.933Z"
   },
   {
    "duration": 39,
    "start_time": "2021-06-08T18:06:27.947Z"
   },
   {
    "duration": 821,
    "start_time": "2021-06-08T18:06:27.989Z"
   },
   {
    "duration": 33,
    "start_time": "2021-06-08T18:06:28.812Z"
   },
   {
    "duration": 12,
    "start_time": "2021-06-08T18:06:28.847Z"
   },
   {
    "duration": 16,
    "start_time": "2021-06-08T18:06:28.885Z"
   },
   {
    "duration": 12,
    "start_time": "2021-06-08T18:06:28.905Z"
   },
   {
    "duration": 763,
    "start_time": "2021-06-08T18:06:28.920Z"
   },
   {
    "duration": 13,
    "start_time": "2021-06-08T18:06:29.686Z"
   },
   {
    "duration": 47,
    "start_time": "2021-06-08T18:06:29.702Z"
   },
   {
    "duration": 31,
    "start_time": "2021-06-08T18:06:29.752Z"
   },
   {
    "duration": 14,
    "start_time": "2021-06-08T18:06:29.786Z"
   },
   {
    "duration": 17,
    "start_time": "2021-06-08T18:06:29.803Z"
   },
   {
    "duration": 742,
    "start_time": "2021-06-08T18:06:29.823Z"
   },
   {
    "duration": 49,
    "start_time": "2021-06-08T18:06:30.569Z"
   },
   {
    "duration": 12,
    "start_time": "2021-06-08T18:06:30.621Z"
   },
   {
    "duration": 48,
    "start_time": "2021-06-08T18:06:30.635Z"
   },
   {
    "duration": 5,
    "start_time": "2021-06-08T18:06:30.686Z"
   },
   {
    "duration": 19,
    "start_time": "2021-06-08T18:06:30.694Z"
   },
   {
    "duration": 28,
    "start_time": "2021-06-08T18:06:30.716Z"
   },
   {
    "duration": 253,
    "start_time": "2021-06-08T18:24:28.287Z"
   },
   {
    "duration": 4,
    "start_time": "2021-06-08T18:24:34.853Z"
   },
   {
    "duration": 584,
    "start_time": "2021-06-08T18:24:34.860Z"
   },
   {
    "duration": 28,
    "start_time": "2021-06-08T18:24:35.447Z"
   },
   {
    "duration": 25,
    "start_time": "2021-06-08T18:24:35.478Z"
   },
   {
    "duration": 441,
    "start_time": "2021-06-08T18:24:35.507Z"
   },
   {
    "duration": 47,
    "start_time": "2021-06-08T18:24:35.950Z"
   },
   {
    "duration": 251,
    "start_time": "2021-06-08T18:24:36.001Z"
   },
   {
    "duration": 55,
    "start_time": "2021-06-08T18:24:36.254Z"
   },
   {
    "duration": 194,
    "start_time": "2021-06-08T18:24:36.314Z"
   },
   {
    "duration": 16,
    "start_time": "2021-06-08T18:24:36.511Z"
   },
   {
    "duration": 234,
    "start_time": "2021-06-08T18:24:36.530Z"
   },
   {
    "duration": 30,
    "start_time": "2021-06-08T18:24:36.766Z"
   },
   {
    "duration": 51,
    "start_time": "2021-06-08T18:24:36.800Z"
   },
   {
    "duration": 119,
    "start_time": "2021-06-08T18:24:36.853Z"
   },
   {
    "duration": 24,
    "start_time": "2021-06-08T18:24:36.984Z"
   },
   {
    "duration": 15,
    "start_time": "2021-06-08T18:24:37.011Z"
   },
   {
    "duration": 13,
    "start_time": "2021-06-08T18:24:37.029Z"
   },
   {
    "duration": 49,
    "start_time": "2021-06-08T18:24:37.044Z"
   },
   {
    "duration": 22,
    "start_time": "2021-06-08T18:24:37.096Z"
   },
   {
    "duration": 68,
    "start_time": "2021-06-08T18:24:37.121Z"
   },
   {
    "duration": 104,
    "start_time": "2021-06-08T18:24:37.193Z"
   },
   {
    "duration": 22,
    "start_time": "2021-06-08T18:24:37.300Z"
   },
   {
    "duration": 79,
    "start_time": "2021-06-08T18:24:37.325Z"
   },
   {
    "duration": 25,
    "start_time": "2021-06-08T18:24:37.407Z"
   },
   {
    "duration": 79,
    "start_time": "2021-06-08T18:24:37.434Z"
   },
   {
    "duration": 15,
    "start_time": "2021-06-08T18:24:37.515Z"
   },
   {
    "duration": 75,
    "start_time": "2021-06-08T18:24:37.537Z"
   },
   {
    "duration": 18,
    "start_time": "2021-06-08T18:24:37.615Z"
   },
   {
    "duration": 59,
    "start_time": "2021-06-08T18:24:37.636Z"
   },
   {
    "duration": 31,
    "start_time": "2021-06-08T18:24:37.698Z"
   },
   {
    "duration": 21,
    "start_time": "2021-06-08T18:24:37.731Z"
   },
   {
    "duration": 81,
    "start_time": "2021-06-08T18:24:37.754Z"
   },
   {
    "duration": 19,
    "start_time": "2021-06-08T18:24:37.838Z"
   },
   {
    "duration": 65,
    "start_time": "2021-06-08T18:24:37.859Z"
   },
   {
    "duration": 60,
    "start_time": "2021-06-08T18:24:37.926Z"
   },
   {
    "duration": 18,
    "start_time": "2021-06-08T18:24:37.989Z"
   },
   {
    "duration": 41,
    "start_time": "2021-06-08T18:24:38.011Z"
   },
   {
    "duration": 19,
    "start_time": "2021-06-08T18:24:38.083Z"
   },
   {
    "duration": 13,
    "start_time": "2021-06-08T18:24:38.106Z"
   },
   {
    "duration": 14,
    "start_time": "2021-06-08T18:24:38.122Z"
   },
   {
    "duration": 762,
    "start_time": "2021-06-08T18:24:38.139Z"
   },
   {
    "duration": 33,
    "start_time": "2021-06-08T18:24:38.903Z"
   },
   {
    "duration": 12,
    "start_time": "2021-06-08T18:24:38.939Z"
   },
   {
    "duration": 52,
    "start_time": "2021-06-08T18:24:38.953Z"
   },
   {
    "duration": 15,
    "start_time": "2021-06-08T18:24:39.008Z"
   },
   {
    "duration": 852,
    "start_time": "2021-06-08T18:24:39.026Z"
   },
   {
    "duration": 15,
    "start_time": "2021-06-08T18:24:39.885Z"
   },
   {
    "duration": 33,
    "start_time": "2021-06-08T18:24:39.903Z"
   },
   {
    "duration": 51,
    "start_time": "2021-06-08T18:24:39.939Z"
   },
   {
    "duration": 14,
    "start_time": "2021-06-08T18:24:39.993Z"
   },
   {
    "duration": 16,
    "start_time": "2021-06-08T18:24:40.011Z"
   },
   {
    "duration": 723,
    "start_time": "2021-06-08T18:24:40.030Z"
   },
   {
    "duration": 52,
    "start_time": "2021-06-08T18:24:40.755Z"
   },
   {
    "duration": 11,
    "start_time": "2021-06-08T18:24:40.810Z"
   },
   {
    "duration": 20,
    "start_time": "2021-06-08T18:24:40.824Z"
   },
   {
    "duration": 390,
    "start_time": "2021-06-08T18:24:40.846Z"
   },
   {
    "duration": 17,
    "start_time": "2021-06-08T18:24:59.990Z"
   },
   {
    "duration": 12,
    "start_time": "2021-06-08T18:29:17.942Z"
   },
   {
    "duration": 15,
    "start_time": "2021-06-08T18:30:37.262Z"
   },
   {
    "duration": 17,
    "start_time": "2021-06-08T18:30:57.096Z"
   },
   {
    "duration": 21,
    "start_time": "2021-06-08T18:31:05.483Z"
   },
   {
    "duration": 15,
    "start_time": "2021-06-08T18:31:09.159Z"
   },
   {
    "duration": 4,
    "start_time": "2021-06-08T18:31:12.632Z"
   },
   {
    "duration": 521,
    "start_time": "2021-06-08T18:31:12.645Z"
   },
   {
    "duration": 36,
    "start_time": "2021-06-08T18:31:13.169Z"
   },
   {
    "duration": 12,
    "start_time": "2021-06-08T18:31:13.210Z"
   },
   {
    "duration": 423,
    "start_time": "2021-06-08T18:31:13.226Z"
   },
   {
    "duration": 53,
    "start_time": "2021-06-08T18:31:13.652Z"
   },
   {
    "duration": 247,
    "start_time": "2021-06-08T18:31:13.708Z"
   },
   {
    "duration": 44,
    "start_time": "2021-06-08T18:31:13.957Z"
   },
   {
    "duration": 207,
    "start_time": "2021-06-08T18:31:14.006Z"
   },
   {
    "duration": 16,
    "start_time": "2021-06-08T18:31:14.216Z"
   },
   {
    "duration": 240,
    "start_time": "2021-06-08T18:31:14.235Z"
   },
   {
    "duration": 27,
    "start_time": "2021-06-08T18:31:14.478Z"
   },
   {
    "duration": 50,
    "start_time": "2021-06-08T18:31:14.508Z"
   },
   {
    "duration": 135,
    "start_time": "2021-06-08T18:31:14.585Z"
   },
   {
    "duration": 18,
    "start_time": "2021-06-08T18:31:14.722Z"
   },
   {
    "duration": 14,
    "start_time": "2021-06-08T18:31:14.743Z"
   },
   {
    "duration": 39,
    "start_time": "2021-06-08T18:31:14.760Z"
   },
   {
    "duration": 11,
    "start_time": "2021-06-08T18:31:14.801Z"
   },
   {
    "duration": 22,
    "start_time": "2021-06-08T18:31:14.815Z"
   },
   {
    "duration": 70,
    "start_time": "2021-06-08T18:31:14.840Z"
   },
   {
    "duration": 95,
    "start_time": "2021-06-08T18:31:14.912Z"
   },
   {
    "duration": 20,
    "start_time": "2021-06-08T18:31:15.009Z"
   },
   {
    "duration": 64,
    "start_time": "2021-06-08T18:31:15.032Z"
   },
   {
    "duration": 24,
    "start_time": "2021-06-08T18:31:15.101Z"
   },
   {
    "duration": 75,
    "start_time": "2021-06-08T18:31:15.129Z"
   },
   {
    "duration": 14,
    "start_time": "2021-06-08T18:31:15.207Z"
   },
   {
    "duration": 65,
    "start_time": "2021-06-08T18:31:15.223Z"
   },
   {
    "duration": 20,
    "start_time": "2021-06-08T18:31:15.292Z"
   },
   {
    "duration": 41,
    "start_time": "2021-06-08T18:31:15.315Z"
   },
   {
    "duration": 52,
    "start_time": "2021-06-08T18:31:15.358Z"
   },
   {
    "duration": 21,
    "start_time": "2021-06-08T18:31:15.413Z"
   },
   {
    "duration": 87,
    "start_time": "2021-06-08T18:31:15.436Z"
   },
   {
    "duration": 18,
    "start_time": "2021-06-08T18:31:15.525Z"
   },
   {
    "duration": 76,
    "start_time": "2021-06-08T18:31:15.546Z"
   },
   {
    "duration": 62,
    "start_time": "2021-06-08T18:31:15.625Z"
   },
   {
    "duration": 14,
    "start_time": "2021-06-08T18:31:15.691Z"
   },
   {
    "duration": 44,
    "start_time": "2021-06-08T18:31:15.707Z"
   },
   {
    "duration": 35,
    "start_time": "2021-06-08T18:31:15.753Z"
   },
   {
    "duration": 12,
    "start_time": "2021-06-08T18:31:15.791Z"
   },
   {
    "duration": 12,
    "start_time": "2021-06-08T18:31:15.806Z"
   },
   {
    "duration": 702,
    "start_time": "2021-06-08T18:31:15.820Z"
   },
   {
    "duration": 31,
    "start_time": "2021-06-08T18:31:16.525Z"
   },
   {
    "duration": 37,
    "start_time": "2021-06-08T18:31:16.558Z"
   },
   {
    "duration": 12,
    "start_time": "2021-06-08T18:31:16.599Z"
   },
   {
    "duration": 13,
    "start_time": "2021-06-08T18:31:16.614Z"
   },
   {
    "duration": 702,
    "start_time": "2021-06-08T18:31:16.629Z"
   },
   {
    "duration": 10,
    "start_time": "2021-06-08T18:31:17.334Z"
   },
   {
    "duration": 55,
    "start_time": "2021-06-08T18:31:17.346Z"
   },
   {
    "duration": 11,
    "start_time": "2021-06-08T18:31:17.404Z"
   },
   {
    "duration": 11,
    "start_time": "2021-06-08T18:31:17.418Z"
   },
   {
    "duration": 17,
    "start_time": "2021-06-08T18:31:17.431Z"
   },
   {
    "duration": 692,
    "start_time": "2021-06-08T18:31:17.450Z"
   },
   {
    "duration": 49,
    "start_time": "2021-06-08T18:31:18.144Z"
   },
   {
    "duration": 15,
    "start_time": "2021-06-08T18:31:18.195Z"
   },
   {
    "duration": 19,
    "start_time": "2021-06-08T18:31:18.213Z"
   },
   {
    "duration": 128,
    "start_time": "2021-06-08T18:31:18.234Z"
   },
   {
    "duration": 9,
    "start_time": "2021-06-08T18:32:55.807Z"
   },
   {
    "duration": 5,
    "start_time": "2021-06-08T18:33:23.510Z"
   },
   {
    "duration": 580,
    "start_time": "2021-06-08T18:33:23.523Z"
   },
   {
    "duration": 28,
    "start_time": "2021-06-08T18:33:24.108Z"
   },
   {
    "duration": 13,
    "start_time": "2021-06-08T18:33:24.139Z"
   },
   {
    "duration": 433,
    "start_time": "2021-06-08T18:33:24.155Z"
   },
   {
    "duration": 36,
    "start_time": "2021-06-08T18:33:24.591Z"
   },
   {
    "duration": 240,
    "start_time": "2021-06-08T18:33:24.630Z"
   },
   {
    "duration": 37,
    "start_time": "2021-06-08T18:33:24.873Z"
   },
   {
    "duration": 242,
    "start_time": "2021-06-08T18:33:24.913Z"
   },
   {
    "duration": 30,
    "start_time": "2021-06-08T18:33:25.158Z"
   },
   {
    "duration": 275,
    "start_time": "2021-06-08T18:33:25.191Z"
   },
   {
    "duration": 43,
    "start_time": "2021-06-08T18:33:25.468Z"
   },
   {
    "duration": 79,
    "start_time": "2021-06-08T18:33:25.515Z"
   },
   {
    "duration": 113,
    "start_time": "2021-06-08T18:33:25.597Z"
   },
   {
    "duration": 19,
    "start_time": "2021-06-08T18:33:25.712Z"
   },
   {
    "duration": 17,
    "start_time": "2021-06-08T18:33:25.734Z"
   },
   {
    "duration": 46,
    "start_time": "2021-06-08T18:33:25.754Z"
   },
   {
    "duration": 11,
    "start_time": "2021-06-08T18:33:25.803Z"
   },
   {
    "duration": 30,
    "start_time": "2021-06-08T18:33:25.817Z"
   },
   {
    "duration": 69,
    "start_time": "2021-06-08T18:33:25.850Z"
   },
   {
    "duration": 127,
    "start_time": "2021-06-08T18:33:25.922Z"
   },
   {
    "duration": 36,
    "start_time": "2021-06-08T18:33:26.052Z"
   },
   {
    "duration": 48,
    "start_time": "2021-06-08T18:33:26.091Z"
   },
   {
    "duration": 51,
    "start_time": "2021-06-08T18:33:26.145Z"
   },
   {
    "duration": 53,
    "start_time": "2021-06-08T18:33:26.199Z"
   },
   {
    "duration": 34,
    "start_time": "2021-06-08T18:33:26.254Z"
   },
   {
    "duration": 53,
    "start_time": "2021-06-08T18:33:26.291Z"
   },
   {
    "duration": 45,
    "start_time": "2021-06-08T18:33:26.346Z"
   },
   {
    "duration": 42,
    "start_time": "2021-06-08T18:33:26.394Z"
   },
   {
    "duration": 63,
    "start_time": "2021-06-08T18:33:26.438Z"
   },
   {
    "duration": 23,
    "start_time": "2021-06-08T18:33:26.503Z"
   },
   {
    "duration": 82,
    "start_time": "2021-06-08T18:33:26.529Z"
   },
   {
    "duration": 19,
    "start_time": "2021-06-08T18:33:26.614Z"
   },
   {
    "duration": 85,
    "start_time": "2021-06-08T18:33:26.636Z"
   },
   {
    "duration": 36,
    "start_time": "2021-06-08T18:33:26.725Z"
   },
   {
    "duration": 30,
    "start_time": "2021-06-08T18:33:26.764Z"
   },
   {
    "duration": 44,
    "start_time": "2021-06-08T18:33:26.797Z"
   },
   {
    "duration": 47,
    "start_time": "2021-06-08T18:33:26.844Z"
   },
   {
    "duration": 14,
    "start_time": "2021-06-08T18:33:26.894Z"
   },
   {
    "duration": 19,
    "start_time": "2021-06-08T18:33:26.911Z"
   },
   {
    "duration": 1070,
    "start_time": "2021-06-08T18:33:26.933Z"
   },
   {
    "duration": 33,
    "start_time": "2021-06-08T18:33:28.006Z"
   },
   {
    "duration": 13,
    "start_time": "2021-06-08T18:33:28.042Z"
   },
   {
    "duration": 15,
    "start_time": "2021-06-08T18:33:28.084Z"
   },
   {
    "duration": 16,
    "start_time": "2021-06-08T18:33:28.102Z"
   },
   {
    "duration": 750,
    "start_time": "2021-06-08T18:33:28.121Z"
   },
   {
    "duration": 18,
    "start_time": "2021-06-08T18:33:28.873Z"
   },
   {
    "duration": 33,
    "start_time": "2021-06-08T18:33:28.894Z"
   },
   {
    "duration": 12,
    "start_time": "2021-06-08T18:33:28.929Z"
   },
   {
    "duration": 52,
    "start_time": "2021-06-08T18:33:28.944Z"
   },
   {
    "duration": 18,
    "start_time": "2021-06-08T18:33:28.999Z"
   },
   {
    "duration": 734,
    "start_time": "2021-06-08T18:33:29.019Z"
   },
   {
    "duration": 44,
    "start_time": "2021-06-08T18:33:29.756Z"
   },
   {
    "duration": 12,
    "start_time": "2021-06-08T18:33:29.803Z"
   },
   {
    "duration": 22,
    "start_time": "2021-06-08T18:33:29.818Z"
   },
   {
    "duration": 43,
    "start_time": "2021-06-08T18:33:29.844Z"
   },
   {
    "duration": 8,
    "start_time": "2021-06-08T18:34:24.715Z"
   },
   {
    "duration": 9,
    "start_time": "2021-06-08T18:34:34.116Z"
   },
   {
    "duration": 14,
    "start_time": "2021-06-08T18:34:50.923Z"
   },
   {
    "duration": 11,
    "start_time": "2021-06-08T18:58:19.971Z"
   },
   {
    "duration": 12,
    "start_time": "2021-06-08T18:58:58.029Z"
   },
   {
    "duration": 7,
    "start_time": "2021-06-08T18:59:16.694Z"
   },
   {
    "duration": 8,
    "start_time": "2021-06-08T18:59:27.340Z"
   },
   {
    "duration": 7,
    "start_time": "2021-06-08T18:59:36.837Z"
   },
   {
    "duration": 8,
    "start_time": "2021-06-08T18:59:46.095Z"
   },
   {
    "duration": 10,
    "start_time": "2021-06-08T19:00:49.621Z"
   },
   {
    "duration": 8,
    "start_time": "2021-06-08T19:01:04.439Z"
   },
   {
    "duration": 15,
    "start_time": "2021-06-08T19:01:51.533Z"
   },
   {
    "duration": 18,
    "start_time": "2021-06-08T19:03:32.109Z"
   },
   {
    "duration": 293,
    "start_time": "2021-06-08T19:10:33.679Z"
   },
   {
    "duration": 23,
    "start_time": "2021-06-08T19:11:07.348Z"
   },
   {
    "duration": 8,
    "start_time": "2021-06-08T19:13:50.194Z"
   },
   {
    "duration": 420,
    "start_time": "2021-06-09T17:04:26.609Z"
   },
   {
    "duration": 1491,
    "start_time": "2021-06-09T17:04:30.737Z"
   },
   {
    "duration": 538,
    "start_time": "2021-06-09T17:04:32.230Z"
   },
   {
    "duration": 27,
    "start_time": "2021-06-09T17:04:32.771Z"
   },
   {
    "duration": 15,
    "start_time": "2021-06-09T17:04:32.801Z"
   },
   {
    "duration": 457,
    "start_time": "2021-06-09T17:04:32.818Z"
   },
   {
    "duration": 31,
    "start_time": "2021-06-09T17:04:33.277Z"
   },
   {
    "duration": 246,
    "start_time": "2021-06-09T17:04:33.311Z"
   },
   {
    "duration": 26,
    "start_time": "2021-06-09T17:04:33.564Z"
   },
   {
    "duration": 211,
    "start_time": "2021-06-09T17:04:33.593Z"
   },
   {
    "duration": 17,
    "start_time": "2021-06-09T17:04:33.806Z"
   },
   {
    "duration": 369,
    "start_time": "2021-06-09T17:04:33.827Z"
   },
   {
    "duration": 28,
    "start_time": "2021-06-09T17:04:34.200Z"
   },
   {
    "duration": 96,
    "start_time": "2021-06-09T17:04:34.231Z"
   },
   {
    "duration": 166,
    "start_time": "2021-06-09T17:04:34.330Z"
   },
   {
    "duration": 29,
    "start_time": "2021-06-09T17:04:34.499Z"
   },
   {
    "duration": 40,
    "start_time": "2021-06-09T17:04:34.531Z"
   },
   {
    "duration": 20,
    "start_time": "2021-06-09T17:04:34.574Z"
   },
   {
    "duration": 15,
    "start_time": "2021-06-09T17:04:34.597Z"
   },
   {
    "duration": 52,
    "start_time": "2021-06-09T17:04:34.614Z"
   },
   {
    "duration": 45,
    "start_time": "2021-06-09T17:04:34.669Z"
   },
   {
    "duration": 107,
    "start_time": "2021-06-09T17:04:34.717Z"
   },
   {
    "duration": 21,
    "start_time": "2021-06-09T17:04:34.826Z"
   },
   {
    "duration": 44,
    "start_time": "2021-06-09T17:04:34.861Z"
   },
   {
    "duration": 26,
    "start_time": "2021-06-09T17:04:34.908Z"
   },
   {
    "duration": 81,
    "start_time": "2021-06-09T17:04:34.937Z"
   },
   {
    "duration": 41,
    "start_time": "2021-06-09T17:04:35.021Z"
   },
   {
    "duration": 51,
    "start_time": "2021-06-09T17:04:35.065Z"
   },
   {
    "duration": 45,
    "start_time": "2021-06-09T17:04:35.119Z"
   },
   {
    "duration": 39,
    "start_time": "2021-06-09T17:04:35.167Z"
   },
   {
    "duration": 70,
    "start_time": "2021-06-09T17:04:35.210Z"
   },
   {
    "duration": 21,
    "start_time": "2021-06-09T17:04:35.282Z"
   },
   {
    "duration": 71,
    "start_time": "2021-06-09T17:04:35.306Z"
   },
   {
    "duration": 19,
    "start_time": "2021-06-09T17:04:35.380Z"
   },
   {
    "duration": 69,
    "start_time": "2021-06-09T17:04:35.401Z"
   },
   {
    "duration": 36,
    "start_time": "2021-06-09T17:04:35.472Z"
   },
   {
    "duration": 11,
    "start_time": "2021-06-09T17:04:35.510Z"
   },
   {
    "duration": 70,
    "start_time": "2021-06-09T17:04:35.523Z"
   },
   {
    "duration": 11,
    "start_time": "2021-06-09T17:04:35.596Z"
   },
   {
    "duration": 10,
    "start_time": "2021-06-09T17:04:35.610Z"
   },
   {
    "duration": 41,
    "start_time": "2021-06-09T17:04:35.623Z"
   },
   {
    "duration": 695,
    "start_time": "2021-06-09T17:04:35.666Z"
   },
   {
    "duration": 31,
    "start_time": "2021-06-09T17:04:36.364Z"
   },
   {
    "duration": 11,
    "start_time": "2021-06-09T17:04:36.397Z"
   },
   {
    "duration": 13,
    "start_time": "2021-06-09T17:04:36.410Z"
   },
   {
    "duration": 42,
    "start_time": "2021-06-09T17:04:36.426Z"
   },
   {
    "duration": 690,
    "start_time": "2021-06-09T17:04:36.471Z"
   },
   {
    "duration": 10,
    "start_time": "2021-06-09T17:04:37.164Z"
   },
   {
    "duration": 45,
    "start_time": "2021-06-09T17:04:37.177Z"
   },
   {
    "duration": 24,
    "start_time": "2021-06-09T17:04:37.224Z"
   },
   {
    "duration": 17,
    "start_time": "2021-06-09T17:04:37.250Z"
   },
   {
    "duration": 13,
    "start_time": "2021-06-09T17:04:37.270Z"
   },
   {
    "duration": 680,
    "start_time": "2021-06-09T17:04:37.285Z"
   },
   {
    "duration": 37,
    "start_time": "2021-06-09T17:04:37.967Z"
   },
   {
    "duration": 20,
    "start_time": "2021-06-09T17:04:38.006Z"
   },
   {
    "duration": 43,
    "start_time": "2021-06-09T17:04:38.029Z"
   },
   {
    "duration": 13,
    "start_time": "2021-06-09T17:04:38.075Z"
   },
   {
    "duration": 19,
    "start_time": "2021-06-09T17:04:38.091Z"
   },
   {
    "duration": 7,
    "start_time": "2021-06-09T17:04:38.113Z"
   },
   {
    "duration": 45,
    "start_time": "2021-06-09T17:05:43.103Z"
   },
   {
    "duration": 39,
    "start_time": "2021-06-09T17:05:49.861Z"
   },
   {
    "duration": 28,
    "start_time": "2021-06-09T17:07:17.926Z"
   },
   {
    "duration": 37,
    "start_time": "2021-06-09T17:07:45.340Z"
   },
   {
    "duration": 48,
    "start_time": "2021-06-09T17:10:50.710Z"
   },
   {
    "duration": 130,
    "start_time": "2021-06-09T17:34:26.202Z"
   },
   {
    "duration": 14,
    "start_time": "2021-06-09T18:51:44.722Z"
   },
   {
    "duration": 13,
    "start_time": "2021-06-09T18:52:33.139Z"
   },
   {
    "duration": 19,
    "start_time": "2021-06-09T18:55:20.770Z"
   },
   {
    "duration": 20,
    "start_time": "2021-06-09T18:55:38.574Z"
   },
   {
    "duration": 8,
    "start_time": "2021-06-09T19:06:37.323Z"
   },
   {
    "duration": 5,
    "start_time": "2021-06-09T19:29:38.805Z"
   },
   {
    "duration": 765,
    "start_time": "2021-06-09T19:29:38.815Z"
   },
   {
    "duration": 47,
    "start_time": "2021-06-09T19:29:39.583Z"
   },
   {
    "duration": 30,
    "start_time": "2021-06-09T19:29:39.634Z"
   },
   {
    "duration": 534,
    "start_time": "2021-06-09T19:29:39.668Z"
   },
   {
    "duration": 31,
    "start_time": "2021-06-09T19:29:40.205Z"
   },
   {
    "duration": 235,
    "start_time": "2021-06-09T19:29:40.263Z"
   },
   {
    "duration": 28,
    "start_time": "2021-06-09T19:29:40.500Z"
   },
   {
    "duration": 221,
    "start_time": "2021-06-09T19:29:40.532Z"
   },
   {
    "duration": 17,
    "start_time": "2021-06-09T19:29:40.761Z"
   },
   {
    "duration": 1339,
    "start_time": "2021-06-10T10:17:31.186Z"
   },
   {
    "duration": 539,
    "start_time": "2021-06-10T10:17:32.528Z"
   },
   {
    "duration": 28,
    "start_time": "2021-06-10T10:17:33.074Z"
   },
   {
    "duration": 15,
    "start_time": "2021-06-10T10:17:33.104Z"
   },
   {
    "duration": 435,
    "start_time": "2021-06-10T10:17:33.122Z"
   },
   {
    "duration": 32,
    "start_time": "2021-06-10T10:17:33.561Z"
   },
   {
    "duration": 265,
    "start_time": "2021-06-10T10:17:33.597Z"
   },
   {
    "duration": 27,
    "start_time": "2021-06-10T10:17:33.868Z"
   },
   {
    "duration": 227,
    "start_time": "2021-06-10T10:17:33.897Z"
   },
   {
    "duration": 31,
    "start_time": "2021-06-10T10:17:34.127Z"
   },
   {
    "duration": 228,
    "start_time": "2021-06-10T10:17:34.162Z"
   },
   {
    "duration": 21,
    "start_time": "2021-06-10T10:17:34.392Z"
   },
   {
    "duration": 88,
    "start_time": "2021-06-10T10:17:34.416Z"
   },
   {
    "duration": 120,
    "start_time": "2021-06-10T10:17:34.506Z"
   },
   {
    "duration": 29,
    "start_time": "2021-06-10T10:17:34.628Z"
   },
   {
    "duration": 20,
    "start_time": "2021-06-10T10:17:34.662Z"
   },
   {
    "duration": 14,
    "start_time": "2021-06-10T10:17:34.684Z"
   },
   {
    "duration": 11,
    "start_time": "2021-06-10T10:17:34.700Z"
   },
   {
    "duration": 60,
    "start_time": "2021-06-10T10:17:34.713Z"
   },
   {
    "duration": 42,
    "start_time": "2021-06-10T10:17:34.780Z"
   },
   {
    "duration": 107,
    "start_time": "2021-06-10T10:17:34.825Z"
   },
   {
    "duration": 32,
    "start_time": "2021-06-10T10:17:34.937Z"
   },
   {
    "duration": 42,
    "start_time": "2021-06-10T10:17:34.972Z"
   },
   {
    "duration": 47,
    "start_time": "2021-06-10T10:17:35.016Z"
   },
   {
    "duration": 58,
    "start_time": "2021-06-10T10:17:35.066Z"
   },
   {
    "duration": 32,
    "start_time": "2021-06-10T10:17:35.127Z"
   },
   {
    "duration": 49,
    "start_time": "2021-06-10T10:17:35.162Z"
   },
   {
    "duration": 48,
    "start_time": "2021-06-10T10:17:35.213Z"
   },
   {
    "duration": 48,
    "start_time": "2021-06-10T10:17:35.264Z"
   },
   {
    "duration": 58,
    "start_time": "2021-06-10T10:17:35.315Z"
   },
   {
    "duration": 21,
    "start_time": "2021-06-10T10:17:35.376Z"
   },
   {
    "duration": 83,
    "start_time": "2021-06-10T10:17:35.400Z"
   },
   {
    "duration": 19,
    "start_time": "2021-06-10T10:17:35.485Z"
   },
   {
    "duration": 68,
    "start_time": "2021-06-10T10:17:35.506Z"
   },
   {
    "duration": 37,
    "start_time": "2021-06-10T10:17:35.576Z"
   },
   {
    "duration": 11,
    "start_time": "2021-06-10T10:17:35.616Z"
   },
   {
    "duration": 45,
    "start_time": "2021-06-10T10:17:35.660Z"
   },
   {
    "duration": 11,
    "start_time": "2021-06-10T10:17:35.708Z"
   },
   {
    "duration": 33,
    "start_time": "2021-06-10T10:17:35.721Z"
   },
   {
    "duration": 15,
    "start_time": "2021-06-10T10:17:35.757Z"
   },
   {
    "duration": 722,
    "start_time": "2021-06-10T10:17:35.774Z"
   },
   {
    "duration": 31,
    "start_time": "2021-06-10T10:17:36.498Z"
   },
   {
    "duration": 39,
    "start_time": "2021-06-10T10:17:36.532Z"
   },
   {
    "duration": 15,
    "start_time": "2021-06-10T10:17:36.573Z"
   },
   {
    "duration": 18,
    "start_time": "2021-06-10T10:17:36.590Z"
   },
   {
    "duration": 697,
    "start_time": "2021-06-10T10:17:36.611Z"
   },
   {
    "duration": 10,
    "start_time": "2021-06-10T10:17:37.310Z"
   },
   {
    "duration": 51,
    "start_time": "2021-06-10T10:17:37.322Z"
   },
   {
    "duration": 12,
    "start_time": "2021-06-10T10:17:37.376Z"
   },
   {
    "duration": 20,
    "start_time": "2021-06-10T10:17:37.390Z"
   },
   {
    "duration": 10,
    "start_time": "2021-06-10T10:17:37.412Z"
   },
   {
    "duration": 676,
    "start_time": "2021-06-10T10:17:37.454Z"
   },
   {
    "duration": 25,
    "start_time": "2021-06-10T10:17:38.133Z"
   },
   {
    "duration": 20,
    "start_time": "2021-06-10T10:17:38.163Z"
   },
   {
    "duration": 14,
    "start_time": "2021-06-10T10:17:38.186Z"
   },
   {
    "duration": 63,
    "start_time": "2021-06-10T10:17:38.203Z"
   },
   {
    "duration": 6,
    "start_time": "2021-06-10T10:17:38.270Z"
   },
   {
    "duration": 8,
    "start_time": "2021-06-10T10:32:16.960Z"
   },
   {
    "duration": 390,
    "start_time": "2021-06-10T10:40:03.997Z"
   },
   {
    "duration": 265,
    "start_time": "2021-06-10T10:40:05.917Z"
   },
   {
    "duration": 18,
    "start_time": "2021-06-10T10:42:38.954Z"
   },
   {
    "duration": 6,
    "start_time": "2021-06-10T10:43:57.696Z"
   },
   {
    "duration": 5,
    "start_time": "2021-06-10T10:44:11.808Z"
   },
   {
    "duration": 6417,
    "start_time": "2021-06-10T10:44:24.119Z"
   },
   {
    "duration": 10,
    "start_time": "2021-06-10T10:44:40.560Z"
   },
   {
    "duration": 10,
    "start_time": "2021-06-10T10:44:58.064Z"
   },
   {
    "duration": 35,
    "start_time": "2021-06-10T10:45:07.942Z"
   },
   {
    "duration": 7,
    "start_time": "2021-06-10T10:46:27.726Z"
   },
   {
    "duration": 6,
    "start_time": "2021-06-10T10:46:38.014Z"
   },
   {
    "duration": 11,
    "start_time": "2021-06-10T10:53:26.123Z"
   },
   {
    "duration": 290,
    "start_time": "2021-06-10T11:07:02.186Z"
   },
   {
    "duration": 256,
    "start_time": "2021-06-10T11:08:36.893Z"
   },
   {
    "duration": 22,
    "start_time": "2021-06-10T11:08:43.687Z"
   },
   {
    "duration": 24,
    "start_time": "2021-06-10T11:10:16.292Z"
   },
   {
    "duration": 2365,
    "start_time": "2021-06-11T15:16:55.784Z"
   },
   {
    "duration": 527,
    "start_time": "2021-06-11T15:16:58.151Z"
   },
   {
    "duration": 30,
    "start_time": "2021-06-11T15:16:58.681Z"
   },
   {
    "duration": 16,
    "start_time": "2021-06-11T15:16:58.713Z"
   },
   {
    "duration": 460,
    "start_time": "2021-06-11T15:16:58.732Z"
   },
   {
    "duration": 31,
    "start_time": "2021-06-11T15:16:59.194Z"
   },
   {
    "duration": 252,
    "start_time": "2021-06-11T15:16:59.227Z"
   },
   {
    "duration": 26,
    "start_time": "2021-06-11T15:16:59.487Z"
   },
   {
    "duration": 229,
    "start_time": "2021-06-11T15:16:59.516Z"
   },
   {
    "duration": 16,
    "start_time": "2021-06-11T15:16:59.748Z"
   },
   {
    "duration": 224,
    "start_time": "2021-06-11T15:16:59.785Z"
   },
   {
    "duration": 21,
    "start_time": "2021-06-11T15:17:00.011Z"
   },
   {
    "duration": 70,
    "start_time": "2021-06-11T15:17:00.034Z"
   },
   {
    "duration": 103,
    "start_time": "2021-06-11T15:17:00.107Z"
   },
   {
    "duration": 18,
    "start_time": "2021-06-11T15:17:00.213Z"
   },
   {
    "duration": 18,
    "start_time": "2021-06-11T15:17:00.234Z"
   },
   {
    "duration": 39,
    "start_time": "2021-06-11T15:17:00.254Z"
   },
   {
    "duration": 16,
    "start_time": "2021-06-11T15:17:00.296Z"
   },
   {
    "duration": 27,
    "start_time": "2021-06-11T15:17:00.314Z"
   },
   {
    "duration": 54,
    "start_time": "2021-06-11T15:17:00.343Z"
   },
   {
    "duration": 107,
    "start_time": "2021-06-11T15:17:00.400Z"
   },
   {
    "duration": 22,
    "start_time": "2021-06-11T15:17:00.510Z"
   },
   {
    "duration": 70,
    "start_time": "2021-06-11T15:17:00.540Z"
   },
   {
    "duration": 25,
    "start_time": "2021-06-11T15:17:00.614Z"
   },
   {
    "duration": 85,
    "start_time": "2021-06-11T15:17:00.642Z"
   },
   {
    "duration": 17,
    "start_time": "2021-06-11T15:17:00.730Z"
   },
   {
    "duration": 74,
    "start_time": "2021-06-11T15:17:00.750Z"
   },
   {
    "duration": 20,
    "start_time": "2021-06-11T15:17:00.828Z"
   },
   {
    "duration": 61,
    "start_time": "2021-06-11T15:17:00.851Z"
   },
   {
    "duration": 31,
    "start_time": "2021-06-11T15:17:00.915Z"
   },
   {
    "duration": 39,
    "start_time": "2021-06-11T15:17:00.949Z"
   },
   {
    "duration": 25,
    "start_time": "2021-06-11T15:17:00.991Z"
   },
   {
    "duration": 76,
    "start_time": "2021-06-11T15:17:01.019Z"
   },
   {
    "duration": 21,
    "start_time": "2021-06-11T15:17:01.098Z"
   },
   {
    "duration": 67,
    "start_time": "2021-06-11T15:17:01.122Z"
   },
   {
    "duration": 35,
    "start_time": "2021-06-11T15:17:01.191Z"
   },
   {
    "duration": 11,
    "start_time": "2021-06-11T15:17:01.229Z"
   },
   {
    "duration": 73,
    "start_time": "2021-06-11T15:17:01.243Z"
   },
   {
    "duration": 13,
    "start_time": "2021-06-11T15:17:01.318Z"
   },
   {
    "duration": 30,
    "start_time": "2021-06-11T15:17:01.333Z"
   },
   {
    "duration": 21,
    "start_time": "2021-06-11T15:17:01.366Z"
   },
   {
    "duration": 687,
    "start_time": "2021-06-11T15:17:01.389Z"
   },
   {
    "duration": 34,
    "start_time": "2021-06-11T15:17:02.079Z"
   },
   {
    "duration": 11,
    "start_time": "2021-06-11T15:17:02.116Z"
   },
   {
    "duration": 17,
    "start_time": "2021-06-11T15:17:02.130Z"
   },
   {
    "duration": 56,
    "start_time": "2021-06-11T15:17:02.150Z"
   },
   {
    "duration": 677,
    "start_time": "2021-06-11T15:17:02.208Z"
   },
   {
    "duration": 10,
    "start_time": "2021-06-11T15:17:02.887Z"
   },
   {
    "duration": 32,
    "start_time": "2021-06-11T15:17:02.900Z"
   },
   {
    "duration": 11,
    "start_time": "2021-06-11T15:17:02.934Z"
   },
   {
    "duration": 43,
    "start_time": "2021-06-11T15:17:02.948Z"
   },
   {
    "duration": 11,
    "start_time": "2021-06-11T15:17:02.994Z"
   },
   {
    "duration": 682,
    "start_time": "2021-06-11T15:17:03.007Z"
   },
   {
    "duration": 12,
    "start_time": "2021-06-11T15:17:03.691Z"
   },
   {
    "duration": 36,
    "start_time": "2021-06-11T15:17:03.705Z"
   },
   {
    "duration": 14,
    "start_time": "2021-06-11T15:17:03.743Z"
   },
   {
    "duration": 57,
    "start_time": "2021-06-11T15:17:03.759Z"
   },
   {
    "duration": 7,
    "start_time": "2021-06-11T15:17:03.819Z"
   },
   {
    "duration": 40,
    "start_time": "2021-06-11T15:18:30.324Z"
   },
   {
    "duration": 41,
    "start_time": "2021-06-11T15:20:44.949Z"
   },
   {
    "duration": 42,
    "start_time": "2021-06-11T15:21:05.393Z"
   },
   {
    "duration": 34,
    "start_time": "2021-06-11T15:23:12.561Z"
   },
   {
    "duration": 35,
    "start_time": "2021-06-11T15:23:54.331Z"
   },
   {
    "duration": 34,
    "start_time": "2021-06-11T15:24:12.994Z"
   },
   {
    "duration": 4,
    "start_time": "2021-06-11T15:24:29.290Z"
   },
   {
    "duration": 536,
    "start_time": "2021-06-11T15:24:29.304Z"
   },
   {
    "duration": 26,
    "start_time": "2021-06-11T15:24:29.843Z"
   },
   {
    "duration": 11,
    "start_time": "2021-06-11T15:24:29.873Z"
   },
   {
    "duration": 441,
    "start_time": "2021-06-11T15:24:29.887Z"
   },
   {
    "duration": 31,
    "start_time": "2021-06-11T15:24:30.331Z"
   },
   {
    "duration": 251,
    "start_time": "2021-06-11T15:24:30.365Z"
   },
   {
    "duration": 27,
    "start_time": "2021-06-11T15:24:30.619Z"
   },
   {
    "duration": 241,
    "start_time": "2021-06-11T15:24:30.650Z"
   },
   {
    "duration": 20,
    "start_time": "2021-06-11T15:24:30.894Z"
   },
   {
    "duration": 271,
    "start_time": "2021-06-11T15:24:30.917Z"
   },
   {
    "duration": 21,
    "start_time": "2021-06-11T15:24:31.191Z"
   },
   {
    "duration": 75,
    "start_time": "2021-06-11T15:24:31.215Z"
   },
   {
    "duration": 103,
    "start_time": "2021-06-11T15:24:31.293Z"
   },
   {
    "duration": 18,
    "start_time": "2021-06-11T15:24:31.398Z"
   },
   {
    "duration": 22,
    "start_time": "2021-06-11T15:24:31.418Z"
   },
   {
    "duration": 14,
    "start_time": "2021-06-11T15:24:31.442Z"
   },
   {
    "duration": 10,
    "start_time": "2021-06-11T15:24:31.485Z"
   },
   {
    "duration": 22,
    "start_time": "2021-06-11T15:24:31.497Z"
   },
   {
    "duration": 78,
    "start_time": "2021-06-11T15:24:31.522Z"
   },
   {
    "duration": 110,
    "start_time": "2021-06-11T15:24:31.603Z"
   },
   {
    "duration": 22,
    "start_time": "2021-06-11T15:24:31.717Z"
   },
   {
    "duration": 68,
    "start_time": "2021-06-11T15:24:31.741Z"
   },
   {
    "duration": 34,
    "start_time": "2021-06-11T15:24:31.817Z"
   },
   {
    "duration": 75,
    "start_time": "2021-06-11T15:24:31.855Z"
   },
   {
    "duration": 18,
    "start_time": "2021-06-11T15:24:31.933Z"
   },
   {
    "duration": 77,
    "start_time": "2021-06-11T15:24:31.954Z"
   },
   {
    "duration": 19,
    "start_time": "2021-06-11T15:24:32.034Z"
   },
   {
    "duration": 66,
    "start_time": "2021-06-11T15:24:32.056Z"
   },
   {
    "duration": 30,
    "start_time": "2021-06-11T15:24:32.125Z"
   },
   {
    "duration": 34,
    "start_time": "2021-06-11T15:24:32.157Z"
   },
   {
    "duration": 24,
    "start_time": "2021-06-11T15:24:32.194Z"
   },
   {
    "duration": 85,
    "start_time": "2021-06-11T15:24:32.221Z"
   },
   {
    "duration": 21,
    "start_time": "2021-06-11T15:24:32.309Z"
   },
   {
    "duration": 61,
    "start_time": "2021-06-11T15:24:32.333Z"
   },
   {
    "duration": 39,
    "start_time": "2021-06-11T15:24:32.397Z"
   },
   {
    "duration": 12,
    "start_time": "2021-06-11T15:24:32.438Z"
   },
   {
    "duration": 78,
    "start_time": "2021-06-11T15:24:32.453Z"
   },
   {
    "duration": 12,
    "start_time": "2021-06-11T15:24:32.533Z"
   },
   {
    "duration": 37,
    "start_time": "2021-06-11T15:24:32.548Z"
   },
   {
    "duration": 12,
    "start_time": "2021-06-11T15:24:32.588Z"
   },
   {
    "duration": 755,
    "start_time": "2021-06-11T15:24:32.603Z"
   },
   {
    "duration": 38,
    "start_time": "2021-06-11T15:24:33.361Z"
   },
   {
    "duration": 12,
    "start_time": "2021-06-11T15:24:33.402Z"
   },
   {
    "duration": 10,
    "start_time": "2021-06-11T15:24:33.416Z"
   },
   {
    "duration": 10,
    "start_time": "2021-06-11T15:24:33.429Z"
   },
   {
    "duration": 798,
    "start_time": "2021-06-11T15:24:33.442Z"
   },
   {
    "duration": 10,
    "start_time": "2021-06-11T15:24:34.243Z"
   },
   {
    "duration": 47,
    "start_time": "2021-06-11T15:24:34.255Z"
   },
   {
    "duration": 11,
    "start_time": "2021-06-11T15:24:34.305Z"
   },
   {
    "duration": 11,
    "start_time": "2021-06-11T15:24:34.319Z"
   },
   {
    "duration": 10,
    "start_time": "2021-06-11T15:24:34.332Z"
   },
   {
    "duration": 794,
    "start_time": "2021-06-11T15:24:34.345Z"
   },
   {
    "duration": 12,
    "start_time": "2021-06-11T15:24:35.142Z"
   },
   {
    "duration": 35,
    "start_time": "2021-06-11T15:24:35.156Z"
   },
   {
    "duration": 15,
    "start_time": "2021-06-11T15:24:35.194Z"
   },
   {
    "duration": 23,
    "start_time": "2021-06-11T15:24:35.212Z"
   },
   {
    "duration": 50,
    "start_time": "2021-06-11T15:24:35.239Z"
   },
   {
    "duration": 35,
    "start_time": "2021-06-11T15:28:56.353Z"
   },
   {
    "duration": 37,
    "start_time": "2021-06-11T15:30:23.100Z"
   },
   {
    "duration": 49,
    "start_time": "2021-06-11T15:31:03.354Z"
   },
   {
    "duration": 39,
    "start_time": "2021-06-11T15:31:26.837Z"
   },
   {
    "duration": 4,
    "start_time": "2021-06-11T15:31:29.875Z"
   },
   {
    "duration": 553,
    "start_time": "2021-06-11T15:31:29.886Z"
   },
   {
    "duration": 28,
    "start_time": "2021-06-11T15:31:30.441Z"
   },
   {
    "duration": 14,
    "start_time": "2021-06-11T15:31:30.472Z"
   },
   {
    "duration": 473,
    "start_time": "2021-06-11T15:31:30.490Z"
   },
   {
    "duration": 35,
    "start_time": "2021-06-11T15:31:30.965Z"
   },
   {
    "duration": 265,
    "start_time": "2021-06-11T15:31:31.003Z"
   },
   {
    "duration": 34,
    "start_time": "2021-06-11T15:31:31.271Z"
   },
   {
    "duration": 206,
    "start_time": "2021-06-11T15:31:31.308Z"
   },
   {
    "duration": 18,
    "start_time": "2021-06-11T15:31:31.517Z"
   },
   {
    "duration": 349,
    "start_time": "2021-06-11T15:31:31.537Z"
   },
   {
    "duration": 20,
    "start_time": "2021-06-11T15:31:31.889Z"
   },
   {
    "duration": 47,
    "start_time": "2021-06-11T15:31:31.912Z"
   },
   {
    "duration": 86,
    "start_time": "2021-06-11T15:31:31.986Z"
   },
   {
    "duration": 19,
    "start_time": "2021-06-11T15:31:32.086Z"
   },
   {
    "duration": 17,
    "start_time": "2021-06-11T15:31:32.107Z"
   },
   {
    "duration": 12,
    "start_time": "2021-06-11T15:31:32.127Z"
   },
   {
    "duration": 8,
    "start_time": "2021-06-11T15:31:32.142Z"
   },
   {
    "duration": 20,
    "start_time": "2021-06-11T15:31:32.187Z"
   },
   {
    "duration": 44,
    "start_time": "2021-06-11T15:31:32.209Z"
   },
   {
    "duration": 113,
    "start_time": "2021-06-11T15:31:32.256Z"
   },
   {
    "duration": 34,
    "start_time": "2021-06-11T15:31:32.372Z"
   },
   {
    "duration": 42,
    "start_time": "2021-06-11T15:31:32.408Z"
   },
   {
    "duration": 57,
    "start_time": "2021-06-11T15:31:32.455Z"
   },
   {
    "duration": 72,
    "start_time": "2021-06-11T15:31:32.515Z"
   },
   {
    "duration": 16,
    "start_time": "2021-06-11T15:31:32.589Z"
   },
   {
    "duration": 46,
    "start_time": "2021-06-11T15:31:32.608Z"
   },
   {
    "duration": 45,
    "start_time": "2021-06-11T15:31:32.656Z"
   },
   {
    "duration": 39,
    "start_time": "2021-06-11T15:31:32.703Z"
   },
   {
    "duration": 63,
    "start_time": "2021-06-11T15:31:32.744Z"
   },
   {
    "duration": 8,
    "start_time": "2021-06-11T15:31:32.810Z"
   },
   {
    "duration": 24,
    "start_time": "2021-06-11T15:31:32.820Z"
   },
   {
    "duration": 82,
    "start_time": "2021-06-11T15:31:32.846Z"
   },
   {
    "duration": 20,
    "start_time": "2021-06-11T15:31:32.930Z"
   },
   {
    "duration": 59,
    "start_time": "2021-06-11T15:31:32.952Z"
   },
   {
    "duration": 36,
    "start_time": "2021-06-11T15:31:33.014Z"
   },
   {
    "duration": 34,
    "start_time": "2021-06-11T15:31:33.052Z"
   },
   {
    "duration": 41,
    "start_time": "2021-06-11T15:31:33.088Z"
   },
   {
    "duration": 12,
    "start_time": "2021-06-11T15:31:33.131Z"
   },
   {
    "duration": 41,
    "start_time": "2021-06-11T15:31:33.146Z"
   },
   {
    "duration": 12,
    "start_time": "2021-06-11T15:31:33.189Z"
   },
   {
    "duration": 675,
    "start_time": "2021-06-11T15:31:33.204Z"
   },
   {
    "duration": 32,
    "start_time": "2021-06-11T15:31:33.885Z"
   },
   {
    "duration": 11,
    "start_time": "2021-06-11T15:31:33.919Z"
   },
   {
    "duration": 11,
    "start_time": "2021-06-11T15:31:33.933Z"
   },
   {
    "duration": 44,
    "start_time": "2021-06-11T15:31:33.947Z"
   },
   {
    "duration": 660,
    "start_time": "2021-06-11T15:31:33.994Z"
   },
   {
    "duration": 10,
    "start_time": "2021-06-11T15:31:34.657Z"
   },
   {
    "duration": 29,
    "start_time": "2021-06-11T15:31:34.685Z"
   },
   {
    "duration": 11,
    "start_time": "2021-06-11T15:31:34.717Z"
   },
   {
    "duration": 10,
    "start_time": "2021-06-11T15:31:34.730Z"
   },
   {
    "duration": 48,
    "start_time": "2021-06-11T15:31:34.742Z"
   },
   {
    "duration": 724,
    "start_time": "2021-06-11T15:31:34.793Z"
   },
   {
    "duration": 10,
    "start_time": "2021-06-11T15:31:35.520Z"
   },
   {
    "duration": 16,
    "start_time": "2021-06-11T15:31:35.533Z"
   },
   {
    "duration": 47,
    "start_time": "2021-06-11T15:31:35.551Z"
   },
   {
    "duration": 19,
    "start_time": "2021-06-11T15:31:35.600Z"
   },
   {
    "duration": 7,
    "start_time": "2021-06-11T15:31:35.622Z"
   },
   {
    "duration": 42,
    "start_time": "2021-06-11T15:32:22.607Z"
   },
   {
    "duration": 5,
    "start_time": "2021-06-11T15:45:25.417Z"
   },
   {
    "duration": 550,
    "start_time": "2021-06-11T15:45:25.432Z"
   },
   {
    "duration": 27,
    "start_time": "2021-06-11T15:45:25.985Z"
   },
   {
    "duration": 11,
    "start_time": "2021-06-11T15:45:26.015Z"
   },
   {
    "duration": 424,
    "start_time": "2021-06-11T15:45:26.029Z"
   },
   {
    "duration": 45,
    "start_time": "2021-06-11T15:45:26.456Z"
   },
   {
    "duration": 228,
    "start_time": "2021-06-11T15:45:26.503Z"
   },
   {
    "duration": 26,
    "start_time": "2021-06-11T15:45:26.734Z"
   },
   {
    "duration": 188,
    "start_time": "2021-06-11T15:45:26.785Z"
   },
   {
    "duration": 23,
    "start_time": "2021-06-11T15:45:26.976Z"
   },
   {
    "duration": 240,
    "start_time": "2021-06-11T15:45:27.002Z"
   },
   {
    "duration": 19,
    "start_time": "2021-06-11T15:45:27.244Z"
   },
   {
    "duration": 68,
    "start_time": "2021-06-11T15:45:27.265Z"
   },
   {
    "duration": 111,
    "start_time": "2021-06-11T15:45:27.336Z"
   },
   {
    "duration": 18,
    "start_time": "2021-06-11T15:45:27.449Z"
   },
   {
    "duration": 28,
    "start_time": "2021-06-11T15:45:27.470Z"
   },
   {
    "duration": 14,
    "start_time": "2021-06-11T15:45:27.500Z"
   },
   {
    "duration": 13,
    "start_time": "2021-06-11T15:45:27.517Z"
   },
   {
    "duration": 54,
    "start_time": "2021-06-11T15:45:27.533Z"
   },
   {
    "duration": 43,
    "start_time": "2021-06-11T15:45:27.590Z"
   },
   {
    "duration": 113,
    "start_time": "2021-06-11T15:45:27.635Z"
   },
   {
    "duration": 34,
    "start_time": "2021-06-11T15:45:27.751Z"
   },
   {
    "duration": 38,
    "start_time": "2021-06-11T15:45:27.787Z"
   },
   {
    "duration": 54,
    "start_time": "2021-06-11T15:45:27.831Z"
   },
   {
    "duration": 54,
    "start_time": "2021-06-11T15:45:27.888Z"
   },
   {
    "duration": 44,
    "start_time": "2021-06-11T15:45:27.945Z"
   },
   {
    "duration": 4,
    "start_time": "2021-06-11T15:45:27.992Z"
   },
   {
    "duration": 8,
    "start_time": "2021-06-11T15:45:27.998Z"
   },
   {
    "duration": 7,
    "start_time": "2021-06-11T15:45:28.008Z"
   },
   {
    "duration": 6,
    "start_time": "2021-06-11T15:45:28.017Z"
   },
   {
    "duration": 9,
    "start_time": "2021-06-11T15:45:28.025Z"
   },
   {
    "duration": 7605,
    "start_time": "2021-06-11T15:45:28.036Z"
   },
   {
    "duration": -135,
    "start_time": "2021-06-11T15:45:35.778Z"
   },
   {
    "duration": -192,
    "start_time": "2021-06-11T15:45:35.837Z"
   },
   {
    "duration": -278,
    "start_time": "2021-06-11T15:45:35.924Z"
   },
   {
    "duration": -296,
    "start_time": "2021-06-11T15:45:35.944Z"
   },
   {
    "duration": -315,
    "start_time": "2021-06-11T15:45:35.964Z"
   },
   {
    "duration": -331,
    "start_time": "2021-06-11T15:45:35.982Z"
   },
   {
    "duration": -353,
    "start_time": "2021-06-11T15:45:36.006Z"
   },
   {
    "duration": -406,
    "start_time": "2021-06-11T15:45:36.061Z"
   },
   {
    "duration": -425,
    "start_time": "2021-06-11T15:45:36.082Z"
   },
   {
    "duration": -444,
    "start_time": "2021-06-11T15:45:36.102Z"
   },
   {
    "duration": -463,
    "start_time": "2021-06-11T15:45:36.123Z"
   },
   {
    "duration": -482,
    "start_time": "2021-06-11T15:45:36.144Z"
   },
   {
    "duration": -539,
    "start_time": "2021-06-11T15:45:36.202Z"
   },
   {
    "duration": -554,
    "start_time": "2021-06-11T15:45:36.219Z"
   },
   {
    "duration": -576,
    "start_time": "2021-06-11T15:45:36.243Z"
   },
   {
    "duration": -591,
    "start_time": "2021-06-11T15:45:36.259Z"
   },
   {
    "duration": -608,
    "start_time": "2021-06-11T15:45:36.277Z"
   },
   {
    "duration": -646,
    "start_time": "2021-06-11T15:45:36.316Z"
   },
   {
    "duration": -663,
    "start_time": "2021-06-11T15:45:36.335Z"
   },
   {
    "duration": -678,
    "start_time": "2021-06-11T15:45:36.351Z"
   },
   {
    "duration": -695,
    "start_time": "2021-06-11T15:45:36.369Z"
   },
   {
    "duration": -710,
    "start_time": "2021-06-11T15:45:36.385Z"
   },
   {
    "duration": -726,
    "start_time": "2021-06-11T15:45:36.403Z"
   },
   {
    "duration": -765,
    "start_time": "2021-06-11T15:45:36.443Z"
   },
   {
    "duration": -783,
    "start_time": "2021-06-11T15:45:36.462Z"
   },
   {
    "duration": -800,
    "start_time": "2021-06-11T15:45:36.481Z"
   },
   {
    "duration": -832,
    "start_time": "2021-06-11T15:45:36.517Z"
   },
   {
    "duration": 47,
    "start_time": "2021-06-11T15:47:26.036Z"
   },
   {
    "duration": 14,
    "start_time": "2021-06-11T15:47:47.882Z"
   },
   {
    "duration": 27,
    "start_time": "2021-06-11T15:47:57.789Z"
   },
   {
    "duration": 67,
    "start_time": "2021-06-11T15:50:29.941Z"
   },
   {
    "duration": 71,
    "start_time": "2021-06-11T15:53:29.186Z"
   },
   {
    "duration": 46,
    "start_time": "2021-06-11T15:54:47.772Z"
   },
   {
    "duration": 36,
    "start_time": "2021-06-11T15:54:55.106Z"
   },
   {
    "duration": 45,
    "start_time": "2021-06-11T15:55:52.031Z"
   },
   {
    "duration": 35,
    "start_time": "2021-06-11T15:57:29.178Z"
   },
   {
    "duration": 1763,
    "start_time": "2021-06-11T16:03:53.936Z"
   },
   {
    "duration": 442,
    "start_time": "2021-06-11T16:04:23.893Z"
   },
   {
    "duration": 5,
    "start_time": "2021-06-11T16:04:32.310Z"
   },
   {
    "duration": 551,
    "start_time": "2021-06-11T16:04:32.324Z"
   },
   {
    "duration": 27,
    "start_time": "2021-06-11T16:04:32.877Z"
   },
   {
    "duration": 12,
    "start_time": "2021-06-11T16:04:32.907Z"
   },
   {
    "duration": 451,
    "start_time": "2021-06-11T16:04:32.922Z"
   },
   {
    "duration": 38,
    "start_time": "2021-06-11T16:04:33.376Z"
   },
   {
    "duration": 255,
    "start_time": "2021-06-11T16:04:33.416Z"
   },
   {
    "duration": 30,
    "start_time": "2021-06-11T16:04:33.673Z"
   },
   {
    "duration": 207,
    "start_time": "2021-06-11T16:04:33.707Z"
   },
   {
    "duration": 17,
    "start_time": "2021-06-11T16:04:33.917Z"
   },
   {
    "duration": 256,
    "start_time": "2021-06-11T16:04:33.936Z"
   },
   {
    "duration": 19,
    "start_time": "2021-06-11T16:04:34.194Z"
   },
   {
    "duration": 71,
    "start_time": "2021-06-11T16:04:34.216Z"
   },
   {
    "duration": 100,
    "start_time": "2021-06-11T16:04:34.289Z"
   },
   {
    "duration": 22,
    "start_time": "2021-06-11T16:04:34.392Z"
   },
   {
    "duration": 18,
    "start_time": "2021-06-11T16:04:34.417Z"
   },
   {
    "duration": 13,
    "start_time": "2021-06-11T16:04:34.437Z"
   },
   {
    "duration": 37,
    "start_time": "2021-06-11T16:04:34.453Z"
   },
   {
    "duration": 20,
    "start_time": "2021-06-11T16:04:34.493Z"
   },
   {
    "duration": 71,
    "start_time": "2021-06-11T16:04:34.516Z"
   },
   {
    "duration": 80,
    "start_time": "2021-06-11T16:04:34.589Z"
   },
   {
    "duration": 21,
    "start_time": "2021-06-11T16:04:34.685Z"
   },
   {
    "duration": 38,
    "start_time": "2021-06-11T16:04:34.709Z"
   },
   {
    "duration": 60,
    "start_time": "2021-06-11T16:04:34.754Z"
   },
   {
    "duration": 44,
    "start_time": "2021-06-11T16:04:34.817Z"
   },
   {
    "duration": 354,
    "start_time": "2021-06-11T16:04:34.864Z"
   },
   {
    "duration": -1476,
    "start_time": "2021-06-11T16:04:36.697Z"
   },
   {
    "duration": -1495,
    "start_time": "2021-06-11T16:04:36.717Z"
   },
   {
    "duration": -1518,
    "start_time": "2021-06-11T16:04:36.742Z"
   },
   {
    "duration": -1532,
    "start_time": "2021-06-11T16:04:36.757Z"
   },
   {
    "duration": -1548,
    "start_time": "2021-06-11T16:04:36.775Z"
   },
   {
    "duration": -1583,
    "start_time": "2021-06-11T16:04:36.811Z"
   },
   {
    "duration": -1900,
    "start_time": "2021-06-11T16:04:37.130Z"
   },
   {
    "duration": -1916,
    "start_time": "2021-06-11T16:04:37.147Z"
   },
   {
    "duration": -1932,
    "start_time": "2021-06-11T16:04:37.165Z"
   },
   {
    "duration": -1947,
    "start_time": "2021-06-11T16:04:37.181Z"
   },
   {
    "duration": -1965,
    "start_time": "2021-06-11T16:04:37.201Z"
   },
   {
    "duration": -1981,
    "start_time": "2021-06-11T16:04:37.218Z"
   },
   {
    "duration": -2020,
    "start_time": "2021-06-11T16:04:37.259Z"
   },
   {
    "duration": -2038,
    "start_time": "2021-06-11T16:04:37.278Z"
   },
   {
    "duration": -2056,
    "start_time": "2021-06-11T16:04:37.297Z"
   },
   {
    "duration": -2070,
    "start_time": "2021-06-11T16:04:37.313Z"
   },
   {
    "duration": -2089,
    "start_time": "2021-06-11T16:04:37.333Z"
   },
   {
    "duration": -2104,
    "start_time": "2021-06-11T16:04:37.350Z"
   },
   {
    "duration": -2144,
    "start_time": "2021-06-11T16:04:37.391Z"
   },
   {
    "duration": -2218,
    "start_time": "2021-06-11T16:04:37.467Z"
   },
   {
    "duration": -2235,
    "start_time": "2021-06-11T16:04:37.485Z"
   },
   {
    "duration": -2272,
    "start_time": "2021-06-11T16:04:37.523Z"
   },
   {
    "duration": -2289,
    "start_time": "2021-06-11T16:04:37.542Z"
   },
   {
    "duration": -2305,
    "start_time": "2021-06-11T16:04:37.559Z"
   },
   {
    "duration": -2322,
    "start_time": "2021-06-11T16:04:37.578Z"
   },
   {
    "duration": -2337,
    "start_time": "2021-06-11T16:04:37.594Z"
   },
   {
    "duration": -2359,
    "start_time": "2021-06-11T16:04:37.617Z"
   },
   {
    "duration": -2376,
    "start_time": "2021-06-11T16:04:37.662Z"
   },
   {
    "duration": -2405,
    "start_time": "2021-06-11T16:04:37.693Z"
   },
   {
    "duration": -2426,
    "start_time": "2021-06-11T16:04:37.715Z"
   },
   {
    "duration": -2456,
    "start_time": "2021-06-11T16:04:37.747Z"
   },
   {
    "duration": -2513,
    "start_time": "2021-06-11T16:04:37.805Z"
   },
   {
    "duration": -2539,
    "start_time": "2021-06-11T16:04:37.833Z"
   },
   {
    "duration": 36,
    "start_time": "2021-06-11T16:05:14.680Z"
   },
   {
    "duration": 1287,
    "start_time": "2021-06-11T16:06:03.732Z"
   },
   {
    "duration": 37,
    "start_time": "2021-06-11T16:06:29.430Z"
   },
   {
    "duration": 40,
    "start_time": "2021-06-11T16:07:31.677Z"
   },
   {
    "duration": 39,
    "start_time": "2021-06-11T16:08:06.003Z"
   },
   {
    "duration": 44,
    "start_time": "2021-06-11T16:10:40.553Z"
   },
   {
    "duration": 46,
    "start_time": "2021-06-11T16:11:50.804Z"
   },
   {
    "duration": 45,
    "start_time": "2021-06-11T16:12:14.898Z"
   },
   {
    "duration": 40,
    "start_time": "2021-06-11T16:13:37.551Z"
   },
   {
    "duration": 42,
    "start_time": "2021-06-11T16:14:35.204Z"
   },
   {
    "duration": 56,
    "start_time": "2021-06-11T16:16:58.563Z"
   },
   {
    "duration": 25,
    "start_time": "2021-06-11T16:23:03.803Z"
   },
   {
    "duration": 15,
    "start_time": "2021-06-11T16:27:23.509Z"
   },
   {
    "duration": 10,
    "start_time": "2021-06-11T16:29:45.858Z"
   },
   {
    "duration": 3974,
    "start_time": "2021-06-11T16:30:14.457Z"
   },
   {
    "duration": 9,
    "start_time": "2021-06-11T16:30:34.823Z"
   },
   {
    "duration": 102,
    "start_time": "2021-06-11T16:31:30.087Z"
   },
   {
    "duration": 475,
    "start_time": "2021-06-11T16:31:39.567Z"
   },
   {
    "duration": 309,
    "start_time": "2021-06-11T16:31:46.125Z"
   },
   {
    "duration": 101,
    "start_time": "2021-06-11T16:31:51.741Z"
   },
   {
    "duration": 116,
    "start_time": "2021-06-11T16:32:14.389Z"
   },
   {
    "duration": 107,
    "start_time": "2021-06-11T16:32:31.494Z"
   },
   {
    "duration": 103,
    "start_time": "2021-06-11T16:32:41.631Z"
   },
   {
    "duration": 340,
    "start_time": "2021-06-11T16:36:49.605Z"
   },
   {
    "duration": 305,
    "start_time": "2021-06-11T16:37:40.210Z"
   },
   {
    "duration": 5,
    "start_time": "2021-06-11T16:38:02.558Z"
   },
   {
    "duration": 4026,
    "start_time": "2021-06-11T16:38:54.642Z"
   },
   {
    "duration": 305,
    "start_time": "2021-06-11T16:40:12.970Z"
   },
   {
    "duration": 363,
    "start_time": "2021-06-11T16:45:03.827Z"
   },
   {
    "duration": 474,
    "start_time": "2021-06-11T16:45:31.510Z"
   },
   {
    "duration": 9,
    "start_time": "2021-06-11T16:47:05.753Z"
   },
   {
    "duration": 5,
    "start_time": "2021-06-11T16:48:32.551Z"
   },
   {
    "duration": 5,
    "start_time": "2021-06-11T16:54:56.614Z"
   },
   {
    "duration": 24,
    "start_time": "2021-06-11T16:55:47.635Z"
   },
   {
    "duration": 9,
    "start_time": "2021-06-11T16:56:00.795Z"
   },
   {
    "duration": 296,
    "start_time": "2021-06-11T16:57:44.308Z"
   },
   {
    "duration": 26,
    "start_time": "2021-06-11T17:00:41.694Z"
   },
   {
    "duration": 31,
    "start_time": "2021-06-11T17:01:22.249Z"
   },
   {
    "duration": 24,
    "start_time": "2021-06-11T17:01:32.125Z"
   },
   {
    "duration": 36,
    "start_time": "2021-06-11T17:01:42.365Z"
   },
   {
    "duration": 23,
    "start_time": "2021-06-11T17:02:48.924Z"
   },
   {
    "duration": 28,
    "start_time": "2021-06-11T17:06:06.318Z"
   },
   {
    "duration": 41,
    "start_time": "2021-06-11T17:06:18.094Z"
   },
   {
    "duration": 329,
    "start_time": "2021-06-11T17:09:38.671Z"
   },
   {
    "duration": 21,
    "start_time": "2021-06-11T17:10:50.471Z"
   },
   {
    "duration": 329,
    "start_time": "2021-06-11T17:11:01.589Z"
   },
   {
    "duration": 28,
    "start_time": "2021-06-11T17:11:07.439Z"
   },
   {
    "duration": 373,
    "start_time": "2021-06-11T17:18:00.013Z"
   },
   {
    "duration": 343,
    "start_time": "2021-06-11T17:18:10.292Z"
   },
   {
    "duration": 20,
    "start_time": "2021-06-11T17:18:51.484Z"
   },
   {
    "duration": 25,
    "start_time": "2021-06-11T17:19:20.207Z"
   },
   {
    "duration": 27,
    "start_time": "2021-06-11T17:21:05.512Z"
   },
   {
    "duration": 67,
    "start_time": "2021-06-11T17:21:44.275Z"
   },
   {
    "duration": 54,
    "start_time": "2021-06-11T17:21:55.124Z"
   },
   {
    "duration": 5,
    "start_time": "2021-06-11T17:25:19.536Z"
   },
   {
    "duration": 514,
    "start_time": "2021-06-11T17:25:19.544Z"
   },
   {
    "duration": 28,
    "start_time": "2021-06-11T17:25:20.061Z"
   },
   {
    "duration": 26,
    "start_time": "2021-06-11T17:25:20.091Z"
   },
   {
    "duration": 398,
    "start_time": "2021-06-11T17:25:20.119Z"
   },
   {
    "duration": 30,
    "start_time": "2021-06-11T17:25:20.520Z"
   },
   {
    "duration": 237,
    "start_time": "2021-06-11T17:25:20.552Z"
   },
   {
    "duration": 27,
    "start_time": "2021-06-11T17:25:20.791Z"
   },
   {
    "duration": 192,
    "start_time": "2021-06-11T17:25:20.823Z"
   },
   {
    "duration": 16,
    "start_time": "2021-06-11T17:25:21.019Z"
   },
   {
    "duration": 227,
    "start_time": "2021-06-11T17:25:21.038Z"
   },
   {
    "duration": 28,
    "start_time": "2021-06-11T17:25:21.268Z"
   },
   {
    "duration": 55,
    "start_time": "2021-06-11T17:25:21.298Z"
   },
   {
    "duration": 102,
    "start_time": "2021-06-11T17:25:21.356Z"
   },
   {
    "duration": 26,
    "start_time": "2021-06-11T17:25:21.460Z"
   },
   {
    "duration": 25,
    "start_time": "2021-06-11T17:25:21.489Z"
   },
   {
    "duration": 15,
    "start_time": "2021-06-11T17:25:21.518Z"
   },
   {
    "duration": 11,
    "start_time": "2021-06-11T17:25:21.536Z"
   },
   {
    "duration": 60,
    "start_time": "2021-06-11T17:25:21.550Z"
   },
   {
    "duration": 41,
    "start_time": "2021-06-11T17:25:21.613Z"
   },
   {
    "duration": 93,
    "start_time": "2021-06-11T17:25:21.657Z"
   },
   {
    "duration": 37,
    "start_time": "2021-06-11T17:25:21.753Z"
   },
   {
    "duration": 39,
    "start_time": "2021-06-11T17:25:21.792Z"
   },
   {
    "duration": 56,
    "start_time": "2021-06-11T17:25:21.834Z"
   },
   {
    "duration": 46,
    "start_time": "2021-06-11T17:25:21.893Z"
   },
   {
    "duration": 55,
    "start_time": "2021-06-11T17:25:21.942Z"
   },
   {
    "duration": 23,
    "start_time": "2021-06-11T17:25:22.003Z"
   },
   {
    "duration": 63,
    "start_time": "2021-06-11T17:25:22.029Z"
   },
   {
    "duration": 3,
    "start_time": "2021-06-11T17:25:22.094Z"
   },
   {
    "duration": 11,
    "start_time": "2021-06-11T17:25:22.100Z"
   },
   {
    "duration": 22,
    "start_time": "2021-06-11T17:25:22.114Z"
   },
   {
    "duration": 14,
    "start_time": "2021-06-11T17:25:22.139Z"
   },
   {
    "duration": 17,
    "start_time": "2021-06-11T17:25:22.155Z"
   },
   {
    "duration": 8383,
    "start_time": "2021-06-11T17:25:22.174Z"
   },
   {
    "duration": -223,
    "start_time": "2021-06-11T17:25:30.783Z"
   },
   {
    "duration": -240,
    "start_time": "2021-06-11T17:25:30.802Z"
   },
   {
    "duration": -256,
    "start_time": "2021-06-11T17:25:30.819Z"
   },
   {
    "duration": -274,
    "start_time": "2021-06-11T17:25:30.838Z"
   },
   {
    "duration": -362,
    "start_time": "2021-06-11T17:25:30.928Z"
   },
   {
    "duration": -386,
    "start_time": "2021-06-11T17:25:30.953Z"
   },
   {
    "duration": -403,
    "start_time": "2021-06-11T17:25:30.971Z"
   },
   {
    "duration": -420,
    "start_time": "2021-06-11T17:25:30.990Z"
   },
   {
    "duration": -436,
    "start_time": "2021-06-11T17:25:31.007Z"
   },
   {
    "duration": -454,
    "start_time": "2021-06-11T17:25:31.026Z"
   },
   {
    "duration": -490,
    "start_time": "2021-06-11T17:25:31.064Z"
   },
   {
    "duration": -509,
    "start_time": "2021-06-11T17:25:31.084Z"
   },
   {
    "duration": -526,
    "start_time": "2021-06-11T17:25:31.103Z"
   },
   {
    "duration": -543,
    "start_time": "2021-06-11T17:25:31.122Z"
   },
   {
    "duration": -559,
    "start_time": "2021-06-11T17:25:31.139Z"
   },
   {
    "duration": -578,
    "start_time": "2021-06-11T17:25:31.160Z"
   },
   {
    "duration": -617,
    "start_time": "2021-06-11T17:25:31.200Z"
   },
   {
    "duration": -636,
    "start_time": "2021-06-11T17:25:31.221Z"
   },
   {
    "duration": -654,
    "start_time": "2021-06-11T17:25:31.240Z"
   },
   {
    "duration": -670,
    "start_time": "2021-06-11T17:25:31.258Z"
   },
   {
    "duration": -686,
    "start_time": "2021-06-11T17:25:31.275Z"
   },
   {
    "duration": -703,
    "start_time": "2021-06-11T17:25:31.294Z"
   },
   {
    "duration": -742,
    "start_time": "2021-06-11T17:25:31.334Z"
   },
   {
    "duration": -759,
    "start_time": "2021-06-11T17:25:31.353Z"
   },
   {
    "duration": -777,
    "start_time": "2021-06-11T17:25:31.372Z"
   },
   {
    "duration": -795,
    "start_time": "2021-06-11T17:25:31.392Z"
   },
   {
    "duration": -812,
    "start_time": "2021-06-11T17:25:31.410Z"
   },
   {
    "duration": 90,
    "start_time": "2021-06-11T17:26:21.503Z"
   },
   {
    "duration": 37,
    "start_time": "2021-06-11T17:27:50.931Z"
   },
   {
    "duration": 53,
    "start_time": "2021-06-11T17:28:10.841Z"
   },
   {
    "duration": 4,
    "start_time": "2021-06-11T17:30:55.509Z"
   },
   {
    "duration": 540,
    "start_time": "2021-06-11T17:30:55.558Z"
   },
   {
    "duration": 27,
    "start_time": "2021-06-11T17:30:56.101Z"
   },
   {
    "duration": 11,
    "start_time": "2021-06-11T17:30:56.131Z"
   },
   {
    "duration": 446,
    "start_time": "2021-06-11T17:30:56.145Z"
   },
   {
    "duration": 31,
    "start_time": "2021-06-11T17:30:56.594Z"
   },
   {
    "duration": 234,
    "start_time": "2021-06-11T17:30:56.628Z"
   },
   {
    "duration": 34,
    "start_time": "2021-06-11T17:30:56.865Z"
   },
   {
    "duration": 192,
    "start_time": "2021-06-11T17:30:56.902Z"
   },
   {
    "duration": 16,
    "start_time": "2021-06-11T17:30:57.098Z"
   },
   {
    "duration": 238,
    "start_time": "2021-06-11T17:30:57.118Z"
   },
   {
    "duration": 30,
    "start_time": "2021-06-11T17:30:57.359Z"
   },
   {
    "duration": 48,
    "start_time": "2021-06-11T17:30:57.391Z"
   },
   {
    "duration": 120,
    "start_time": "2021-06-11T17:30:57.442Z"
   },
   {
    "duration": 31,
    "start_time": "2021-06-11T17:30:57.565Z"
   },
   {
    "duration": 20,
    "start_time": "2021-06-11T17:30:57.598Z"
   },
   {
    "duration": 21,
    "start_time": "2021-06-11T17:30:57.620Z"
   },
   {
    "duration": 14,
    "start_time": "2021-06-11T17:30:57.643Z"
   },
   {
    "duration": 41,
    "start_time": "2021-06-11T17:30:57.660Z"
   },
   {
    "duration": 43,
    "start_time": "2021-06-11T17:30:57.703Z"
   },
   {
    "duration": 109,
    "start_time": "2021-06-11T17:30:57.749Z"
   },
   {
    "duration": 33,
    "start_time": "2021-06-11T17:30:57.860Z"
   },
   {
    "duration": 40,
    "start_time": "2021-06-11T17:30:57.896Z"
   },
   {
    "duration": 56,
    "start_time": "2021-06-11T17:30:57.939Z"
   },
   {
    "duration": 41,
    "start_time": "2021-06-11T17:30:57.998Z"
   },
   {
    "duration": 52,
    "start_time": "2021-06-11T17:30:58.041Z"
   },
   {
    "duration": 23,
    "start_time": "2021-06-11T17:30:58.095Z"
   },
   {
    "duration": 77,
    "start_time": "2021-06-11T17:30:58.125Z"
   },
   {
    "duration": 3,
    "start_time": "2021-06-11T17:30:58.205Z"
   },
   {
    "duration": 7,
    "start_time": "2021-06-11T17:30:58.210Z"
   },
   {
    "duration": 6,
    "start_time": "2021-06-11T17:30:58.220Z"
   },
   {
    "duration": 5,
    "start_time": "2021-06-11T17:30:58.228Z"
   },
   {
    "duration": 13,
    "start_time": "2021-06-11T17:30:58.235Z"
   },
   {
    "duration": 8356,
    "start_time": "2021-06-11T17:30:58.250Z"
   },
   {
    "duration": -307,
    "start_time": "2021-06-11T17:31:06.915Z"
   },
   {
    "duration": -364,
    "start_time": "2021-06-11T17:31:06.974Z"
   },
   {
    "duration": -409,
    "start_time": "2021-06-11T17:31:07.020Z"
   },
   {
    "duration": -446,
    "start_time": "2021-06-11T17:31:07.058Z"
   },
   {
    "duration": -468,
    "start_time": "2021-06-11T17:31:07.082Z"
   },
   {
    "duration": -489,
    "start_time": "2021-06-11T17:31:07.104Z"
   },
   {
    "duration": -513,
    "start_time": "2021-06-11T17:31:07.129Z"
   },
   {
    "duration": -532,
    "start_time": "2021-06-11T17:31:07.150Z"
   },
   {
    "duration": -602,
    "start_time": "2021-06-11T17:31:07.221Z"
   },
   {
    "duration": -622,
    "start_time": "2021-06-11T17:31:07.243Z"
   },
   {
    "duration": -640,
    "start_time": "2021-06-11T17:31:07.263Z"
   },
   {
    "duration": -655,
    "start_time": "2021-06-11T17:31:07.279Z"
   },
   {
    "duration": -672,
    "start_time": "2021-06-11T17:31:07.298Z"
   },
   {
    "duration": -688,
    "start_time": "2021-06-11T17:31:07.315Z"
   },
   {
    "duration": -735,
    "start_time": "2021-06-11T17:31:07.363Z"
   },
   {
    "duration": -751,
    "start_time": "2021-06-11T17:31:07.381Z"
   },
   {
    "duration": -945,
    "start_time": "2021-06-11T17:31:07.576Z"
   },
   {
    "duration": -961,
    "start_time": "2021-06-11T17:31:07.594Z"
   },
   {
    "duration": -981,
    "start_time": "2021-06-11T17:31:07.615Z"
   },
   {
    "duration": -999,
    "start_time": "2021-06-11T17:31:07.635Z"
   },
   {
    "duration": -1016,
    "start_time": "2021-06-11T17:31:07.653Z"
   },
   {
    "duration": -1034,
    "start_time": "2021-06-11T17:31:07.673Z"
   },
   {
    "duration": -1080,
    "start_time": "2021-06-11T17:31:07.720Z"
   },
   {
    "duration": -1096,
    "start_time": "2021-06-11T17:31:07.737Z"
   },
   {
    "duration": -1114,
    "start_time": "2021-06-11T17:31:07.757Z"
   },
   {
    "duration": -1130,
    "start_time": "2021-06-11T17:31:07.775Z"
   },
   {
    "duration": -1108,
    "start_time": "2021-06-11T17:31:07.794Z"
   },
   {
    "duration": 302,
    "start_time": "2021-06-11T17:39:19.167Z"
   },
   {
    "duration": 34,
    "start_time": "2021-06-11T17:48:19.386Z"
   },
   {
    "duration": 39,
    "start_time": "2021-06-11T17:51:46.948Z"
   },
   {
    "duration": 53,
    "start_time": "2021-06-11T17:52:03.407Z"
   },
   {
    "duration": 4,
    "start_time": "2021-06-11T17:52:13.234Z"
   },
   {
    "duration": 512,
    "start_time": "2021-06-11T17:52:13.247Z"
   },
   {
    "duration": 25,
    "start_time": "2021-06-11T17:52:13.762Z"
   },
   {
    "duration": 16,
    "start_time": "2021-06-11T17:52:13.791Z"
   },
   {
    "duration": 432,
    "start_time": "2021-06-11T17:52:13.810Z"
   },
   {
    "duration": 47,
    "start_time": "2021-06-11T17:52:14.245Z"
   },
   {
    "duration": 317,
    "start_time": "2021-06-11T17:52:14.295Z"
   },
   {
    "duration": 37,
    "start_time": "2021-06-11T17:52:14.615Z"
   },
   {
    "duration": 307,
    "start_time": "2021-06-11T17:52:14.658Z"
   },
   {
    "duration": 32,
    "start_time": "2021-06-11T17:52:14.970Z"
   },
   {
    "duration": 384,
    "start_time": "2021-06-11T17:52:15.005Z"
   },
   {
    "duration": 27,
    "start_time": "2021-06-11T17:52:15.392Z"
   },
   {
    "duration": 80,
    "start_time": "2021-06-11T17:52:15.421Z"
   },
   {
    "duration": 106,
    "start_time": "2021-06-11T17:52:15.504Z"
   },
   {
    "duration": 19,
    "start_time": "2021-06-11T17:52:15.612Z"
   },
   {
    "duration": 22,
    "start_time": "2021-06-11T17:52:15.633Z"
   },
   {
    "duration": 40,
    "start_time": "2021-06-11T17:52:15.657Z"
   },
   {
    "duration": 8,
    "start_time": "2021-06-11T17:52:15.700Z"
   },
   {
    "duration": 28,
    "start_time": "2021-06-11T17:52:15.710Z"
   },
   {
    "duration": 73,
    "start_time": "2021-06-11T17:52:15.740Z"
   },
   {
    "duration": 84,
    "start_time": "2021-06-11T17:52:15.816Z"
   },
   {
    "duration": 20,
    "start_time": "2021-06-11T17:52:15.903Z"
   },
   {
    "duration": 37,
    "start_time": "2021-06-11T17:52:15.925Z"
   },
   {
    "duration": 37,
    "start_time": "2021-06-11T17:52:15.990Z"
   },
   {
    "duration": 62,
    "start_time": "2021-06-11T17:52:16.030Z"
   },
   {
    "duration": 32,
    "start_time": "2021-06-11T17:52:16.094Z"
   },
   {
    "duration": 21,
    "start_time": "2021-06-11T17:52:16.128Z"
   },
   {
    "duration": 82,
    "start_time": "2021-06-11T17:52:16.151Z"
   },
   {
    "duration": 51,
    "start_time": "2021-06-11T17:52:16.236Z"
   },
   {
    "duration": 3,
    "start_time": "2021-06-11T17:52:16.289Z"
   },
   {
    "duration": 7,
    "start_time": "2021-06-11T17:52:16.294Z"
   },
   {
    "duration": 6,
    "start_time": "2021-06-11T17:52:16.304Z"
   },
   {
    "duration": 9,
    "start_time": "2021-06-11T17:52:16.312Z"
   },
   {
    "duration": 7,
    "start_time": "2021-06-11T17:52:16.323Z"
   },
   {
    "duration": 7500,
    "start_time": "2021-06-11T17:52:16.332Z"
   },
   {
    "duration": -248,
    "start_time": "2021-06-11T17:52:24.083Z"
   },
   {
    "duration": -276,
    "start_time": "2021-06-11T17:52:24.112Z"
   },
   {
    "duration": -325,
    "start_time": "2021-06-11T17:52:24.163Z"
   },
   {
    "duration": -346,
    "start_time": "2021-06-11T17:52:24.185Z"
   },
   {
    "duration": -415,
    "start_time": "2021-06-11T17:52:24.255Z"
   },
   {
    "duration": -489,
    "start_time": "2021-06-11T17:52:24.331Z"
   },
   {
    "duration": -515,
    "start_time": "2021-06-11T17:52:24.358Z"
   },
   {
    "duration": -541,
    "start_time": "2021-06-11T17:52:24.385Z"
   },
   {
    "duration": -565,
    "start_time": "2021-06-11T17:52:24.411Z"
   },
   {
    "duration": -582,
    "start_time": "2021-06-11T17:52:24.429Z"
   },
   {
    "duration": -600,
    "start_time": "2021-06-11T17:52:24.448Z"
   },
   {
    "duration": -616,
    "start_time": "2021-06-11T17:52:24.466Z"
   },
   {
    "duration": -634,
    "start_time": "2021-06-11T17:52:24.485Z"
   },
   {
    "duration": -652,
    "start_time": "2021-06-11T17:52:24.504Z"
   },
   {
    "duration": -669,
    "start_time": "2021-06-11T17:52:24.523Z"
   },
   {
    "duration": -685,
    "start_time": "2021-06-11T17:52:24.540Z"
   },
   {
    "duration": -716,
    "start_time": "2021-06-11T17:52:24.572Z"
   },
   {
    "duration": -735,
    "start_time": "2021-06-11T17:52:24.593Z"
   },
   {
    "duration": -758,
    "start_time": "2021-06-11T17:52:24.617Z"
   },
   {
    "duration": -782,
    "start_time": "2021-06-11T17:52:24.642Z"
   },
   {
    "duration": -808,
    "start_time": "2021-06-11T17:52:24.670Z"
   },
   {
    "duration": -892,
    "start_time": "2021-06-11T17:52:24.755Z"
   },
   {
    "duration": -919,
    "start_time": "2021-06-11T17:52:24.784Z"
   },
   {
    "duration": -939,
    "start_time": "2021-06-11T17:52:24.805Z"
   },
   {
    "duration": -966,
    "start_time": "2021-06-11T17:52:24.833Z"
   },
   {
    "duration": -992,
    "start_time": "2021-06-11T17:52:24.861Z"
   },
   {
    "duration": -1016,
    "start_time": "2021-06-11T17:52:24.886Z"
   },
   {
    "duration": 39,
    "start_time": "2021-06-11T17:53:16.278Z"
   },
   {
    "duration": 39,
    "start_time": "2021-06-11T17:53:28.373Z"
   },
   {
    "duration": 39,
    "start_time": "2021-06-11T17:54:47.517Z"
   },
   {
    "duration": 24,
    "start_time": "2021-06-11T17:56:52.649Z"
   },
   {
    "duration": 38,
    "start_time": "2021-06-11T17:57:17.225Z"
   },
   {
    "duration": 4,
    "start_time": "2021-06-11T17:57:34.047Z"
   },
   {
    "duration": 510,
    "start_time": "2021-06-11T17:57:34.060Z"
   },
   {
    "duration": 25,
    "start_time": "2021-06-11T17:57:34.573Z"
   },
   {
    "duration": 13,
    "start_time": "2021-06-11T17:57:34.601Z"
   },
   {
    "duration": 432,
    "start_time": "2021-06-11T17:57:34.617Z"
   },
   {
    "duration": 47,
    "start_time": "2021-06-11T17:57:35.052Z"
   },
   {
    "duration": 239,
    "start_time": "2021-06-11T17:57:35.101Z"
   },
   {
    "duration": 25,
    "start_time": "2021-06-11T17:57:35.342Z"
   },
   {
    "duration": 176,
    "start_time": "2021-06-11T17:57:35.387Z"
   },
   {
    "duration": 25,
    "start_time": "2021-06-11T17:57:35.567Z"
   },
   {
    "duration": 206,
    "start_time": "2021-06-11T17:57:35.594Z"
   },
   {
    "duration": 19,
    "start_time": "2021-06-11T17:57:35.803Z"
   },
   {
    "duration": 72,
    "start_time": "2021-06-11T17:57:35.824Z"
   },
   {
    "duration": 97,
    "start_time": "2021-06-11T17:57:35.899Z"
   },
   {
    "duration": 18,
    "start_time": "2021-06-11T17:57:35.999Z"
   },
   {
    "duration": 18,
    "start_time": "2021-06-11T17:57:36.020Z"
   },
   {
    "duration": 46,
    "start_time": "2021-06-11T17:57:36.041Z"
   },
   {
    "duration": 8,
    "start_time": "2021-06-11T17:57:36.090Z"
   },
   {
    "duration": 33,
    "start_time": "2021-06-11T17:57:36.101Z"
   },
   {
    "duration": 59,
    "start_time": "2021-06-11T17:57:36.136Z"
   },
   {
    "duration": 71,
    "start_time": "2021-06-11T17:57:36.197Z"
   },
   {
    "duration": 33,
    "start_time": "2021-06-11T17:57:36.270Z"
   },
   {
    "duration": 39,
    "start_time": "2021-06-11T17:57:36.306Z"
   },
   {
    "duration": 65,
    "start_time": "2021-06-11T17:57:36.351Z"
   },
   {
    "duration": 42,
    "start_time": "2021-06-11T17:57:36.419Z"
   },
   {
    "duration": 49,
    "start_time": "2021-06-11T17:57:36.463Z"
   },
   {
    "duration": 23,
    "start_time": "2021-06-11T17:57:36.514Z"
   },
   {
    "duration": 77,
    "start_time": "2021-06-11T17:57:36.539Z"
   },
   {
    "duration": 39,
    "start_time": "2021-06-11T17:57:36.618Z"
   },
   {
    "duration": 26,
    "start_time": "2021-06-11T17:57:36.660Z"
   },
   {
    "duration": 17,
    "start_time": "2021-06-11T17:57:36.689Z"
   },
   {
    "duration": 17,
    "start_time": "2021-06-11T17:57:36.708Z"
   },
   {
    "duration": 10,
    "start_time": "2021-06-11T17:57:36.728Z"
   },
   {
    "duration": 15,
    "start_time": "2021-06-11T17:57:36.741Z"
   },
   {
    "duration": 7135,
    "start_time": "2021-06-11T17:57:36.759Z"
   },
   {
    "duration": -244,
    "start_time": "2021-06-11T17:57:44.141Z"
   },
   {
    "duration": -262,
    "start_time": "2021-06-11T17:57:44.161Z"
   },
   {
    "duration": -378,
    "start_time": "2021-06-11T17:57:44.279Z"
   },
   {
    "duration": -430,
    "start_time": "2021-06-11T17:57:44.332Z"
   },
   {
    "duration": -449,
    "start_time": "2021-06-11T17:57:44.353Z"
   },
   {
    "duration": -487,
    "start_time": "2021-06-11T17:57:44.394Z"
   },
   {
    "duration": -508,
    "start_time": "2021-06-11T17:57:44.417Z"
   },
   {
    "duration": -528,
    "start_time": "2021-06-11T17:57:44.439Z"
   },
   {
    "duration": -549,
    "start_time": "2021-06-11T17:57:44.463Z"
   },
   {
    "duration": -563,
    "start_time": "2021-06-11T17:57:44.479Z"
   },
   {
    "duration": -612,
    "start_time": "2021-06-11T17:57:44.530Z"
   },
   {
    "duration": -628,
    "start_time": "2021-06-11T17:57:44.548Z"
   },
   {
    "duration": -650,
    "start_time": "2021-06-11T17:57:44.572Z"
   },
   {
    "duration": -665,
    "start_time": "2021-06-11T17:57:44.590Z"
   },
   {
    "duration": -684,
    "start_time": "2021-06-11T17:57:44.611Z"
   },
   {
    "duration": -725,
    "start_time": "2021-06-11T17:57:44.654Z"
   },
   {
    "duration": -745,
    "start_time": "2021-06-11T17:57:44.676Z"
   },
   {
    "duration": -759,
    "start_time": "2021-06-11T17:57:44.692Z"
   },
   {
    "duration": -725,
    "start_time": "2021-06-11T17:57:44.711Z"
   },
   {
    "duration": -739,
    "start_time": "2021-06-11T17:57:44.728Z"
   },
   {
    "duration": -756,
    "start_time": "2021-06-11T17:57:44.747Z"
   },
   {
    "duration": -789,
    "start_time": "2021-06-11T17:57:44.782Z"
   },
   {
    "duration": -805,
    "start_time": "2021-06-11T17:57:44.800Z"
   },
   {
    "duration": -820,
    "start_time": "2021-06-11T17:57:44.818Z"
   },
   {
    "duration": -836,
    "start_time": "2021-06-11T17:57:44.836Z"
   },
   {
    "duration": -851,
    "start_time": "2021-06-11T17:57:44.853Z"
   },
   {
    "duration": -913,
    "start_time": "2021-06-11T17:57:44.917Z"
   },
   {
    "duration": 42,
    "start_time": "2021-06-11T17:58:36.091Z"
   },
   {
    "duration": 41,
    "start_time": "2021-06-11T17:58:58.730Z"
   },
   {
    "duration": 40,
    "start_time": "2021-06-11T18:01:42.326Z"
   },
   {
    "duration": 42,
    "start_time": "2021-06-11T18:04:36.678Z"
   },
   {
    "duration": 44,
    "start_time": "2021-06-11T18:06:42.885Z"
   },
   {
    "duration": 44,
    "start_time": "2021-06-11T18:09:30.837Z"
   },
   {
    "duration": 48,
    "start_time": "2021-06-11T18:10:42.721Z"
   },
   {
    "duration": 2938,
    "start_time": "2021-06-11T18:12:46.308Z"
   },
   {
    "duration": 2953,
    "start_time": "2021-06-11T18:13:33.563Z"
   },
   {
    "duration": 2950,
    "start_time": "2021-06-11T18:13:50.576Z"
   },
   {
    "duration": 3029,
    "start_time": "2021-06-11T18:14:09.085Z"
   },
   {
    "duration": 3027,
    "start_time": "2021-06-11T18:15:19.213Z"
   },
   {
    "duration": 3160,
    "start_time": "2021-06-11T18:20:15.882Z"
   },
   {
    "duration": 3021,
    "start_time": "2021-06-11T18:21:10.414Z"
   },
   {
    "duration": 3225,
    "start_time": "2021-06-11T18:22:15.660Z"
   },
   {
    "duration": 4,
    "start_time": "2021-06-11T18:25:59.391Z"
   },
   {
    "duration": 563,
    "start_time": "2021-06-11T18:25:59.410Z"
   },
   {
    "duration": 39,
    "start_time": "2021-06-11T18:25:59.977Z"
   },
   {
    "duration": 13,
    "start_time": "2021-06-11T18:26:00.021Z"
   },
   {
    "duration": 572,
    "start_time": "2021-06-11T18:26:00.037Z"
   },
   {
    "duration": 45,
    "start_time": "2021-06-11T18:26:00.613Z"
   },
   {
    "duration": 265,
    "start_time": "2021-06-11T18:26:00.661Z"
   },
   {
    "duration": 25,
    "start_time": "2021-06-11T18:26:00.929Z"
   },
   {
    "duration": 228,
    "start_time": "2021-06-11T18:26:00.959Z"
   },
   {
    "duration": 24,
    "start_time": "2021-06-11T18:26:01.191Z"
   },
   {
    "duration": 279,
    "start_time": "2021-06-11T18:26:01.219Z"
   },
   {
    "duration": 24,
    "start_time": "2021-06-11T18:26:01.501Z"
   },
   {
    "duration": 92,
    "start_time": "2021-06-11T18:26:01.528Z"
   },
   {
    "duration": 115,
    "start_time": "2021-06-11T18:26:01.623Z"
   },
   {
    "duration": 19,
    "start_time": "2021-06-11T18:26:01.740Z"
   },
   {
    "duration": 39,
    "start_time": "2021-06-11T18:26:01.762Z"
   },
   {
    "duration": 17,
    "start_time": "2021-06-11T18:26:01.805Z"
   },
   {
    "duration": 15,
    "start_time": "2021-06-11T18:26:01.824Z"
   },
   {
    "duration": 54,
    "start_time": "2021-06-11T18:26:01.842Z"
   },
   {
    "duration": 61,
    "start_time": "2021-06-11T18:26:01.899Z"
   },
   {
    "duration": 96,
    "start_time": "2021-06-11T18:26:01.964Z"
   },
   {
    "duration": 38,
    "start_time": "2021-06-11T18:26:02.063Z"
   },
   {
    "duration": 43,
    "start_time": "2021-06-11T18:26:02.104Z"
   },
   {
    "duration": 74,
    "start_time": "2021-06-11T18:26:02.154Z"
   },
   {
    "duration": 55,
    "start_time": "2021-06-11T18:26:02.232Z"
   },
   {
    "duration": 40,
    "start_time": "2021-06-11T18:26:02.290Z"
   },
   {
    "duration": 52,
    "start_time": "2021-06-11T18:26:02.333Z"
   },
   {
    "duration": 60,
    "start_time": "2021-06-11T18:26:02.389Z"
   },
   {
    "duration": 3220,
    "start_time": "2021-06-11T18:26:02.453Z"
   },
   {
    "duration": 4264,
    "start_time": "2021-06-11T18:26:05.676Z"
   },
   {
    "duration": 3131,
    "start_time": "2021-06-11T18:26:09.942Z"
   },
   {
    "duration": 20,
    "start_time": "2021-06-11T18:26:13.075Z"
   },
   {
    "duration": 21,
    "start_time": "2021-06-11T18:26:13.098Z"
   },
   {
    "duration": 14,
    "start_time": "2021-06-11T18:26:13.122Z"
   },
   {
    "duration": 15,
    "start_time": "2021-06-11T18:26:13.139Z"
   },
   {
    "duration": 26,
    "start_time": "2021-06-11T18:26:13.156Z"
   },
   {
    "duration": 11,
    "start_time": "2021-06-11T18:26:13.185Z"
   },
   {
    "duration": 8689,
    "start_time": "2021-06-11T18:26:13.198Z"
   },
   {
    "duration": -186,
    "start_time": "2021-06-11T18:26:22.076Z"
   },
   {
    "duration": -204,
    "start_time": "2021-06-11T18:26:22.096Z"
   },
   {
    "duration": -224,
    "start_time": "2021-06-11T18:26:22.118Z"
   },
   {
    "duration": -240,
    "start_time": "2021-06-11T18:26:22.136Z"
   },
   {
    "duration": -285,
    "start_time": "2021-06-11T18:26:22.183Z"
   },
   {
    "duration": -303,
    "start_time": "2021-06-11T18:26:22.203Z"
   },
   {
    "duration": -321,
    "start_time": "2021-06-11T18:26:22.223Z"
   },
   {
    "duration": -338,
    "start_time": "2021-06-11T18:26:22.242Z"
   },
   {
    "duration": -357,
    "start_time": "2021-06-11T18:26:22.263Z"
   },
   {
    "duration": -393,
    "start_time": "2021-06-11T18:26:22.300Z"
   },
   {
    "duration": -413,
    "start_time": "2021-06-11T18:26:22.322Z"
   },
   {
    "duration": -429,
    "start_time": "2021-06-11T18:26:22.340Z"
   },
   {
    "duration": -447,
    "start_time": "2021-06-11T18:26:22.361Z"
   },
   {
    "duration": -473,
    "start_time": "2021-06-11T18:26:22.388Z"
   },
   {
    "duration": -572,
    "start_time": "2021-06-11T18:26:22.489Z"
   },
   {
    "duration": -590,
    "start_time": "2021-06-11T18:26:22.509Z"
   },
   {
    "duration": -609,
    "start_time": "2021-06-11T18:26:22.530Z"
   },
   {
    "duration": -628,
    "start_time": "2021-06-11T18:26:22.550Z"
   },
   {
    "duration": -647,
    "start_time": "2021-06-11T18:26:22.571Z"
   },
   {
    "duration": -692,
    "start_time": "2021-06-11T18:26:22.617Z"
   },
   {
    "duration": -711,
    "start_time": "2021-06-11T18:26:22.638Z"
   },
   {
    "duration": -732,
    "start_time": "2021-06-11T18:26:22.660Z"
   },
   {
    "duration": -751,
    "start_time": "2021-06-11T18:26:22.680Z"
   },
   {
    "duration": -767,
    "start_time": "2021-06-11T18:26:22.698Z"
   },
   {
    "duration": -806,
    "start_time": "2021-06-11T18:26:22.738Z"
   },
   {
    "duration": -771,
    "start_time": "2021-06-11T18:26:22.757Z"
   },
   {
    "duration": -789,
    "start_time": "2021-06-11T18:26:22.778Z"
   },
   {
    "duration": 3214,
    "start_time": "2021-06-11T18:27:12.837Z"
   },
   {
    "duration": 4244,
    "start_time": "2021-06-11T18:31:44.283Z"
   },
   {
    "duration": 3098,
    "start_time": "2021-06-11T18:32:06.501Z"
   },
   {
    "duration": 11,
    "start_time": "2021-06-11T18:33:27.821Z"
   },
   {
    "duration": 4,
    "start_time": "2021-06-11T18:33:46.338Z"
   },
   {
    "duration": 560,
    "start_time": "2021-06-11T18:33:46.352Z"
   },
   {
    "duration": 29,
    "start_time": "2021-06-11T18:33:46.915Z"
   },
   {
    "duration": 20,
    "start_time": "2021-06-11T18:33:46.948Z"
   },
   {
    "duration": 427,
    "start_time": "2021-06-11T18:33:46.970Z"
   },
   {
    "duration": 31,
    "start_time": "2021-06-11T18:33:47.399Z"
   },
   {
    "duration": 257,
    "start_time": "2021-06-11T18:33:47.432Z"
   },
   {
    "duration": 25,
    "start_time": "2021-06-11T18:33:47.692Z"
   },
   {
    "duration": 309,
    "start_time": "2021-06-11T18:33:47.722Z"
   },
   {
    "duration": 22,
    "start_time": "2021-06-11T18:33:48.034Z"
   },
   {
    "duration": 354,
    "start_time": "2021-06-11T18:33:48.059Z"
   },
   {
    "duration": 27,
    "start_time": "2021-06-11T18:33:48.416Z"
   },
   {
    "duration": 92,
    "start_time": "2021-06-11T18:33:48.446Z"
   },
   {
    "duration": 100,
    "start_time": "2021-06-11T18:33:48.541Z"
   },
   {
    "duration": 18,
    "start_time": "2021-06-11T18:33:48.643Z"
   },
   {
    "duration": 35,
    "start_time": "2021-06-11T18:33:48.664Z"
   },
   {
    "duration": 15,
    "start_time": "2021-06-11T18:33:48.702Z"
   },
   {
    "duration": 17,
    "start_time": "2021-06-11T18:33:48.719Z"
   },
   {
    "duration": 27,
    "start_time": "2021-06-11T18:33:48.738Z"
   },
   {
    "duration": 42,
    "start_time": "2021-06-11T18:33:48.785Z"
   },
   {
    "duration": 91,
    "start_time": "2021-06-11T18:33:48.830Z"
   },
   {
    "duration": 25,
    "start_time": "2021-06-11T18:33:48.925Z"
   },
   {
    "duration": 81,
    "start_time": "2021-06-11T18:33:48.953Z"
   },
   {
    "duration": 55,
    "start_time": "2021-06-11T18:33:49.044Z"
   },
   {
    "duration": 43,
    "start_time": "2021-06-11T18:33:49.103Z"
   },
   {
    "duration": 54,
    "start_time": "2021-06-11T18:33:49.148Z"
   },
   {
    "duration": 25,
    "start_time": "2021-06-11T18:33:49.205Z"
   },
   {
    "duration": 77,
    "start_time": "2021-06-11T18:33:49.232Z"
   },
   {
    "duration": 3108,
    "start_time": "2021-06-11T18:33:49.313Z"
   },
   {
    "duration": 2964,
    "start_time": "2021-06-11T18:33:52.424Z"
   },
   {
    "duration": 3276,
    "start_time": "2021-06-11T18:33:55.391Z"
   },
   {
    "duration": 46,
    "start_time": "2021-06-11T18:33:58.669Z"
   },
   {
    "duration": 7,
    "start_time": "2021-06-11T18:33:58.718Z"
   },
   {
    "duration": 13,
    "start_time": "2021-06-11T18:33:58.728Z"
   },
   {
    "duration": 13,
    "start_time": "2021-06-11T18:33:58.743Z"
   },
   {
    "duration": 8,
    "start_time": "2021-06-11T18:33:58.759Z"
   },
   {
    "duration": 16,
    "start_time": "2021-06-11T18:33:58.769Z"
   },
   {
    "duration": 9161,
    "start_time": "2021-06-11T18:33:58.788Z"
   },
   {
    "duration": -269,
    "start_time": "2021-06-11T18:34:08.220Z"
   },
   {
    "duration": -300,
    "start_time": "2021-06-11T18:34:08.253Z"
   },
   {
    "duration": -318,
    "start_time": "2021-06-11T18:34:08.272Z"
   },
   {
    "duration": -338,
    "start_time": "2021-06-11T18:34:08.294Z"
   },
   {
    "duration": -442,
    "start_time": "2021-06-11T18:34:08.400Z"
   },
   {
    "duration": -463,
    "start_time": "2021-06-11T18:34:08.423Z"
   },
   {
    "duration": -480,
    "start_time": "2021-06-11T18:34:08.442Z"
   },
   {
    "duration": -499,
    "start_time": "2021-06-11T18:34:08.463Z"
   },
   {
    "duration": -516,
    "start_time": "2021-06-11T18:34:08.482Z"
   },
   {
    "duration": -563,
    "start_time": "2021-06-11T18:34:08.531Z"
   },
   {
    "duration": -589,
    "start_time": "2021-06-11T18:34:08.559Z"
   },
   {
    "duration": -611,
    "start_time": "2021-06-11T18:34:08.583Z"
   },
   {
    "duration": -629,
    "start_time": "2021-06-11T18:34:08.602Z"
   },
   {
    "duration": -648,
    "start_time": "2021-06-11T18:34:08.623Z"
   },
   {
    "duration": -692,
    "start_time": "2021-06-11T18:34:08.669Z"
   },
   {
    "duration": -713,
    "start_time": "2021-06-11T18:34:08.692Z"
   },
   {
    "duration": -731,
    "start_time": "2021-06-11T18:34:08.711Z"
   },
   {
    "duration": -751,
    "start_time": "2021-06-11T18:34:08.733Z"
   },
   {
    "duration": -769,
    "start_time": "2021-06-11T18:34:08.752Z"
   },
   {
    "duration": -815,
    "start_time": "2021-06-11T18:34:08.800Z"
   },
   {
    "duration": -834,
    "start_time": "2021-06-11T18:34:08.820Z"
   },
   {
    "duration": -854,
    "start_time": "2021-06-11T18:34:08.842Z"
   },
   {
    "duration": -873,
    "start_time": "2021-06-11T18:34:08.862Z"
   },
   {
    "duration": -893,
    "start_time": "2021-06-11T18:34:08.883Z"
   },
   {
    "duration": -929,
    "start_time": "2021-06-11T18:34:08.920Z"
   },
   {
    "duration": -949,
    "start_time": "2021-06-11T18:34:08.942Z"
   },
   {
    "duration": -967,
    "start_time": "2021-06-11T18:34:08.961Z"
   },
   {
    "duration": 36,
    "start_time": "2021-06-11T18:34:35.832Z"
   },
   {
    "duration": 48,
    "start_time": "2021-06-11T18:37:00.179Z"
   },
   {
    "duration": 310,
    "start_time": "2021-06-11T18:39:16.068Z"
   },
   {
    "duration": 15,
    "start_time": "2021-06-11T18:39:26.340Z"
   },
   {
    "duration": 14,
    "start_time": "2021-06-11T18:39:53.352Z"
   },
   {
    "duration": 15,
    "start_time": "2021-06-11T18:40:09.618Z"
   },
   {
    "duration": 654,
    "start_time": "2021-06-11T18:43:20.205Z"
   },
   {
    "duration": 14,
    "start_time": "2021-06-11T18:45:57.905Z"
   },
   {
    "duration": 14,
    "start_time": "2021-06-11T18:46:30.055Z"
   },
   {
    "duration": 15,
    "start_time": "2021-06-11T18:46:46.215Z"
   },
   {
    "duration": 900,
    "start_time": "2021-06-11T18:47:18.577Z"
   },
   {
    "duration": 8326,
    "start_time": "2021-06-11T18:48:45.069Z"
   },
   {
    "duration": 14,
    "start_time": "2021-06-11T18:49:28.845Z"
   },
   {
    "duration": 16,
    "start_time": "2021-06-11T18:50:06.432Z"
   },
   {
    "duration": 18,
    "start_time": "2021-06-11T18:50:35.692Z"
   },
   {
    "duration": 683,
    "start_time": "2021-06-11T18:51:46.297Z"
   },
   {
    "duration": 717,
    "start_time": "2021-06-11T18:52:08.727Z"
   },
   {
    "duration": 320,
    "start_time": "2021-06-11T18:55:26.452Z"
   },
   {
    "duration": 20,
    "start_time": "2021-06-11T18:55:42.584Z"
   },
   {
    "duration": 29,
    "start_time": "2021-06-11T18:56:40.095Z"
   },
   {
    "duration": 18,
    "start_time": "2021-06-11T18:58:28.882Z"
   },
   {
    "duration": 16,
    "start_time": "2021-06-11T18:59:52.748Z"
   },
   {
    "duration": 16,
    "start_time": "2021-06-11T19:01:08.620Z"
   },
   {
    "duration": 16,
    "start_time": "2021-06-11T19:01:46.459Z"
   },
   {
    "duration": 16,
    "start_time": "2021-06-11T19:02:51.846Z"
   },
   {
    "duration": 3,
    "start_time": "2021-06-11T19:14:44.500Z"
   },
   {
    "duration": 23,
    "start_time": "2021-06-11T19:19:27.905Z"
   },
   {
    "duration": 24,
    "start_time": "2021-06-11T19:19:40.019Z"
   },
   {
    "duration": 13,
    "start_time": "2021-06-11T19:20:21.342Z"
   },
   {
    "duration": 14,
    "start_time": "2021-06-11T19:20:53.904Z"
   },
   {
    "duration": 4,
    "start_time": "2021-06-11T19:26:39.454Z"
   },
   {
    "duration": 524,
    "start_time": "2021-06-11T19:26:39.461Z"
   },
   {
    "duration": 27,
    "start_time": "2021-06-11T19:26:39.988Z"
   },
   {
    "duration": 13,
    "start_time": "2021-06-11T19:26:40.019Z"
   },
   {
    "duration": 426,
    "start_time": "2021-06-11T19:26:40.035Z"
   },
   {
    "duration": 39,
    "start_time": "2021-06-11T19:26:40.464Z"
   },
   {
    "duration": 235,
    "start_time": "2021-06-11T19:26:40.507Z"
   },
   {
    "duration": 25,
    "start_time": "2021-06-11T19:26:40.745Z"
   },
   {
    "duration": 197,
    "start_time": "2021-06-11T19:26:40.773Z"
   },
   {
    "duration": 23,
    "start_time": "2021-06-11T19:26:40.973Z"
   },
   {
    "duration": 216,
    "start_time": "2021-06-11T19:26:40.998Z"
   },
   {
    "duration": 20,
    "start_time": "2021-06-11T19:26:41.217Z"
   },
   {
    "duration": 75,
    "start_time": "2021-06-11T19:26:41.240Z"
   },
   {
    "duration": 97,
    "start_time": "2021-06-11T19:26:41.318Z"
   },
   {
    "duration": 19,
    "start_time": "2021-06-11T19:26:41.418Z"
   },
   {
    "duration": 16,
    "start_time": "2021-06-11T19:26:41.440Z"
   },
   {
    "duration": 35,
    "start_time": "2021-06-11T19:26:41.458Z"
   },
   {
    "duration": 9,
    "start_time": "2021-06-11T19:26:41.495Z"
   },
   {
    "duration": 20,
    "start_time": "2021-06-11T19:26:41.509Z"
   },
   {
    "duration": 82,
    "start_time": "2021-06-11T19:26:41.533Z"
   },
   {
    "duration": 85,
    "start_time": "2021-06-11T19:26:41.617Z"
   },
   {
    "duration": 21,
    "start_time": "2021-06-11T19:26:41.704Z"
   },
   {
    "duration": 58,
    "start_time": "2021-06-11T19:26:41.727Z"
   },
   {
    "duration": 38,
    "start_time": "2021-06-11T19:26:41.788Z"
   },
   {
    "duration": 73,
    "start_time": "2021-06-11T19:26:41.828Z"
   },
   {
    "duration": 30,
    "start_time": "2021-06-11T19:26:41.903Z"
   },
   {
    "duration": 24,
    "start_time": "2021-06-11T19:26:41.935Z"
   },
   {
    "duration": 56,
    "start_time": "2021-06-11T19:26:41.985Z"
   },
   {
    "duration": 2933,
    "start_time": "2021-06-11T19:26:42.044Z"
   },
   {
    "duration": 3159,
    "start_time": "2021-06-11T19:26:44.984Z"
   },
   {
    "duration": 2993,
    "start_time": "2021-06-11T19:26:48.146Z"
   },
   {
    "duration": 52,
    "start_time": "2021-06-11T19:26:51.142Z"
   },
   {
    "duration": 10,
    "start_time": "2021-06-11T19:26:51.197Z"
   },
   {
    "duration": 20,
    "start_time": "2021-06-11T19:26:51.210Z"
   },
   {
    "duration": 13,
    "start_time": "2021-06-11T19:26:51.232Z"
   },
   {
    "duration": 38,
    "start_time": "2021-06-11T19:26:51.247Z"
   },
   {
    "duration": 613,
    "start_time": "2021-06-11T19:26:51.287Z"
   },
   {
    "duration": 15,
    "start_time": "2021-06-11T19:26:51.902Z"
   },
   {
    "duration": 14,
    "start_time": "2021-06-11T19:26:51.920Z"
   },
   {
    "duration": 52,
    "start_time": "2021-06-11T19:26:51.937Z"
   },
   {
    "duration": 650,
    "start_time": "2021-06-11T19:26:51.993Z"
   },
   {
    "duration": 15,
    "start_time": "2021-06-11T19:26:52.646Z"
   },
   {
    "duration": 30,
    "start_time": "2021-06-11T19:26:52.664Z"
   },
   {
    "duration": 16,
    "start_time": "2021-06-11T19:26:52.697Z"
   },
   {
    "duration": 667,
    "start_time": "2021-06-11T19:26:52.715Z"
   },
   {
    "duration": 15,
    "start_time": "2021-06-11T19:26:53.384Z"
   },
   {
    "duration": 13,
    "start_time": "2021-06-11T19:26:53.402Z"
   },
   {
    "duration": 15,
    "start_time": "2021-06-11T19:26:53.418Z"
   },
   {
    "duration": 57,
    "start_time": "2021-06-11T19:26:53.435Z"
   },
   {
    "duration": 14,
    "start_time": "2021-06-11T19:26:53.495Z"
   },
   {
    "duration": 1357,
    "start_time": "2021-06-12T15:45:34.904Z"
   },
   {
    "duration": 567,
    "start_time": "2021-06-12T15:45:36.265Z"
   },
   {
    "duration": 32,
    "start_time": "2021-06-12T15:45:36.834Z"
   },
   {
    "duration": 18,
    "start_time": "2021-06-12T15:45:36.869Z"
   },
   {
    "duration": 469,
    "start_time": "2021-06-12T15:45:36.889Z"
   },
   {
    "duration": 33,
    "start_time": "2021-06-12T15:45:37.362Z"
   },
   {
    "duration": 266,
    "start_time": "2021-06-12T15:45:37.397Z"
   },
   {
    "duration": 39,
    "start_time": "2021-06-12T15:45:37.670Z"
   },
   {
    "duration": 272,
    "start_time": "2021-06-12T15:45:37.712Z"
   },
   {
    "duration": 17,
    "start_time": "2021-06-12T15:45:37.986Z"
   },
   {
    "duration": 266,
    "start_time": "2021-06-12T15:45:38.006Z"
   },
   {
    "duration": 22,
    "start_time": "2021-06-12T15:45:38.275Z"
   },
   {
    "duration": 82,
    "start_time": "2021-06-12T15:45:38.299Z"
   },
   {
    "duration": 101,
    "start_time": "2021-06-12T15:45:38.383Z"
   },
   {
    "duration": 17,
    "start_time": "2021-06-12T15:45:38.487Z"
   },
   {
    "duration": 15,
    "start_time": "2021-06-12T15:45:38.507Z"
   },
   {
    "duration": 44,
    "start_time": "2021-06-12T15:45:38.524Z"
   },
   {
    "duration": 9,
    "start_time": "2021-06-12T15:45:38.570Z"
   },
   {
    "duration": 32,
    "start_time": "2021-06-12T15:45:38.582Z"
   },
   {
    "duration": 84,
    "start_time": "2021-06-12T15:45:38.617Z"
   },
   {
    "duration": 107,
    "start_time": "2021-06-12T15:45:38.703Z"
   },
   {
    "duration": 22,
    "start_time": "2021-06-12T15:45:38.812Z"
   },
   {
    "duration": 60,
    "start_time": "2021-06-12T15:45:38.840Z"
   },
   {
    "duration": 68,
    "start_time": "2021-06-12T15:45:38.903Z"
   },
   {
    "duration": 52,
    "start_time": "2021-06-12T15:45:38.974Z"
   },
   {
    "duration": 59,
    "start_time": "2021-06-12T15:45:39.029Z"
   },
   {
    "duration": 26,
    "start_time": "2021-06-12T15:45:39.091Z"
   },
   {
    "duration": 94,
    "start_time": "2021-06-12T15:45:39.119Z"
   },
   {
    "duration": 3312,
    "start_time": "2021-06-12T15:45:39.216Z"
   },
   {
    "duration": 3243,
    "start_time": "2021-06-12T15:45:42.531Z"
   },
   {
    "duration": 4754,
    "start_time": "2021-06-12T15:45:45.778Z"
   },
   {
    "duration": 50,
    "start_time": "2021-06-12T15:45:50.535Z"
   },
   {
    "duration": 4,
    "start_time": "2021-06-12T15:45:50.588Z"
   },
   {
    "duration": 32,
    "start_time": "2021-06-12T15:45:50.594Z"
   },
   {
    "duration": 17,
    "start_time": "2021-06-12T15:45:50.629Z"
   },
   {
    "duration": 28,
    "start_time": "2021-06-12T15:45:50.649Z"
   },
   {
    "duration": 569,
    "start_time": "2021-06-12T15:45:50.681Z"
   },
   {
    "duration": 102,
    "start_time": "2021-06-12T15:45:51.150Z"
   },
   {
    "duration": 69,
    "start_time": "2021-06-12T15:45:51.185Z"
   },
   {
    "duration": 38,
    "start_time": "2021-06-12T15:45:51.217Z"
   },
   {
    "duration": 2,
    "start_time": "2021-06-12T15:45:51.254Z"
   },
   {
    "duration": -30,
    "start_time": "2021-06-12T15:45:51.288Z"
   },
   {
    "duration": -64,
    "start_time": "2021-06-12T15:45:51.323Z"
   },
   {
    "duration": -104,
    "start_time": "2021-06-12T15:45:51.364Z"
   },
   {
    "duration": -136,
    "start_time": "2021-06-12T15:45:51.397Z"
   },
   {
    "duration": -170,
    "start_time": "2021-06-12T15:45:51.434Z"
   },
   {
    "duration": -206,
    "start_time": "2021-06-12T15:45:51.471Z"
   },
   {
    "duration": -233,
    "start_time": "2021-06-12T15:45:51.500Z"
   },
   {
    "duration": -253,
    "start_time": "2021-06-12T15:45:51.522Z"
   },
   {
    "duration": -268,
    "start_time": "2021-06-12T15:45:51.538Z"
   },
   {
    "duration": 15,
    "start_time": "2021-06-12T15:51:25.159Z"
   },
   {
    "duration": 16,
    "start_time": "2021-06-12T15:51:25.179Z"
   },
   {
    "duration": 71,
    "start_time": "2021-06-12T15:51:25.199Z"
   },
   {
    "duration": 373,
    "start_time": "2021-06-12T15:51:25.274Z"
   },
   {
    "duration": 238,
    "start_time": "2021-06-12T15:51:25.411Z"
   },
   {
    "duration": 233,
    "start_time": "2021-06-12T15:51:25.418Z"
   },
   {
    "duration": 230,
    "start_time": "2021-06-12T15:51:25.422Z"
   },
   {
    "duration": 226,
    "start_time": "2021-06-12T15:51:25.428Z"
   },
   {
    "duration": 222,
    "start_time": "2021-06-12T15:51:25.433Z"
   },
   {
    "duration": 218,
    "start_time": "2021-06-12T15:51:25.438Z"
   },
   {
    "duration": 215,
    "start_time": "2021-06-12T15:51:25.443Z"
   },
   {
    "duration": 212,
    "start_time": "2021-06-12T15:51:25.447Z"
   },
   {
    "duration": 208,
    "start_time": "2021-06-12T15:51:25.452Z"
   },
   {
    "duration": 269,
    "start_time": "2021-06-12T15:54:33.336Z"
   },
   {
    "duration": 239,
    "start_time": "2021-06-12T15:54:54.434Z"
   },
   {
    "duration": 6,
    "start_time": "2021-06-12T15:55:02.252Z"
   },
   {
    "duration": 8,
    "start_time": "2021-06-12T15:55:11.467Z"
   },
   {
    "duration": 22,
    "start_time": "2021-06-12T16:08:33.260Z"
   },
   {
    "duration": 41,
    "start_time": "2021-06-12T16:08:33.285Z"
   },
   {
    "duration": 14,
    "start_time": "2021-06-12T16:08:33.329Z"
   },
   {
    "duration": 338,
    "start_time": "2021-06-12T16:08:33.346Z"
   },
   {
    "duration": 17,
    "start_time": "2021-06-12T16:08:45.407Z"
   },
   {
    "duration": 18,
    "start_time": "2021-06-12T16:08:45.427Z"
   },
   {
    "duration": 20,
    "start_time": "2021-06-12T16:08:45.449Z"
   },
   {
    "duration": 32,
    "start_time": "2021-06-12T16:08:45.472Z"
   },
   {
    "duration": 22,
    "start_time": "2021-06-12T16:08:45.507Z"
   },
   {
    "duration": 1010,
    "start_time": "2021-06-12T17:49:02.133Z"
   },
   {
    "duration": 391,
    "start_time": "2021-06-12T17:49:03.145Z"
   },
   {
    "duration": 21,
    "start_time": "2021-06-12T17:49:03.538Z"
   },
   {
    "duration": 11,
    "start_time": "2021-06-12T17:49:03.561Z"
   },
   {
    "duration": 322,
    "start_time": "2021-06-12T17:49:03.574Z"
   },
   {
    "duration": 21,
    "start_time": "2021-06-12T17:49:03.898Z"
   },
   {
    "duration": 155,
    "start_time": "2021-06-12T17:49:03.921Z"
   },
   {
    "duration": 21,
    "start_time": "2021-06-12T17:49:04.079Z"
   },
   {
    "duration": 139,
    "start_time": "2021-06-12T17:49:04.103Z"
   },
   {
    "duration": 11,
    "start_time": "2021-06-12T17:49:04.244Z"
   },
   {
    "duration": 158,
    "start_time": "2021-06-12T17:49:04.257Z"
   },
   {
    "duration": 12,
    "start_time": "2021-06-12T17:49:04.417Z"
   },
   {
    "duration": 29,
    "start_time": "2021-06-12T17:49:04.431Z"
   },
   {
    "duration": 88,
    "start_time": "2021-06-12T17:49:04.462Z"
   },
   {
    "duration": 13,
    "start_time": "2021-06-12T17:49:04.552Z"
   },
   {
    "duration": 19,
    "start_time": "2021-06-12T17:49:04.566Z"
   },
   {
    "duration": 9,
    "start_time": "2021-06-12T17:49:04.587Z"
   },
   {
    "duration": 7,
    "start_time": "2021-06-12T17:49:04.597Z"
   },
   {
    "duration": 13,
    "start_time": "2021-06-12T17:49:04.605Z"
   },
   {
    "duration": 32,
    "start_time": "2021-06-12T17:49:04.619Z"
   },
   {
    "duration": 87,
    "start_time": "2021-06-12T17:49:04.653Z"
   },
   {
    "duration": 14,
    "start_time": "2021-06-12T17:49:04.742Z"
   },
   {
    "duration": 45,
    "start_time": "2021-06-12T17:49:04.759Z"
   },
   {
    "duration": 24,
    "start_time": "2021-06-12T17:49:04.806Z"
   },
   {
    "duration": 33,
    "start_time": "2021-06-12T17:49:04.831Z"
   },
   {
    "duration": 40,
    "start_time": "2021-06-12T17:49:04.865Z"
   },
   {
    "duration": 10,
    "start_time": "2021-06-12T17:49:04.906Z"
   },
   {
    "duration": 30,
    "start_time": "2021-06-12T17:49:04.917Z"
   },
   {
    "duration": 1538,
    "start_time": "2021-06-12T17:49:04.949Z"
   },
   {
    "duration": 1518,
    "start_time": "2021-06-12T17:49:06.488Z"
   },
   {
    "duration": 1603,
    "start_time": "2021-06-12T17:49:08.007Z"
   },
   {
    "duration": 21,
    "start_time": "2021-06-12T17:49:09.611Z"
   },
   {
    "duration": 2,
    "start_time": "2021-06-12T17:49:09.634Z"
   },
   {
    "duration": 12,
    "start_time": "2021-06-12T17:49:09.637Z"
   },
   {
    "duration": 35,
    "start_time": "2021-06-12T17:49:09.650Z"
   },
   {
    "duration": 9,
    "start_time": "2021-06-12T17:49:09.686Z"
   },
   {
    "duration": 261,
    "start_time": "2021-06-12T17:49:09.696Z"
   },
   {
    "duration": -645,
    "start_time": "2021-06-12T17:49:10.604Z"
   },
   {
    "duration": -663,
    "start_time": "2021-06-12T17:49:10.623Z"
   },
   {
    "duration": -683,
    "start_time": "2021-06-12T17:49:10.644Z"
   },
   {
    "duration": -700,
    "start_time": "2021-06-12T17:49:10.662Z"
   },
   {
    "duration": -738,
    "start_time": "2021-06-12T17:49:10.701Z"
   },
   {
    "duration": -756,
    "start_time": "2021-06-12T17:49:10.720Z"
   },
   {
    "duration": -775,
    "start_time": "2021-06-12T17:49:10.740Z"
   },
   {
    "duration": -792,
    "start_time": "2021-06-12T17:49:10.757Z"
   },
   {
    "duration": -815,
    "start_time": "2021-06-12T17:49:10.781Z"
   },
   {
    "duration": -852,
    "start_time": "2021-06-12T17:49:10.819Z"
   },
   {
    "duration": -871,
    "start_time": "2021-06-12T17:49:10.839Z"
   },
   {
    "duration": -887,
    "start_time": "2021-06-12T17:49:10.856Z"
   },
   {
    "duration": -905,
    "start_time": "2021-06-12T17:49:10.875Z"
   },
   {
    "duration": 178,
    "start_time": "2021-06-12T17:49:34.335Z"
   },
   {
    "duration": 11,
    "start_time": "2021-06-12T17:50:23.054Z"
   },
   {
    "duration": 178,
    "start_time": "2021-06-12T17:50:53.334Z"
   },
   {
    "duration": 2,
    "start_time": "2021-06-12T17:51:05.854Z"
   },
   {
    "duration": 378,
    "start_time": "2021-06-12T17:51:05.871Z"
   },
   {
    "duration": 21,
    "start_time": "2021-06-12T17:51:06.251Z"
   },
   {
    "duration": 7,
    "start_time": "2021-06-12T17:51:06.274Z"
   },
   {
    "duration": 285,
    "start_time": "2021-06-12T17:51:06.283Z"
   },
   {
    "duration": 27,
    "start_time": "2021-06-12T17:51:06.570Z"
   },
   {
    "duration": 163,
    "start_time": "2021-06-12T17:51:06.599Z"
   },
   {
    "duration": 29,
    "start_time": "2021-06-12T17:51:06.764Z"
   },
   {
    "duration": 144,
    "start_time": "2021-06-12T17:51:06.796Z"
   },
   {
    "duration": 10,
    "start_time": "2021-06-12T17:51:06.942Z"
   },
   {
    "duration": 167,
    "start_time": "2021-06-12T17:51:06.954Z"
   },
   {
    "duration": 13,
    "start_time": "2021-06-12T17:51:07.122Z"
   },
   {
    "duration": 33,
    "start_time": "2021-06-12T17:51:07.136Z"
   },
   {
    "duration": 70,
    "start_time": "2021-06-12T17:51:07.171Z"
   },
   {
    "duration": 13,
    "start_time": "2021-06-12T17:51:07.242Z"
   },
   {
    "duration": 31,
    "start_time": "2021-06-12T17:51:07.257Z"
   },
   {
    "duration": 9,
    "start_time": "2021-06-12T17:51:07.290Z"
   },
   {
    "duration": 5,
    "start_time": "2021-06-12T17:51:07.301Z"
   },
   {
    "duration": 14,
    "start_time": "2021-06-12T17:51:07.307Z"
   },
   {
    "duration": 30,
    "start_time": "2021-06-12T17:51:07.323Z"
   },
   {
    "duration": 88,
    "start_time": "2021-06-12T17:51:07.354Z"
   },
   {
    "duration": 14,
    "start_time": "2021-06-12T17:51:07.444Z"
   },
   {
    "duration": 42,
    "start_time": "2021-06-12T17:51:07.459Z"
   },
   {
    "duration": 23,
    "start_time": "2021-06-12T17:51:07.504Z"
   },
   {
    "duration": 31,
    "start_time": "2021-06-12T17:51:07.529Z"
   },
   {
    "duration": 33,
    "start_time": "2021-06-12T17:51:07.562Z"
   },
   {
    "duration": 10,
    "start_time": "2021-06-12T17:51:07.597Z"
   },
   {
    "duration": 31,
    "start_time": "2021-06-12T17:51:07.608Z"
   },
   {
    "duration": 1584,
    "start_time": "2021-06-12T17:51:07.640Z"
   },
   {
    "duration": 1519,
    "start_time": "2021-06-12T17:51:09.225Z"
   },
   {
    "duration": 1525,
    "start_time": "2021-06-12T17:51:10.745Z"
   },
   {
    "duration": 27,
    "start_time": "2021-06-12T17:51:12.271Z"
   },
   {
    "duration": 3,
    "start_time": "2021-06-12T17:51:12.299Z"
   },
   {
    "duration": 11,
    "start_time": "2021-06-12T17:51:12.303Z"
   },
   {
    "duration": 9,
    "start_time": "2021-06-12T17:51:12.315Z"
   },
   {
    "duration": 10,
    "start_time": "2021-06-12T17:51:12.325Z"
   },
   {
    "duration": 195,
    "start_time": "2021-06-12T17:51:12.337Z"
   },
   {
    "duration": -481,
    "start_time": "2021-06-12T17:51:13.015Z"
   },
   {
    "duration": -499,
    "start_time": "2021-06-12T17:51:13.035Z"
   },
   {
    "duration": -515,
    "start_time": "2021-06-12T17:51:13.052Z"
   },
   {
    "duration": -590,
    "start_time": "2021-06-12T17:51:13.129Z"
   },
   {
    "duration": -607,
    "start_time": "2021-06-12T17:51:13.147Z"
   },
   {
    "duration": -626,
    "start_time": "2021-06-12T17:51:13.167Z"
   },
   {
    "duration": -642,
    "start_time": "2021-06-12T17:51:13.185Z"
   },
   {
    "duration": -660,
    "start_time": "2021-06-12T17:51:13.204Z"
   },
   {
    "duration": -675,
    "start_time": "2021-06-12T17:51:13.221Z"
   },
   {
    "duration": -715,
    "start_time": "2021-06-12T17:51:13.262Z"
   },
   {
    "duration": -733,
    "start_time": "2021-06-12T17:51:13.281Z"
   },
   {
    "duration": -749,
    "start_time": "2021-06-12T17:51:13.299Z"
   },
   {
    "duration": -766,
    "start_time": "2021-06-12T17:51:13.317Z"
   },
   {
    "duration": 13,
    "start_time": "2021-06-12T17:51:28.189Z"
   },
   {
    "duration": 12,
    "start_time": "2021-06-12T17:51:35.647Z"
   },
   {
    "duration": 184,
    "start_time": "2021-06-12T17:51:45.929Z"
   },
   {
    "duration": 11,
    "start_time": "2021-06-12T17:52:03.479Z"
   },
   {
    "duration": 11,
    "start_time": "2021-06-12T17:52:06.195Z"
   },
   {
    "duration": 10,
    "start_time": "2021-06-12T17:52:11.701Z"
   },
   {
    "duration": 196,
    "start_time": "2021-06-12T17:52:24.411Z"
   },
   {
    "duration": 10,
    "start_time": "2021-06-12T17:52:41.546Z"
   },
   {
    "duration": 9,
    "start_time": "2021-06-12T17:52:43.520Z"
   },
   {
    "duration": 9,
    "start_time": "2021-06-12T17:52:48.836Z"
   },
   {
    "duration": 173,
    "start_time": "2021-06-12T17:53:13.432Z"
   },
   {
    "duration": 184,
    "start_time": "2021-06-12T17:55:11.431Z"
   },
   {
    "duration": 382,
    "start_time": "2021-06-12T17:55:39.758Z"
   },
   {
    "duration": 413,
    "start_time": "2021-06-12T17:57:45.389Z"
   },
   {
    "duration": 372,
    "start_time": "2021-06-12T17:58:41.870Z"
   },
   {
    "duration": 433,
    "start_time": "2021-06-12T17:59:42.047Z"
   },
   {
    "duration": 368,
    "start_time": "2021-06-12T18:00:50.953Z"
   },
   {
    "duration": 408,
    "start_time": "2021-06-12T18:01:09.678Z"
   },
   {
    "duration": 364,
    "start_time": "2021-06-12T18:01:28.962Z"
   },
   {
    "duration": 390,
    "start_time": "2021-06-12T18:01:55.297Z"
   },
   {
    "duration": 389,
    "start_time": "2021-06-12T18:03:35.953Z"
   },
   {
    "duration": 419,
    "start_time": "2021-06-12T18:03:56.584Z"
   },
   {
    "duration": 388,
    "start_time": "2021-06-12T18:07:26.714Z"
   },
   {
    "duration": 357,
    "start_time": "2021-06-12T18:08:18.331Z"
   },
   {
    "duration": 370,
    "start_time": "2021-06-12T18:09:04.836Z"
   },
   {
    "duration": 10,
    "start_time": "2021-06-12T18:10:26.967Z"
   },
   {
    "duration": 1041,
    "start_time": "2021-06-12T18:17:58.737Z"
   },
   {
    "duration": 420,
    "start_time": "2021-06-12T18:17:59.780Z"
   },
   {
    "duration": 28,
    "start_time": "2021-06-12T18:18:00.202Z"
   },
   {
    "duration": 20,
    "start_time": "2021-06-12T18:18:00.233Z"
   },
   {
    "duration": 306,
    "start_time": "2021-06-12T18:18:00.255Z"
   },
   {
    "duration": 31,
    "start_time": "2021-06-12T18:18:00.563Z"
   },
   {
    "duration": 194,
    "start_time": "2021-06-12T18:18:00.596Z"
   },
   {
    "duration": 19,
    "start_time": "2021-06-12T18:18:00.792Z"
   },
   {
    "duration": 202,
    "start_time": "2021-06-12T18:18:00.814Z"
   },
   {
    "duration": 17,
    "start_time": "2021-06-12T18:18:01.020Z"
   },
   {
    "duration": 188,
    "start_time": "2021-06-12T18:18:01.039Z"
   },
   {
    "duration": 18,
    "start_time": "2021-06-12T18:18:01.229Z"
   },
   {
    "duration": 55,
    "start_time": "2021-06-12T18:18:01.249Z"
   },
   {
    "duration": 98,
    "start_time": "2021-06-12T18:18:01.306Z"
   },
   {
    "duration": 18,
    "start_time": "2021-06-12T18:18:01.406Z"
   },
   {
    "duration": 12,
    "start_time": "2021-06-12T18:18:01.426Z"
   },
   {
    "duration": 10,
    "start_time": "2021-06-12T18:18:01.440Z"
   },
   {
    "duration": 10,
    "start_time": "2021-06-12T18:18:01.452Z"
   },
   {
    "duration": 21,
    "start_time": "2021-06-12T18:18:01.484Z"
   },
   {
    "duration": 43,
    "start_time": "2021-06-12T18:18:01.508Z"
   },
   {
    "duration": 88,
    "start_time": "2021-06-12T18:18:01.553Z"
   },
   {
    "duration": 17,
    "start_time": "2021-06-12T18:18:01.643Z"
   },
   {
    "duration": 48,
    "start_time": "2021-06-12T18:18:01.663Z"
   },
   {
    "duration": 32,
    "start_time": "2021-06-12T18:18:01.713Z"
   },
   {
    "duration": 64,
    "start_time": "2021-06-12T18:18:01.747Z"
   },
   {
    "duration": 31,
    "start_time": "2021-06-12T18:18:01.813Z"
   },
   {
    "duration": 15,
    "start_time": "2021-06-12T18:18:01.849Z"
   },
   {
    "duration": 36,
    "start_time": "2021-06-12T18:18:01.886Z"
   },
   {
    "duration": 1797,
    "start_time": "2021-06-12T18:18:01.925Z"
   },
   {
    "duration": 1570,
    "start_time": "2021-06-12T18:18:03.725Z"
   },
   {
    "duration": 1567,
    "start_time": "2021-06-12T18:18:05.297Z"
   },
   {
    "duration": 36,
    "start_time": "2021-06-12T18:18:06.866Z"
   },
   {
    "duration": 3,
    "start_time": "2021-06-12T18:18:06.904Z"
   },
   {
    "duration": 11,
    "start_time": "2021-06-12T18:18:06.909Z"
   },
   {
    "duration": 10,
    "start_time": "2021-06-12T18:18:06.922Z"
   },
   {
    "duration": 18,
    "start_time": "2021-06-12T18:18:06.934Z"
   },
   {
    "duration": 426,
    "start_time": "2021-06-12T18:18:06.954Z"
   },
   {
    "duration": 11,
    "start_time": "2021-06-12T18:18:07.384Z"
   },
   {
    "duration": 11,
    "start_time": "2021-06-12T18:18:07.396Z"
   },
   {
    "duration": 10,
    "start_time": "2021-06-12T18:18:07.408Z"
   },
   {
    "duration": 381,
    "start_time": "2021-06-12T18:18:07.420Z"
   },
   {
    "duration": 11,
    "start_time": "2021-06-12T18:18:07.803Z"
   },
   {
    "duration": 12,
    "start_time": "2021-06-12T18:18:07.816Z"
   },
   {
    "duration": 11,
    "start_time": "2021-06-12T18:18:07.830Z"
   },
   {
    "duration": 386,
    "start_time": "2021-06-12T18:18:07.843Z"
   },
   {
    "duration": 11,
    "start_time": "2021-06-12T18:18:08.231Z"
   },
   {
    "duration": 11,
    "start_time": "2021-06-12T18:18:08.244Z"
   },
   {
    "duration": 31,
    "start_time": "2021-06-12T18:18:08.256Z"
   },
   {
    "duration": 24,
    "start_time": "2021-06-12T18:18:08.289Z"
   },
   {
    "duration": 22,
    "start_time": "2021-06-12T18:18:08.315Z"
   },
   {
    "duration": 26,
    "start_time": "2021-06-12T18:18:53.554Z"
   }
  ],
  "kernelspec": {
   "display_name": "Python 3",
   "language": "python",
   "name": "python3"
  },
  "language_info": {
   "codemirror_mode": {
    "name": "ipython",
    "version": 3
   },
   "file_extension": ".py",
   "mimetype": "text/x-python",
   "name": "python",
   "nbconvert_exporter": "python",
   "pygments_lexer": "ipython3",
   "version": "3.8.5"
  },
  "toc": {
   "base_numbering": 1,
   "nav_menu": {},
   "number_sections": true,
   "sideBar": true,
   "skip_h1_title": true,
   "title_cell": "Table of Contents",
   "title_sidebar": "Contents",
   "toc_cell": false,
   "toc_position": {},
   "toc_section_display": true,
   "toc_window_display": false
  }
 },
 "nbformat": 4,
 "nbformat_minor": 2
}
