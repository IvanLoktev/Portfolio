{
 "cells": [
  {
   "cell_type": "markdown",
   "metadata": {},
   "source": [
    "### Исследование данных авиакомпании — проверить гипотезу о повышении спроса во время фестивалей."
   ]
  },
  {
   "cell_type": "markdown",
   "metadata": {},
   "source": [
    "## План проекта\n",
    "1.[Открыть файл с данными](#cell1)\n",
    "\n",
    "2.[Предобработка данных](#cell2)\n",
    "\n",
    "3.[Исследовательский анализ данных](#cell3)\n",
    "\n",
    "4.[Общий вывод](#cell4)"
   ]
  },
  {
   "cell_type": "markdown",
   "metadata": {},
   "source": [
    "### Открыть файлы с данными.\n",
    "<a id='cell1'></a>"
   ]
  },
  {
   "cell_type": "markdown",
   "metadata": {},
   "source": [
    "1. Импортировал библиотеки pandas, matplolib, numpy, stats."
   ]
  },
  {
   "cell_type": "code",
   "execution_count": 1,
   "metadata": {},
   "outputs": [],
   "source": [
    "import pandas as pd \n",
    "import matplotlib.pyplot as plt\n",
    "import numpy as np\n",
    "from scipy import stats as st"
   ]
  },
  {
   "cell_type": "markdown",
   "metadata": {},
   "source": [
    "2. Сохранил файлы в переменных query_1 и query_3."
   ]
  },
  {
   "cell_type": "code",
   "execution_count": 2,
   "metadata": {},
   "outputs": [],
   "source": [
    "query_1 = pd.read_csv('/datasets/query_1.csv')\n",
    "query_3 = pd.read_csv('/datasets/query_3.csv')"
   ]
  },
  {
   "cell_type": "markdown",
   "metadata": {},
   "source": [
    "3.Ознакомился со сводной информацией в таблицах, вызвав метод info(), head(), describe()."
   ]
  },
  {
   "cell_type": "code",
   "execution_count": 3,
   "metadata": {},
   "outputs": [
    {
     "name": "stdout",
     "output_type": "stream",
     "text": [
      "<class 'pandas.core.frame.DataFrame'>\n",
      "RangeIndex: 8 entries, 0 to 7\n",
      "Data columns (total 2 columns):\n",
      "model             8 non-null object\n",
      "flights_amount    8 non-null int64\n",
      "dtypes: int64(1), object(1)\n",
      "memory usage: 256.0+ bytes\n"
     ]
    }
   ],
   "source": [
    "query_1.info()"
   ]
  },
  {
   "cell_type": "code",
   "execution_count": 4,
   "metadata": {},
   "outputs": [
    {
     "name": "stdout",
     "output_type": "stream",
     "text": [
      "<class 'pandas.core.frame.DataFrame'>\n",
      "RangeIndex: 101 entries, 0 to 100\n",
      "Data columns (total 2 columns):\n",
      "city               101 non-null object\n",
      "average_flights    101 non-null float64\n",
      "dtypes: float64(1), object(1)\n",
      "memory usage: 1.7+ KB\n"
     ]
    }
   ],
   "source": [
    "query_3.info()"
   ]
  },
  {
   "cell_type": "code",
   "execution_count": 5,
   "metadata": {},
   "outputs": [
    {
     "data": {
      "text/html": [
       "<div>\n",
       "<style scoped>\n",
       "    .dataframe tbody tr th:only-of-type {\n",
       "        vertical-align: middle;\n",
       "    }\n",
       "\n",
       "    .dataframe tbody tr th {\n",
       "        vertical-align: top;\n",
       "    }\n",
       "\n",
       "    .dataframe thead th {\n",
       "        text-align: right;\n",
       "    }\n",
       "</style>\n",
       "<table border=\"1\" class=\"dataframe\">\n",
       "  <thead>\n",
       "    <tr style=\"text-align: right;\">\n",
       "      <th></th>\n",
       "      <th>model</th>\n",
       "      <th>flights_amount</th>\n",
       "    </tr>\n",
       "  </thead>\n",
       "  <tbody>\n",
       "    <tr>\n",
       "      <td>0</td>\n",
       "      <td>Airbus A319-100</td>\n",
       "      <td>607</td>\n",
       "    </tr>\n",
       "    <tr>\n",
       "      <td>1</td>\n",
       "      <td>Airbus A321-200</td>\n",
       "      <td>960</td>\n",
       "    </tr>\n",
       "    <tr>\n",
       "      <td>2</td>\n",
       "      <td>Boeing 737-300</td>\n",
       "      <td>630</td>\n",
       "    </tr>\n",
       "    <tr>\n",
       "      <td>3</td>\n",
       "      <td>Boeing 767-300</td>\n",
       "      <td>600</td>\n",
       "    </tr>\n",
       "    <tr>\n",
       "      <td>4</td>\n",
       "      <td>Boeing 777-300</td>\n",
       "      <td>300</td>\n",
       "    </tr>\n",
       "  </tbody>\n",
       "</table>\n",
       "</div>"
      ],
      "text/plain": [
       "             model  flights_amount\n",
       "0  Airbus A319-100             607\n",
       "1  Airbus A321-200             960\n",
       "2   Boeing 737-300             630\n",
       "3   Boeing 767-300             600\n",
       "4   Boeing 777-300             300"
      ]
     },
     "execution_count": 5,
     "metadata": {},
     "output_type": "execute_result"
    }
   ],
   "source": [
    "query_1.head()"
   ]
  },
  {
   "cell_type": "code",
   "execution_count": 6,
   "metadata": {},
   "outputs": [
    {
     "data": {
      "text/html": [
       "<div>\n",
       "<style scoped>\n",
       "    .dataframe tbody tr th:only-of-type {\n",
       "        vertical-align: middle;\n",
       "    }\n",
       "\n",
       "    .dataframe tbody tr th {\n",
       "        vertical-align: top;\n",
       "    }\n",
       "\n",
       "    .dataframe thead th {\n",
       "        text-align: right;\n",
       "    }\n",
       "</style>\n",
       "<table border=\"1\" class=\"dataframe\">\n",
       "  <thead>\n",
       "    <tr style=\"text-align: right;\">\n",
       "      <th></th>\n",
       "      <th>city</th>\n",
       "      <th>average_flights</th>\n",
       "    </tr>\n",
       "  </thead>\n",
       "  <tbody>\n",
       "    <tr>\n",
       "      <td>0</td>\n",
       "      <td>Абакан</td>\n",
       "      <td>3.870968</td>\n",
       "    </tr>\n",
       "    <tr>\n",
       "      <td>1</td>\n",
       "      <td>Анадырь</td>\n",
       "      <td>1.000000</td>\n",
       "    </tr>\n",
       "    <tr>\n",
       "      <td>2</td>\n",
       "      <td>Анапа</td>\n",
       "      <td>2.161290</td>\n",
       "    </tr>\n",
       "    <tr>\n",
       "      <td>3</td>\n",
       "      <td>Архангельск</td>\n",
       "      <td>5.354839</td>\n",
       "    </tr>\n",
       "    <tr>\n",
       "      <td>4</td>\n",
       "      <td>Астрахань</td>\n",
       "      <td>2.451613</td>\n",
       "    </tr>\n",
       "  </tbody>\n",
       "</table>\n",
       "</div>"
      ],
      "text/plain": [
       "          city  average_flights\n",
       "0       Абакан         3.870968\n",
       "1      Анадырь         1.000000\n",
       "2        Анапа         2.161290\n",
       "3  Архангельск         5.354839\n",
       "4    Астрахань         2.451613"
      ]
     },
     "execution_count": 6,
     "metadata": {},
     "output_type": "execute_result"
    }
   ],
   "source": [
    "query_3.head()"
   ]
  },
  {
   "cell_type": "code",
   "execution_count": 7,
   "metadata": {},
   "outputs": [
    {
     "data": {
      "text/html": [
       "<div>\n",
       "<style scoped>\n",
       "    .dataframe tbody tr th:only-of-type {\n",
       "        vertical-align: middle;\n",
       "    }\n",
       "\n",
       "    .dataframe tbody tr th {\n",
       "        vertical-align: top;\n",
       "    }\n",
       "\n",
       "    .dataframe thead th {\n",
       "        text-align: right;\n",
       "    }\n",
       "</style>\n",
       "<table border=\"1\" class=\"dataframe\">\n",
       "  <thead>\n",
       "    <tr style=\"text-align: right;\">\n",
       "      <th></th>\n",
       "      <th>count</th>\n",
       "      <th>unique</th>\n",
       "      <th>top</th>\n",
       "      <th>freq</th>\n",
       "      <th>mean</th>\n",
       "      <th>std</th>\n",
       "      <th>min</th>\n",
       "      <th>25%</th>\n",
       "      <th>50%</th>\n",
       "      <th>75%</th>\n",
       "      <th>max</th>\n",
       "    </tr>\n",
       "  </thead>\n",
       "  <tbody>\n",
       "    <tr>\n",
       "      <td>model</td>\n",
       "      <td>8</td>\n",
       "      <td>8</td>\n",
       "      <td>Cessna 208 Caravan</td>\n",
       "      <td>1</td>\n",
       "      <td>NaN</td>\n",
       "      <td>NaN</td>\n",
       "      <td>NaN</td>\n",
       "      <td>NaN</td>\n",
       "      <td>NaN</td>\n",
       "      <td>NaN</td>\n",
       "      <td>NaN</td>\n",
       "    </tr>\n",
       "    <tr>\n",
       "      <td>flights_amount</td>\n",
       "      <td>8.00</td>\n",
       "      <td>NaN</td>\n",
       "      <td>NaN</td>\n",
       "      <td>NaN</td>\n",
       "      <td>2,035.62</td>\n",
       "      <td>1,965.20</td>\n",
       "      <td>300.00</td>\n",
       "      <td>605.25</td>\n",
       "      <td>795.00</td>\n",
       "      <td>4,250.25</td>\n",
       "      <td>4,557.00</td>\n",
       "    </tr>\n",
       "  </tbody>\n",
       "</table>\n",
       "</div>"
      ],
      "text/plain": [
       "               count unique                 top freq     mean      std    min  \\\n",
       "model              8      8  Cessna 208 Caravan    1      NaN      NaN    NaN   \n",
       "flights_amount  8.00    NaN                 NaN  NaN 2,035.62 1,965.20 300.00   \n",
       "\n",
       "                  25%    50%      75%      max  \n",
       "model             NaN    NaN      NaN      NaN  \n",
       "flights_amount 605.25 795.00 4,250.25 4,557.00  "
      ]
     },
     "execution_count": 7,
     "metadata": {},
     "output_type": "execute_result"
    }
   ],
   "source": [
    "pd.set_option('display.float_format', '{:,.2f}'.format)\n",
    "query_1.describe(include='all').T"
   ]
  },
  {
   "cell_type": "code",
   "execution_count": 8,
   "metadata": {},
   "outputs": [
    {
     "data": {
      "text/html": [
       "<div>\n",
       "<style scoped>\n",
       "    .dataframe tbody tr th:only-of-type {\n",
       "        vertical-align: middle;\n",
       "    }\n",
       "\n",
       "    .dataframe tbody tr th {\n",
       "        vertical-align: top;\n",
       "    }\n",
       "\n",
       "    .dataframe thead th {\n",
       "        text-align: right;\n",
       "    }\n",
       "</style>\n",
       "<table border=\"1\" class=\"dataframe\">\n",
       "  <thead>\n",
       "    <tr style=\"text-align: right;\">\n",
       "      <th></th>\n",
       "      <th>count</th>\n",
       "      <th>unique</th>\n",
       "      <th>top</th>\n",
       "      <th>freq</th>\n",
       "      <th>mean</th>\n",
       "      <th>std</th>\n",
       "      <th>min</th>\n",
       "      <th>25%</th>\n",
       "      <th>50%</th>\n",
       "      <th>75%</th>\n",
       "      <th>max</th>\n",
       "    </tr>\n",
       "  </thead>\n",
       "  <tbody>\n",
       "    <tr>\n",
       "      <td>city</td>\n",
       "      <td>101</td>\n",
       "      <td>101</td>\n",
       "      <td>Красноярск</td>\n",
       "      <td>1</td>\n",
       "      <td>NaN</td>\n",
       "      <td>NaN</td>\n",
       "      <td>NaN</td>\n",
       "      <td>NaN</td>\n",
       "      <td>NaN</td>\n",
       "      <td>NaN</td>\n",
       "      <td>NaN</td>\n",
       "    </tr>\n",
       "    <tr>\n",
       "      <td>average_flights</td>\n",
       "      <td>101.00</td>\n",
       "      <td>NaN</td>\n",
       "      <td>NaN</td>\n",
       "      <td>NaN</td>\n",
       "      <td>5.49</td>\n",
       "      <td>13.12</td>\n",
       "      <td>1.00</td>\n",
       "      <td>2.00</td>\n",
       "      <td>3.00</td>\n",
       "      <td>5.87</td>\n",
       "      <td>129.77</td>\n",
       "    </tr>\n",
       "  </tbody>\n",
       "</table>\n",
       "</div>"
      ],
      "text/plain": [
       "                 count unique         top freq mean   std  min  25%  50%  75%  \\\n",
       "city               101    101  Красноярск    1  NaN   NaN  NaN  NaN  NaN  NaN   \n",
       "average_flights 101.00    NaN         NaN  NaN 5.49 13.12 1.00 2.00 3.00 5.87   \n",
       "\n",
       "                   max  \n",
       "city               NaN  \n",
       "average_flights 129.77  "
      ]
     },
     "execution_count": 8,
     "metadata": {},
     "output_type": "execute_result"
    }
   ],
   "source": [
    "pd.set_option('display.float_format', '{:,.2f}'.format)\n",
    "query_3.describe(include='all').T"
   ]
  },
  {
   "cell_type": "markdown",
   "metadata": {},
   "source": [
    "### Предобработка данных.\n",
    "<a id='cell2'></a>"
   ]
  },
  {
   "cell_type": "markdown",
   "metadata": {},
   "source": [
    "1.Предобработка датафреймам query_1 и query_3 не требуется, типы данных не требуют изменений, а пустые значения и дубликаты отсутсвуют."
   ]
  },
  {
   "cell_type": "code",
   "execution_count": 9,
   "metadata": {},
   "outputs": [
    {
     "data": {
      "text/plain": [
       "0    False\n",
       "1    False\n",
       "2    False\n",
       "3    False\n",
       "4    False\n",
       "5    False\n",
       "6    False\n",
       "7    False\n",
       "dtype: bool"
      ]
     },
     "execution_count": 9,
     "metadata": {},
     "output_type": "execute_result"
    }
   ],
   "source": [
    "query_1.duplicated()"
   ]
  },
  {
   "cell_type": "code",
   "execution_count": 10,
   "metadata": {},
   "outputs": [
    {
     "data": {
      "text/plain": [
       "0      False\n",
       "1      False\n",
       "2      False\n",
       "3      False\n",
       "4      False\n",
       "       ...  \n",
       "96     False\n",
       "97     False\n",
       "98     False\n",
       "99     False\n",
       "100    False\n",
       "Length: 101, dtype: bool"
      ]
     },
     "execution_count": 10,
     "metadata": {},
     "output_type": "execute_result"
    }
   ],
   "source": [
    "query_3.duplicated()"
   ]
  },
  {
   "cell_type": "code",
   "execution_count": 11,
   "metadata": {},
   "outputs": [
    {
     "data": {
      "text/plain": [
       "model             0\n",
       "flights_amount    0\n",
       "dtype: int64"
      ]
     },
     "execution_count": 11,
     "metadata": {},
     "output_type": "execute_result"
    }
   ],
   "source": [
    "query_1.isnull().sum()"
   ]
  },
  {
   "cell_type": "code",
   "execution_count": 12,
   "metadata": {},
   "outputs": [
    {
     "data": {
      "text/plain": [
       "city               0\n",
       "average_flights    0\n",
       "dtype: int64"
      ]
     },
     "execution_count": 12,
     "metadata": {},
     "output_type": "execute_result"
    }
   ],
   "source": [
    "query_3.isnull().sum()"
   ]
  },
  {
   "cell_type": "code",
   "execution_count": 13,
   "metadata": {
    "scrolled": true
   },
   "outputs": [
    {
     "data": {
      "text/html": [
       "<div>\n",
       "<style scoped>\n",
       "    .dataframe tbody tr th:only-of-type {\n",
       "        vertical-align: middle;\n",
       "    }\n",
       "\n",
       "    .dataframe tbody tr th {\n",
       "        vertical-align: top;\n",
       "    }\n",
       "\n",
       "    .dataframe thead th {\n",
       "        text-align: right;\n",
       "    }\n",
       "</style>\n",
       "<table border=\"1\" class=\"dataframe\">\n",
       "  <thead>\n",
       "    <tr style=\"text-align: right;\">\n",
       "      <th></th>\n",
       "      <th>city</th>\n",
       "      <th>average_flights</th>\n",
       "    </tr>\n",
       "  </thead>\n",
       "  <tbody>\n",
       "    <tr>\n",
       "      <td>0</td>\n",
       "      <td>Абакан</td>\n",
       "      <td>3.87</td>\n",
       "    </tr>\n",
       "    <tr>\n",
       "      <td>1</td>\n",
       "      <td>Анадырь</td>\n",
       "      <td>1.00</td>\n",
       "    </tr>\n",
       "    <tr>\n",
       "      <td>2</td>\n",
       "      <td>Анапа</td>\n",
       "      <td>2.16</td>\n",
       "    </tr>\n",
       "    <tr>\n",
       "      <td>3</td>\n",
       "      <td>Архангельск</td>\n",
       "      <td>5.35</td>\n",
       "    </tr>\n",
       "    <tr>\n",
       "      <td>4</td>\n",
       "      <td>Астрахань</td>\n",
       "      <td>2.45</td>\n",
       "    </tr>\n",
       "  </tbody>\n",
       "</table>\n",
       "</div>"
      ],
      "text/plain": [
       "          city  average_flights\n",
       "0       Абакан             3.87\n",
       "1      Анадырь             1.00\n",
       "2        Анапа             2.16\n",
       "3  Архангельск             5.35\n",
       "4    Астрахань             2.45"
      ]
     },
     "execution_count": 13,
     "metadata": {},
     "output_type": "execute_result"
    }
   ],
   "source": [
    "query_3.head()"
   ]
  },
  {
   "cell_type": "markdown",
   "metadata": {},
   "source": [
    "### Исследовательский анализ данных.\n",
    "<a id='cell3'></a>"
   ]
  },
  {
   "cell_type": "markdown",
   "metadata": {},
   "source": [
    "1. Выбор топ-10 городов по количеству рейсов."
   ]
  },
  {
   "cell_type": "code",
   "execution_count": 14,
   "metadata": {},
   "outputs": [
    {
     "data": {
      "text/html": [
       "<div>\n",
       "<style scoped>\n",
       "    .dataframe tbody tr th:only-of-type {\n",
       "        vertical-align: middle;\n",
       "    }\n",
       "\n",
       "    .dataframe tbody tr th {\n",
       "        vertical-align: top;\n",
       "    }\n",
       "\n",
       "    .dataframe thead th {\n",
       "        text-align: right;\n",
       "    }\n",
       "</style>\n",
       "<table border=\"1\" class=\"dataframe\">\n",
       "  <thead>\n",
       "    <tr style=\"text-align: right;\">\n",
       "      <th></th>\n",
       "      <th>city</th>\n",
       "      <th>average_flights</th>\n",
       "    </tr>\n",
       "  </thead>\n",
       "  <tbody>\n",
       "    <tr>\n",
       "      <td>43</td>\n",
       "      <td>Москва</td>\n",
       "      <td>129.77</td>\n",
       "    </tr>\n",
       "    <tr>\n",
       "      <td>70</td>\n",
       "      <td>Санкт-Петербург</td>\n",
       "      <td>31.16</td>\n",
       "    </tr>\n",
       "    <tr>\n",
       "      <td>54</td>\n",
       "      <td>Новосибирск</td>\n",
       "      <td>17.32</td>\n",
       "    </tr>\n",
       "    <tr>\n",
       "      <td>33</td>\n",
       "      <td>Красноярск</td>\n",
       "      <td>11.58</td>\n",
       "    </tr>\n",
       "    <tr>\n",
       "      <td>20</td>\n",
       "      <td>Екатеринбург</td>\n",
       "      <td>11.32</td>\n",
       "    </tr>\n",
       "    <tr>\n",
       "      <td>67</td>\n",
       "      <td>Ростов-на-Дону</td>\n",
       "      <td>10.19</td>\n",
       "    </tr>\n",
       "    <tr>\n",
       "      <td>63</td>\n",
       "      <td>Пермь</td>\n",
       "      <td>10.13</td>\n",
       "    </tr>\n",
       "    <tr>\n",
       "      <td>10</td>\n",
       "      <td>Брянск</td>\n",
       "      <td>10.00</td>\n",
       "    </tr>\n",
       "    <tr>\n",
       "      <td>74</td>\n",
       "      <td>Сочи</td>\n",
       "      <td>9.61</td>\n",
       "    </tr>\n",
       "    <tr>\n",
       "      <td>84</td>\n",
       "      <td>Ульяновск</td>\n",
       "      <td>9.58</td>\n",
       "    </tr>\n",
       "  </tbody>\n",
       "</table>\n",
       "</div>"
      ],
      "text/plain": [
       "               city  average_flights\n",
       "43           Москва           129.77\n",
       "70  Санкт-Петербург            31.16\n",
       "54      Новосибирск            17.32\n",
       "33       Красноярск            11.58\n",
       "20     Екатеринбург            11.32\n",
       "67   Ростов-на-Дону            10.19\n",
       "63            Пермь            10.13\n",
       "10           Брянск            10.00\n",
       "74             Сочи             9.61\n",
       "84        Ульяновск             9.58"
      ]
     },
     "metadata": {},
     "output_type": "display_data"
    }
   ],
   "source": [
    "top_10_towns = query_3.sort_values(by=['average_flights'], ascending=False)\n",
    "display(top_10_towns.head(10))"
   ]
  },
  {
   "cell_type": "markdown",
   "metadata": {},
   "source": [
    "2. Построение графиков (модели самолетов и количество рейсов, города и количество рейсов, топ-10 городов и количество рейсов)."
   ]
  },
  {
   "cell_type": "code",
   "execution_count": 15,
   "metadata": {},
   "outputs": [],
   "source": [
    "query_1 = query_1.sort_values(by='flights_amount', ascending=False)"
   ]
  },
  {
   "cell_type": "code",
   "execution_count": 17,
   "metadata": {},
   "outputs": [
    {
     "data": {
      "image/png": "[encoded data removed]",
      "text/plain": [
       "<Figure size 1080x504 with 1 Axes>"
      ]
     },
     "metadata": {
      "needs_background": "light"
     },
     "output_type": "display_data"
    }
   ],
   "source": [
    "ax = query_1[['model', 'flights_amount']].plot(kind='bar',\n",
    "              figsize=(15,7), color=['dodgerblue', 'slategray'], fontsize=13);\n",
    "ax.set_alpha(0.8)\n",
    "ax.set_title(\"Model_LA_Flights\",\n",
    "fontsize=18)\n",
    "ax.set_ylabel(\"Flights_Amount\", fontsize=18);\n",
    "ax.set_yticks([0, 1000, 2000, 3000, 4000, 5000])\n",
    "ax.set_xticklabels(['Cessna 208 Caravan', 'Bombardier CRJ-200', \n",
    "                    'Sukhoi SuperJet-100', 'Airbus A321-200', \n",
    "                    'Boeing 737-300', 'Airbus A319-100', 'Boeing 767-300', 'Boeing 777-300'], rotation=0, fontsize=9)\n",
    "\n",
    "# set individual bar lables using above list\n",
    "for i in ax.patches:\n",
    "    # get_x pulls left or right; get_height pushes up or down\n",
    "    ax.text(i.get_x()+.04, i.get_height()+10, \\\n",
    "            str(round((i.get_height()), 2)), fontsize=11, color='dimgrey',\n",
    "                rotation=45)"
   ]
  },
  {
   "cell_type": "code",
   "execution_count": 18,
   "metadata": {},
   "outputs": [],
   "source": [
    "top_10_towns = top_10_towns.query('city in(\"Москва\", \"Санкт-Петербург\", \"Новосибирск\", \"Красноярск\", \"Екатеринбург\", \"Ростов-на-Дону\", \"Сочи\", \"Ульяновск\", \"Пермь\", \"Брянск\")')"
   ]
  },
  {
   "cell_type": "code",
   "execution_count": 20,
   "metadata": {},
   "outputs": [
    {
     "data": {
      "image/png": "[encoded data removed]",
      "text/plain": [
       "<Figure size 1080x504 with 1 Axes>"
      ]
     },
     "metadata": {
      "needs_background": "light"
     },
     "output_type": "display_data"
    }
   ],
   "source": [
    "ax1 = top_10_towns[['city', 'average_flights']].plot(kind='bar',\n",
    "              figsize=(15,7), color=['dodgerblue', 'slategray'], fontsize=13);\n",
    "ax1.set_alpha(0.8)\n",
    "ax1.set_title(\"CIty_Flights\",\n",
    "fontsize=18)\n",
    "ax1.set_ylabel(\"Average_Flights\", fontsize=18);\n",
    "ax1.set_yticks([0, 10, 20, 30, 40, 50, 60, 70, 80, 90, 100, 110, 120, 130, 140, 150, 160])\n",
    "ax1.set_xticklabels(['Москва', 'Санкт-Петербург', \n",
    "                    'Новосибирск', 'Красноярск', \n",
    "                    'Екатеринбург', 'Ростов-на-Дону', 'Пермь', 'Брянск', 'Сочи', 'Ульяновск'], rotation=0, fontsize=10)\n",
    "\n",
    "# set individual bar lables using above list\n",
    "for i in ax1.patches:\n",
    "    # get_x pulls left or right; get_height pushes up or down\n",
    "    ax1.text(i.get_x()+.04, i.get_height()+5, \\\n",
    "            str(round((i.get_height()), 2)), fontsize=11, color='dimgrey',\n",
    "                rotation=45)"
   ]
  },
  {
   "cell_type": "markdown",
   "metadata": {},
   "source": [
    "### Общий вывод.\n",
    "<a id='cell4'></a>"
   ]
  },
  {
   "cell_type": "markdown",
   "metadata": {},
   "source": [
    "ТОП 3 города с самым большим средним количеством рейсов, прибывающих в город за день в августе 2018 года - это Москва, Санкт-Петербург и Новосибирск. Результаты очевидны т.к это топ три самых населенных города России. Москва столица России, Санкт-Петербург можно условно считать второй столицей, а Новосибирск столица Западной Сибири,явно приоритетные направления для перелетов.\n",
    "\n",
    "ТОП 3 самолетов с самым большим количеством рейсов в сентябре 2018 года - это Cessna 208 Caravan, Sukhoi SuperJet-100, Bombardier CRJ-200. \n",
    "* Большую часть парка компании Аэрофлот составляет Sukhoi SuperJet-100(вместимость до 108 пассажиров), а Аэфрофлот является крупнейшей авиакомпанией России, осюда и частота полетов.\n",
    "* Bombardier CRJ-200(вместимость 40-50 пассажиров), этот лайнер может выполнять рейсы в сложных метеоусловиях, что немаловажно в суровых зимних условиях России, видимо этот факт очень повышает его эксплуатацию.\n",
    "*  Cessna 208 Caravan. Cамолеты вместимостью до 10 пасс. очень востребованы для обслуживания местных линий в России, поскольку стоимость перевозок на Ан-2, традиционно эксплуатировавшихся на этих маршрутах, возросла из-за высокой стоимости авиационного бензина. Турбовинтовой самолет Cessna заправляется обычным авиационным керосином."
   ]
  }
 ],
 "metadata": {
  "ExecuteTimeLog": [
   {
    "duration": 1474,
    "start_time": "2021-07-04T11:17:15.014Z"
   },
   {
    "duration": 2502,
    "start_time": "2021-07-04T11:23:07.022Z"
   },
   {
    "duration": 25,
    "start_time": "2021-07-04T11:23:27.747Z"
   },
   {
    "duration": 10,
    "start_time": "2021-07-04T11:25:21.830Z"
   },
   {
    "duration": 9,
    "start_time": "2021-07-04T11:25:37.460Z"
   },
   {
    "duration": 14,
    "start_time": "2021-07-04T11:26:30.955Z"
   },
   {
    "duration": 9,
    "start_time": "2021-07-04T11:26:35.165Z"
   },
   {
    "duration": 28,
    "start_time": "2021-07-04T11:28:49.638Z"
   },
   {
    "duration": 28,
    "start_time": "2021-07-04T11:28:53.871Z"
   },
   {
    "duration": 10,
    "start_time": "2021-07-04T11:40:45.702Z"
   },
   {
    "duration": 10,
    "start_time": "2021-07-04T11:41:01.722Z"
   },
   {
    "duration": 3,
    "start_time": "2021-07-04T11:41:05.538Z"
   },
   {
    "duration": 26,
    "start_time": "2021-07-04T11:41:05.547Z"
   },
   {
    "duration": 12,
    "start_time": "2021-07-04T11:41:05.576Z"
   },
   {
    "duration": 13,
    "start_time": "2021-07-04T11:41:05.591Z"
   },
   {
    "duration": 23,
    "start_time": "2021-07-04T11:41:05.606Z"
   },
   {
    "duration": 11,
    "start_time": "2021-07-04T11:41:05.631Z"
   },
   {
    "duration": 41,
    "start_time": "2021-07-04T11:41:05.644Z"
   },
   {
    "duration": 29,
    "start_time": "2021-07-04T11:41:05.687Z"
   },
   {
    "duration": 13,
    "start_time": "2021-07-04T11:41:05.719Z"
   },
   {
    "duration": 11,
    "start_time": "2021-07-04T11:41:24.654Z"
   },
   {
    "duration": 4,
    "start_time": "2021-07-04T11:41:38.538Z"
   },
   {
    "duration": 25,
    "start_time": "2021-07-04T11:41:38.581Z"
   },
   {
    "duration": 15,
    "start_time": "2021-07-04T11:41:38.608Z"
   },
   {
    "duration": 10,
    "start_time": "2021-07-04T11:41:38.626Z"
   },
   {
    "duration": 10,
    "start_time": "2021-07-04T11:41:38.684Z"
   },
   {
    "duration": 13,
    "start_time": "2021-07-04T11:41:38.697Z"
   },
   {
    "duration": 27,
    "start_time": "2021-07-04T11:41:38.713Z"
   },
   {
    "duration": 28,
    "start_time": "2021-07-04T11:41:38.743Z"
   },
   {
    "duration": 42,
    "start_time": "2021-07-04T11:41:38.774Z"
   },
   {
    "duration": 11,
    "start_time": "2021-07-04T11:41:47.644Z"
   },
   {
    "duration": 400,
    "start_time": "2021-07-04T11:47:57.649Z"
   },
   {
    "duration": 372,
    "start_time": "2021-07-04T11:48:38.830Z"
   },
   {
    "duration": 323,
    "start_time": "2021-07-04T11:48:59.260Z"
   },
   {
    "duration": 14,
    "start_time": "2021-07-04T11:49:28.712Z"
   },
   {
    "duration": 118,
    "start_time": "2021-07-04T11:53:35.457Z"
   },
   {
    "duration": 356,
    "start_time": "2021-07-04T11:53:43.059Z"
   },
   {
    "duration": 10,
    "start_time": "2021-07-04T11:54:23.870Z"
   },
   {
    "duration": 10,
    "start_time": "2021-07-04T11:56:59.359Z"
   },
   {
    "duration": 9,
    "start_time": "2021-07-04T11:57:07.261Z"
   },
   {
    "duration": 6,
    "start_time": "2021-07-04T12:02:40.474Z"
   },
   {
    "duration": 123,
    "start_time": "2021-07-04T12:06:05.912Z"
   },
   {
    "duration": 121,
    "start_time": "2021-07-04T12:06:14.010Z"
   },
   {
    "duration": 118,
    "start_time": "2021-07-04T12:06:29.522Z"
   },
   {
    "duration": 444,
    "start_time": "2021-07-04T12:06:39.078Z"
   },
   {
    "duration": 728,
    "start_time": "2021-07-04T12:07:19.351Z"
   },
   {
    "duration": 595,
    "start_time": "2021-07-04T12:07:34.751Z"
   },
   {
    "duration": 2562,
    "start_time": "2021-07-04T12:10:10.047Z"
   },
   {
    "duration": 14,
    "start_time": "2021-07-04T12:18:30.321Z"
   },
   {
    "duration": 639,
    "start_time": "2021-07-04T12:18:35.087Z"
   },
   {
    "duration": 389,
    "start_time": "2021-07-04T12:25:24.804Z"
   },
   {
    "duration": 7,
    "start_time": "2021-07-04T12:33:12.349Z"
   },
   {
    "duration": 118,
    "start_time": "2021-07-04T12:34:26.506Z"
   },
   {
    "duration": 1390,
    "start_time": "2021-07-04T23:32:15.452Z"
   },
   {
    "duration": 32,
    "start_time": "2021-07-04T23:32:16.844Z"
   },
   {
    "duration": 21,
    "start_time": "2021-07-04T23:32:16.879Z"
   },
   {
    "duration": 12,
    "start_time": "2021-07-04T23:32:16.903Z"
   },
   {
    "duration": 16,
    "start_time": "2021-07-04T23:32:16.917Z"
   },
   {
    "duration": 9,
    "start_time": "2021-07-04T23:32:16.935Z"
   },
   {
    "duration": 27,
    "start_time": "2021-07-04T23:32:16.967Z"
   },
   {
    "duration": 27,
    "start_time": "2021-07-04T23:32:16.998Z"
   },
   {
    "duration": 44,
    "start_time": "2021-07-04T23:32:17.028Z"
   },
   {
    "duration": 14,
    "start_time": "2021-07-04T23:32:17.075Z"
   },
   {
    "duration": 588,
    "start_time": "2021-07-04T23:32:17.092Z"
   },
   {
    "duration": 12,
    "start_time": "2021-07-04T23:32:17.683Z"
   },
   {
    "duration": 602,
    "start_time": "2021-07-04T23:32:17.697Z"
   },
   {
    "duration": 1350,
    "start_time": "2021-07-05T14:16:28.105Z"
   },
   {
    "duration": 35,
    "start_time": "2021-07-05T14:16:29.457Z"
   },
   {
    "duration": 13,
    "start_time": "2021-07-05T14:16:29.494Z"
   },
   {
    "duration": 10,
    "start_time": "2021-07-05T14:16:29.510Z"
   },
   {
    "duration": 18,
    "start_time": "2021-07-05T14:16:29.522Z"
   },
   {
    "duration": 11,
    "start_time": "2021-07-05T14:16:29.544Z"
   },
   {
    "duration": 30,
    "start_time": "2021-07-05T14:16:29.587Z"
   },
   {
    "duration": 27,
    "start_time": "2021-07-05T14:16:29.621Z"
   },
   {
    "duration": 42,
    "start_time": "2021-07-05T14:16:29.650Z"
   },
   {
    "duration": 10,
    "start_time": "2021-07-05T14:16:29.694Z"
   },
   {
    "duration": 603,
    "start_time": "2021-07-05T14:16:29.706Z"
   },
   {
    "duration": 14,
    "start_time": "2021-07-05T14:16:30.311Z"
   },
   {
    "duration": 610,
    "start_time": "2021-07-05T14:16:30.327Z"
   },
   {
    "duration": 8,
    "start_time": "2021-07-05T14:19:28.347Z"
   },
   {
    "duration": 8,
    "start_time": "2021-07-05T14:19:36.977Z"
   },
   {
    "duration": 7,
    "start_time": "2021-07-05T14:19:44.100Z"
   },
   {
    "duration": 7,
    "start_time": "2021-07-05T14:19:59.272Z"
   },
   {
    "duration": 12,
    "start_time": "2021-07-05T14:22:58.866Z"
   },
   {
    "duration": 8,
    "start_time": "2021-07-05T14:24:16.073Z"
   },
   {
    "duration": 11,
    "start_time": "2021-07-05T14:25:05.642Z"
   },
   {
    "duration": 541,
    "start_time": "2021-07-05T14:32:50.446Z"
   },
   {
    "duration": 500,
    "start_time": "2021-07-05T14:38:16.575Z"
   },
   {
    "duration": 348,
    "start_time": "2021-07-05T14:42:23.270Z"
   },
   {
    "duration": 341,
    "start_time": "2021-07-05T14:43:25.471Z"
   },
   {
    "duration": 357,
    "start_time": "2021-07-05T14:43:46.843Z"
   },
   {
    "duration": 596,
    "start_time": "2021-07-05T14:44:29.719Z"
   },
   {
    "duration": 556,
    "start_time": "2021-07-05T14:45:14.705Z"
   },
   {
    "duration": 582,
    "start_time": "2021-07-05T14:47:11.110Z"
   },
   {
    "duration": 549,
    "start_time": "2021-07-05T14:47:47.489Z"
   },
   {
    "duration": 551,
    "start_time": "2021-07-05T14:48:04.769Z"
   },
   {
    "duration": 181,
    "start_time": "2021-07-05T14:49:06.760Z"
   },
   {
    "duration": 530,
    "start_time": "2021-07-05T14:49:17.412Z"
   },
   {
    "duration": 541,
    "start_time": "2021-07-05T14:49:42.347Z"
   },
   {
    "duration": 1056,
    "start_time": "2021-07-05T14:49:59.481Z"
   },
   {
    "duration": 389,
    "start_time": "2021-07-05T14:50:11.449Z"
   },
   {
    "duration": 1514,
    "start_time": "2021-07-05T14:50:30.696Z"
   },
   {
    "duration": 575,
    "start_time": "2021-07-05T14:50:35.772Z"
   },
   {
    "duration": 701,
    "start_time": "2021-07-05T14:50:45.557Z"
   },
   {
    "duration": 540,
    "start_time": "2021-07-05T14:50:53.350Z"
   },
   {
    "duration": 869,
    "start_time": "2021-07-05T14:51:40.016Z"
   },
   {
    "duration": 449,
    "start_time": "2021-07-05T14:52:15.437Z"
   },
   {
    "duration": 387,
    "start_time": "2021-07-05T14:52:32.743Z"
   },
   {
    "duration": 392,
    "start_time": "2021-07-05T14:53:10.851Z"
   },
   {
    "duration": 377,
    "start_time": "2021-07-05T14:54:54.313Z"
   },
   {
    "duration": 570,
    "start_time": "2021-07-05T14:56:54.169Z"
   },
   {
    "duration": 7,
    "start_time": "2021-07-05T14:57:33.730Z"
   },
   {
    "duration": 528,
    "start_time": "2021-07-05T14:59:10.516Z"
   },
   {
    "duration": 586,
    "start_time": "2021-07-05T14:59:55.928Z"
   },
   {
    "duration": 431,
    "start_time": "2021-07-05T15:00:23.065Z"
   },
   {
    "duration": 444,
    "start_time": "2021-07-05T15:00:29.581Z"
   },
   {
    "duration": 433,
    "start_time": "2021-07-05T15:00:32.603Z"
   },
   {
    "duration": 498,
    "start_time": "2021-07-05T15:00:36.433Z"
   },
   {
    "duration": 594,
    "start_time": "2021-07-05T15:00:55.120Z"
   },
   {
    "duration": 576,
    "start_time": "2021-07-05T15:01:08.224Z"
   },
   {
    "duration": 421,
    "start_time": "2021-07-05T15:01:15.702Z"
   },
   {
    "duration": 570,
    "start_time": "2021-07-05T15:01:23.594Z"
   },
   {
    "duration": 5,
    "start_time": "2021-07-05T15:03:07.859Z"
   },
   {
    "duration": 3,
    "start_time": "2021-07-05T15:03:55.547Z"
   },
   {
    "duration": 454,
    "start_time": "2021-07-05T15:10:22.672Z"
   },
   {
    "duration": 1579,
    "start_time": "2021-07-05T15:10:42.429Z"
   },
   {
    "duration": 7,
    "start_time": "2021-07-05T15:10:59.794Z"
   },
   {
    "duration": 480,
    "start_time": "2021-07-05T15:11:06.263Z"
   },
   {
    "duration": 571,
    "start_time": "2021-07-05T15:11:33.582Z"
   },
   {
    "duration": 605,
    "start_time": "2021-07-05T15:11:50.027Z"
   },
   {
    "duration": 496,
    "start_time": "2021-07-05T15:12:34.039Z"
   },
   {
    "duration": 631,
    "start_time": "2021-07-05T15:12:49.166Z"
   },
   {
    "duration": 541,
    "start_time": "2021-07-05T15:13:13.117Z"
   },
   {
    "duration": 498,
    "start_time": "2021-07-05T15:13:22.329Z"
   },
   {
    "duration": 498,
    "start_time": "2021-07-05T15:13:26.117Z"
   },
   {
    "duration": 4,
    "start_time": "2021-07-05T15:13:43.428Z"
   },
   {
    "duration": 625,
    "start_time": "2021-07-05T15:16:54.763Z"
   },
   {
    "duration": 1369,
    "start_time": "2021-07-05T15:50:43.292Z"
   },
   {
    "duration": 36,
    "start_time": "2021-07-05T15:50:44.664Z"
   },
   {
    "duration": 11,
    "start_time": "2021-07-05T15:50:44.704Z"
   },
   {
    "duration": 14,
    "start_time": "2021-07-05T15:50:44.719Z"
   },
   {
    "duration": 23,
    "start_time": "2021-07-05T15:50:44.736Z"
   },
   {
    "duration": 31,
    "start_time": "2021-07-05T15:50:44.761Z"
   },
   {
    "duration": 29,
    "start_time": "2021-07-05T15:50:44.795Z"
   },
   {
    "duration": 58,
    "start_time": "2021-07-05T15:50:44.827Z"
   },
   {
    "duration": 8,
    "start_time": "2021-07-05T15:50:44.888Z"
   },
   {
    "duration": 14,
    "start_time": "2021-07-05T15:50:44.899Z"
   },
   {
    "duration": 12,
    "start_time": "2021-07-05T15:50:44.915Z"
   },
   {
    "duration": 15,
    "start_time": "2021-07-05T15:50:44.929Z"
   },
   {
    "duration": 45,
    "start_time": "2021-07-05T15:50:44.947Z"
   },
   {
    "duration": 12,
    "start_time": "2021-07-05T15:50:44.994Z"
   },
   {
    "duration": 17,
    "start_time": "2021-07-05T15:50:45.009Z"
   },
   {
    "duration": 11,
    "start_time": "2021-07-05T15:50:45.028Z"
   },
   {
    "duration": 469,
    "start_time": "2021-07-05T15:50:45.041Z"
   },
   {
    "duration": 17,
    "start_time": "2021-07-05T15:50:45.513Z"
   },
   {
    "duration": 3,
    "start_time": "2021-07-05T15:50:45.533Z"
   },
   {
    "duration": 551,
    "start_time": "2021-07-05T15:50:45.538Z"
   }
  ],
  "kernelspec": {
   "display_name": "Python 3",
   "language": "python",
   "name": "python3"
  },
  "language_info": {
   "codemirror_mode": {
    "name": "ipython",
    "version": 3
   },
   "file_extension": ".py",
   "mimetype": "text/x-python",
   "name": "python",
   "nbconvert_exporter": "python",
   "pygments_lexer": "ipython3",
   "version": "3.8.5"
  },
  "toc": {
   "base_numbering": 1,
   "nav_menu": {},
   "number_sections": true,
   "sideBar": true,
   "skip_h1_title": true,
   "title_cell": "Table of Contents",
   "title_sidebar": "Contents",
   "toc_cell": false,
   "toc_position": {},
   "toc_section_display": true,
   "toc_window_display": false
  }
 },
 "nbformat": 4,
 "nbformat_minor": 2
}
