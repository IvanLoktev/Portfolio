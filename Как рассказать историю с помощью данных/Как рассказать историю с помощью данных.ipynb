{
 "cells": [
  {
   "cell_type": "markdown",
   "metadata": {},
   "source": [
    "# Рынок заведений общественного питания Москвы"
   ]
  },
  {
   "cell_type": "markdown",
   "metadata": {},
   "source": [
    "### План проекта\n",
    " \n",
    "1.[Загрузить данные и подготовить их к анализу](#cell1)\n",
    "\n",
    "2.[Анализ данных](#cell2)\n",
    "\n",
    "3.[Презентация](#cell3)\n"
   ]
  },
  {
   "cell_type": "markdown",
   "metadata": {},
   "source": [
    "### Загрузить данные и подготовить их к анализу\n",
    "<a id='cell1'></a>"
   ]
  },
  {
   "cell_type": "markdown",
   "metadata": {},
   "source": [
    "4.1 Импортировал необходимые библиотеки."
   ]
  },
  {
   "cell_type": "code",
   "execution_count": 1,
   "metadata": {},
   "outputs": [],
   "source": [
    "import pandas as pd\n",
    "import matplotlib.pyplot as plt\n",
    "import numpy as np\n",
    "from scipy import stats as st\n",
    "import seaborn as sns\n",
    "import statistics\n",
    "import requests\n",
    "import re\n",
    "import warnings \n",
    "warnings.filterwarnings('ignore')"
   ]
  },
  {
   "cell_type": "markdown",
   "metadata": {},
   "source": [
    "4.2 Сохранил данные в переменной rest_df."
   ]
  },
  {
   "cell_type": "code",
   "execution_count": 2,
   "metadata": {},
   "outputs": [
    {
     "data": {
      "text/html": [
       "<div>\n",
       "<style scoped>\n",
       "    .dataframe tbody tr th:only-of-type {\n",
       "        vertical-align: middle;\n",
       "    }\n",
       "\n",
       "    .dataframe tbody tr th {\n",
       "        vertical-align: top;\n",
       "    }\n",
       "\n",
       "    .dataframe thead th {\n",
       "        text-align: right;\n",
       "    }\n",
       "</style>\n",
       "<table border=\"1\" class=\"dataframe\">\n",
       "  <thead>\n",
       "    <tr style=\"text-align: right;\">\n",
       "      <th></th>\n",
       "      <th>id</th>\n",
       "      <th>object_name</th>\n",
       "      <th>chain</th>\n",
       "      <th>object_type</th>\n",
       "      <th>address</th>\n",
       "      <th>number</th>\n",
       "    </tr>\n",
       "  </thead>\n",
       "  <tbody>\n",
       "    <tr>\n",
       "      <td>0</td>\n",
       "      <td>151635</td>\n",
       "      <td>СМЕТАНА</td>\n",
       "      <td>нет</td>\n",
       "      <td>кафе</td>\n",
       "      <td>город Москва, улица Егора Абакумова, дом 9</td>\n",
       "      <td>48</td>\n",
       "    </tr>\n",
       "    <tr>\n",
       "      <td>1</td>\n",
       "      <td>77874</td>\n",
       "      <td>Родник</td>\n",
       "      <td>нет</td>\n",
       "      <td>кафе</td>\n",
       "      <td>город Москва, улица Талалихина, дом 2/1, корпус 1</td>\n",
       "      <td>35</td>\n",
       "    </tr>\n",
       "    <tr>\n",
       "      <td>2</td>\n",
       "      <td>24309</td>\n",
       "      <td>Кафе «Академия»</td>\n",
       "      <td>нет</td>\n",
       "      <td>кафе</td>\n",
       "      <td>город Москва, Абельмановская улица, дом 6</td>\n",
       "      <td>95</td>\n",
       "    </tr>\n",
       "    <tr>\n",
       "      <td>3</td>\n",
       "      <td>21894</td>\n",
       "      <td>ПИЦЦЕТОРИЯ</td>\n",
       "      <td>да</td>\n",
       "      <td>кафе</td>\n",
       "      <td>город Москва, Абрамцевская улица, дом 1</td>\n",
       "      <td>40</td>\n",
       "    </tr>\n",
       "    <tr>\n",
       "      <td>4</td>\n",
       "      <td>119365</td>\n",
       "      <td>Кафе «Вишневая метель»</td>\n",
       "      <td>нет</td>\n",
       "      <td>кафе</td>\n",
       "      <td>город Москва, Абрамцевская улица, дом 9, корпус 1</td>\n",
       "      <td>50</td>\n",
       "    </tr>\n",
       "  </tbody>\n",
       "</table>\n",
       "</div>"
      ],
      "text/plain": [
       "       id             object_name chain object_type  \\\n",
       "0  151635                 СМЕТАНА   нет        кафе   \n",
       "1   77874                  Родник   нет        кафе   \n",
       "2   24309         Кафе «Академия»   нет        кафе   \n",
       "3   21894              ПИЦЦЕТОРИЯ    да        кафе   \n",
       "4  119365  Кафе «Вишневая метель»   нет        кафе   \n",
       "\n",
       "                                             address  number  \n",
       "0         город Москва, улица Егора Абакумова, дом 9      48  \n",
       "1  город Москва, улица Талалихина, дом 2/1, корпус 1      35  \n",
       "2          город Москва, Абельмановская улица, дом 6      95  \n",
       "3            город Москва, Абрамцевская улица, дом 1      40  \n",
       "4  город Москва, Абрамцевская улица, дом 9, корпус 1      50  "
      ]
     },
     "metadata": {},
     "output_type": "display_data"
    }
   ],
   "source": [
    "rest_df = pd.read_csv('/datasets/rest_data.csv')\n",
    "display(rest_df.head())"
   ]
  },
  {
   "cell_type": "markdown",
   "metadata": {},
   "source": [
    "4.3 Преобразовал значения столбца object_name в нижний регистр."
   ]
  },
  {
   "cell_type": "code",
   "execution_count": 3,
   "metadata": {},
   "outputs": [
    {
     "data": {
      "text/html": [
       "<div>\n",
       "<style scoped>\n",
       "    .dataframe tbody tr th:only-of-type {\n",
       "        vertical-align: middle;\n",
       "    }\n",
       "\n",
       "    .dataframe tbody tr th {\n",
       "        vertical-align: top;\n",
       "    }\n",
       "\n",
       "    .dataframe thead th {\n",
       "        text-align: right;\n",
       "    }\n",
       "</style>\n",
       "<table border=\"1\" class=\"dataframe\">\n",
       "  <thead>\n",
       "    <tr style=\"text-align: right;\">\n",
       "      <th></th>\n",
       "      <th>id</th>\n",
       "      <th>object_name</th>\n",
       "      <th>chain</th>\n",
       "      <th>object_type</th>\n",
       "      <th>address</th>\n",
       "      <th>number</th>\n",
       "    </tr>\n",
       "  </thead>\n",
       "  <tbody>\n",
       "    <tr>\n",
       "      <td>0</td>\n",
       "      <td>151635</td>\n",
       "      <td>сметана</td>\n",
       "      <td>нет</td>\n",
       "      <td>кафе</td>\n",
       "      <td>город Москва, улица Егора Абакумова, дом 9</td>\n",
       "      <td>48</td>\n",
       "    </tr>\n",
       "    <tr>\n",
       "      <td>1</td>\n",
       "      <td>77874</td>\n",
       "      <td>родник</td>\n",
       "      <td>нет</td>\n",
       "      <td>кафе</td>\n",
       "      <td>город Москва, улица Талалихина, дом 2/1, корпус 1</td>\n",
       "      <td>35</td>\n",
       "    </tr>\n",
       "    <tr>\n",
       "      <td>2</td>\n",
       "      <td>24309</td>\n",
       "      <td>кафе «академия»</td>\n",
       "      <td>нет</td>\n",
       "      <td>кафе</td>\n",
       "      <td>город Москва, Абельмановская улица, дом 6</td>\n",
       "      <td>95</td>\n",
       "    </tr>\n",
       "    <tr>\n",
       "      <td>3</td>\n",
       "      <td>21894</td>\n",
       "      <td>пиццетория</td>\n",
       "      <td>да</td>\n",
       "      <td>кафе</td>\n",
       "      <td>город Москва, Абрамцевская улица, дом 1</td>\n",
       "      <td>40</td>\n",
       "    </tr>\n",
       "    <tr>\n",
       "      <td>4</td>\n",
       "      <td>119365</td>\n",
       "      <td>кафе «вишневая метель»</td>\n",
       "      <td>нет</td>\n",
       "      <td>кафе</td>\n",
       "      <td>город Москва, Абрамцевская улица, дом 9, корпус 1</td>\n",
       "      <td>50</td>\n",
       "    </tr>\n",
       "  </tbody>\n",
       "</table>\n",
       "</div>"
      ],
      "text/plain": [
       "       id             object_name chain object_type  \\\n",
       "0  151635                 сметана   нет        кафе   \n",
       "1   77874                  родник   нет        кафе   \n",
       "2   24309         кафе «академия»   нет        кафе   \n",
       "3   21894              пиццетория    да        кафе   \n",
       "4  119365  кафе «вишневая метель»   нет        кафе   \n",
       "\n",
       "                                             address  number  \n",
       "0         город Москва, улица Егора Абакумова, дом 9      48  \n",
       "1  город Москва, улица Талалихина, дом 2/1, корпус 1      35  \n",
       "2          город Москва, Абельмановская улица, дом 6      95  \n",
       "3            город Москва, Абрамцевская улица, дом 1      40  \n",
       "4  город Москва, Абрамцевская улица, дом 9, корпус 1      50  "
      ]
     },
     "execution_count": 3,
     "metadata": {},
     "output_type": "execute_result"
    }
   ],
   "source": [
    "rest_df['object_name'] = rest_df['object_name'].str.lower()\n",
    "rest_df.head()"
   ]
  },
  {
   "cell_type": "markdown",
   "metadata": {},
   "source": [
    "4.4 Произвел проверку пустых значений."
   ]
  },
  {
   "cell_type": "code",
   "execution_count": 4,
   "metadata": {},
   "outputs": [
    {
     "data": {
      "text/plain": [
       "id             0\n",
       "object_name    0\n",
       "chain          0\n",
       "object_type    0\n",
       "address        0\n",
       "number         0\n",
       "dtype: int64"
      ]
     },
     "execution_count": 4,
     "metadata": {},
     "output_type": "execute_result"
    }
   ],
   "source": [
    "rest_df.isnull().sum()"
   ]
  },
  {
   "cell_type": "markdown",
   "metadata": {},
   "source": [
    "Пустые значения отсутствуют."
   ]
  },
  {
   "cell_type": "markdown",
   "metadata": {},
   "source": [
    "4.5 Произвел проверку дубликатов."
   ]
  },
  {
   "cell_type": "code",
   "execution_count": 5,
   "metadata": {},
   "outputs": [
    {
     "data": {
      "text/html": [
       "<div>\n",
       "<style scoped>\n",
       "    .dataframe tbody tr th:only-of-type {\n",
       "        vertical-align: middle;\n",
       "    }\n",
       "\n",
       "    .dataframe tbody tr th {\n",
       "        vertical-align: top;\n",
       "    }\n",
       "\n",
       "    .dataframe thead th {\n",
       "        text-align: right;\n",
       "    }\n",
       "</style>\n",
       "<table border=\"1\" class=\"dataframe\">\n",
       "  <thead>\n",
       "    <tr style=\"text-align: right;\">\n",
       "      <th></th>\n",
       "      <th>id</th>\n",
       "      <th>object_name</th>\n",
       "      <th>chain</th>\n",
       "      <th>object_type</th>\n",
       "      <th>address</th>\n",
       "      <th>number</th>\n",
       "    </tr>\n",
       "  </thead>\n",
       "  <tbody>\n",
       "    <tr>\n",
       "      <td>114</td>\n",
       "      <td>28613</td>\n",
       "      <td>комбинат питания мгту им.н.э.баумана</td>\n",
       "      <td>нет</td>\n",
       "      <td>закусочная</td>\n",
       "      <td>город Москва, Бригадирский переулок, дом 3-5</td>\n",
       "      <td>216</td>\n",
       "    </tr>\n",
       "    <tr>\n",
       "      <td>115</td>\n",
       "      <td>28614</td>\n",
       "      <td>комбинат питания мгту им.н.э.баумана</td>\n",
       "      <td>нет</td>\n",
       "      <td>буфет</td>\n",
       "      <td>город Москва, Бригадирский переулок, дом 3-5</td>\n",
       "      <td>12</td>\n",
       "    </tr>\n",
       "    <tr>\n",
       "      <td>579</td>\n",
       "      <td>149227</td>\n",
       "      <td>общественное питание</td>\n",
       "      <td>нет</td>\n",
       "      <td>столовая</td>\n",
       "      <td>город Москва, Павелецкая площадь, дом 1</td>\n",
       "      <td>70</td>\n",
       "    </tr>\n",
       "    <tr>\n",
       "      <td>580</td>\n",
       "      <td>149205</td>\n",
       "      <td>общественное питание</td>\n",
       "      <td>нет</td>\n",
       "      <td>кафе</td>\n",
       "      <td>город Москва, Павелецкая площадь, дом 1</td>\n",
       "      <td>35</td>\n",
       "    </tr>\n",
       "    <tr>\n",
       "      <td>581</td>\n",
       "      <td>149131</td>\n",
       "      <td>общественное питание</td>\n",
       "      <td>нет</td>\n",
       "      <td>кафе</td>\n",
       "      <td>город Москва, Павелецкая площадь, дом 1</td>\n",
       "      <td>39</td>\n",
       "    </tr>\n",
       "    <tr>\n",
       "      <td>...</td>\n",
       "      <td>...</td>\n",
       "      <td>...</td>\n",
       "      <td>...</td>\n",
       "      <td>...</td>\n",
       "      <td>...</td>\n",
       "      <td>...</td>\n",
       "    </tr>\n",
       "    <tr>\n",
       "      <td>15217</td>\n",
       "      <td>214146</td>\n",
       "      <td>макдоналдс</td>\n",
       "      <td>да</td>\n",
       "      <td>предприятие быстрого обслуживания</td>\n",
       "      <td>город Москва, Кировоградская улица, дом 13А</td>\n",
       "      <td>0</td>\n",
       "    </tr>\n",
       "    <tr>\n",
       "      <td>15241</td>\n",
       "      <td>210885</td>\n",
       "      <td>kfc</td>\n",
       "      <td>да</td>\n",
       "      <td>предприятие быстрого обслуживания</td>\n",
       "      <td>город Москва, Манежная площадь, дом 1, строение 2</td>\n",
       "      <td>41</td>\n",
       "    </tr>\n",
       "    <tr>\n",
       "      <td>15253</td>\n",
       "      <td>214872</td>\n",
       "      <td>чайхона №1</td>\n",
       "      <td>да</td>\n",
       "      <td>кафе</td>\n",
       "      <td>город Москва, Кутузовский проспект, дом 57</td>\n",
       "      <td>0</td>\n",
       "    </tr>\n",
       "    <tr>\n",
       "      <td>15363</td>\n",
       "      <td>209186</td>\n",
       "      <td>шоколадница</td>\n",
       "      <td>да</td>\n",
       "      <td>кафе</td>\n",
       "      <td>город Москва, улица Земляной Вал, дом 33</td>\n",
       "      <td>20</td>\n",
       "    </tr>\n",
       "    <tr>\n",
       "      <td>15365</td>\n",
       "      <td>222535</td>\n",
       "      <td>шоколадница</td>\n",
       "      <td>да</td>\n",
       "      <td>кафе</td>\n",
       "      <td>город Москва, Ходынский бульвар, дом 4</td>\n",
       "      <td>10</td>\n",
       "    </tr>\n",
       "  </tbody>\n",
       "</table>\n",
       "<p>225 rows × 6 columns</p>\n",
       "</div>"
      ],
      "text/plain": [
       "           id                           object_name chain  \\\n",
       "114     28613  комбинат питания мгту им.н.э.баумана   нет   \n",
       "115     28614  комбинат питания мгту им.н.э.баумана   нет   \n",
       "579    149227                  общественное питание   нет   \n",
       "580    149205                  общественное питание   нет   \n",
       "581    149131                  общественное питание   нет   \n",
       "...       ...                                   ...   ...   \n",
       "15217  214146                            макдоналдс    да   \n",
       "15241  210885                                   kfc    да   \n",
       "15253  214872                            чайхона №1    да   \n",
       "15363  209186                           шоколадница    да   \n",
       "15365  222535                           шоколадница    да   \n",
       "\n",
       "                             object_type  \\\n",
       "114                           закусочная   \n",
       "115                                буфет   \n",
       "579                             столовая   \n",
       "580                                 кафе   \n",
       "581                                 кафе   \n",
       "...                                  ...   \n",
       "15217  предприятие быстрого обслуживания   \n",
       "15241  предприятие быстрого обслуживания   \n",
       "15253                               кафе   \n",
       "15363                               кафе   \n",
       "15365                               кафе   \n",
       "\n",
       "                                                 address  number  \n",
       "114         город Москва, Бригадирский переулок, дом 3-5     216  \n",
       "115         город Москва, Бригадирский переулок, дом 3-5      12  \n",
       "579              город Москва, Павелецкая площадь, дом 1      70  \n",
       "580              город Москва, Павелецкая площадь, дом 1      35  \n",
       "581              город Москва, Павелецкая площадь, дом 1      39  \n",
       "...                                                  ...     ...  \n",
       "15217        город Москва, Кировоградская улица, дом 13А       0  \n",
       "15241  город Москва, Манежная площадь, дом 1, строение 2      41  \n",
       "15253         город Москва, Кутузовский проспект, дом 57       0  \n",
       "15363           город Москва, улица Земляной Вал, дом 33      20  \n",
       "15365             город Москва, Ходынский бульвар, дом 4      10  \n",
       "\n",
       "[225 rows x 6 columns]"
      ]
     },
     "execution_count": 5,
     "metadata": {},
     "output_type": "execute_result"
    }
   ],
   "source": [
    "rest_df[rest_df[['object_name', 'address']].duplicated()]"
   ]
  },
  {
   "cell_type": "code",
   "execution_count": 6,
   "metadata": {},
   "outputs": [
    {
     "data": {
      "text/html": [
       "<div>\n",
       "<style scoped>\n",
       "    .dataframe tbody tr th:only-of-type {\n",
       "        vertical-align: middle;\n",
       "    }\n",
       "\n",
       "    .dataframe tbody tr th {\n",
       "        vertical-align: top;\n",
       "    }\n",
       "\n",
       "    .dataframe thead th {\n",
       "        text-align: right;\n",
       "    }\n",
       "</style>\n",
       "<table border=\"1\" class=\"dataframe\">\n",
       "  <thead>\n",
       "    <tr style=\"text-align: right;\">\n",
       "      <th></th>\n",
       "      <th>id</th>\n",
       "      <th>object_name</th>\n",
       "      <th>chain</th>\n",
       "      <th>object_type</th>\n",
       "      <th>address</th>\n",
       "      <th>number</th>\n",
       "    </tr>\n",
       "  </thead>\n",
       "  <tbody>\n",
       "    <tr>\n",
       "      <td>0</td>\n",
       "      <td>151635</td>\n",
       "      <td>сметана</td>\n",
       "      <td>нет</td>\n",
       "      <td>кафе</td>\n",
       "      <td>город Москва, улица Егора Абакумова, дом 9</td>\n",
       "      <td>48</td>\n",
       "    </tr>\n",
       "    <tr>\n",
       "      <td>1</td>\n",
       "      <td>77874</td>\n",
       "      <td>родник</td>\n",
       "      <td>нет</td>\n",
       "      <td>кафе</td>\n",
       "      <td>город Москва, улица Талалихина, дом 2/1, корпус 1</td>\n",
       "      <td>35</td>\n",
       "    </tr>\n",
       "    <tr>\n",
       "      <td>2</td>\n",
       "      <td>24309</td>\n",
       "      <td>кафе «академия»</td>\n",
       "      <td>нет</td>\n",
       "      <td>кафе</td>\n",
       "      <td>город Москва, Абельмановская улица, дом 6</td>\n",
       "      <td>95</td>\n",
       "    </tr>\n",
       "    <tr>\n",
       "      <td>3</td>\n",
       "      <td>21894</td>\n",
       "      <td>пиццетория</td>\n",
       "      <td>да</td>\n",
       "      <td>кафе</td>\n",
       "      <td>город Москва, Абрамцевская улица, дом 1</td>\n",
       "      <td>40</td>\n",
       "    </tr>\n",
       "    <tr>\n",
       "      <td>4</td>\n",
       "      <td>119365</td>\n",
       "      <td>кафе «вишневая метель»</td>\n",
       "      <td>нет</td>\n",
       "      <td>кафе</td>\n",
       "      <td>город Москва, Абрамцевская улица, дом 9, корпус 1</td>\n",
       "      <td>50</td>\n",
       "    </tr>\n",
       "    <tr>\n",
       "      <td>...</td>\n",
       "      <td>...</td>\n",
       "      <td>...</td>\n",
       "      <td>...</td>\n",
       "      <td>...</td>\n",
       "      <td>...</td>\n",
       "      <td>...</td>\n",
       "    </tr>\n",
       "    <tr>\n",
       "      <td>15360</td>\n",
       "      <td>219759</td>\n",
       "      <td>шоколадница</td>\n",
       "      <td>да</td>\n",
       "      <td>кафе</td>\n",
       "      <td>город Москва, улица Вавилова, дом 3</td>\n",
       "      <td>36</td>\n",
       "    </tr>\n",
       "    <tr>\n",
       "      <td>15361</td>\n",
       "      <td>208537</td>\n",
       "      <td>шоколадница</td>\n",
       "      <td>да</td>\n",
       "      <td>кафе</td>\n",
       "      <td>город Москва, 3-й Крутицкий переулок, дом 18</td>\n",
       "      <td>50</td>\n",
       "    </tr>\n",
       "    <tr>\n",
       "      <td>15363</td>\n",
       "      <td>209186</td>\n",
       "      <td>шоколадница</td>\n",
       "      <td>да</td>\n",
       "      <td>кафе</td>\n",
       "      <td>город Москва, улица Земляной Вал, дом 33</td>\n",
       "      <td>20</td>\n",
       "    </tr>\n",
       "    <tr>\n",
       "      <td>15364</td>\n",
       "      <td>221900</td>\n",
       "      <td>шоколадница</td>\n",
       "      <td>да</td>\n",
       "      <td>кафе</td>\n",
       "      <td>город Москва, поселение Московский, Киевское ш...</td>\n",
       "      <td>36</td>\n",
       "    </tr>\n",
       "    <tr>\n",
       "      <td>15365</td>\n",
       "      <td>222535</td>\n",
       "      <td>шоколадница</td>\n",
       "      <td>да</td>\n",
       "      <td>кафе</td>\n",
       "      <td>город Москва, Ходынский бульвар, дом 4</td>\n",
       "      <td>10</td>\n",
       "    </tr>\n",
       "  </tbody>\n",
       "</table>\n",
       "<p>15141 rows × 6 columns</p>\n",
       "</div>"
      ],
      "text/plain": [
       "           id             object_name chain object_type  \\\n",
       "0      151635                 сметана   нет        кафе   \n",
       "1       77874                  родник   нет        кафе   \n",
       "2       24309         кафе «академия»   нет        кафе   \n",
       "3       21894              пиццетория    да        кафе   \n",
       "4      119365  кафе «вишневая метель»   нет        кафе   \n",
       "...       ...                     ...   ...         ...   \n",
       "15360  219759             шоколадница    да        кафе   \n",
       "15361  208537             шоколадница    да        кафе   \n",
       "15363  209186             шоколадница    да        кафе   \n",
       "15364  221900             шоколадница    да        кафе   \n",
       "15365  222535             шоколадница    да        кафе   \n",
       "\n",
       "                                                 address  number  \n",
       "0             город Москва, улица Егора Абакумова, дом 9      48  \n",
       "1      город Москва, улица Талалихина, дом 2/1, корпус 1      35  \n",
       "2              город Москва, Абельмановская улица, дом 6      95  \n",
       "3                город Москва, Абрамцевская улица, дом 1      40  \n",
       "4      город Москва, Абрамцевская улица, дом 9, корпус 1      50  \n",
       "...                                                  ...     ...  \n",
       "15360                город Москва, улица Вавилова, дом 3      36  \n",
       "15361       город Москва, 3-й Крутицкий переулок, дом 18      50  \n",
       "15363           город Москва, улица Земляной Вал, дом 33      20  \n",
       "15364  город Москва, поселение Московский, Киевское ш...      36  \n",
       "15365             город Москва, Ходынский бульвар, дом 4      10  \n",
       "\n",
       "[15141 rows x 6 columns]"
      ]
     },
     "execution_count": 6,
     "metadata": {},
     "output_type": "execute_result"
    }
   ],
   "source": [
    "rest_df.drop_duplicates(subset=['object_name', 'address'], keep='last')"
   ]
  },
  {
   "cell_type": "markdown",
   "metadata": {},
   "source": [
    "4.6 Проверил тип данных."
   ]
  },
  {
   "cell_type": "code",
   "execution_count": 7,
   "metadata": {},
   "outputs": [
    {
     "name": "stdout",
     "output_type": "stream",
     "text": [
      "<class 'pandas.core.frame.DataFrame'>\n",
      "RangeIndex: 15366 entries, 0 to 15365\n",
      "Data columns (total 6 columns):\n",
      "id             15366 non-null int64\n",
      "object_name    15366 non-null object\n",
      "chain          15366 non-null object\n",
      "object_type    15366 non-null object\n",
      "address        15366 non-null object\n",
      "number         15366 non-null int64\n",
      "dtypes: int64(2), object(4)\n",
      "memory usage: 720.4+ KB\n"
     ]
    }
   ],
   "source": [
    "rest_df.info()"
   ]
  },
  {
   "cell_type": "markdown",
   "metadata": {},
   "source": [
    "С типом данных все впорядке."
   ]
  },
  {
   "cell_type": "code",
   "execution_count": 8,
   "metadata": {},
   "outputs": [
    {
     "data": {
      "text/html": [
       "<div>\n",
       "<style scoped>\n",
       "    .dataframe tbody tr th:only-of-type {\n",
       "        vertical-align: middle;\n",
       "    }\n",
       "\n",
       "    .dataframe tbody tr th {\n",
       "        vertical-align: top;\n",
       "    }\n",
       "\n",
       "    .dataframe thead th {\n",
       "        text-align: right;\n",
       "    }\n",
       "</style>\n",
       "<table border=\"1\" class=\"dataframe\">\n",
       "  <thead>\n",
       "    <tr style=\"text-align: right;\">\n",
       "      <th></th>\n",
       "      <th>count</th>\n",
       "      <th>unique</th>\n",
       "      <th>top</th>\n",
       "      <th>freq</th>\n",
       "      <th>mean</th>\n",
       "      <th>std</th>\n",
       "      <th>min</th>\n",
       "      <th>25%</th>\n",
       "      <th>50%</th>\n",
       "      <th>75%</th>\n",
       "      <th>max</th>\n",
       "    </tr>\n",
       "  </thead>\n",
       "  <tbody>\n",
       "    <tr>\n",
       "      <td>id</td>\n",
       "      <td>15366</td>\n",
       "      <td>NaN</td>\n",
       "      <td>NaN</td>\n",
       "      <td>NaN</td>\n",
       "      <td>119720</td>\n",
       "      <td>73036.1</td>\n",
       "      <td>838</td>\n",
       "      <td>28524</td>\n",
       "      <td>144974</td>\n",
       "      <td>184262</td>\n",
       "      <td>223439</td>\n",
       "    </tr>\n",
       "    <tr>\n",
       "      <td>object_name</td>\n",
       "      <td>15366</td>\n",
       "      <td>9924</td>\n",
       "      <td>столовая</td>\n",
       "      <td>321</td>\n",
       "      <td>NaN</td>\n",
       "      <td>NaN</td>\n",
       "      <td>NaN</td>\n",
       "      <td>NaN</td>\n",
       "      <td>NaN</td>\n",
       "      <td>NaN</td>\n",
       "      <td>NaN</td>\n",
       "    </tr>\n",
       "    <tr>\n",
       "      <td>chain</td>\n",
       "      <td>15366</td>\n",
       "      <td>2</td>\n",
       "      <td>нет</td>\n",
       "      <td>12398</td>\n",
       "      <td>NaN</td>\n",
       "      <td>NaN</td>\n",
       "      <td>NaN</td>\n",
       "      <td>NaN</td>\n",
       "      <td>NaN</td>\n",
       "      <td>NaN</td>\n",
       "      <td>NaN</td>\n",
       "    </tr>\n",
       "    <tr>\n",
       "      <td>object_type</td>\n",
       "      <td>15366</td>\n",
       "      <td>9</td>\n",
       "      <td>кафе</td>\n",
       "      <td>6099</td>\n",
       "      <td>NaN</td>\n",
       "      <td>NaN</td>\n",
       "      <td>NaN</td>\n",
       "      <td>NaN</td>\n",
       "      <td>NaN</td>\n",
       "      <td>NaN</td>\n",
       "      <td>NaN</td>\n",
       "    </tr>\n",
       "    <tr>\n",
       "      <td>address</td>\n",
       "      <td>15366</td>\n",
       "      <td>9108</td>\n",
       "      <td>город Москва, Ходынский бульвар, дом 4</td>\n",
       "      <td>95</td>\n",
       "      <td>NaN</td>\n",
       "      <td>NaN</td>\n",
       "      <td>NaN</td>\n",
       "      <td>NaN</td>\n",
       "      <td>NaN</td>\n",
       "      <td>NaN</td>\n",
       "      <td>NaN</td>\n",
       "    </tr>\n",
       "    <tr>\n",
       "      <td>number</td>\n",
       "      <td>15366</td>\n",
       "      <td>NaN</td>\n",
       "      <td>NaN</td>\n",
       "      <td>NaN</td>\n",
       "      <td>59.5472</td>\n",
       "      <td>74.7368</td>\n",
       "      <td>0</td>\n",
       "      <td>12</td>\n",
       "      <td>40</td>\n",
       "      <td>80</td>\n",
       "      <td>1700</td>\n",
       "    </tr>\n",
       "  </tbody>\n",
       "</table>\n",
       "</div>"
      ],
      "text/plain": [
       "             count unique                                     top   freq  \\\n",
       "id           15366    NaN                                     NaN    NaN   \n",
       "object_name  15366   9924                                столовая    321   \n",
       "chain        15366      2                                     нет  12398   \n",
       "object_type  15366      9                                    кафе   6099   \n",
       "address      15366   9108  город Москва, Ходынский бульвар, дом 4     95   \n",
       "number       15366    NaN                                     NaN    NaN   \n",
       "\n",
       "                mean      std  min    25%     50%     75%     max  \n",
       "id            119720  73036.1  838  28524  144974  184262  223439  \n",
       "object_name      NaN      NaN  NaN    NaN     NaN     NaN     NaN  \n",
       "chain            NaN      NaN  NaN    NaN     NaN     NaN     NaN  \n",
       "object_type      NaN      NaN  NaN    NaN     NaN     NaN     NaN  \n",
       "address          NaN      NaN  NaN    NaN     NaN     NaN     NaN  \n",
       "number       59.5472  74.7368    0     12      40      80    1700  "
      ]
     },
     "execution_count": 8,
     "metadata": {},
     "output_type": "execute_result"
    }
   ],
   "source": [
    "rest_df.describe(include='all').T"
   ]
  },
  {
   "cell_type": "markdown",
   "metadata": {},
   "source": [
    "Вывод: Пустые значения в датафрейме rest_df отсутсвуют, тип данных не требует изменений, дубликаты в количестве 225 были удалены из условия одинаковых значений данных по столбцам 'object_name' и 'address'."
   ]
  },
  {
   "cell_type": "markdown",
   "metadata": {},
   "source": [
    "### Анализ данных \n",
    "<a id='cell2'></a>"
   ]
  },
  {
   "cell_type": "markdown",
   "metadata": {},
   "source": [
    "1. Исследуйте соотношение видов объектов общественного питания по количеству. Постройте график.\n",
    "2. Исследуйте соотношение сетевых и несетевых заведений по количеству. Постройте график.\n",
    "3. Для какого вида объекта общественного питания характерно сетевое распространение?\n",
    "4. Что характерно для сетевых заведений: много заведений с небольшим числом посадочных мест в каждом или мало заведений с большим количеством посадочных мест?\n",
    "5. Для каждого вида объекта общественного питания опишите среднее количество посадочных мест. Какой вид предоставляет в среднем самое большое количество посадочных мест? Постройте графики.\n",
    "6. Выделите в отдельный столбец информацию об улице из столбца address .\n",
    "7. Постройте график топ-10 улиц по количеству объектов общественного питания. Воспользуйтесь внешней информацией и ответьте на вопрос — в каких районах Москвы находятся эти улицы?\n",
    "8. Найдите число улиц с одним объектом общественного питания. Воспользуйтесь внешней информацией и ответьте на вопрос — в каких районах Москвы находятся эти улицы?\n",
    "9. Посмотрите на распределение количества посадочных мест для улиц с большим количеством объектов общественного питания. Какие закономерности можно выявить?\n",
    "10. Сделайте общий вывод и дайте рекомендации о виде заведения, количестве посадочных мест, а также районе расположения. Прокомментируйте возможность развития сети."
   ]
  },
  {
   "cell_type": "markdown",
   "metadata": {},
   "source": [
    "5.1 Исследовал соотношение видов объектов общественного питания по количеству. Построил график."
   ]
  },
  {
   "cell_type": "code",
   "execution_count": 9,
   "metadata": {},
   "outputs": [
    {
     "data": {
      "image/png": "[encoded data removed]",
      "text/plain": [
       "<Figure size 1800x1008 with 1 Axes>"
      ]
     },
     "metadata": {},
     "output_type": "display_data"
    }
   ],
   "source": [
    "n_restaurant = rest_df.groupby('object_type').agg({'id': 'count'}).reset_index()\n",
    "n_restaurant.columns = ['object_type','n_restaurant']\n",
    "\n",
    "n_restaurant = n_restaurant.sort_values(by='n_restaurant', ascending=False)\n",
    "\n",
    "# построил график \n",
    "x = n_restaurant['object_type']\n",
    "y = n_restaurant['n_restaurant']\n",
    "\n",
    "fig, ax = plt.subplots()\n",
    "\n",
    "ax.bar(x, y)\n",
    "\n",
    "ax.set_facecolor('seashell')\n",
    "fig.set_facecolor('floralwhite')\n",
    "fig.set_figwidth(25)    #  ширина Figure\n",
    "fig.set_figheight(14)    #  высота Figure\n",
    "\n",
    "ax.set_ylabel('N_Restaurant')\n",
    "ax.set_title('Restaurant')\n",
    "\n",
    "ax.grid()\n",
    "\n",
    "plt.show()"
   ]
  },
  {
   "cell_type": "markdown",
   "metadata": {},
   "source": [
    "5.2 Исследовал соотношение сетевых и несетевых заведений по количеству. Построил график."
   ]
  },
  {
   "cell_type": "code",
   "execution_count": 10,
   "metadata": {},
   "outputs": [
    {
     "data": {
      "image/png": "[encoded data removed]",
      "text/plain": [
       "<Figure size 1440x432 with 1 Axes>"
      ]
     },
     "metadata": {},
     "output_type": "display_data"
    }
   ],
   "source": [
    "chain_restaurant = rest_df.groupby('chain').agg({'id': 'count'}).reset_index()\n",
    "chain_restaurant.columns = ['chain','n_chain']\n",
    "\n",
    "chain_restaurant = chain_restaurant.sort_values(by='n_chain', ascending=False)\n",
    "\n",
    "# построил график \n",
    "x = chain_restaurant['chain']\n",
    "y = chain_restaurant['n_chain']\n",
    "\n",
    "fig, ax_1 = plt.subplots()\n",
    "\n",
    "ax_1.bar(x, y)\n",
    "\n",
    "ax_1.set_facecolor('seashell')\n",
    "fig.set_facecolor('floralwhite')\n",
    "fig.set_figwidth(20)    #  ширина Figure\n",
    "fig.set_figheight(6)    #  высота Figure\n",
    "\n",
    "ax_1.set_ylabel('n_rest')\n",
    "ax_1.set_title('N_Chain')\n",
    "\n",
    "ax_1.grid()\n",
    "\n",
    "plt.show()"
   ]
  },
  {
   "cell_type": "markdown",
   "metadata": {},
   "source": [
    "Вывод: Сетевых заведений оказалось значительно меньше."
   ]
  },
  {
   "cell_type": "markdown",
   "metadata": {},
   "source": [
    "5.3 Для какого вида объекта общественного питания характерно сетевое распространение?"
   ]
  },
  {
   "cell_type": "markdown",
   "metadata": {},
   "source": [
    "* Сетевые заведения."
   ]
  },
  {
   "cell_type": "code",
   "execution_count": 11,
   "metadata": {},
   "outputs": [
    {
     "data": {
      "text/html": [
       "<div>\n",
       "<style scoped>\n",
       "    .dataframe tbody tr th:only-of-type {\n",
       "        vertical-align: middle;\n",
       "    }\n",
       "\n",
       "    .dataframe tbody tr th {\n",
       "        vertical-align: top;\n",
       "    }\n",
       "\n",
       "    .dataframe thead th {\n",
       "        text-align: right;\n",
       "    }\n",
       "</style>\n",
       "<table border=\"1\" class=\"dataframe\">\n",
       "  <thead>\n",
       "    <tr style=\"text-align: right;\">\n",
       "      <th></th>\n",
       "      <th>object_type</th>\n",
       "      <th>n_chain_restaurant</th>\n",
       "    </tr>\n",
       "  </thead>\n",
       "  <tbody>\n",
       "    <tr>\n",
       "      <td>0</td>\n",
       "      <td>бар</td>\n",
       "      <td>37</td>\n",
       "    </tr>\n",
       "    <tr>\n",
       "      <td>1</td>\n",
       "      <td>буфет</td>\n",
       "      <td>11</td>\n",
       "    </tr>\n",
       "    <tr>\n",
       "      <td>2</td>\n",
       "      <td>закусочная</td>\n",
       "      <td>56</td>\n",
       "    </tr>\n",
       "    <tr>\n",
       "      <td>3</td>\n",
       "      <td>кафе</td>\n",
       "      <td>1396</td>\n",
       "    </tr>\n",
       "    <tr>\n",
       "      <td>4</td>\n",
       "      <td>кафетерий</td>\n",
       "      <td>52</td>\n",
       "    </tr>\n",
       "    <tr>\n",
       "      <td>5</td>\n",
       "      <td>магазин (отдел кулинарии)</td>\n",
       "      <td>78</td>\n",
       "    </tr>\n",
       "    <tr>\n",
       "      <td>6</td>\n",
       "      <td>предприятие быстрого обслуживания</td>\n",
       "      <td>791</td>\n",
       "    </tr>\n",
       "    <tr>\n",
       "      <td>7</td>\n",
       "      <td>ресторан</td>\n",
       "      <td>544</td>\n",
       "    </tr>\n",
       "    <tr>\n",
       "      <td>8</td>\n",
       "      <td>столовая</td>\n",
       "      <td>3</td>\n",
       "    </tr>\n",
       "  </tbody>\n",
       "</table>\n",
       "</div>"
      ],
      "text/plain": [
       "                         object_type  n_chain_restaurant\n",
       "0                                бар                  37\n",
       "1                              буфет                  11\n",
       "2                         закусочная                  56\n",
       "3                               кафе                1396\n",
       "4                          кафетерий                  52\n",
       "5          магазин (отдел кулинарии)                  78\n",
       "6  предприятие быстрого обслуживания                 791\n",
       "7                           ресторан                 544\n",
       "8                           столовая                   3"
      ]
     },
     "metadata": {},
     "output_type": "display_data"
    }
   ],
   "source": [
    "#chain = rest_df.loc[rest_df.loc[:,'chain'] == 'да']['object_type']\n",
    "chain_df = rest_df.query('chain == \"да\"')\n",
    "n_chain_restaurant = chain_df.groupby('object_type').agg({'id': 'count'}).reset_index()\n",
    "n_chain_restaurant.columns = ['object_type', 'n_chain_restaurant']\n",
    "\n",
    "display(n_chain_restaurant)\n",
    "#n_chain_restaurant = n_chain_restaurant.sort_values(by='n_chain_restaurant', ascending=False)"
   ]
  },
  {
   "cell_type": "markdown",
   "metadata": {},
   "source": [
    "* Все заведения."
   ]
  },
  {
   "cell_type": "code",
   "execution_count": 12,
   "metadata": {},
   "outputs": [
    {
     "data": {
      "text/html": [
       "<div>\n",
       "<style scoped>\n",
       "    .dataframe tbody tr th:only-of-type {\n",
       "        vertical-align: middle;\n",
       "    }\n",
       "\n",
       "    .dataframe tbody tr th {\n",
       "        vertical-align: top;\n",
       "    }\n",
       "\n",
       "    .dataframe thead th {\n",
       "        text-align: right;\n",
       "    }\n",
       "</style>\n",
       "<table border=\"1\" class=\"dataframe\">\n",
       "  <thead>\n",
       "    <tr style=\"text-align: right;\">\n",
       "      <th></th>\n",
       "      <th>object_type</th>\n",
       "      <th>all_restaurant</th>\n",
       "    </tr>\n",
       "  </thead>\n",
       "  <tbody>\n",
       "    <tr>\n",
       "      <td>0</td>\n",
       "      <td>бар</td>\n",
       "      <td>856</td>\n",
       "    </tr>\n",
       "    <tr>\n",
       "      <td>1</td>\n",
       "      <td>буфет</td>\n",
       "      <td>585</td>\n",
       "    </tr>\n",
       "    <tr>\n",
       "      <td>2</td>\n",
       "      <td>закусочная</td>\n",
       "      <td>360</td>\n",
       "    </tr>\n",
       "    <tr>\n",
       "      <td>3</td>\n",
       "      <td>кафе</td>\n",
       "      <td>6099</td>\n",
       "    </tr>\n",
       "    <tr>\n",
       "      <td>4</td>\n",
       "      <td>кафетерий</td>\n",
       "      <td>398</td>\n",
       "    </tr>\n",
       "    <tr>\n",
       "      <td>5</td>\n",
       "      <td>магазин (отдел кулинарии)</td>\n",
       "      <td>273</td>\n",
       "    </tr>\n",
       "    <tr>\n",
       "      <td>6</td>\n",
       "      <td>предприятие быстрого обслуживания</td>\n",
       "      <td>1923</td>\n",
       "    </tr>\n",
       "    <tr>\n",
       "      <td>7</td>\n",
       "      <td>ресторан</td>\n",
       "      <td>2285</td>\n",
       "    </tr>\n",
       "    <tr>\n",
       "      <td>8</td>\n",
       "      <td>столовая</td>\n",
       "      <td>2587</td>\n",
       "    </tr>\n",
       "  </tbody>\n",
       "</table>\n",
       "</div>"
      ],
      "text/plain": [
       "                         object_type  all_restaurant\n",
       "0                                бар             856\n",
       "1                              буфет             585\n",
       "2                         закусочная             360\n",
       "3                               кафе            6099\n",
       "4                          кафетерий             398\n",
       "5          магазин (отдел кулинарии)             273\n",
       "6  предприятие быстрого обслуживания            1923\n",
       "7                           ресторан            2285\n",
       "8                           столовая            2587"
      ]
     },
     "execution_count": 12,
     "metadata": {},
     "output_type": "execute_result"
    }
   ],
   "source": [
    "all_restaurant = rest_df.groupby('object_type').agg({'id': 'count'}).reset_index()\n",
    "all_restaurant.columns = ['object_type', 'all_restaurant']\n",
    "#all_restaurant = all_restaurant.sort_values(by='all_restaurant', ascending=False)\n",
    "all_restaurant"
   ]
  },
  {
   "cell_type": "markdown",
   "metadata": {},
   "source": [
    "* Доля сетевых заведений."
   ]
  },
  {
   "cell_type": "code",
   "execution_count": 13,
   "metadata": {},
   "outputs": [
    {
     "data": {
      "text/html": [
       "<div>\n",
       "<style scoped>\n",
       "    .dataframe tbody tr th:only-of-type {\n",
       "        vertical-align: middle;\n",
       "    }\n",
       "\n",
       "    .dataframe tbody tr th {\n",
       "        vertical-align: top;\n",
       "    }\n",
       "\n",
       "    .dataframe thead th {\n",
       "        text-align: right;\n",
       "    }\n",
       "</style>\n",
       "<table border=\"1\" class=\"dataframe\">\n",
       "  <thead>\n",
       "    <tr style=\"text-align: right;\">\n",
       "      <th></th>\n",
       "      <th>object_type</th>\n",
       "      <th>n_chain_restaurant</th>\n",
       "      <th>all_restaurant</th>\n",
       "      <th>share_restaurant</th>\n",
       "    </tr>\n",
       "  </thead>\n",
       "  <tbody>\n",
       "    <tr>\n",
       "      <td>6</td>\n",
       "      <td>предприятие быстрого обслуживания</td>\n",
       "      <td>791</td>\n",
       "      <td>1923</td>\n",
       "      <td>0.411336</td>\n",
       "    </tr>\n",
       "    <tr>\n",
       "      <td>5</td>\n",
       "      <td>магазин (отдел кулинарии)</td>\n",
       "      <td>78</td>\n",
       "      <td>273</td>\n",
       "      <td>0.285714</td>\n",
       "    </tr>\n",
       "    <tr>\n",
       "      <td>7</td>\n",
       "      <td>ресторан</td>\n",
       "      <td>544</td>\n",
       "      <td>2285</td>\n",
       "      <td>0.238074</td>\n",
       "    </tr>\n",
       "    <tr>\n",
       "      <td>3</td>\n",
       "      <td>кафе</td>\n",
       "      <td>1396</td>\n",
       "      <td>6099</td>\n",
       "      <td>0.228890</td>\n",
       "    </tr>\n",
       "    <tr>\n",
       "      <td>2</td>\n",
       "      <td>закусочная</td>\n",
       "      <td>56</td>\n",
       "      <td>360</td>\n",
       "      <td>0.155556</td>\n",
       "    </tr>\n",
       "    <tr>\n",
       "      <td>4</td>\n",
       "      <td>кафетерий</td>\n",
       "      <td>52</td>\n",
       "      <td>398</td>\n",
       "      <td>0.130653</td>\n",
       "    </tr>\n",
       "    <tr>\n",
       "      <td>0</td>\n",
       "      <td>бар</td>\n",
       "      <td>37</td>\n",
       "      <td>856</td>\n",
       "      <td>0.043224</td>\n",
       "    </tr>\n",
       "    <tr>\n",
       "      <td>1</td>\n",
       "      <td>буфет</td>\n",
       "      <td>11</td>\n",
       "      <td>585</td>\n",
       "      <td>0.018803</td>\n",
       "    </tr>\n",
       "    <tr>\n",
       "      <td>8</td>\n",
       "      <td>столовая</td>\n",
       "      <td>3</td>\n",
       "      <td>2587</td>\n",
       "      <td>0.001160</td>\n",
       "    </tr>\n",
       "  </tbody>\n",
       "</table>\n",
       "</div>"
      ],
      "text/plain": [
       "                         object_type  n_chain_restaurant  all_restaurant  \\\n",
       "6  предприятие быстрого обслуживания                 791            1923   \n",
       "5          магазин (отдел кулинарии)                  78             273   \n",
       "7                           ресторан                 544            2285   \n",
       "3                               кафе                1396            6099   \n",
       "2                         закусочная                  56             360   \n",
       "4                          кафетерий                  52             398   \n",
       "0                                бар                  37             856   \n",
       "1                              буфет                  11             585   \n",
       "8                           столовая                   3            2587   \n",
       "\n",
       "   share_restaurant  \n",
       "6          0.411336  \n",
       "5          0.285714  \n",
       "7          0.238074  \n",
       "3          0.228890  \n",
       "2          0.155556  \n",
       "4          0.130653  \n",
       "0          0.043224  \n",
       "1          0.018803  \n",
       "8          0.001160  "
      ]
     },
     "metadata": {},
     "output_type": "display_data"
    }
   ],
   "source": [
    "share_restaurant = n_chain_restaurant.merge(all_restaurant, on='object_type')\n",
    "share_restaurant['share_restaurant'] = share_restaurant['n_chain_restaurant'] / share_restaurant['all_restaurant']\n",
    "share_restaurant = share_restaurant.sort_values(by='share_restaurant', ascending=False)\n",
    "display(share_restaurant)"
   ]
  },
  {
   "cell_type": "code",
   "execution_count": 14,
   "metadata": {},
   "outputs": [
    {
     "data": {
      "image/png": "[encoded data removed]",
      "text/plain": [
       "<Figure size 1728x1296 with 1 Axes>"
      ]
     },
     "metadata": {},
     "output_type": "display_data"
    }
   ],
   "source": [
    "# построил график \n",
    "x = share_restaurant['object_type']\n",
    "y = share_restaurant['share_restaurant']\n",
    "\n",
    "fig, ax_2 = plt.subplots()\n",
    "\n",
    "ax_2.bar(x, y)\n",
    "\n",
    "ax_2.set_facecolor('seashell')\n",
    "fig.set_facecolor('floralwhite')\n",
    "fig.set_figwidth(24)    #  ширина Figure\n",
    "fig.set_figheight(18)    #  высота Figure\n",
    "\n",
    "ax_2.set_ylabel('n_chain_restaurant')\n",
    "ax_2.set_title('N_Chain_Restaurant')\n",
    "\n",
    "ax_2.grid()\n",
    "\n",
    "plt.show()"
   ]
  },
  {
   "cell_type": "markdown",
   "metadata": {},
   "source": [
    "Вывод: Предприятие бытстрого обслуживания является лидером, среди объектов общественного питания для которого характерно сетевое распространение."
   ]
  },
  {
   "cell_type": "markdown",
   "metadata": {},
   "source": [
    "5.4 Что характерно для сетевых заведений: много заведений с небольшим числом посадочных мест в каждом или мало заведений с большим количеством посадочных мест?"
   ]
  },
  {
   "cell_type": "markdown",
   "metadata": {},
   "source": [
    "* Оценка количества посадочных мест для сетевых заведений."
   ]
  },
  {
   "cell_type": "code",
   "execution_count": 15,
   "metadata": {},
   "outputs": [
    {
     "data": {
      "text/plain": [
       "count    15366.000000\n",
       "mean        59.547182\n",
       "std         74.736833\n",
       "min          0.000000\n",
       "25%         12.000000\n",
       "50%         40.000000\n",
       "75%         80.000000\n",
       "max       1700.000000\n",
       "Name: number, dtype: float64"
      ]
     },
     "execution_count": 15,
     "metadata": {},
     "output_type": "execute_result"
    }
   ],
   "source": [
    "rest_df['number'].describe()"
   ]
  },
  {
   "cell_type": "markdown",
   "metadata": {},
   "source": [
    "Будем считать, что сетевые заведения в которых посадочных мест свыше 40 обладают большим количеством посадочных мест."
   ]
  },
  {
   "cell_type": "code",
   "execution_count": 16,
   "metadata": {},
   "outputs": [
    {
     "data": {
      "image/png": "[encoded data removed]",
      "text/plain": [
       "<Figure size 1800x1080 with 1 Axes>"
      ]
     },
     "metadata": {
      "needs_background": "light"
     },
     "output_type": "display_data"
    }
   ],
   "source": [
    "plt.figure(figsize=(25, 15))\n",
    "plt.title('Number_Of_Seats')\n",
    "plt.grid()\n",
    "sns.violinplot(x='object_type', y='number', data=chain_df, palette='rainbow', );"
   ]
  },
  {
   "cell_type": "code",
   "execution_count": 17,
   "metadata": {},
   "outputs": [
    {
     "data": {
      "image/png": "[encoded data removed]",
      "text/plain": [
       "<Figure size 1800x1080 with 1 Axes>"
      ]
     },
     "metadata": {
      "needs_background": "light"
     },
     "output_type": "display_data"
    }
   ],
   "source": [
    "plt.figure(figsize=(25, 15))\n",
    "plt.title('Number_Of_Seats')\n",
    "plt.grid()\n",
    "sns.scatterplot(x='object_type', y='number', data=chain_df);"
   ]
  },
  {
   "cell_type": "markdown",
   "metadata": {},
   "source": [
    "Вывод: Для кафе, предприятий быстрого обслуживания, ресторанов, баров и столовых характерно большое количество посадочных мест."
   ]
  },
  {
   "cell_type": "markdown",
   "metadata": {},
   "source": [
    "5.5 Для каждого вида объекта общественного питания опишите среднее количество посадочных мест. Какой вид предоставляет в среднем самое большое количество посадочных мест? Постройте графики."
   ]
  },
  {
   "cell_type": "code",
   "execution_count": 18,
   "metadata": {},
   "outputs": [
    {
     "data": {
      "image/png": "[encoded data removed]",
      "text/plain": [
       "<Figure size 1440x864 with 1 Axes>"
      ]
     },
     "metadata": {
      "needs_background": "light"
     },
     "output_type": "display_data"
    }
   ],
   "source": [
    "plt.figure(figsize=(20, 12))\n",
    "sns.violinplot(x='object_type', y='number', data=rest_df, palette='rainbow');"
   ]
  },
  {
   "cell_type": "code",
   "execution_count": 19,
   "metadata": {},
   "outputs": [
    {
     "data": {
      "image/png": "[encoded data removed]",
      "text/plain": [
       "<Figure size 1800x1080 with 1 Axes>"
      ]
     },
     "metadata": {
      "needs_background": "light"
     },
     "output_type": "display_data"
    }
   ],
   "source": [
    "plt.figure(figsize=(25, 15))\n",
    "sns.stripplot(x='object_type', y='number', data=rest_df);"
   ]
  },
  {
   "cell_type": "code",
   "execution_count": 20,
   "metadata": {},
   "outputs": [
    {
     "data": {
      "text/html": [
       "<div>\n",
       "<style scoped>\n",
       "    .dataframe tbody tr th:only-of-type {\n",
       "        vertical-align: middle;\n",
       "    }\n",
       "\n",
       "    .dataframe tbody tr th {\n",
       "        vertical-align: top;\n",
       "    }\n",
       "\n",
       "    .dataframe thead th {\n",
       "        text-align: right;\n",
       "    }\n",
       "</style>\n",
       "<table border=\"1\" class=\"dataframe\">\n",
       "  <thead>\n",
       "    <tr style=\"text-align: right;\">\n",
       "      <th></th>\n",
       "      <th>object_type</th>\n",
       "      <th>mean_seats</th>\n",
       "    </tr>\n",
       "  </thead>\n",
       "  <tbody>\n",
       "    <tr>\n",
       "      <td>8</td>\n",
       "      <td>столовая</td>\n",
       "      <td>130.246618</td>\n",
       "    </tr>\n",
       "    <tr>\n",
       "      <td>7</td>\n",
       "      <td>ресторан</td>\n",
       "      <td>96.834136</td>\n",
       "    </tr>\n",
       "    <tr>\n",
       "      <td>1</td>\n",
       "      <td>буфет</td>\n",
       "      <td>51.129915</td>\n",
       "    </tr>\n",
       "    <tr>\n",
       "      <td>0</td>\n",
       "      <td>бар</td>\n",
       "      <td>43.494159</td>\n",
       "    </tr>\n",
       "    <tr>\n",
       "      <td>3</td>\n",
       "      <td>кафе</td>\n",
       "      <td>39.716019</td>\n",
       "    </tr>\n",
       "    <tr>\n",
       "      <td>6</td>\n",
       "      <td>предприятие быстрого обслуживания</td>\n",
       "      <td>20.552262</td>\n",
       "    </tr>\n",
       "    <tr>\n",
       "      <td>4</td>\n",
       "      <td>кафетерий</td>\n",
       "      <td>9.123116</td>\n",
       "    </tr>\n",
       "    <tr>\n",
       "      <td>2</td>\n",
       "      <td>закусочная</td>\n",
       "      <td>7.608333</td>\n",
       "    </tr>\n",
       "    <tr>\n",
       "      <td>5</td>\n",
       "      <td>магазин (отдел кулинарии)</td>\n",
       "      <td>5.589744</td>\n",
       "    </tr>\n",
       "  </tbody>\n",
       "</table>\n",
       "</div>"
      ],
      "text/plain": [
       "                         object_type  mean_seats\n",
       "8                           столовая  130.246618\n",
       "7                           ресторан   96.834136\n",
       "1                              буфет   51.129915\n",
       "0                                бар   43.494159\n",
       "3                               кафе   39.716019\n",
       "6  предприятие быстрого обслуживания   20.552262\n",
       "4                          кафетерий    9.123116\n",
       "2                         закусочная    7.608333\n",
       "5          магазин (отдел кулинарии)    5.589744"
      ]
     },
     "execution_count": 20,
     "metadata": {},
     "output_type": "execute_result"
    }
   ],
   "source": [
    "mean_seats = rest_df.groupby('object_type').agg({'number': 'mean'}).reset_index()\n",
    "mean_seats.columns = ['object_type', 'mean_seats']\n",
    "\n",
    "mean_seats = mean_seats.sort_values(by='mean_seats', ascending=False)\n",
    "mean_seats"
   ]
  },
  {
   "cell_type": "markdown",
   "metadata": {},
   "source": [
    "Вывод: Рестораны и столовые имеют в среднем самое большое количество посадочных мест."
   ]
  },
  {
   "cell_type": "markdown",
   "metadata": {},
   "source": [
    "5.6 Выделите в отдельный столбец информацию об улице из столбца address.\n",
    "\n",
    "5.7 Постройте график топ-10 улиц по количеству объектов общественного питания. Воспользуйтесь внешней информацией и ответьте на вопрос — в каких районах Москвы находятся эти улицы?"
   ]
  },
  {
   "cell_type": "code",
   "execution_count": 21,
   "metadata": {},
   "outputs": [],
   "source": [
    "def get_street(address):\n",
    "    \n",
    "    result = re.search(',(.+?),', address)\n",
    "    if result:\n",
    "        found = result.group(1)\n",
    "        return found\n",
    "    return \"error\""
   ]
  },
  {
   "cell_type": "code",
   "execution_count": 22,
   "metadata": {},
   "outputs": [
    {
     "data": {
      "text/plain": [
       " город Зеленоград          232\n",
       " проспект Мира             204\n",
       " Профсоюзная улица         182\n",
       " Ленинградский проспект    171\n",
       " Пресненская набережная    167\n",
       " Варшавское шоссе          161\n",
       " Ленинский проспект        147\n",
       " поселение Сосенское       138\n",
       " проспект Вернадского      132\n",
       " Кутузовский проспект      114\n",
       " Каширское шоссе           112\n",
       " Кировоградская улица      110\n",
       "Name: street, dtype: int64"
      ]
     },
     "execution_count": 22,
     "metadata": {},
     "output_type": "execute_result"
    }
   ],
   "source": [
    "rest_df['street'] = rest_df['address'].apply(get_street)\n",
    "rest_df['street'].value_counts().head(12)"
   ]
  },
  {
   "cell_type": "code",
   "execution_count": 23,
   "metadata": {},
   "outputs": [
    {
     "data": {
      "text/html": [
       "<div>\n",
       "<style scoped>\n",
       "    .dataframe tbody tr th:only-of-type {\n",
       "        vertical-align: middle;\n",
       "    }\n",
       "\n",
       "    .dataframe tbody tr th {\n",
       "        vertical-align: top;\n",
       "    }\n",
       "\n",
       "    .dataframe thead th {\n",
       "        text-align: right;\n",
       "    }\n",
       "</style>\n",
       "<table border=\"1\" class=\"dataframe\">\n",
       "  <thead>\n",
       "    <tr style=\"text-align: right;\">\n",
       "      <th></th>\n",
       "      <th>street</th>\n",
       "      <th>object_name</th>\n",
       "    </tr>\n",
       "  </thead>\n",
       "  <tbody>\n",
       "    <tr>\n",
       "      <td>1331</td>\n",
       "      <td>город Зеленоград</td>\n",
       "      <td>232</td>\n",
       "    </tr>\n",
       "    <tr>\n",
       "      <td>1440</td>\n",
       "      <td>проспект Мира</td>\n",
       "      <td>204</td>\n",
       "    </tr>\n",
       "    <tr>\n",
       "      <td>993</td>\n",
       "      <td>Профсоюзная улица</td>\n",
       "      <td>182</td>\n",
       "    </tr>\n",
       "    <tr>\n",
       "      <td>683</td>\n",
       "      <td>Ленинградский проспект</td>\n",
       "      <td>171</td>\n",
       "    </tr>\n",
       "    <tr>\n",
       "      <td>979</td>\n",
       "      <td>Пресненская набережная</td>\n",
       "      <td>167</td>\n",
       "    </tr>\n",
       "    <tr>\n",
       "      <td>...</td>\n",
       "      <td>...</td>\n",
       "      <td>...</td>\n",
       "    </tr>\n",
       "    <tr>\n",
       "      <td>1340</td>\n",
       "      <td>дом 1</td>\n",
       "      <td>1</td>\n",
       "    </tr>\n",
       "    <tr>\n",
       "      <td>1342</td>\n",
       "      <td>дом 118Б</td>\n",
       "      <td>1</td>\n",
       "    </tr>\n",
       "    <tr>\n",
       "      <td>1343</td>\n",
       "      <td>дом 11А</td>\n",
       "      <td>1</td>\n",
       "    </tr>\n",
       "    <tr>\n",
       "      <td>1344</td>\n",
       "      <td>дом 16</td>\n",
       "      <td>1</td>\n",
       "    </tr>\n",
       "    <tr>\n",
       "      <td>944</td>\n",
       "      <td>Петровско-Разумовская аллея</td>\n",
       "      <td>1</td>\n",
       "    </tr>\n",
       "  </tbody>\n",
       "</table>\n",
       "<p>1889 rows × 2 columns</p>\n",
       "</div>"
      ],
      "text/plain": [
       "                            street  object_name\n",
       "1331              город Зеленоград          232\n",
       "1440                 проспект Мира          204\n",
       "993              Профсоюзная улица          182\n",
       "683         Ленинградский проспект          171\n",
       "979         Пресненская набережная          167\n",
       "...                            ...          ...\n",
       "1340                         дом 1            1\n",
       "1342                      дом 118Б            1\n",
       "1343                       дом 11А            1\n",
       "1344                        дом 16            1\n",
       "944    Петровско-Разумовская аллея            1\n",
       "\n",
       "[1889 rows x 2 columns]"
      ]
     },
     "execution_count": 23,
     "metadata": {},
     "output_type": "execute_result"
    }
   ],
   "source": [
    "streets_objects = rest_df.groupby('street').agg({'object_name':'count'}).reset_index().sort_values(by='object_name', ascending=False)\n",
    "\n",
    "streets_objects"
   ]
  },
  {
   "cell_type": "code",
   "execution_count": 24,
   "metadata": {},
   "outputs": [
    {
     "data": {
      "text/html": [
       "<div>\n",
       "<style scoped>\n",
       "    .dataframe tbody tr th:only-of-type {\n",
       "        vertical-align: middle;\n",
       "    }\n",
       "\n",
       "    .dataframe tbody tr th {\n",
       "        vertical-align: top;\n",
       "    }\n",
       "\n",
       "    .dataframe thead th {\n",
       "        text-align: right;\n",
       "    }\n",
       "</style>\n",
       "<table border=\"1\" class=\"dataframe\">\n",
       "  <thead>\n",
       "    <tr style=\"text-align: right;\">\n",
       "      <th></th>\n",
       "      <th>street</th>\n",
       "      <th>object_name</th>\n",
       "    </tr>\n",
       "  </thead>\n",
       "  <tbody>\n",
       "    <tr>\n",
       "      <td>1440</td>\n",
       "      <td>проспект Мира</td>\n",
       "      <td>204</td>\n",
       "    </tr>\n",
       "    <tr>\n",
       "      <td>993</td>\n",
       "      <td>Профсоюзная улица</td>\n",
       "      <td>182</td>\n",
       "    </tr>\n",
       "    <tr>\n",
       "      <td>683</td>\n",
       "      <td>Ленинградский проспект</td>\n",
       "      <td>171</td>\n",
       "    </tr>\n",
       "    <tr>\n",
       "      <td>979</td>\n",
       "      <td>Пресненская набережная</td>\n",
       "      <td>167</td>\n",
       "    </tr>\n",
       "    <tr>\n",
       "      <td>407</td>\n",
       "      <td>Варшавское шоссе</td>\n",
       "      <td>161</td>\n",
       "    </tr>\n",
       "    <tr>\n",
       "      <td>686</td>\n",
       "      <td>Ленинский проспект</td>\n",
       "      <td>147</td>\n",
       "    </tr>\n",
       "    <tr>\n",
       "      <td>1437</td>\n",
       "      <td>проспект Вернадского</td>\n",
       "      <td>132</td>\n",
       "    </tr>\n",
       "    <tr>\n",
       "      <td>674</td>\n",
       "      <td>Кутузовский проспект</td>\n",
       "      <td>114</td>\n",
       "    </tr>\n",
       "    <tr>\n",
       "      <td>600</td>\n",
       "      <td>Каширское шоссе</td>\n",
       "      <td>112</td>\n",
       "    </tr>\n",
       "    <tr>\n",
       "      <td>605</td>\n",
       "      <td>Кировоградская улица</td>\n",
       "      <td>110</td>\n",
       "    </tr>\n",
       "  </tbody>\n",
       "</table>\n",
       "</div>"
      ],
      "text/plain": [
       "                       street  object_name\n",
       "1440            проспект Мира          204\n",
       "993         Профсоюзная улица          182\n",
       "683    Ленинградский проспект          171\n",
       "979    Пресненская набережная          167\n",
       "407          Варшавское шоссе          161\n",
       "686        Ленинский проспект          147\n",
       "1437     проспект Вернадского          132\n",
       "674      Кутузовский проспект          114\n",
       "600           Каширское шоссе          112\n",
       "605      Кировоградская улица          110"
      ]
     },
     "execution_count": 24,
     "metadata": {},
     "output_type": "execute_result"
    }
   ],
   "source": [
    "streets_objects = streets_objects[1:12]\n",
    "streets_objects = streets_objects.drop(index=[1407])\n",
    "streets_objects"
   ]
  },
  {
   "cell_type": "code",
   "execution_count": 25,
   "metadata": {},
   "outputs": [
    {
     "data": {
      "image/png": "[encoded data removed]",
      "text/plain": [
       "<Figure size 1800x1080 with 1 Axes>"
      ]
     },
     "metadata": {
      "needs_background": "light"
     },
     "output_type": "display_data"
    }
   ],
   "source": [
    "streets_objects.plot(x='street', grid=True, kind='bar', figsize=(25, 15), title='TOP_10')\n",
    "plt.show()"
   ]
  },
  {
   "cell_type": "code",
   "execution_count": 26,
   "metadata": {},
   "outputs": [],
   "source": [
    "API_URL = 'https://geocode-maps.yandex.ru/1.x'\n",
    "\n",
    "token='def4741e-aaac-4c1e-8240-0597923a0110'"
   ]
  },
  {
   "cell_type": "code",
   "execution_count": 27,
   "metadata": {},
   "outputs": [],
   "source": [
    "def get_district(address):\n",
    "    \n",
    "    params = {\n",
    "        'geocode' : 'город Москва, '+address, \n",
    "        'format' : 'json',\n",
    "        'apikey' : token\n",
    "    }\n",
    "    \n",
    "    r = requests.get(API_URL, params=params)\n",
    "    \n",
    "    #получаем координаты\n",
    "    coordinates = r.json()['response']['GeoObjectCollection']['featureMember'][0]['GeoObject']['Point']['pos']\n",
    "    #делаем запрос по координатам, чтобы получить район\n",
    "    params={\n",
    "        \"geocode\": ','.join(coordinates.split(' ')),\n",
    "        \"apikey\": token,\n",
    "        \"format\": \"json\",\n",
    "    }\n",
    "    \n",
    "    r = requests.get(API_URL, params=params)\n",
    "    district = r.json()['response']['GeoObjectCollection']['featureMember'][1]['GeoObject']['metaDataProperty']['GeocoderMetaData']['text']\n",
    "    return district"
   ]
  },
  {
   "cell_type": "code",
   "execution_count": 28,
   "metadata": {},
   "outputs": [
    {
     "data": {
      "text/html": [
       "<div>\n",
       "<style scoped>\n",
       "    .dataframe tbody tr th:only-of-type {\n",
       "        vertical-align: middle;\n",
       "    }\n",
       "\n",
       "    .dataframe tbody tr th {\n",
       "        vertical-align: top;\n",
       "    }\n",
       "\n",
       "    .dataframe thead th {\n",
       "        text-align: right;\n",
       "    }\n",
       "</style>\n",
       "<table border=\"1\" class=\"dataframe\">\n",
       "  <thead>\n",
       "    <tr style=\"text-align: right;\">\n",
       "      <th></th>\n",
       "      <th>street</th>\n",
       "      <th>object_name</th>\n",
       "      <th>district</th>\n",
       "    </tr>\n",
       "  </thead>\n",
       "  <tbody>\n",
       "    <tr>\n",
       "      <td>1440</td>\n",
       "      <td>проспект Мира</td>\n",
       "      <td>204</td>\n",
       "      <td>Россия, Москва, Северо-Восточный административ...</td>\n",
       "    </tr>\n",
       "    <tr>\n",
       "      <td>993</td>\n",
       "      <td>Профсоюзная улица</td>\n",
       "      <td>182</td>\n",
       "      <td>Россия, Москва, Юго-Западный административный ...</td>\n",
       "    </tr>\n",
       "    <tr>\n",
       "      <td>683</td>\n",
       "      <td>Ленинградский проспект</td>\n",
       "      <td>171</td>\n",
       "      <td>Россия, Москва, Северный административный окру...</td>\n",
       "    </tr>\n",
       "    <tr>\n",
       "      <td>979</td>\n",
       "      <td>Пресненская набережная</td>\n",
       "      <td>167</td>\n",
       "      <td>Россия, Москва, Центральный административный о...</td>\n",
       "    </tr>\n",
       "    <tr>\n",
       "      <td>407</td>\n",
       "      <td>Варшавское шоссе</td>\n",
       "      <td>161</td>\n",
       "      <td>Россия, Москва, Южный административный округ, ...</td>\n",
       "    </tr>\n",
       "    <tr>\n",
       "      <td>686</td>\n",
       "      <td>Ленинский проспект</td>\n",
       "      <td>147</td>\n",
       "      <td>Россия, Москва, Юго-Западный административный ...</td>\n",
       "    </tr>\n",
       "    <tr>\n",
       "      <td>1437</td>\n",
       "      <td>проспект Вернадского</td>\n",
       "      <td>132</td>\n",
       "      <td>Россия, Москва, Юго-Западный административный ...</td>\n",
       "    </tr>\n",
       "    <tr>\n",
       "      <td>674</td>\n",
       "      <td>Кутузовский проспект</td>\n",
       "      <td>114</td>\n",
       "      <td>Россия, Москва, Западный административный окру...</td>\n",
       "    </tr>\n",
       "    <tr>\n",
       "      <td>600</td>\n",
       "      <td>Каширское шоссе</td>\n",
       "      <td>112</td>\n",
       "      <td>Россия, Москва, Южный административный округ, ...</td>\n",
       "    </tr>\n",
       "    <tr>\n",
       "      <td>605</td>\n",
       "      <td>Кировоградская улица</td>\n",
       "      <td>110</td>\n",
       "      <td>Россия, Москва, Южный административный округ, ...</td>\n",
       "    </tr>\n",
       "  </tbody>\n",
       "</table>\n",
       "</div>"
      ],
      "text/plain": [
       "                       street  object_name  \\\n",
       "1440            проспект Мира          204   \n",
       "993         Профсоюзная улица          182   \n",
       "683    Ленинградский проспект          171   \n",
       "979    Пресненская набережная          167   \n",
       "407          Варшавское шоссе          161   \n",
       "686        Ленинский проспект          147   \n",
       "1437     проспект Вернадского          132   \n",
       "674      Кутузовский проспект          114   \n",
       "600           Каширское шоссе          112   \n",
       "605      Кировоградская улица          110   \n",
       "\n",
       "                                               district  \n",
       "1440  Россия, Москва, Северо-Восточный административ...  \n",
       "993   Россия, Москва, Юго-Западный административный ...  \n",
       "683   Россия, Москва, Северный административный окру...  \n",
       "979   Россия, Москва, Центральный административный о...  \n",
       "407   Россия, Москва, Южный административный округ, ...  \n",
       "686   Россия, Москва, Юго-Западный административный ...  \n",
       "1437  Россия, Москва, Юго-Западный административный ...  \n",
       "674   Россия, Москва, Западный административный окру...  \n",
       "600   Россия, Москва, Южный административный округ, ...  \n",
       "605   Россия, Москва, Южный административный округ, ...  "
      ]
     },
     "execution_count": 28,
     "metadata": {},
     "output_type": "execute_result"
    }
   ],
   "source": [
    "streets_objects['district'] = streets_objects['street'].apply(get_district)\n",
    "streets_objects"
   ]
  },
  {
   "cell_type": "markdown",
   "metadata": {},
   "source": [
    "* Районы ТОП-10 улиц по количеству объектов общественного питания."
   ]
  },
  {
   "cell_type": "code",
   "execution_count": 29,
   "metadata": {},
   "outputs": [
    {
     "data": {
      "text/html": [
       "<div>\n",
       "<style scoped>\n",
       "    .dataframe tbody tr th:only-of-type {\n",
       "        vertical-align: middle;\n",
       "    }\n",
       "\n",
       "    .dataframe tbody tr th {\n",
       "        vertical-align: top;\n",
       "    }\n",
       "\n",
       "    .dataframe thead th {\n",
       "        text-align: right;\n",
       "    }\n",
       "</style>\n",
       "<table border=\"1\" class=\"dataframe\">\n",
       "  <thead>\n",
       "    <tr style=\"text-align: right;\">\n",
       "      <th></th>\n",
       "      <th>street</th>\n",
       "      <th>district</th>\n",
       "    </tr>\n",
       "  </thead>\n",
       "  <tbody>\n",
       "    <tr>\n",
       "      <td>0</td>\n",
       "      <td>проспект Мира</td>\n",
       "      <td>Алексеевский район</td>\n",
       "    </tr>\n",
       "    <tr>\n",
       "      <td>1</td>\n",
       "      <td>проспект Мира</td>\n",
       "      <td>Мещанский район</td>\n",
       "    </tr>\n",
       "    <tr>\n",
       "      <td>2</td>\n",
       "      <td>проспект Мира</td>\n",
       "      <td>Ростокино район</td>\n",
       "    </tr>\n",
       "    <tr>\n",
       "      <td>3</td>\n",
       "      <td>проспект Мира</td>\n",
       "      <td>Ярославский район</td>\n",
       "    </tr>\n",
       "    <tr>\n",
       "      <td>4</td>\n",
       "      <td>профсоюзная</td>\n",
       "      <td>Академический</td>\n",
       "    </tr>\n",
       "    <tr>\n",
       "      <td>5</td>\n",
       "      <td>профсоюзная</td>\n",
       "      <td>Коньково</td>\n",
       "    </tr>\n",
       "    <tr>\n",
       "      <td>6</td>\n",
       "      <td>профсоюзная</td>\n",
       "      <td>Черемушки</td>\n",
       "    </tr>\n",
       "    <tr>\n",
       "      <td>7</td>\n",
       "      <td>профсоюзная</td>\n",
       "      <td>Теплый Стан</td>\n",
       "    </tr>\n",
       "    <tr>\n",
       "      <td>8</td>\n",
       "      <td>профсоюзная</td>\n",
       "      <td>Ясенево</td>\n",
       "    </tr>\n",
       "    <tr>\n",
       "      <td>9</td>\n",
       "      <td>ленинградский проспект</td>\n",
       "      <td>Аэропорт</td>\n",
       "    </tr>\n",
       "    <tr>\n",
       "      <td>10</td>\n",
       "      <td>ленинградский проспект</td>\n",
       "      <td>Беговой</td>\n",
       "    </tr>\n",
       "    <tr>\n",
       "      <td>11</td>\n",
       "      <td>ленинградский проспект</td>\n",
       "      <td>Сокол</td>\n",
       "    </tr>\n",
       "    <tr>\n",
       "      <td>12</td>\n",
       "      <td>ленинградский проспект</td>\n",
       "      <td>Хорошевский</td>\n",
       "    </tr>\n",
       "    <tr>\n",
       "      <td>13</td>\n",
       "      <td>пресненская набережная</td>\n",
       "      <td>Пресненский</td>\n",
       "    </tr>\n",
       "    <tr>\n",
       "      <td>14</td>\n",
       "      <td>варшавское шоссе</td>\n",
       "      <td>Северное Бутово</td>\n",
       "    </tr>\n",
       "    <tr>\n",
       "      <td>15</td>\n",
       "      <td>варшавское шоссе</td>\n",
       "      <td>Южное Бутово</td>\n",
       "    </tr>\n",
       "    <tr>\n",
       "      <td>16</td>\n",
       "      <td>варшавское шоссе</td>\n",
       "      <td>Донской</td>\n",
       "    </tr>\n",
       "    <tr>\n",
       "      <td>17</td>\n",
       "      <td>варшавское шоссе</td>\n",
       "      <td>Нагатино-Садовники</td>\n",
       "    </tr>\n",
       "    <tr>\n",
       "      <td>18</td>\n",
       "      <td>варшавское шоссе</td>\n",
       "      <td>Нагорный</td>\n",
       "    </tr>\n",
       "    <tr>\n",
       "      <td>19</td>\n",
       "      <td>варшавское шоссе</td>\n",
       "      <td>Северное Чертаново</td>\n",
       "    </tr>\n",
       "    <tr>\n",
       "      <td>20</td>\n",
       "      <td>варшавское шоссе</td>\n",
       "      <td>Центральное Чертаново</td>\n",
       "    </tr>\n",
       "    <tr>\n",
       "      <td>21</td>\n",
       "      <td>варшавское шоссе</td>\n",
       "      <td>Южное Чертаново</td>\n",
       "    </tr>\n",
       "    <tr>\n",
       "      <td>22</td>\n",
       "      <td>ленинский проспект</td>\n",
       "      <td>Гагаринский</td>\n",
       "    </tr>\n",
       "    <tr>\n",
       "      <td>23</td>\n",
       "      <td>ленинский проспект</td>\n",
       "      <td>Донской</td>\n",
       "    </tr>\n",
       "    <tr>\n",
       "      <td>24</td>\n",
       "      <td>ленинский проспект</td>\n",
       "      <td>Ломоносовский</td>\n",
       "    </tr>\n",
       "    <tr>\n",
       "      <td>25</td>\n",
       "      <td>ленинский проспект</td>\n",
       "      <td>Обручевский</td>\n",
       "    </tr>\n",
       "    <tr>\n",
       "      <td>26</td>\n",
       "      <td>ленинский проспект</td>\n",
       "      <td>Проспект Вернадского</td>\n",
       "    </tr>\n",
       "    <tr>\n",
       "      <td>27</td>\n",
       "      <td>ленинский проспект</td>\n",
       "      <td>Тёплый Стан</td>\n",
       "    </tr>\n",
       "    <tr>\n",
       "      <td>28</td>\n",
       "      <td>ленинский проспект</td>\n",
       "      <td>Тропарёво-Никулино</td>\n",
       "    </tr>\n",
       "    <tr>\n",
       "      <td>29</td>\n",
       "      <td>ленинский проспект</td>\n",
       "      <td>Якиманка</td>\n",
       "    </tr>\n",
       "    <tr>\n",
       "      <td>30</td>\n",
       "      <td>проспект Вернадского</td>\n",
       "      <td>Гагаринский</td>\n",
       "    </tr>\n",
       "    <tr>\n",
       "      <td>31</td>\n",
       "      <td>проспект Вернадского</td>\n",
       "      <td>Ломоносовский</td>\n",
       "    </tr>\n",
       "    <tr>\n",
       "      <td>32</td>\n",
       "      <td>проспект Вернадского</td>\n",
       "      <td>Проспект Вернадского</td>\n",
       "    </tr>\n",
       "    <tr>\n",
       "      <td>33</td>\n",
       "      <td>проспект Вернадского</td>\n",
       "      <td>Раменки</td>\n",
       "    </tr>\n",
       "    <tr>\n",
       "      <td>34</td>\n",
       "      <td>проспект Вернадского</td>\n",
       "      <td>Тропарёво-Никулино</td>\n",
       "    </tr>\n",
       "    <tr>\n",
       "      <td>35</td>\n",
       "      <td>Кутузовский проспект</td>\n",
       "      <td>Дорогомилово</td>\n",
       "    </tr>\n",
       "    <tr>\n",
       "      <td>36</td>\n",
       "      <td>Кутузовский проспект</td>\n",
       "      <td>Фили-Давыдково</td>\n",
       "    </tr>\n",
       "    <tr>\n",
       "      <td>37</td>\n",
       "      <td>Каширское шоссе</td>\n",
       "      <td>Москворечье-Сабурово</td>\n",
       "    </tr>\n",
       "    <tr>\n",
       "      <td>38</td>\n",
       "      <td>Каширское шоссе</td>\n",
       "      <td>Нагатино-Садовники</td>\n",
       "    </tr>\n",
       "    <tr>\n",
       "      <td>39</td>\n",
       "      <td>Каширское шоссе</td>\n",
       "      <td>Северное Орехово-Борисово</td>\n",
       "    </tr>\n",
       "    <tr>\n",
       "      <td>40</td>\n",
       "      <td>Каширское шоссе</td>\n",
       "      <td>Южное Орехово-Борисово</td>\n",
       "    </tr>\n",
       "    <tr>\n",
       "      <td>41</td>\n",
       "      <td>Кировоградская</td>\n",
       "      <td>Северное Чертаново</td>\n",
       "    </tr>\n",
       "    <tr>\n",
       "      <td>42</td>\n",
       "      <td>Кировоградская</td>\n",
       "      <td>Центральное Чертаново</td>\n",
       "    </tr>\n",
       "    <tr>\n",
       "      <td>43</td>\n",
       "      <td>Кировоградская</td>\n",
       "      <td>Южное Чертаново</td>\n",
       "    </tr>\n",
       "  </tbody>\n",
       "</table>\n",
       "</div>"
      ],
      "text/plain": [
       "                    street                   district\n",
       "0            проспект Мира         Алексеевский район\n",
       "1            проспект Мира            Мещанский район\n",
       "2            проспект Мира            Ростокино район\n",
       "3            проспект Мира          Ярославский район\n",
       "4             профсоюзная               Академический\n",
       "5             профсоюзная                    Коньково\n",
       "6             профсоюзная                   Черемушки\n",
       "7             профсоюзная                 Теплый Стан\n",
       "8              профсоюзная                    Ясенево\n",
       "9   ленинградский проспект                   Аэропорт\n",
       "10  ленинградский проспект                    Беговой\n",
       "11  ленинградский проспект                      Сокол\n",
       "12  ленинградский проспект                Хорошевский\n",
       "13  пресненская набережная                Пресненский\n",
       "14        варшавское шоссе            Северное Бутово\n",
       "15        варшавское шоссе               Южное Бутово\n",
       "16        варшавское шоссе                    Донской\n",
       "17        варшавское шоссе         Нагатино-Садовники\n",
       "18        варшавское шоссе                   Нагорный\n",
       "19        варшавское шоссе         Северное Чертаново\n",
       "20        варшавское шоссе      Центральное Чертаново\n",
       "21        варшавское шоссе            Южное Чертаново\n",
       "22      ленинский проспект                Гагаринский\n",
       "23      ленинский проспект                    Донской\n",
       "24      ленинский проспект              Ломоносовский\n",
       "25      ленинский проспект                Обручевский\n",
       "26      ленинский проспект       Проспект Вернадского\n",
       "27      ленинский проспект                Тёплый Стан\n",
       "28      ленинский проспект         Тропарёво-Никулино\n",
       "29      ленинский проспект                   Якиманка\n",
       "30    проспект Вернадского                Гагаринский\n",
       "31    проспект Вернадского              Ломоносовский\n",
       "32    проспект Вернадского       Проспект Вернадского\n",
       "33    проспект Вернадского                    Раменки\n",
       "34    проспект Вернадского         Тропарёво-Никулино\n",
       "35    Кутузовский проспект              Дорогомилово \n",
       "36    Кутузовский проспект             Фили-Давыдково\n",
       "37         Каширское шоссе       Москворечье-Сабурово\n",
       "38         Каширское шоссе         Нагатино-Садовники\n",
       "39         Каширское шоссе  Северное Орехово-Борисово\n",
       "40         Каширское шоссе     Южное Орехово-Борисово\n",
       "41          Кировоградская         Северное Чертаново\n",
       "42          Кировоградская      Центральное Чертаново\n",
       "43          Кировоградская            Южное Чертаново"
      ]
     },
     "execution_count": 29,
     "metadata": {},
     "output_type": "execute_result"
    }
   ],
   "source": [
    "from io import BytesIO\n",
    "spreadsheet_id = '1Iyg0hTE_do0z7Qv_2EtPhppa73iDAIklQdfj163sn-Y'\n",
    "file_name = 'https://docs.google.com/spreadsheets/d/{}/export?format=csv'.format(spreadsheet_id)\n",
    "r = requests.get(file_name)\n",
    "df = pd.read_csv(BytesIO(r.content))\n",
    "df"
   ]
  },
  {
   "cell_type": "markdown",
   "metadata": {},
   "source": [
    "5.8 Найдите число улиц с одним объектом общественного питания. Воспользуйтесь внешней информацией и ответьте на вопрос — в каких районах Москвы находятся эти улицы?"
   ]
  },
  {
   "cell_type": "code",
   "execution_count": 30,
   "metadata": {},
   "outputs": [
    {
     "data": {
      "text/html": [
       "<div>\n",
       "<style scoped>\n",
       "    .dataframe tbody tr th:only-of-type {\n",
       "        vertical-align: middle;\n",
       "    }\n",
       "\n",
       "    .dataframe tbody tr th {\n",
       "        vertical-align: top;\n",
       "    }\n",
       "\n",
       "    .dataframe thead th {\n",
       "        text-align: right;\n",
       "    }\n",
       "</style>\n",
       "<table border=\"1\" class=\"dataframe\">\n",
       "  <thead>\n",
       "    <tr style=\"text-align: right;\">\n",
       "      <th></th>\n",
       "      <th>id</th>\n",
       "      <th>object_name</th>\n",
       "      <th>chain</th>\n",
       "      <th>object_type</th>\n",
       "      <th>address</th>\n",
       "      <th>number</th>\n",
       "      <th>street</th>\n",
       "    </tr>\n",
       "  </thead>\n",
       "  <tbody>\n",
       "    <tr>\n",
       "      <td>0</td>\n",
       "      <td>151635</td>\n",
       "      <td>сметана</td>\n",
       "      <td>нет</td>\n",
       "      <td>кафе</td>\n",
       "      <td>город Москва, улица Егора Абакумова, дом 9</td>\n",
       "      <td>48</td>\n",
       "      <td>улица Егора Абакумова</td>\n",
       "    </tr>\n",
       "    <tr>\n",
       "      <td>1</td>\n",
       "      <td>77874</td>\n",
       "      <td>родник</td>\n",
       "      <td>нет</td>\n",
       "      <td>кафе</td>\n",
       "      <td>город Москва, улица Талалихина, дом 2/1, корпус 1</td>\n",
       "      <td>35</td>\n",
       "      <td>улица Талалихина</td>\n",
       "    </tr>\n",
       "    <tr>\n",
       "      <td>2</td>\n",
       "      <td>24309</td>\n",
       "      <td>кафе «академия»</td>\n",
       "      <td>нет</td>\n",
       "      <td>кафе</td>\n",
       "      <td>город Москва, Абельмановская улица, дом 6</td>\n",
       "      <td>95</td>\n",
       "      <td>Абельмановская улица</td>\n",
       "    </tr>\n",
       "    <tr>\n",
       "      <td>3</td>\n",
       "      <td>21894</td>\n",
       "      <td>пиццетория</td>\n",
       "      <td>да</td>\n",
       "      <td>кафе</td>\n",
       "      <td>город Москва, Абрамцевская улица, дом 1</td>\n",
       "      <td>40</td>\n",
       "      <td>Абрамцевская улица</td>\n",
       "    </tr>\n",
       "    <tr>\n",
       "      <td>4</td>\n",
       "      <td>119365</td>\n",
       "      <td>кафе «вишневая метель»</td>\n",
       "      <td>нет</td>\n",
       "      <td>кафе</td>\n",
       "      <td>город Москва, Абрамцевская улица, дом 9, корпус 1</td>\n",
       "      <td>50</td>\n",
       "      <td>Абрамцевская улица</td>\n",
       "    </tr>\n",
       "  </tbody>\n",
       "</table>\n",
       "</div>"
      ],
      "text/plain": [
       "       id             object_name chain object_type  \\\n",
       "0  151635                 сметана   нет        кафе   \n",
       "1   77874                  родник   нет        кафе   \n",
       "2   24309         кафе «академия»   нет        кафе   \n",
       "3   21894              пиццетория    да        кафе   \n",
       "4  119365  кафе «вишневая метель»   нет        кафе   \n",
       "\n",
       "                                             address  number  \\\n",
       "0         город Москва, улица Егора Абакумова, дом 9      48   \n",
       "1  город Москва, улица Талалихина, дом 2/1, корпус 1      35   \n",
       "2          город Москва, Абельмановская улица, дом 6      95   \n",
       "3            город Москва, Абрамцевская улица, дом 1      40   \n",
       "4  город Москва, Абрамцевская улица, дом 9, корпус 1      50   \n",
       "\n",
       "                   street  \n",
       "0   улица Егора Абакумова  \n",
       "1        улица Талалихина  \n",
       "2    Абельмановская улица  \n",
       "3      Абрамцевская улица  \n",
       "4      Абрамцевская улица  "
      ]
     },
     "execution_count": 30,
     "metadata": {},
     "output_type": "execute_result"
    }
   ],
   "source": [
    "rest_df.head()"
   ]
  },
  {
   "cell_type": "code",
   "execution_count": 31,
   "metadata": {},
   "outputs": [
    {
     "data": {
      "text/plain": [
       "street    571\n",
       "count     571\n",
       "dtype: int64"
      ]
     },
     "execution_count": 31,
     "metadata": {},
     "output_type": "execute_result"
    }
   ],
   "source": [
    "n_street = rest_df.groupby(\"street\").agg({'id': 'count'}).reset_index()\n",
    "n_street.columns = ['street', 'count']\n",
    "n_street.loc[n_street.loc[:,'count'] == 1].count()"
   ]
  },
  {
   "cell_type": "code",
   "execution_count": 32,
   "metadata": {},
   "outputs": [
    {
     "ename": "KeyboardInterrupt",
     "evalue": "",
     "output_type": "error",
     "traceback": [
      "\u001b[0;31m---------------------------------------------------------------------------\u001b[0m",
      "\u001b[0;31mKeyboardInterrupt\u001b[0m                         Traceback (most recent call last)",
      "\u001b[0;32m<ipython-input-32-c9a77132e501>\u001b[0m in \u001b[0;36m<module>\u001b[0;34m\u001b[0m\n\u001b[1;32m      1\u001b[0m \u001b[0mn_street_1\u001b[0m \u001b[0;34m=\u001b[0m \u001b[0mn_street\u001b[0m\u001b[0;34m.\u001b[0m\u001b[0mquery\u001b[0m\u001b[0;34m(\u001b[0m\u001b[0;34m'count == 1'\u001b[0m\u001b[0;34m)\u001b[0m\u001b[0;34m\u001b[0m\u001b[0;34m\u001b[0m\u001b[0m\n\u001b[0;32m----> 2\u001b[0;31m \u001b[0mn_street_1\u001b[0m\u001b[0;34m[\u001b[0m\u001b[0;34m'district_1'\u001b[0m\u001b[0;34m]\u001b[0m \u001b[0;34m=\u001b[0m \u001b[0mn_street_1\u001b[0m\u001b[0;34m[\u001b[0m\u001b[0;34m'street'\u001b[0m\u001b[0;34m]\u001b[0m\u001b[0;34m.\u001b[0m\u001b[0mapply\u001b[0m\u001b[0;34m(\u001b[0m\u001b[0mget_district\u001b[0m\u001b[0;34m)\u001b[0m\u001b[0;34m\u001b[0m\u001b[0;34m\u001b[0m\u001b[0m\n\u001b[0m\u001b[1;32m      3\u001b[0m \u001b[0mn_street_1\u001b[0m\u001b[0;34m\u001b[0m\u001b[0;34m\u001b[0m\u001b[0m\n",
      "\u001b[0;32m/opt/conda/lib/python3.7/site-packages/pandas/core/series.py\u001b[0m in \u001b[0;36mapply\u001b[0;34m(self, func, convert_dtype, args, **kwds)\u001b[0m\n\u001b[1;32m   4040\u001b[0m             \u001b[0;32melse\u001b[0m\u001b[0;34m:\u001b[0m\u001b[0;34m\u001b[0m\u001b[0;34m\u001b[0m\u001b[0m\n\u001b[1;32m   4041\u001b[0m                 \u001b[0mvalues\u001b[0m \u001b[0;34m=\u001b[0m \u001b[0mself\u001b[0m\u001b[0;34m.\u001b[0m\u001b[0mastype\u001b[0m\u001b[0;34m(\u001b[0m\u001b[0mobject\u001b[0m\u001b[0;34m)\u001b[0m\u001b[0;34m.\u001b[0m\u001b[0mvalues\u001b[0m\u001b[0;34m\u001b[0m\u001b[0;34m\u001b[0m\u001b[0m\n\u001b[0;32m-> 4042\u001b[0;31m                 \u001b[0mmapped\u001b[0m \u001b[0;34m=\u001b[0m \u001b[0mlib\u001b[0m\u001b[0;34m.\u001b[0m\u001b[0mmap_infer\u001b[0m\u001b[0;34m(\u001b[0m\u001b[0mvalues\u001b[0m\u001b[0;34m,\u001b[0m \u001b[0mf\u001b[0m\u001b[0;34m,\u001b[0m \u001b[0mconvert\u001b[0m\u001b[0;34m=\u001b[0m\u001b[0mconvert_dtype\u001b[0m\u001b[0;34m)\u001b[0m\u001b[0;34m\u001b[0m\u001b[0;34m\u001b[0m\u001b[0m\n\u001b[0m\u001b[1;32m   4043\u001b[0m \u001b[0;34m\u001b[0m\u001b[0m\n\u001b[1;32m   4044\u001b[0m         \u001b[0;32mif\u001b[0m \u001b[0mlen\u001b[0m\u001b[0;34m(\u001b[0m\u001b[0mmapped\u001b[0m\u001b[0;34m)\u001b[0m \u001b[0;32mand\u001b[0m \u001b[0misinstance\u001b[0m\u001b[0;34m(\u001b[0m\u001b[0mmapped\u001b[0m\u001b[0;34m[\u001b[0m\u001b[0;36m0\u001b[0m\u001b[0;34m]\u001b[0m\u001b[0;34m,\u001b[0m \u001b[0mSeries\u001b[0m\u001b[0;34m)\u001b[0m\u001b[0;34m:\u001b[0m\u001b[0;34m\u001b[0m\u001b[0;34m\u001b[0m\u001b[0m\n",
      "\u001b[0;32mpandas/_libs/lib.pyx\u001b[0m in \u001b[0;36mpandas._libs.lib.map_infer\u001b[0;34m()\u001b[0m\n",
      "\u001b[0;32m<ipython-input-27-d6adc221358c>\u001b[0m in \u001b[0;36mget_district\u001b[0;34m(address)\u001b[0m\n\u001b[1;32m     18\u001b[0m     }\n\u001b[1;32m     19\u001b[0m \u001b[0;34m\u001b[0m\u001b[0m\n\u001b[0;32m---> 20\u001b[0;31m     \u001b[0mr\u001b[0m \u001b[0;34m=\u001b[0m \u001b[0mrequests\u001b[0m\u001b[0;34m.\u001b[0m\u001b[0mget\u001b[0m\u001b[0;34m(\u001b[0m\u001b[0mAPI_URL\u001b[0m\u001b[0;34m,\u001b[0m \u001b[0mparams\u001b[0m\u001b[0;34m=\u001b[0m\u001b[0mparams\u001b[0m\u001b[0;34m)\u001b[0m\u001b[0;34m\u001b[0m\u001b[0;34m\u001b[0m\u001b[0m\n\u001b[0m\u001b[1;32m     21\u001b[0m     \u001b[0mdistrict\u001b[0m \u001b[0;34m=\u001b[0m \u001b[0mr\u001b[0m\u001b[0;34m.\u001b[0m\u001b[0mjson\u001b[0m\u001b[0;34m(\u001b[0m\u001b[0;34m)\u001b[0m\u001b[0;34m[\u001b[0m\u001b[0;34m'response'\u001b[0m\u001b[0;34m]\u001b[0m\u001b[0;34m[\u001b[0m\u001b[0;34m'GeoObjectCollection'\u001b[0m\u001b[0;34m]\u001b[0m\u001b[0;34m[\u001b[0m\u001b[0;34m'featureMember'\u001b[0m\u001b[0;34m]\u001b[0m\u001b[0;34m[\u001b[0m\u001b[0;36m1\u001b[0m\u001b[0;34m]\u001b[0m\u001b[0;34m[\u001b[0m\u001b[0;34m'GeoObject'\u001b[0m\u001b[0;34m]\u001b[0m\u001b[0;34m[\u001b[0m\u001b[0;34m'metaDataProperty'\u001b[0m\u001b[0;34m]\u001b[0m\u001b[0;34m[\u001b[0m\u001b[0;34m'GeocoderMetaData'\u001b[0m\u001b[0;34m]\u001b[0m\u001b[0;34m[\u001b[0m\u001b[0;34m'text'\u001b[0m\u001b[0;34m]\u001b[0m\u001b[0;34m\u001b[0m\u001b[0;34m\u001b[0m\u001b[0m\n\u001b[1;32m     22\u001b[0m     \u001b[0;32mreturn\u001b[0m \u001b[0mdistrict\u001b[0m\u001b[0;34m\u001b[0m\u001b[0;34m\u001b[0m\u001b[0m\n",
      "\u001b[0;32m/opt/conda/lib/python3.7/site-packages/requests/api.py\u001b[0m in \u001b[0;36mget\u001b[0;34m(url, params, **kwargs)\u001b[0m\n\u001b[1;32m     73\u001b[0m \u001b[0;34m\u001b[0m\u001b[0m\n\u001b[1;32m     74\u001b[0m     \u001b[0mkwargs\u001b[0m\u001b[0;34m.\u001b[0m\u001b[0msetdefault\u001b[0m\u001b[0;34m(\u001b[0m\u001b[0;34m'allow_redirects'\u001b[0m\u001b[0;34m,\u001b[0m \u001b[0;32mTrue\u001b[0m\u001b[0;34m)\u001b[0m\u001b[0;34m\u001b[0m\u001b[0;34m\u001b[0m\u001b[0m\n\u001b[0;32m---> 75\u001b[0;31m     \u001b[0;32mreturn\u001b[0m \u001b[0mrequest\u001b[0m\u001b[0;34m(\u001b[0m\u001b[0;34m'get'\u001b[0m\u001b[0;34m,\u001b[0m \u001b[0murl\u001b[0m\u001b[0;34m,\u001b[0m \u001b[0mparams\u001b[0m\u001b[0;34m=\u001b[0m\u001b[0mparams\u001b[0m\u001b[0;34m,\u001b[0m \u001b[0;34m**\u001b[0m\u001b[0mkwargs\u001b[0m\u001b[0;34m)\u001b[0m\u001b[0;34m\u001b[0m\u001b[0;34m\u001b[0m\u001b[0m\n\u001b[0m\u001b[1;32m     76\u001b[0m \u001b[0;34m\u001b[0m\u001b[0m\n\u001b[1;32m     77\u001b[0m \u001b[0;34m\u001b[0m\u001b[0m\n",
      "\u001b[0;32m/opt/conda/lib/python3.7/site-packages/requests/api.py\u001b[0m in \u001b[0;36mrequest\u001b[0;34m(method, url, **kwargs)\u001b[0m\n\u001b[1;32m     58\u001b[0m     \u001b[0;31m# cases, and look like a memory leak in others.\u001b[0m\u001b[0;34m\u001b[0m\u001b[0;34m\u001b[0m\u001b[0;34m\u001b[0m\u001b[0m\n\u001b[1;32m     59\u001b[0m     \u001b[0;32mwith\u001b[0m \u001b[0msessions\u001b[0m\u001b[0;34m.\u001b[0m\u001b[0mSession\u001b[0m\u001b[0;34m(\u001b[0m\u001b[0;34m)\u001b[0m \u001b[0;32mas\u001b[0m \u001b[0msession\u001b[0m\u001b[0;34m:\u001b[0m\u001b[0;34m\u001b[0m\u001b[0;34m\u001b[0m\u001b[0m\n\u001b[0;32m---> 60\u001b[0;31m         \u001b[0;32mreturn\u001b[0m \u001b[0msession\u001b[0m\u001b[0;34m.\u001b[0m\u001b[0mrequest\u001b[0m\u001b[0;34m(\u001b[0m\u001b[0mmethod\u001b[0m\u001b[0;34m=\u001b[0m\u001b[0mmethod\u001b[0m\u001b[0;34m,\u001b[0m \u001b[0murl\u001b[0m\u001b[0;34m=\u001b[0m\u001b[0murl\u001b[0m\u001b[0;34m,\u001b[0m \u001b[0;34m**\u001b[0m\u001b[0mkwargs\u001b[0m\u001b[0;34m)\u001b[0m\u001b[0;34m\u001b[0m\u001b[0;34m\u001b[0m\u001b[0m\n\u001b[0m\u001b[1;32m     61\u001b[0m \u001b[0;34m\u001b[0m\u001b[0m\n\u001b[1;32m     62\u001b[0m \u001b[0;34m\u001b[0m\u001b[0m\n",
      "\u001b[0;32m/opt/conda/lib/python3.7/site-packages/requests/sessions.py\u001b[0m in \u001b[0;36m__exit__\u001b[0;34m(self, *args)\u001b[0m\n\u001b[1;32m    422\u001b[0m \u001b[0;34m\u001b[0m\u001b[0m\n\u001b[1;32m    423\u001b[0m     \u001b[0;32mdef\u001b[0m \u001b[0m__exit__\u001b[0m\u001b[0;34m(\u001b[0m\u001b[0mself\u001b[0m\u001b[0;34m,\u001b[0m \u001b[0;34m*\u001b[0m\u001b[0margs\u001b[0m\u001b[0;34m)\u001b[0m\u001b[0;34m:\u001b[0m\u001b[0;34m\u001b[0m\u001b[0;34m\u001b[0m\u001b[0m\n\u001b[0;32m--> 424\u001b[0;31m         \u001b[0mself\u001b[0m\u001b[0;34m.\u001b[0m\u001b[0mclose\u001b[0m\u001b[0;34m(\u001b[0m\u001b[0;34m)\u001b[0m\u001b[0;34m\u001b[0m\u001b[0;34m\u001b[0m\u001b[0m\n\u001b[0m\u001b[1;32m    425\u001b[0m \u001b[0;34m\u001b[0m\u001b[0m\n\u001b[1;32m    426\u001b[0m     \u001b[0;32mdef\u001b[0m \u001b[0mprepare_request\u001b[0m\u001b[0;34m(\u001b[0m\u001b[0mself\u001b[0m\u001b[0;34m,\u001b[0m \u001b[0mrequest\u001b[0m\u001b[0;34m)\u001b[0m\u001b[0;34m:\u001b[0m\u001b[0;34m\u001b[0m\u001b[0;34m\u001b[0m\u001b[0m\n",
      "\u001b[0;32m/opt/conda/lib/python3.7/site-packages/requests/sessions.py\u001b[0m in \u001b[0;36mclose\u001b[0;34m(self)\u001b[0m\n\u001b[1;32m    734\u001b[0m         \u001b[0;34m\"\"\"Closes all adapters and as such the session\"\"\"\u001b[0m\u001b[0;34m\u001b[0m\u001b[0;34m\u001b[0m\u001b[0m\n\u001b[1;32m    735\u001b[0m         \u001b[0;32mfor\u001b[0m \u001b[0mv\u001b[0m \u001b[0;32min\u001b[0m \u001b[0mself\u001b[0m\u001b[0;34m.\u001b[0m\u001b[0madapters\u001b[0m\u001b[0;34m.\u001b[0m\u001b[0mvalues\u001b[0m\u001b[0;34m(\u001b[0m\u001b[0;34m)\u001b[0m\u001b[0;34m:\u001b[0m\u001b[0;34m\u001b[0m\u001b[0;34m\u001b[0m\u001b[0m\n\u001b[0;32m--> 736\u001b[0;31m             \u001b[0mv\u001b[0m\u001b[0;34m.\u001b[0m\u001b[0mclose\u001b[0m\u001b[0;34m(\u001b[0m\u001b[0;34m)\u001b[0m\u001b[0;34m\u001b[0m\u001b[0;34m\u001b[0m\u001b[0m\n\u001b[0m\u001b[1;32m    737\u001b[0m \u001b[0;34m\u001b[0m\u001b[0m\n\u001b[1;32m    738\u001b[0m     \u001b[0;32mdef\u001b[0m \u001b[0mmount\u001b[0m\u001b[0;34m(\u001b[0m\u001b[0mself\u001b[0m\u001b[0;34m,\u001b[0m \u001b[0mprefix\u001b[0m\u001b[0;34m,\u001b[0m \u001b[0madapter\u001b[0m\u001b[0;34m)\u001b[0m\u001b[0;34m:\u001b[0m\u001b[0;34m\u001b[0m\u001b[0;34m\u001b[0m\u001b[0m\n",
      "\u001b[0;32m/opt/conda/lib/python3.7/site-packages/requests/adapters.py\u001b[0m in \u001b[0;36mclose\u001b[0;34m(self)\u001b[0m\n\u001b[1;32m    323\u001b[0m         \u001b[0mwhich\u001b[0m \u001b[0mcloses\u001b[0m \u001b[0many\u001b[0m \u001b[0mpooled\u001b[0m \u001b[0mconnections\u001b[0m\u001b[0;34m.\u001b[0m\u001b[0;34m\u001b[0m\u001b[0;34m\u001b[0m\u001b[0m\n\u001b[1;32m    324\u001b[0m         \"\"\"\n\u001b[0;32m--> 325\u001b[0;31m         \u001b[0mself\u001b[0m\u001b[0;34m.\u001b[0m\u001b[0mpoolmanager\u001b[0m\u001b[0;34m.\u001b[0m\u001b[0mclear\u001b[0m\u001b[0;34m(\u001b[0m\u001b[0;34m)\u001b[0m\u001b[0;34m\u001b[0m\u001b[0;34m\u001b[0m\u001b[0m\n\u001b[0m\u001b[1;32m    326\u001b[0m         \u001b[0;32mfor\u001b[0m \u001b[0mproxy\u001b[0m \u001b[0;32min\u001b[0m \u001b[0mself\u001b[0m\u001b[0;34m.\u001b[0m\u001b[0mproxy_manager\u001b[0m\u001b[0;34m.\u001b[0m\u001b[0mvalues\u001b[0m\u001b[0;34m(\u001b[0m\u001b[0;34m)\u001b[0m\u001b[0;34m:\u001b[0m\u001b[0;34m\u001b[0m\u001b[0;34m\u001b[0m\u001b[0m\n\u001b[1;32m    327\u001b[0m             \u001b[0mproxy\u001b[0m\u001b[0;34m.\u001b[0m\u001b[0mclear\u001b[0m\u001b[0;34m(\u001b[0m\u001b[0;34m)\u001b[0m\u001b[0;34m\u001b[0m\u001b[0;34m\u001b[0m\u001b[0m\n",
      "\u001b[0;32m/opt/conda/lib/python3.7/site-packages/urllib3/poolmanager.py\u001b[0m in \u001b[0;36mclear\u001b[0;34m(self)\u001b[0m\n\u001b[1;32m    215\u001b[0m         \u001b[0mre\u001b[0m\u001b[0;34m-\u001b[0m\u001b[0mused\u001b[0m \u001b[0mafter\u001b[0m \u001b[0mcompletion\u001b[0m\u001b[0;34m.\u001b[0m\u001b[0;34m\u001b[0m\u001b[0;34m\u001b[0m\u001b[0m\n\u001b[1;32m    216\u001b[0m         \"\"\"\n\u001b[0;32m--> 217\u001b[0;31m         \u001b[0mself\u001b[0m\u001b[0;34m.\u001b[0m\u001b[0mpools\u001b[0m\u001b[0;34m.\u001b[0m\u001b[0mclear\u001b[0m\u001b[0;34m(\u001b[0m\u001b[0;34m)\u001b[0m\u001b[0;34m\u001b[0m\u001b[0;34m\u001b[0m\u001b[0m\n\u001b[0m\u001b[1;32m    218\u001b[0m \u001b[0;34m\u001b[0m\u001b[0m\n\u001b[1;32m    219\u001b[0m     \u001b[0;32mdef\u001b[0m \u001b[0mconnection_from_host\u001b[0m\u001b[0;34m(\u001b[0m\u001b[0mself\u001b[0m\u001b[0;34m,\u001b[0m \u001b[0mhost\u001b[0m\u001b[0;34m,\u001b[0m \u001b[0mport\u001b[0m\u001b[0;34m=\u001b[0m\u001b[0;32mNone\u001b[0m\u001b[0;34m,\u001b[0m \u001b[0mscheme\u001b[0m\u001b[0;34m=\u001b[0m\u001b[0;34m\"http\"\u001b[0m\u001b[0;34m,\u001b[0m \u001b[0mpool_kwargs\u001b[0m\u001b[0;34m=\u001b[0m\u001b[0;32mNone\u001b[0m\u001b[0;34m)\u001b[0m\u001b[0;34m:\u001b[0m\u001b[0;34m\u001b[0m\u001b[0;34m\u001b[0m\u001b[0m\n",
      "\u001b[0;32m/opt/conda/lib/python3.7/site-packages/urllib3/_collections.py\u001b[0m in \u001b[0;36mclear\u001b[0;34m(self)\u001b[0m\n\u001b[1;32m     97\u001b[0m         \u001b[0;32mif\u001b[0m \u001b[0mself\u001b[0m\u001b[0;34m.\u001b[0m\u001b[0mdispose_func\u001b[0m\u001b[0;34m:\u001b[0m\u001b[0;34m\u001b[0m\u001b[0;34m\u001b[0m\u001b[0m\n\u001b[1;32m     98\u001b[0m             \u001b[0;32mfor\u001b[0m \u001b[0mvalue\u001b[0m \u001b[0;32min\u001b[0m \u001b[0mvalues\u001b[0m\u001b[0;34m:\u001b[0m\u001b[0;34m\u001b[0m\u001b[0;34m\u001b[0m\u001b[0m\n\u001b[0;32m---> 99\u001b[0;31m                 \u001b[0mself\u001b[0m\u001b[0;34m.\u001b[0m\u001b[0mdispose_func\u001b[0m\u001b[0;34m(\u001b[0m\u001b[0mvalue\u001b[0m\u001b[0;34m)\u001b[0m\u001b[0;34m\u001b[0m\u001b[0;34m\u001b[0m\u001b[0m\n\u001b[0m\u001b[1;32m    100\u001b[0m \u001b[0;34m\u001b[0m\u001b[0m\n\u001b[1;32m    101\u001b[0m     \u001b[0;32mdef\u001b[0m \u001b[0mkeys\u001b[0m\u001b[0;34m(\u001b[0m\u001b[0mself\u001b[0m\u001b[0;34m)\u001b[0m\u001b[0;34m:\u001b[0m\u001b[0;34m\u001b[0m\u001b[0;34m\u001b[0m\u001b[0m\n",
      "\u001b[0;32m/opt/conda/lib/python3.7/site-packages/urllib3/poolmanager.py\u001b[0m in \u001b[0;36m<lambda>\u001b[0;34m(p)\u001b[0m\n\u001b[1;32m    166\u001b[0m         \u001b[0mRequestMethods\u001b[0m\u001b[0;34m.\u001b[0m\u001b[0m__init__\u001b[0m\u001b[0;34m(\u001b[0m\u001b[0mself\u001b[0m\u001b[0;34m,\u001b[0m \u001b[0mheaders\u001b[0m\u001b[0;34m)\u001b[0m\u001b[0;34m\u001b[0m\u001b[0;34m\u001b[0m\u001b[0m\n\u001b[1;32m    167\u001b[0m         \u001b[0mself\u001b[0m\u001b[0;34m.\u001b[0m\u001b[0mconnection_pool_kw\u001b[0m \u001b[0;34m=\u001b[0m \u001b[0mconnection_pool_kw\u001b[0m\u001b[0;34m\u001b[0m\u001b[0;34m\u001b[0m\u001b[0m\n\u001b[0;32m--> 168\u001b[0;31m         \u001b[0mself\u001b[0m\u001b[0;34m.\u001b[0m\u001b[0mpools\u001b[0m \u001b[0;34m=\u001b[0m \u001b[0mRecentlyUsedContainer\u001b[0m\u001b[0;34m(\u001b[0m\u001b[0mnum_pools\u001b[0m\u001b[0;34m,\u001b[0m \u001b[0mdispose_func\u001b[0m\u001b[0;34m=\u001b[0m\u001b[0;32mlambda\u001b[0m \u001b[0mp\u001b[0m\u001b[0;34m:\u001b[0m \u001b[0mp\u001b[0m\u001b[0;34m.\u001b[0m\u001b[0mclose\u001b[0m\u001b[0;34m(\u001b[0m\u001b[0;34m)\u001b[0m\u001b[0;34m)\u001b[0m\u001b[0;34m\u001b[0m\u001b[0;34m\u001b[0m\u001b[0m\n\u001b[0m\u001b[1;32m    169\u001b[0m \u001b[0;34m\u001b[0m\u001b[0m\n\u001b[1;32m    170\u001b[0m         \u001b[0;31m# Locally set the pool classes and keys so other PoolManagers can\u001b[0m\u001b[0;34m\u001b[0m\u001b[0;34m\u001b[0m\u001b[0;34m\u001b[0m\u001b[0m\n",
      "\u001b[0;32m/opt/conda/lib/python3.7/site-packages/urllib3/connectionpool.py\u001b[0m in \u001b[0;36mclose\u001b[0;34m(self)\u001b[0m\n\u001b[1;32m    471\u001b[0m                 \u001b[0mconn\u001b[0m \u001b[0;34m=\u001b[0m \u001b[0mold_pool\u001b[0m\u001b[0;34m.\u001b[0m\u001b[0mget\u001b[0m\u001b[0;34m(\u001b[0m\u001b[0mblock\u001b[0m\u001b[0;34m=\u001b[0m\u001b[0;32mFalse\u001b[0m\u001b[0;34m)\u001b[0m\u001b[0;34m\u001b[0m\u001b[0;34m\u001b[0m\u001b[0m\n\u001b[1;32m    472\u001b[0m                 \u001b[0;32mif\u001b[0m \u001b[0mconn\u001b[0m\u001b[0;34m:\u001b[0m\u001b[0;34m\u001b[0m\u001b[0;34m\u001b[0m\u001b[0m\n\u001b[0;32m--> 473\u001b[0;31m                     \u001b[0mconn\u001b[0m\u001b[0;34m.\u001b[0m\u001b[0mclose\u001b[0m\u001b[0;34m(\u001b[0m\u001b[0;34m)\u001b[0m\u001b[0;34m\u001b[0m\u001b[0;34m\u001b[0m\u001b[0m\n\u001b[0m\u001b[1;32m    474\u001b[0m \u001b[0;34m\u001b[0m\u001b[0m\n\u001b[1;32m    475\u001b[0m         \u001b[0;32mexcept\u001b[0m \u001b[0mqueue\u001b[0m\u001b[0;34m.\u001b[0m\u001b[0mEmpty\u001b[0m\u001b[0;34m:\u001b[0m\u001b[0;34m\u001b[0m\u001b[0;34m\u001b[0m\u001b[0m\n",
      "\u001b[0;32m/opt/conda/lib/python3.7/http/client.py\u001b[0m in \u001b[0;36mclose\u001b[0;34m(self)\u001b[0m\n\u001b[1;32m    951\u001b[0m             \u001b[0;32mif\u001b[0m \u001b[0msock\u001b[0m\u001b[0;34m:\u001b[0m\u001b[0;34m\u001b[0m\u001b[0;34m\u001b[0m\u001b[0m\n\u001b[1;32m    952\u001b[0m                 \u001b[0mself\u001b[0m\u001b[0;34m.\u001b[0m\u001b[0msock\u001b[0m \u001b[0;34m=\u001b[0m \u001b[0;32mNone\u001b[0m\u001b[0;34m\u001b[0m\u001b[0;34m\u001b[0m\u001b[0m\n\u001b[0;32m--> 953\u001b[0;31m                 \u001b[0msock\u001b[0m\u001b[0;34m.\u001b[0m\u001b[0mclose\u001b[0m\u001b[0;34m(\u001b[0m\u001b[0;34m)\u001b[0m   \u001b[0;31m# close it manually... there may be other refs\u001b[0m\u001b[0;34m\u001b[0m\u001b[0;34m\u001b[0m\u001b[0m\n\u001b[0m\u001b[1;32m    954\u001b[0m         \u001b[0;32mfinally\u001b[0m\u001b[0;34m:\u001b[0m\u001b[0;34m\u001b[0m\u001b[0;34m\u001b[0m\u001b[0m\n\u001b[1;32m    955\u001b[0m             \u001b[0mresponse\u001b[0m \u001b[0;34m=\u001b[0m \u001b[0mself\u001b[0m\u001b[0;34m.\u001b[0m\u001b[0m__response\u001b[0m\u001b[0;34m\u001b[0m\u001b[0;34m\u001b[0m\u001b[0m\n",
      "\u001b[0;32m/opt/conda/lib/python3.7/site-packages/urllib3/contrib/pyopenssl.py\u001b[0m in \u001b[0;36mclose\u001b[0;34m(self)\u001b[0m\n\u001b[1;32m    362\u001b[0m             \u001b[0;32mtry\u001b[0m\u001b[0;34m:\u001b[0m\u001b[0;34m\u001b[0m\u001b[0;34m\u001b[0m\u001b[0m\n\u001b[1;32m    363\u001b[0m                 \u001b[0mself\u001b[0m\u001b[0;34m.\u001b[0m\u001b[0m_closed\u001b[0m \u001b[0;34m=\u001b[0m \u001b[0;32mTrue\u001b[0m\u001b[0;34m\u001b[0m\u001b[0;34m\u001b[0m\u001b[0m\n\u001b[0;32m--> 364\u001b[0;31m                 \u001b[0;32mreturn\u001b[0m \u001b[0mself\u001b[0m\u001b[0;34m.\u001b[0m\u001b[0mconnection\u001b[0m\u001b[0;34m.\u001b[0m\u001b[0mclose\u001b[0m\u001b[0;34m(\u001b[0m\u001b[0;34m)\u001b[0m\u001b[0;34m\u001b[0m\u001b[0;34m\u001b[0m\u001b[0m\n\u001b[0m\u001b[1;32m    365\u001b[0m             \u001b[0;32mexcept\u001b[0m \u001b[0mOpenSSL\u001b[0m\u001b[0;34m.\u001b[0m\u001b[0mSSL\u001b[0m\u001b[0;34m.\u001b[0m\u001b[0mError\u001b[0m\u001b[0;34m:\u001b[0m\u001b[0;34m\u001b[0m\u001b[0;34m\u001b[0m\u001b[0m\n\u001b[1;32m    366\u001b[0m                 \u001b[0;32mreturn\u001b[0m\u001b[0;34m\u001b[0m\u001b[0;34m\u001b[0m\u001b[0m\n",
      "\u001b[0;32m/opt/conda/lib/python3.7/socket.py\u001b[0m in \u001b[0;36mclose\u001b[0;34m(self)\u001b[0m\n\u001b[1;32m    418\u001b[0m         \u001b[0mself\u001b[0m\u001b[0;34m.\u001b[0m\u001b[0m_closed\u001b[0m \u001b[0;34m=\u001b[0m \u001b[0;32mTrue\u001b[0m\u001b[0;34m\u001b[0m\u001b[0;34m\u001b[0m\u001b[0m\n\u001b[1;32m    419\u001b[0m         \u001b[0;32mif\u001b[0m \u001b[0mself\u001b[0m\u001b[0;34m.\u001b[0m\u001b[0m_io_refs\u001b[0m \u001b[0;34m<=\u001b[0m \u001b[0;36m0\u001b[0m\u001b[0;34m:\u001b[0m\u001b[0;34m\u001b[0m\u001b[0;34m\u001b[0m\u001b[0m\n\u001b[0;32m--> 420\u001b[0;31m             \u001b[0mself\u001b[0m\u001b[0;34m.\u001b[0m\u001b[0m_real_close\u001b[0m\u001b[0;34m(\u001b[0m\u001b[0;34m)\u001b[0m\u001b[0;34m\u001b[0m\u001b[0;34m\u001b[0m\u001b[0m\n\u001b[0m\u001b[1;32m    421\u001b[0m \u001b[0;34m\u001b[0m\u001b[0m\n\u001b[1;32m    422\u001b[0m     \u001b[0;32mdef\u001b[0m \u001b[0mdetach\u001b[0m\u001b[0;34m(\u001b[0m\u001b[0mself\u001b[0m\u001b[0;34m)\u001b[0m\u001b[0;34m:\u001b[0m\u001b[0;34m\u001b[0m\u001b[0;34m\u001b[0m\u001b[0m\n",
      "\u001b[0;32m/opt/conda/lib/python3.7/socket.py\u001b[0m in \u001b[0;36m_real_close\u001b[0;34m(self, _ss)\u001b[0m\n\u001b[1;32m    412\u001b[0m     \u001b[0;32mdef\u001b[0m \u001b[0m_real_close\u001b[0m\u001b[0;34m(\u001b[0m\u001b[0mself\u001b[0m\u001b[0;34m,\u001b[0m \u001b[0m_ss\u001b[0m\u001b[0;34m=\u001b[0m\u001b[0m_socket\u001b[0m\u001b[0;34m.\u001b[0m\u001b[0msocket\u001b[0m\u001b[0;34m)\u001b[0m\u001b[0;34m:\u001b[0m\u001b[0;34m\u001b[0m\u001b[0;34m\u001b[0m\u001b[0m\n\u001b[1;32m    413\u001b[0m         \u001b[0;31m# This function should not reference any globals. See issue #808164.\u001b[0m\u001b[0;34m\u001b[0m\u001b[0;34m\u001b[0m\u001b[0;34m\u001b[0m\u001b[0m\n\u001b[0;32m--> 414\u001b[0;31m         \u001b[0m_ss\u001b[0m\u001b[0;34m.\u001b[0m\u001b[0mclose\u001b[0m\u001b[0;34m(\u001b[0m\u001b[0mself\u001b[0m\u001b[0;34m)\u001b[0m\u001b[0;34m\u001b[0m\u001b[0;34m\u001b[0m\u001b[0m\n\u001b[0m\u001b[1;32m    415\u001b[0m \u001b[0;34m\u001b[0m\u001b[0m\n\u001b[1;32m    416\u001b[0m     \u001b[0;32mdef\u001b[0m \u001b[0mclose\u001b[0m\u001b[0;34m(\u001b[0m\u001b[0mself\u001b[0m\u001b[0;34m)\u001b[0m\u001b[0;34m:\u001b[0m\u001b[0;34m\u001b[0m\u001b[0;34m\u001b[0m\u001b[0m\n",
      "\u001b[0;31mKeyboardInterrupt\u001b[0m: "
     ]
    }
   ],
   "source": [
    "n_street_1 = n_street.query('count == 1')\n",
    "n_street_1['district_1'] = n_street_1['street'].apply(get_district)\n",
    "n_street_1"
   ]
  },
  {
   "cell_type": "code",
   "execution_count": null,
   "metadata": {},
   "outputs": [],
   "source": [
    "n_street_1['district_1'].value_counts().sort_values(ascending=False).head(10)"
   ]
  },
  {
   "cell_type": "markdown",
   "metadata": {},
   "source": [
    "* Выделил ТОП 10 районов с улицами на которых распологается 1 объект общественного питания."
   ]
  },
  {
   "cell_type": "code",
   "execution_count": 33,
   "metadata": {},
   "outputs": [
    {
     "data": {
      "text/html": [
       "<div>\n",
       "<style scoped>\n",
       "    .dataframe tbody tr th:only-of-type {\n",
       "        vertical-align: middle;\n",
       "    }\n",
       "\n",
       "    .dataframe tbody tr th {\n",
       "        vertical-align: top;\n",
       "    }\n",
       "\n",
       "    .dataframe thead th {\n",
       "        text-align: right;\n",
       "    }\n",
       "</style>\n",
       "<table border=\"1\" class=\"dataframe\">\n",
       "  <thead>\n",
       "    <tr style=\"text-align: right;\">\n",
       "      <th></th>\n",
       "      <th>district</th>\n",
       "      <th>n_street</th>\n",
       "    </tr>\n",
       "  </thead>\n",
       "  <tbody>\n",
       "    <tr>\n",
       "      <td>0</td>\n",
       "      <td>Тверской район</td>\n",
       "      <td>44</td>\n",
       "    </tr>\n",
       "    <tr>\n",
       "      <td>1</td>\n",
       "      <td>Таганский район</td>\n",
       "      <td>25</td>\n",
       "    </tr>\n",
       "    <tr>\n",
       "      <td>2</td>\n",
       "      <td>Тимирязевский район</td>\n",
       "      <td>19</td>\n",
       "    </tr>\n",
       "    <tr>\n",
       "      <td>3</td>\n",
       "      <td>Басманный район</td>\n",
       "      <td>18</td>\n",
       "    </tr>\n",
       "    <tr>\n",
       "      <td>4</td>\n",
       "      <td>район Марьина Роща</td>\n",
       "      <td>17</td>\n",
       "    </tr>\n",
       "    <tr>\n",
       "      <td>5</td>\n",
       "      <td>Мещанский район</td>\n",
       "      <td>15</td>\n",
       "    </tr>\n",
       "    <tr>\n",
       "      <td>6</td>\n",
       "      <td>район Замоскворечье</td>\n",
       "      <td>13</td>\n",
       "    </tr>\n",
       "    <tr>\n",
       "      <td>7</td>\n",
       "      <td>Пресненский район</td>\n",
       "      <td>12</td>\n",
       "    </tr>\n",
       "    <tr>\n",
       "      <td>8</td>\n",
       "      <td>район Сокольники</td>\n",
       "      <td>10</td>\n",
       "    </tr>\n",
       "    <tr>\n",
       "      <td>9</td>\n",
       "      <td>район Богородское</td>\n",
       "      <td>10</td>\n",
       "    </tr>\n",
       "  </tbody>\n",
       "</table>\n",
       "</div>"
      ],
      "text/plain": [
       "              district  n_street\n",
       "0       Тверской район        44\n",
       "1      Таганский район        25\n",
       "2  Тимирязевский район        19\n",
       "3      Басманный район        18\n",
       "4   район Марьина Роща        17\n",
       "5      Мещанский район        15\n",
       "6  район Замоскворечье        13\n",
       "7    Пресненский район        12\n",
       "8     район Сокольники        10\n",
       "9    район Богородское        10"
      ]
     },
     "execution_count": 33,
     "metadata": {},
     "output_type": "execute_result"
    }
   ],
   "source": [
    "from io import BytesIO\n",
    "spreadsheet_id_1 = '1SYOqc03zVOpVhJIO9UmPpMS6Rt-MEINHgsN9j9dGCe4'\n",
    "file_name_1 = 'https://docs.google.com/spreadsheets/d/{}/export?format=csv'.format(spreadsheet_id_1)\n",
    "r_1 = requests.get(file_name_1)\n",
    "df_1 = pd.read_csv(BytesIO(r_1.content))\n",
    "df_1"
   ]
  },
  {
   "cell_type": "markdown",
   "metadata": {},
   "source": [
    "5.9 Посмотрите на распределение количества посадочных мест для улиц с большим количеством объектов общественного питания. Какие закономерности можно выявить?"
   ]
  },
  {
   "cell_type": "markdown",
   "metadata": {},
   "source": [
    "* Оценил среднее количество посадочных мест для улиц с большим количеством объектов общественного питания."
   ]
  },
  {
   "cell_type": "code",
   "execution_count": 34,
   "metadata": {},
   "outputs": [
    {
     "data": {
      "text/html": [
       "<div>\n",
       "<style scoped>\n",
       "    .dataframe tbody tr th:only-of-type {\n",
       "        vertical-align: middle;\n",
       "    }\n",
       "\n",
       "    .dataframe tbody tr th {\n",
       "        vertical-align: top;\n",
       "    }\n",
       "\n",
       "    .dataframe thead th {\n",
       "        text-align: right;\n",
       "    }\n",
       "</style>\n",
       "<table border=\"1\" class=\"dataframe\">\n",
       "  <thead>\n",
       "    <tr style=\"text-align: right;\">\n",
       "      <th></th>\n",
       "      <th>street</th>\n",
       "      <th>object_name</th>\n",
       "      <th>number</th>\n",
       "    </tr>\n",
       "  </thead>\n",
       "  <tbody>\n",
       "    <tr>\n",
       "      <td>1440</td>\n",
       "      <td>проспект Мира</td>\n",
       "      <td>204</td>\n",
       "      <td>62.696078</td>\n",
       "    </tr>\n",
       "    <tr>\n",
       "      <td>993</td>\n",
       "      <td>Профсоюзная улица</td>\n",
       "      <td>182</td>\n",
       "      <td>46.412088</td>\n",
       "    </tr>\n",
       "    <tr>\n",
       "      <td>683</td>\n",
       "      <td>Ленинградский проспект</td>\n",
       "      <td>171</td>\n",
       "      <td>52.690058</td>\n",
       "    </tr>\n",
       "    <tr>\n",
       "      <td>979</td>\n",
       "      <td>Пресненская набережная</td>\n",
       "      <td>167</td>\n",
       "      <td>45.844311</td>\n",
       "    </tr>\n",
       "    <tr>\n",
       "      <td>407</td>\n",
       "      <td>Варшавское шоссе</td>\n",
       "      <td>161</td>\n",
       "      <td>52.875776</td>\n",
       "    </tr>\n",
       "    <tr>\n",
       "      <td>686</td>\n",
       "      <td>Ленинский проспект</td>\n",
       "      <td>147</td>\n",
       "      <td>63.469388</td>\n",
       "    </tr>\n",
       "    <tr>\n",
       "      <td>1407</td>\n",
       "      <td>поселение Сосенское</td>\n",
       "      <td>138</td>\n",
       "      <td>22.550725</td>\n",
       "    </tr>\n",
       "    <tr>\n",
       "      <td>1437</td>\n",
       "      <td>проспект Вернадского</td>\n",
       "      <td>132</td>\n",
       "      <td>66.969697</td>\n",
       "    </tr>\n",
       "    <tr>\n",
       "      <td>674</td>\n",
       "      <td>Кутузовский проспект</td>\n",
       "      <td>114</td>\n",
       "      <td>85.061404</td>\n",
       "    </tr>\n",
       "    <tr>\n",
       "      <td>600</td>\n",
       "      <td>Каширское шоссе</td>\n",
       "      <td>112</td>\n",
       "      <td>55.098214</td>\n",
       "    </tr>\n",
       "  </tbody>\n",
       "</table>\n",
       "</div>"
      ],
      "text/plain": [
       "                       street  object_name     number\n",
       "1440            проспект Мира          204  62.696078\n",
       "993         Профсоюзная улица          182  46.412088\n",
       "683    Ленинградский проспект          171  52.690058\n",
       "979    Пресненская набережная          167  45.844311\n",
       "407          Варшавское шоссе          161  52.875776\n",
       "686        Ленинский проспект          147  63.469388\n",
       "1407      поселение Сосенское          138  22.550725\n",
       "1437     проспект Вернадского          132  66.969697\n",
       "674      Кутузовский проспект          114  85.061404\n",
       "600           Каширское шоссе          112  55.098214"
      ]
     },
     "execution_count": 34,
     "metadata": {},
     "output_type": "execute_result"
    }
   ],
   "source": [
    "streets_objects_number = rest_df.groupby('street').agg({'object_name':'count', 'number':'mean'}).reset_index().sort_values(by='object_name', ascending=False)\n",
    "streets_objects_number = streets_objects_number[1:11]\n",
    "streets_objects_number"
   ]
  },
  {
   "cell_type": "markdown",
   "metadata": {},
   "source": [
    "Вывод: На улицах с большим количество объектов общественного питания, свыше 40 посадочных мест, т.е объекты общепита в основном с большим количеством посадочных мест."
   ]
  },
  {
   "cell_type": "markdown",
   "metadata": {},
   "source": [
    "5.10 Сделайте общий вывод и дайте рекомендации о виде заведения, количестве посадочных мест, а также районе расположения. Прокомментируйте возможность развития сети."
   ]
  },
  {
   "cell_type": "markdown",
   "metadata": {},
   "source": [
    "Общий вывод: Улицы из списка топ-10 по количеству объектов общественного питания имеют близкое расположение к местам большого скопления людей, например торговые центры:\n",
    "- Ходынский бульвар, дом 4 - ТРЦ Авиапарк, \n",
    "- город Москва, Кутузовский проспект, дом 57 - ТРЦ Океания, \n",
    "- город Москва, проспект Мира, дом 211, корпус 2 - ТРЦ Европолис, \n",
    "- город Москва, площадь Киевского Вокзала, дом 2 - ТРЦ Европейский, \n",
    "- город Москва, улица Земляной Вал, дом 33 - ТРЦ Атриум.\n",
    "\n",
    "Популярные локации для проведения досуга:\n",
    "- город Москва, улица Новый Арбат\n",
    "\n",
    "Крупный рынок: \n",
    "- город Москва, Мытная улица, дом 74 - Даниловский рынок.\n",
    "\n",
    "Для сетевых кафе, предприятий быстрого питания, ресторанов, баров и столовых характерно большое количество посадочных мест, вполне логично что чем больше клиентов, тем больше прибыль.\n",
    "\n",
    "Для успешного старта и развития, лучше всего открыть бар,ресторан либо кафе в котором будет свыше 40 посадочных мест и распологаться заведение будет в ТРЦ или в центре города."
   ]
  },
  {
   "cell_type": "markdown",
   "metadata": {},
   "source": [
    "### Презентация\n",
    "<a id='cell3'></a>"
   ]
  },
  {
   "cell_type": "markdown",
   "metadata": {},
   "source": [
    "Презентация: https://disk.yandex.ru/i/8ZlPYNafz7Pn-Q"
   ]
  }
 ],
 "metadata": {
  "ExecuteTimeLog": [
   {
    "duration": 1209,
    "start_time": "2021-08-18T14:07:26.579Z"
   },
   {
    "duration": 61,
    "start_time": "2021-08-18T14:08:41.765Z"
   },
   {
    "duration": 19,
    "start_time": "2021-08-18T14:14:53.759Z"
   },
   {
    "duration": 10,
    "start_time": "2021-08-18T14:17:26.087Z"
   },
   {
    "duration": 22,
    "start_time": "2021-08-18T14:18:41.693Z"
   },
   {
    "duration": 518,
    "start_time": "2021-08-18T14:19:12.649Z"
   },
   {
    "duration": 17,
    "start_time": "2021-08-18T14:19:17.382Z"
   },
   {
    "duration": 15,
    "start_time": "2021-08-18T14:21:02.269Z"
   },
   {
    "duration": 9,
    "start_time": "2021-08-18T14:22:57.939Z"
   },
   {
    "duration": 403,
    "start_time": "2021-08-18T14:33:59.478Z"
   },
   {
    "duration": 269,
    "start_time": "2021-08-18T14:36:26.281Z"
   },
   {
    "duration": 336,
    "start_time": "2021-08-18T14:37:31.542Z"
   },
   {
    "duration": 1230,
    "start_time": "2021-08-18T14:39:25.868Z"
   },
   {
    "duration": 61,
    "start_time": "2021-08-18T14:39:27.100Z"
   },
   {
    "duration": 20,
    "start_time": "2021-08-18T14:39:27.163Z"
   },
   {
    "duration": 10,
    "start_time": "2021-08-18T14:39:27.191Z"
   },
   {
    "duration": 26,
    "start_time": "2021-08-18T14:39:27.203Z"
   },
   {
    "duration": 10,
    "start_time": "2021-08-18T14:39:27.230Z"
   },
   {
    "duration": 1144,
    "start_time": "2021-08-18T14:42:39.430Z"
   },
   {
    "duration": 60,
    "start_time": "2021-08-18T14:42:40.576Z"
   },
   {
    "duration": 17,
    "start_time": "2021-08-18T14:42:40.638Z"
   },
   {
    "duration": 19,
    "start_time": "2021-08-18T14:42:40.657Z"
   },
   {
    "duration": 36,
    "start_time": "2021-08-18T14:42:40.678Z"
   },
   {
    "duration": 9,
    "start_time": "2021-08-18T14:42:40.716Z"
   },
   {
    "duration": 1211,
    "start_time": "2021-08-18T14:45:15.791Z"
   },
   {
    "duration": 63,
    "start_time": "2021-08-18T14:45:17.005Z"
   },
   {
    "duration": 24,
    "start_time": "2021-08-18T14:45:17.070Z"
   },
   {
    "duration": 10,
    "start_time": "2021-08-18T14:45:17.096Z"
   },
   {
    "duration": 21,
    "start_time": "2021-08-18T14:45:17.109Z"
   },
   {
    "duration": 10,
    "start_time": "2021-08-18T14:45:17.132Z"
   },
   {
    "duration": 358,
    "start_time": "2021-08-18T14:45:17.145Z"
   },
   {
    "duration": 325,
    "start_time": "2021-08-18T14:46:50.051Z"
   },
   {
    "duration": 606,
    "start_time": "2021-08-18T14:48:35.018Z"
   },
   {
    "duration": 92,
    "start_time": "2021-08-18T14:49:12.536Z"
   },
   {
    "duration": 351,
    "start_time": "2021-08-18T14:49:17.155Z"
   },
   {
    "duration": 1038,
    "start_time": "2021-08-18T14:52:33.107Z"
   },
   {
    "duration": 8,
    "start_time": "2021-08-18T14:52:57.793Z"
   },
   {
    "duration": 11,
    "start_time": "2021-08-18T14:53:11.241Z"
   },
   {
    "duration": 267,
    "start_time": "2021-08-18T14:53:50.942Z"
   },
   {
    "duration": 467,
    "start_time": "2021-08-18T14:54:00.656Z"
   },
   {
    "duration": 244,
    "start_time": "2021-08-18T14:54:46.339Z"
   },
   {
    "duration": 487,
    "start_time": "2021-08-18T14:55:02.649Z"
   },
   {
    "duration": 376,
    "start_time": "2021-08-18T14:55:12.811Z"
   },
   {
    "duration": 457,
    "start_time": "2021-08-18T14:55:28.604Z"
   },
   {
    "duration": 430,
    "start_time": "2021-08-18T14:55:37.843Z"
   },
   {
    "duration": 363,
    "start_time": "2021-08-18T16:34:33.881Z"
   },
   {
    "duration": 1473,
    "start_time": "2021-08-18T16:37:07.085Z"
   },
   {
    "duration": 68,
    "start_time": "2021-08-18T16:37:08.560Z"
   },
   {
    "duration": 23,
    "start_time": "2021-08-18T16:37:08.631Z"
   },
   {
    "duration": 15,
    "start_time": "2021-08-18T16:37:08.657Z"
   },
   {
    "duration": 44,
    "start_time": "2021-08-18T16:37:08.674Z"
   },
   {
    "duration": 11,
    "start_time": "2021-08-18T16:37:08.720Z"
   },
   {
    "duration": 661,
    "start_time": "2021-08-18T16:37:08.733Z"
   },
   {
    "duration": 631,
    "start_time": "2021-08-18T16:37:09.396Z"
   },
   {
    "duration": 320,
    "start_time": "2021-08-18T16:37:46.629Z"
   },
   {
    "duration": 666,
    "start_time": "2021-08-18T16:38:20.072Z"
   },
   {
    "duration": 8,
    "start_time": "2021-08-18T16:39:43.083Z"
   },
   {
    "duration": 10,
    "start_time": "2021-08-18T16:39:51.761Z"
   },
   {
    "duration": 1584,
    "start_time": "2021-08-18T16:41:51.232Z"
   },
   {
    "duration": 8,
    "start_time": "2021-08-18T16:44:07.098Z"
   },
   {
    "duration": 269,
    "start_time": "2021-08-18T16:44:20.519Z"
   },
   {
    "duration": 525,
    "start_time": "2021-08-18T16:44:24.788Z"
   },
   {
    "duration": 7,
    "start_time": "2021-08-18T16:44:49.801Z"
   },
   {
    "duration": 7,
    "start_time": "2021-08-18T16:45:00.609Z"
   },
   {
    "duration": 48,
    "start_time": "2021-08-18T16:45:04.375Z"
   },
   {
    "duration": 7,
    "start_time": "2021-08-18T16:45:09.238Z"
   },
   {
    "duration": 281,
    "start_time": "2021-08-18T16:46:29.466Z"
   },
   {
    "duration": 566,
    "start_time": "2021-08-18T16:46:42.066Z"
   },
   {
    "duration": 278,
    "start_time": "2021-08-18T16:47:18.431Z"
   },
   {
    "duration": 22,
    "start_time": "2021-08-18T16:47:57.351Z"
   },
   {
    "duration": 635,
    "start_time": "2021-08-18T16:48:54.403Z"
   },
   {
    "duration": 14215,
    "start_time": "2021-08-18T16:50:52.050Z"
   },
   {
    "duration": 7447,
    "start_time": "2021-08-18T16:51:50.093Z"
   },
   {
    "duration": 9,
    "start_time": "2021-08-18T16:52:20.061Z"
   },
   {
    "duration": 8,
    "start_time": "2021-08-18T16:52:29.413Z"
   },
   {
    "duration": 309,
    "start_time": "2021-08-18T16:53:10.652Z"
   },
   {
    "duration": 356,
    "start_time": "2021-08-18T16:53:20.048Z"
   },
   {
    "duration": 7776,
    "start_time": "2021-08-18T16:55:05.863Z"
   },
   {
    "duration": 428,
    "start_time": "2021-08-18T16:55:32.495Z"
   },
   {
    "duration": 498,
    "start_time": "2021-08-18T16:56:05.342Z"
   },
   {
    "duration": 431,
    "start_time": "2021-08-18T16:56:18.962Z"
   },
   {
    "duration": 417,
    "start_time": "2021-08-18T16:56:27.368Z"
   },
   {
    "duration": 450,
    "start_time": "2021-08-18T16:56:42.201Z"
   },
   {
    "duration": 456,
    "start_time": "2021-08-18T16:57:06.935Z"
   },
   {
    "duration": 628,
    "start_time": "2021-08-18T16:57:15.101Z"
   },
   {
    "duration": 819,
    "start_time": "2021-08-18T16:57:32.105Z"
   },
   {
    "duration": 860,
    "start_time": "2021-08-18T16:57:45.770Z"
   },
   {
    "duration": 1206,
    "start_time": "2021-08-18T16:57:56.471Z"
   },
   {
    "duration": 1030,
    "start_time": "2021-08-18T16:59:06.902Z"
   },
   {
    "duration": 886,
    "start_time": "2021-08-18T16:59:27.143Z"
   },
   {
    "duration": 7,
    "start_time": "2021-08-18T17:01:49.336Z"
   },
   {
    "duration": 1543,
    "start_time": "2021-08-18T17:03:08.914Z"
   },
   {
    "duration": 2201,
    "start_time": "2021-08-18T17:03:22.004Z"
   },
   {
    "duration": 841,
    "start_time": "2021-08-18T17:03:45.274Z"
   },
   {
    "duration": 835,
    "start_time": "2021-08-18T17:05:00.135Z"
   },
   {
    "duration": 351,
    "start_time": "2021-08-18T17:05:23.891Z"
   },
   {
    "duration": 287,
    "start_time": "2021-08-18T17:08:45.782Z"
   },
   {
    "duration": 11,
    "start_time": "2021-08-18T17:08:59.924Z"
   },
   {
    "duration": 12,
    "start_time": "2021-08-18T17:09:32.408Z"
   },
   {
    "duration": 442,
    "start_time": "2021-08-18T17:11:47.278Z"
   },
   {
    "duration": 10,
    "start_time": "2021-08-18T17:12:31.083Z"
   },
   {
    "duration": 5,
    "start_time": "2021-08-18T17:12:42.975Z"
   },
   {
    "duration": 1679,
    "start_time": "2021-08-18T17:14:18.629Z"
   },
   {
    "duration": 70,
    "start_time": "2021-08-18T17:14:20.311Z"
   },
   {
    "duration": 30,
    "start_time": "2021-08-18T17:14:20.385Z"
   },
   {
    "duration": 13,
    "start_time": "2021-08-18T17:14:20.418Z"
   },
   {
    "duration": 31,
    "start_time": "2021-08-18T17:14:20.433Z"
   },
   {
    "duration": 42,
    "start_time": "2021-08-18T17:14:20.467Z"
   },
   {
    "duration": 932,
    "start_time": "2021-08-18T17:14:20.512Z"
   },
   {
    "duration": 414,
    "start_time": "2021-08-18T17:14:21.448Z"
   },
   {
    "duration": 5,
    "start_time": "2021-08-18T17:14:21.865Z"
   },
   {
    "duration": 13,
    "start_time": "2021-08-18T17:16:35.705Z"
   },
   {
    "duration": 10,
    "start_time": "2021-08-18T17:17:17.477Z"
   },
   {
    "duration": 9,
    "start_time": "2021-08-18T17:18:08.840Z"
   },
   {
    "duration": 16,
    "start_time": "2021-08-18T17:18:14.174Z"
   },
   {
    "duration": 8,
    "start_time": "2021-08-18T17:18:19.348Z"
   },
   {
    "duration": 1387,
    "start_time": "2021-08-18T17:21:25.033Z"
   },
   {
    "duration": 69,
    "start_time": "2021-08-18T17:21:26.423Z"
   },
   {
    "duration": 24,
    "start_time": "2021-08-18T17:21:26.500Z"
   },
   {
    "duration": 20,
    "start_time": "2021-08-18T17:21:26.527Z"
   },
   {
    "duration": 28,
    "start_time": "2021-08-18T17:21:26.550Z"
   },
   {
    "duration": 13,
    "start_time": "2021-08-18T17:21:26.601Z"
   },
   {
    "duration": 886,
    "start_time": "2021-08-18T17:21:26.617Z"
   },
   {
    "duration": 363,
    "start_time": "2021-08-18T17:21:27.508Z"
   },
   {
    "duration": 9,
    "start_time": "2021-08-18T17:21:27.874Z"
   },
   {
    "duration": 176,
    "start_time": "2021-08-18T17:22:06.126Z"
   },
   {
    "duration": 19,
    "start_time": "2021-08-18T17:22:20.690Z"
   },
   {
    "duration": 1519,
    "start_time": "2021-08-18T17:24:35.345Z"
   },
   {
    "duration": 72,
    "start_time": "2021-08-18T17:24:36.867Z"
   },
   {
    "duration": 26,
    "start_time": "2021-08-18T17:24:36.943Z"
   },
   {
    "duration": 37,
    "start_time": "2021-08-18T17:24:36.972Z"
   },
   {
    "duration": 24,
    "start_time": "2021-08-18T17:24:37.011Z"
   },
   {
    "duration": 11,
    "start_time": "2021-08-18T17:24:37.038Z"
   },
   {
    "duration": 901,
    "start_time": "2021-08-18T17:24:37.052Z"
   },
   {
    "duration": 435,
    "start_time": "2021-08-18T17:24:37.956Z"
   },
   {
    "duration": 26,
    "start_time": "2021-08-18T17:24:38.401Z"
   },
   {
    "duration": 418,
    "start_time": "2021-08-18T17:26:21.522Z"
   },
   {
    "duration": 288,
    "start_time": "2021-08-18T17:26:54.451Z"
   },
   {
    "duration": 689,
    "start_time": "2021-08-18T17:27:18.133Z"
   },
   {
    "duration": 22,
    "start_time": "2021-08-18T17:29:41.753Z"
   },
   {
    "duration": 300,
    "start_time": "2021-08-18T17:30:51.440Z"
   },
   {
    "duration": 346,
    "start_time": "2021-08-18T17:30:56.728Z"
   },
   {
    "duration": 424,
    "start_time": "2021-08-18T17:32:33.822Z"
   },
   {
    "duration": 557,
    "start_time": "2021-08-18T17:32:50.722Z"
   },
   {
    "duration": 740,
    "start_time": "2021-08-18T17:33:00.660Z"
   },
   {
    "duration": 1123,
    "start_time": "2021-08-18T17:33:16.862Z"
   },
   {
    "duration": 1006,
    "start_time": "2021-08-19T05:45:35.633Z"
   },
   {
    "duration": 50,
    "start_time": "2021-08-19T05:45:36.641Z"
   },
   {
    "duration": 14,
    "start_time": "2021-08-19T05:45:36.693Z"
   },
   {
    "duration": 10,
    "start_time": "2021-08-19T05:45:36.709Z"
   },
   {
    "duration": 16,
    "start_time": "2021-08-19T05:45:36.720Z"
   },
   {
    "duration": 7,
    "start_time": "2021-08-19T05:45:36.738Z"
   },
   {
    "duration": 502,
    "start_time": "2021-08-19T05:45:36.746Z"
   },
   {
    "duration": 200,
    "start_time": "2021-08-19T05:45:37.250Z"
   },
   {
    "duration": 596,
    "start_time": "2021-08-19T05:45:37.452Z"
   },
   {
    "duration": 323,
    "start_time": "2021-08-19T05:47:14.919Z"
   },
   {
    "duration": 1146,
    "start_time": "2021-08-19T05:47:34.861Z"
   },
   {
    "duration": 194,
    "start_time": "2021-08-19T05:48:17.677Z"
   },
   {
    "duration": 912,
    "start_time": "2021-08-19T05:48:28.544Z"
   },
   {
    "duration": 257,
    "start_time": "2021-08-19T05:48:37.020Z"
   },
   {
    "duration": 979,
    "start_time": "2021-08-19T05:48:40.886Z"
   },
   {
    "duration": 479,
    "start_time": "2021-08-19T05:52:09.036Z"
   },
   {
    "duration": 200,
    "start_time": "2021-08-19T05:52:31.935Z"
   },
   {
    "duration": 201,
    "start_time": "2021-08-19T05:52:43.222Z"
   },
   {
    "duration": 645,
    "start_time": "2021-08-19T05:52:54.211Z"
   },
   {
    "duration": 218,
    "start_time": "2021-08-19T05:53:08.761Z"
   },
   {
    "duration": 595,
    "start_time": "2021-08-19T05:53:18.637Z"
   },
   {
    "duration": 590,
    "start_time": "2021-08-19T05:55:16.233Z"
   },
   {
    "duration": 8,
    "start_time": "2021-08-19T05:55:51.273Z"
   },
   {
    "duration": 276,
    "start_time": "2021-08-19T06:01:56.770Z"
   },
   {
    "duration": 880,
    "start_time": "2021-08-19T06:02:08.244Z"
   },
   {
    "duration": 999,
    "start_time": "2021-08-19T06:10:03.486Z"
   },
   {
    "duration": 2,
    "start_time": "2021-08-19T06:12:32.200Z"
   },
   {
    "duration": 311,
    "start_time": "2021-08-19T06:14:16.814Z"
   },
   {
    "duration": 262,
    "start_time": "2021-08-19T06:15:02.508Z"
   },
   {
    "duration": 406,
    "start_time": "2021-08-19T06:15:30.912Z"
   },
   {
    "duration": 436,
    "start_time": "2021-08-19T06:15:34.800Z"
   },
   {
    "duration": 474,
    "start_time": "2021-08-19T06:16:23.812Z"
   },
   {
    "duration": 450,
    "start_time": "2021-08-19T06:16:36.923Z"
   },
   {
    "duration": 632,
    "start_time": "2021-08-19T06:17:52.560Z"
   },
   {
    "duration": 672,
    "start_time": "2021-08-19T06:18:20.182Z"
   },
   {
    "duration": 627,
    "start_time": "2021-08-19T06:18:28.187Z"
   },
   {
    "duration": 234,
    "start_time": "2021-08-19T06:19:57.820Z"
   },
   {
    "duration": 662,
    "start_time": "2021-08-19T06:20:03.764Z"
   },
   {
    "duration": 5,
    "start_time": "2021-08-19T06:23:24.413Z"
   },
   {
    "duration": 5,
    "start_time": "2021-08-19T06:23:59.939Z"
   },
   {
    "duration": 4,
    "start_time": "2021-08-19T06:24:07.147Z"
   },
   {
    "duration": 426,
    "start_time": "2021-08-19T06:26:45.977Z"
   },
   {
    "duration": 710,
    "start_time": "2021-08-19T06:27:10.847Z"
   },
   {
    "duration": 5,
    "start_time": "2021-08-19T06:29:02.194Z"
   },
   {
    "duration": 6,
    "start_time": "2021-08-19T06:29:06.967Z"
   },
   {
    "duration": 9,
    "start_time": "2021-08-19T06:32:45.431Z"
   },
   {
    "duration": 836,
    "start_time": "2021-08-19T06:44:07.739Z"
   },
   {
    "duration": 835,
    "start_time": "2021-08-19T06:44:21.777Z"
   },
   {
    "duration": 665,
    "start_time": "2021-08-19T06:44:33.409Z"
   },
   {
    "duration": 615,
    "start_time": "2021-08-19T06:44:41.923Z"
   },
   {
    "duration": 707,
    "start_time": "2021-08-19T06:44:53.837Z"
   },
   {
    "duration": 678,
    "start_time": "2021-08-19T06:45:04.303Z"
   },
   {
    "duration": 722,
    "start_time": "2021-08-19T06:45:13.693Z"
   },
   {
    "duration": 940,
    "start_time": "2021-08-19T06:46:03.662Z"
   },
   {
    "duration": 6543,
    "start_time": "2021-08-19T07:00:05.571Z"
   },
   {
    "duration": 5,
    "start_time": "2021-08-19T07:00:38.814Z"
   },
   {
    "duration": 6,
    "start_time": "2021-08-19T07:02:20.275Z"
   },
   {
    "duration": 12,
    "start_time": "2021-08-19T07:04:37.581Z"
   },
   {
    "duration": 238,
    "start_time": "2021-08-19T07:06:21.932Z"
   },
   {
    "duration": 391,
    "start_time": "2021-08-19T07:06:37.408Z"
   },
   {
    "duration": 226,
    "start_time": "2021-08-19T07:06:45.712Z"
   },
   {
    "duration": 6,
    "start_time": "2021-08-19T07:06:57.340Z"
   },
   {
    "duration": 8,
    "start_time": "2021-08-19T07:07:19.497Z"
   },
   {
    "duration": 6,
    "start_time": "2021-08-19T07:07:38.759Z"
   },
   {
    "duration": 811,
    "start_time": "2021-08-19T07:09:22.166Z"
   },
   {
    "duration": 6,
    "start_time": "2021-08-19T07:09:31.179Z"
   },
   {
    "duration": 11,
    "start_time": "2021-08-19T07:12:38.773Z"
   },
   {
    "duration": 13,
    "start_time": "2021-08-19T07:13:22.503Z"
   },
   {
    "duration": 11,
    "start_time": "2021-08-19T07:13:55.254Z"
   },
   {
    "duration": 13,
    "start_time": "2021-08-19T07:14:02.026Z"
   },
   {
    "duration": 502,
    "start_time": "2021-08-19T07:20:54.034Z"
   },
   {
    "duration": 12,
    "start_time": "2021-08-19T07:21:36.301Z"
   },
   {
    "duration": 146,
    "start_time": "2021-08-19T07:22:29.165Z"
   },
   {
    "duration": 167,
    "start_time": "2021-08-19T07:22:54.842Z"
   },
   {
    "duration": 1159,
    "start_time": "2021-08-19T07:25:31.107Z"
   },
   {
    "duration": 54,
    "start_time": "2021-08-19T07:25:32.268Z"
   },
   {
    "duration": 16,
    "start_time": "2021-08-19T07:25:32.324Z"
   },
   {
    "duration": 9,
    "start_time": "2021-08-19T07:25:32.343Z"
   },
   {
    "duration": 27,
    "start_time": "2021-08-19T07:25:32.353Z"
   },
   {
    "duration": 17,
    "start_time": "2021-08-19T07:25:32.381Z"
   },
   {
    "duration": 520,
    "start_time": "2021-08-19T07:25:32.400Z"
   },
   {
    "duration": 236,
    "start_time": "2021-08-19T07:25:32.923Z"
   },
   {
    "duration": 661,
    "start_time": "2021-08-19T07:25:33.161Z"
   },
   {
    "duration": 8,
    "start_time": "2021-08-19T07:25:33.824Z"
   },
   {
    "duration": 890,
    "start_time": "2021-08-19T07:25:33.834Z"
   },
   {
    "duration": 707,
    "start_time": "2021-08-19T07:25:34.726Z"
   },
   {
    "duration": 688,
    "start_time": "2021-08-19T07:25:35.436Z"
   },
   {
    "duration": 883,
    "start_time": "2021-08-19T07:25:36.126Z"
   },
   {
    "duration": 255,
    "start_time": "2021-08-19T07:25:37.011Z"
   },
   {
    "duration": 319,
    "start_time": "2021-08-19T07:26:45.550Z"
   },
   {
    "duration": 514,
    "start_time": "2021-08-19T07:27:16.146Z"
   },
   {
    "duration": 508,
    "start_time": "2021-08-19T07:27:58.676Z"
   },
   {
    "duration": 12,
    "start_time": "2021-08-19T07:28:02.856Z"
   },
   {
    "duration": 446,
    "start_time": "2021-08-19T07:28:17.294Z"
   },
   {
    "duration": 1143,
    "start_time": "2021-08-19T07:29:31.494Z"
   },
   {
    "duration": 54,
    "start_time": "2021-08-19T07:29:32.639Z"
   },
   {
    "duration": 15,
    "start_time": "2021-08-19T07:29:32.695Z"
   },
   {
    "duration": 12,
    "start_time": "2021-08-19T07:29:32.712Z"
   },
   {
    "duration": 19,
    "start_time": "2021-08-19T07:29:32.726Z"
   },
   {
    "duration": 8,
    "start_time": "2021-08-19T07:29:32.747Z"
   },
   {
    "duration": 524,
    "start_time": "2021-08-19T07:29:32.756Z"
   },
   {
    "duration": 219,
    "start_time": "2021-08-19T07:29:33.281Z"
   },
   {
    "duration": 629,
    "start_time": "2021-08-19T07:29:33.503Z"
   },
   {
    "duration": 9,
    "start_time": "2021-08-19T07:29:34.134Z"
   },
   {
    "duration": 792,
    "start_time": "2021-08-19T07:29:34.145Z"
   },
   {
    "duration": 677,
    "start_time": "2021-08-19T07:29:34.939Z"
   },
   {
    "duration": 673,
    "start_time": "2021-08-19T07:29:35.618Z"
   },
   {
    "duration": 979,
    "start_time": "2021-08-19T07:29:36.293Z"
   },
   {
    "duration": 20,
    "start_time": "2021-08-19T07:29:37.274Z"
   },
   {
    "duration": 513,
    "start_time": "2021-08-19T07:29:37.296Z"
   },
   {
    "duration": 592,
    "start_time": "2021-08-19T07:35:07.647Z"
   },
   {
    "duration": 245,
    "start_time": "2021-08-19T07:36:20.336Z"
   },
   {
    "duration": 1144,
    "start_time": "2021-08-19T07:36:56.493Z"
   },
   {
    "duration": 53,
    "start_time": "2021-08-19T07:36:57.639Z"
   },
   {
    "duration": 17,
    "start_time": "2021-08-19T07:36:57.694Z"
   },
   {
    "duration": 11,
    "start_time": "2021-08-19T07:36:57.712Z"
   },
   {
    "duration": 19,
    "start_time": "2021-08-19T07:36:57.724Z"
   },
   {
    "duration": 8,
    "start_time": "2021-08-19T07:36:57.745Z"
   },
   {
    "duration": 540,
    "start_time": "2021-08-19T07:36:57.755Z"
   },
   {
    "duration": 216,
    "start_time": "2021-08-19T07:36:58.297Z"
   },
   {
    "duration": 630,
    "start_time": "2021-08-19T07:36:58.515Z"
   },
   {
    "duration": 9,
    "start_time": "2021-08-19T07:36:59.147Z"
   },
   {
    "duration": 768,
    "start_time": "2021-08-19T07:36:59.158Z"
   },
   {
    "duration": 720,
    "start_time": "2021-08-19T07:36:59.928Z"
   },
   {
    "duration": 664,
    "start_time": "2021-08-19T07:37:00.650Z"
   },
   {
    "duration": 875,
    "start_time": "2021-08-19T07:37:01.316Z"
   },
   {
    "duration": 14,
    "start_time": "2021-08-19T07:37:02.193Z"
   },
   {
    "duration": 344,
    "start_time": "2021-08-19T07:37:02.209Z"
   },
   {
    "duration": -64,
    "start_time": "2021-08-19T07:37:02.620Z"
   },
   {
    "duration": 516,
    "start_time": "2021-08-19T07:37:49.348Z"
   },
   {
    "duration": 395,
    "start_time": "2021-08-19T07:47:32.416Z"
   },
   {
    "duration": 572,
    "start_time": "2021-08-19T07:48:08.800Z"
   },
   {
    "duration": 568,
    "start_time": "2021-08-19T07:49:25.365Z"
   },
   {
    "duration": 2006,
    "start_time": "2021-08-19T07:49:56.905Z"
   },
   {
    "duration": 50,
    "start_time": "2021-08-19T07:49:58.913Z"
   },
   {
    "duration": 14,
    "start_time": "2021-08-19T07:49:58.966Z"
   },
   {
    "duration": 36,
    "start_time": "2021-08-19T07:49:58.981Z"
   },
   {
    "duration": 32,
    "start_time": "2021-08-19T07:49:59.018Z"
   },
   {
    "duration": 7,
    "start_time": "2021-08-19T07:49:59.052Z"
   },
   {
    "duration": 503,
    "start_time": "2021-08-19T07:49:59.060Z"
   },
   {
    "duration": 212,
    "start_time": "2021-08-19T07:49:59.565Z"
   },
   {
    "duration": 621,
    "start_time": "2021-08-19T07:49:59.779Z"
   },
   {
    "duration": 9,
    "start_time": "2021-08-19T07:50:00.402Z"
   },
   {
    "duration": 839,
    "start_time": "2021-08-19T07:50:00.412Z"
   },
   {
    "duration": 693,
    "start_time": "2021-08-19T07:50:01.252Z"
   },
   {
    "duration": 757,
    "start_time": "2021-08-19T07:50:01.947Z"
   },
   {
    "duration": 956,
    "start_time": "2021-08-19T07:50:02.706Z"
   },
   {
    "duration": 9,
    "start_time": "2021-08-19T07:50:03.663Z"
   },
   {
    "duration": 644,
    "start_time": "2021-08-19T07:50:03.673Z"
   },
   {
    "duration": 11,
    "start_time": "2021-08-19T07:50:55.970Z"
   },
   {
    "duration": 7,
    "start_time": "2021-08-19T08:02:25.766Z"
   },
   {
    "duration": 9,
    "start_time": "2021-08-19T08:03:57.902Z"
   },
   {
    "duration": 1239,
    "start_time": "2021-08-19T08:04:50.548Z"
   },
   {
    "duration": 51,
    "start_time": "2021-08-19T08:04:51.789Z"
   },
   {
    "duration": 15,
    "start_time": "2021-08-19T08:04:51.841Z"
   },
   {
    "duration": 19,
    "start_time": "2021-08-19T08:04:51.858Z"
   },
   {
    "duration": 25,
    "start_time": "2021-08-19T08:04:51.878Z"
   },
   {
    "duration": 8,
    "start_time": "2021-08-19T08:04:51.904Z"
   },
   {
    "duration": 514,
    "start_time": "2021-08-19T08:04:51.913Z"
   },
   {
    "duration": 225,
    "start_time": "2021-08-19T08:04:52.430Z"
   },
   {
    "duration": 748,
    "start_time": "2021-08-19T08:04:52.657Z"
   },
   {
    "duration": 7,
    "start_time": "2021-08-19T08:04:53.406Z"
   },
   {
    "duration": 870,
    "start_time": "2021-08-19T08:04:53.415Z"
   },
   {
    "duration": 748,
    "start_time": "2021-08-19T08:04:54.287Z"
   },
   {
    "duration": 675,
    "start_time": "2021-08-19T08:04:55.037Z"
   },
   {
    "duration": 942,
    "start_time": "2021-08-19T08:04:55.714Z"
   },
   {
    "duration": 12,
    "start_time": "2021-08-19T08:04:56.658Z"
   },
   {
    "duration": 10399,
    "start_time": "2021-08-19T08:04:56.672Z"
   },
   {
    "duration": 2,
    "start_time": "2021-08-19T08:05:13.497Z"
   },
   {
    "duration": 12,
    "start_time": "2021-08-19T08:05:32.788Z"
   },
   {
    "duration": 233,
    "start_time": "2021-08-19T08:06:06.612Z"
   },
   {
    "duration": 9,
    "start_time": "2021-08-19T08:06:18.478Z"
   },
   {
    "duration": 9,
    "start_time": "2021-08-19T08:07:26.529Z"
   },
   {
    "duration": 10,
    "start_time": "2021-08-19T08:07:35.070Z"
   },
   {
    "duration": 232,
    "start_time": "2021-08-19T08:07:52.195Z"
   },
   {
    "duration": 656,
    "start_time": "2021-08-19T08:08:38.991Z"
   },
   {
    "duration": 718,
    "start_time": "2021-08-19T08:09:06.135Z"
   },
   {
    "duration": 689,
    "start_time": "2021-08-19T08:10:00.965Z"
   },
   {
    "duration": 654,
    "start_time": "2021-08-19T08:10:24.948Z"
   },
   {
    "duration": 552,
    "start_time": "2021-08-19T08:10:35.219Z"
   },
   {
    "duration": 1441,
    "start_time": "2021-08-19T14:33:09.707Z"
   },
   {
    "duration": 79,
    "start_time": "2021-08-19T14:33:11.151Z"
   },
   {
    "duration": 30,
    "start_time": "2021-08-19T14:33:11.234Z"
   },
   {
    "duration": 14,
    "start_time": "2021-08-19T14:33:11.268Z"
   },
   {
    "duration": 27,
    "start_time": "2021-08-19T14:33:11.285Z"
   },
   {
    "duration": 54,
    "start_time": "2021-08-19T14:33:11.315Z"
   },
   {
    "duration": 882,
    "start_time": "2021-08-19T14:33:11.372Z"
   },
   {
    "duration": 453,
    "start_time": "2021-08-19T14:33:12.258Z"
   },
   {
    "duration": 1076,
    "start_time": "2021-08-19T14:33:12.714Z"
   },
   {
    "duration": 12,
    "start_time": "2021-08-19T14:33:13.792Z"
   },
   {
    "duration": 1238,
    "start_time": "2021-08-19T14:33:13.806Z"
   },
   {
    "duration": 1088,
    "start_time": "2021-08-19T14:33:15.046Z"
   },
   {
    "duration": 1048,
    "start_time": "2021-08-19T14:33:16.136Z"
   },
   {
    "duration": 1403,
    "start_time": "2021-08-19T14:33:17.186Z"
   },
   {
    "duration": 14,
    "start_time": "2021-08-19T14:33:18.592Z"
   },
   {
    "duration": 1070,
    "start_time": "2021-08-19T14:33:18.609Z"
   },
   {
    "duration": 16,
    "start_time": "2021-08-19T14:34:23.874Z"
   },
   {
    "duration": 16,
    "start_time": "2021-08-19T14:34:54.724Z"
   },
   {
    "duration": 18,
    "start_time": "2021-08-19T14:34:58.968Z"
   },
   {
    "duration": 15,
    "start_time": "2021-08-19T14:35:04.702Z"
   },
   {
    "duration": 15,
    "start_time": "2021-08-19T14:35:13.487Z"
   },
   {
    "duration": 15,
    "start_time": "2021-08-19T14:35:21.787Z"
   },
   {
    "duration": 16,
    "start_time": "2021-08-19T14:35:30.958Z"
   },
   {
    "duration": 17,
    "start_time": "2021-08-19T14:35:41.567Z"
   },
   {
    "duration": 15,
    "start_time": "2021-08-19T14:35:49.487Z"
   },
   {
    "duration": 15,
    "start_time": "2021-08-19T14:36:04.447Z"
   },
   {
    "duration": 15,
    "start_time": "2021-08-19T14:36:17.023Z"
   },
   {
    "duration": 16,
    "start_time": "2021-08-19T14:36:22.031Z"
   },
   {
    "duration": 18,
    "start_time": "2021-08-19T14:36:30.619Z"
   },
   {
    "duration": 18,
    "start_time": "2021-08-19T14:36:39.889Z"
   },
   {
    "duration": 15,
    "start_time": "2021-08-19T14:36:50.131Z"
   },
   {
    "duration": 15,
    "start_time": "2021-08-19T14:37:23.968Z"
   },
   {
    "duration": 16,
    "start_time": "2021-08-19T14:37:36.680Z"
   },
   {
    "duration": 18,
    "start_time": "2021-08-19T14:38:19.948Z"
   },
   {
    "duration": 16,
    "start_time": "2021-08-19T14:38:29.487Z"
   },
   {
    "duration": 43,
    "start_time": "2021-08-19T14:41:08.360Z"
   },
   {
    "duration": 53,
    "start_time": "2021-08-19T14:41:15.112Z"
   },
   {
    "duration": 48,
    "start_time": "2021-08-19T14:41:53.156Z"
   },
   {
    "duration": 46,
    "start_time": "2021-08-19T14:42:30.825Z"
   },
   {
    "duration": 49,
    "start_time": "2021-08-19T14:42:38.447Z"
   },
   {
    "duration": 51,
    "start_time": "2021-08-19T14:43:27.651Z"
   },
   {
    "duration": 50,
    "start_time": "2021-08-19T14:43:42.265Z"
   },
   {
    "duration": 472,
    "start_time": "2021-08-19T14:48:11.447Z"
   },
   {
    "duration": 17,
    "start_time": "2021-08-19T14:48:25.521Z"
   },
   {
    "duration": 9243,
    "start_time": "2021-08-19T15:12:15.262Z"
   },
   {
    "duration": 33,
    "start_time": "2021-08-19T15:12:36.080Z"
   },
   {
    "duration": 14,
    "start_time": "2021-08-19T15:14:16.233Z"
   },
   {
    "duration": 350,
    "start_time": "2021-08-19T15:16:43.572Z"
   },
   {
    "duration": 1073,
    "start_time": "2021-08-19T15:16:53.065Z"
   },
   {
    "duration": 1044,
    "start_time": "2021-08-19T15:17:02.721Z"
   },
   {
    "duration": 1462,
    "start_time": "2021-08-20T05:39:39.169Z"
   },
   {
    "duration": 65,
    "start_time": "2021-08-20T05:39:40.634Z"
   },
   {
    "duration": 22,
    "start_time": "2021-08-20T05:39:40.702Z"
   },
   {
    "duration": 10,
    "start_time": "2021-08-20T05:39:40.727Z"
   },
   {
    "duration": 52,
    "start_time": "2021-08-20T05:39:40.739Z"
   },
   {
    "duration": 10,
    "start_time": "2021-08-20T05:39:40.794Z"
   },
   {
    "duration": 835,
    "start_time": "2021-08-20T05:39:40.806Z"
   },
   {
    "duration": 350,
    "start_time": "2021-08-20T05:39:41.645Z"
   },
   {
    "duration": 1026,
    "start_time": "2021-08-20T05:39:41.997Z"
   },
   {
    "duration": 11,
    "start_time": "2021-08-20T05:39:43.025Z"
   },
   {
    "duration": 1199,
    "start_time": "2021-08-20T05:39:43.038Z"
   },
   {
    "duration": 1001,
    "start_time": "2021-08-20T05:39:44.240Z"
   },
   {
    "duration": 1052,
    "start_time": "2021-08-20T05:39:45.243Z"
   },
   {
    "duration": 1385,
    "start_time": "2021-08-20T05:39:46.297Z"
   },
   {
    "duration": 14,
    "start_time": "2021-08-20T05:39:47.686Z"
   },
   {
    "duration": 997,
    "start_time": "2021-08-20T05:39:47.702Z"
   },
   {
    "duration": 31,
    "start_time": "2021-08-20T05:39:48.702Z"
   },
   {
    "duration": 12,
    "start_time": "2021-08-20T05:39:48.735Z"
   },
   {
    "duration": 988,
    "start_time": "2021-08-20T05:39:48.749Z"
   },
   {
    "duration": 1615,
    "start_time": "2021-08-20T18:49:45.872Z"
   },
   {
    "duration": 87,
    "start_time": "2021-08-20T18:49:47.490Z"
   },
   {
    "duration": 32,
    "start_time": "2021-08-20T18:49:47.580Z"
   },
   {
    "duration": 13,
    "start_time": "2021-08-20T18:49:47.614Z"
   },
   {
    "duration": 35,
    "start_time": "2021-08-20T18:49:47.629Z"
   },
   {
    "duration": 39,
    "start_time": "2021-08-20T18:49:47.667Z"
   },
   {
    "duration": 492,
    "start_time": "2021-08-20T18:49:47.708Z"
   },
   {
    "duration": 282,
    "start_time": "2021-08-20T18:49:48.203Z"
   },
   {
    "duration": 537,
    "start_time": "2021-08-20T18:49:48.489Z"
   },
   {
    "duration": 12,
    "start_time": "2021-08-20T18:49:49.029Z"
   },
   {
    "duration": 705,
    "start_time": "2021-08-20T18:49:49.043Z"
   },
   {
    "duration": 596,
    "start_time": "2021-08-20T18:49:49.751Z"
   },
   {
    "duration": 656,
    "start_time": "2021-08-20T18:49:50.350Z"
   },
   {
    "duration": 633,
    "start_time": "2021-08-20T18:49:51.008Z"
   },
   {
    "duration": 13,
    "start_time": "2021-08-20T18:49:51.643Z"
   },
   {
    "duration": 250203,
    "start_time": "2021-08-20T18:49:51.659Z"
   },
   {
    "duration": 37,
    "start_time": "2021-08-20T18:54:01.864Z"
   },
   {
    "duration": 12,
    "start_time": "2021-08-20T18:54:01.904Z"
   },
   {
    "duration": 718,
    "start_time": "2021-08-20T18:54:01.918Z"
   },
   {
    "duration": 108,
    "start_time": "2021-08-20T19:02:29.615Z"
   },
   {
    "duration": 1571,
    "start_time": "2021-08-24T11:50:19.534Z"
   },
   {
    "duration": 77,
    "start_time": "2021-08-24T11:50:21.107Z"
   },
   {
    "duration": 26,
    "start_time": "2021-08-24T11:50:21.187Z"
   },
   {
    "duration": 15,
    "start_time": "2021-08-24T11:50:21.216Z"
   },
   {
    "duration": 53,
    "start_time": "2021-08-24T11:50:21.234Z"
   },
   {
    "duration": 12,
    "start_time": "2021-08-24T11:50:21.290Z"
   },
   {
    "duration": 924,
    "start_time": "2021-08-24T11:50:21.305Z"
   },
   {
    "duration": 491,
    "start_time": "2021-08-24T11:50:22.233Z"
   },
   {
    "duration": 1227,
    "start_time": "2021-08-24T11:50:22.727Z"
   },
   {
    "duration": 32,
    "start_time": "2021-08-24T11:50:23.957Z"
   },
   {
    "duration": 1324,
    "start_time": "2021-08-24T11:50:23.992Z"
   },
   {
    "duration": 1182,
    "start_time": "2021-08-24T11:50:25.318Z"
   },
   {
    "duration": 1237,
    "start_time": "2021-08-24T11:50:26.502Z"
   },
   {
    "duration": 1532,
    "start_time": "2021-08-24T11:50:27.742Z"
   },
   {
    "duration": 20,
    "start_time": "2021-08-24T11:50:29.277Z"
   },
   {
    "duration": 1161,
    "start_time": "2021-08-24T11:50:29.300Z"
   },
   {
    "duration": 44,
    "start_time": "2021-08-24T11:50:30.463Z"
   },
   {
    "duration": 14,
    "start_time": "2021-08-24T11:50:30.510Z"
   },
   {
    "duration": 1116,
    "start_time": "2021-08-24T11:50:30.527Z"
   },
   {
    "duration": 9,
    "start_time": "2021-08-24T11:51:40.369Z"
   },
   {
    "duration": 6,
    "start_time": "2021-08-24T11:52:19.181Z"
   },
   {
    "duration": 21,
    "start_time": "2021-08-24T11:52:32.719Z"
   },
   {
    "duration": 8,
    "start_time": "2021-08-24T11:52:55.330Z"
   },
   {
    "duration": 8,
    "start_time": "2021-08-24T11:53:20.020Z"
   },
   {
    "duration": 6,
    "start_time": "2021-08-24T11:53:35.410Z"
   },
   {
    "duration": 8,
    "start_time": "2021-08-24T11:53:47.402Z"
   },
   {
    "duration": 7,
    "start_time": "2021-08-24T11:53:55.452Z"
   },
   {
    "duration": 31,
    "start_time": "2021-08-24T12:00:49.653Z"
   },
   {
    "duration": 31,
    "start_time": "2021-08-24T12:01:25.679Z"
   },
   {
    "duration": 30,
    "start_time": "2021-08-24T12:02:46.254Z"
   },
   {
    "duration": 1492,
    "start_time": "2021-08-24T12:04:18.979Z"
   },
   {
    "duration": 74,
    "start_time": "2021-08-24T12:04:20.474Z"
   },
   {
    "duration": 41,
    "start_time": "2021-08-24T12:04:20.552Z"
   },
   {
    "duration": 19,
    "start_time": "2021-08-24T12:04:20.597Z"
   },
   {
    "duration": 34,
    "start_time": "2021-08-24T12:04:20.620Z"
   },
   {
    "duration": 4,
    "start_time": "2021-08-24T12:04:20.657Z"
   },
   {
    "duration": 15,
    "start_time": "2021-08-24T12:04:20.685Z"
   },
   {
    "duration": 986,
    "start_time": "2021-08-24T12:04:20.704Z"
   },
   {
    "duration": 379,
    "start_time": "2021-08-24T12:04:21.694Z"
   },
   {
    "duration": 1093,
    "start_time": "2021-08-24T12:04:22.076Z"
   },
   {
    "duration": 21,
    "start_time": "2021-08-24T12:04:23.172Z"
   },
   {
    "duration": 1278,
    "start_time": "2021-08-24T12:04:23.196Z"
   },
   {
    "duration": 1158,
    "start_time": "2021-08-24T12:04:24.476Z"
   },
   {
    "duration": 1299,
    "start_time": "2021-08-24T12:04:25.636Z"
   },
   {
    "duration": 1632,
    "start_time": "2021-08-24T12:04:26.938Z"
   },
   {
    "duration": 23,
    "start_time": "2021-08-24T12:04:28.573Z"
   },
   {
    "duration": 1112,
    "start_time": "2021-08-24T12:04:28.598Z"
   },
   {
    "duration": 32,
    "start_time": "2021-08-24T12:04:29.712Z"
   },
   {
    "duration": 13,
    "start_time": "2021-08-24T12:04:29.746Z"
   },
   {
    "duration": 1037,
    "start_time": "2021-08-24T12:04:29.785Z"
   },
   {
    "duration": 99,
    "start_time": "2021-08-24T12:05:35.849Z"
   },
   {
    "duration": 8268,
    "start_time": "2021-08-24T12:05:40.027Z"
   },
   {
    "duration": 32,
    "start_time": "2021-08-24T12:06:20.843Z"
   },
   {
    "duration": 31,
    "start_time": "2021-08-24T12:09:23.877Z"
   },
   {
    "duration": 23,
    "start_time": "2021-08-24T12:14:39.211Z"
   },
   {
    "duration": 644,
    "start_time": "2021-08-24T12:20:13.863Z"
   },
   {
    "duration": 64,
    "start_time": "2021-08-24T12:20:25.028Z"
   },
   {
    "duration": 941,
    "start_time": "2021-08-24T12:33:28.444Z"
   },
   {
    "duration": 876,
    "start_time": "2021-08-24T12:33:58.439Z"
   },
   {
    "duration": 855,
    "start_time": "2021-08-24T12:34:18.307Z"
   },
   {
    "duration": 944,
    "start_time": "2021-08-24T12:34:58.745Z"
   },
   {
    "duration": 882,
    "start_time": "2021-08-24T12:35:20.084Z"
   },
   {
    "duration": 885,
    "start_time": "2021-08-24T12:35:42.440Z"
   },
   {
    "duration": 885,
    "start_time": "2021-08-24T12:35:52.514Z"
   },
   {
    "duration": 885,
    "start_time": "2021-08-24T12:36:36.489Z"
   },
   {
    "duration": 10,
    "start_time": "2021-08-24T12:45:12.792Z"
   },
   {
    "duration": 324,
    "start_time": "2021-08-24T12:45:31.730Z"
   },
   {
    "duration": 11,
    "start_time": "2021-08-24T12:46:04.247Z"
   },
   {
    "duration": 11,
    "start_time": "2021-08-24T12:46:16.411Z"
   },
   {
    "duration": 11,
    "start_time": "2021-08-24T12:46:20.960Z"
   },
   {
    "duration": 892,
    "start_time": "2021-08-24T12:46:39.239Z"
   },
   {
    "duration": 943,
    "start_time": "2021-08-24T12:47:05.745Z"
   },
   {
    "duration": 873,
    "start_time": "2021-08-24T12:49:12.281Z"
   },
   {
    "duration": 357,
    "start_time": "2021-08-24T12:50:09.473Z"
   },
   {
    "duration": 1069,
    "start_time": "2021-08-24T12:51:33.285Z"
   },
   {
    "duration": 1341,
    "start_time": "2021-08-24T12:51:50.795Z"
   },
   {
    "duration": 962,
    "start_time": "2021-08-24T12:52:05.944Z"
   },
   {
    "duration": 11,
    "start_time": "2021-08-24T13:10:36.050Z"
   },
   {
    "duration": 13,
    "start_time": "2021-08-24T13:11:10.227Z"
   },
   {
    "duration": 9,
    "start_time": "2021-08-24T13:18:07.264Z"
   },
   {
    "duration": 15,
    "start_time": "2021-08-24T13:18:17.772Z"
   },
   {
    "duration": 10,
    "start_time": "2021-08-24T13:18:43.120Z"
   },
   {
    "duration": 10,
    "start_time": "2021-08-24T13:19:22.183Z"
   },
   {
    "duration": 16,
    "start_time": "2021-08-24T13:19:32.079Z"
   },
   {
    "duration": 17,
    "start_time": "2021-08-24T13:19:56.921Z"
   },
   {
    "duration": 16,
    "start_time": "2021-08-24T13:20:04.014Z"
   },
   {
    "duration": 16,
    "start_time": "2021-08-24T13:20:25.360Z"
   },
   {
    "duration": 948,
    "start_time": "2021-08-24T13:20:37.161Z"
   },
   {
    "duration": 10,
    "start_time": "2021-08-24T13:20:45.710Z"
   },
   {
    "duration": 13,
    "start_time": "2021-08-24T13:21:12.985Z"
   },
   {
    "duration": 945,
    "start_time": "2021-08-24T13:21:26.136Z"
   },
   {
    "duration": 20,
    "start_time": "2021-08-24T13:24:59.157Z"
   },
   {
    "duration": 5,
    "start_time": "2021-08-24T13:25:52.298Z"
   },
   {
    "duration": 307,
    "start_time": "2021-08-24T13:26:07.122Z"
   },
   {
    "duration": 7,
    "start_time": "2021-08-24T13:26:16.340Z"
   },
   {
    "duration": 15,
    "start_time": "2021-08-24T13:27:31.277Z"
   },
   {
    "duration": 7683,
    "start_time": "2021-08-24T13:28:52.445Z"
   },
   {
    "duration": 18,
    "start_time": "2021-08-24T13:29:00.985Z"
   },
   {
    "duration": 999,
    "start_time": "2021-08-24T13:30:26.440Z"
   },
   {
    "duration": 19,
    "start_time": "2021-08-24T13:31:20.078Z"
   },
   {
    "duration": 979,
    "start_time": "2021-08-24T13:31:44.345Z"
   },
   {
    "duration": 19,
    "start_time": "2021-08-24T13:32:00.839Z"
   },
   {
    "duration": 20,
    "start_time": "2021-08-24T13:32:25.251Z"
   },
   {
    "duration": 1516,
    "start_time": "2021-08-24T13:32:42.464Z"
   },
   {
    "duration": 74,
    "start_time": "2021-08-24T13:32:43.983Z"
   },
   {
    "duration": 32,
    "start_time": "2021-08-24T13:32:44.060Z"
   },
   {
    "duration": 22,
    "start_time": "2021-08-24T13:32:44.095Z"
   },
   {
    "duration": 46,
    "start_time": "2021-08-24T13:32:44.120Z"
   },
   {
    "duration": 39,
    "start_time": "2021-08-24T13:32:44.169Z"
   },
   {
    "duration": 12,
    "start_time": "2021-08-24T13:32:44.211Z"
   },
   {
    "duration": 86,
    "start_time": "2021-08-24T13:32:44.227Z"
   },
   {
    "duration": 862,
    "start_time": "2021-08-24T13:32:44.316Z"
   },
   {
    "duration": 380,
    "start_time": "2021-08-24T13:32:45.184Z"
   },
   {
    "duration": 37,
    "start_time": "2021-08-24T13:32:45.568Z"
   },
   {
    "duration": 18,
    "start_time": "2021-08-24T13:32:45.608Z"
   },
   {
    "duration": 24,
    "start_time": "2021-08-24T13:32:45.629Z"
   },
   {
    "duration": 1029,
    "start_time": "2021-08-24T13:32:45.656Z"
   },
   {
    "duration": 13,
    "start_time": "2021-08-24T13:32:46.688Z"
   },
   {
    "duration": 1270,
    "start_time": "2021-08-24T13:32:46.704Z"
   },
   {
    "duration": 1105,
    "start_time": "2021-08-24T13:32:47.977Z"
   },
   {
    "duration": 1079,
    "start_time": "2021-08-24T13:32:49.084Z"
   },
   {
    "duration": 1529,
    "start_time": "2021-08-24T13:32:50.166Z"
   },
   {
    "duration": 14,
    "start_time": "2021-08-24T13:32:51.698Z"
   },
   {
    "duration": 1119,
    "start_time": "2021-08-24T13:32:51.714Z"
   },
   {
    "duration": 51,
    "start_time": "2021-08-24T13:32:52.835Z"
   },
   {
    "duration": 14,
    "start_time": "2021-08-24T13:32:52.890Z"
   },
   {
    "duration": 1058,
    "start_time": "2021-08-24T13:32:52.907Z"
   },
   {
    "duration": 19,
    "start_time": "2021-08-24T13:33:18.812Z"
   },
   {
    "duration": 18,
    "start_time": "2021-08-24T13:33:28.399Z"
   },
   {
    "duration": 18,
    "start_time": "2021-08-24T13:33:38.343Z"
   },
   {
    "duration": 1101,
    "start_time": "2021-08-24T13:33:43.601Z"
   },
   {
    "duration": 1428,
    "start_time": "2021-08-24T13:47:15.251Z"
   },
   {
    "duration": 2316,
    "start_time": "2021-08-24T13:48:42.520Z"
   },
   {
    "duration": 318,
    "start_time": "2021-08-24T13:48:57.160Z"
   },
   {
    "duration": 1514,
    "start_time": "2021-08-24T13:49:04.305Z"
   },
   {
    "duration": 1501,
    "start_time": "2021-08-24T13:49:08.518Z"
   },
   {
    "duration": 296,
    "start_time": "2021-08-24T13:53:34.762Z"
   },
   {
    "duration": 1405,
    "start_time": "2021-08-24T13:54:53.093Z"
   },
   {
    "duration": 318,
    "start_time": "2021-08-24T13:56:23.770Z"
   },
   {
    "duration": 1441,
    "start_time": "2021-08-24T13:57:12.518Z"
   },
   {
    "duration": 1539,
    "start_time": "2021-08-24T13:57:27.574Z"
   },
   {
    "duration": 307,
    "start_time": "2021-08-24T13:57:43.914Z"
   },
   {
    "duration": 1642,
    "start_time": "2021-08-24T13:57:58.483Z"
   },
   {
    "duration": 1294,
    "start_time": "2021-08-24T13:58:17.227Z"
   },
   {
    "duration": 1073,
    "start_time": "2021-08-24T13:59:00.296Z"
   },
   {
    "duration": 979,
    "start_time": "2021-08-24T13:59:23.202Z"
   },
   {
    "duration": 1313,
    "start_time": "2021-08-24T14:03:13.434Z"
   },
   {
    "duration": 1003,
    "start_time": "2021-08-24T14:03:36.147Z"
   },
   {
    "duration": 17,
    "start_time": "2021-08-24T14:26:38.789Z"
   },
   {
    "duration": 377,
    "start_time": "2021-08-24T14:27:34.014Z"
   },
   {
    "duration": 17,
    "start_time": "2021-08-24T14:27:43.698Z"
   },
   {
    "duration": 18,
    "start_time": "2021-08-24T14:29:54.759Z"
   },
   {
    "duration": 15,
    "start_time": "2021-08-24T15:07:30.962Z"
   },
   {
    "duration": 13,
    "start_time": "2021-08-24T15:07:38.398Z"
   },
   {
    "duration": 12,
    "start_time": "2021-08-24T15:07:59.301Z"
   },
   {
    "duration": 24,
    "start_time": "2021-08-24T15:09:16.347Z"
   },
   {
    "duration": 26,
    "start_time": "2021-08-24T15:09:39.171Z"
   },
   {
    "duration": 13,
    "start_time": "2021-08-24T15:09:58.134Z"
   },
   {
    "duration": 24,
    "start_time": "2021-08-24T15:10:04.889Z"
   },
   {
    "duration": 15,
    "start_time": "2021-08-24T15:10:14.103Z"
   },
   {
    "duration": 139,
    "start_time": "2021-08-24T16:15:20.295Z"
   },
   {
    "duration": 6,
    "start_time": "2021-08-24T16:16:27.104Z"
   },
   {
    "duration": 789,
    "start_time": "2021-08-24T16:17:07.691Z"
   },
   {
    "duration": 119,
    "start_time": "2021-08-24T16:34:08.560Z"
   },
   {
    "duration": 4,
    "start_time": "2021-08-24T16:34:15.959Z"
   },
   {
    "duration": 1573,
    "start_time": "2021-08-24T16:34:18.264Z"
   },
   {
    "duration": 4,
    "start_time": "2021-08-24T16:34:31.522Z"
   },
   {
    "duration": 1878,
    "start_time": "2021-08-24T16:34:46.092Z"
   },
   {
    "duration": 5,
    "start_time": "2021-08-24T16:36:31.043Z"
   },
   {
    "duration": 4,
    "start_time": "2021-08-24T16:36:47.376Z"
   },
   {
    "duration": 61,
    "start_time": "2021-08-24T16:36:49.501Z"
   },
   {
    "duration": 14,
    "start_time": "2021-08-24T16:38:35.433Z"
   },
   {
    "duration": 12,
    "start_time": "2021-08-24T16:38:53.751Z"
   },
   {
    "duration": 12,
    "start_time": "2021-08-24T16:39:25.430Z"
   },
   {
    "duration": 15,
    "start_time": "2021-08-24T16:43:21.541Z"
   },
   {
    "duration": 14,
    "start_time": "2021-08-24T16:43:50.759Z"
   },
   {
    "duration": 1742,
    "start_time": "2021-08-24T16:44:19.249Z"
   },
   {
    "duration": 75,
    "start_time": "2021-08-24T16:44:20.994Z"
   },
   {
    "duration": 31,
    "start_time": "2021-08-24T16:44:21.072Z"
   },
   {
    "duration": 14,
    "start_time": "2021-08-24T16:44:21.105Z"
   },
   {
    "duration": 66,
    "start_time": "2021-08-24T16:44:21.122Z"
   },
   {
    "duration": 33,
    "start_time": "2021-08-24T16:44:21.190Z"
   },
   {
    "duration": 12,
    "start_time": "2021-08-24T16:44:21.226Z"
   },
   {
    "duration": 94,
    "start_time": "2021-08-24T16:44:21.241Z"
   },
   {
    "duration": 856,
    "start_time": "2021-08-24T16:44:21.338Z"
   },
   {
    "duration": 389,
    "start_time": "2021-08-24T16:44:22.196Z"
   },
   {
    "duration": 25,
    "start_time": "2021-08-24T16:44:22.587Z"
   },
   {
    "duration": 15,
    "start_time": "2021-08-24T16:44:22.614Z"
   },
   {
    "duration": 22,
    "start_time": "2021-08-24T16:44:22.631Z"
   },
   {
    "duration": 1011,
    "start_time": "2021-08-24T16:44:22.685Z"
   },
   {
    "duration": 11,
    "start_time": "2021-08-24T16:44:23.698Z"
   },
   {
    "duration": 1302,
    "start_time": "2021-08-24T16:44:23.711Z"
   },
   {
    "duration": 1097,
    "start_time": "2021-08-24T16:44:25.016Z"
   },
   {
    "duration": 1074,
    "start_time": "2021-08-24T16:44:26.115Z"
   },
   {
    "duration": 1595,
    "start_time": "2021-08-24T16:44:27.191Z"
   },
   {
    "duration": 21,
    "start_time": "2021-08-24T16:44:28.789Z"
   },
   {
    "duration": 4,
    "start_time": "2021-08-24T16:44:28.813Z"
   },
   {
    "duration": 14,
    "start_time": "2021-08-24T16:44:28.820Z"
   },
   {
    "duration": 113,
    "start_time": "2021-08-24T16:44:28.840Z"
   },
   {
    "duration": 43,
    "start_time": "2021-08-24T16:44:28.957Z"
   },
   {
    "duration": 33,
    "start_time": "2021-08-24T16:44:29.004Z"
   },
   {
    "duration": 852,
    "start_time": "2021-08-24T16:44:29.040Z"
   },
   {
    "duration": -1026,
    "start_time": "2021-08-24T16:44:30.920Z"
   },
   {
    "duration": -1041,
    "start_time": "2021-08-24T16:44:30.936Z"
   },
   {
    "duration": -1082,
    "start_time": "2021-08-24T16:44:30.979Z"
   },
   {
    "duration": -1096,
    "start_time": "2021-08-24T16:44:30.994Z"
   },
   {
    "duration": -1170,
    "start_time": "2021-08-24T16:44:31.070Z"
   },
   {
    "duration": 3,
    "start_time": "2021-08-24T16:44:49.892Z"
   },
   {
    "duration": 19,
    "start_time": "2021-08-24T16:44:52.544Z"
   },
   {
    "duration": 12,
    "start_time": "2021-08-24T16:45:05.721Z"
   },
   {
    "duration": 14,
    "start_time": "2021-08-24T16:45:11.615Z"
   },
   {
    "duration": 14,
    "start_time": "2021-08-24T16:46:14.826Z"
   },
   {
    "duration": 404,
    "start_time": "2021-08-24T16:48:20.145Z"
   },
   {
    "duration": 52,
    "start_time": "2021-08-24T16:48:25.156Z"
   },
   {
    "duration": 56,
    "start_time": "2021-08-24T16:48:35.006Z"
   },
   {
    "duration": 15,
    "start_time": "2021-08-24T16:49:10.930Z"
   },
   {
    "duration": 15,
    "start_time": "2021-08-24T16:49:15.325Z"
   },
   {
    "duration": 4,
    "start_time": "2021-08-24T16:49:22.914Z"
   },
   {
    "duration": 63,
    "start_time": "2021-08-24T16:49:22.926Z"
   },
   {
    "duration": 26,
    "start_time": "2021-08-24T16:49:22.992Z"
   },
   {
    "duration": 15,
    "start_time": "2021-08-24T16:49:23.021Z"
   },
   {
    "duration": 65,
    "start_time": "2021-08-24T16:49:23.039Z"
   },
   {
    "duration": 34,
    "start_time": "2021-08-24T16:49:23.107Z"
   },
   {
    "duration": 48,
    "start_time": "2021-08-24T16:49:23.144Z"
   },
   {
    "duration": 93,
    "start_time": "2021-08-24T16:49:23.194Z"
   },
   {
    "duration": 964,
    "start_time": "2021-08-24T16:49:23.293Z"
   },
   {
    "duration": 384,
    "start_time": "2021-08-24T16:49:24.260Z"
   },
   {
    "duration": 20,
    "start_time": "2021-08-24T16:49:24.646Z"
   },
   {
    "duration": 15,
    "start_time": "2021-08-24T16:49:24.686Z"
   },
   {
    "duration": 19,
    "start_time": "2021-08-24T16:49:24.704Z"
   },
   {
    "duration": 1113,
    "start_time": "2021-08-24T16:49:24.725Z"
   },
   {
    "duration": 12,
    "start_time": "2021-08-24T16:49:25.841Z"
   },
   {
    "duration": 1465,
    "start_time": "2021-08-24T16:49:25.856Z"
   },
   {
    "duration": 1003,
    "start_time": "2021-08-24T16:49:27.323Z"
   },
   {
    "duration": 1278,
    "start_time": "2021-08-24T16:49:28.328Z"
   },
   {
    "duration": 1680,
    "start_time": "2021-08-24T16:49:29.608Z"
   },
   {
    "duration": 17,
    "start_time": "2021-08-24T16:49:31.291Z"
   },
   {
    "duration": 8,
    "start_time": "2021-08-24T16:49:31.311Z"
   },
   {
    "duration": 34,
    "start_time": "2021-08-24T16:49:31.321Z"
   },
   {
    "duration": 76,
    "start_time": "2021-08-24T16:49:31.357Z"
   },
   {
    "duration": 6,
    "start_time": "2021-08-24T16:49:31.438Z"
   },
   {
    "duration": 33,
    "start_time": "2021-08-24T16:49:31.447Z"
   },
   {
    "duration": 3,
    "start_time": "2021-08-24T16:49:31.483Z"
   },
   {
    "duration": 15,
    "start_time": "2021-08-24T16:49:31.488Z"
   },
   {
    "duration": 22,
    "start_time": "2021-08-24T16:49:31.505Z"
   },
   {
    "duration": 340,
    "start_time": "2021-08-24T16:49:31.530Z"
   },
   {
    "duration": -217,
    "start_time": "2021-08-24T16:49:32.090Z"
   },
   {
    "duration": -236,
    "start_time": "2021-08-24T16:49:32.111Z"
   },
   {
    "duration": 351,
    "start_time": "2021-08-24T16:53:55.768Z"
   },
   {
    "duration": 24,
    "start_time": "2021-08-24T16:54:13.444Z"
   },
   {
    "duration": 11,
    "start_time": "2021-08-24T16:55:18.923Z"
   },
   {
    "duration": 344,
    "start_time": "2021-08-24T16:57:58.531Z"
   },
   {
    "duration": 887,
    "start_time": "2021-08-24T16:58:21.397Z"
   },
   {
    "duration": 1044,
    "start_time": "2021-08-24T16:58:43.143Z"
   },
   {
    "duration": 3,
    "start_time": "2021-08-24T17:01:42.488Z"
   },
   {
    "duration": 4,
    "start_time": "2021-08-24T17:18:11.438Z"
   },
   {
    "duration": 104,
    "start_time": "2021-08-24T17:18:13.808Z"
   },
   {
    "duration": 443,
    "start_time": "2021-08-24T17:19:39.577Z"
   },
   {
    "duration": 4,
    "start_time": "2021-08-24T17:19:43.075Z"
   },
   {
    "duration": 262,
    "start_time": "2021-08-24T17:19:46.220Z"
   },
   {
    "duration": 4,
    "start_time": "2021-08-24T17:20:24.634Z"
   },
   {
    "duration": 13,
    "start_time": "2021-08-24T17:21:23.214Z"
   },
   {
    "duration": 5,
    "start_time": "2021-08-24T17:23:35.086Z"
   },
   {
    "duration": 13,
    "start_time": "2021-08-24T17:28:18.051Z"
   },
   {
    "duration": 5,
    "start_time": "2021-08-24T17:32:43.255Z"
   },
   {
    "duration": 10,
    "start_time": "2021-08-24T17:36:04.629Z"
   },
   {
    "duration": 10,
    "start_time": "2021-08-24T17:36:58.889Z"
   },
   {
    "duration": 10,
    "start_time": "2021-08-24T17:37:03.671Z"
   },
   {
    "duration": 23,
    "start_time": "2021-08-24T17:37:15.198Z"
   },
   {
    "duration": 10,
    "start_time": "2021-08-24T17:37:20.350Z"
   },
   {
    "duration": 1262,
    "start_time": "2021-08-24T17:37:31.338Z"
   },
   {
    "duration": 118,
    "start_time": "2021-08-24T17:43:32.901Z"
   },
   {
    "duration": 7,
    "start_time": "2021-08-24T17:44:04.355Z"
   },
   {
    "duration": 373,
    "start_time": "2021-08-24T17:44:16.944Z"
   },
   {
    "duration": 6,
    "start_time": "2021-08-24T17:46:16.506Z"
   },
   {
    "duration": 6,
    "start_time": "2021-08-24T17:48:03.258Z"
   },
   {
    "duration": 310,
    "start_time": "2021-08-24T17:48:09.534Z"
   },
   {
    "duration": 334,
    "start_time": "2021-08-24T17:50:39.856Z"
   },
   {
    "duration": 2271,
    "start_time": "2021-08-24T17:50:58.642Z"
   },
   {
    "duration": 7,
    "start_time": "2021-08-24T17:51:12.910Z"
   },
   {
    "duration": 2113,
    "start_time": "2021-08-24T17:51:15.444Z"
   },
   {
    "duration": 6,
    "start_time": "2021-08-24T17:51:26.189Z"
   },
   {
    "duration": 2519,
    "start_time": "2021-08-24T17:51:28.268Z"
   },
   {
    "duration": 1745,
    "start_time": "2021-08-24T17:53:28.353Z"
   },
   {
    "duration": 75,
    "start_time": "2021-08-24T17:53:30.101Z"
   },
   {
    "duration": 26,
    "start_time": "2021-08-24T17:53:30.179Z"
   },
   {
    "duration": 27,
    "start_time": "2021-08-24T17:53:30.207Z"
   },
   {
    "duration": 57,
    "start_time": "2021-08-24T17:53:30.237Z"
   },
   {
    "duration": 33,
    "start_time": "2021-08-24T17:53:30.297Z"
   },
   {
    "duration": 15,
    "start_time": "2021-08-24T17:53:30.332Z"
   },
   {
    "duration": 85,
    "start_time": "2021-08-24T17:53:30.351Z"
   },
   {
    "duration": 881,
    "start_time": "2021-08-24T17:53:30.438Z"
   },
   {
    "duration": 386,
    "start_time": "2021-08-24T17:53:31.321Z"
   },
   {
    "duration": 27,
    "start_time": "2021-08-24T17:53:31.709Z"
   },
   {
    "duration": 15,
    "start_time": "2021-08-24T17:53:31.738Z"
   },
   {
    "duration": 47,
    "start_time": "2021-08-24T17:53:31.755Z"
   },
   {
    "duration": 1039,
    "start_time": "2021-08-24T17:53:31.805Z"
   },
   {
    "duration": 11,
    "start_time": "2021-08-24T17:53:32.846Z"
   },
   {
    "duration": 1296,
    "start_time": "2021-08-24T17:53:32.859Z"
   },
   {
    "duration": 1096,
    "start_time": "2021-08-24T17:53:34.158Z"
   },
   {
    "duration": 1121,
    "start_time": "2021-08-24T17:53:35.256Z"
   },
   {
    "duration": 1412,
    "start_time": "2021-08-24T17:53:36.379Z"
   },
   {
    "duration": 18,
    "start_time": "2021-08-24T17:53:37.793Z"
   },
   {
    "duration": 4,
    "start_time": "2021-08-24T17:53:37.814Z"
   },
   {
    "duration": 10,
    "start_time": "2021-08-24T17:53:37.820Z"
   },
   {
    "duration": 86,
    "start_time": "2021-08-24T17:53:37.835Z"
   },
   {
    "duration": 3,
    "start_time": "2021-08-24T17:53:37.924Z"
   },
   {
    "duration": 35,
    "start_time": "2021-08-24T17:53:37.930Z"
   },
   {
    "duration": 27,
    "start_time": "2021-08-24T17:53:37.967Z"
   },
   {
    "duration": 1067,
    "start_time": "2021-08-24T17:53:37.997Z"
   },
   {
    "duration": 4,
    "start_time": "2021-08-24T17:53:39.067Z"
   },
   {
    "duration": 14,
    "start_time": "2021-08-24T17:53:39.074Z"
   },
   {
    "duration": 7,
    "start_time": "2021-08-24T17:53:39.090Z"
   },
   {
    "duration": 7,
    "start_time": "2021-08-24T17:53:39.099Z"
   },
   {
    "duration": 6,
    "start_time": "2021-08-24T17:53:39.109Z"
   },
   {
    "duration": 1901,
    "start_time": "2021-08-24T17:53:39.117Z"
   },
   {
    "duration": -68,
    "start_time": "2021-08-24T17:53:41.089Z"
   },
   {
    "duration": -80,
    "start_time": "2021-08-24T17:53:41.102Z"
   },
   {
    "duration": -92,
    "start_time": "2021-08-24T17:53:41.116Z"
   },
   {
    "duration": 406,
    "start_time": "2021-08-24T17:54:28.089Z"
   },
   {
    "duration": 4,
    "start_time": "2021-08-24T17:56:54.567Z"
   },
   {
    "duration": 242,
    "start_time": "2021-08-24T17:56:56.843Z"
   },
   {
    "duration": 8,
    "start_time": "2021-08-24T17:56:58.445Z"
   },
   {
    "duration": 325,
    "start_time": "2021-08-24T17:57:16.721Z"
   },
   {
    "duration": 14,
    "start_time": "2021-08-24T17:57:30.316Z"
   },
   {
    "duration": 7,
    "start_time": "2021-08-24T17:58:06.551Z"
   },
   {
    "duration": 1873,
    "start_time": "2021-08-24T17:58:08.684Z"
   },
   {
    "duration": 10,
    "start_time": "2021-08-24T17:58:46.168Z"
   },
   {
    "duration": 2261,
    "start_time": "2021-08-24T17:58:48.405Z"
   },
   {
    "duration": 7,
    "start_time": "2021-08-24T17:59:27.863Z"
   },
   {
    "duration": 2905,
    "start_time": "2021-08-24T17:59:30.287Z"
   },
   {
    "duration": 7,
    "start_time": "2021-08-24T17:59:57.496Z"
   },
   {
    "duration": 2583,
    "start_time": "2021-08-24T17:59:59.650Z"
   },
   {
    "duration": 7,
    "start_time": "2021-08-24T18:00:17.065Z"
   },
   {
    "duration": 3038,
    "start_time": "2021-08-24T18:00:19.698Z"
   },
   {
    "duration": 6,
    "start_time": "2021-08-24T18:00:56.359Z"
   },
   {
    "duration": 3039,
    "start_time": "2021-08-24T18:00:58.450Z"
   },
   {
    "duration": 6,
    "start_time": "2021-08-24T18:02:49.045Z"
   },
   {
    "duration": 1870,
    "start_time": "2021-08-24T18:02:51.522Z"
   },
   {
    "duration": 7,
    "start_time": "2021-08-24T18:03:05.361Z"
   },
   {
    "duration": 1967,
    "start_time": "2021-08-24T18:03:07.642Z"
   },
   {
    "duration": 6,
    "start_time": "2021-08-24T18:03:22.939Z"
   },
   {
    "duration": 2621,
    "start_time": "2021-08-24T18:03:25.265Z"
   },
   {
    "duration": 7,
    "start_time": "2021-08-24T18:05:56.451Z"
   },
   {
    "duration": 2261,
    "start_time": "2021-08-24T18:05:59.136Z"
   },
   {
    "duration": 7,
    "start_time": "2021-08-24T18:06:21.181Z"
   },
   {
    "duration": 2699,
    "start_time": "2021-08-24T18:06:23.765Z"
   },
   {
    "duration": 2825,
    "start_time": "2021-08-24T18:06:45.479Z"
   },
   {
    "duration": 7,
    "start_time": "2021-08-24T18:07:28.492Z"
   },
   {
    "duration": 2840,
    "start_time": "2021-08-24T18:07:30.571Z"
   },
   {
    "duration": 6,
    "start_time": "2021-08-24T18:07:51.424Z"
   },
   {
    "duration": 1840,
    "start_time": "2021-08-24T18:07:54.648Z"
   },
   {
    "duration": 7,
    "start_time": "2021-08-24T18:08:05.980Z"
   },
   {
    "duration": 2483,
    "start_time": "2021-08-24T18:08:07.828Z"
   },
   {
    "duration": 7,
    "start_time": "2021-08-24T18:08:25.870Z"
   },
   {
    "duration": 2766,
    "start_time": "2021-08-24T18:08:28.647Z"
   },
   {
    "duration": 5,
    "start_time": "2021-08-24T18:10:20.751Z"
   },
   {
    "duration": 4,
    "start_time": "2021-08-24T18:10:46.902Z"
   },
   {
    "duration": 3086,
    "start_time": "2021-08-24T18:10:58.818Z"
   },
   {
    "duration": 12,
    "start_time": "2021-08-24T18:16:07.974Z"
   },
   {
    "duration": 12,
    "start_time": "2021-08-24T18:16:37.084Z"
   },
   {
    "duration": 11,
    "start_time": "2021-08-24T18:16:49.974Z"
   },
   {
    "duration": 12,
    "start_time": "2021-08-24T18:16:53.144Z"
   },
   {
    "duration": 14,
    "start_time": "2021-08-24T18:17:28.482Z"
   },
   {
    "duration": 2164,
    "start_time": "2021-08-24T18:17:42.276Z"
   },
   {
    "duration": 78,
    "start_time": "2021-08-24T18:17:44.442Z"
   },
   {
    "duration": 26,
    "start_time": "2021-08-24T18:17:44.523Z"
   },
   {
    "duration": 35,
    "start_time": "2021-08-24T18:17:44.552Z"
   },
   {
    "duration": 44,
    "start_time": "2021-08-24T18:17:44.589Z"
   },
   {
    "duration": 52,
    "start_time": "2021-08-24T18:17:44.635Z"
   },
   {
    "duration": 13,
    "start_time": "2021-08-24T18:17:44.689Z"
   },
   {
    "duration": 87,
    "start_time": "2021-08-24T18:17:44.706Z"
   },
   {
    "duration": 872,
    "start_time": "2021-08-24T18:17:44.795Z"
   },
   {
    "duration": 406,
    "start_time": "2021-08-24T18:17:45.669Z"
   },
   {
    "duration": 31,
    "start_time": "2021-08-24T18:17:46.077Z"
   },
   {
    "duration": 18,
    "start_time": "2021-08-24T18:17:46.111Z"
   },
   {
    "duration": 21,
    "start_time": "2021-08-24T18:17:46.131Z"
   },
   {
    "duration": 1099,
    "start_time": "2021-08-24T18:17:46.155Z"
   },
   {
    "duration": 13,
    "start_time": "2021-08-24T18:17:47.256Z"
   },
   {
    "duration": 1322,
    "start_time": "2021-08-24T18:17:47.286Z"
   },
   {
    "duration": 1088,
    "start_time": "2021-08-24T18:17:48.611Z"
   },
   {
    "duration": 1101,
    "start_time": "2021-08-24T18:17:49.702Z"
   },
   {
    "duration": 1585,
    "start_time": "2021-08-24T18:17:50.805Z"
   },
   {
    "duration": 18,
    "start_time": "2021-08-24T18:17:52.392Z"
   },
   {
    "duration": 3,
    "start_time": "2021-08-24T18:17:52.413Z"
   },
   {
    "duration": 12,
    "start_time": "2021-08-24T18:17:52.419Z"
   },
   {
    "duration": 86,
    "start_time": "2021-08-24T18:17:52.436Z"
   },
   {
    "duration": 3,
    "start_time": "2021-08-24T18:17:52.525Z"
   },
   {
    "duration": 35,
    "start_time": "2021-08-24T18:17:52.530Z"
   },
   {
    "duration": 24,
    "start_time": "2021-08-24T18:17:52.568Z"
   },
   {
    "duration": 972,
    "start_time": "2021-08-24T18:17:52.594Z"
   },
   {
    "duration": 3,
    "start_time": "2021-08-24T18:17:53.569Z"
   },
   {
    "duration": 3,
    "start_time": "2021-08-24T18:17:53.586Z"
   },
   {
    "duration": 7,
    "start_time": "2021-08-24T18:17:53.592Z"
   },
   {
    "duration": 7,
    "start_time": "2021-08-24T18:17:53.602Z"
   },
   {
    "duration": 11,
    "start_time": "2021-08-24T18:17:53.611Z"
   },
   {
    "duration": 2740,
    "start_time": "2021-08-24T18:17:53.625Z"
   },
   {
    "duration": 3,
    "start_time": "2021-08-24T18:17:56.367Z"
   },
   {
    "duration": 7,
    "start_time": "2021-08-24T18:17:56.373Z"
   },
   {
    "duration": 13,
    "start_time": "2021-08-24T18:17:56.383Z"
   },
   {
    "duration": 1178,
    "start_time": "2021-08-26T08:48:31.157Z"
   },
   {
    "duration": 51,
    "start_time": "2021-08-26T08:48:32.337Z"
   },
   {
    "duration": 15,
    "start_time": "2021-08-26T08:48:32.390Z"
   },
   {
    "duration": 9,
    "start_time": "2021-08-26T08:48:32.407Z"
   },
   {
    "duration": 30,
    "start_time": "2021-08-26T08:48:32.417Z"
   },
   {
    "duration": 18,
    "start_time": "2021-08-26T08:48:32.448Z"
   },
   {
    "duration": 28,
    "start_time": "2021-08-26T08:48:32.468Z"
   },
   {
    "duration": 41,
    "start_time": "2021-08-26T08:48:32.499Z"
   },
   {
    "duration": 475,
    "start_time": "2021-08-26T08:48:32.542Z"
   },
   {
    "duration": 214,
    "start_time": "2021-08-26T08:48:33.018Z"
   },
   {
    "duration": 16,
    "start_time": "2021-08-26T08:48:33.233Z"
   },
   {
    "duration": 9,
    "start_time": "2021-08-26T08:48:33.250Z"
   },
   {
    "duration": 32,
    "start_time": "2021-08-26T08:48:33.260Z"
   },
   {
    "duration": 550,
    "start_time": "2021-08-26T08:48:33.294Z"
   },
   {
    "duration": 8,
    "start_time": "2021-08-26T08:48:33.845Z"
   },
   {
    "duration": 766,
    "start_time": "2021-08-26T08:48:33.854Z"
   },
   {
    "duration": 674,
    "start_time": "2021-08-26T08:48:34.622Z"
   },
   {
    "duration": 689,
    "start_time": "2021-08-26T08:48:35.297Z"
   },
   {
    "duration": 886,
    "start_time": "2021-08-26T08:48:35.991Z"
   },
   {
    "duration": 21,
    "start_time": "2021-08-26T08:48:36.878Z"
   },
   {
    "duration": 3,
    "start_time": "2021-08-26T08:48:36.901Z"
   },
   {
    "duration": 11,
    "start_time": "2021-08-26T08:48:36.906Z"
   },
   {
    "duration": 56,
    "start_time": "2021-08-26T08:48:36.921Z"
   },
   {
    "duration": 13,
    "start_time": "2021-08-26T08:48:36.980Z"
   },
   {
    "duration": 35,
    "start_time": "2021-08-26T08:48:36.995Z"
   },
   {
    "duration": 7,
    "start_time": "2021-08-26T08:48:37.032Z"
   },
   {
    "duration": 546,
    "start_time": "2021-08-26T08:48:37.041Z"
   },
   {
    "duration": 2,
    "start_time": "2021-08-26T08:48:37.589Z"
   },
   {
    "duration": 11,
    "start_time": "2021-08-26T08:48:37.593Z"
   },
   {
    "duration": 8,
    "start_time": "2021-08-26T08:48:37.605Z"
   },
   {
    "duration": 7,
    "start_time": "2021-08-26T08:48:37.615Z"
   },
   {
    "duration": 15,
    "start_time": "2021-08-26T08:48:37.623Z"
   },
   {
    "duration": 2939,
    "start_time": "2021-08-26T08:48:37.640Z"
   },
   {
    "duration": 3,
    "start_time": "2021-08-26T08:48:40.580Z"
   },
   {
    "duration": 15,
    "start_time": "2021-08-26T08:48:40.584Z"
   },
   {
    "duration": 11,
    "start_time": "2021-08-26T08:48:40.600Z"
   },
   {
    "duration": 6,
    "start_time": "2021-08-26T08:51:21.702Z"
   },
   {
    "duration": 10,
    "start_time": "2021-08-26T09:01:26.068Z"
   },
   {
    "duration": 13,
    "start_time": "2021-08-26T09:02:08.761Z"
   },
   {
    "duration": 10,
    "start_time": "2021-08-26T09:02:36.507Z"
   },
   {
    "duration": 13,
    "start_time": "2021-08-26T09:04:06.580Z"
   },
   {
    "duration": 11,
    "start_time": "2021-08-26T09:04:09.536Z"
   },
   {
    "duration": 10,
    "start_time": "2021-08-26T09:04:43.589Z"
   },
   {
    "duration": 17,
    "start_time": "2021-08-26T09:05:03.583Z"
   },
   {
    "duration": 6802,
    "start_time": "2021-08-26T09:05:59.716Z"
   },
   {
    "duration": 13,
    "start_time": "2021-08-26T09:06:48.206Z"
   },
   {
    "duration": 7279,
    "start_time": "2021-08-26T09:08:23.253Z"
   },
   {
    "duration": 11,
    "start_time": "2021-08-26T09:08:45.000Z"
   },
   {
    "duration": 1239,
    "start_time": "2021-08-26T09:11:03.676Z"
   },
   {
    "duration": 52,
    "start_time": "2021-08-26T09:11:04.918Z"
   },
   {
    "duration": 20,
    "start_time": "2021-08-26T09:11:04.972Z"
   },
   {
    "duration": 8,
    "start_time": "2021-08-26T09:11:04.994Z"
   },
   {
    "duration": 28,
    "start_time": "2021-08-26T09:11:05.004Z"
   },
   {
    "duration": 20,
    "start_time": "2021-08-26T09:11:05.034Z"
   },
   {
    "duration": 8,
    "start_time": "2021-08-26T09:11:05.056Z"
   },
   {
    "duration": 39,
    "start_time": "2021-08-26T09:11:05.091Z"
   },
   {
    "duration": 478,
    "start_time": "2021-08-26T09:11:05.133Z"
   },
   {
    "duration": 215,
    "start_time": "2021-08-26T09:11:05.613Z"
   },
   {
    "duration": 16,
    "start_time": "2021-08-26T09:11:05.830Z"
   },
   {
    "duration": 9,
    "start_time": "2021-08-26T09:11:05.847Z"
   },
   {
    "duration": 12,
    "start_time": "2021-08-26T09:11:05.858Z"
   },
   {
    "duration": 547,
    "start_time": "2021-08-26T09:11:05.892Z"
   },
   {
    "duration": 8,
    "start_time": "2021-08-26T09:11:06.441Z"
   },
   {
    "duration": 781,
    "start_time": "2021-08-26T09:11:06.450Z"
   },
   {
    "duration": 664,
    "start_time": "2021-08-26T09:11:07.232Z"
   },
   {
    "duration": 628,
    "start_time": "2021-08-26T09:11:07.897Z"
   },
   {
    "duration": 1045,
    "start_time": "2021-08-26T09:11:08.526Z"
   },
   {
    "duration": 24,
    "start_time": "2021-08-26T09:11:09.573Z"
   },
   {
    "duration": 3,
    "start_time": "2021-08-26T09:11:09.599Z"
   },
   {
    "duration": 8,
    "start_time": "2021-08-26T09:11:09.603Z"
   },
   {
    "duration": 39,
    "start_time": "2021-08-26T09:11:09.614Z"
   },
   {
    "duration": 2,
    "start_time": "2021-08-26T09:11:09.655Z"
   },
   {
    "duration": 34,
    "start_time": "2021-08-26T09:11:09.658Z"
   },
   {
    "duration": 6,
    "start_time": "2021-08-26T09:11:09.694Z"
   },
   {
    "duration": 539,
    "start_time": "2021-08-26T09:11:09.701Z"
   },
   {
    "duration": 2,
    "start_time": "2021-08-26T09:11:10.241Z"
   },
   {
    "duration": 6,
    "start_time": "2021-08-26T09:11:10.245Z"
   },
   {
    "duration": 6,
    "start_time": "2021-08-26T09:11:10.253Z"
   },
   {
    "duration": 6,
    "start_time": "2021-08-26T09:11:10.261Z"
   },
   {
    "duration": 6,
    "start_time": "2021-08-26T09:11:10.268Z"
   },
   {
    "duration": 2502,
    "start_time": "2021-08-26T09:11:10.275Z"
   },
   {
    "duration": 8,
    "start_time": "2021-08-26T09:11:12.778Z"
   },
   {
    "duration": 17,
    "start_time": "2021-08-26T09:11:12.788Z"
   },
   {
    "duration": 19,
    "start_time": "2021-08-26T09:13:53.629Z"
   },
   {
    "duration": 71,
    "start_time": "2021-08-26T09:13:53.650Z"
   },
   {
    "duration": 15,
    "start_time": "2021-08-26T09:13:53.722Z"
   },
   {
    "duration": 25,
    "start_time": "2021-08-26T09:13:53.739Z"
   },
   {
    "duration": 39,
    "start_time": "2021-08-26T09:13:53.766Z"
   },
   {
    "duration": 19,
    "start_time": "2021-08-26T09:13:53.807Z"
   },
   {
    "duration": 7,
    "start_time": "2021-08-26T09:13:53.828Z"
   },
   {
    "duration": 60,
    "start_time": "2021-08-26T09:13:53.836Z"
   },
   {
    "duration": 467,
    "start_time": "2021-08-26T09:13:53.898Z"
   },
   {
    "duration": 228,
    "start_time": "2021-08-26T09:13:54.367Z"
   },
   {
    "duration": 14,
    "start_time": "2021-08-26T09:13:54.597Z"
   },
   {
    "duration": 33,
    "start_time": "2021-08-26T09:13:54.612Z"
   },
   {
    "duration": 21,
    "start_time": "2021-08-26T09:13:54.647Z"
   },
   {
    "duration": 550,
    "start_time": "2021-08-26T09:13:54.670Z"
   },
   {
    "duration": 7,
    "start_time": "2021-08-26T09:13:55.222Z"
   },
   {
    "duration": 819,
    "start_time": "2021-08-26T09:13:55.230Z"
   },
   {
    "duration": 683,
    "start_time": "2021-08-26T09:13:56.053Z"
   },
   {
    "duration": 869,
    "start_time": "2021-08-26T09:13:56.738Z"
   },
   {
    "duration": 965,
    "start_time": "2021-08-26T09:13:57.609Z"
   },
   {
    "duration": 17,
    "start_time": "2021-08-26T09:13:58.576Z"
   },
   {
    "duration": 15,
    "start_time": "2021-08-26T09:13:58.595Z"
   },
   {
    "duration": 29,
    "start_time": "2021-08-26T09:13:58.612Z"
   },
   {
    "duration": 53,
    "start_time": "2021-08-26T09:13:58.643Z"
   },
   {
    "duration": 3,
    "start_time": "2021-08-26T09:13:58.698Z"
   },
   {
    "duration": 31,
    "start_time": "2021-08-26T09:13:58.702Z"
   },
   {
    "duration": 13,
    "start_time": "2021-08-26T09:13:58.735Z"
   },
   {
    "duration": 532,
    "start_time": "2021-08-26T09:13:58.750Z"
   },
   {
    "duration": 8,
    "start_time": "2021-08-26T09:13:59.284Z"
   },
   {
    "duration": 14,
    "start_time": "2021-08-26T09:13:59.294Z"
   },
   {
    "duration": 25,
    "start_time": "2021-08-26T09:13:59.310Z"
   },
   {
    "duration": 30,
    "start_time": "2021-08-26T09:13:59.337Z"
   },
   {
    "duration": 30,
    "start_time": "2021-08-26T09:13:59.369Z"
   },
   {
    "duration": 2500,
    "start_time": "2021-08-26T09:13:59.401Z"
   },
   {
    "duration": 9,
    "start_time": "2021-08-26T09:14:01.903Z"
   },
   {
    "duration": 68,
    "start_time": "2021-08-26T09:14:01.913Z"
   },
   {
    "duration": 27,
    "start_time": "2021-08-26T09:14:01.983Z"
   },
   {
    "duration": 26,
    "start_time": "2021-08-26T09:14:02.011Z"
   },
   {
    "duration": 3,
    "start_time": "2021-08-26T09:15:29.295Z"
   },
   {
    "duration": 4,
    "start_time": "2021-08-26T09:15:32.138Z"
   },
   {
    "duration": 1174,
    "start_time": "2021-08-26T09:17:03.142Z"
   },
   {
    "duration": 51,
    "start_time": "2021-08-26T09:17:04.318Z"
   },
   {
    "duration": 15,
    "start_time": "2021-08-26T09:17:04.371Z"
   },
   {
    "duration": 14,
    "start_time": "2021-08-26T09:17:04.387Z"
   },
   {
    "duration": 24,
    "start_time": "2021-08-26T09:17:04.403Z"
   },
   {
    "duration": 20,
    "start_time": "2021-08-26T09:17:04.428Z"
   },
   {
    "duration": 8,
    "start_time": "2021-08-26T09:17:04.449Z"
   },
   {
    "duration": 68,
    "start_time": "2021-08-26T09:17:04.460Z"
   },
   {
    "duration": 481,
    "start_time": "2021-08-26T09:17:04.530Z"
   },
   {
    "duration": 216,
    "start_time": "2021-08-26T09:17:05.013Z"
   },
   {
    "duration": 16,
    "start_time": "2021-08-26T09:17:05.230Z"
   },
   {
    "duration": 8,
    "start_time": "2021-08-26T09:17:05.248Z"
   },
   {
    "duration": 13,
    "start_time": "2021-08-26T09:17:05.258Z"
   },
   {
    "duration": 549,
    "start_time": "2021-08-26T09:17:05.291Z"
   },
   {
    "duration": 8,
    "start_time": "2021-08-26T09:17:05.842Z"
   },
   {
    "duration": 774,
    "start_time": "2021-08-26T09:17:05.851Z"
   },
   {
    "duration": 670,
    "start_time": "2021-08-26T09:17:06.627Z"
   },
   {
    "duration": 611,
    "start_time": "2021-08-26T09:17:07.299Z"
   },
   {
    "duration": 881,
    "start_time": "2021-08-26T09:17:07.912Z"
   },
   {
    "duration": 12,
    "start_time": "2021-08-26T09:17:08.795Z"
   },
   {
    "duration": 15,
    "start_time": "2021-08-26T09:17:08.808Z"
   },
   {
    "duration": 18,
    "start_time": "2021-08-26T09:17:08.825Z"
   },
   {
    "duration": 46,
    "start_time": "2021-08-26T09:17:08.846Z"
   },
   {
    "duration": 2,
    "start_time": "2021-08-26T09:17:08.894Z"
   },
   {
    "duration": 34,
    "start_time": "2021-08-26T09:17:08.898Z"
   },
   {
    "duration": 9,
    "start_time": "2021-08-26T09:17:08.934Z"
   },
   {
    "duration": 815,
    "start_time": "2021-08-26T09:17:08.945Z"
   },
   {
    "duration": 4,
    "start_time": "2021-08-26T09:17:09.762Z"
   },
   {
    "duration": 7,
    "start_time": "2021-08-26T09:17:09.768Z"
   },
   {
    "duration": 3141,
    "start_time": "2021-08-26T09:17:09.777Z"
   },
   {
    "duration": 8,
    "start_time": "2021-08-26T09:17:12.919Z"
   },
   {
    "duration": 19,
    "start_time": "2021-08-26T09:17:12.929Z"
   },
   {
    "duration": 3,
    "start_time": "2021-08-26T09:17:12.950Z"
   },
   {
    "duration": 19,
    "start_time": "2021-08-26T09:17:12.955Z"
   },
   {
    "duration": 11,
    "start_time": "2021-08-26T09:19:50.030Z"
   },
   {
    "duration": 56,
    "start_time": "2021-08-26T09:19:50.043Z"
   },
   {
    "duration": 15,
    "start_time": "2021-08-26T09:19:50.101Z"
   },
   {
    "duration": 12,
    "start_time": "2021-08-26T09:19:50.118Z"
   },
   {
    "duration": 28,
    "start_time": "2021-08-26T09:19:50.131Z"
   },
   {
    "duration": 35,
    "start_time": "2021-08-26T09:19:50.161Z"
   },
   {
    "duration": 7,
    "start_time": "2021-08-26T09:19:50.198Z"
   },
   {
    "duration": 51,
    "start_time": "2021-08-26T09:19:50.207Z"
   },
   {
    "duration": 466,
    "start_time": "2021-08-26T09:19:50.260Z"
   },
   {
    "duration": 212,
    "start_time": "2021-08-26T09:19:50.728Z"
   },
   {
    "duration": 13,
    "start_time": "2021-08-26T09:19:50.941Z"
   },
   {
    "duration": 22,
    "start_time": "2021-08-26T09:19:50.955Z"
   },
   {
    "duration": 22,
    "start_time": "2021-08-26T09:19:50.978Z"
   },
   {
    "duration": 566,
    "start_time": "2021-08-26T09:19:51.001Z"
   },
   {
    "duration": 7,
    "start_time": "2021-08-26T09:19:51.568Z"
   },
   {
    "duration": 859,
    "start_time": "2021-08-26T09:19:51.577Z"
   },
   {
    "duration": 599,
    "start_time": "2021-08-26T09:19:52.439Z"
   },
   {
    "duration": 858,
    "start_time": "2021-08-26T09:19:53.040Z"
   },
   {
    "duration": 956,
    "start_time": "2021-08-26T09:19:53.900Z"
   },
   {
    "duration": 12,
    "start_time": "2021-08-26T09:19:54.857Z"
   },
   {
    "duration": 2,
    "start_time": "2021-08-26T09:19:54.871Z"
   },
   {
    "duration": 2,
    "start_time": "2021-08-26T09:19:54.891Z"
   },
   {
    "duration": 35,
    "start_time": "2021-08-26T09:19:54.895Z"
   },
   {
    "duration": 2,
    "start_time": "2021-08-26T09:19:54.932Z"
   },
   {
    "duration": 20,
    "start_time": "2021-08-26T09:19:54.935Z"
   },
   {
    "duration": 6,
    "start_time": "2021-08-26T09:19:54.957Z"
   },
   {
    "duration": 549,
    "start_time": "2021-08-26T09:19:54.992Z"
   },
   {
    "duration": 2,
    "start_time": "2021-08-26T09:19:55.543Z"
   },
   {
    "duration": 7,
    "start_time": "2021-08-26T09:19:55.547Z"
   },
   {
    "duration": 2550,
    "start_time": "2021-08-26T09:19:55.555Z"
   },
   {
    "duration": 8,
    "start_time": "2021-08-26T09:19:58.107Z"
   },
   {
    "duration": 14,
    "start_time": "2021-08-26T09:19:58.117Z"
   },
   {
    "duration": 2,
    "start_time": "2021-08-26T09:19:58.132Z"
   },
   {
    "duration": 6,
    "start_time": "2021-08-26T09:19:58.136Z"
   },
   {
    "duration": 16,
    "start_time": "2021-08-26T09:19:58.143Z"
   },
   {
    "duration": 2,
    "start_time": "2021-08-26T09:19:58.161Z"
   },
   {
    "duration": 3,
    "start_time": "2021-08-26T09:22:19.544Z"
   },
   {
    "duration": 5,
    "start_time": "2021-08-26T09:22:21.259Z"
   },
   {
    "duration": 1168,
    "start_time": "2021-08-26T09:24:19.877Z"
   },
   {
    "duration": 53,
    "start_time": "2021-08-26T09:24:21.047Z"
   },
   {
    "duration": 17,
    "start_time": "2021-08-26T09:24:21.102Z"
   },
   {
    "duration": 26,
    "start_time": "2021-08-26T09:24:21.120Z"
   },
   {
    "duration": 40,
    "start_time": "2021-08-26T09:24:21.148Z"
   },
   {
    "duration": 21,
    "start_time": "2021-08-26T09:24:21.189Z"
   },
   {
    "duration": 17,
    "start_time": "2021-08-26T09:24:21.213Z"
   },
   {
    "duration": 48,
    "start_time": "2021-08-26T09:24:21.233Z"
   },
   {
    "duration": 491,
    "start_time": "2021-08-26T09:24:21.283Z"
   },
   {
    "duration": 222,
    "start_time": "2021-08-26T09:24:21.776Z"
   },
   {
    "duration": 18,
    "start_time": "2021-08-26T09:24:22.000Z"
   },
   {
    "duration": 24,
    "start_time": "2021-08-26T09:24:22.020Z"
   },
   {
    "duration": 17,
    "start_time": "2021-08-26T09:24:22.045Z"
   },
   {
    "duration": 573,
    "start_time": "2021-08-26T09:24:22.064Z"
   },
   {
    "duration": 7,
    "start_time": "2021-08-26T09:24:22.639Z"
   },
   {
    "duration": 944,
    "start_time": "2021-08-26T09:24:22.648Z"
   },
   {
    "duration": 831,
    "start_time": "2021-08-26T09:24:23.594Z"
   },
   {
    "duration": 711,
    "start_time": "2021-08-26T09:24:24.427Z"
   },
   {
    "duration": 883,
    "start_time": "2021-08-26T09:24:25.140Z"
   },
   {
    "duration": 11,
    "start_time": "2021-08-26T09:24:26.025Z"
   },
   {
    "duration": 3,
    "start_time": "2021-08-26T09:24:26.037Z"
   },
   {
    "duration": 6,
    "start_time": "2021-08-26T09:24:26.041Z"
   },
   {
    "duration": 52,
    "start_time": "2021-08-26T09:24:26.050Z"
   },
   {
    "duration": 2,
    "start_time": "2021-08-26T09:24:26.105Z"
   },
   {
    "duration": 26,
    "start_time": "2021-08-26T09:24:26.108Z"
   },
   {
    "duration": 6,
    "start_time": "2021-08-26T09:24:26.136Z"
   },
   {
    "duration": 616,
    "start_time": "2021-08-26T09:24:26.144Z"
   },
   {
    "duration": 2,
    "start_time": "2021-08-26T09:24:26.761Z"
   },
   {
    "duration": 7,
    "start_time": "2021-08-26T09:24:26.765Z"
   },
   {
    "duration": 2809,
    "start_time": "2021-08-26T09:24:26.773Z"
   },
   {
    "duration": 8,
    "start_time": "2021-08-26T09:24:29.583Z"
   },
   {
    "duration": 24,
    "start_time": "2021-08-26T09:24:29.593Z"
   },
   {
    "duration": 10,
    "start_time": "2021-08-26T09:24:29.618Z"
   },
   {
    "duration": 7,
    "start_time": "2021-08-26T09:24:29.630Z"
   },
   {
    "duration": 1651,
    "start_time": "2021-08-26T09:24:29.639Z"
   },
   {
    "duration": -148,
    "start_time": "2021-08-26T09:24:31.440Z"
   },
   {
    "duration": 4,
    "start_time": "2021-08-26T09:28:33.486Z"
   },
   {
    "duration": 1278,
    "start_time": "2021-08-26T09:28:38.393Z"
   },
   {
    "duration": 1228,
    "start_time": "2021-08-26T09:29:40.716Z"
   },
   {
    "duration": 1180,
    "start_time": "2021-08-26T09:30:21.447Z"
   },
   {
    "duration": 54,
    "start_time": "2021-08-26T09:30:22.629Z"
   },
   {
    "duration": 15,
    "start_time": "2021-08-26T09:30:22.685Z"
   },
   {
    "duration": 37,
    "start_time": "2021-08-26T09:30:22.702Z"
   },
   {
    "duration": 35,
    "start_time": "2021-08-26T09:30:22.741Z"
   },
   {
    "duration": 21,
    "start_time": "2021-08-26T09:30:22.778Z"
   },
   {
    "duration": 9,
    "start_time": "2021-08-26T09:30:22.801Z"
   },
   {
    "duration": 37,
    "start_time": "2021-08-26T09:30:22.813Z"
   },
   {
    "duration": 496,
    "start_time": "2021-08-26T09:30:22.853Z"
   },
   {
    "duration": 217,
    "start_time": "2021-08-26T09:30:23.351Z"
   },
   {
    "duration": 28,
    "start_time": "2021-08-26T09:30:23.569Z"
   },
   {
    "duration": 12,
    "start_time": "2021-08-26T09:30:23.599Z"
   },
   {
    "duration": 17,
    "start_time": "2021-08-26T09:30:23.613Z"
   },
   {
    "duration": 575,
    "start_time": "2021-08-26T09:30:23.631Z"
   },
   {
    "duration": 9,
    "start_time": "2021-08-26T09:30:24.208Z"
   },
   {
    "duration": 836,
    "start_time": "2021-08-26T09:30:24.219Z"
   },
   {
    "duration": 698,
    "start_time": "2021-08-26T09:30:25.056Z"
   },
   {
    "duration": 877,
    "start_time": "2021-08-26T09:30:25.756Z"
   },
   {
    "duration": 1001,
    "start_time": "2021-08-26T09:30:26.635Z"
   },
   {
    "duration": 11,
    "start_time": "2021-08-26T09:30:27.638Z"
   },
   {
    "duration": 2,
    "start_time": "2021-08-26T09:30:27.651Z"
   },
   {
    "duration": 10,
    "start_time": "2021-08-26T09:30:27.655Z"
   },
   {
    "duration": 53,
    "start_time": "2021-08-26T09:30:27.667Z"
   },
   {
    "duration": 2,
    "start_time": "2021-08-26T09:30:27.722Z"
   },
   {
    "duration": 24,
    "start_time": "2021-08-26T09:30:27.726Z"
   },
   {
    "duration": 6,
    "start_time": "2021-08-26T09:30:27.752Z"
   },
   {
    "duration": 569,
    "start_time": "2021-08-26T09:30:27.760Z"
   },
   {
    "duration": 3,
    "start_time": "2021-08-26T09:30:28.331Z"
   },
   {
    "duration": 7,
    "start_time": "2021-08-26T09:30:28.335Z"
   },
   {
    "duration": 1393,
    "start_time": "2021-08-26T09:30:28.344Z"
   },
   {
    "duration": -59,
    "start_time": "2021-08-26T09:30:29.798Z"
   },
   {
    "duration": -76,
    "start_time": "2021-08-26T09:30:29.816Z"
   },
   {
    "duration": -107,
    "start_time": "2021-08-26T09:30:29.848Z"
   },
   {
    "duration": -132,
    "start_time": "2021-08-26T09:30:29.874Z"
   },
   {
    "duration": 3,
    "start_time": "2021-08-26T09:31:28.645Z"
   },
   {
    "duration": 60,
    "start_time": "2021-08-26T09:31:28.656Z"
   },
   {
    "duration": 15,
    "start_time": "2021-08-26T09:31:28.717Z"
   },
   {
    "duration": 11,
    "start_time": "2021-08-26T09:31:28.733Z"
   },
   {
    "duration": 25,
    "start_time": "2021-08-26T09:31:28.746Z"
   },
   {
    "duration": 41,
    "start_time": "2021-08-26T09:31:28.773Z"
   },
   {
    "duration": 7,
    "start_time": "2021-08-26T09:31:28.816Z"
   },
   {
    "duration": 39,
    "start_time": "2021-08-26T09:31:28.825Z"
   },
   {
    "duration": 530,
    "start_time": "2021-08-26T09:31:28.891Z"
   },
   {
    "duration": 237,
    "start_time": "2021-08-26T09:31:29.423Z"
   },
   {
    "duration": 11,
    "start_time": "2021-08-26T09:31:29.662Z"
   },
   {
    "duration": 22,
    "start_time": "2021-08-26T09:31:29.675Z"
   },
   {
    "duration": 15,
    "start_time": "2021-08-26T09:31:29.699Z"
   },
   {
    "duration": 580,
    "start_time": "2021-08-26T09:31:29.715Z"
   },
   {
    "duration": 10,
    "start_time": "2021-08-26T09:31:30.297Z"
   },
   {
    "duration": 832,
    "start_time": "2021-08-26T09:31:30.309Z"
   },
   {
    "duration": 625,
    "start_time": "2021-08-26T09:31:31.142Z"
   },
   {
    "duration": 736,
    "start_time": "2021-08-26T09:31:31.769Z"
   },
   {
    "duration": 1020,
    "start_time": "2021-08-26T09:31:32.510Z"
   },
   {
    "duration": 11,
    "start_time": "2021-08-26T09:31:33.532Z"
   },
   {
    "duration": 15,
    "start_time": "2021-08-26T09:31:33.545Z"
   },
   {
    "duration": 37,
    "start_time": "2021-08-26T09:31:33.562Z"
   },
   {
    "duration": 57,
    "start_time": "2021-08-26T09:31:33.602Z"
   },
   {
    "duration": 2,
    "start_time": "2021-08-26T09:31:33.661Z"
   },
   {
    "duration": 48,
    "start_time": "2021-08-26T09:31:33.664Z"
   },
   {
    "duration": 11,
    "start_time": "2021-08-26T09:31:33.714Z"
   },
   {
    "duration": 716,
    "start_time": "2021-08-26T09:31:33.726Z"
   },
   {
    "duration": 3,
    "start_time": "2021-08-26T09:31:34.444Z"
   },
   {
    "duration": 17,
    "start_time": "2021-08-26T09:31:34.448Z"
   },
   {
    "duration": 1290,
    "start_time": "2021-08-26T09:31:34.466Z"
   },
   {
    "duration": -82,
    "start_time": "2021-08-26T09:31:35.839Z"
   },
   {
    "duration": -116,
    "start_time": "2021-08-26T09:31:35.874Z"
   },
   {
    "duration": -155,
    "start_time": "2021-08-26T09:31:35.914Z"
   },
   {
    "duration": -183,
    "start_time": "2021-08-26T09:31:35.944Z"
   },
   {
    "duration": 1270,
    "start_time": "2021-08-26T09:33:01.782Z"
   },
   {
    "duration": 59,
    "start_time": "2021-08-26T09:33:03.054Z"
   },
   {
    "duration": 15,
    "start_time": "2021-08-26T09:33:03.115Z"
   },
   {
    "duration": 10,
    "start_time": "2021-08-26T09:33:03.133Z"
   },
   {
    "duration": 31,
    "start_time": "2021-08-26T09:33:03.144Z"
   },
   {
    "duration": 25,
    "start_time": "2021-08-26T09:33:03.191Z"
   },
   {
    "duration": 8,
    "start_time": "2021-08-26T09:33:03.218Z"
   },
   {
    "duration": 43,
    "start_time": "2021-08-26T09:33:03.228Z"
   },
   {
    "duration": 517,
    "start_time": "2021-08-26T09:33:03.274Z"
   },
   {
    "duration": 220,
    "start_time": "2021-08-26T09:33:03.794Z"
   },
   {
    "duration": 14,
    "start_time": "2021-08-26T09:33:04.016Z"
   },
   {
    "duration": 9,
    "start_time": "2021-08-26T09:33:04.031Z"
   },
   {
    "duration": 11,
    "start_time": "2021-08-26T09:33:04.042Z"
   },
   {
    "duration": 593,
    "start_time": "2021-08-26T09:33:04.055Z"
   },
   {
    "duration": 7,
    "start_time": "2021-08-26T09:33:04.650Z"
   },
   {
    "duration": 826,
    "start_time": "2021-08-26T09:33:04.658Z"
   },
   {
    "duration": 741,
    "start_time": "2021-08-26T09:33:05.485Z"
   },
   {
    "duration": 713,
    "start_time": "2021-08-26T09:33:06.228Z"
   },
   {
    "duration": 882,
    "start_time": "2021-08-26T09:33:06.943Z"
   },
   {
    "duration": 12,
    "start_time": "2021-08-26T09:33:07.828Z"
   },
   {
    "duration": 2,
    "start_time": "2021-08-26T09:33:07.842Z"
   },
   {
    "duration": 11,
    "start_time": "2021-08-26T09:33:07.846Z"
   },
   {
    "duration": 53,
    "start_time": "2021-08-26T09:33:07.861Z"
   },
   {
    "duration": 2,
    "start_time": "2021-08-26T09:33:07.917Z"
   },
   {
    "duration": 22,
    "start_time": "2021-08-26T09:33:07.921Z"
   },
   {
    "duration": 7,
    "start_time": "2021-08-26T09:33:07.945Z"
   },
   {
    "duration": 720,
    "start_time": "2021-08-26T09:33:07.954Z"
   },
   {
    "duration": 2,
    "start_time": "2021-08-26T09:33:08.676Z"
   },
   {
    "duration": 14,
    "start_time": "2021-08-26T09:33:08.679Z"
   },
   {
    "duration": 1431,
    "start_time": "2021-08-26T09:33:08.695Z"
   },
   {
    "duration": -78,
    "start_time": "2021-08-26T09:33:10.206Z"
   },
   {
    "duration": -113,
    "start_time": "2021-08-26T09:33:10.241Z"
   },
   {
    "duration": -126,
    "start_time": "2021-08-26T09:33:10.255Z"
   },
   {
    "duration": -140,
    "start_time": "2021-08-26T09:33:10.270Z"
   },
   {
    "duration": 10,
    "start_time": "2021-08-26T09:35:04.540Z"
   },
   {
    "duration": 15,
    "start_time": "2021-08-26T09:35:10.568Z"
   },
   {
    "duration": 12,
    "start_time": "2021-08-26T09:35:18.067Z"
   },
   {
    "duration": 1223,
    "start_time": "2021-08-26T09:35:21.282Z"
   },
   {
    "duration": 2,
    "start_time": "2021-08-26T09:36:15.251Z"
   },
   {
    "duration": 1498,
    "start_time": "2021-08-26T09:36:22.141Z"
   },
   {
    "duration": 3,
    "start_time": "2021-08-26T09:36:32.179Z"
   },
   {
    "duration": 58,
    "start_time": "2021-08-26T09:36:32.190Z"
   },
   {
    "duration": 15,
    "start_time": "2021-08-26T09:36:32.250Z"
   },
   {
    "duration": 18,
    "start_time": "2021-08-26T09:36:32.267Z"
   },
   {
    "duration": 52,
    "start_time": "2021-08-26T09:36:32.287Z"
   },
   {
    "duration": 20,
    "start_time": "2021-08-26T09:36:32.341Z"
   },
   {
    "duration": 16,
    "start_time": "2021-08-26T09:36:32.363Z"
   },
   {
    "duration": 55,
    "start_time": "2021-08-26T09:36:32.381Z"
   },
   {
    "duration": 518,
    "start_time": "2021-08-26T09:36:32.439Z"
   },
   {
    "duration": 224,
    "start_time": "2021-08-26T09:36:32.959Z"
   },
   {
    "duration": 19,
    "start_time": "2021-08-26T09:36:33.184Z"
   },
   {
    "duration": 19,
    "start_time": "2021-08-26T09:36:33.205Z"
   },
   {
    "duration": 19,
    "start_time": "2021-08-26T09:36:33.226Z"
   },
   {
    "duration": 613,
    "start_time": "2021-08-26T09:36:33.247Z"
   },
   {
    "duration": 10,
    "start_time": "2021-08-26T09:36:33.863Z"
   },
   {
    "duration": 917,
    "start_time": "2021-08-26T09:36:33.874Z"
   },
   {
    "duration": 640,
    "start_time": "2021-08-26T09:36:34.793Z"
   },
   {
    "duration": 692,
    "start_time": "2021-08-26T09:36:35.435Z"
   },
   {
    "duration": 926,
    "start_time": "2021-08-26T09:36:36.129Z"
   },
   {
    "duration": 12,
    "start_time": "2021-08-26T09:36:37.056Z"
   },
   {
    "duration": 2,
    "start_time": "2021-08-26T09:36:37.071Z"
   },
   {
    "duration": 28,
    "start_time": "2021-08-26T09:36:37.075Z"
   },
   {
    "duration": 50,
    "start_time": "2021-08-26T09:36:37.105Z"
   },
   {
    "duration": 3,
    "start_time": "2021-08-26T09:36:37.156Z"
   },
   {
    "duration": 42,
    "start_time": "2021-08-26T09:36:37.160Z"
   },
   {
    "duration": 7,
    "start_time": "2021-08-26T09:36:37.205Z"
   },
   {
    "duration": 659,
    "start_time": "2021-08-26T09:36:37.213Z"
   },
   {
    "duration": 2,
    "start_time": "2021-08-26T09:36:37.874Z"
   },
   {
    "duration": 1264,
    "start_time": "2021-08-26T09:36:37.878Z"
   },
   {
    "duration": -91,
    "start_time": "2021-08-26T09:36:39.235Z"
   },
   {
    "duration": -106,
    "start_time": "2021-08-26T09:36:39.251Z"
   },
   {
    "duration": -117,
    "start_time": "2021-08-26T09:36:39.263Z"
   },
   {
    "duration": -132,
    "start_time": "2021-08-26T09:36:39.279Z"
   },
   {
    "duration": 5,
    "start_time": "2021-08-26T09:36:57.232Z"
   },
   {
    "duration": 1732,
    "start_time": "2021-08-26T09:37:02.230Z"
   },
   {
    "duration": 6,
    "start_time": "2021-08-26T09:37:11.594Z"
   },
   {
    "duration": 1420,
    "start_time": "2021-08-26T09:37:14.306Z"
   },
   {
    "duration": 4,
    "start_time": "2021-08-26T09:37:25.487Z"
   },
   {
    "duration": 1331,
    "start_time": "2021-08-26T09:37:30.316Z"
   },
   {
    "duration": 4,
    "start_time": "2021-08-26T09:37:55.614Z"
   },
   {
    "duration": 1276,
    "start_time": "2021-08-26T09:38:00.888Z"
   },
   {
    "duration": 5,
    "start_time": "2021-08-26T09:38:13.652Z"
   },
   {
    "duration": 1404,
    "start_time": "2021-08-26T09:38:17.876Z"
   },
   {
    "duration": 82,
    "start_time": "2021-08-26T09:38:53.974Z"
   },
   {
    "duration": 88,
    "start_time": "2021-08-26T09:39:26.584Z"
   },
   {
    "duration": 1249,
    "start_time": "2021-08-26T09:39:52.290Z"
   },
   {
    "duration": 52,
    "start_time": "2021-08-26T09:39:53.541Z"
   },
   {
    "duration": 21,
    "start_time": "2021-08-26T09:39:53.596Z"
   },
   {
    "duration": 7,
    "start_time": "2021-08-26T09:39:53.619Z"
   },
   {
    "duration": 25,
    "start_time": "2021-08-26T09:39:53.627Z"
   },
   {
    "duration": 39,
    "start_time": "2021-08-26T09:39:53.654Z"
   },
   {
    "duration": 10,
    "start_time": "2021-08-26T09:39:53.694Z"
   },
   {
    "duration": 39,
    "start_time": "2021-08-26T09:39:53.707Z"
   },
   {
    "duration": 502,
    "start_time": "2021-08-26T09:39:53.748Z"
   },
   {
    "duration": 222,
    "start_time": "2021-08-26T09:39:54.252Z"
   },
   {
    "duration": 21,
    "start_time": "2021-08-26T09:39:54.476Z"
   },
   {
    "duration": 15,
    "start_time": "2021-08-26T09:39:54.499Z"
   },
   {
    "duration": 21,
    "start_time": "2021-08-26T09:39:54.516Z"
   },
   {
    "duration": 590,
    "start_time": "2021-08-26T09:39:54.539Z"
   },
   {
    "duration": 8,
    "start_time": "2021-08-26T09:39:55.131Z"
   },
   {
    "duration": 812,
    "start_time": "2021-08-26T09:39:55.141Z"
   },
   {
    "duration": 711,
    "start_time": "2021-08-26T09:39:55.955Z"
   },
   {
    "duration": 654,
    "start_time": "2021-08-26T09:39:56.668Z"
   },
   {
    "duration": 880,
    "start_time": "2021-08-26T09:39:57.323Z"
   },
   {
    "duration": 12,
    "start_time": "2021-08-26T09:39:58.206Z"
   },
   {
    "duration": 8,
    "start_time": "2021-08-26T09:39:58.220Z"
   },
   {
    "duration": 28,
    "start_time": "2021-08-26T09:39:58.229Z"
   },
   {
    "duration": 48,
    "start_time": "2021-08-26T09:39:58.261Z"
   },
   {
    "duration": 2,
    "start_time": "2021-08-26T09:39:58.310Z"
   },
   {
    "duration": 25,
    "start_time": "2021-08-26T09:39:58.315Z"
   },
   {
    "duration": 6,
    "start_time": "2021-08-26T09:39:58.341Z"
   },
   {
    "duration": 577,
    "start_time": "2021-08-26T09:39:58.349Z"
   },
   {
    "duration": 2,
    "start_time": "2021-08-26T09:39:58.928Z"
   },
   {
    "duration": 82,
    "start_time": "2021-08-26T09:39:58.931Z"
   },
   {
    "duration": -175,
    "start_time": "2021-08-26T09:39:59.190Z"
   },
   {
    "duration": -195,
    "start_time": "2021-08-26T09:39:59.211Z"
   },
   {
    "duration": -209,
    "start_time": "2021-08-26T09:39:59.226Z"
   },
   {
    "duration": -225,
    "start_time": "2021-08-26T09:39:59.243Z"
   },
   {
    "duration": -259,
    "start_time": "2021-08-26T09:39:59.278Z"
   },
   {
    "duration": -338,
    "start_time": "2021-08-26T09:39:59.358Z"
   },
   {
    "duration": 2,
    "start_time": "2021-08-26T09:41:40.562Z"
   },
   {
    "duration": 51,
    "start_time": "2021-08-26T09:41:47.504Z"
   },
   {
    "duration": 4,
    "start_time": "2021-08-26T09:42:08.569Z"
   },
   {
    "duration": 1395,
    "start_time": "2021-08-26T09:42:14.180Z"
   },
   {
    "duration": 51,
    "start_time": "2021-08-26T09:43:32.793Z"
   },
   {
    "duration": 4,
    "start_time": "2021-08-26T09:44:10.599Z"
   },
   {
    "duration": 1143,
    "start_time": "2021-08-26T09:47:20.277Z"
   },
   {
    "duration": 54,
    "start_time": "2021-08-26T09:47:21.422Z"
   },
   {
    "duration": 15,
    "start_time": "2021-08-26T09:47:21.478Z"
   },
   {
    "duration": 28,
    "start_time": "2021-08-26T09:47:21.495Z"
   },
   {
    "duration": 39,
    "start_time": "2021-08-26T09:47:21.524Z"
   },
   {
    "duration": 23,
    "start_time": "2021-08-26T09:47:21.565Z"
   },
   {
    "duration": 8,
    "start_time": "2021-08-26T09:47:21.590Z"
   },
   {
    "duration": 48,
    "start_time": "2021-08-26T09:47:21.601Z"
   },
   {
    "duration": 469,
    "start_time": "2021-08-26T09:47:21.652Z"
   },
   {
    "duration": 217,
    "start_time": "2021-08-26T09:47:22.124Z"
   },
   {
    "duration": 16,
    "start_time": "2021-08-26T09:47:22.343Z"
   },
   {
    "duration": 13,
    "start_time": "2021-08-26T09:47:22.361Z"
   },
   {
    "duration": 30,
    "start_time": "2021-08-26T09:47:22.376Z"
   },
   {
    "duration": 544,
    "start_time": "2021-08-26T09:47:22.408Z"
   },
   {
    "duration": 8,
    "start_time": "2021-08-26T09:47:22.954Z"
   },
   {
    "duration": 864,
    "start_time": "2021-08-26T09:47:22.964Z"
   },
   {
    "duration": 678,
    "start_time": "2021-08-26T09:47:23.830Z"
   },
   {
    "duration": 702,
    "start_time": "2021-08-26T09:47:24.513Z"
   },
   {
    "duration": 964,
    "start_time": "2021-08-26T09:47:25.216Z"
   },
   {
    "duration": 19,
    "start_time": "2021-08-26T09:47:26.181Z"
   },
   {
    "duration": 2,
    "start_time": "2021-08-26T09:47:26.201Z"
   },
   {
    "duration": 8,
    "start_time": "2021-08-26T09:47:26.204Z"
   },
   {
    "duration": 33,
    "start_time": "2021-08-26T09:47:26.215Z"
   },
   {
    "duration": 2,
    "start_time": "2021-08-26T09:47:26.250Z"
   },
   {
    "duration": 38,
    "start_time": "2021-08-26T09:47:26.253Z"
   },
   {
    "duration": 9,
    "start_time": "2021-08-26T09:47:26.294Z"
   },
   {
    "duration": 546,
    "start_time": "2021-08-26T09:47:26.305Z"
   },
   {
    "duration": 2,
    "start_time": "2021-08-26T09:47:26.853Z"
   },
   {
    "duration": 106,
    "start_time": "2021-08-26T09:47:26.856Z"
   },
   {
    "duration": 4,
    "start_time": "2021-08-26T09:47:26.964Z"
   },
   {
    "duration": 7,
    "start_time": "2021-08-26T09:47:26.969Z"
   },
   {
    "duration": 1304,
    "start_time": "2021-08-26T09:47:26.977Z"
   },
   {
    "duration": -106,
    "start_time": "2021-08-26T09:47:28.389Z"
   },
   {
    "duration": -121,
    "start_time": "2021-08-26T09:47:28.405Z"
   },
   {
    "duration": -135,
    "start_time": "2021-08-26T09:47:28.420Z"
   },
   {
    "duration": -149,
    "start_time": "2021-08-26T09:47:28.434Z"
   },
   {
    "duration": 9,
    "start_time": "2021-08-26T09:49:13.263Z"
   },
   {
    "duration": 14,
    "start_time": "2021-08-26T09:49:20.323Z"
   },
   {
    "duration": 1349,
    "start_time": "2021-08-26T09:50:47.022Z"
   },
   {
    "duration": 10,
    "start_time": "2021-08-26T09:52:13.498Z"
   },
   {
    "duration": 16,
    "start_time": "2021-08-26T09:55:24.840Z"
   },
   {
    "duration": 9,
    "start_time": "2021-08-26T09:57:34.089Z"
   },
   {
    "duration": 8,
    "start_time": "2021-08-26T10:01:52.600Z"
   },
   {
    "duration": 8,
    "start_time": "2021-08-26T10:02:31.253Z"
   },
   {
    "duration": 17,
    "start_time": "2021-08-26T10:02:42.111Z"
   },
   {
    "duration": 8,
    "start_time": "2021-08-26T10:02:48.009Z"
   },
   {
    "duration": 666,
    "start_time": "2021-08-26T10:03:06.661Z"
   },
   {
    "duration": 7,
    "start_time": "2021-08-26T10:03:22.737Z"
   },
   {
    "duration": 1950,
    "start_time": "2021-08-26T10:06:35.140Z"
   },
   {
    "duration": 2801,
    "start_time": "2021-08-26T10:07:02.522Z"
   },
   {
    "duration": 1685,
    "start_time": "2021-08-26T10:07:12.039Z"
   },
   {
    "duration": 9,
    "start_time": "2021-08-26T10:08:06.656Z"
   },
   {
    "duration": 10,
    "start_time": "2021-08-26T10:08:34.077Z"
   },
   {
    "duration": 1196,
    "start_time": "2021-08-26T10:09:14.845Z"
   },
   {
    "duration": 56,
    "start_time": "2021-08-26T10:09:16.042Z"
   },
   {
    "duration": 15,
    "start_time": "2021-08-26T10:09:16.100Z"
   },
   {
    "duration": 11,
    "start_time": "2021-08-26T10:09:16.117Z"
   },
   {
    "duration": 26,
    "start_time": "2021-08-26T10:09:16.129Z"
   },
   {
    "duration": 36,
    "start_time": "2021-08-26T10:09:16.156Z"
   },
   {
    "duration": 8,
    "start_time": "2021-08-26T10:09:16.193Z"
   },
   {
    "duration": 37,
    "start_time": "2021-08-26T10:09:16.204Z"
   },
   {
    "duration": 566,
    "start_time": "2021-08-26T10:09:16.243Z"
   },
   {
    "duration": 226,
    "start_time": "2021-08-26T10:09:16.811Z"
   },
   {
    "duration": 23,
    "start_time": "2021-08-26T10:09:17.039Z"
   },
   {
    "duration": 9,
    "start_time": "2021-08-26T10:09:17.064Z"
   },
   {
    "duration": 24,
    "start_time": "2021-08-26T10:09:17.074Z"
   },
   {
    "duration": 573,
    "start_time": "2021-08-26T10:09:17.100Z"
   },
   {
    "duration": 21,
    "start_time": "2021-08-26T10:09:17.675Z"
   },
   {
    "duration": 865,
    "start_time": "2021-08-26T10:09:17.698Z"
   },
   {
    "duration": 721,
    "start_time": "2021-08-26T10:09:18.564Z"
   },
   {
    "duration": 735,
    "start_time": "2021-08-26T10:09:19.291Z"
   },
   {
    "duration": 858,
    "start_time": "2021-08-26T10:09:20.027Z"
   },
   {
    "duration": 12,
    "start_time": "2021-08-26T10:09:20.891Z"
   },
   {
    "duration": 4,
    "start_time": "2021-08-26T10:09:20.904Z"
   },
   {
    "duration": 6,
    "start_time": "2021-08-26T10:09:20.909Z"
   },
   {
    "duration": 33,
    "start_time": "2021-08-26T10:09:20.918Z"
   },
   {
    "duration": 2,
    "start_time": "2021-08-26T10:09:20.953Z"
   },
   {
    "duration": 47,
    "start_time": "2021-08-26T10:09:20.957Z"
   },
   {
    "duration": 6,
    "start_time": "2021-08-26T10:09:21.005Z"
   },
   {
    "duration": 559,
    "start_time": "2021-08-26T10:09:21.013Z"
   },
   {
    "duration": 3,
    "start_time": "2021-08-26T10:09:21.574Z"
   },
   {
    "duration": 21,
    "start_time": "2021-08-26T10:09:21.578Z"
   },
   {
    "duration": 30,
    "start_time": "2021-08-26T10:09:21.601Z"
   },
   {
    "duration": 14,
    "start_time": "2021-08-26T10:09:21.633Z"
   },
   {
    "duration": 1365,
    "start_time": "2021-08-26T10:09:21.649Z"
   },
   {
    "duration": -70,
    "start_time": "2021-08-26T10:09:23.085Z"
   },
   {
    "duration": -86,
    "start_time": "2021-08-26T10:09:23.102Z"
   },
   {
    "duration": -106,
    "start_time": "2021-08-26T10:09:23.123Z"
   },
   {
    "duration": -120,
    "start_time": "2021-08-26T10:09:23.138Z"
   },
   {
    "duration": -131,
    "start_time": "2021-08-26T10:09:23.151Z"
   },
   {
    "duration": -146,
    "start_time": "2021-08-26T10:09:23.167Z"
   },
   {
    "duration": -158,
    "start_time": "2021-08-26T10:09:23.180Z"
   },
   {
    "duration": 9,
    "start_time": "2021-08-26T10:09:50.648Z"
   },
   {
    "duration": 13,
    "start_time": "2021-08-26T10:09:52.554Z"
   },
   {
    "duration": 1253,
    "start_time": "2021-08-26T10:09:57.032Z"
   },
   {
    "duration": 7,
    "start_time": "2021-08-26T10:10:06.298Z"
   },
   {
    "duration": 10,
    "start_time": "2021-08-26T10:10:11.650Z"
   },
   {
    "duration": 10,
    "start_time": "2021-08-26T10:10:16.988Z"
   },
   {
    "duration": 5,
    "start_time": "2021-08-26T10:18:09.545Z"
   },
   {
    "duration": 283,
    "start_time": "2021-08-26T10:18:31.916Z"
   },
   {
    "duration": 5,
    "start_time": "2021-08-26T10:18:58.932Z"
   },
   {
    "duration": 17,
    "start_time": "2021-08-26T10:19:48.691Z"
   },
   {
    "duration": 19,
    "start_time": "2021-08-26T10:20:07.099Z"
   },
   {
    "duration": 20,
    "start_time": "2021-08-26T10:20:50.517Z"
   },
   {
    "duration": 21,
    "start_time": "2021-08-26T10:21:00.367Z"
   },
   {
    "duration": 18,
    "start_time": "2021-08-26T10:22:08.543Z"
   },
   {
    "duration": 19,
    "start_time": "2021-08-26T10:22:16.217Z"
   },
   {
    "duration": 264,
    "start_time": "2021-08-26T10:25:24.236Z"
   },
   {
    "duration": 265,
    "start_time": "2021-08-26T10:25:45.971Z"
   },
   {
    "duration": 18,
    "start_time": "2021-08-26T10:25:57.901Z"
   },
   {
    "duration": 261,
    "start_time": "2021-08-26T10:27:25.952Z"
   },
   {
    "duration": 17,
    "start_time": "2021-08-26T10:27:39.971Z"
   },
   {
    "duration": 24,
    "start_time": "2021-08-26T10:28:18.324Z"
   },
   {
    "duration": 14,
    "start_time": "2021-08-26T10:28:45.403Z"
   },
   {
    "duration": 6,
    "start_time": "2021-08-26T10:34:35.712Z"
   },
   {
    "duration": 251,
    "start_time": "2021-08-26T10:36:49.305Z"
   },
   {
    "duration": 9,
    "start_time": "2021-08-26T10:37:16.322Z"
   },
   {
    "duration": 9,
    "start_time": "2021-08-26T10:38:03.745Z"
   },
   {
    "duration": 1238,
    "start_time": "2021-08-26T10:38:22.386Z"
   },
   {
    "duration": 55,
    "start_time": "2021-08-26T10:38:23.626Z"
   },
   {
    "duration": 16,
    "start_time": "2021-08-26T10:38:23.684Z"
   },
   {
    "duration": 11,
    "start_time": "2021-08-26T10:38:23.701Z"
   },
   {
    "duration": 29,
    "start_time": "2021-08-26T10:38:23.713Z"
   },
   {
    "duration": 21,
    "start_time": "2021-08-26T10:38:23.743Z"
   },
   {
    "duration": 26,
    "start_time": "2021-08-26T10:38:23.765Z"
   },
   {
    "duration": 39,
    "start_time": "2021-08-26T10:38:23.794Z"
   },
   {
    "duration": 490,
    "start_time": "2021-08-26T10:38:23.835Z"
   },
   {
    "duration": 218,
    "start_time": "2021-08-26T10:38:24.326Z"
   },
   {
    "duration": 16,
    "start_time": "2021-08-26T10:38:24.546Z"
   },
   {
    "duration": 8,
    "start_time": "2021-08-26T10:38:24.564Z"
   },
   {
    "duration": 32,
    "start_time": "2021-08-26T10:38:24.574Z"
   },
   {
    "duration": 565,
    "start_time": "2021-08-26T10:38:24.607Z"
   },
   {
    "duration": 18,
    "start_time": "2021-08-26T10:38:25.174Z"
   },
   {
    "duration": 742,
    "start_time": "2021-08-26T10:38:25.194Z"
   },
   {
    "duration": 682,
    "start_time": "2021-08-26T10:38:25.938Z"
   },
   {
    "duration": 675,
    "start_time": "2021-08-26T10:38:26.621Z"
   },
   {
    "duration": 889,
    "start_time": "2021-08-26T10:38:27.298Z"
   },
   {
    "duration": 12,
    "start_time": "2021-08-26T10:38:28.191Z"
   },
   {
    "duration": 6,
    "start_time": "2021-08-26T10:38:28.204Z"
   },
   {
    "duration": 26,
    "start_time": "2021-08-26T10:38:28.212Z"
   },
   {
    "duration": 59,
    "start_time": "2021-08-26T10:38:28.241Z"
   },
   {
    "duration": 3,
    "start_time": "2021-08-26T10:38:28.302Z"
   },
   {
    "duration": 30,
    "start_time": "2021-08-26T10:38:28.306Z"
   },
   {
    "duration": 7,
    "start_time": "2021-08-26T10:38:28.338Z"
   },
   {
    "duration": 563,
    "start_time": "2021-08-26T10:38:28.346Z"
   },
   {
    "duration": 3,
    "start_time": "2021-08-26T10:38:28.910Z"
   },
   {
    "duration": 10,
    "start_time": "2021-08-26T10:38:28.914Z"
   },
   {
    "duration": 9,
    "start_time": "2021-08-26T10:38:28.925Z"
   },
   {
    "duration": 7,
    "start_time": "2021-08-26T10:38:28.936Z"
   },
   {
    "duration": 1471,
    "start_time": "2021-08-26T10:38:28.944Z"
   },
   {
    "duration": -133,
    "start_time": "2021-08-26T10:38:30.550Z"
   },
   {
    "duration": -146,
    "start_time": "2021-08-26T10:38:30.563Z"
   },
   {
    "duration": -159,
    "start_time": "2021-08-26T10:38:30.577Z"
   },
   {
    "duration": -171,
    "start_time": "2021-08-26T10:38:30.590Z"
   },
   {
    "duration": -185,
    "start_time": "2021-08-26T10:38:30.605Z"
   },
   {
    "duration": -197,
    "start_time": "2021-08-26T10:38:30.618Z"
   },
   {
    "duration": -226,
    "start_time": "2021-08-26T10:38:30.648Z"
   },
   {
    "duration": -238,
    "start_time": "2021-08-26T10:38:30.661Z"
   },
   {
    "duration": 10,
    "start_time": "2021-08-26T10:39:14.820Z"
   },
   {
    "duration": 14,
    "start_time": "2021-08-26T10:39:17.522Z"
   },
   {
    "duration": 1230,
    "start_time": "2021-08-26T10:39:22.344Z"
   },
   {
    "duration": 6,
    "start_time": "2021-08-26T10:39:31.744Z"
   },
   {
    "duration": 11,
    "start_time": "2021-08-26T10:39:34.076Z"
   },
   {
    "duration": 9,
    "start_time": "2021-08-26T10:39:40.331Z"
   },
   {
    "duration": 247,
    "start_time": "2021-08-26T10:41:25.674Z"
   },
   {
    "duration": 6,
    "start_time": "2021-08-26T10:41:45.617Z"
   },
   {
    "duration": 7,
    "start_time": "2021-08-26T10:43:03.969Z"
   },
   {
    "duration": 7,
    "start_time": "2021-08-26T10:43:32.241Z"
   },
   {
    "duration": 269,
    "start_time": "2021-08-26T10:47:25.532Z"
   },
   {
    "duration": 15,
    "start_time": "2021-08-26T10:47:35.258Z"
   },
   {
    "duration": 273,
    "start_time": "2021-08-26T10:47:54.600Z"
   },
   {
    "duration": 16,
    "start_time": "2021-08-26T10:47:59.052Z"
   },
   {
    "duration": 77,
    "start_time": "2021-08-26T10:48:15.264Z"
   },
   {
    "duration": 253,
    "start_time": "2021-08-26T10:48:45.487Z"
   },
   {
    "duration": 17,
    "start_time": "2021-08-26T10:48:53.503Z"
   },
   {
    "duration": 17,
    "start_time": "2021-08-26T10:50:06.029Z"
   },
   {
    "duration": 16,
    "start_time": "2021-08-26T10:51:49.077Z"
   },
   {
    "duration": 1197,
    "start_time": "2021-08-26T10:57:05.013Z"
   },
   {
    "duration": 54,
    "start_time": "2021-08-26T10:57:06.212Z"
   },
   {
    "duration": 15,
    "start_time": "2021-08-26T10:57:06.268Z"
   },
   {
    "duration": 26,
    "start_time": "2021-08-26T10:57:06.286Z"
   },
   {
    "duration": 36,
    "start_time": "2021-08-26T10:57:06.314Z"
   },
   {
    "duration": 24,
    "start_time": "2021-08-26T10:57:06.352Z"
   },
   {
    "duration": 32,
    "start_time": "2021-08-26T10:57:06.378Z"
   },
   {
    "duration": 43,
    "start_time": "2021-08-26T10:57:06.414Z"
   },
   {
    "duration": 466,
    "start_time": "2021-08-26T10:57:06.460Z"
   },
   {
    "duration": 213,
    "start_time": "2021-08-26T10:57:06.928Z"
   },
   {
    "duration": 15,
    "start_time": "2021-08-26T10:57:07.142Z"
   },
   {
    "duration": 16,
    "start_time": "2021-08-26T10:57:07.158Z"
   },
   {
    "duration": 24,
    "start_time": "2021-08-26T10:57:07.176Z"
   },
   {
    "duration": 560,
    "start_time": "2021-08-26T10:57:07.201Z"
   },
   {
    "duration": 8,
    "start_time": "2021-08-26T10:57:07.763Z"
   },
   {
    "duration": 880,
    "start_time": "2021-08-26T10:57:07.772Z"
   },
   {
    "duration": 687,
    "start_time": "2021-08-26T10:57:08.654Z"
   },
   {
    "duration": 732,
    "start_time": "2021-08-26T10:57:09.342Z"
   },
   {
    "duration": 1032,
    "start_time": "2021-08-26T10:57:10.076Z"
   },
   {
    "duration": 11,
    "start_time": "2021-08-26T10:57:11.110Z"
   },
   {
    "duration": 2,
    "start_time": "2021-08-26T10:57:11.122Z"
   },
   {
    "duration": 9,
    "start_time": "2021-08-26T10:57:11.126Z"
   },
   {
    "duration": 35,
    "start_time": "2021-08-26T10:57:11.137Z"
   },
   {
    "duration": 19,
    "start_time": "2021-08-26T10:57:11.191Z"
   },
   {
    "duration": 5,
    "start_time": "2021-08-26T10:57:11.212Z"
   },
   {
    "duration": 565,
    "start_time": "2021-08-26T10:57:11.219Z"
   },
   {
    "duration": 5,
    "start_time": "2021-08-26T10:57:11.786Z"
   },
   {
    "duration": 14,
    "start_time": "2021-08-26T10:57:11.793Z"
   },
   {
    "duration": 12,
    "start_time": "2021-08-26T10:57:11.809Z"
   },
   {
    "duration": 16,
    "start_time": "2021-08-26T10:57:11.823Z"
   },
   {
    "duration": 1371,
    "start_time": "2021-08-26T10:57:11.840Z"
   },
   {
    "duration": -131,
    "start_time": "2021-08-26T10:57:13.344Z"
   },
   {
    "duration": -144,
    "start_time": "2021-08-26T10:57:13.358Z"
   },
   {
    "duration": -155,
    "start_time": "2021-08-26T10:57:13.370Z"
   },
   {
    "duration": -198,
    "start_time": "2021-08-26T10:57:13.414Z"
   },
   {
    "duration": 9,
    "start_time": "2021-08-26T10:58:48.500Z"
   },
   {
    "duration": 13,
    "start_time": "2021-08-26T10:58:53.834Z"
   },
   {
    "duration": 1255,
    "start_time": "2021-08-26T10:58:58.118Z"
   },
   {
    "duration": 15,
    "start_time": "2021-08-26T11:01:10.292Z"
   },
   {
    "duration": 1344,
    "start_time": "2021-08-26T12:20:30.379Z"
   },
   {
    "duration": 54,
    "start_time": "2021-08-26T12:20:31.724Z"
   },
   {
    "duration": 17,
    "start_time": "2021-08-26T12:20:31.780Z"
   },
   {
    "duration": 11,
    "start_time": "2021-08-26T12:20:31.798Z"
   },
   {
    "duration": 30,
    "start_time": "2021-08-26T12:20:31.811Z"
   },
   {
    "duration": 19,
    "start_time": "2021-08-26T12:20:31.843Z"
   },
   {
    "duration": 7,
    "start_time": "2021-08-26T12:20:31.864Z"
   },
   {
    "duration": 53,
    "start_time": "2021-08-26T12:20:31.873Z"
   },
   {
    "duration": 477,
    "start_time": "2021-08-26T12:20:31.928Z"
   },
   {
    "duration": 212,
    "start_time": "2021-08-26T12:20:32.407Z"
   },
   {
    "duration": 14,
    "start_time": "2021-08-26T12:20:32.620Z"
   },
   {
    "duration": 9,
    "start_time": "2021-08-26T12:20:32.635Z"
   },
   {
    "duration": 12,
    "start_time": "2021-08-26T12:20:32.645Z"
   },
   {
    "duration": 560,
    "start_time": "2021-08-26T12:20:32.659Z"
   },
   {
    "duration": 7,
    "start_time": "2021-08-26T12:20:33.220Z"
   },
   {
    "duration": 785,
    "start_time": "2021-08-26T12:20:33.229Z"
   },
   {
    "duration": 679,
    "start_time": "2021-08-26T12:20:34.016Z"
   },
   {
    "duration": 653,
    "start_time": "2021-08-26T12:20:34.696Z"
   },
   {
    "duration": 840,
    "start_time": "2021-08-26T12:20:35.351Z"
   },
   {
    "duration": 12,
    "start_time": "2021-08-26T12:20:36.192Z"
   },
   {
    "duration": 2,
    "start_time": "2021-08-26T12:20:36.206Z"
   },
   {
    "duration": 8,
    "start_time": "2021-08-26T12:20:36.209Z"
   },
   {
    "duration": 34,
    "start_time": "2021-08-26T12:20:36.220Z"
   },
   {
    "duration": 39,
    "start_time": "2021-08-26T12:20:36.255Z"
   },
   {
    "duration": 6,
    "start_time": "2021-08-26T12:20:36.296Z"
   },
   {
    "duration": 540,
    "start_time": "2021-08-26T12:20:36.303Z"
   },
   {
    "duration": 2,
    "start_time": "2021-08-26T12:20:36.845Z"
   },
   {
    "duration": 6,
    "start_time": "2021-08-26T12:20:36.848Z"
   },
   {
    "duration": 4,
    "start_time": "2021-08-26T12:20:36.856Z"
   },
   {
    "duration": 5,
    "start_time": "2021-08-26T12:20:36.861Z"
   },
   {
    "duration": 1321,
    "start_time": "2021-08-26T12:20:36.868Z"
   },
   {
    "duration": -124,
    "start_time": "2021-08-26T12:20:38.315Z"
   },
   {
    "duration": -152,
    "start_time": "2021-08-26T12:20:38.344Z"
   },
   {
    "duration": -168,
    "start_time": "2021-08-26T12:20:38.361Z"
   },
   {
    "duration": -181,
    "start_time": "2021-08-26T12:20:38.375Z"
   },
   {
    "duration": 10,
    "start_time": "2021-08-26T13:58:47.899Z"
   },
   {
    "duration": 14,
    "start_time": "2021-08-26T13:58:49.934Z"
   },
   {
    "duration": 1266,
    "start_time": "2021-08-26T13:58:55.291Z"
   },
   {
    "duration": 17,
    "start_time": "2021-08-26T13:59:15.197Z"
   },
   {
    "duration": 57,
    "start_time": "2021-08-26T20:53:22.224Z"
   },
   {
    "duration": 58,
    "start_time": "2021-08-26T20:56:34.401Z"
   },
   {
    "duration": 1104,
    "start_time": "2021-08-27T08:44:32.844Z"
   },
   {
    "duration": 52,
    "start_time": "2021-08-27T08:44:33.950Z"
   },
   {
    "duration": 15,
    "start_time": "2021-08-27T08:44:34.004Z"
   },
   {
    "duration": 9,
    "start_time": "2021-08-27T08:44:34.021Z"
   },
   {
    "duration": 22,
    "start_time": "2021-08-27T08:44:34.032Z"
   },
   {
    "duration": 39,
    "start_time": "2021-08-27T08:44:34.055Z"
   },
   {
    "duration": 8,
    "start_time": "2021-08-27T08:44:34.096Z"
   },
   {
    "duration": 37,
    "start_time": "2021-08-27T08:44:34.107Z"
   },
   {
    "duration": 504,
    "start_time": "2021-08-27T08:44:34.146Z"
   },
   {
    "duration": 218,
    "start_time": "2021-08-27T08:44:34.652Z"
   },
   {
    "duration": 20,
    "start_time": "2021-08-27T08:44:34.871Z"
   },
   {
    "duration": 9,
    "start_time": "2021-08-27T08:44:34.892Z"
   },
   {
    "duration": 11,
    "start_time": "2021-08-27T08:44:34.902Z"
   },
   {
    "duration": 579,
    "start_time": "2021-08-27T08:44:34.915Z"
   },
   {
    "duration": 8,
    "start_time": "2021-08-27T08:44:35.496Z"
   },
   {
    "duration": 835,
    "start_time": "2021-08-27T08:44:35.505Z"
   },
   {
    "duration": 654,
    "start_time": "2021-08-27T08:44:36.342Z"
   },
   {
    "duration": 689,
    "start_time": "2021-08-27T08:44:36.998Z"
   },
   {
    "duration": 890,
    "start_time": "2021-08-27T08:44:37.688Z"
   },
   {
    "duration": 16,
    "start_time": "2021-08-27T08:44:38.579Z"
   },
   {
    "duration": 3,
    "start_time": "2021-08-27T08:44:38.596Z"
   },
   {
    "duration": 36,
    "start_time": "2021-08-27T08:44:38.600Z"
   },
   {
    "duration": 17,
    "start_time": "2021-08-27T08:44:38.639Z"
   },
   {
    "duration": 28,
    "start_time": "2021-08-27T08:44:38.658Z"
   },
   {
    "duration": 552,
    "start_time": "2021-08-27T08:44:38.688Z"
   },
   {
    "duration": 3,
    "start_time": "2021-08-27T08:44:39.242Z"
   },
   {
    "duration": 5,
    "start_time": "2021-08-27T08:44:39.247Z"
   },
   {
    "duration": 6,
    "start_time": "2021-08-27T08:44:39.253Z"
   },
   {
    "duration": 27,
    "start_time": "2021-08-27T08:44:39.261Z"
   },
   {
    "duration": 2568,
    "start_time": "2021-08-27T08:44:39.290Z"
   },
   {
    "duration": 10,
    "start_time": "2021-08-27T08:44:41.860Z"
   },
   {
    "duration": 16,
    "start_time": "2021-08-27T08:44:41.871Z"
   },
   {
    "duration": 165580,
    "start_time": "2021-08-27T08:44:41.889Z"
   },
   {
    "duration": 15,
    "start_time": "2021-08-27T08:47:27.470Z"
   },
   {
    "duration": 4,
    "start_time": "2021-08-27T08:47:27.487Z"
   },
   {
    "duration": 4,
    "start_time": "2021-08-27T08:48:45.077Z"
   },
   {
    "duration": 266,
    "start_time": "2021-08-27T08:56:32.059Z"
   },
   {
    "duration": 170,
    "start_time": "2021-08-27T08:56:40.431Z"
   },
   {
    "duration": 305,
    "start_time": "2021-08-27T08:56:45.555Z"
   },
   {
    "duration": 8,
    "start_time": "2021-08-27T08:57:10.452Z"
   },
   {
    "duration": 17,
    "start_time": "2021-08-27T08:57:20.014Z"
   },
   {
    "duration": 8,
    "start_time": "2021-08-27T08:57:25.832Z"
   },
   {
    "duration": 208,
    "start_time": "2021-08-27T09:01:20.979Z"
   },
   {
    "duration": 11,
    "start_time": "2021-08-27T09:02:47.010Z"
   },
   {
    "duration": 8,
    "start_time": "2021-08-27T09:03:17.536Z"
   },
   {
    "duration": 18,
    "start_time": "2021-08-27T09:03:25.157Z"
   },
   {
    "duration": 9,
    "start_time": "2021-08-27T09:03:30.198Z"
   },
   {
    "duration": 4658,
    "start_time": "2021-08-27T09:15:04.661Z"
   },
   {
    "duration": 181,
    "start_time": "2021-08-27T09:15:52.553Z"
   },
   {
    "duration": 7,
    "start_time": "2021-08-27T09:16:15.575Z"
   },
   {
    "duration": 2,
    "start_time": "2021-08-27T09:22:16.480Z"
   },
   {
    "duration": 4,
    "start_time": "2021-08-27T09:22:19.024Z"
   },
   {
    "duration": 939,
    "start_time": "2021-08-27T09:22:24.680Z"
   },
   {
    "duration": 1092,
    "start_time": "2021-08-27T09:32:17.225Z"
   },
   {
    "duration": 53,
    "start_time": "2021-08-27T09:32:18.319Z"
   },
   {
    "duration": 20,
    "start_time": "2021-08-27T09:32:18.376Z"
   },
   {
    "duration": 14,
    "start_time": "2021-08-27T09:32:18.398Z"
   },
   {
    "duration": 25,
    "start_time": "2021-08-27T09:32:18.414Z"
   },
   {
    "duration": 20,
    "start_time": "2021-08-27T09:32:18.440Z"
   },
   {
    "duration": 28,
    "start_time": "2021-08-27T09:32:18.462Z"
   },
   {
    "duration": 39,
    "start_time": "2021-08-27T09:32:18.492Z"
   },
   {
    "duration": 500,
    "start_time": "2021-08-27T09:32:18.533Z"
   },
   {
    "duration": 224,
    "start_time": "2021-08-27T09:32:19.035Z"
   },
   {
    "duration": 13,
    "start_time": "2021-08-27T09:32:19.261Z"
   },
   {
    "duration": 17,
    "start_time": "2021-08-27T09:32:19.275Z"
   },
   {
    "duration": 12,
    "start_time": "2021-08-27T09:32:19.294Z"
   },
   {
    "duration": 582,
    "start_time": "2021-08-27T09:32:19.307Z"
   },
   {
    "duration": 7,
    "start_time": "2021-08-27T09:32:19.891Z"
   },
   {
    "duration": 883,
    "start_time": "2021-08-27T09:32:19.899Z"
   },
   {
    "duration": 719,
    "start_time": "2021-08-27T09:32:20.785Z"
   },
   {
    "duration": 694,
    "start_time": "2021-08-27T09:32:21.506Z"
   },
   {
    "duration": 906,
    "start_time": "2021-08-27T09:32:22.202Z"
   },
   {
    "duration": 16,
    "start_time": "2021-08-27T09:32:23.110Z"
   },
   {
    "duration": 7,
    "start_time": "2021-08-27T09:32:23.128Z"
   },
   {
    "duration": 61,
    "start_time": "2021-08-27T09:32:23.139Z"
   },
   {
    "duration": 18,
    "start_time": "2021-08-27T09:32:23.202Z"
   },
   {
    "duration": 7,
    "start_time": "2021-08-27T09:32:23.222Z"
   },
   {
    "duration": 606,
    "start_time": "2021-08-27T09:32:23.231Z"
   },
   {
    "duration": 2,
    "start_time": "2021-08-27T09:32:23.839Z"
   },
   {
    "duration": 7,
    "start_time": "2021-08-27T09:32:23.843Z"
   },
   {
    "duration": 10,
    "start_time": "2021-08-27T09:32:23.851Z"
   },
   {
    "duration": 10,
    "start_time": "2021-08-27T09:32:23.862Z"
   },
   {
    "duration": 1010,
    "start_time": "2021-08-27T09:32:23.873Z"
   },
   {
    "duration": 64,
    "start_time": "2021-08-27T09:32:24.822Z"
   },
   {
    "duration": 50,
    "start_time": "2021-08-27T09:32:24.837Z"
   },
   {
    "duration": 36,
    "start_time": "2021-08-27T09:32:24.853Z"
   },
   {
    "duration": 21,
    "start_time": "2021-08-27T09:32:24.870Z"
   },
   {
    "duration": 7,
    "start_time": "2021-08-27T09:32:24.885Z"
   },
   {
    "duration": 9,
    "start_time": "2021-08-27T09:32:40.246Z"
   },
   {
    "duration": 12,
    "start_time": "2021-08-27T09:32:42.272Z"
   },
   {
    "duration": 942,
    "start_time": "2021-08-27T09:32:47.307Z"
   },
   {
    "duration": 4356,
    "start_time": "2021-08-27T09:32:53.878Z"
   },
   {
    "duration": 3,
    "start_time": "2021-08-27T09:33:13.472Z"
   },
   {
    "duration": 1568,
    "start_time": "2021-08-28T05:56:50.532Z"
   },
   {
    "duration": 70,
    "start_time": "2021-08-28T05:56:52.103Z"
   },
   {
    "duration": 23,
    "start_time": "2021-08-28T05:56:52.175Z"
   },
   {
    "duration": 25,
    "start_time": "2021-08-28T05:56:52.200Z"
   },
   {
    "duration": 34,
    "start_time": "2021-08-28T05:56:52.227Z"
   },
   {
    "duration": 62,
    "start_time": "2021-08-28T05:56:52.264Z"
   },
   {
    "duration": 11,
    "start_time": "2021-08-28T05:56:52.329Z"
   },
   {
    "duration": 76,
    "start_time": "2021-08-28T05:56:52.343Z"
   },
   {
    "duration": 795,
    "start_time": "2021-08-28T05:56:52.422Z"
   },
   {
    "duration": 361,
    "start_time": "2021-08-28T05:56:53.220Z"
   },
   {
    "duration": 34,
    "start_time": "2021-08-28T05:56:53.584Z"
   },
   {
    "duration": 21,
    "start_time": "2021-08-28T05:56:53.621Z"
   },
   {
    "duration": 29,
    "start_time": "2021-08-28T05:56:53.645Z"
   },
   {
    "duration": 1067,
    "start_time": "2021-08-28T05:56:53.677Z"
   },
   {
    "duration": 11,
    "start_time": "2021-08-28T05:56:54.747Z"
   },
   {
    "duration": 1342,
    "start_time": "2021-08-28T05:56:54.760Z"
   },
   {
    "duration": 1018,
    "start_time": "2021-08-28T05:56:56.104Z"
   },
   {
    "duration": 1054,
    "start_time": "2021-08-28T05:56:57.124Z"
   },
   {
    "duration": 1341,
    "start_time": "2021-08-28T05:56:58.181Z"
   },
   {
    "duration": 17,
    "start_time": "2021-08-28T05:56:59.525Z"
   },
   {
    "duration": 4,
    "start_time": "2021-08-28T05:56:59.544Z"
   },
   {
    "duration": 86,
    "start_time": "2021-08-28T05:56:59.551Z"
   },
   {
    "duration": 29,
    "start_time": "2021-08-28T05:56:59.643Z"
   },
   {
    "duration": 42,
    "start_time": "2021-08-28T05:56:59.675Z"
   },
   {
    "duration": 949,
    "start_time": "2021-08-28T05:56:59.720Z"
   },
   {
    "duration": 3,
    "start_time": "2021-08-28T05:57:00.672Z"
   },
   {
    "duration": 14,
    "start_time": "2021-08-28T05:57:00.677Z"
   },
   {
    "duration": 12,
    "start_time": "2021-08-28T05:57:00.693Z"
   },
   {
    "duration": 14,
    "start_time": "2021-08-28T05:57:00.716Z"
   },
   {
    "duration": 3732,
    "start_time": "2021-08-28T05:57:00.733Z"
   },
   {
    "duration": 14,
    "start_time": "2021-08-28T05:57:04.468Z"
   },
   {
    "duration": 19,
    "start_time": "2021-08-28T05:57:04.484Z"
   },
   {
    "duration": 186440,
    "start_time": "2021-08-28T05:57:04.505Z"
   },
   {
    "duration": 4,
    "start_time": "2021-08-28T06:00:10.947Z"
   },
   {
    "duration": 32,
    "start_time": "2021-08-28T06:00:10.953Z"
   },
   {
    "duration": 1713,
    "start_time": "2021-08-29T14:39:11.586Z"
   },
   {
    "duration": 80,
    "start_time": "2021-08-29T14:39:13.302Z"
   },
   {
    "duration": 26,
    "start_time": "2021-08-29T14:39:13.385Z"
   },
   {
    "duration": 14,
    "start_time": "2021-08-29T14:39:13.415Z"
   },
   {
    "duration": 71,
    "start_time": "2021-08-29T14:39:13.431Z"
   },
   {
    "duration": 35,
    "start_time": "2021-08-29T14:39:13.505Z"
   },
   {
    "duration": 41,
    "start_time": "2021-08-29T14:39:13.543Z"
   },
   {
    "duration": 62,
    "start_time": "2021-08-29T14:39:13.588Z"
   },
   {
    "duration": 970,
    "start_time": "2021-08-29T14:39:13.669Z"
   },
   {
    "duration": 414,
    "start_time": "2021-08-29T14:39:14.641Z"
   },
   {
    "duration": 33,
    "start_time": "2021-08-29T14:39:15.058Z"
   },
   {
    "duration": 14,
    "start_time": "2021-08-29T14:39:15.093Z"
   },
   {
    "duration": 19,
    "start_time": "2021-08-29T14:39:15.109Z"
   },
   {
    "duration": 1072,
    "start_time": "2021-08-29T14:39:15.131Z"
   },
   {
    "duration": 10,
    "start_time": "2021-08-29T14:39:16.206Z"
   },
   {
    "duration": 1315,
    "start_time": "2021-08-29T14:39:16.218Z"
   },
   {
    "duration": 1148,
    "start_time": "2021-08-29T14:39:17.536Z"
   },
   {
    "duration": 1302,
    "start_time": "2021-08-29T14:39:18.687Z"
   },
   {
    "duration": 1728,
    "start_time": "2021-08-29T14:39:19.991Z"
   },
   {
    "duration": 18,
    "start_time": "2021-08-29T14:39:21.721Z"
   },
   {
    "duration": 27,
    "start_time": "2021-08-29T14:39:21.742Z"
   },
   {
    "duration": 66,
    "start_time": "2021-08-29T14:39:21.772Z"
   },
   {
    "duration": 58,
    "start_time": "2021-08-29T14:39:21.846Z"
   },
   {
    "duration": 12,
    "start_time": "2021-08-29T14:39:21.907Z"
   },
   {
    "duration": 1493,
    "start_time": "2021-08-29T14:39:21.922Z"
   },
   {
    "duration": 5,
    "start_time": "2021-08-29T14:39:23.418Z"
   },
   {
    "duration": 8,
    "start_time": "2021-08-29T14:39:23.426Z"
   },
   {
    "duration": 9,
    "start_time": "2021-08-29T14:39:23.437Z"
   },
   {
    "duration": 36,
    "start_time": "2021-08-29T14:39:23.448Z"
   },
   {
    "duration": 3140,
    "start_time": "2021-08-29T14:39:23.487Z"
   },
   {
    "duration": 21,
    "start_time": "2021-08-29T14:39:26.630Z"
   },
   {
    "duration": 33,
    "start_time": "2021-08-29T14:39:26.654Z"
   },
   {
    "duration": 3,
    "start_time": "2021-08-29T14:39:26.689Z"
   },
   {
    "duration": 6,
    "start_time": "2021-08-29T14:39:26.694Z"
   },
   {
    "duration": 25,
    "start_time": "2021-08-29T14:39:26.702Z"
   },
   {
    "duration": 9,
    "start_time": "2021-08-29T14:40:19.583Z"
   },
   {
    "duration": 115,
    "start_time": "2021-08-29T15:40:02.625Z"
   },
   {
    "duration": 119,
    "start_time": "2021-08-29T15:41:33.284Z"
   },
   {
    "duration": 1150,
    "start_time": "2021-08-29T15:41:37.534Z"
   },
   {
    "duration": 123,
    "start_time": "2021-08-29T15:42:52.507Z"
   },
   {
    "duration": 124,
    "start_time": "2021-08-29T15:43:17.057Z"
   },
   {
    "duration": 129,
    "start_time": "2021-08-29T15:46:36.759Z"
   },
   {
    "duration": 137,
    "start_time": "2021-08-29T15:46:42.998Z"
   },
   {
    "duration": 119,
    "start_time": "2021-08-29T15:46:48.348Z"
   },
   {
    "duration": 1684,
    "start_time": "2021-08-29T15:50:11.416Z"
   },
   {
    "duration": 76,
    "start_time": "2021-08-29T15:50:13.103Z"
   },
   {
    "duration": 31,
    "start_time": "2021-08-29T15:50:13.183Z"
   },
   {
    "duration": 11,
    "start_time": "2021-08-29T15:50:13.217Z"
   },
   {
    "duration": 76,
    "start_time": "2021-08-29T15:50:13.230Z"
   },
   {
    "duration": 33,
    "start_time": "2021-08-29T15:50:13.308Z"
   },
   {
    "duration": 37,
    "start_time": "2021-08-29T15:50:13.344Z"
   },
   {
    "duration": 83,
    "start_time": "2021-08-29T15:50:13.385Z"
   },
   {
    "duration": 1022,
    "start_time": "2021-08-29T15:50:13.472Z"
   },
   {
    "duration": 400,
    "start_time": "2021-08-29T15:50:14.497Z"
   },
   {
    "duration": 23,
    "start_time": "2021-08-29T15:50:14.900Z"
   },
   {
    "duration": 15,
    "start_time": "2021-08-29T15:50:14.925Z"
   },
   {
    "duration": 44,
    "start_time": "2021-08-29T15:50:14.943Z"
   },
   {
    "duration": 1167,
    "start_time": "2021-08-29T15:50:14.992Z"
   },
   {
    "duration": 28,
    "start_time": "2021-08-29T15:50:16.161Z"
   },
   {
    "duration": 1428,
    "start_time": "2021-08-29T15:50:16.193Z"
   },
   {
    "duration": 1280,
    "start_time": "2021-08-29T15:50:17.624Z"
   },
   {
    "duration": 1378,
    "start_time": "2021-08-29T15:50:18.907Z"
   },
   {
    "duration": 1587,
    "start_time": "2021-08-29T15:50:20.288Z"
   },
   {
    "duration": 21,
    "start_time": "2021-08-29T15:50:21.878Z"
   },
   {
    "duration": 5,
    "start_time": "2021-08-29T15:50:21.902Z"
   },
   {
    "duration": 94,
    "start_time": "2021-08-29T15:50:21.910Z"
   },
   {
    "duration": 27,
    "start_time": "2021-08-29T15:50:22.009Z"
   },
   {
    "duration": 29,
    "start_time": "2021-08-29T15:50:22.039Z"
   },
   {
    "duration": 1113,
    "start_time": "2021-08-29T15:50:22.071Z"
   },
   {
    "duration": 5,
    "start_time": "2021-08-29T15:50:23.187Z"
   },
   {
    "duration": 12,
    "start_time": "2021-08-29T15:50:23.195Z"
   },
   {
    "duration": 651,
    "start_time": "2021-08-29T15:50:23.209Z"
   },
   {
    "duration": -60,
    "start_time": "2021-08-29T15:50:23.923Z"
   },
   {
    "duration": -101,
    "start_time": "2021-08-29T15:50:23.965Z"
   },
   {
    "duration": -120,
    "start_time": "2021-08-29T15:50:23.986Z"
   },
   {
    "duration": -131,
    "start_time": "2021-08-29T15:50:24.002Z"
   },
   {
    "duration": -148,
    "start_time": "2021-08-29T15:50:24.021Z"
   },
   {
    "duration": -162,
    "start_time": "2021-08-29T15:50:24.037Z"
   },
   {
    "duration": -175,
    "start_time": "2021-08-29T15:50:24.054Z"
   },
   {
    "duration": 109,
    "start_time": "2021-08-29T15:50:46.437Z"
   },
   {
    "duration": 153,
    "start_time": "2021-08-29T16:00:26.404Z"
   },
   {
    "duration": 133,
    "start_time": "2021-08-29T16:00:29.842Z"
   },
   {
    "duration": 844,
    "start_time": "2021-08-29T16:00:39.290Z"
   },
   {
    "duration": 108,
    "start_time": "2021-08-29T16:32:38.316Z"
   },
   {
    "duration": 5,
    "start_time": "2021-08-29T16:36:23.723Z"
   },
   {
    "duration": 86,
    "start_time": "2021-08-29T16:36:23.732Z"
   },
   {
    "duration": 27,
    "start_time": "2021-08-29T16:36:23.821Z"
   },
   {
    "duration": 22,
    "start_time": "2021-08-29T16:36:23.868Z"
   },
   {
    "duration": 37,
    "start_time": "2021-08-29T16:36:23.909Z"
   },
   {
    "duration": 52,
    "start_time": "2021-08-29T16:36:23.949Z"
   },
   {
    "duration": 18,
    "start_time": "2021-08-29T16:36:24.006Z"
   },
   {
    "duration": 113,
    "start_time": "2021-08-29T16:36:24.027Z"
   },
   {
    "duration": 982,
    "start_time": "2021-08-29T16:36:24.145Z"
   },
   {
    "duration": 431,
    "start_time": "2021-08-29T16:36:25.131Z"
   },
   {
    "duration": 27,
    "start_time": "2021-08-29T16:36:25.569Z"
   },
   {
    "duration": 22,
    "start_time": "2021-08-29T16:36:25.599Z"
   },
   {
    "duration": 63,
    "start_time": "2021-08-29T16:36:25.624Z"
   },
   {
    "duration": 1135,
    "start_time": "2021-08-29T16:36:25.692Z"
   },
   {
    "duration": 15,
    "start_time": "2021-08-29T16:36:26.830Z"
   },
   {
    "duration": 1510,
    "start_time": "2021-08-29T16:36:26.847Z"
   },
   {
    "duration": 1163,
    "start_time": "2021-08-29T16:36:28.360Z"
   },
   {
    "duration": 1248,
    "start_time": "2021-08-29T16:36:29.526Z"
   },
   {
    "duration": 1835,
    "start_time": "2021-08-29T16:36:30.778Z"
   },
   {
    "duration": 20,
    "start_time": "2021-08-29T16:36:32.617Z"
   },
   {
    "duration": 4,
    "start_time": "2021-08-29T16:36:32.640Z"
   },
   {
    "duration": 110,
    "start_time": "2021-08-29T16:36:32.646Z"
   },
   {
    "duration": 50,
    "start_time": "2021-08-29T16:36:32.759Z"
   },
   {
    "duration": 13,
    "start_time": "2021-08-29T16:36:32.816Z"
   },
   {
    "duration": 1253,
    "start_time": "2021-08-29T16:36:32.831Z"
   },
   {
    "duration": 1203,
    "start_time": "2021-08-29T16:36:34.090Z"
   },
   {
    "duration": 19,
    "start_time": "2021-08-29T16:36:35.296Z"
   },
   {
    "duration": 19,
    "start_time": "2021-08-29T16:36:35.318Z"
   },
   {
    "duration": 3,
    "start_time": "2021-08-29T16:36:35.342Z"
   },
   {
    "duration": 23,
    "start_time": "2021-08-29T16:36:35.348Z"
   },
   {
    "duration": 36,
    "start_time": "2021-08-29T16:36:35.373Z"
   },
   {
    "duration": 32,
    "start_time": "2021-08-29T16:38:40.082Z"
   },
   {
    "duration": 352,
    "start_time": "2021-08-29T16:40:33.074Z"
   },
   {
    "duration": 421,
    "start_time": "2021-08-29T16:40:45.667Z"
   },
   {
    "duration": 12,
    "start_time": "2021-08-29T16:41:51.685Z"
   },
   {
    "duration": 16,
    "start_time": "2021-08-29T16:42:03.071Z"
   },
   {
    "duration": 18,
    "start_time": "2021-08-29T16:42:11.986Z"
   },
   {
    "duration": 15,
    "start_time": "2021-08-29T16:42:20.703Z"
   },
   {
    "duration": 15,
    "start_time": "2021-08-29T16:43:39.464Z"
   },
   {
    "duration": 12,
    "start_time": "2021-08-29T16:43:41.264Z"
   },
   {
    "duration": 185521,
    "start_time": "2021-08-29T16:43:57.679Z"
   },
   {
    "duration": 12,
    "start_time": "2021-08-29T16:47:32.710Z"
   },
   {
    "duration": 14,
    "start_time": "2021-08-29T16:47:46.995Z"
   },
   {
    "duration": 14,
    "start_time": "2021-08-29T16:47:53.871Z"
   },
   {
    "duration": 13,
    "start_time": "2021-08-29T16:48:05.133Z"
   },
   {
    "duration": 808,
    "start_time": "2021-08-29T17:03:17.224Z"
   },
   {
    "duration": 368,
    "start_time": "2021-08-29T18:09:55.139Z"
   },
   {
    "duration": 1754,
    "start_time": "2021-08-29T18:57:01.068Z"
   },
   {
    "duration": 76,
    "start_time": "2021-08-29T18:57:02.825Z"
   },
   {
    "duration": 25,
    "start_time": "2021-08-29T18:57:02.904Z"
   },
   {
    "duration": 14,
    "start_time": "2021-08-29T18:57:02.932Z"
   },
   {
    "duration": 42,
    "start_time": "2021-08-29T18:57:02.967Z"
   },
   {
    "duration": 62,
    "start_time": "2021-08-29T18:57:03.012Z"
   },
   {
    "duration": 19,
    "start_time": "2021-08-29T18:57:03.077Z"
   },
   {
    "duration": 92,
    "start_time": "2021-08-29T18:57:03.101Z"
   },
   {
    "duration": 912,
    "start_time": "2021-08-29T18:57:03.197Z"
   },
   {
    "duration": 418,
    "start_time": "2021-08-29T18:57:04.112Z"
   },
   {
    "duration": 36,
    "start_time": "2021-08-29T18:57:04.533Z"
   },
   {
    "duration": 20,
    "start_time": "2021-08-29T18:57:04.572Z"
   },
   {
    "duration": 20,
    "start_time": "2021-08-29T18:57:04.594Z"
   },
   {
    "duration": 1125,
    "start_time": "2021-08-29T18:57:04.616Z"
   },
   {
    "duration": 11,
    "start_time": "2021-08-29T18:57:05.743Z"
   },
   {
    "duration": 1307,
    "start_time": "2021-08-29T18:57:05.770Z"
   },
   {
    "duration": 1118,
    "start_time": "2021-08-29T18:57:07.080Z"
   },
   {
    "duration": 1131,
    "start_time": "2021-08-29T18:57:08.200Z"
   },
   {
    "duration": 1753,
    "start_time": "2021-08-29T18:57:09.334Z"
   },
   {
    "duration": 20,
    "start_time": "2021-08-29T18:57:11.090Z"
   },
   {
    "duration": 5,
    "start_time": "2021-08-29T18:57:11.113Z"
   },
   {
    "duration": 103,
    "start_time": "2021-08-29T18:57:11.123Z"
   },
   {
    "duration": 43,
    "start_time": "2021-08-29T18:57:11.232Z"
   },
   {
    "duration": 16,
    "start_time": "2021-08-29T18:57:11.279Z"
   },
   {
    "duration": 1084,
    "start_time": "2021-08-29T18:57:11.297Z"
   },
   {
    "duration": 3,
    "start_time": "2021-08-29T18:57:12.384Z"
   },
   {
    "duration": 8,
    "start_time": "2021-08-29T18:57:12.390Z"
   },
   {
    "duration": 2093,
    "start_time": "2021-08-29T18:57:12.401Z"
   },
   {
    "duration": 6,
    "start_time": "2021-08-29T18:57:14.491Z"
   },
   {
    "duration": -6,
    "start_time": "2021-08-29T18:57:14.506Z"
   },
   {
    "duration": -25,
    "start_time": "2021-08-29T18:57:14.527Z"
   },
   {
    "duration": -40,
    "start_time": "2021-08-29T18:57:14.543Z"
   },
   {
    "duration": -54,
    "start_time": "2021-08-29T18:57:14.559Z"
   },
   {
    "duration": -68,
    "start_time": "2021-08-29T18:57:14.575Z"
   },
   {
    "duration": -84,
    "start_time": "2021-08-29T18:57:14.592Z"
   },
   {
    "duration": 878,
    "start_time": "2021-08-29T18:57:42.156Z"
   },
   {
    "duration": 15,
    "start_time": "2021-08-29T18:57:52.194Z"
   },
   {
    "duration": 20,
    "start_time": "2021-08-29T18:57:57.468Z"
   },
   {
    "duration": 2341,
    "start_time": "2021-08-29T18:57:59.562Z"
   },
   {
    "duration": 9560,
    "start_time": "2021-08-29T18:58:06.994Z"
   },
   {
    "duration": -31,
    "start_time": "2021-08-29T18:58:16.589Z"
   },
   {
    "duration": 1072,
    "start_time": "2021-08-29T18:58:23.220Z"
   },
   {
    "duration": 1072,
    "start_time": "2021-08-30T16:55:38.547Z"
   },
   {
    "duration": 52,
    "start_time": "2021-08-30T16:55:39.621Z"
   },
   {
    "duration": 15,
    "start_time": "2021-08-30T16:55:39.675Z"
   },
   {
    "duration": 14,
    "start_time": "2021-08-30T16:55:39.691Z"
   },
   {
    "duration": 25,
    "start_time": "2021-08-30T16:55:39.707Z"
   },
   {
    "duration": 20,
    "start_time": "2021-08-30T16:55:39.734Z"
   },
   {
    "duration": 35,
    "start_time": "2021-08-30T16:55:39.755Z"
   },
   {
    "duration": 39,
    "start_time": "2021-08-30T16:55:39.793Z"
   },
   {
    "duration": 509,
    "start_time": "2021-08-30T16:55:39.834Z"
   },
   {
    "duration": 223,
    "start_time": "2021-08-30T16:55:40.345Z"
   },
   {
    "duration": 23,
    "start_time": "2021-08-30T16:55:40.570Z"
   },
   {
    "duration": 15,
    "start_time": "2021-08-30T16:55:40.595Z"
   },
   {
    "duration": 13,
    "start_time": "2021-08-30T16:55:40.612Z"
   },
   {
    "duration": 574,
    "start_time": "2021-08-30T16:55:40.627Z"
   },
   {
    "duration": 8,
    "start_time": "2021-08-30T16:55:41.203Z"
   },
   {
    "duration": 808,
    "start_time": "2021-08-30T16:55:41.213Z"
   },
   {
    "duration": 679,
    "start_time": "2021-08-30T16:55:42.023Z"
   },
   {
    "duration": 696,
    "start_time": "2021-08-30T16:55:42.704Z"
   },
   {
    "duration": 883,
    "start_time": "2021-08-30T16:55:43.402Z"
   },
   {
    "duration": 14,
    "start_time": "2021-08-30T16:55:44.287Z"
   },
   {
    "duration": 4,
    "start_time": "2021-08-30T16:55:44.302Z"
   },
   {
    "duration": 35,
    "start_time": "2021-08-30T16:55:44.307Z"
   },
   {
    "duration": 42,
    "start_time": "2021-08-30T16:55:44.346Z"
   },
   {
    "duration": 7,
    "start_time": "2021-08-30T16:55:44.390Z"
   },
   {
    "duration": 565,
    "start_time": "2021-08-30T16:55:44.398Z"
   },
   {
    "duration": 2,
    "start_time": "2021-08-30T16:55:44.964Z"
   },
   {
    "duration": 6,
    "start_time": "2021-08-30T16:55:44.968Z"
   },
   {
    "duration": 3354,
    "start_time": "2021-08-30T16:55:44.984Z"
   },
   {
    "duration": 1177,
    "start_time": "2021-08-30T16:55:48.339Z"
   },
   {
    "duration": 9,
    "start_time": "2021-08-30T16:55:49.518Z"
   },
   {
    "duration": 23,
    "start_time": "2021-08-30T16:55:49.528Z"
   },
   {
    "duration": 83855,
    "start_time": "2021-08-30T16:55:49.552Z"
   },
   {
    "duration": -38,
    "start_time": "2021-08-30T16:57:13.446Z"
   },
   {
    "duration": -42,
    "start_time": "2021-08-30T16:57:13.451Z"
   },
   {
    "duration": -44,
    "start_time": "2021-08-30T16:57:13.454Z"
   },
   {
    "duration": 1952,
    "start_time": "2021-08-30T16:57:16.720Z"
   },
   {
    "duration": 17,
    "start_time": "2021-08-30T16:57:42.705Z"
   }
  ],
  "kernelspec": {
   "display_name": "Python 3",
   "language": "python",
   "name": "python3"
  },
  "language_info": {
   "codemirror_mode": {
    "name": "ipython",
    "version": 3
   },
   "file_extension": ".py",
   "mimetype": "text/x-python",
   "name": "python",
   "nbconvert_exporter": "python",
   "pygments_lexer": "ipython3",
   "version": "3.8.5"
  },
  "toc": {
   "base_numbering": 1,
   "nav_menu": {},
   "number_sections": true,
   "sideBar": true,
   "skip_h1_title": true,
   "title_cell": "Table of Contents",
   "title_sidebar": "Contents",
   "toc_cell": false,
   "toc_position": {},
   "toc_section_display": true,
   "toc_window_display": false
  }
 },
 "nbformat": 4,
 "nbformat_minor": 2
}
