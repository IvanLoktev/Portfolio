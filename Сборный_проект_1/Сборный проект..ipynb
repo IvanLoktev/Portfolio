{
 "cells": [
  {
   "cell_type": "markdown",
   "metadata": {},
   "source": [
    "# Изучение закономерностей, определяющих успешность игр."
   ]
  },
  {
   "cell_type": "markdown",
   "metadata": {},
   "source": [
    "## План проекта\n",
    "1.[Открыть файл с данными](#cell1)\n",
    "\n",
    "2.[Предобработка данных](#cell2)\n",
    "\n",
    "3.[Исследовательский анализ данных](#cell3)\n",
    "\n",
    "4.[Портрет пользователя каждого региона](#cell4)\n",
    "\n",
    "5.[Проверка гипотез](#cell5)\n",
    "\n",
    "6.[Общий вывод](#cell6)"
   ]
  },
  {
   "cell_type": "markdown",
   "metadata": {},
   "source": [
    "### Открыть файл с данными.\n",
    "<a id='cell1'></a>"
   ]
  },
  {
   "cell_type": "markdown",
   "metadata": {},
   "source": [
    "1. Импортировал библиотеку pandas, matplotlib.pyplot."
   ]
  },
  {
   "cell_type": "code",
   "execution_count": 42,
   "metadata": {},
   "outputs": [],
   "source": [
    "import pandas as pd \n",
    "import matplotlib.pyplot as plt\n",
    "import numpy as np\n",
    "from scipy import stats as st"
   ]
  },
  {
   "cell_type": "markdown",
   "metadata": {},
   "source": [
    "2. Открыл файл /datasets/games.csv и сохранил его в переменной game_df."
   ]
  },
  {
   "cell_type": "code",
   "execution_count": 43,
   "metadata": {},
   "outputs": [],
   "source": [
    "game_df = pd.read_csv('/datasets/games.csv')"
   ]
  },
  {
   "cell_type": "markdown",
   "metadata": {},
   "source": [
    "3.Ознакомился со сводной информацией в таблице, вызвав метод info(), head(), describe()."
   ]
  },
  {
   "cell_type": "code",
   "execution_count": 44,
   "metadata": {},
   "outputs": [
    {
     "name": "stdout",
     "output_type": "stream",
     "text": [
      "<class 'pandas.core.frame.DataFrame'>\n",
      "RangeIndex: 16715 entries, 0 to 16714\n",
      "Data columns (total 11 columns):\n",
      "Name               16713 non-null object\n",
      "Platform           16715 non-null object\n",
      "Year_of_Release    16446 non-null float64\n",
      "Genre              16713 non-null object\n",
      "NA_sales           16715 non-null float64\n",
      "EU_sales           16715 non-null float64\n",
      "JP_sales           16715 non-null float64\n",
      "Other_sales        16715 non-null float64\n",
      "Critic_Score       8137 non-null float64\n",
      "User_Score         10014 non-null object\n",
      "Rating             9949 non-null object\n",
      "dtypes: float64(6), object(5)\n",
      "memory usage: 1.4+ MB\n"
     ]
    }
   ],
   "source": [
    "game_df.info()"
   ]
  },
  {
   "cell_type": "code",
   "execution_count": 45,
   "metadata": {},
   "outputs": [
    {
     "data": {
      "text/html": [
       "<div>\n",
       "<style scoped>\n",
       "    .dataframe tbody tr th:only-of-type {\n",
       "        vertical-align: middle;\n",
       "    }\n",
       "\n",
       "    .dataframe tbody tr th {\n",
       "        vertical-align: top;\n",
       "    }\n",
       "\n",
       "    .dataframe thead th {\n",
       "        text-align: right;\n",
       "    }\n",
       "</style>\n",
       "<table border=\"1\" class=\"dataframe\">\n",
       "  <thead>\n",
       "    <tr style=\"text-align: right;\">\n",
       "      <th></th>\n",
       "      <th>Name</th>\n",
       "      <th>Platform</th>\n",
       "      <th>Year_of_Release</th>\n",
       "      <th>Genre</th>\n",
       "      <th>NA_sales</th>\n",
       "      <th>EU_sales</th>\n",
       "      <th>JP_sales</th>\n",
       "      <th>Other_sales</th>\n",
       "      <th>Critic_Score</th>\n",
       "      <th>User_Score</th>\n",
       "      <th>Rating</th>\n",
       "    </tr>\n",
       "  </thead>\n",
       "  <tbody>\n",
       "    <tr>\n",
       "      <td>0</td>\n",
       "      <td>Wii Sports</td>\n",
       "      <td>Wii</td>\n",
       "      <td>2,006.00</td>\n",
       "      <td>Sports</td>\n",
       "      <td>41.36</td>\n",
       "      <td>28.96</td>\n",
       "      <td>3.77</td>\n",
       "      <td>8.45</td>\n",
       "      <td>76.00</td>\n",
       "      <td>8</td>\n",
       "      <td>E</td>\n",
       "    </tr>\n",
       "    <tr>\n",
       "      <td>1</td>\n",
       "      <td>Super Mario Bros.</td>\n",
       "      <td>NES</td>\n",
       "      <td>1,985.00</td>\n",
       "      <td>Platform</td>\n",
       "      <td>29.08</td>\n",
       "      <td>3.58</td>\n",
       "      <td>6.81</td>\n",
       "      <td>0.77</td>\n",
       "      <td>nan</td>\n",
       "      <td>NaN</td>\n",
       "      <td>NaN</td>\n",
       "    </tr>\n",
       "    <tr>\n",
       "      <td>2</td>\n",
       "      <td>Mario Kart Wii</td>\n",
       "      <td>Wii</td>\n",
       "      <td>2,008.00</td>\n",
       "      <td>Racing</td>\n",
       "      <td>15.68</td>\n",
       "      <td>12.76</td>\n",
       "      <td>3.79</td>\n",
       "      <td>3.29</td>\n",
       "      <td>82.00</td>\n",
       "      <td>8.3</td>\n",
       "      <td>E</td>\n",
       "    </tr>\n",
       "    <tr>\n",
       "      <td>3</td>\n",
       "      <td>Wii Sports Resort</td>\n",
       "      <td>Wii</td>\n",
       "      <td>2,009.00</td>\n",
       "      <td>Sports</td>\n",
       "      <td>15.61</td>\n",
       "      <td>10.93</td>\n",
       "      <td>3.28</td>\n",
       "      <td>2.95</td>\n",
       "      <td>80.00</td>\n",
       "      <td>8</td>\n",
       "      <td>E</td>\n",
       "    </tr>\n",
       "    <tr>\n",
       "      <td>4</td>\n",
       "      <td>Pokemon Red/Pokemon Blue</td>\n",
       "      <td>GB</td>\n",
       "      <td>1,996.00</td>\n",
       "      <td>Role-Playing</td>\n",
       "      <td>11.27</td>\n",
       "      <td>8.89</td>\n",
       "      <td>10.22</td>\n",
       "      <td>1.00</td>\n",
       "      <td>nan</td>\n",
       "      <td>NaN</td>\n",
       "      <td>NaN</td>\n",
       "    </tr>\n",
       "  </tbody>\n",
       "</table>\n",
       "</div>"
      ],
      "text/plain": [
       "                       Name Platform  Year_of_Release         Genre  NA_sales  \\\n",
       "0                Wii Sports      Wii         2,006.00        Sports     41.36   \n",
       "1         Super Mario Bros.      NES         1,985.00      Platform     29.08   \n",
       "2            Mario Kart Wii      Wii         2,008.00        Racing     15.68   \n",
       "3         Wii Sports Resort      Wii         2,009.00        Sports     15.61   \n",
       "4  Pokemon Red/Pokemon Blue       GB         1,996.00  Role-Playing     11.27   \n",
       "\n",
       "   EU_sales  JP_sales  Other_sales  Critic_Score User_Score Rating  \n",
       "0     28.96      3.77         8.45         76.00          8      E  \n",
       "1      3.58      6.81         0.77           nan        NaN    NaN  \n",
       "2     12.76      3.79         3.29         82.00        8.3      E  \n",
       "3     10.93      3.28         2.95         80.00          8      E  \n",
       "4      8.89     10.22         1.00           nan        NaN    NaN  "
      ]
     },
     "execution_count": 45,
     "metadata": {},
     "output_type": "execute_result"
    }
   ],
   "source": [
    "game_df.head()"
   ]
  },
  {
   "cell_type": "code",
   "execution_count": 46,
   "metadata": {},
   "outputs": [
    {
     "data": {
      "text/html": [
       "<div>\n",
       "<style scoped>\n",
       "    .dataframe tbody tr th:only-of-type {\n",
       "        vertical-align: middle;\n",
       "    }\n",
       "\n",
       "    .dataframe tbody tr th {\n",
       "        vertical-align: top;\n",
       "    }\n",
       "\n",
       "    .dataframe thead th {\n",
       "        text-align: right;\n",
       "    }\n",
       "</style>\n",
       "<table border=\"1\" class=\"dataframe\">\n",
       "  <thead>\n",
       "    <tr style=\"text-align: right;\">\n",
       "      <th></th>\n",
       "      <th>count</th>\n",
       "      <th>unique</th>\n",
       "      <th>top</th>\n",
       "      <th>freq</th>\n",
       "      <th>mean</th>\n",
       "      <th>std</th>\n",
       "      <th>min</th>\n",
       "      <th>25%</th>\n",
       "      <th>50%</th>\n",
       "      <th>75%</th>\n",
       "      <th>max</th>\n",
       "    </tr>\n",
       "  </thead>\n",
       "  <tbody>\n",
       "    <tr>\n",
       "      <td>Name</td>\n",
       "      <td>16713</td>\n",
       "      <td>11559</td>\n",
       "      <td>Need for Speed: Most Wanted</td>\n",
       "      <td>12</td>\n",
       "      <td>NaN</td>\n",
       "      <td>NaN</td>\n",
       "      <td>NaN</td>\n",
       "      <td>NaN</td>\n",
       "      <td>NaN</td>\n",
       "      <td>NaN</td>\n",
       "      <td>NaN</td>\n",
       "    </tr>\n",
       "    <tr>\n",
       "      <td>Platform</td>\n",
       "      <td>16715</td>\n",
       "      <td>31</td>\n",
       "      <td>PS2</td>\n",
       "      <td>2161</td>\n",
       "      <td>NaN</td>\n",
       "      <td>NaN</td>\n",
       "      <td>NaN</td>\n",
       "      <td>NaN</td>\n",
       "      <td>NaN</td>\n",
       "      <td>NaN</td>\n",
       "      <td>NaN</td>\n",
       "    </tr>\n",
       "    <tr>\n",
       "      <td>Year_of_Release</td>\n",
       "      <td>16,446.00</td>\n",
       "      <td>NaN</td>\n",
       "      <td>NaN</td>\n",
       "      <td>NaN</td>\n",
       "      <td>2,006.48</td>\n",
       "      <td>5.88</td>\n",
       "      <td>1,980.00</td>\n",
       "      <td>2,003.00</td>\n",
       "      <td>2,007.00</td>\n",
       "      <td>2,010.00</td>\n",
       "      <td>2,016.00</td>\n",
       "    </tr>\n",
       "    <tr>\n",
       "      <td>Genre</td>\n",
       "      <td>16713</td>\n",
       "      <td>12</td>\n",
       "      <td>Action</td>\n",
       "      <td>3369</td>\n",
       "      <td>NaN</td>\n",
       "      <td>NaN</td>\n",
       "      <td>NaN</td>\n",
       "      <td>NaN</td>\n",
       "      <td>NaN</td>\n",
       "      <td>NaN</td>\n",
       "      <td>NaN</td>\n",
       "    </tr>\n",
       "    <tr>\n",
       "      <td>NA_sales</td>\n",
       "      <td>16,715.00</td>\n",
       "      <td>NaN</td>\n",
       "      <td>NaN</td>\n",
       "      <td>NaN</td>\n",
       "      <td>0.26</td>\n",
       "      <td>0.81</td>\n",
       "      <td>0.00</td>\n",
       "      <td>0.00</td>\n",
       "      <td>0.08</td>\n",
       "      <td>0.24</td>\n",
       "      <td>41.36</td>\n",
       "    </tr>\n",
       "    <tr>\n",
       "      <td>EU_sales</td>\n",
       "      <td>16,715.00</td>\n",
       "      <td>NaN</td>\n",
       "      <td>NaN</td>\n",
       "      <td>NaN</td>\n",
       "      <td>0.15</td>\n",
       "      <td>0.50</td>\n",
       "      <td>0.00</td>\n",
       "      <td>0.00</td>\n",
       "      <td>0.02</td>\n",
       "      <td>0.11</td>\n",
       "      <td>28.96</td>\n",
       "    </tr>\n",
       "    <tr>\n",
       "      <td>JP_sales</td>\n",
       "      <td>16,715.00</td>\n",
       "      <td>NaN</td>\n",
       "      <td>NaN</td>\n",
       "      <td>NaN</td>\n",
       "      <td>0.08</td>\n",
       "      <td>0.31</td>\n",
       "      <td>0.00</td>\n",
       "      <td>0.00</td>\n",
       "      <td>0.00</td>\n",
       "      <td>0.04</td>\n",
       "      <td>10.22</td>\n",
       "    </tr>\n",
       "    <tr>\n",
       "      <td>Other_sales</td>\n",
       "      <td>16,715.00</td>\n",
       "      <td>NaN</td>\n",
       "      <td>NaN</td>\n",
       "      <td>NaN</td>\n",
       "      <td>0.05</td>\n",
       "      <td>0.19</td>\n",
       "      <td>0.00</td>\n",
       "      <td>0.00</td>\n",
       "      <td>0.01</td>\n",
       "      <td>0.03</td>\n",
       "      <td>10.57</td>\n",
       "    </tr>\n",
       "    <tr>\n",
       "      <td>Critic_Score</td>\n",
       "      <td>8,137.00</td>\n",
       "      <td>NaN</td>\n",
       "      <td>NaN</td>\n",
       "      <td>NaN</td>\n",
       "      <td>68.97</td>\n",
       "      <td>13.94</td>\n",
       "      <td>13.00</td>\n",
       "      <td>60.00</td>\n",
       "      <td>71.00</td>\n",
       "      <td>79.00</td>\n",
       "      <td>98.00</td>\n",
       "    </tr>\n",
       "    <tr>\n",
       "      <td>User_Score</td>\n",
       "      <td>10014</td>\n",
       "      <td>96</td>\n",
       "      <td>tbd</td>\n",
       "      <td>2424</td>\n",
       "      <td>NaN</td>\n",
       "      <td>NaN</td>\n",
       "      <td>NaN</td>\n",
       "      <td>NaN</td>\n",
       "      <td>NaN</td>\n",
       "      <td>NaN</td>\n",
       "      <td>NaN</td>\n",
       "    </tr>\n",
       "    <tr>\n",
       "      <td>Rating</td>\n",
       "      <td>9949</td>\n",
       "      <td>8</td>\n",
       "      <td>E</td>\n",
       "      <td>3990</td>\n",
       "      <td>NaN</td>\n",
       "      <td>NaN</td>\n",
       "      <td>NaN</td>\n",
       "      <td>NaN</td>\n",
       "      <td>NaN</td>\n",
       "      <td>NaN</td>\n",
       "      <td>NaN</td>\n",
       "    </tr>\n",
       "  </tbody>\n",
       "</table>\n",
       "</div>"
      ],
      "text/plain": [
       "                    count unique                          top  freq     mean  \\\n",
       "Name                16713  11559  Need for Speed: Most Wanted    12      NaN   \n",
       "Platform            16715     31                          PS2  2161      NaN   \n",
       "Year_of_Release 16,446.00    NaN                          NaN   NaN 2,006.48   \n",
       "Genre               16713     12                       Action  3369      NaN   \n",
       "NA_sales        16,715.00    NaN                          NaN   NaN     0.26   \n",
       "EU_sales        16,715.00    NaN                          NaN   NaN     0.15   \n",
       "JP_sales        16,715.00    NaN                          NaN   NaN     0.08   \n",
       "Other_sales     16,715.00    NaN                          NaN   NaN     0.05   \n",
       "Critic_Score     8,137.00    NaN                          NaN   NaN    68.97   \n",
       "User_Score          10014     96                          tbd  2424      NaN   \n",
       "Rating               9949      8                            E  3990      NaN   \n",
       "\n",
       "                  std      min      25%      50%      75%      max  \n",
       "Name              NaN      NaN      NaN      NaN      NaN      NaN  \n",
       "Platform          NaN      NaN      NaN      NaN      NaN      NaN  \n",
       "Year_of_Release  5.88 1,980.00 2,003.00 2,007.00 2,010.00 2,016.00  \n",
       "Genre             NaN      NaN      NaN      NaN      NaN      NaN  \n",
       "NA_sales         0.81     0.00     0.00     0.08     0.24    41.36  \n",
       "EU_sales         0.50     0.00     0.00     0.02     0.11    28.96  \n",
       "JP_sales         0.31     0.00     0.00     0.00     0.04    10.22  \n",
       "Other_sales      0.19     0.00     0.00     0.01     0.03    10.57  \n",
       "Critic_Score    13.94    13.00    60.00    71.00    79.00    98.00  \n",
       "User_Score        NaN      NaN      NaN      NaN      NaN      NaN  \n",
       "Rating            NaN      NaN      NaN      NaN      NaN      NaN  "
      ]
     },
     "execution_count": 46,
     "metadata": {},
     "output_type": "execute_result"
    }
   ],
   "source": [
    "pd.set_option('display.float_format', '{:,.2f}'.format)\n",
    "game_df.describe(include='all').T"
   ]
  },
  {
   "cell_type": "markdown",
   "metadata": {},
   "source": [
    "### Предобработка данных.\n",
    "<a id='cell2'></a>"
   ]
  },
  {
   "cell_type": "markdown",
   "metadata": {},
   "source": [
    "1. Привел название столбцов к нижнему регистру."
   ]
  },
  {
   "cell_type": "code",
   "execution_count": 47,
   "metadata": {},
   "outputs": [],
   "source": [
    "game_df.set_axis(['name','platform','year_of_release','genre','na_sales','eu_sales','jp_sales','other_sales','critic_score', 'user_score', 'rating'],axis = 'columns',inplace = True);"
   ]
  },
  {
   "cell_type": "code",
   "execution_count": 48,
   "metadata": {},
   "outputs": [
    {
     "name": "stdout",
     "output_type": "stream",
     "text": [
      "<class 'pandas.core.frame.DataFrame'>\n",
      "RangeIndex: 16715 entries, 0 to 16714\n",
      "Data columns (total 11 columns):\n",
      "name               16713 non-null object\n",
      "platform           16715 non-null object\n",
      "year_of_release    16446 non-null float64\n",
      "genre              16713 non-null object\n",
      "na_sales           16715 non-null float64\n",
      "eu_sales           16715 non-null float64\n",
      "jp_sales           16715 non-null float64\n",
      "other_sales        16715 non-null float64\n",
      "critic_score       8137 non-null float64\n",
      "user_score         10014 non-null object\n",
      "rating             9949 non-null object\n",
      "dtypes: float64(6), object(5)\n",
      "memory usage: 1.4+ MB\n"
     ]
    }
   ],
   "source": [
    "game_df.info()"
   ]
  },
  {
   "cell_type": "markdown",
   "metadata": {},
   "source": [
    "* Преобразуйте данные в нужные типы. Опишите, в каких столбцах заменили тип данных и почему."
   ]
  },
  {
   "cell_type": "markdown",
   "metadata": {},
   "source": [
    "1. Поменял тип данных в столбце 'year_of_release' на 'int'. Предварительно заменил пропуски на 0. Проверил пустые пустые значения датафрейма методом isnull()."
   ]
  },
  {
   "cell_type": "code",
   "execution_count": 49,
   "metadata": {},
   "outputs": [
    {
     "data": {
      "text/plain": [
       "name                  2\n",
       "platform              0\n",
       "year_of_release     269\n",
       "genre                 2\n",
       "na_sales              0\n",
       "eu_sales              0\n",
       "jp_sales              0\n",
       "other_sales           0\n",
       "critic_score       8578\n",
       "user_score         6701\n",
       "rating             6766\n",
       "dtype: int64"
      ]
     },
     "execution_count": 49,
     "metadata": {},
     "output_type": "execute_result"
    }
   ],
   "source": [
    "game_df.isnull().sum()"
   ]
  },
  {
   "cell_type": "markdown",
   "metadata": {},
   "source": [
    "1. В столбце 'year_of_release' 269 строк с пустыми значения это 1,6% от общего числа строк. Замена строк с пустыми значениями на 0 не сильно повлияет на результаты дальнейших исследований."
   ]
  },
  {
   "cell_type": "code",
   "execution_count": 50,
   "metadata": {},
   "outputs": [],
   "source": [
    "game_df['year_of_release'] = game_df['year_of_release'].fillna(0)\n",
    "game_df['year_of_release'] = game_df['year_of_release'].astype('int')"
   ]
  },
  {
   "cell_type": "markdown",
   "metadata": {},
   "source": [
    "2. Заменил пропуски в столбцах 'critic_score', 'user_score' на средние значения в зависимости от жанра т.к пропусков в столбцах 'critic_score' и 'user_score' более 50 %. tbd - to be determined - 'будет определено', раз рейтинг еще не выставлен заменим значение tbd на 0."
   ]
  },
  {
   "cell_type": "markdown",
   "metadata": {},
   "source": [
    "* Произвел подсчет среднего значения оценки критиков и пользователей в зависимости от жанра применяя groupby() и mean()."
   ]
  },
  {
   "cell_type": "code",
   "execution_count": 51,
   "metadata": {},
   "outputs": [],
   "source": [
    "game_df['user_score'] = game_df['user_score'].replace('tbd', 0)\n",
    "game_df['user_score'] = game_df['user_score'].astype('float64')\n",
    "critic_score_mean = game_df.groupby('genre')['critic_score'].mean()\n",
    "user_score_mean = game_df.groupby('genre')['user_score'].mean()"
   ]
  },
  {
   "cell_type": "markdown",
   "metadata": {},
   "source": [
    "* При помощи merge подсоединил датасет с средними значениями к основному датасету. В итоге в каждой строчке должно появиться среднее значение, которое можно использовать при замене пустых значений."
   ]
  },
  {
   "cell_type": "code",
   "execution_count": 52,
   "metadata": {},
   "outputs": [],
   "source": [
    "game_df1 = game_df.merge(critic_score_mean, on='genre', how='left')\n",
    "game_df2 = game_df1.merge(user_score_mean, on='genre', how='left')"
   ]
  },
  {
   "cell_type": "markdown",
   "metadata": {},
   "source": [
    "* Произвел замену пропущенных значений в столбцах 'critic_score_x', 'user_score_x' на средние значения в зависимости от жанра методом fillna()."
   ]
  },
  {
   "cell_type": "code",
   "execution_count": 53,
   "metadata": {},
   "outputs": [
    {
     "data": {
      "text/html": [
       "<div>\n",
       "<style scoped>\n",
       "    .dataframe tbody tr th:only-of-type {\n",
       "        vertical-align: middle;\n",
       "    }\n",
       "\n",
       "    .dataframe tbody tr th {\n",
       "        vertical-align: top;\n",
       "    }\n",
       "\n",
       "    .dataframe thead th {\n",
       "        text-align: right;\n",
       "    }\n",
       "</style>\n",
       "<table border=\"1\" class=\"dataframe\">\n",
       "  <thead>\n",
       "    <tr style=\"text-align: right;\">\n",
       "      <th></th>\n",
       "      <th>name</th>\n",
       "      <th>platform</th>\n",
       "      <th>year_of_release</th>\n",
       "      <th>genre</th>\n",
       "      <th>na_sales</th>\n",
       "      <th>eu_sales</th>\n",
       "      <th>jp_sales</th>\n",
       "      <th>other_sales</th>\n",
       "      <th>critic_score_x</th>\n",
       "      <th>user_score_x</th>\n",
       "      <th>rating</th>\n",
       "      <th>critic_score_y</th>\n",
       "      <th>user_score_y</th>\n",
       "    </tr>\n",
       "  </thead>\n",
       "  <tbody>\n",
       "    <tr>\n",
       "      <td>0</td>\n",
       "      <td>Wii Sports</td>\n",
       "      <td>Wii</td>\n",
       "      <td>2006</td>\n",
       "      <td>Sports</td>\n",
       "      <td>41.36</td>\n",
       "      <td>28.96</td>\n",
       "      <td>3.77</td>\n",
       "      <td>8.45</td>\n",
       "      <td>76.00</td>\n",
       "      <td>8.00</td>\n",
       "      <td>E</td>\n",
       "      <td>71.97</td>\n",
       "      <td>5.06</td>\n",
       "    </tr>\n",
       "    <tr>\n",
       "      <td>1</td>\n",
       "      <td>Super Mario Bros.</td>\n",
       "      <td>NES</td>\n",
       "      <td>1985</td>\n",
       "      <td>Platform</td>\n",
       "      <td>29.08</td>\n",
       "      <td>3.58</td>\n",
       "      <td>6.81</td>\n",
       "      <td>0.77</td>\n",
       "      <td>68.06</td>\n",
       "      <td>5.51</td>\n",
       "      <td>NaN</td>\n",
       "      <td>68.06</td>\n",
       "      <td>5.51</td>\n",
       "    </tr>\n",
       "    <tr>\n",
       "      <td>2</td>\n",
       "      <td>Mario Kart Wii</td>\n",
       "      <td>Wii</td>\n",
       "      <td>2008</td>\n",
       "      <td>Racing</td>\n",
       "      <td>15.68</td>\n",
       "      <td>12.76</td>\n",
       "      <td>3.79</td>\n",
       "      <td>3.29</td>\n",
       "      <td>82.00</td>\n",
       "      <td>8.30</td>\n",
       "      <td>E</td>\n",
       "      <td>67.96</td>\n",
       "      <td>5.16</td>\n",
       "    </tr>\n",
       "    <tr>\n",
       "      <td>3</td>\n",
       "      <td>Wii Sports Resort</td>\n",
       "      <td>Wii</td>\n",
       "      <td>2009</td>\n",
       "      <td>Sports</td>\n",
       "      <td>15.61</td>\n",
       "      <td>10.93</td>\n",
       "      <td>3.28</td>\n",
       "      <td>2.95</td>\n",
       "      <td>80.00</td>\n",
       "      <td>8.00</td>\n",
       "      <td>E</td>\n",
       "      <td>71.97</td>\n",
       "      <td>5.06</td>\n",
       "    </tr>\n",
       "    <tr>\n",
       "      <td>4</td>\n",
       "      <td>Pokemon Red/Pokemon Blue</td>\n",
       "      <td>GB</td>\n",
       "      <td>1996</td>\n",
       "      <td>Role-Playing</td>\n",
       "      <td>11.27</td>\n",
       "      <td>8.89</td>\n",
       "      <td>10.22</td>\n",
       "      <td>1.00</td>\n",
       "      <td>72.65</td>\n",
       "      <td>7.32</td>\n",
       "      <td>NaN</td>\n",
       "      <td>72.65</td>\n",
       "      <td>7.32</td>\n",
       "    </tr>\n",
       "  </tbody>\n",
       "</table>\n",
       "</div>"
      ],
      "text/plain": [
       "                       name platform  year_of_release         genre  na_sales  \\\n",
       "0                Wii Sports      Wii             2006        Sports     41.36   \n",
       "1         Super Mario Bros.      NES             1985      Platform     29.08   \n",
       "2            Mario Kart Wii      Wii             2008        Racing     15.68   \n",
       "3         Wii Sports Resort      Wii             2009        Sports     15.61   \n",
       "4  Pokemon Red/Pokemon Blue       GB             1996  Role-Playing     11.27   \n",
       "\n",
       "   eu_sales  jp_sales  other_sales  critic_score_x  user_score_x rating  \\\n",
       "0     28.96      3.77         8.45           76.00          8.00      E   \n",
       "1      3.58      6.81         0.77           68.06          5.51    NaN   \n",
       "2     12.76      3.79         3.29           82.00          8.30      E   \n",
       "3     10.93      3.28         2.95           80.00          8.00      E   \n",
       "4      8.89     10.22         1.00           72.65          7.32    NaN   \n",
       "\n",
       "   critic_score_y  user_score_y  \n",
       "0           71.97          5.06  \n",
       "1           68.06          5.51  \n",
       "2           67.96          5.16  \n",
       "3           71.97          5.06  \n",
       "4           72.65          7.32  "
      ]
     },
     "execution_count": 53,
     "metadata": {},
     "output_type": "execute_result"
    }
   ],
   "source": [
    "game_df2['critic_score_x'] = game_df2['critic_score_x'].fillna(game_df2.loc[:,'critic_score_y'])\n",
    "game_df2['user_score_x'] = game_df2['user_score_x'].fillna(game_df2.loc[:,'user_score_y'])\n",
    "game_df2.head()"
   ]
  },
  {
   "cell_type": "markdown",
   "metadata": {},
   "source": [
    "* Удаляю столбцы 'critic_score_y', 'user_score_y', чтобы облегчить датафрейм."
   ]
  },
  {
   "cell_type": "code",
   "execution_count": 54,
   "metadata": {},
   "outputs": [
    {
     "data": {
      "text/html": [
       "<div>\n",
       "<style scoped>\n",
       "    .dataframe tbody tr th:only-of-type {\n",
       "        vertical-align: middle;\n",
       "    }\n",
       "\n",
       "    .dataframe tbody tr th {\n",
       "        vertical-align: top;\n",
       "    }\n",
       "\n",
       "    .dataframe thead th {\n",
       "        text-align: right;\n",
       "    }\n",
       "</style>\n",
       "<table border=\"1\" class=\"dataframe\">\n",
       "  <thead>\n",
       "    <tr style=\"text-align: right;\">\n",
       "      <th></th>\n",
       "      <th>name</th>\n",
       "      <th>platform</th>\n",
       "      <th>year_of_release</th>\n",
       "      <th>genre</th>\n",
       "      <th>na_sales</th>\n",
       "      <th>eu_sales</th>\n",
       "      <th>jp_sales</th>\n",
       "      <th>other_sales</th>\n",
       "      <th>critic_score_x</th>\n",
       "      <th>user_score_x</th>\n",
       "      <th>rating</th>\n",
       "    </tr>\n",
       "  </thead>\n",
       "  <tbody>\n",
       "    <tr>\n",
       "      <td>0</td>\n",
       "      <td>Wii Sports</td>\n",
       "      <td>Wii</td>\n",
       "      <td>2006</td>\n",
       "      <td>Sports</td>\n",
       "      <td>41.36</td>\n",
       "      <td>28.96</td>\n",
       "      <td>3.77</td>\n",
       "      <td>8.45</td>\n",
       "      <td>76.00</td>\n",
       "      <td>8.00</td>\n",
       "      <td>E</td>\n",
       "    </tr>\n",
       "    <tr>\n",
       "      <td>1</td>\n",
       "      <td>Super Mario Bros.</td>\n",
       "      <td>NES</td>\n",
       "      <td>1985</td>\n",
       "      <td>Platform</td>\n",
       "      <td>29.08</td>\n",
       "      <td>3.58</td>\n",
       "      <td>6.81</td>\n",
       "      <td>0.77</td>\n",
       "      <td>68.06</td>\n",
       "      <td>5.51</td>\n",
       "      <td>NaN</td>\n",
       "    </tr>\n",
       "    <tr>\n",
       "      <td>2</td>\n",
       "      <td>Mario Kart Wii</td>\n",
       "      <td>Wii</td>\n",
       "      <td>2008</td>\n",
       "      <td>Racing</td>\n",
       "      <td>15.68</td>\n",
       "      <td>12.76</td>\n",
       "      <td>3.79</td>\n",
       "      <td>3.29</td>\n",
       "      <td>82.00</td>\n",
       "      <td>8.30</td>\n",
       "      <td>E</td>\n",
       "    </tr>\n",
       "    <tr>\n",
       "      <td>3</td>\n",
       "      <td>Wii Sports Resort</td>\n",
       "      <td>Wii</td>\n",
       "      <td>2009</td>\n",
       "      <td>Sports</td>\n",
       "      <td>15.61</td>\n",
       "      <td>10.93</td>\n",
       "      <td>3.28</td>\n",
       "      <td>2.95</td>\n",
       "      <td>80.00</td>\n",
       "      <td>8.00</td>\n",
       "      <td>E</td>\n",
       "    </tr>\n",
       "    <tr>\n",
       "      <td>4</td>\n",
       "      <td>Pokemon Red/Pokemon Blue</td>\n",
       "      <td>GB</td>\n",
       "      <td>1996</td>\n",
       "      <td>Role-Playing</td>\n",
       "      <td>11.27</td>\n",
       "      <td>8.89</td>\n",
       "      <td>10.22</td>\n",
       "      <td>1.00</td>\n",
       "      <td>72.65</td>\n",
       "      <td>7.32</td>\n",
       "      <td>NaN</td>\n",
       "    </tr>\n",
       "  </tbody>\n",
       "</table>\n",
       "</div>"
      ],
      "text/plain": [
       "                       name platform  year_of_release         genre  na_sales  \\\n",
       "0                Wii Sports      Wii             2006        Sports     41.36   \n",
       "1         Super Mario Bros.      NES             1985      Platform     29.08   \n",
       "2            Mario Kart Wii      Wii             2008        Racing     15.68   \n",
       "3         Wii Sports Resort      Wii             2009        Sports     15.61   \n",
       "4  Pokemon Red/Pokemon Blue       GB             1996  Role-Playing     11.27   \n",
       "\n",
       "   eu_sales  jp_sales  other_sales  critic_score_x  user_score_x rating  \n",
       "0     28.96      3.77         8.45           76.00          8.00      E  \n",
       "1      3.58      6.81         0.77           68.06          5.51    NaN  \n",
       "2     12.76      3.79         3.29           82.00          8.30      E  \n",
       "3     10.93      3.28         2.95           80.00          8.00      E  \n",
       "4      8.89     10.22         1.00           72.65          7.32    NaN  "
      ]
     },
     "execution_count": 54,
     "metadata": {},
     "output_type": "execute_result"
    }
   ],
   "source": [
    "game_df2.drop(columns = ['critic_score_y', 'user_score_y'], axis=1, inplace=True )\n",
    "game_df2.head()"
   ]
  },
  {
   "cell_type": "markdown",
   "metadata": {},
   "source": [
    "* Так как столбец 'rating' имеет буквенные обозначения, то пропуски заменю на 'WR', что будет обозначать without rating."
   ]
  },
  {
   "cell_type": "code",
   "execution_count": 55,
   "metadata": {},
   "outputs": [
    {
     "data": {
      "text/html": [
       "<div>\n",
       "<style scoped>\n",
       "    .dataframe tbody tr th:only-of-type {\n",
       "        vertical-align: middle;\n",
       "    }\n",
       "\n",
       "    .dataframe tbody tr th {\n",
       "        vertical-align: top;\n",
       "    }\n",
       "\n",
       "    .dataframe thead th {\n",
       "        text-align: right;\n",
       "    }\n",
       "</style>\n",
       "<table border=\"1\" class=\"dataframe\">\n",
       "  <thead>\n",
       "    <tr style=\"text-align: right;\">\n",
       "      <th></th>\n",
       "      <th>name</th>\n",
       "      <th>platform</th>\n",
       "      <th>year_of_release</th>\n",
       "      <th>genre</th>\n",
       "      <th>na_sales</th>\n",
       "      <th>eu_sales</th>\n",
       "      <th>jp_sales</th>\n",
       "      <th>other_sales</th>\n",
       "      <th>critic_score</th>\n",
       "      <th>user_score</th>\n",
       "      <th>rating</th>\n",
       "    </tr>\n",
       "  </thead>\n",
       "  <tbody>\n",
       "    <tr>\n",
       "      <td>0</td>\n",
       "      <td>Wii Sports</td>\n",
       "      <td>Wii</td>\n",
       "      <td>2006</td>\n",
       "      <td>Sports</td>\n",
       "      <td>41.36</td>\n",
       "      <td>28.96</td>\n",
       "      <td>3.77</td>\n",
       "      <td>8.45</td>\n",
       "      <td>76.00</td>\n",
       "      <td>8.00</td>\n",
       "      <td>E</td>\n",
       "    </tr>\n",
       "    <tr>\n",
       "      <td>1</td>\n",
       "      <td>Super Mario Bros.</td>\n",
       "      <td>NES</td>\n",
       "      <td>1985</td>\n",
       "      <td>Platform</td>\n",
       "      <td>29.08</td>\n",
       "      <td>3.58</td>\n",
       "      <td>6.81</td>\n",
       "      <td>0.77</td>\n",
       "      <td>nan</td>\n",
       "      <td>nan</td>\n",
       "      <td>WR</td>\n",
       "    </tr>\n",
       "    <tr>\n",
       "      <td>2</td>\n",
       "      <td>Mario Kart Wii</td>\n",
       "      <td>Wii</td>\n",
       "      <td>2008</td>\n",
       "      <td>Racing</td>\n",
       "      <td>15.68</td>\n",
       "      <td>12.76</td>\n",
       "      <td>3.79</td>\n",
       "      <td>3.29</td>\n",
       "      <td>82.00</td>\n",
       "      <td>8.30</td>\n",
       "      <td>E</td>\n",
       "    </tr>\n",
       "    <tr>\n",
       "      <td>3</td>\n",
       "      <td>Wii Sports Resort</td>\n",
       "      <td>Wii</td>\n",
       "      <td>2009</td>\n",
       "      <td>Sports</td>\n",
       "      <td>15.61</td>\n",
       "      <td>10.93</td>\n",
       "      <td>3.28</td>\n",
       "      <td>2.95</td>\n",
       "      <td>80.00</td>\n",
       "      <td>8.00</td>\n",
       "      <td>E</td>\n",
       "    </tr>\n",
       "    <tr>\n",
       "      <td>4</td>\n",
       "      <td>Pokemon Red/Pokemon Blue</td>\n",
       "      <td>GB</td>\n",
       "      <td>1996</td>\n",
       "      <td>Role-Playing</td>\n",
       "      <td>11.27</td>\n",
       "      <td>8.89</td>\n",
       "      <td>10.22</td>\n",
       "      <td>1.00</td>\n",
       "      <td>nan</td>\n",
       "      <td>nan</td>\n",
       "      <td>WR</td>\n",
       "    </tr>\n",
       "  </tbody>\n",
       "</table>\n",
       "</div>"
      ],
      "text/plain": [
       "                       name platform  year_of_release         genre  na_sales  \\\n",
       "0                Wii Sports      Wii             2006        Sports     41.36   \n",
       "1         Super Mario Bros.      NES             1985      Platform     29.08   \n",
       "2            Mario Kart Wii      Wii             2008        Racing     15.68   \n",
       "3         Wii Sports Resort      Wii             2009        Sports     15.61   \n",
       "4  Pokemon Red/Pokemon Blue       GB             1996  Role-Playing     11.27   \n",
       "\n",
       "   eu_sales  jp_sales  other_sales  critic_score  user_score rating  \n",
       "0     28.96      3.77         8.45         76.00        8.00      E  \n",
       "1      3.58      6.81         0.77           nan         nan     WR  \n",
       "2     12.76      3.79         3.29         82.00        8.30      E  \n",
       "3     10.93      3.28         2.95         80.00        8.00      E  \n",
       "4      8.89     10.22         1.00           nan         nan     WR  "
      ]
     },
     "execution_count": 55,
     "metadata": {},
     "output_type": "execute_result"
    }
   ],
   "source": [
    "game_df['rating'] = game_df['rating'].fillna('WR')\n",
    "game_df.head()"
   ]
  },
  {
   "cell_type": "markdown",
   "metadata": {},
   "source": [
    "* Посчитал суммарные продажи во всех регионах и записал их в отдельный столбец."
   ]
  },
  {
   "cell_type": "code",
   "execution_count": 56,
   "metadata": {},
   "outputs": [
    {
     "data": {
      "text/html": [
       "<div>\n",
       "<style scoped>\n",
       "    .dataframe tbody tr th:only-of-type {\n",
       "        vertical-align: middle;\n",
       "    }\n",
       "\n",
       "    .dataframe tbody tr th {\n",
       "        vertical-align: top;\n",
       "    }\n",
       "\n",
       "    .dataframe thead th {\n",
       "        text-align: right;\n",
       "    }\n",
       "</style>\n",
       "<table border=\"1\" class=\"dataframe\">\n",
       "  <thead>\n",
       "    <tr style=\"text-align: right;\">\n",
       "      <th></th>\n",
       "      <th>name</th>\n",
       "      <th>platform</th>\n",
       "      <th>year_of_release</th>\n",
       "      <th>genre</th>\n",
       "      <th>na_sales</th>\n",
       "      <th>eu_sales</th>\n",
       "      <th>jp_sales</th>\n",
       "      <th>other_sales</th>\n",
       "      <th>critic_score</th>\n",
       "      <th>user_score</th>\n",
       "      <th>rating</th>\n",
       "      <th>total_sales</th>\n",
       "    </tr>\n",
       "  </thead>\n",
       "  <tbody>\n",
       "    <tr>\n",
       "      <td>0</td>\n",
       "      <td>Wii Sports</td>\n",
       "      <td>Wii</td>\n",
       "      <td>2006</td>\n",
       "      <td>Sports</td>\n",
       "      <td>41.36</td>\n",
       "      <td>28.96</td>\n",
       "      <td>3.77</td>\n",
       "      <td>8.45</td>\n",
       "      <td>76.00</td>\n",
       "      <td>8.00</td>\n",
       "      <td>E</td>\n",
       "      <td>74.09</td>\n",
       "    </tr>\n",
       "    <tr>\n",
       "      <td>1</td>\n",
       "      <td>Super Mario Bros.</td>\n",
       "      <td>NES</td>\n",
       "      <td>1985</td>\n",
       "      <td>Platform</td>\n",
       "      <td>29.08</td>\n",
       "      <td>3.58</td>\n",
       "      <td>6.81</td>\n",
       "      <td>0.77</td>\n",
       "      <td>nan</td>\n",
       "      <td>nan</td>\n",
       "      <td>WR</td>\n",
       "      <td>39.47</td>\n",
       "    </tr>\n",
       "    <tr>\n",
       "      <td>2</td>\n",
       "      <td>Mario Kart Wii</td>\n",
       "      <td>Wii</td>\n",
       "      <td>2008</td>\n",
       "      <td>Racing</td>\n",
       "      <td>15.68</td>\n",
       "      <td>12.76</td>\n",
       "      <td>3.79</td>\n",
       "      <td>3.29</td>\n",
       "      <td>82.00</td>\n",
       "      <td>8.30</td>\n",
       "      <td>E</td>\n",
       "      <td>32.23</td>\n",
       "    </tr>\n",
       "    <tr>\n",
       "      <td>3</td>\n",
       "      <td>Wii Sports Resort</td>\n",
       "      <td>Wii</td>\n",
       "      <td>2009</td>\n",
       "      <td>Sports</td>\n",
       "      <td>15.61</td>\n",
       "      <td>10.93</td>\n",
       "      <td>3.28</td>\n",
       "      <td>2.95</td>\n",
       "      <td>80.00</td>\n",
       "      <td>8.00</td>\n",
       "      <td>E</td>\n",
       "      <td>29.82</td>\n",
       "    </tr>\n",
       "    <tr>\n",
       "      <td>4</td>\n",
       "      <td>Pokemon Red/Pokemon Blue</td>\n",
       "      <td>GB</td>\n",
       "      <td>1996</td>\n",
       "      <td>Role-Playing</td>\n",
       "      <td>11.27</td>\n",
       "      <td>8.89</td>\n",
       "      <td>10.22</td>\n",
       "      <td>1.00</td>\n",
       "      <td>nan</td>\n",
       "      <td>nan</td>\n",
       "      <td>WR</td>\n",
       "      <td>30.38</td>\n",
       "    </tr>\n",
       "  </tbody>\n",
       "</table>\n",
       "</div>"
      ],
      "text/plain": [
       "                       name platform  year_of_release         genre  na_sales  \\\n",
       "0                Wii Sports      Wii             2006        Sports     41.36   \n",
       "1         Super Mario Bros.      NES             1985      Platform     29.08   \n",
       "2            Mario Kart Wii      Wii             2008        Racing     15.68   \n",
       "3         Wii Sports Resort      Wii             2009        Sports     15.61   \n",
       "4  Pokemon Red/Pokemon Blue       GB             1996  Role-Playing     11.27   \n",
       "\n",
       "   eu_sales  jp_sales  other_sales  critic_score  user_score rating  \\\n",
       "0     28.96      3.77         8.45         76.00        8.00      E   \n",
       "1      3.58      6.81         0.77           nan         nan     WR   \n",
       "2     12.76      3.79         3.29         82.00        8.30      E   \n",
       "3     10.93      3.28         2.95         80.00        8.00      E   \n",
       "4      8.89     10.22         1.00           nan         nan     WR   \n",
       "\n",
       "   total_sales  \n",
       "0        74.09  \n",
       "1        39.47  \n",
       "2        32.23  \n",
       "3        29.82  \n",
       "4        30.38  "
      ]
     },
     "execution_count": 56,
     "metadata": {},
     "output_type": "execute_result"
    }
   ],
   "source": [
    "game_df['total_sales'] = game_df['na_sales'] + game_df['eu_sales'] + game_df['jp_sales']\n",
    "game_df.head()"
   ]
  },
  {
   "cell_type": "markdown",
   "metadata": {},
   "source": [
    "### Исследовательский анализ данных.\n",
    "<a id='cell3'></a>"
   ]
  },
  {
   "cell_type": "markdown",
   "metadata": {},
   "source": [
    "* Посмотрите, сколько игр выпускалось в разные годы. Важны ли данные за все периоды?"
   ]
  },
  {
   "cell_type": "markdown",
   "metadata": {},
   "source": [
    "1. Построил гистограмму релизов игр в разные года."
   ]
  },
  {
   "cell_type": "code",
   "execution_count": 57,
   "metadata": {},
   "outputs": [
    {
     "data": {
      "image/png": "[encoded data removed]",
      "text/plain": [
       "<Figure size 432x288 with 1 Axes>"
      ]
     },
     "metadata": {
      "needs_background": "light"
     },
     "output_type": "display_data"
    }
   ],
   "source": [
    "game_df.plot(y='year_of_release',title='year', grid=True, kind='hist', bins=10, range=(1980, 2020))\n",
    "plt.show()"
   ]
  },
  {
   "cell_type": "code",
   "execution_count": 58,
   "metadata": {},
   "outputs": [
    {
     "name": "stdout",
     "output_type": "stream",
     "text": [
      "2008    1427\n",
      "2009    1426\n",
      "2010    1255\n",
      "2007    1197\n",
      "2011    1136\n",
      "2006    1006\n",
      "2005     939\n",
      "2002     829\n",
      "2003     775\n",
      "2004     762\n",
      "2012     653\n",
      "2015     606\n",
      "2014     581\n",
      "2013     544\n",
      "2016     502\n",
      "2001     482\n",
      "1998     379\n",
      "2000     350\n",
      "1999     338\n",
      "1997     289\n",
      "0        269\n",
      "1996     263\n",
      "1995     219\n",
      "1994     121\n",
      "1993      62\n",
      "1981      46\n",
      "1992      43\n",
      "1991      41\n",
      "1982      36\n",
      "1986      21\n",
      "1989      17\n",
      "1983      17\n",
      "1990      16\n",
      "1987      16\n",
      "1988      15\n",
      "1985      14\n",
      "1984      14\n",
      "1980       9\n",
      "Name: year_of_release, dtype: int64\n"
     ]
    }
   ],
   "source": [
    "print(game_df['year_of_release'].value_counts())"
   ]
  },
  {
   "cell_type": "markdown",
   "metadata": {},
   "source": [
    "* Посмотрите, как менялись продажи по платформам. Выберите платформы с наибольшими суммарными продажами и постройте распределение по годам. За какой характерный срок появляются новые и исчезают старые платформы?"
   ]
  },
  {
   "cell_type": "markdown",
   "metadata": {},
   "source": [
    "2. График по подажам разных платформам в Северной Америке."
   ]
  },
  {
   "cell_type": "code",
   "execution_count": 59,
   "metadata": {},
   "outputs": [
    {
     "data": {
      "image/png": "[encoded data removed]",
      "text/plain": [
       "<Figure size 1440x432 with 1 Axes>"
      ]
     },
     "metadata": {},
     "output_type": "display_data"
    }
   ],
   "source": [
    "x = game_df['platform']\n",
    "y = game_df['na_sales']\n",
    "\n",
    "fig, ax_na = plt.subplots()\n",
    "\n",
    "ax_na.bar(x, y)\n",
    "\n",
    "ax_na.set_facecolor('seashell')\n",
    "fig.set_facecolor('floralwhite')\n",
    "fig.set_figwidth(20)    #  ширина Figure\n",
    "fig.set_figheight(6)    #  высота Figure\n",
    "\n",
    "ax_na.set_ylabel('Milions_Of_Copies_Sold')\n",
    "ax_na.set_title('NA_Sales')\n",
    "\n",
    "plt.show()"
   ]
  },
  {
   "cell_type": "markdown",
   "metadata": {},
   "source": [
    "3. Построил график по продажам разных платформ в Европе."
   ]
  },
  {
   "cell_type": "code",
   "execution_count": 60,
   "metadata": {},
   "outputs": [
    {
     "data": {
      "image/png": "[encoded data removed]",
      "text/plain": [
       "<Figure size 1440x432 with 1 Axes>"
      ]
     },
     "metadata": {},
     "output_type": "display_data"
    }
   ],
   "source": [
    "x = game_df['platform']\n",
    "y = game_df['eu_sales']\n",
    "\n",
    "fig, ax_eu = plt.subplots()\n",
    "\n",
    "ax_eu.bar(x, y)\n",
    "\n",
    "ax_eu.set_facecolor('seashell')\n",
    "fig.set_facecolor('floralwhite')\n",
    "fig.set_figwidth(20)    #  ширина Figure\n",
    "fig.set_figheight(6)    #  высота Figure\n",
    "\n",
    "ax_eu.set_ylabel('Milions_Of_Copies_Sold')\n",
    "ax_eu.set_title('EU_Sales')\n",
    "\n",
    "plt.show()"
   ]
  },
  {
   "cell_type": "markdown",
   "metadata": {},
   "source": [
    "4. Построил график по продажам разных платформ в Японии."
   ]
  },
  {
   "cell_type": "code",
   "execution_count": 61,
   "metadata": {},
   "outputs": [
    {
     "data": {
      "image/png": "[encoded data removed]",
      "text/plain": [
       "<Figure size 1440x432 with 1 Axes>"
      ]
     },
     "metadata": {},
     "output_type": "display_data"
    }
   ],
   "source": [
    "x = game_df['platform']\n",
    "y = game_df['jp_sales']\n",
    "\n",
    "fig, ax_jp = plt.subplots()\n",
    "\n",
    "ax_jp.bar(x, y)\n",
    "\n",
    "ax_jp.set_facecolor('seashell')\n",
    "fig.set_facecolor('floralwhite')\n",
    "fig.set_figwidth(20)    #  ширина Figure\n",
    "fig.set_figheight(6)    #  высота Figure\n",
    "\n",
    "ax_jp.set_ylabel('Milions_Of_Copies_Sold')\n",
    "ax_jp.set_title('JP_Sales')\n",
    "\n",
    "plt.show()"
   ]
  },
  {
   "cell_type": "markdown",
   "metadata": {},
   "source": [
    "Вывод: Судя по графикам наибольшие продажи проходят по платформам (Wii, GB, DS, NES)."
   ]
  },
  {
   "cell_type": "markdown",
   "metadata": {},
   "source": [
    "* Выберите платформы с наибольшими суммарными продажами и постройте распределение по годам."
   ]
  },
  {
   "cell_type": "markdown",
   "metadata": {},
   "source": [
    "5. Распределение релиза игр по годам платформы Wii."
   ]
  },
  {
   "cell_type": "code",
   "execution_count": 62,
   "metadata": {},
   "outputs": [
    {
     "data": {
      "image/png": "[encoded data removed]",
      "text/plain": [
       "<Figure size 432x288 with 1 Axes>"
      ]
     },
     "metadata": {
      "needs_background": "light"
     },
     "output_type": "display_data"
    }
   ],
   "source": [
    "game_gb = game_df.loc[game_df.loc[:,'platform'] == 'Wii']['year_of_release']\n",
    "game_gb.plot(y=game_gb,title='Year_Of_Release', grid=True, kind='hist', bins=10, range=(1980, 2020))\n",
    "plt.show()"
   ]
  },
  {
   "cell_type": "markdown",
   "metadata": {},
   "source": [
    "6. Распределение релиза игр по годам платформы GB."
   ]
  },
  {
   "cell_type": "code",
   "execution_count": 63,
   "metadata": {},
   "outputs": [
    {
     "data": {
      "image/png": "[encoded data removed]",
      "text/plain": [
       "<Figure size 432x288 with 1 Axes>"
      ]
     },
     "metadata": {
      "needs_background": "light"
     },
     "output_type": "display_data"
    }
   ],
   "source": [
    "game_n64 = game_df.loc[game_df.loc[:,'platform'] == 'GB']['year_of_release']\n",
    "game_n64.plot(y=game_n64,title='Year_Of_Release', grid=True, kind='hist', bins=10, range=(1980, 2020))\n",
    "plt.show()"
   ]
  },
  {
   "cell_type": "markdown",
   "metadata": {},
   "source": [
    "7.  Распределение релиза игр по годам платформы DS."
   ]
  },
  {
   "cell_type": "code",
   "execution_count": 64,
   "metadata": {},
   "outputs": [
    {
     "data": {
      "image/png": "[encoded data removed]",
      "text/plain": [
       "<Figure size 432x288 with 1 Axes>"
      ]
     },
     "metadata": {
      "needs_background": "light"
     },
     "output_type": "display_data"
    }
   ],
   "source": [
    "game_ps = game_df.loc[game_df.loc[:,'platform'] == 'DS']['year_of_release']\n",
    "game_ps.plot(y=game_ps,title='Year_Of_Release', grid=True, kind='hist', bins=10, range=(1980, 2020))\n",
    "plt.show()"
   ]
  },
  {
   "cell_type": "markdown",
   "metadata": {},
   "source": [
    "8.  Распределение релиза игр по годам платформы NES."
   ]
  },
  {
   "cell_type": "code",
   "execution_count": 65,
   "metadata": {},
   "outputs": [
    {
     "data": {
      "image/png": "[encoded data removed]",
      "text/plain": [
       "<Figure size 432x288 with 1 Axes>"
      ]
     },
     "metadata": {
      "needs_background": "light"
     },
     "output_type": "display_data"
    }
   ],
   "source": [
    "game_nes = game_df.loc[game_df.loc[:,'platform'] == 'NES']['year_of_release']\n",
    "game_nes.plot(y=game_ps,title='Year_Of_Release', grid=True, kind='hist', bins=10, range=(1980, 2020))\n",
    "plt.show()"
   ]
  },
  {
   "cell_type": "markdown",
   "metadata": {},
   "source": [
    "8. Чтобы оценить за какой характерный срок появляются новые и исчезают старые платформы, взял для анализа платформы PS2, PS3, PS4."
   ]
  },
  {
   "cell_type": "markdown",
   "metadata": {},
   "source": [
    "* PS2."
   ]
  },
  {
   "cell_type": "code",
   "execution_count": 66,
   "metadata": {},
   "outputs": [
    {
     "data": {
      "image/png": "[encoded data removed]",
      "text/plain": [
       "<Figure size 432x288 with 1 Axes>"
      ]
     },
     "metadata": {
      "needs_background": "light"
     },
     "output_type": "display_data"
    }
   ],
   "source": [
    "game_ps = game_df.loc[game_df.loc[:,'platform'] == 'PS2']['year_of_release']\n",
    "game_ps.plot(y=game_ps,title='Year_Of_Release', grid=True, kind='hist', bins=10, range=(1980, 2020))\n",
    "plt.show()"
   ]
  },
  {
   "cell_type": "markdown",
   "metadata": {},
   "source": [
    "* PS3."
   ]
  },
  {
   "cell_type": "code",
   "execution_count": 67,
   "metadata": {},
   "outputs": [
    {
     "data": {
      "image/png": "[encoded data removed]",
      "text/plain": [
       "<Figure size 432x288 with 1 Axes>"
      ]
     },
     "metadata": {
      "needs_background": "light"
     },
     "output_type": "display_data"
    }
   ],
   "source": [
    "game_ps = game_df.loc[game_df.loc[:,'platform'] == 'PS3']['year_of_release']\n",
    "game_ps.plot(y=game_ps,title='Year_Of_Release', grid=True, kind='hist', bins=10, range=(1980, 2020))\n",
    "plt.show()"
   ]
  },
  {
   "cell_type": "markdown",
   "metadata": {},
   "source": [
    "* PS4."
   ]
  },
  {
   "cell_type": "code",
   "execution_count": 68,
   "metadata": {},
   "outputs": [
    {
     "data": {
      "image/png": "[encoded data removed]",
      "text/plain": [
       "<Figure size 432x288 with 1 Axes>"
      ]
     },
     "metadata": {
      "needs_background": "light"
     },
     "output_type": "display_data"
    }
   ],
   "source": [
    "game_ps = game_df.loc[game_df.loc[:,'platform'] == 'PS4']['year_of_release']\n",
    "game_ps.plot(y=game_ps,title='Year_Of_Release', grid=True, kind='hist', bins=10, range=(1980, 2020))\n",
    "plt.show()"
   ]
  },
  {
   "cell_type": "markdown",
   "metadata": {},
   "source": [
    "Вывод: характерный срок появления новых платформ 8-10 лет, судя по платформе PS."
   ]
  },
  {
   "cell_type": "markdown",
   "metadata": {},
   "source": [
    "* Возьмите данные за соответствующий актуальный период. Актуальный период определите самостоятельно в результате исследования предыдущих вопросов. Основной фактор — эти данные помогут построить прогноз на 2017 год.\n",
    "* Не учитывайте в работе данные за предыдущие годы.\n",
    "* Какие платформы лидируют по продажам, растут или падают? Выберите несколько потенциально прибыльных платформ."
   ]
  },
  {
   "cell_type": "markdown",
   "metadata": {},
   "source": [
    "9. Данные за актуальный период в регионе NA. Чтобы сделать прогноз на 2017 год, взял данные за прошедшие 12 лет."
   ]
  },
  {
   "cell_type": "markdown",
   "metadata": {},
   "source": [
    "* Период с 2005 по 2008."
   ]
  },
  {
   "cell_type": "code",
   "execution_count": 69,
   "metadata": {},
   "outputs": [
    {
     "data": {
      "image/png": "[encoded data removed]",
      "text/plain": [
       "<Figure size 1440x432 with 1 Axes>"
      ]
     },
     "metadata": {},
     "output_type": "display_data"
    }
   ],
   "source": [
    "current_period = game_df.query('year_of_release in (\"2005\", \"2006\", \"2007\", \"2008\")')\n",
    "#current_period.pivot_table(index='platform', values='na_sales').plot(grid=True,title='NA_Sales_Current_Period', figsize=(20, 12));\n",
    "\n",
    "x = current_period['platform']\n",
    "y = current_period['na_sales']\n",
    "\n",
    "fig, ax_na_cp = plt.subplots()\n",
    "\n",
    "ax_na_cp.bar(x, y)\n",
    "\n",
    "ax_na_cp.set_facecolor('seashell')\n",
    "fig.set_facecolor('floralwhite')\n",
    "fig.set_figwidth(20)    #  ширина Figure\n",
    "fig.set_figheight(6)    #  высота Figure\n",
    "\n",
    "ax_na_cp.set_ylabel('Milions_Of_Copies_Sold')\n",
    "ax_na_cp.set_title('NA_Sales_Current_Period')\n",
    "\n",
    "plt.show()"
   ]
  },
  {
   "cell_type": "markdown",
   "metadata": {},
   "source": [
    "* Период с 2009 по 2012."
   ]
  },
  {
   "cell_type": "code",
   "execution_count": 70,
   "metadata": {},
   "outputs": [
    {
     "data": {
      "image/png": "[encoded data removed]",
      "text/plain": [
       "<Figure size 1440x432 with 1 Axes>"
      ]
     },
     "metadata": {},
     "output_type": "display_data"
    }
   ],
   "source": [
    "current_period = game_df.query('year_of_release in (\"2009\", \"2010\", \"2011\", \"2012\")')\n",
    "#current_period.pivot_table(index='platform', values='na_sales').plot(grid=True,title='NA_Sales_Current_Period', figsize=(20, 12));\n",
    "\n",
    "x = current_period['platform']\n",
    "y = current_period['na_sales']\n",
    "\n",
    "fig, ax_na_cp = plt.subplots()\n",
    "\n",
    "ax_na_cp.bar(x, y)\n",
    "\n",
    "ax_na_cp.set_facecolor('seashell')\n",
    "fig.set_facecolor('floralwhite')\n",
    "fig.set_figwidth(20)    #  ширина Figure\n",
    "fig.set_figheight(6)    #  высота Figure\n",
    "\n",
    "ax_na_cp.set_ylabel('Milions_Of_Copies_Sold')\n",
    "ax_na_cp.set_title('NA_Sales_Current_Period')\n",
    "\n",
    "plt.show()"
   ]
  },
  {
   "cell_type": "markdown",
   "metadata": {},
   "source": [
    "* Период с 2013 по 2016."
   ]
  },
  {
   "cell_type": "code",
   "execution_count": 71,
   "metadata": {},
   "outputs": [
    {
     "data": {
      "image/png": "[encoded data removed]",
      "text/plain": [
       "<Figure size 1440x432 with 1 Axes>"
      ]
     },
     "metadata": {},
     "output_type": "display_data"
    }
   ],
   "source": [
    "current_period = game_df.query('year_of_release in (\"2013\", \"2014\", \"2015\", \"2016\")')\n",
    "#current_period.pivot_table(index='platform', values='na_sales').plot(grid=True,title='NA_Sales_Current_Period', figsize=(20, 12));\n",
    "\n",
    "x = current_period['platform']\n",
    "y = current_period['na_sales']\n",
    "\n",
    "fig, ax_na_cp = plt.subplots()\n",
    "\n",
    "ax_na_cp.bar(x, y)\n",
    "\n",
    "ax_na_cp.set_facecolor('seashell')\n",
    "fig.set_facecolor('floralwhite')\n",
    "fig.set_figwidth(20)    #  ширина Figure\n",
    "fig.set_figheight(6)    #  высота Figure\n",
    "\n",
    "ax_na_cp.set_ylabel('Milions_Of_Copies_Sold')\n",
    "ax_na_cp.set_title('NA_Sales_Current_Period')\n",
    "\n",
    "plt.show()"
   ]
  },
  {
   "cell_type": "markdown",
   "metadata": {},
   "source": [
    "Вывод: Выделю потенциально прибыльные платформы PS4, XOne т.к в период 2013г-2016г предшествующий 2017г эти платформы набирают обороты, потому что недавно вышли на рынок. Им предшествовали платформы PS3 и X360 по графикам виден их рост за выбранные периоды."
   ]
  },
  {
   "cell_type": "markdown",
   "metadata": {},
   "source": [
    "10. График «ящик с усами» по глобальным продажам игр в разбивке по платформам в регионе NA. Выбрал топ 4 платформы по продажам в Северной Америке."
   ]
  },
  {
   "cell_type": "code",
   "execution_count": 72,
   "metadata": {},
   "outputs": [
    {
     "name": "stderr",
     "output_type": "stream",
     "text": [
      "/opt/conda/lib/python3.7/site-packages/numpy/core/_asarray.py:83: VisibleDeprecationWarning: Creating an ndarray from ragged nested sequences (which is a list-or-tuple of lists-or-tuples-or ndarrays with different lengths or shapes) is deprecated. If you meant to do this, you must specify 'dtype=object' when creating the ndarray\n",
      "  return array(a, dtype, copy=False, order=order)\n"
     ]
    },
    {
     "data": {
      "image/png": "[encoded data removed]",
      "text/plain": [
       "<Figure size 864x432 with 1 Axes>"
      ]
     },
     "metadata": {
      "needs_background": "light"
     },
     "output_type": "display_data"
    }
   ],
   "source": [
    "DS = game_df.loc[game_df.loc[:,'platform'] == 'DS']['na_sales']\n",
    "X360 = game_df.loc[game_df.loc[:,'platform'] == 'X360']['na_sales']\n",
    "Wii = game_df.loc[game_df.loc[:,'platform'] == 'Wii']['na_sales']\n",
    "NES = game_df.loc[game_df.loc[:,'platform'] == 'NES']['na_sales']\n",
    "\n",
    "\n",
    "labels = ['DS', 'X360', 'Wii', 'NES']\n",
    "plt.figure(figsize=(12,6));\n",
    "plt.boxplot([DS,X360,Wii,NES], labels=labels, vert=False);\n",
    "plt.show();"
   ]
  },
  {
   "cell_type": "markdown",
   "metadata": {},
   "source": [
    "* Посмотрите, как влияют на продажи внутри одной популярной платформы отзывы пользователей и критиков. Постройте диаграмму рассеяния и посчитайте корреляцию между отзывами и продажами. Сформулируйте выводы.\n",
    "* Соотнесите выводы с продажами игр на других платформах.\n",
    "* Посмотрите на общее распределение игр по жанрам. Что можно сказать о самых прибыльных жанрах? Выделяются ли жанры с высокими и низкими продажами?"
   ]
  },
  {
   "cell_type": "markdown",
   "metadata": {},
   "source": [
    "11. Построил диаграмму рассеяния между продажами и отзывами критиков, пользователей. Исследуется регион NA, EU, JP. Выделил платформу PS3 и для сравнения выделил платформу X360 и XOne."
   ]
  },
  {
   "cell_type": "markdown",
   "metadata": {},
   "source": [
    "* PS3"
   ]
  },
  {
   "cell_type": "code",
   "execution_count": 73,
   "metadata": {},
   "outputs": [
    {
     "data": {
      "image/png": "[encoded data removed]",
      "text/plain": [
       "<Figure size 432x288 with 1 Axes>"
      ]
     },
     "metadata": {
      "needs_background": "light"
     },
     "output_type": "display_data"
    },
    {
     "data": {
      "image/png": "[encoded data removed]",
      "text/plain": [
       "<Figure size 432x288 with 1 Axes>"
      ]
     },
     "metadata": {
      "needs_background": "light"
     },
     "output_type": "display_data"
    }
   ],
   "source": [
    "ps3_corr = game_df2.query('platform in (\"PS3\")')\n",
    "ps3_corr.plot(x='critic_score_x', y='na_sales', grid=True, kind='scatter');\n",
    "ps3_corr.plot(x='user_score_x', y='na_sales', grid=True, kind='scatter');"
   ]
  },
  {
   "cell_type": "code",
   "execution_count": 74,
   "metadata": {},
   "outputs": [
    {
     "data": {
      "image/png": "[encoded data removed]",
      "text/plain": [
       "<Figure size 432x288 with 1 Axes>"
      ]
     },
     "metadata": {
      "needs_background": "light"
     },
     "output_type": "display_data"
    },
    {
     "data": {
      "image/png": "[encoded data removed]",
      "text/plain": [
       "<Figure size 432x288 with 1 Axes>"
      ]
     },
     "metadata": {
      "needs_background": "light"
     },
     "output_type": "display_data"
    }
   ],
   "source": [
    "ps3_corr.plot(x='critic_score_x', y='eu_sales', grid=True, kind='scatter');\n",
    "ps3_corr.plot(x='user_score_x', y='eu_sales', grid=True, kind='scatter');"
   ]
  },
  {
   "cell_type": "code",
   "execution_count": 75,
   "metadata": {},
   "outputs": [
    {
     "data": {
      "image/png": "[encoded data removed]",
      "text/plain": [
       "<Figure size 432x288 with 1 Axes>"
      ]
     },
     "metadata": {
      "needs_background": "light"
     },
     "output_type": "display_data"
    },
    {
     "data": {
      "image/png": "[encoded data removed]",
      "text/plain": [
       "<Figure size 432x288 with 1 Axes>"
      ]
     },
     "metadata": {
      "needs_background": "light"
     },
     "output_type": "display_data"
    }
   ],
   "source": [
    "ps3_corr.plot(x='critic_score_x', y='jp_sales', grid=True, kind='scatter');\n",
    "ps3_corr.plot(x='user_score_x', y='jp_sales', grid=True, kind='scatter');"
   ]
  },
  {
   "cell_type": "markdown",
   "metadata": {},
   "source": [
    "Вывод: Чем выше оценка пользователей, критиков тем выше продажи. В Северной Америке и Японии наблюдаются игры с низкой или средней оценкой пользователей, но имеющие высокие показатели по продажам, в этих случаях оценка пользователей не повлияла на продажи игр платформы PS3."
   ]
  },
  {
   "cell_type": "markdown",
   "metadata": {},
   "source": [
    "* X360"
   ]
  },
  {
   "cell_type": "code",
   "execution_count": 76,
   "metadata": {},
   "outputs": [
    {
     "data": {
      "image/png": "[encoded data removed]",
      "text/plain": [
       "<Figure size 432x288 with 1 Axes>"
      ]
     },
     "metadata": {
      "needs_background": "light"
     },
     "output_type": "display_data"
    },
    {
     "data": {
      "image/png": "[encoded data removed]",
      "text/plain": [
       "<Figure size 432x288 with 1 Axes>"
      ]
     },
     "metadata": {
      "needs_background": "light"
     },
     "output_type": "display_data"
    }
   ],
   "source": [
    "x360_corr = game_df2.query('platform in (\"X360\")')\n",
    "x360_corr.plot(x='critic_score_x', y='na_sales',grid=True, kind='scatter');\n",
    "x360_corr.plot(x='user_score_x', y='na_sales',grid=True, kind='scatter');"
   ]
  },
  {
   "cell_type": "code",
   "execution_count": 77,
   "metadata": {},
   "outputs": [
    {
     "data": {
      "image/png": "[encoded data removed]",
      "text/plain": [
       "<Figure size 432x288 with 1 Axes>"
      ]
     },
     "metadata": {
      "needs_background": "light"
     },
     "output_type": "display_data"
    },
    {
     "data": {
      "image/png": "[encoded data removed]",
      "text/plain": [
       "<Figure size 432x288 with 1 Axes>"
      ]
     },
     "metadata": {
      "needs_background": "light"
     },
     "output_type": "display_data"
    }
   ],
   "source": [
    "x360_corr.plot(x='critic_score_x', y='eu_sales',grid=True, kind='scatter');\n",
    "x360_corr.plot(x='user_score_x', y='eu_sales',grid=True, kind='scatter');"
   ]
  },
  {
   "cell_type": "code",
   "execution_count": 78,
   "metadata": {},
   "outputs": [
    {
     "data": {
      "image/png": "[encoded data removed]",
      "text/plain": [
       "<Figure size 432x288 with 1 Axes>"
      ]
     },
     "metadata": {
      "needs_background": "light"
     },
     "output_type": "display_data"
    },
    {
     "data": {
      "image/png": "[encoded data removed]",
      "text/plain": [
       "<Figure size 432x288 with 1 Axes>"
      ]
     },
     "metadata": {
      "needs_background": "light"
     },
     "output_type": "display_data"
    }
   ],
   "source": [
    "x360_corr.plot(x='critic_score_x', y='jp_sales', grid=True, kind='scatter');\n",
    "x360_corr.plot(x='user_score_x', y='jp_sales', grid=True, kind='scatter');"
   ]
  },
  {
   "cell_type": "markdown",
   "metadata": {},
   "source": [
    "Вывод: Для платформы Х360 игры с высокими оценками критиков и пользователей имеют высокие показатели по продажам, имеются выбивающиеся показатели вне зависимости от оценки пользователей и критиков т.е оценка может быть не высокой, но продажи тем не менее высокие, т.е игры которые у пользователей завоевали популярность не взирая на оценку критиков."
   ]
  },
  {
   "cell_type": "markdown",
   "metadata": {},
   "source": [
    "* XOne"
   ]
  },
  {
   "cell_type": "code",
   "execution_count": 79,
   "metadata": {},
   "outputs": [
    {
     "data": {
      "image/png": "[encoded data removed]",
      "text/plain": [
       "<Figure size 432x288 with 1 Axes>"
      ]
     },
     "metadata": {
      "needs_background": "light"
     },
     "output_type": "display_data"
    },
    {
     "data": {
      "image/png": "[encoded data removed]",
      "text/plain": [
       "<Figure size 432x288 with 1 Axes>"
      ]
     },
     "metadata": {
      "needs_background": "light"
     },
     "output_type": "display_data"
    }
   ],
   "source": [
    "xone_corr = game_df2.query('platform in (\"XOne\")')\n",
    "xone_corr.plot(x='critic_score_x', y='na_sales', grid=True, kind='scatter');\n",
    "xone_corr.plot(x='user_score_x', y='na_sales', grid=True, kind='scatter');"
   ]
  },
  {
   "cell_type": "code",
   "execution_count": 80,
   "metadata": {},
   "outputs": [
    {
     "data": {
      "image/png": "[encoded data removed]",
      "text/plain": [
       "<Figure size 432x288 with 1 Axes>"
      ]
     },
     "metadata": {
      "needs_background": "light"
     },
     "output_type": "display_data"
    },
    {
     "data": {
      "image/png": "[encoded data removed]",
      "text/plain": [
       "<Figure size 432x288 with 1 Axes>"
      ]
     },
     "metadata": {
      "needs_background": "light"
     },
     "output_type": "display_data"
    }
   ],
   "source": [
    "xone_corr.plot(x='critic_score_x', y='eu_sales', grid=True, kind='scatter');\n",
    "xone_corr.plot(x='user_score_x', y='eu_sales', grid=True, kind='scatter');"
   ]
  },
  {
   "cell_type": "code",
   "execution_count": 81,
   "metadata": {},
   "outputs": [
    {
     "data": {
      "image/png": "[encoded data removed]",
      "text/plain": [
       "<Figure size 432x288 with 1 Axes>"
      ]
     },
     "metadata": {
      "needs_background": "light"
     },
     "output_type": "display_data"
    },
    {
     "data": {
      "image/png": "[encoded data removed]",
      "text/plain": [
       "<Figure size 432x288 with 1 Axes>"
      ]
     },
     "metadata": {
      "needs_background": "light"
     },
     "output_type": "display_data"
    }
   ],
   "source": [
    "xone_corr.plot(x='critic_score_x', y='jp_sales', grid=True, kind='scatter');\n",
    "xone_corr.plot(x='user_score_x', y='jp_sales', grid=True, kind='scatter');"
   ]
  },
  {
   "cell_type": "markdown",
   "metadata": {},
   "source": [
    "Вывод: Платформа XOne в Японии явно не самая популярная. Наблюдается похожая картина, как и с предыдущими платформами, рост продаж с ростом оценок критиков, пользователей, но и также выбивающиеся показатели с невысокими оценками, но высокими продажами."
   ]
  },
  {
   "cell_type": "markdown",
   "metadata": {},
   "source": [
    "12. Корреляция между продажами и оценкой пользователей, критиков. Исследуется регион NA, EU, JP."
   ]
  },
  {
   "cell_type": "code",
   "execution_count": 82,
   "metadata": {},
   "outputs": [
    {
     "name": "stdout",
     "output_type": "stream",
     "text": [
      "0.44408918284833376\n",
      "0.22104037429574602\n"
     ]
    }
   ],
   "source": [
    "print(ps3_corr['critic_score_x'].corr(ps3_corr['na_sales']))\n",
    "print(ps3_corr['user_score_x'].corr(ps3_corr['na_sales']))"
   ]
  },
  {
   "cell_type": "code",
   "execution_count": 83,
   "metadata": {},
   "outputs": [
    {
     "name": "stdout",
     "output_type": "stream",
     "text": [
      "0.36562530193070464\n",
      "0.16139907526192973\n"
     ]
    }
   ],
   "source": [
    "print(ps3_corr['critic_score_x'].corr(ps3_corr['eu_sales']))\n",
    "print(ps3_corr['user_score_x'].corr(ps3_corr['eu_sales']))"
   ]
  },
  {
   "cell_type": "code",
   "execution_count": 84,
   "metadata": {},
   "outputs": [
    {
     "name": "stdout",
     "output_type": "stream",
     "text": [
      "0.19936483589686493\n",
      "0.20339244114618585\n"
     ]
    }
   ],
   "source": [
    "print(ps3_corr['critic_score_x'].corr(ps3_corr['jp_sales']))\n",
    "print(ps3_corr['user_score_x'].corr(ps3_corr['jp_sales']))"
   ]
  },
  {
   "cell_type": "markdown",
   "metadata": {},
   "source": [
    "Вывод: Линейная зависимость между продажами и оценкой критиков, пользователей не сильная, особенно в Японии. Для платформ PS3, Х360, XOne по все регионам игры с высокими оценками критиков и пользователей имеют высокие показатели по продажам, имеются выбивающиеся показатели вне зависимости от оценки пользователей и критиков т.е оценка может быть невысокой, но продажи тем не менее высокие, т.е игры которые у пользователей завоевали популярность не взирая на оценку критиков."
   ]
  },
  {
   "cell_type": "markdown",
   "metadata": {},
   "source": [
    "12. Распределение продаж по жанрам в Северной Америке, Японии, Европе."
   ]
  },
  {
   "cell_type": "code",
   "execution_count": 85,
   "metadata": {},
   "outputs": [
    {
     "data": {
      "image/png": "[encoded data removed]",
      "text/plain": [
       "<Figure size 1440x432 with 1 Axes>"
      ]
     },
     "metadata": {},
     "output_type": "display_data"
    }
   ],
   "source": [
    "game_df['genre'] = game_df['genre'].fillna('')\n",
    "\n",
    "x = game_df['genre']\n",
    "y = game_df['na_sales']\n",
    "\n",
    "fig, ax_nag = plt.subplots()\n",
    "\n",
    "ax_nag.bar(x, y)\n",
    "\n",
    "ax_nag.set_facecolor('seashell')\n",
    "fig.set_facecolor('floralwhite')\n",
    "fig.set_figwidth(20)    #  ширина Figure\n",
    "fig.set_figheight(6)    #  высота Figure\n",
    "\n",
    "ax_nag.set_ylabel('Milions_Of_Copies_Sold')\n",
    "ax_nag.set_title('NA_Sales')\n",
    "\n",
    "plt.show()"
   ]
  },
  {
   "cell_type": "code",
   "execution_count": 86,
   "metadata": {},
   "outputs": [
    {
     "data": {
      "image/png": "[encoded data removed]",
      "text/plain": [
       "<Figure size 1440x432 with 1 Axes>"
      ]
     },
     "metadata": {},
     "output_type": "display_data"
    }
   ],
   "source": [
    "x = game_df['genre']\n",
    "y = game_df['jp_sales']\n",
    "\n",
    "fig, ax_jpg = plt.subplots()\n",
    "\n",
    "ax_jpg.bar(x, y)\n",
    "\n",
    "ax_jpg.set_facecolor('seashell')\n",
    "fig.set_facecolor('floralwhite')\n",
    "fig.set_figwidth(20)    #  ширина Figure\n",
    "fig.set_figheight(6)    #  высота Figure\n",
    "\n",
    "ax_jpg.set_ylabel('Milions_Of_Copies_Sold')\n",
    "ax_jpg.set_title('JP_Sales')\n",
    "\n",
    "plt.show()"
   ]
  },
  {
   "cell_type": "code",
   "execution_count": null,
   "metadata": {},
   "outputs": [],
   "source": [
    "x = game_df['genre']\n",
    "y = game_df['eu_sales']\n",
    "\n",
    "fig, ax_eug = plt.subplots()\n",
    "\n",
    "ax_eug.bar(x, y)\n",
    "\n",
    "ax_eug.set_facecolor('seashell')\n",
    "fig.set_facecolor('floralwhite')\n",
    "fig.set_figwidth(20)    #  ширина Figure\n",
    "fig.set_figheight(6)    #  высота Figure\n",
    "\n",
    "ax_eug.set_ylabel('Milions_Of_Copies_Sold')\n",
    "ax_eug.set_title('EU_Sales')\n",
    "\n",
    "plt.show()"
   ]
  },
  {
   "cell_type": "markdown",
   "metadata": {},
   "source": [
    "Вывод: В Северной Америке и Европе лидирующие позиции занимает жанр Sports в аутсайдере Strategy, в Японии лидирует жанр Role_PLaying, аутсайдер Shooter. Вообще продажи по жанрам в разных регионах разнятся, особенно выделяется Япония, что видно по графикам."
   ]
  },
  {
   "cell_type": "markdown",
   "metadata": {},
   "source": [
    "### Портрет пользователя каждого региона.\n",
    "<a id='cell4'></a>\n",
    "\n",
    "Определите для пользователя каждого региона (NA, EU, JP):\n",
    "Самые популярные платформы (топ-5). Опишите различия в долях продаж.\n",
    "Самые популярные жанры (топ-5). Поясните разницу.\n",
    "Влияет ли рейтинг ESRB на продажи в отдельном регионе?"
   ]
  },
  {
   "cell_type": "markdown",
   "metadata": {},
   "source": [
    "1. Топ 5 платформ в JP,NA,EU доля продаж и топ 5 самых популярных жанров."
   ]
  },
  {
   "cell_type": "markdown",
   "metadata": {},
   "source": [
    "Доля продаж топ 5 платформ в JP. Топ популярных жанров."
   ]
  },
  {
   "cell_type": "code",
   "execution_count": null,
   "metadata": {},
   "outputs": [],
   "source": [
    "platform_jp = game_df.groupby('platform')['jp_sales'].value_counts().sort_values(ascending=False)\n",
    "print(platform_jp)"
   ]
  },
  {
   "cell_type": "code",
   "execution_count": null,
   "metadata": {},
   "outputs": [],
   "source": [
    "genre_jp = game_df.groupby('genre')['jp_sales'].value_counts().sort_values(ascending=False)\n",
    "print(genre_jp)"
   ]
  },
  {
   "cell_type": "code",
   "execution_count": null,
   "metadata": {},
   "outputs": [],
   "source": [
    "jp_sales_total = game_df['jp_sales'].sum()\n",
    "\n",
    "jp_sales_ds = game_df.loc[game_df.loc[:,'platform'] == 'DS']['jp_sales'].sum()\n",
    "jp_sales_ps2 = game_df.loc[game_df.loc[:,'platform'] == 'PS2']['jp_sales'].sum()\n",
    "jp_sales_wii = game_df.loc[game_df.loc[:,'platform'] == 'Wii']['jp_sales'].sum()\n",
    "jp_sales_pc = game_df.loc[game_df.loc[:,'platform'] == 'PC']['jp_sales'].sum()\n",
    "jp_sales_x360 = game_df.loc[game_df.loc[:,'platform'] == 'X360']['jp_sales'].sum()\n",
    "\n",
    "ratio_ds = jp_sales_ds / jp_sales_total\n",
    "ratio_ps2 = jp_sales_ps2 / jp_sales_total\n",
    "ratio_wii = jp_sales_wii / jp_sales_total\n",
    "ratio_pc = jp_sales_pc / jp_sales_total\n",
    "ratio_x360 = jp_sales_x360 / jp_sales_total"
   ]
  },
  {
   "cell_type": "code",
   "execution_count": null,
   "metadata": {},
   "outputs": [],
   "source": [
    "print('Доля платформы DS   | Доля платформы PS2 | Доля платформы Wii   | Доля платформы PC     | Доля платформы X360')\n",
    "print('-------------------------------------------------------------------------------------------------------------')\n",
    "\n",
    "\n",
    "\n",
    "print('{: <19.2%} | {: >18.2%} | {: >20.2%} | {: >22.2%}| {: >10.2%}'.format(ratio_ds, ratio_ps2, ratio_wii, ratio_pc, ratio_x360))\n"
   ]
  },
  {
   "cell_type": "markdown",
   "metadata": {},
   "source": [
    "Самые популярные платформы в JP по количеству продаж DS, PS2, Wii, PC, X360. Самые популярные жанры Action, Sports, Misc, Racing, Shooter ."
   ]
  },
  {
   "cell_type": "markdown",
   "metadata": {},
   "source": [
    "Доля продаж топ 5 платформ в NA. Топ популярных жанров."
   ]
  },
  {
   "cell_type": "code",
   "execution_count": null,
   "metadata": {},
   "outputs": [],
   "source": [
    "platform_na = game_df.groupby('platform')['na_sales'].value_counts().sort_values(ascending=False)\n",
    "print(platform_na)"
   ]
  },
  {
   "cell_type": "code",
   "execution_count": null,
   "metadata": {},
   "outputs": [],
   "source": [
    "genre_na = game_df.groupby('genre')['na_sales'].value_counts().sort_values(ascending=False)\n",
    "print(genre_na)"
   ]
  },
  {
   "cell_type": "code",
   "execution_count": null,
   "metadata": {},
   "outputs": [],
   "source": [
    "na_sales_total = game_df['na_sales'].sum()\n",
    "\n",
    "na_sales_ds = game_df.loc[game_df.loc[:,'platform'] == 'DS']['na_sales'].sum()\n",
    "na_sales_psp = game_df.loc[game_df.loc[:,'platform'] == 'PSP']['na_sales'].sum()\n",
    "na_sales_pc = game_df.loc[game_df.loc[:,'platform'] == 'PC']['na_sales'].sum()\n",
    "na_sales_ps2 = game_df.loc[game_df.loc[:,'platform'] == 'PS2']['na_sales'].sum()\n",
    "na_sales_ps3 = game_df.loc[game_df.loc[:,'platform'] == 'PS3']['na_sales'].sum()\n",
    "\n",
    "ratio_ds_na = na_sales_ds / na_sales_total\n",
    "ratio_psp = na_sales_psp / na_sales_total\n",
    "ratio_pc = na_sales_pc / na_sales_total\n",
    "ratio_ps2 = na_sales_ps2 / na_sales_total\n",
    "ratio_ps3 = na_sales_ps3 / na_sales_total"
   ]
  },
  {
   "cell_type": "code",
   "execution_count": null,
   "metadata": {},
   "outputs": [],
   "source": [
    "print('Доля платформы DS   | Доля платформы PSP | Доля платформы PC   | Доля платформы PS2     | Доля платформы PS3')\n",
    "print('-------------------------------------------------------------------------------------------------------------')\n",
    "\n",
    "\n",
    "\n",
    "print('{: <19.2%} | {: >18.2%} | {: >19.2%} | {: >23.2%}| {: >10.2%}'.format(ratio_ds_na, ratio_psp, ratio_pc, ratio_ps2, ratio_ps3))\n"
   ]
  },
  {
   "cell_type": "markdown",
   "metadata": {},
   "source": [
    "Самые популярные платформы в NA по количеству продаж DS, PSP, PC, PS2, PS3. Самые популярные жанры Action, Adventure, Role-Playing, Misc, Sports.       "
   ]
  },
  {
   "cell_type": "markdown",
   "metadata": {},
   "source": [
    "Доля продаж топ 5 платформ в EU. Топ популярных жанров."
   ]
  },
  {
   "cell_type": "code",
   "execution_count": null,
   "metadata": {},
   "outputs": [],
   "source": [
    "platform_eu = game_df.groupby('platform')['eu_sales'].value_counts().sort_values(ascending=False)\n",
    "print(platform_eu)"
   ]
  },
  {
   "cell_type": "code",
   "execution_count": null,
   "metadata": {},
   "outputs": [],
   "source": [
    "genre_eu = game_df.groupby('genre')['eu_sales'].value_counts().sort_values(ascending=False)\n",
    "print(genre_eu)"
   ]
  },
  {
   "cell_type": "code",
   "execution_count": null,
   "metadata": {},
   "outputs": [],
   "source": [
    "eu_sales_total = game_df['eu_sales'].sum()\n",
    "\n",
    "eu_sales_ds = game_df.loc[game_df.loc[:,'platform'] == 'DS']['eu_sales'].sum()\n",
    "eu_sales_psp = game_df.loc[game_df.loc[:,'platform'] == 'PSP']['eu_sales'].sum()\n",
    "eu_sales_pc = game_df.loc[game_df.loc[:,'platform'] == 'PC']['eu_sales'].sum()\n",
    "eu_sales_ps2 = game_df.loc[game_df.loc[:,'platform'] == 'PS2']['eu_sales'].sum()\n",
    "eu_sales_ps3 = game_df.loc[game_df.loc[:,'platform'] == 'PS3']['eu_sales'].sum()\n",
    "\n",
    "ratio_ds_eu = eu_sales_ds / eu_sales_total\n",
    "ratio_psp_eu = eu_sales_psp / eu_sales_total\n",
    "ratio_pc_eu = eu_sales_pc / eu_sales_total\n",
    "ratio_ps2_eu = eu_sales_ps2 / eu_sales_total\n",
    "ratio_ps3_eu = eu_sales_ps3 / eu_sales_total"
   ]
  },
  {
   "cell_type": "code",
   "execution_count": null,
   "metadata": {},
   "outputs": [],
   "source": [
    "print('Доля платформы DS   | Доля платформы PSP | Доля платформы PC   | Доля платформы PS2     | Доля платформы PS3')\n",
    "print('-------------------------------------------------------------------------------------------------------------')\n",
    "\n",
    "\n",
    "\n",
    "print('{: <19.2%} | {: >18.2%} | {: >19.2%} | {: >23.2%}| {: >10.2%}'.format(ratio_ds_eu, ratio_psp_eu, ratio_pc_eu, ratio_ps2_eu, ratio_ps3_eu))\n"
   ]
  },
  {
   "cell_type": "markdown",
   "metadata": {},
   "source": [
    "Самые популярные платформы в EU по количеству продаж DS, PSP, PC, PS2, PS3. Самые популярные жанры Action, Adventure, Misc, Sports, Role-Playing."
   ]
  },
  {
   "cell_type": "markdown",
   "metadata": {},
   "source": [
    "* Влияние рейтинга ESRB на продажи в регионе NA."
   ]
  },
  {
   "cell_type": "code",
   "execution_count": null,
   "metadata": {},
   "outputs": [],
   "source": [
    "game_df.pivot_table(index='rating', values='na_sales').plot(grid=True,title='NA_Sales_ESRB', figsize=(20, 10));\n",
    "plt.show()"
   ]
  },
  {
   "cell_type": "markdown",
   "metadata": {},
   "source": [
    "Вывод: Самые популярные платформы в EU по количеству продаж DS, PSP, Wii, PS2, PS3. Самые популярные жанры Action, Adventure, Misc, Sport, Role-Playing."
   ]
  },
  {
   "cell_type": "markdown",
   "metadata": {},
   "source": [
    "### Проверка гипотез.\n",
    "<a id='cell5'></a>"
   ]
  },
  {
   "cell_type": "markdown",
   "metadata": {},
   "source": [
    "1. Средние пользовательские рейтинги платформ Xbox One и PC одинаковые. Чтобы проверить гипотезу о равенстве среднего двух генеральных совокупностей по взятым из них выборкам, применл метод scipy.stats.ttest_ind (array1, array2, equal_var)"
   ]
  },
  {
   "cell_type": "code",
   "execution_count": null,
   "metadata": {},
   "outputs": [],
   "source": [
    "#H0 - Средние пользовательские рейтинги платформ Xbox One и PC не различаются.\n",
    "#H1 - Средние пользовательские рейтинги платформ Xbox One и PC различаются.\n",
    "\n",
    "df_xbox_one = game_df2.loc[game_df.loc[:,'platform'] == 'XOne']['user_score_x']\n",
    "df_pc = game_df2.loc[game_df.loc[:,'platform'] == 'PC']['user_score_x']\n",
    "\n",
    "\n",
    "alpha = 0.05 # критический уровень статистической значимости\n",
    " \n",
    "results = st.ttest_ind(df_xbox_one, df_pc, equal_var = False)\n",
    " \n",
    "print('p-значение:', results.pvalue)\n",
    "\n",
    "if results.pvalue < alpha:\n",
    "    print(\" Отвергаем нулевую гипотезу, cредние пользовательские рейтинги платформ Xbox One и PC различаются.\")\n",
    "else:\n",
    "    print(\"Не получилось отвергнуть нулевую гипотезу, средние пользовательские рейтинги платформ Xbox One и PC не различается .\")"
   ]
  },
  {
   "cell_type": "markdown",
   "metadata": {},
   "source": [
    "2. Средние пользовательские рейтинги жанров Action (англ. «действие», экшен-игры) и Sports (англ. «спортивные соревнования») разные.  Чтобы проверить гипотезу о равенстве среднего двух генеральных совокупностей по взятым из них выборкам, применл метод scipy.stats.ttest_ind (array1, array2, equal_var)"
   ]
  },
  {
   "cell_type": "code",
   "execution_count": null,
   "metadata": {},
   "outputs": [],
   "source": [
    "#H0 - Средние пользовательские рейтинги жанров Action и Sports не различаются.\n",
    "#H1 - Средние пользовательские рейтинги жанров Action и Sports различаются.\n",
    "\n",
    "df_action = game_df2.loc[game_df.loc[:,'genre'] == 'Action']['user_score_x']\n",
    "df_sports = game_df2.loc[game_df.loc[:,'genre'] == 'Sports']['user_score_x']\n",
    "\n",
    "\n",
    "alpha = 0.05 # критический уровень статистической значимости\n",
    " \n",
    "results = st.ttest_ind(df_action, df_sports, equal_var = False)\n",
    " \n",
    "print('p-значение:', results.pvalue)\n",
    "\n",
    "if results.pvalue < alpha:\n",
    "    print(\" Отвергаем нулевую гипотезу, cредние пользовательские рейтинги жанров Action и Sports различаются.\")\n",
    "else:\n",
    "    print(\"Не получилось отвергнуть нулевую гипотезу, cредние пользовательские рейтинги жанров Action и Sports не различается .\")"
   ]
  },
  {
   "cell_type": "markdown",
   "metadata": {},
   "source": [
    "### Общий вывод.\n",
    "<a id='cell6'></a>"
   ]
  },
  {
   "cell_type": "markdown",
   "metadata": {},
   "source": [
    "Самая большая суммарная продажа ,по всем платформам и жанрам игр, в Северной Америке. Чем выше оценка критиков и пользователей, тем выше продажи, такая тенденция наблюдается во всех регионах. Топовые платформы по регионам различаются, например в Северной Америике это DS, PSP, PC, PS2, PS3, а в Японии - DS, PS2, Wii, PC, X360. Тоже касается популярных жанров, в Северной Америке это - Action, Adventure, Role-Playing, Misc, Sports, а в Японии - Action, Sports, Misc, Racing, Shooter. Но по топовые платформы и игровые жанры схожи по регионам Северной Америки и Европы. За период 8-10 лет появляется новая платформа."
   ]
  }
 ],
 "metadata": {
  "ExecuteTimeLog": [
   {
    "duration": 700,
    "start_time": "2021-06-15T17:54:28.724Z"
   },
   {
    "duration": 52,
    "start_time": "2021-06-15T17:56:22.166Z"
   },
   {
    "duration": 14,
    "start_time": "2021-06-15T17:56:54.852Z"
   },
   {
    "duration": 29,
    "start_time": "2021-06-15T17:58:15.509Z"
   },
   {
    "duration": 72,
    "start_time": "2021-06-15T17:58:57.643Z"
   },
   {
    "duration": 13,
    "start_time": "2021-06-15T18:04:59.220Z"
   },
   {
    "duration": 4,
    "start_time": "2021-06-15T18:11:18.500Z"
   },
   {
    "duration": 16,
    "start_time": "2021-06-15T18:11:34.866Z"
   },
   {
    "duration": 4,
    "start_time": "2021-06-15T18:11:55.739Z"
   },
   {
    "duration": 15,
    "start_time": "2021-06-15T18:11:58.034Z"
   },
   {
    "duration": 339,
    "start_time": "2021-06-15T18:16:21.053Z"
   },
   {
    "duration": 1105,
    "start_time": "2021-06-15T18:18:24.854Z"
   },
   {
    "duration": 1121,
    "start_time": "2021-06-15T18:18:36.323Z"
   },
   {
    "duration": 1036,
    "start_time": "2021-06-15T18:18:49.536Z"
   },
   {
    "duration": 4,
    "start_time": "2021-06-15T18:18:57.728Z"
   },
   {
    "duration": 49,
    "start_time": "2021-06-15T18:18:57.738Z"
   },
   {
    "duration": 16,
    "start_time": "2021-06-15T18:18:57.790Z"
   },
   {
    "duration": 20,
    "start_time": "2021-06-15T18:18:57.810Z"
   },
   {
    "duration": 106,
    "start_time": "2021-06-15T18:18:57.833Z"
   },
   {
    "duration": 5,
    "start_time": "2021-06-15T18:18:57.941Z"
   },
   {
    "duration": 18,
    "start_time": "2021-06-15T18:18:57.949Z"
   },
   {
    "duration": 19,
    "start_time": "2021-06-15T18:18:57.969Z"
   },
   {
    "duration": 18,
    "start_time": "2021-06-15T18:19:29.173Z"
   },
   {
    "duration": 18,
    "start_time": "2021-06-15T18:21:36.564Z"
   },
   {
    "duration": 7,
    "start_time": "2021-06-15T18:25:23.125Z"
   },
   {
    "duration": 23,
    "start_time": "2021-06-15T18:25:41.693Z"
   },
   {
    "duration": 30,
    "start_time": "2021-06-15T18:34:43.820Z"
   },
   {
    "duration": 16,
    "start_time": "2021-06-15T18:38:32.880Z"
   },
   {
    "duration": 8,
    "start_time": "2021-06-15T18:39:58.592Z"
   },
   {
    "duration": 3,
    "start_time": "2021-06-15T18:41:26.595Z"
   },
   {
    "duration": 684,
    "start_time": "2021-06-15T18:42:13.037Z"
   },
   {
    "duration": 4,
    "start_time": "2021-06-15T18:42:47.188Z"
   },
   {
    "duration": 288,
    "start_time": "2021-06-15T18:43:16.885Z"
   },
   {
    "duration": 292,
    "start_time": "2021-06-15T18:43:28.921Z"
   },
   {
    "duration": 356,
    "start_time": "2021-06-15T18:43:44.165Z"
   },
   {
    "duration": 320,
    "start_time": "2021-06-15T18:44:14.856Z"
   },
   {
    "duration": 301,
    "start_time": "2021-06-15T18:44:23.144Z"
   },
   {
    "duration": 283,
    "start_time": "2021-06-15T18:44:29.834Z"
   },
   {
    "duration": 314,
    "start_time": "2021-06-15T18:44:38.451Z"
   },
   {
    "duration": 9,
    "start_time": "2021-06-15T18:45:06.356Z"
   },
   {
    "duration": 302,
    "start_time": "2021-06-15T18:52:04.533Z"
   },
   {
    "duration": 263,
    "start_time": "2021-06-15T18:52:22.307Z"
   },
   {
    "duration": 264,
    "start_time": "2021-06-15T18:53:03.906Z"
   },
   {
    "duration": 4,
    "start_time": "2021-06-15T18:53:17.560Z"
   },
   {
    "duration": 47,
    "start_time": "2021-06-15T18:53:17.571Z"
   },
   {
    "duration": 14,
    "start_time": "2021-06-15T18:53:17.621Z"
   },
   {
    "duration": 49,
    "start_time": "2021-06-15T18:53:17.638Z"
   },
   {
    "duration": 92,
    "start_time": "2021-06-15T18:53:17.691Z"
   },
   {
    "duration": 5,
    "start_time": "2021-06-15T18:53:17.786Z"
   },
   {
    "duration": 25,
    "start_time": "2021-06-15T18:53:17.794Z"
   },
   {
    "duration": 8,
    "start_time": "2021-06-15T18:53:17.822Z"
   },
   {
    "duration": 52,
    "start_time": "2021-06-15T18:53:17.834Z"
   },
   {
    "duration": 28,
    "start_time": "2021-06-15T18:53:17.889Z"
   },
   {
    "duration": 328,
    "start_time": "2021-06-15T18:53:17.919Z"
   },
   {
    "duration": 7,
    "start_time": "2021-06-15T18:53:18.250Z"
   },
   {
    "duration": 290,
    "start_time": "2021-06-15T18:53:18.259Z"
   },
   {
    "duration": 262,
    "start_time": "2021-06-15T18:53:48.282Z"
   },
   {
    "duration": 302,
    "start_time": "2021-06-15T18:54:17.817Z"
   },
   {
    "duration": 12,
    "start_time": "2021-06-15T18:55:18.289Z"
   },
   {
    "duration": 269,
    "start_time": "2021-06-15T18:56:25.960Z"
   },
   {
    "duration": 7027,
    "start_time": "2021-06-15T19:02:29.037Z"
   },
   {
    "duration": 6500,
    "start_time": "2021-06-15T19:02:45.981Z"
   },
   {
    "duration": 6523,
    "start_time": "2021-06-15T19:02:54.183Z"
   },
   {
    "duration": 3,
    "start_time": "2021-06-15T19:03:15.196Z"
   },
   {
    "duration": 47,
    "start_time": "2021-06-15T19:03:15.208Z"
   },
   {
    "duration": 14,
    "start_time": "2021-06-15T19:03:15.258Z"
   },
   {
    "duration": 19,
    "start_time": "2021-06-15T19:03:15.283Z"
   },
   {
    "duration": 106,
    "start_time": "2021-06-15T19:03:15.305Z"
   },
   {
    "duration": 4,
    "start_time": "2021-06-15T19:03:15.414Z"
   },
   {
    "duration": 17,
    "start_time": "2021-06-15T19:03:15.420Z"
   },
   {
    "duration": 6,
    "start_time": "2021-06-15T19:03:15.439Z"
   },
   {
    "duration": 22,
    "start_time": "2021-06-15T19:03:15.484Z"
   },
   {
    "duration": 28,
    "start_time": "2021-06-15T19:03:15.508Z"
   },
   {
    "duration": 385,
    "start_time": "2021-06-15T19:03:15.538Z"
   },
   {
    "duration": 7,
    "start_time": "2021-06-15T19:03:15.926Z"
   },
   {
    "duration": 6387,
    "start_time": "2021-06-15T19:03:15.935Z"
   },
   {
    "duration": 1055,
    "start_time": "2021-06-15T19:03:50.784Z"
   },
   {
    "duration": 1034,
    "start_time": "2021-06-15T19:04:08.396Z"
   },
   {
    "duration": 3,
    "start_time": "2021-06-15T19:04:55.965Z"
   },
   {
    "duration": 48,
    "start_time": "2021-06-15T19:04:55.975Z"
   },
   {
    "duration": 16,
    "start_time": "2021-06-15T19:04:56.025Z"
   },
   {
    "duration": 40,
    "start_time": "2021-06-15T19:04:56.045Z"
   },
   {
    "duration": 72,
    "start_time": "2021-06-15T19:04:56.088Z"
   },
   {
    "duration": 4,
    "start_time": "2021-06-15T19:04:56.183Z"
   },
   {
    "duration": 19,
    "start_time": "2021-06-15T19:04:56.189Z"
   },
   {
    "duration": 6,
    "start_time": "2021-06-15T19:04:56.210Z"
   },
   {
    "duration": 22,
    "start_time": "2021-06-15T19:04:56.219Z"
   },
   {
    "duration": 57,
    "start_time": "2021-06-15T19:04:56.244Z"
   },
   {
    "duration": 436,
    "start_time": "2021-06-15T19:04:56.303Z"
   },
   {
    "duration": 7,
    "start_time": "2021-06-15T19:04:56.742Z"
   },
   {
    "duration": 325,
    "start_time": "2021-06-15T19:04:56.751Z"
   },
   {
    "duration": 360,
    "start_time": "2021-06-15T19:05:13.993Z"
   },
   {
    "duration": 97,
    "start_time": "2021-06-15T19:05:46.767Z"
   },
   {
    "duration": 327,
    "start_time": "2021-06-15T19:05:51.521Z"
   },
   {
    "duration": 418,
    "start_time": "2021-06-16T17:26:30.589Z"
   },
   {
    "duration": 915,
    "start_time": "2021-06-16T17:26:39.099Z"
   },
   {
    "duration": 46,
    "start_time": "2021-06-16T17:26:40.017Z"
   },
   {
    "duration": 13,
    "start_time": "2021-06-16T17:26:40.066Z"
   },
   {
    "duration": 43,
    "start_time": "2021-06-16T17:26:40.082Z"
   },
   {
    "duration": 86,
    "start_time": "2021-06-16T17:26:40.127Z"
   },
   {
    "duration": 4,
    "start_time": "2021-06-16T17:26:40.215Z"
   },
   {
    "duration": 28,
    "start_time": "2021-06-16T17:26:40.222Z"
   },
   {
    "duration": 13,
    "start_time": "2021-06-16T17:26:40.253Z"
   },
   {
    "duration": 38,
    "start_time": "2021-06-16T17:26:40.268Z"
   },
   {
    "duration": 29,
    "start_time": "2021-06-16T17:26:40.308Z"
   },
   {
    "duration": 358,
    "start_time": "2021-06-16T17:26:40.339Z"
   },
   {
    "duration": 13,
    "start_time": "2021-06-16T17:26:40.699Z"
   },
   {
    "duration": 380,
    "start_time": "2021-06-16T17:26:40.715Z"
   },
   {
    "duration": 376,
    "start_time": "2021-06-16T17:26:41.097Z"
   },
   {
    "duration": 419,
    "start_time": "2021-06-16T17:27:25.692Z"
   },
   {
    "duration": 6573,
    "start_time": "2021-06-16T17:37:19.984Z"
   },
   {
    "duration": 325,
    "start_time": "2021-06-16T17:37:42.784Z"
   },
   {
    "duration": 334,
    "start_time": "2021-06-16T17:39:35.404Z"
   },
   {
    "duration": 452,
    "start_time": "2021-06-16T17:40:51.913Z"
   },
   {
    "duration": 30,
    "start_time": "2021-06-16T17:42:11.191Z"
   },
   {
    "duration": 314,
    "start_time": "2021-06-16T17:43:36.724Z"
   },
   {
    "duration": 328,
    "start_time": "2021-06-16T17:43:45.130Z"
   },
   {
    "duration": 308,
    "start_time": "2021-06-16T17:43:54.141Z"
   },
   {
    "duration": 329,
    "start_time": "2021-06-16T17:44:06.363Z"
   },
   {
    "duration": 397,
    "start_time": "2021-06-16T17:46:02.070Z"
   },
   {
    "duration": 434,
    "start_time": "2021-06-16T17:47:08.707Z"
   },
   {
    "duration": 314,
    "start_time": "2021-06-16T17:54:04.142Z"
   },
   {
    "duration": 412,
    "start_time": "2021-06-16T18:01:55.593Z"
   },
   {
    "duration": 370,
    "start_time": "2021-06-16T18:05:57.038Z"
   },
   {
    "duration": 504,
    "start_time": "2021-06-16T18:06:44.024Z"
   },
   {
    "duration": 638,
    "start_time": "2021-06-16T18:06:50.913Z"
   },
   {
    "duration": 365,
    "start_time": "2021-06-16T18:09:26.057Z"
   },
   {
    "duration": 377,
    "start_time": "2021-06-16T18:09:36.399Z"
   },
   {
    "duration": 383,
    "start_time": "2021-06-16T18:09:59.218Z"
   },
   {
    "duration": 4,
    "start_time": "2021-06-16T18:11:20.965Z"
   },
   {
    "duration": 60,
    "start_time": "2021-06-16T18:11:20.975Z"
   },
   {
    "duration": 15,
    "start_time": "2021-06-16T18:11:21.038Z"
   },
   {
    "duration": 20,
    "start_time": "2021-06-16T18:11:21.057Z"
   },
   {
    "duration": 104,
    "start_time": "2021-06-16T18:11:21.080Z"
   },
   {
    "duration": 22,
    "start_time": "2021-06-16T18:11:21.187Z"
   },
   {
    "duration": 14,
    "start_time": "2021-06-16T18:11:21.211Z"
   },
   {
    "duration": 6,
    "start_time": "2021-06-16T18:11:21.227Z"
   },
   {
    "duration": 338,
    "start_time": "2021-06-16T18:11:21.237Z"
   },
   {
    "duration": -201,
    "start_time": "2021-06-16T18:11:21.779Z"
   },
   {
    "duration": -219,
    "start_time": "2021-06-16T18:11:21.799Z"
   },
   {
    "duration": -227,
    "start_time": "2021-06-16T18:11:21.809Z"
   },
   {
    "duration": -237,
    "start_time": "2021-06-16T18:11:21.820Z"
   },
   {
    "duration": -245,
    "start_time": "2021-06-16T18:11:21.830Z"
   },
   {
    "duration": -273,
    "start_time": "2021-06-16T18:11:21.860Z"
   },
   {
    "duration": -281,
    "start_time": "2021-06-16T18:11:21.870Z"
   },
   {
    "duration": -304,
    "start_time": "2021-06-16T18:11:21.895Z"
   },
   {
    "duration": -314,
    "start_time": "2021-06-16T18:11:21.906Z"
   },
   {
    "duration": -323,
    "start_time": "2021-06-16T18:11:21.916Z"
   },
   {
    "duration": -330,
    "start_time": "2021-06-16T18:11:21.925Z"
   },
   {
    "duration": -339,
    "start_time": "2021-06-16T18:11:21.935Z"
   },
   {
    "duration": -347,
    "start_time": "2021-06-16T18:11:21.944Z"
   },
   {
    "duration": 1341,
    "start_time": "2021-06-16T18:11:50.230Z"
   },
   {
    "duration": 47,
    "start_time": "2021-06-16T18:11:51.574Z"
   },
   {
    "duration": 14,
    "start_time": "2021-06-16T18:11:51.624Z"
   },
   {
    "duration": 23,
    "start_time": "2021-06-16T18:11:51.641Z"
   },
   {
    "duration": 102,
    "start_time": "2021-06-16T18:11:51.666Z"
   },
   {
    "duration": 4,
    "start_time": "2021-06-16T18:11:51.770Z"
   },
   {
    "duration": 32,
    "start_time": "2021-06-16T18:11:51.777Z"
   },
   {
    "duration": 6,
    "start_time": "2021-06-16T18:11:51.813Z"
   },
   {
    "duration": 536,
    "start_time": "2021-06-16T18:11:51.822Z"
   },
   {
    "duration": 10,
    "start_time": "2021-06-16T18:11:52.350Z"
   },
   {
    "duration": -3,
    "start_time": "2021-06-16T18:11:52.364Z"
   },
   {
    "duration": -13,
    "start_time": "2021-06-16T18:11:52.376Z"
   },
   {
    "duration": -24,
    "start_time": "2021-06-16T18:11:52.388Z"
   },
   {
    "duration": -33,
    "start_time": "2021-06-16T18:11:52.399Z"
   },
   {
    "duration": -42,
    "start_time": "2021-06-16T18:11:52.409Z"
   },
   {
    "duration": -50,
    "start_time": "2021-06-16T18:11:52.419Z"
   },
   {
    "duration": -59,
    "start_time": "2021-06-16T18:11:52.429Z"
   },
   {
    "duration": -69,
    "start_time": "2021-06-16T18:11:52.440Z"
   },
   {
    "duration": -91,
    "start_time": "2021-06-16T18:11:52.464Z"
   },
   {
    "duration": -106,
    "start_time": "2021-06-16T18:11:52.480Z"
   },
   {
    "duration": -117,
    "start_time": "2021-06-16T18:11:52.493Z"
   },
   {
    "duration": -126,
    "start_time": "2021-06-16T18:11:52.503Z"
   },
   {
    "duration": 4,
    "start_time": "2021-06-16T18:12:22.087Z"
   },
   {
    "duration": 45,
    "start_time": "2021-06-16T18:12:22.097Z"
   },
   {
    "duration": 14,
    "start_time": "2021-06-16T18:12:22.144Z"
   },
   {
    "duration": 20,
    "start_time": "2021-06-16T18:12:22.161Z"
   },
   {
    "duration": 103,
    "start_time": "2021-06-16T18:12:22.183Z"
   },
   {
    "duration": 4,
    "start_time": "2021-06-16T18:12:22.310Z"
   },
   {
    "duration": 21,
    "start_time": "2021-06-16T18:12:22.317Z"
   },
   {
    "duration": 6,
    "start_time": "2021-06-16T18:12:22.341Z"
   },
   {
    "duration": 384,
    "start_time": "2021-06-16T18:12:22.349Z"
   },
   {
    "duration": -236,
    "start_time": "2021-06-16T18:12:22.972Z"
   },
   {
    "duration": -244,
    "start_time": "2021-06-16T18:12:22.982Z"
   },
   {
    "duration": -263,
    "start_time": "2021-06-16T18:12:23.003Z"
   },
   {
    "duration": -272,
    "start_time": "2021-06-16T18:12:23.013Z"
   },
   {
    "duration": -321,
    "start_time": "2021-06-16T18:12:23.064Z"
   },
   {
    "duration": -341,
    "start_time": "2021-06-16T18:12:23.086Z"
   },
   {
    "duration": -357,
    "start_time": "2021-06-16T18:12:23.104Z"
   },
   {
    "duration": -372,
    "start_time": "2021-06-16T18:12:23.120Z"
   },
   {
    "duration": -386,
    "start_time": "2021-06-16T18:12:23.136Z"
   },
   {
    "duration": -399,
    "start_time": "2021-06-16T18:12:23.150Z"
   },
   {
    "duration": -425,
    "start_time": "2021-06-16T18:12:23.178Z"
   },
   {
    "duration": -439,
    "start_time": "2021-06-16T18:12:23.193Z"
   },
   {
    "duration": -452,
    "start_time": "2021-06-16T18:12:23.208Z"
   },
   {
    "duration": 354,
    "start_time": "2021-06-16T18:14:00.212Z"
   },
   {
    "duration": 26,
    "start_time": "2021-06-16T18:14:19.404Z"
   },
   {
    "duration": 624,
    "start_time": "2021-06-16T18:15:34.424Z"
   },
   {
    "duration": 4,
    "start_time": "2021-06-16T18:15:43.681Z"
   },
   {
    "duration": 44,
    "start_time": "2021-06-16T18:15:43.692Z"
   },
   {
    "duration": 13,
    "start_time": "2021-06-16T18:15:43.739Z"
   },
   {
    "duration": 21,
    "start_time": "2021-06-16T18:15:43.755Z"
   },
   {
    "duration": 103,
    "start_time": "2021-06-16T18:15:43.778Z"
   },
   {
    "duration": 25,
    "start_time": "2021-06-16T18:15:43.884Z"
   },
   {
    "duration": 17,
    "start_time": "2021-06-16T18:15:43.912Z"
   },
   {
    "duration": 9,
    "start_time": "2021-06-16T18:15:43.932Z"
   },
   {
    "duration": 30,
    "start_time": "2021-06-16T18:15:43.944Z"
   },
   {
    "duration": 53,
    "start_time": "2021-06-16T18:15:43.977Z"
   },
   {
    "duration": 357,
    "start_time": "2021-06-16T18:15:44.032Z"
   },
   {
    "duration": 7,
    "start_time": "2021-06-16T18:15:44.391Z"
   },
   {
    "duration": 380,
    "start_time": "2021-06-16T18:15:44.408Z"
   },
   {
    "duration": 367,
    "start_time": "2021-06-16T18:15:44.791Z"
   },
   {
    "duration": 381,
    "start_time": "2021-06-16T18:15:45.163Z"
   },
   {
    "duration": 339,
    "start_time": "2021-06-16T18:15:45.546Z"
   },
   {
    "duration": 338,
    "start_time": "2021-06-16T18:15:45.887Z"
   },
   {
    "duration": 346,
    "start_time": "2021-06-16T18:15:46.227Z"
   },
   {
    "duration": 333,
    "start_time": "2021-06-16T18:15:46.575Z"
   },
   {
    "duration": 347,
    "start_time": "2021-06-16T18:15:46.911Z"
   },
   {
    "duration": 410,
    "start_time": "2021-06-16T18:15:47.261Z"
   },
   {
    "duration": 603,
    "start_time": "2021-06-16T18:15:47.673Z"
   },
   {
    "duration": 793,
    "start_time": "2021-06-16T18:17:21.513Z"
   },
   {
    "duration": 7,
    "start_time": "2021-06-16T18:17:45.284Z"
   },
   {
    "duration": 6,
    "start_time": "2021-06-16T18:18:29.876Z"
   },
   {
    "duration": 33,
    "start_time": "2021-06-16T18:19:24.209Z"
   },
   {
    "duration": 7,
    "start_time": "2021-06-16T18:19:30.044Z"
   },
   {
    "duration": 609,
    "start_time": "2021-06-16T18:19:35.269Z"
   },
   {
    "duration": 4,
    "start_time": "2021-06-16T18:19:41.748Z"
   },
   {
    "duration": 51,
    "start_time": "2021-06-16T18:19:41.758Z"
   },
   {
    "duration": 13,
    "start_time": "2021-06-16T18:19:41.812Z"
   },
   {
    "duration": 20,
    "start_time": "2021-06-16T18:19:41.828Z"
   },
   {
    "duration": 108,
    "start_time": "2021-06-16T18:19:41.850Z"
   },
   {
    "duration": 4,
    "start_time": "2021-06-16T18:19:41.961Z"
   },
   {
    "duration": 17,
    "start_time": "2021-06-16T18:19:41.967Z"
   },
   {
    "duration": 6,
    "start_time": "2021-06-16T18:19:42.010Z"
   },
   {
    "duration": 26,
    "start_time": "2021-06-16T18:19:42.020Z"
   },
   {
    "duration": 30,
    "start_time": "2021-06-16T18:19:42.049Z"
   },
   {
    "duration": 350,
    "start_time": "2021-06-16T18:19:42.110Z"
   },
   {
    "duration": 7,
    "start_time": "2021-06-16T18:19:42.463Z"
   },
   {
    "duration": 381,
    "start_time": "2021-06-16T18:19:42.472Z"
   },
   {
    "duration": 378,
    "start_time": "2021-06-16T18:19:42.856Z"
   },
   {
    "duration": 365,
    "start_time": "2021-06-16T18:19:43.237Z"
   },
   {
    "duration": 356,
    "start_time": "2021-06-16T18:19:43.604Z"
   },
   {
    "duration": 437,
    "start_time": "2021-06-16T18:19:43.962Z"
   },
   {
    "duration": 347,
    "start_time": "2021-06-16T18:19:44.410Z"
   },
   {
    "duration": 333,
    "start_time": "2021-06-16T18:19:44.760Z"
   },
   {
    "duration": 342,
    "start_time": "2021-06-16T18:19:45.095Z"
   },
   {
    "duration": 328,
    "start_time": "2021-06-16T18:19:45.439Z"
   },
   {
    "duration": 593,
    "start_time": "2021-06-16T18:19:45.770Z"
   },
   {
    "duration": 7,
    "start_time": "2021-06-16T18:20:47.291Z"
   },
   {
    "duration": 6,
    "start_time": "2021-06-16T18:20:57.650Z"
   },
   {
    "duration": 6,
    "start_time": "2021-06-16T18:21:11.210Z"
   },
   {
    "duration": 7,
    "start_time": "2021-06-16T18:21:39.634Z"
   },
   {
    "duration": 35,
    "start_time": "2021-06-16T18:22:53.929Z"
   },
   {
    "duration": 4,
    "start_time": "2021-06-16T18:22:58.593Z"
   },
   {
    "duration": 71,
    "start_time": "2021-06-16T18:22:58.606Z"
   },
   {
    "duration": 13,
    "start_time": "2021-06-16T18:22:58.680Z"
   },
   {
    "duration": 22,
    "start_time": "2021-06-16T18:22:58.696Z"
   },
   {
    "duration": 176,
    "start_time": "2021-06-16T18:22:58.720Z"
   },
   {
    "duration": 10,
    "start_time": "2021-06-16T18:22:58.899Z"
   },
   {
    "duration": 27,
    "start_time": "2021-06-16T18:22:58.912Z"
   },
   {
    "duration": 6,
    "start_time": "2021-06-16T18:22:58.942Z"
   },
   {
    "duration": 28,
    "start_time": "2021-06-16T18:22:58.951Z"
   },
   {
    "duration": 45,
    "start_time": "2021-06-16T18:22:58.982Z"
   },
   {
    "duration": 354,
    "start_time": "2021-06-16T18:22:59.029Z"
   },
   {
    "duration": 7,
    "start_time": "2021-06-16T18:22:59.386Z"
   },
   {
    "duration": 371,
    "start_time": "2021-06-16T18:22:59.409Z"
   },
   {
    "duration": 371,
    "start_time": "2021-06-16T18:22:59.782Z"
   },
   {
    "duration": 366,
    "start_time": "2021-06-16T18:23:00.156Z"
   },
   {
    "duration": 336,
    "start_time": "2021-06-16T18:23:00.525Z"
   },
   {
    "duration": 362,
    "start_time": "2021-06-16T18:23:00.864Z"
   },
   {
    "duration": 349,
    "start_time": "2021-06-16T18:23:01.228Z"
   },
   {
    "duration": 341,
    "start_time": "2021-06-16T18:23:01.580Z"
   },
   {
    "duration": 352,
    "start_time": "2021-06-16T18:23:01.923Z"
   },
   {
    "duration": 373,
    "start_time": "2021-06-16T18:23:02.278Z"
   },
   {
    "duration": 13,
    "start_time": "2021-06-16T18:23:02.654Z"
   },
   {
    "duration": 15,
    "start_time": "2021-06-16T18:26:29.422Z"
   },
   {
    "duration": 400,
    "start_time": "2021-06-17T16:37:59.877Z"
   },
   {
    "duration": 1520,
    "start_time": "2021-06-17T16:38:03.377Z"
   },
   {
    "duration": 47,
    "start_time": "2021-06-17T16:38:04.901Z"
   },
   {
    "duration": 17,
    "start_time": "2021-06-17T16:38:04.951Z"
   },
   {
    "duration": 53,
    "start_time": "2021-06-17T16:38:04.972Z"
   },
   {
    "duration": 80,
    "start_time": "2021-06-17T16:38:05.028Z"
   },
   {
    "duration": 19,
    "start_time": "2021-06-17T16:38:05.111Z"
   },
   {
    "duration": 16,
    "start_time": "2021-06-17T16:38:05.132Z"
   },
   {
    "duration": 6,
    "start_time": "2021-06-17T16:38:05.154Z"
   },
   {
    "duration": 75,
    "start_time": "2021-06-17T16:38:05.164Z"
   },
   {
    "duration": 39,
    "start_time": "2021-06-17T16:38:05.242Z"
   },
   {
    "duration": 533,
    "start_time": "2021-06-17T16:38:05.284Z"
   },
   {
    "duration": 10,
    "start_time": "2021-06-17T16:38:05.826Z"
   },
   {
    "duration": 389,
    "start_time": "2021-06-17T16:38:05.839Z"
   },
   {
    "duration": 569,
    "start_time": "2021-06-17T16:38:06.231Z"
   },
   {
    "duration": 380,
    "start_time": "2021-06-17T16:38:06.802Z"
   },
   {
    "duration": 344,
    "start_time": "2021-06-17T16:38:07.184Z"
   },
   {
    "duration": 332,
    "start_time": "2021-06-17T16:38:07.530Z"
   },
   {
    "duration": 342,
    "start_time": "2021-06-17T16:38:07.865Z"
   },
   {
    "duration": 335,
    "start_time": "2021-06-17T16:38:08.210Z"
   },
   {
    "duration": 495,
    "start_time": "2021-06-17T16:38:08.548Z"
   },
   {
    "duration": 554,
    "start_time": "2021-06-17T16:38:09.047Z"
   },
   {
    "duration": 33,
    "start_time": "2021-06-17T16:38:09.604Z"
   },
   {
    "duration": 22,
    "start_time": "2021-06-17T16:38:09.644Z"
   },
   {
    "duration": 557,
    "start_time": "2021-06-17T16:38:34.903Z"
   },
   {
    "duration": 552,
    "start_time": "2021-06-17T16:39:13.946Z"
   },
   {
    "duration": 126,
    "start_time": "2021-06-17T16:47:55.376Z"
   },
   {
    "duration": 127,
    "start_time": "2021-06-17T16:48:21.149Z"
   },
   {
    "duration": 4871,
    "start_time": "2021-06-17T16:49:14.259Z"
   },
   {
    "duration": 4350,
    "start_time": "2021-06-17T16:50:40.418Z"
   },
   {
    "duration": 4637,
    "start_time": "2021-06-17T16:50:47.998Z"
   },
   {
    "duration": 4435,
    "start_time": "2021-06-17T16:51:08.576Z"
   },
   {
    "duration": 5,
    "start_time": "2021-06-17T16:51:22.177Z"
   },
   {
    "duration": 56,
    "start_time": "2021-06-17T16:51:22.187Z"
   },
   {
    "duration": 15,
    "start_time": "2021-06-17T16:51:22.246Z"
   },
   {
    "duration": 25,
    "start_time": "2021-06-17T16:51:22.265Z"
   },
   {
    "duration": 160,
    "start_time": "2021-06-17T16:51:22.293Z"
   },
   {
    "duration": 5,
    "start_time": "2021-06-17T16:51:22.456Z"
   },
   {
    "duration": 17,
    "start_time": "2021-06-17T16:51:22.464Z"
   },
   {
    "duration": 7,
    "start_time": "2021-06-17T16:51:22.484Z"
   },
   {
    "duration": 45,
    "start_time": "2021-06-17T16:51:22.529Z"
   },
   {
    "duration": 65,
    "start_time": "2021-06-17T16:51:22.578Z"
   },
   {
    "duration": 527,
    "start_time": "2021-06-17T16:51:22.646Z"
   },
   {
    "duration": 9,
    "start_time": "2021-06-17T16:51:23.176Z"
   },
   {
    "duration": 594,
    "start_time": "2021-06-17T16:51:23.188Z"
   },
   {
    "duration": 589,
    "start_time": "2021-06-17T16:51:23.784Z"
   },
   {
    "duration": 563,
    "start_time": "2021-06-17T16:51:24.375Z"
   },
   {
    "duration": 338,
    "start_time": "2021-06-17T16:51:24.941Z"
   },
   {
    "duration": 334,
    "start_time": "2021-06-17T16:51:25.281Z"
   },
   {
    "duration": 349,
    "start_time": "2021-06-17T16:51:25.617Z"
   },
   {
    "duration": 327,
    "start_time": "2021-06-17T16:51:25.969Z"
   },
   {
    "duration": 410,
    "start_time": "2021-06-17T16:51:26.299Z"
   },
   {
    "duration": 321,
    "start_time": "2021-06-17T16:51:26.711Z"
   },
   {
    "duration": 4468,
    "start_time": "2021-06-17T16:51:27.034Z"
   },
   {
    "duration": -1276,
    "start_time": "2021-06-17T16:51:32.780Z"
   },
   {
    "duration": -1288,
    "start_time": "2021-06-17T16:51:32.794Z"
   },
   {
    "duration": 4752,
    "start_time": "2021-06-17T16:52:04.379Z"
   },
   {
    "duration": 14,
    "start_time": "2021-06-17T16:55:30.374Z"
   },
   {
    "duration": 4412,
    "start_time": "2021-06-17T16:56:18.477Z"
   },
   {
    "duration": 12,
    "start_time": "2021-06-17T16:57:22.605Z"
   },
   {
    "duration": 4587,
    "start_time": "2021-06-17T16:57:56.601Z"
   },
   {
    "duration": 123,
    "start_time": "2021-06-17T16:59:10.920Z"
   },
   {
    "duration": 4172,
    "start_time": "2021-06-17T16:59:15.040Z"
   },
   {
    "duration": 22,
    "start_time": "2021-06-17T16:59:43.567Z"
   },
   {
    "duration": 4320,
    "start_time": "2021-06-17T17:01:32.480Z"
   },
   {
    "duration": 4200,
    "start_time": "2021-06-17T17:01:44.667Z"
   },
   {
    "duration": 23,
    "start_time": "2021-06-17T17:03:09.339Z"
   },
   {
    "duration": 368,
    "start_time": "2021-06-17T17:06:07.056Z"
   },
   {
    "duration": 14,
    "start_time": "2021-06-17T17:06:37.242Z"
   },
   {
    "duration": 16,
    "start_time": "2021-06-17T17:06:57.688Z"
   },
   {
    "duration": 365,
    "start_time": "2021-06-17T17:07:20.063Z"
   },
   {
    "duration": 20,
    "start_time": "2021-06-17T17:09:01.281Z"
   },
   {
    "duration": 10,
    "start_time": "2021-06-17T17:09:48.490Z"
   },
   {
    "duration": 9,
    "start_time": "2021-06-17T17:09:54.171Z"
   },
   {
    "duration": 11,
    "start_time": "2021-06-17T17:11:16.085Z"
   },
   {
    "duration": 11,
    "start_time": "2021-06-17T17:15:31.847Z"
   },
   {
    "duration": 11,
    "start_time": "2021-06-17T17:15:38.285Z"
   },
   {
    "duration": 11,
    "start_time": "2021-06-17T17:16:07.881Z"
   },
   {
    "duration": 4,
    "start_time": "2021-06-17T17:16:20.641Z"
   },
   {
    "duration": 43,
    "start_time": "2021-06-17T17:16:20.677Z"
   },
   {
    "duration": 14,
    "start_time": "2021-06-17T17:16:20.722Z"
   },
   {
    "duration": 25,
    "start_time": "2021-06-17T17:16:20.740Z"
   },
   {
    "duration": 104,
    "start_time": "2021-06-17T17:16:20.768Z"
   },
   {
    "duration": 6,
    "start_time": "2021-06-17T17:16:20.875Z"
   },
   {
    "duration": 42,
    "start_time": "2021-06-17T17:16:20.884Z"
   },
   {
    "duration": 15,
    "start_time": "2021-06-17T17:16:20.928Z"
   },
   {
    "duration": 29,
    "start_time": "2021-06-17T17:16:20.946Z"
   },
   {
    "duration": 57,
    "start_time": "2021-06-17T17:16:20.978Z"
   },
   {
    "duration": 360,
    "start_time": "2021-06-17T17:16:21.037Z"
   },
   {
    "duration": 7,
    "start_time": "2021-06-17T17:16:21.400Z"
   },
   {
    "duration": 587,
    "start_time": "2021-06-17T17:16:21.410Z"
   },
   {
    "duration": 573,
    "start_time": "2021-06-17T17:16:22.000Z"
   },
   {
    "duration": 566,
    "start_time": "2021-06-17T17:16:22.576Z"
   },
   {
    "duration": 343,
    "start_time": "2021-06-17T17:16:23.144Z"
   },
   {
    "duration": 337,
    "start_time": "2021-06-17T17:16:23.490Z"
   },
   {
    "duration": 353,
    "start_time": "2021-06-17T17:16:23.832Z"
   },
   {
    "duration": 336,
    "start_time": "2021-06-17T17:16:24.188Z"
   },
   {
    "duration": 334,
    "start_time": "2021-06-17T17:16:24.526Z"
   },
   {
    "duration": 414,
    "start_time": "2021-06-17T17:16:24.862Z"
   },
   {
    "duration": 8,
    "start_time": "2021-06-17T17:16:25.279Z"
   },
   {
    "duration": 9,
    "start_time": "2021-06-17T17:16:25.289Z"
   },
   {
    "duration": 36,
    "start_time": "2021-06-17T17:16:25.300Z"
   },
   {
    "duration": 15,
    "start_time": "2021-06-17T17:16:25.338Z"
   },
   {
    "duration": 11,
    "start_time": "2021-06-17T17:17:38.264Z"
   },
   {
    "duration": 9,
    "start_time": "2021-06-17T17:20:49.926Z"
   },
   {
    "duration": 8,
    "start_time": "2021-06-17T17:21:13.115Z"
   },
   {
    "duration": 331,
    "start_time": "2021-06-17T17:21:37.628Z"
   },
   {
    "duration": 15,
    "start_time": "2021-06-17T17:21:55.493Z"
   },
   {
    "duration": 17,
    "start_time": "2021-06-17T17:22:24.281Z"
   },
   {
    "duration": 15,
    "start_time": "2021-06-17T17:22:34.774Z"
   },
   {
    "duration": 9,
    "start_time": "2021-06-17T17:30:18.947Z"
   },
   {
    "duration": 6,
    "start_time": "2021-06-17T17:34:53.562Z"
   },
   {
    "duration": 122,
    "start_time": "2021-06-17T17:45:07.616Z"
   },
   {
    "duration": 5,
    "start_time": "2021-06-17T17:45:20.047Z"
   },
   {
    "duration": 6,
    "start_time": "2021-06-17T17:47:09.104Z"
   },
   {
    "duration": 5,
    "start_time": "2021-06-17T17:47:25.552Z"
   },
   {
    "duration": 6,
    "start_time": "2021-06-17T17:47:29.323Z"
   },
   {
    "duration": 5,
    "start_time": "2021-06-17T17:47:42.937Z"
   },
   {
    "duration": 5,
    "start_time": "2021-06-17T17:47:46.784Z"
   },
   {
    "duration": 7,
    "start_time": "2021-06-17T17:47:49.285Z"
   },
   {
    "duration": 7,
    "start_time": "2021-06-17T17:47:54.671Z"
   },
   {
    "duration": 6,
    "start_time": "2021-06-17T17:47:57.357Z"
   },
   {
    "duration": 6,
    "start_time": "2021-06-17T17:48:19.759Z"
   },
   {
    "duration": 6,
    "start_time": "2021-06-17T17:48:41.393Z"
   },
   {
    "duration": 6,
    "start_time": "2021-06-17T17:48:53.166Z"
   },
   {
    "duration": 5,
    "start_time": "2021-06-17T17:49:20.614Z"
   },
   {
    "duration": 6,
    "start_time": "2021-06-17T17:49:31.588Z"
   },
   {
    "duration": 365,
    "start_time": "2021-06-17T17:55:11.306Z"
   },
   {
    "duration": 5,
    "start_time": "2021-06-17T17:55:18.210Z"
   },
   {
    "duration": 71,
    "start_time": "2021-06-17T17:55:18.224Z"
   },
   {
    "duration": 20,
    "start_time": "2021-06-17T17:55:18.298Z"
   },
   {
    "duration": 24,
    "start_time": "2021-06-17T17:55:18.327Z"
   },
   {
    "duration": 121,
    "start_time": "2021-06-17T17:55:18.354Z"
   },
   {
    "duration": 6,
    "start_time": "2021-06-17T17:55:18.478Z"
   },
   {
    "duration": 22,
    "start_time": "2021-06-17T17:55:18.487Z"
   },
   {
    "duration": 7,
    "start_time": "2021-06-17T17:55:18.531Z"
   },
   {
    "duration": 34,
    "start_time": "2021-06-17T17:55:18.544Z"
   },
   {
    "duration": 64,
    "start_time": "2021-06-17T17:55:18.581Z"
   },
   {
    "duration": 372,
    "start_time": "2021-06-17T17:55:18.650Z"
   },
   {
    "duration": 14,
    "start_time": "2021-06-17T17:55:19.025Z"
   },
   {
    "duration": 633,
    "start_time": "2021-06-17T17:55:19.042Z"
   },
   {
    "duration": 801,
    "start_time": "2021-06-17T17:55:19.678Z"
   },
   {
    "duration": 582,
    "start_time": "2021-06-17T17:55:20.482Z"
   },
   {
    "duration": 332,
    "start_time": "2021-06-17T17:55:21.066Z"
   },
   {
    "duration": 336,
    "start_time": "2021-06-17T17:55:21.400Z"
   },
   {
    "duration": 466,
    "start_time": "2021-06-17T17:55:21.739Z"
   },
   {
    "duration": 472,
    "start_time": "2021-06-17T17:55:22.207Z"
   },
   {
    "duration": 349,
    "start_time": "2021-06-17T17:55:22.682Z"
   },
   {
    "duration": 326,
    "start_time": "2021-06-17T17:55:23.037Z"
   },
   {
    "duration": 21,
    "start_time": "2021-06-17T17:55:23.366Z"
   },
   {
    "duration": 62,
    "start_time": "2021-06-17T17:55:23.390Z"
   },
   {
    "duration": 6,
    "start_time": "2021-06-17T17:55:23.458Z"
   },
   {
    "duration": 20,
    "start_time": "2021-06-17T17:55:23.467Z"
   },
   {
    "duration": 391,
    "start_time": "2021-06-17T17:55:23.489Z"
   },
   {
    "duration": -188,
    "start_time": "2021-06-17T17:55:24.071Z"
   },
   {
    "duration": -244,
    "start_time": "2021-06-17T17:55:24.128Z"
   },
   {
    "duration": -254,
    "start_time": "2021-06-17T17:55:24.140Z"
   },
   {
    "duration": 1361,
    "start_time": "2021-06-17T17:56:01.387Z"
   },
   {
    "duration": 4,
    "start_time": "2021-06-17T17:56:51.963Z"
   },
   {
    "duration": 47,
    "start_time": "2021-06-17T17:56:51.974Z"
   },
   {
    "duration": 19,
    "start_time": "2021-06-17T17:56:52.023Z"
   },
   {
    "duration": 23,
    "start_time": "2021-06-17T17:56:52.044Z"
   },
   {
    "duration": 112,
    "start_time": "2021-06-17T17:56:52.070Z"
   },
   {
    "duration": 4,
    "start_time": "2021-06-17T17:56:52.185Z"
   },
   {
    "duration": 39,
    "start_time": "2021-06-17T17:56:52.191Z"
   },
   {
    "duration": 11,
    "start_time": "2021-06-17T17:56:52.233Z"
   },
   {
    "duration": 30,
    "start_time": "2021-06-17T17:56:52.248Z"
   },
   {
    "duration": 71,
    "start_time": "2021-06-17T17:56:52.283Z"
   },
   {
    "duration": 363,
    "start_time": "2021-06-17T17:56:52.357Z"
   },
   {
    "duration": 9,
    "start_time": "2021-06-17T17:56:52.725Z"
   },
   {
    "duration": 670,
    "start_time": "2021-06-17T17:56:52.737Z"
   },
   {
    "duration": 591,
    "start_time": "2021-06-17T17:56:53.410Z"
   },
   {
    "duration": 575,
    "start_time": "2021-06-17T17:56:54.003Z"
   },
   {
    "duration": 357,
    "start_time": "2021-06-17T17:56:54.581Z"
   },
   {
    "duration": 330,
    "start_time": "2021-06-17T17:56:54.940Z"
   },
   {
    "duration": 486,
    "start_time": "2021-06-17T17:56:55.272Z"
   },
   {
    "duration": 343,
    "start_time": "2021-06-17T17:56:55.761Z"
   },
   {
    "duration": 346,
    "start_time": "2021-06-17T17:56:56.106Z"
   },
   {
    "duration": 336,
    "start_time": "2021-06-17T17:56:56.454Z"
   },
   {
    "duration": 16,
    "start_time": "2021-06-17T17:56:56.794Z"
   },
   {
    "duration": 29,
    "start_time": "2021-06-17T17:56:56.824Z"
   },
   {
    "duration": 6,
    "start_time": "2021-06-17T17:56:56.855Z"
   },
   {
    "duration": 16,
    "start_time": "2021-06-17T17:56:56.864Z"
   },
   {
    "duration": 382,
    "start_time": "2021-06-17T17:56:56.883Z"
   },
   {
    "duration": -155,
    "start_time": "2021-06-17T17:56:57.422Z"
   },
   {
    "duration": -185,
    "start_time": "2021-06-17T17:56:57.454Z"
   },
   {
    "duration": -200,
    "start_time": "2021-06-17T17:56:57.470Z"
   },
   {
    "duration": 1393,
    "start_time": "2021-06-17T17:57:00.999Z"
   },
   {
    "duration": 61,
    "start_time": "2021-06-17T17:57:02.395Z"
   },
   {
    "duration": 17,
    "start_time": "2021-06-17T17:57:02.460Z"
   },
   {
    "duration": 50,
    "start_time": "2021-06-17T17:57:02.481Z"
   },
   {
    "duration": 82,
    "start_time": "2021-06-17T17:57:02.534Z"
   },
   {
    "duration": 7,
    "start_time": "2021-06-17T17:57:02.628Z"
   },
   {
    "duration": 20,
    "start_time": "2021-06-17T17:57:02.638Z"
   },
   {
    "duration": 6,
    "start_time": "2021-06-17T17:57:02.662Z"
   },
   {
    "duration": 54,
    "start_time": "2021-06-17T17:57:02.671Z"
   },
   {
    "duration": 31,
    "start_time": "2021-06-17T17:57:02.733Z"
   },
   {
    "duration": 375,
    "start_time": "2021-06-17T17:57:02.766Z"
   },
   {
    "duration": 7,
    "start_time": "2021-06-17T17:57:03.144Z"
   },
   {
    "duration": 698,
    "start_time": "2021-06-17T17:57:03.153Z"
   },
   {
    "duration": 599,
    "start_time": "2021-06-17T17:57:03.855Z"
   },
   {
    "duration": 735,
    "start_time": "2021-06-17T17:57:04.455Z"
   },
   {
    "duration": 349,
    "start_time": "2021-06-17T17:57:05.193Z"
   },
   {
    "duration": 346,
    "start_time": "2021-06-17T17:57:05.545Z"
   },
   {
    "duration": 358,
    "start_time": "2021-06-17T17:57:05.893Z"
   },
   {
    "duration": 342,
    "start_time": "2021-06-17T17:57:06.254Z"
   },
   {
    "duration": 359,
    "start_time": "2021-06-17T17:57:06.600Z"
   },
   {
    "duration": 407,
    "start_time": "2021-06-17T17:57:06.961Z"
   },
   {
    "duration": 16,
    "start_time": "2021-06-17T17:57:07.371Z"
   },
   {
    "duration": 508,
    "start_time": "2021-06-17T17:57:07.391Z"
   },
   {
    "duration": -108,
    "start_time": "2021-06-17T17:57:08.010Z"
   },
   {
    "duration": -129,
    "start_time": "2021-06-17T17:57:08.032Z"
   },
   {
    "duration": -148,
    "start_time": "2021-06-17T17:57:08.052Z"
   },
   {
    "duration": -158,
    "start_time": "2021-06-17T17:57:08.064Z"
   },
   {
    "duration": -173,
    "start_time": "2021-06-17T17:57:08.080Z"
   },
   {
    "duration": -184,
    "start_time": "2021-06-17T17:57:08.092Z"
   },
   {
    "duration": 4,
    "start_time": "2021-06-17T17:58:22.493Z"
   },
   {
    "duration": 52,
    "start_time": "2021-06-17T17:58:22.500Z"
   },
   {
    "duration": 14,
    "start_time": "2021-06-17T17:58:22.554Z"
   },
   {
    "duration": 19,
    "start_time": "2021-06-17T17:58:22.571Z"
   },
   {
    "duration": 113,
    "start_time": "2021-06-17T17:58:22.593Z"
   },
   {
    "duration": 13,
    "start_time": "2021-06-17T17:58:22.724Z"
   },
   {
    "duration": 17,
    "start_time": "2021-06-17T17:58:22.741Z"
   },
   {
    "duration": 6,
    "start_time": "2021-06-17T17:58:22.761Z"
   },
   {
    "duration": 69,
    "start_time": "2021-06-17T17:58:22.772Z"
   },
   {
    "duration": 32,
    "start_time": "2021-06-17T17:58:22.845Z"
   },
   {
    "duration": 478,
    "start_time": "2021-06-17T17:58:22.880Z"
   },
   {
    "duration": 8,
    "start_time": "2021-06-17T17:58:23.361Z"
   },
   {
    "duration": 710,
    "start_time": "2021-06-17T17:58:23.372Z"
   },
   {
    "duration": 581,
    "start_time": "2021-06-17T17:58:24.084Z"
   },
   {
    "duration": 589,
    "start_time": "2021-06-17T17:58:24.668Z"
   },
   {
    "duration": 355,
    "start_time": "2021-06-17T17:58:25.259Z"
   },
   {
    "duration": 365,
    "start_time": "2021-06-17T17:58:25.616Z"
   },
   {
    "duration": 425,
    "start_time": "2021-06-17T17:58:25.984Z"
   },
   {
    "duration": 345,
    "start_time": "2021-06-17T17:58:26.411Z"
   },
   {
    "duration": 344,
    "start_time": "2021-06-17T17:58:26.758Z"
   },
   {
    "duration": 360,
    "start_time": "2021-06-17T17:58:27.104Z"
   },
   {
    "duration": 17,
    "start_time": "2021-06-17T17:58:27.467Z"
   },
   {
    "duration": 500,
    "start_time": "2021-06-17T17:58:27.487Z"
   },
   {
    "duration": -105,
    "start_time": "2021-06-17T17:58:28.095Z"
   },
   {
    "duration": -121,
    "start_time": "2021-06-17T17:58:28.112Z"
   },
   {
    "duration": -136,
    "start_time": "2021-06-17T17:58:28.128Z"
   },
   {
    "duration": -148,
    "start_time": "2021-06-17T17:58:28.142Z"
   },
   {
    "duration": -162,
    "start_time": "2021-06-17T17:58:28.157Z"
   },
   {
    "duration": -172,
    "start_time": "2021-06-17T17:58:28.168Z"
   },
   {
    "duration": 4,
    "start_time": "2021-06-17T18:01:22.329Z"
   },
   {
    "duration": 45,
    "start_time": "2021-06-17T18:01:22.341Z"
   },
   {
    "duration": 19,
    "start_time": "2021-06-17T18:01:22.388Z"
   },
   {
    "duration": 25,
    "start_time": "2021-06-17T18:01:22.427Z"
   },
   {
    "duration": 109,
    "start_time": "2021-06-17T18:01:22.455Z"
   },
   {
    "duration": 4,
    "start_time": "2021-06-17T18:01:22.567Z"
   },
   {
    "duration": 23,
    "start_time": "2021-06-17T18:01:22.573Z"
   },
   {
    "duration": 26,
    "start_time": "2021-06-17T18:01:22.599Z"
   },
   {
    "duration": 33,
    "start_time": "2021-06-17T18:01:22.629Z"
   },
   {
    "duration": 60,
    "start_time": "2021-06-17T18:01:22.665Z"
   },
   {
    "duration": 369,
    "start_time": "2021-06-17T18:01:22.727Z"
   },
   {
    "duration": 9,
    "start_time": "2021-06-17T18:01:23.099Z"
   },
   {
    "duration": 592,
    "start_time": "2021-06-17T18:01:23.128Z"
   },
   {
    "duration": 584,
    "start_time": "2021-06-17T18:01:23.726Z"
   },
   {
    "duration": 708,
    "start_time": "2021-06-17T18:01:24.313Z"
   },
   {
    "duration": 342,
    "start_time": "2021-06-17T18:01:25.026Z"
   },
   {
    "duration": 339,
    "start_time": "2021-06-17T18:01:25.370Z"
   },
   {
    "duration": 358,
    "start_time": "2021-06-17T18:01:25.712Z"
   },
   {
    "duration": 404,
    "start_time": "2021-06-17T18:01:26.076Z"
   },
   {
    "duration": 495,
    "start_time": "2021-06-17T18:01:26.484Z"
   },
   {
    "duration": 358,
    "start_time": "2021-06-17T18:01:26.982Z"
   },
   {
    "duration": 21,
    "start_time": "2021-06-17T18:01:27.343Z"
   },
   {
    "duration": 408,
    "start_time": "2021-06-17T18:01:27.366Z"
   },
   {
    "duration": -265,
    "start_time": "2021-06-17T18:01:28.042Z"
   },
   {
    "duration": -286,
    "start_time": "2021-06-17T18:01:28.064Z"
   },
   {
    "duration": -298,
    "start_time": "2021-06-17T18:01:28.078Z"
   },
   {
    "duration": -310,
    "start_time": "2021-06-17T18:01:28.092Z"
   },
   {
    "duration": -320,
    "start_time": "2021-06-17T18:01:28.103Z"
   },
   {
    "duration": -344,
    "start_time": "2021-06-17T18:01:28.128Z"
   },
   {
    "duration": 14,
    "start_time": "2021-06-17T18:01:35.747Z"
   },
   {
    "duration": 16,
    "start_time": "2021-06-17T18:01:39.515Z"
   },
   {
    "duration": 8,
    "start_time": "2021-06-17T18:02:11.399Z"
   },
   {
    "duration": 28,
    "start_time": "2021-06-17T18:02:43.817Z"
   },
   {
    "duration": 5,
    "start_time": "2021-06-17T18:02:45.854Z"
   },
   {
    "duration": 30,
    "start_time": "2021-06-17T18:02:53.516Z"
   },
   {
    "duration": 358,
    "start_time": "2021-06-17T18:04:56.627Z"
   },
   {
    "duration": 27,
    "start_time": "2021-06-17T18:05:26.157Z"
   },
   {
    "duration": 6,
    "start_time": "2021-06-17T18:05:28.415Z"
   },
   {
    "duration": 15,
    "start_time": "2021-06-17T18:08:02.239Z"
   },
   {
    "duration": 22,
    "start_time": "2021-06-17T18:08:31.196Z"
   },
   {
    "duration": 325,
    "start_time": "2021-06-17T18:10:34.029Z"
   },
   {
    "duration": 34,
    "start_time": "2021-06-17T18:10:35.996Z"
   },
   {
    "duration": 7,
    "start_time": "2021-06-17T18:10:38.067Z"
   },
   {
    "duration": 338,
    "start_time": "2021-06-17T18:11:46.034Z"
   },
   {
    "duration": 23,
    "start_time": "2021-06-17T18:11:48.386Z"
   },
   {
    "duration": 6,
    "start_time": "2021-06-17T18:11:50.118Z"
   },
   {
    "duration": 6,
    "start_time": "2021-06-17T18:14:17.267Z"
   },
   {
    "duration": 5,
    "start_time": "2021-06-17T18:14:20.574Z"
   },
   {
    "duration": 6,
    "start_time": "2021-06-17T18:14:26.010Z"
   },
   {
    "duration": 10,
    "start_time": "2021-06-17T18:14:29.226Z"
   },
   {
    "duration": 5,
    "start_time": "2021-06-17T18:14:37.074Z"
   },
   {
    "duration": 6,
    "start_time": "2021-06-17T18:14:40.412Z"
   },
   {
    "duration": 6,
    "start_time": "2021-06-17T18:14:43.672Z"
   },
   {
    "duration": 17,
    "start_time": "2021-06-17T18:16:58.910Z"
   },
   {
    "duration": 21,
    "start_time": "2021-06-17T18:19:29.657Z"
   },
   {
    "duration": 20,
    "start_time": "2021-06-17T18:23:44.086Z"
   },
   {
    "duration": 20,
    "start_time": "2021-06-17T18:23:46.007Z"
   },
   {
    "duration": 115,
    "start_time": "2021-06-17T18:29:47.305Z"
   },
   {
    "duration": 116,
    "start_time": "2021-06-17T18:30:09.288Z"
   },
   {
    "duration": 7,
    "start_time": "2021-06-17T18:30:22.600Z"
   },
   {
    "duration": 8,
    "start_time": "2021-06-17T18:30:41.768Z"
   },
   {
    "duration": 9544,
    "start_time": "2021-06-17T18:31:12.438Z"
   },
   {
    "duration": 12243,
    "start_time": "2021-06-17T18:31:22.406Z"
   },
   {
    "duration": 32,
    "start_time": "2021-06-17T18:31:40.007Z"
   },
   {
    "duration": 8353,
    "start_time": "2021-06-17T18:33:15.711Z"
   },
   {
    "duration": 8464,
    "start_time": "2021-06-17T18:33:53.952Z"
   },
   {
    "duration": 5,
    "start_time": "2021-06-17T18:34:32.129Z"
   },
   {
    "duration": 65,
    "start_time": "2021-06-17T18:34:32.137Z"
   },
   {
    "duration": 14,
    "start_time": "2021-06-17T18:34:32.205Z"
   },
   {
    "duration": 20,
    "start_time": "2021-06-17T18:34:32.234Z"
   },
   {
    "duration": 105,
    "start_time": "2021-06-17T18:34:32.256Z"
   },
   {
    "duration": 5,
    "start_time": "2021-06-17T18:34:32.364Z"
   },
   {
    "duration": 21,
    "start_time": "2021-06-17T18:34:32.372Z"
   },
   {
    "duration": 14,
    "start_time": "2021-06-17T18:34:32.397Z"
   },
   {
    "duration": 8354,
    "start_time": "2021-06-17T18:34:32.414Z"
   },
   {
    "duration": -336,
    "start_time": "2021-06-17T18:34:41.107Z"
   },
   {
    "duration": -351,
    "start_time": "2021-06-17T18:34:41.124Z"
   },
   {
    "duration": -366,
    "start_time": "2021-06-17T18:34:41.140Z"
   },
   {
    "duration": -378,
    "start_time": "2021-06-17T18:34:41.153Z"
   },
   {
    "duration": -399,
    "start_time": "2021-06-17T18:34:41.176Z"
   },
   {
    "duration": -440,
    "start_time": "2021-06-17T18:34:41.218Z"
   },
   {
    "duration": -492,
    "start_time": "2021-06-17T18:34:41.271Z"
   },
   {
    "duration": -516,
    "start_time": "2021-06-17T18:34:41.297Z"
   },
   {
    "duration": -532,
    "start_time": "2021-06-17T18:34:41.314Z"
   },
   {
    "duration": -566,
    "start_time": "2021-06-17T18:34:41.349Z"
   },
   {
    "duration": -579,
    "start_time": "2021-06-17T18:34:41.364Z"
   },
   {
    "duration": -594,
    "start_time": "2021-06-17T18:34:41.380Z"
   },
   {
    "duration": -608,
    "start_time": "2021-06-17T18:34:41.395Z"
   },
   {
    "duration": -620,
    "start_time": "2021-06-17T18:34:41.409Z"
   },
   {
    "duration": -634,
    "start_time": "2021-06-17T18:34:41.424Z"
   },
   {
    "duration": -647,
    "start_time": "2021-06-17T18:34:41.438Z"
   },
   {
    "duration": -682,
    "start_time": "2021-06-17T18:34:41.474Z"
   },
   {
    "duration": -694,
    "start_time": "2021-06-17T18:34:41.488Z"
   },
   {
    "duration": -707,
    "start_time": "2021-06-17T18:34:41.502Z"
   },
   {
    "duration": -865,
    "start_time": "2021-06-17T18:34:41.661Z"
   },
   {
    "duration": -980,
    "start_time": "2021-06-17T18:34:41.777Z"
   },
   {
    "duration": -993,
    "start_time": "2021-06-17T18:34:41.792Z"
   },
   {
    "duration": -1010,
    "start_time": "2021-06-17T18:34:41.810Z"
   },
   {
    "duration": -1040,
    "start_time": "2021-06-17T18:34:41.841Z"
   },
   {
    "duration": -1053,
    "start_time": "2021-06-17T18:34:41.856Z"
   },
   {
    "duration": -1066,
    "start_time": "2021-06-17T18:34:41.870Z"
   },
   {
    "duration": -1079,
    "start_time": "2021-06-17T18:34:41.884Z"
   },
   {
    "duration": -308,
    "start_time": "2021-06-17T18:34:54.626Z"
   },
   {
    "duration": 1443,
    "start_time": "2021-06-17T18:35:28.446Z"
   },
   {
    "duration": 47,
    "start_time": "2021-06-17T18:35:29.892Z"
   },
   {
    "duration": 15,
    "start_time": "2021-06-17T18:35:29.942Z"
   },
   {
    "duration": 23,
    "start_time": "2021-06-17T18:35:29.960Z"
   },
   {
    "duration": 109,
    "start_time": "2021-06-17T18:35:29.985Z"
   },
   {
    "duration": 5,
    "start_time": "2021-06-17T18:35:30.096Z"
   },
   {
    "duration": 31,
    "start_time": "2021-06-17T18:35:30.103Z"
   },
   {
    "duration": 8,
    "start_time": "2021-06-17T18:35:30.140Z"
   },
   {
    "duration": 8604,
    "start_time": "2021-06-17T18:35:30.152Z"
   },
   {
    "duration": -191,
    "start_time": "2021-06-17T18:35:38.950Z"
   },
   {
    "duration": -203,
    "start_time": "2021-06-17T18:35:38.964Z"
   },
   {
    "duration": -220,
    "start_time": "2021-06-17T18:35:38.982Z"
   },
   {
    "duration": -237,
    "start_time": "2021-06-17T18:35:39.001Z"
   },
   {
    "duration": -249,
    "start_time": "2021-06-17T18:35:39.015Z"
   },
   {
    "duration": -297,
    "start_time": "2021-06-17T18:35:39.064Z"
   },
   {
    "duration": -340,
    "start_time": "2021-06-17T18:35:39.108Z"
   },
   {
    "duration": -349,
    "start_time": "2021-06-17T18:35:39.119Z"
   },
   {
    "duration": -367,
    "start_time": "2021-06-17T18:35:39.138Z"
   },
   {
    "duration": -378,
    "start_time": "2021-06-17T18:35:39.150Z"
   },
   {
    "duration": -410,
    "start_time": "2021-06-17T18:35:39.184Z"
   },
   {
    "duration": -422,
    "start_time": "2021-06-17T18:35:39.198Z"
   },
   {
    "duration": -438,
    "start_time": "2021-06-17T18:35:39.216Z"
   },
   {
    "duration": -453,
    "start_time": "2021-06-17T18:35:39.232Z"
   },
   {
    "duration": -465,
    "start_time": "2021-06-17T18:35:39.246Z"
   },
   {
    "duration": -477,
    "start_time": "2021-06-17T18:35:39.260Z"
   },
   {
    "duration": -492,
    "start_time": "2021-06-17T18:35:39.276Z"
   },
   {
    "duration": -520,
    "start_time": "2021-06-17T18:35:39.306Z"
   },
   {
    "duration": -533,
    "start_time": "2021-06-17T18:35:39.320Z"
   },
   {
    "duration": -546,
    "start_time": "2021-06-17T18:35:39.335Z"
   },
   {
    "duration": -634,
    "start_time": "2021-06-17T18:35:39.424Z"
   },
   {
    "duration": -650,
    "start_time": "2021-06-17T18:35:39.442Z"
   },
   {
    "duration": -665,
    "start_time": "2021-06-17T18:35:39.458Z"
   },
   {
    "duration": -676,
    "start_time": "2021-06-17T18:35:39.471Z"
   },
   {
    "duration": -690,
    "start_time": "2021-06-17T18:35:39.486Z"
   },
   {
    "duration": -674,
    "start_time": "2021-06-17T18:35:39.499Z"
   },
   {
    "duration": 19,
    "start_time": "2021-06-17T18:36:05.918Z"
   },
   {
    "duration": 4,
    "start_time": "2021-06-17T18:36:21.199Z"
   },
   {
    "duration": 65,
    "start_time": "2021-06-17T18:36:21.209Z"
   },
   {
    "duration": 18,
    "start_time": "2021-06-17T18:36:21.277Z"
   },
   {
    "duration": 41,
    "start_time": "2021-06-17T18:36:21.298Z"
   },
   {
    "duration": 144,
    "start_time": "2021-06-17T18:36:21.342Z"
   },
   {
    "duration": 6,
    "start_time": "2021-06-17T18:36:21.489Z"
   },
   {
    "duration": 41,
    "start_time": "2021-06-17T18:36:21.497Z"
   },
   {
    "duration": 6,
    "start_time": "2021-06-17T18:36:21.541Z"
   },
   {
    "duration": 8708,
    "start_time": "2021-06-17T18:36:21.553Z"
   },
   {
    "duration": -349,
    "start_time": "2021-06-17T18:36:30.614Z"
   },
   {
    "duration": -367,
    "start_time": "2021-06-17T18:36:30.634Z"
   },
   {
    "duration": -390,
    "start_time": "2021-06-17T18:36:30.658Z"
   },
   {
    "duration": -404,
    "start_time": "2021-06-17T18:36:30.673Z"
   },
   {
    "duration": -417,
    "start_time": "2021-06-17T18:36:30.688Z"
   },
   {
    "duration": -448,
    "start_time": "2021-06-17T18:36:30.720Z"
   },
   {
    "duration": -461,
    "start_time": "2021-06-17T18:36:30.734Z"
   },
   {
    "duration": -475,
    "start_time": "2021-06-17T18:36:30.750Z"
   },
   {
    "duration": -485,
    "start_time": "2021-06-17T18:36:30.761Z"
   },
   {
    "duration": -501,
    "start_time": "2021-06-17T18:36:30.778Z"
   },
   {
    "duration": -514,
    "start_time": "2021-06-17T18:36:30.792Z"
   },
   {
    "duration": -566,
    "start_time": "2021-06-17T18:36:30.846Z"
   },
   {
    "duration": -579,
    "start_time": "2021-06-17T18:36:30.860Z"
   },
   {
    "duration": -597,
    "start_time": "2021-06-17T18:36:30.879Z"
   },
   {
    "duration": -621,
    "start_time": "2021-06-17T18:36:30.905Z"
   },
   {
    "duration": -640,
    "start_time": "2021-06-17T18:36:30.925Z"
   },
   {
    "duration": -681,
    "start_time": "2021-06-17T18:36:30.967Z"
   },
   {
    "duration": -705,
    "start_time": "2021-06-17T18:36:30.992Z"
   },
   {
    "duration": -723,
    "start_time": "2021-06-17T18:36:31.011Z"
   },
   {
    "duration": -740,
    "start_time": "2021-06-17T18:36:31.030Z"
   },
   {
    "duration": -754,
    "start_time": "2021-06-17T18:36:31.045Z"
   },
   {
    "duration": -793,
    "start_time": "2021-06-17T18:36:31.085Z"
   },
   {
    "duration": -807,
    "start_time": "2021-06-17T18:36:31.100Z"
   },
   {
    "duration": -823,
    "start_time": "2021-06-17T18:36:31.118Z"
   },
   {
    "duration": -839,
    "start_time": "2021-06-17T18:36:31.135Z"
   },
   {
    "duration": -856,
    "start_time": "2021-06-17T18:36:31.153Z"
   },
   {
    "duration": -871,
    "start_time": "2021-06-17T18:36:31.170Z"
   },
   {
    "duration": 19,
    "start_time": "2021-06-17T18:36:36.031Z"
   },
   {
    "duration": 5,
    "start_time": "2021-06-17T18:37:18.774Z"
   },
   {
    "duration": 33,
    "start_time": "2021-06-17T18:37:23.786Z"
   },
   {
    "duration": 18,
    "start_time": "2021-06-17T18:37:35.425Z"
   },
   {
    "duration": 28,
    "start_time": "2021-06-17T18:37:57.697Z"
   },
   {
    "duration": 470,
    "start_time": "2021-06-17T18:38:09.624Z"
   },
   {
    "duration": 8,
    "start_time": "2021-06-17T18:38:15.053Z"
   },
   {
    "duration": 556,
    "start_time": "2021-06-17T18:38:18.778Z"
   },
   {
    "duration": 805,
    "start_time": "2021-06-17T18:38:21.335Z"
   },
   {
    "duration": 785,
    "start_time": "2021-06-17T18:38:24.274Z"
   },
   {
    "duration": 465,
    "start_time": "2021-06-17T18:38:27.266Z"
   },
   {
    "duration": 463,
    "start_time": "2021-06-17T18:38:30.416Z"
   },
   {
    "duration": 485,
    "start_time": "2021-06-17T18:38:32.911Z"
   },
   {
    "duration": 471,
    "start_time": "2021-06-17T18:38:35.372Z"
   },
   {
    "duration": 496,
    "start_time": "2021-06-17T18:38:38.318Z"
   },
   {
    "duration": 388,
    "start_time": "2021-06-17T18:38:41.213Z"
   },
   {
    "duration": 16,
    "start_time": "2021-06-17T18:38:45.721Z"
   },
   {
    "duration": 16,
    "start_time": "2021-06-17T18:38:49.873Z"
   },
   {
    "duration": 24,
    "start_time": "2021-06-17T18:38:51.409Z"
   },
   {
    "duration": 6,
    "start_time": "2021-06-17T18:38:53.985Z"
   },
   {
    "duration": 18,
    "start_time": "2021-06-17T18:38:56.727Z"
   },
   {
    "duration": 18,
    "start_time": "2021-06-17T18:38:58.829Z"
   },
   {
    "duration": 23,
    "start_time": "2021-06-17T18:39:00.519Z"
   },
   {
    "duration": 6,
    "start_time": "2021-06-17T18:39:02.057Z"
   },
   {
    "duration": 22,
    "start_time": "2021-06-17T18:39:04.549Z"
   },
   {
    "duration": 16,
    "start_time": "2021-06-17T18:39:06.423Z"
   },
   {
    "duration": 23,
    "start_time": "2021-06-17T18:39:08.198Z"
   },
   {
    "duration": 5,
    "start_time": "2021-06-17T18:39:09.437Z"
   },
   {
    "duration": 30,
    "start_time": "2021-06-17T18:39:13.319Z"
   },
   {
    "duration": 15,
    "start_time": "2021-06-17T18:39:35.076Z"
   },
   {
    "duration": 15,
    "start_time": "2021-06-17T18:39:38.430Z"
   },
   {
    "duration": 1365,
    "start_time": "2021-06-18T15:58:27.039Z"
   },
   {
    "duration": 47,
    "start_time": "2021-06-18T15:58:28.407Z"
   },
   {
    "duration": 14,
    "start_time": "2021-06-18T15:58:28.457Z"
   },
   {
    "duration": 31,
    "start_time": "2021-06-18T15:58:28.473Z"
   },
   {
    "duration": 99,
    "start_time": "2021-06-18T15:58:28.507Z"
   },
   {
    "duration": 4,
    "start_time": "2021-06-18T15:58:28.608Z"
   },
   {
    "duration": 18,
    "start_time": "2021-06-18T15:58:28.615Z"
   },
   {
    "duration": 25,
    "start_time": "2021-06-18T15:58:28.635Z"
   },
   {
    "duration": 31,
    "start_time": "2021-06-18T15:58:28.664Z"
   },
   {
    "duration": 42,
    "start_time": "2021-06-18T15:58:28.698Z"
   },
   {
    "duration": 342,
    "start_time": "2021-06-18T15:58:28.755Z"
   },
   {
    "duration": 7,
    "start_time": "2021-06-18T15:58:29.100Z"
   },
   {
    "duration": 559,
    "start_time": "2021-06-18T15:58:29.110Z"
   },
   {
    "duration": 576,
    "start_time": "2021-06-18T15:58:29.671Z"
   },
   {
    "duration": 550,
    "start_time": "2021-06-18T15:58:30.254Z"
   },
   {
    "duration": 333,
    "start_time": "2021-06-18T15:58:30.807Z"
   },
   {
    "duration": 322,
    "start_time": "2021-06-18T15:58:31.142Z"
   },
   {
    "duration": 334,
    "start_time": "2021-06-18T15:58:31.466Z"
   },
   {
    "duration": 313,
    "start_time": "2021-06-18T15:58:31.803Z"
   },
   {
    "duration": 335,
    "start_time": "2021-06-18T15:58:32.119Z"
   },
   {
    "duration": 383,
    "start_time": "2021-06-18T15:58:32.456Z"
   },
   {
    "duration": 22,
    "start_time": "2021-06-18T15:58:32.842Z"
   },
   {
    "duration": 15,
    "start_time": "2021-06-18T15:58:32.867Z"
   },
   {
    "duration": 22,
    "start_time": "2021-06-18T15:58:32.884Z"
   },
   {
    "duration": 7,
    "start_time": "2021-06-18T15:58:32.908Z"
   },
   {
    "duration": 51,
    "start_time": "2021-06-18T15:58:32.917Z"
   },
   {
    "duration": 18,
    "start_time": "2021-06-18T15:58:32.973Z"
   },
   {
    "duration": 22,
    "start_time": "2021-06-18T15:58:32.994Z"
   },
   {
    "duration": 37,
    "start_time": "2021-06-18T15:58:33.018Z"
   },
   {
    "duration": 16,
    "start_time": "2021-06-18T15:58:33.058Z"
   },
   {
    "duration": 15,
    "start_time": "2021-06-18T15:58:33.076Z"
   },
   {
    "duration": 26,
    "start_time": "2021-06-18T15:58:33.093Z"
   },
   {
    "duration": 34,
    "start_time": "2021-06-18T15:58:33.121Z"
   },
   {
    "duration": 20,
    "start_time": "2021-06-18T15:58:33.157Z"
   },
   {
    "duration": 26,
    "start_time": "2021-06-18T15:58:33.180Z"
   },
   {
    "duration": 543,
    "start_time": "2021-06-18T16:00:53.164Z"
   },
   {
    "duration": 650,
    "start_time": "2021-06-18T16:14:05.387Z"
   },
   {
    "duration": 612,
    "start_time": "2021-06-18T16:14:48.136Z"
   },
   {
    "duration": 1898,
    "start_time": "2021-06-18T16:16:39.648Z"
   },
   {
    "duration": 1905,
    "start_time": "2021-06-18T16:16:59.883Z"
   },
   {
    "duration": 95,
    "start_time": "2021-06-18T16:27:29.278Z"
   },
   {
    "duration": 100,
    "start_time": "2021-06-18T16:28:01.321Z"
   },
   {
    "duration": 84,
    "start_time": "2021-06-18T16:28:09.553Z"
   },
   {
    "duration": 406,
    "start_time": "2021-06-18T16:28:23.236Z"
   },
   {
    "duration": 427,
    "start_time": "2021-06-18T16:28:29.823Z"
   },
   {
    "duration": 382,
    "start_time": "2021-06-18T16:28:34.603Z"
   },
   {
    "duration": 450,
    "start_time": "2021-06-18T16:31:25.747Z"
   },
   {
    "duration": 626,
    "start_time": "2021-06-18T16:32:40.037Z"
   },
   {
    "duration": 307,
    "start_time": "2021-06-18T16:55:43.070Z"
   },
   {
    "duration": 308,
    "start_time": "2021-06-18T16:57:16.443Z"
   },
   {
    "duration": 379,
    "start_time": "2021-06-18T16:57:43.292Z"
   },
   {
    "duration": 269,
    "start_time": "2021-06-18T16:57:50.602Z"
   },
   {
    "duration": 6,
    "start_time": "2021-06-18T16:58:01.584Z"
   },
   {
    "duration": 311,
    "start_time": "2021-06-18T16:58:52.746Z"
   },
   {
    "duration": 307,
    "start_time": "2021-06-18T16:59:04.119Z"
   },
   {
    "duration": 310,
    "start_time": "2021-06-18T16:59:17.113Z"
   },
   {
    "duration": 7,
    "start_time": "2021-06-18T17:00:09.525Z"
   },
   {
    "duration": 448,
    "start_time": "2021-06-18T17:02:39.635Z"
   },
   {
    "duration": 428,
    "start_time": "2021-06-18T17:02:45.313Z"
   },
   {
    "duration": 769,
    "start_time": "2021-06-18T17:04:44.438Z"
   },
   {
    "duration": 761,
    "start_time": "2021-06-18T17:14:13.302Z"
   },
   {
    "duration": 851,
    "start_time": "2021-06-18T17:14:41.349Z"
   },
   {
    "duration": 7,
    "start_time": "2021-06-18T17:15:26.711Z"
   },
   {
    "duration": 8,
    "start_time": "2021-06-18T17:15:40.707Z"
   },
   {
    "duration": 775,
    "start_time": "2021-06-18T17:21:44.610Z"
   },
   {
    "duration": 832,
    "start_time": "2021-06-18T17:22:12.122Z"
   },
   {
    "duration": 750,
    "start_time": "2021-06-18T17:22:26.239Z"
   },
   {
    "duration": 666,
    "start_time": "2021-06-18T17:23:44.580Z"
   },
   {
    "duration": 734,
    "start_time": "2021-06-18T17:24:15.916Z"
   },
   {
    "duration": 698,
    "start_time": "2021-06-18T17:24:31.274Z"
   },
   {
    "duration": 1327,
    "start_time": "2021-06-18T17:47:41.679Z"
   },
   {
    "duration": 47,
    "start_time": "2021-06-18T17:47:43.009Z"
   },
   {
    "duration": 14,
    "start_time": "2021-06-18T17:47:43.059Z"
   },
   {
    "duration": 31,
    "start_time": "2021-06-18T17:47:43.076Z"
   },
   {
    "duration": 96,
    "start_time": "2021-06-18T17:47:43.109Z"
   },
   {
    "duration": 4,
    "start_time": "2021-06-18T17:47:43.207Z"
   },
   {
    "duration": 29,
    "start_time": "2021-06-18T17:47:43.213Z"
   },
   {
    "duration": 18,
    "start_time": "2021-06-18T17:47:43.244Z"
   },
   {
    "duration": 51,
    "start_time": "2021-06-18T17:47:43.266Z"
   },
   {
    "duration": 28,
    "start_time": "2021-06-18T17:47:43.319Z"
   },
   {
    "duration": 346,
    "start_time": "2021-06-18T17:47:43.350Z"
   },
   {
    "duration": 7,
    "start_time": "2021-06-18T17:47:43.698Z"
   },
   {
    "duration": 554,
    "start_time": "2021-06-18T17:47:43.708Z"
   },
   {
    "duration": 555,
    "start_time": "2021-06-18T17:47:44.264Z"
   },
   {
    "duration": 541,
    "start_time": "2021-06-18T17:47:44.821Z"
   },
   {
    "duration": 344,
    "start_time": "2021-06-18T17:47:45.364Z"
   },
   {
    "duration": 317,
    "start_time": "2021-06-18T17:47:45.711Z"
   },
   {
    "duration": 330,
    "start_time": "2021-06-18T17:47:46.030Z"
   },
   {
    "duration": 323,
    "start_time": "2021-06-18T17:47:46.363Z"
   },
   {
    "duration": 322,
    "start_time": "2021-06-18T17:47:46.689Z"
   },
   {
    "duration": 375,
    "start_time": "2021-06-18T17:47:47.014Z"
   },
   {
    "duration": 641,
    "start_time": "2021-06-18T17:47:47.392Z"
   },
   {
    "duration": 386,
    "start_time": "2021-06-18T17:47:48.035Z"
   },
   {
    "duration": 771,
    "start_time": "2021-06-18T17:47:48.423Z"
   },
   {
    "duration": 765,
    "start_time": "2021-06-18T17:47:49.197Z"
   },
   {
    "duration": 820,
    "start_time": "2021-06-18T17:47:49.964Z"
   },
   {
    "duration": 789,
    "start_time": "2021-06-18T17:47:50.789Z"
   },
   {
    "duration": 778,
    "start_time": "2021-06-18T17:47:51.581Z"
   },
   {
    "duration": 737,
    "start_time": "2021-06-18T17:47:52.361Z"
   },
   {
    "duration": 725,
    "start_time": "2021-06-18T17:47:53.100Z"
   },
   {
    "duration": 887,
    "start_time": "2021-06-18T17:47:53.827Z"
   },
   {
    "duration": 878,
    "start_time": "2021-06-18T17:47:54.716Z"
   },
   {
    "duration": 9,
    "start_time": "2021-06-18T17:47:55.597Z"
   },
   {
    "duration": 15,
    "start_time": "2021-06-18T17:47:55.608Z"
   },
   {
    "duration": 31,
    "start_time": "2021-06-18T17:47:55.626Z"
   },
   {
    "duration": 30,
    "start_time": "2021-06-18T17:47:55.659Z"
   },
   {
    "duration": 18,
    "start_time": "2021-06-18T17:47:55.692Z"
   },
   {
    "duration": 43,
    "start_time": "2021-06-18T17:47:55.713Z"
   },
   {
    "duration": 5,
    "start_time": "2021-06-18T17:47:55.759Z"
   },
   {
    "duration": 30,
    "start_time": "2021-06-18T17:47:55.767Z"
   },
   {
    "duration": 16,
    "start_time": "2021-06-18T17:47:55.800Z"
   },
   {
    "duration": 45,
    "start_time": "2021-06-18T17:47:55.819Z"
   },
   {
    "duration": 6,
    "start_time": "2021-06-18T17:47:55.866Z"
   },
   {
    "duration": 33,
    "start_time": "2021-06-18T17:47:55.874Z"
   },
   {
    "duration": 25,
    "start_time": "2021-06-18T17:47:55.910Z"
   },
   {
    "duration": 31,
    "start_time": "2021-06-18T17:47:55.938Z"
   },
   {
    "duration": 5,
    "start_time": "2021-06-18T17:47:55.972Z"
   },
   {
    "duration": 578,
    "start_time": "2021-06-18T17:47:55.980Z"
   },
   {
    "duration": 14,
    "start_time": "2021-06-18T17:47:56.561Z"
   },
   {
    "duration": 24,
    "start_time": "2021-06-18T17:47:56.577Z"
   },
   {
    "duration": 1341,
    "start_time": "2021-06-19T18:15:24.774Z"
   },
   {
    "duration": 46,
    "start_time": "2021-06-19T18:15:26.118Z"
   },
   {
    "duration": 14,
    "start_time": "2021-06-19T18:15:26.167Z"
   },
   {
    "duration": 24,
    "start_time": "2021-06-19T18:15:26.183Z"
   },
   {
    "duration": 113,
    "start_time": "2021-06-19T18:15:26.209Z"
   },
   {
    "duration": 5,
    "start_time": "2021-06-19T18:15:26.324Z"
   },
   {
    "duration": 34,
    "start_time": "2021-06-19T18:15:26.331Z"
   },
   {
    "duration": 7,
    "start_time": "2021-06-19T18:15:26.367Z"
   },
   {
    "duration": 31,
    "start_time": "2021-06-19T18:15:26.379Z"
   },
   {
    "duration": 65,
    "start_time": "2021-06-19T18:15:26.414Z"
   },
   {
    "duration": 369,
    "start_time": "2021-06-19T18:15:26.481Z"
   },
   {
    "duration": 11,
    "start_time": "2021-06-19T18:15:26.853Z"
   },
   {
    "duration": 577,
    "start_time": "2021-06-19T18:15:26.866Z"
   },
   {
    "duration": 577,
    "start_time": "2021-06-19T18:15:27.446Z"
   },
   {
    "duration": 740,
    "start_time": "2021-06-19T18:15:28.026Z"
   },
   {
    "duration": 493,
    "start_time": "2021-06-19T18:15:28.769Z"
   },
   {
    "duration": 484,
    "start_time": "2021-06-19T18:15:29.265Z"
   },
   {
    "duration": 341,
    "start_time": "2021-06-19T18:15:29.761Z"
   },
   {
    "duration": 332,
    "start_time": "2021-06-19T18:15:30.104Z"
   },
   {
    "duration": 348,
    "start_time": "2021-06-19T18:15:30.438Z"
   },
   {
    "duration": 403,
    "start_time": "2021-06-19T18:15:30.789Z"
   },
   {
    "duration": 672,
    "start_time": "2021-06-19T18:15:31.194Z"
   },
   {
    "duration": 404,
    "start_time": "2021-06-19T18:15:31.868Z"
   },
   {
    "duration": 848,
    "start_time": "2021-06-19T18:15:32.275Z"
   },
   {
    "duration": 867,
    "start_time": "2021-06-19T18:15:33.125Z"
   },
   {
    "duration": 849,
    "start_time": "2021-06-19T18:15:33.994Z"
   },
   {
    "duration": 1111,
    "start_time": "2021-06-19T18:15:34.851Z"
   },
   {
    "duration": 1051,
    "start_time": "2021-06-19T18:15:35.966Z"
   },
   {
    "duration": 1107,
    "start_time": "2021-06-19T18:15:37.021Z"
   },
   {
    "duration": 1026,
    "start_time": "2021-06-19T18:15:38.131Z"
   },
   {
    "duration": 1111,
    "start_time": "2021-06-19T18:15:39.163Z"
   },
   {
    "duration": 1039,
    "start_time": "2021-06-19T18:15:40.277Z"
   },
   {
    "duration": 6,
    "start_time": "2021-06-19T18:15:41.319Z"
   },
   {
    "duration": 9,
    "start_time": "2021-06-19T18:15:41.327Z"
   },
   {
    "duration": 6,
    "start_time": "2021-06-19T18:15:41.363Z"
   },
   {
    "duration": 18,
    "start_time": "2021-06-19T18:15:41.371Z"
   },
   {
    "duration": 15,
    "start_time": "2021-06-19T18:15:41.391Z"
   },
   {
    "duration": 68,
    "start_time": "2021-06-19T18:15:41.408Z"
   },
   {
    "duration": 5,
    "start_time": "2021-06-19T18:15:41.478Z"
   },
   {
    "duration": 21,
    "start_time": "2021-06-19T18:15:41.485Z"
   },
   {
    "duration": 16,
    "start_time": "2021-06-19T18:15:41.508Z"
   },
   {
    "duration": 56,
    "start_time": "2021-06-19T18:15:41.526Z"
   },
   {
    "duration": 4,
    "start_time": "2021-06-19T18:15:41.585Z"
   },
   {
    "duration": 20,
    "start_time": "2021-06-19T18:15:41.592Z"
   },
   {
    "duration": 49,
    "start_time": "2021-06-19T18:15:41.614Z"
   },
   {
    "duration": 25,
    "start_time": "2021-06-19T18:15:41.665Z"
   },
   {
    "duration": 5,
    "start_time": "2021-06-19T18:15:41.692Z"
   },
   {
    "duration": 604,
    "start_time": "2021-06-19T18:15:41.699Z"
   },
   {
    "duration": 15,
    "start_time": "2021-06-19T18:15:42.305Z"
   },
   {
    "duration": 18,
    "start_time": "2021-06-19T18:15:42.322Z"
   },
   {
    "duration": 385,
    "start_time": "2021-06-21T08:47:34.943Z"
   },
   {
    "duration": 1360,
    "start_time": "2021-06-21T08:47:39.402Z"
   },
   {
    "duration": 48,
    "start_time": "2021-06-21T08:47:40.764Z"
   },
   {
    "duration": 14,
    "start_time": "2021-06-21T08:47:40.815Z"
   },
   {
    "duration": 36,
    "start_time": "2021-06-21T08:47:40.832Z"
   },
   {
    "duration": 98,
    "start_time": "2021-06-21T08:47:40.871Z"
   },
   {
    "duration": 5,
    "start_time": "2021-06-21T08:47:40.971Z"
   },
   {
    "duration": 17,
    "start_time": "2021-06-21T08:47:40.978Z"
   },
   {
    "duration": 11,
    "start_time": "2021-06-21T08:47:40.997Z"
   },
   {
    "duration": 6,
    "start_time": "2021-06-21T08:47:41.012Z"
   },
   {
    "duration": 30,
    "start_time": "2021-06-21T08:47:41.063Z"
   },
   {
    "duration": 29,
    "start_time": "2021-06-21T08:47:41.096Z"
   },
   {
    "duration": 376,
    "start_time": "2021-06-21T08:47:41.127Z"
   },
   {
    "duration": 7,
    "start_time": "2021-06-21T08:47:41.506Z"
   },
   {
    "duration": 580,
    "start_time": "2021-06-21T08:47:41.515Z"
   },
   {
    "duration": 569,
    "start_time": "2021-06-21T08:47:42.098Z"
   },
   {
    "duration": 574,
    "start_time": "2021-06-21T08:47:42.670Z"
   },
   {
    "duration": 330,
    "start_time": "2021-06-21T08:47:43.246Z"
   },
   {
    "duration": 337,
    "start_time": "2021-06-21T08:47:43.578Z"
   },
   {
    "duration": 337,
    "start_time": "2021-06-21T08:47:43.917Z"
   },
   {
    "duration": 316,
    "start_time": "2021-06-21T08:47:44.261Z"
   },
   {
    "duration": 337,
    "start_time": "2021-06-21T08:47:44.580Z"
   },
   {
    "duration": 407,
    "start_time": "2021-06-21T08:47:44.919Z"
   },
   {
    "duration": 648,
    "start_time": "2021-06-21T08:47:45.329Z"
   },
   {
    "duration": 390,
    "start_time": "2021-06-21T08:47:45.979Z"
   },
   {
    "duration": 744,
    "start_time": "2021-06-21T08:47:46.371Z"
   },
   {
    "duration": 758,
    "start_time": "2021-06-21T08:47:47.117Z"
   },
   {
    "duration": 841,
    "start_time": "2021-06-21T08:47:47.880Z"
   },
   {
    "duration": 1000,
    "start_time": "2021-06-21T08:47:48.724Z"
   },
   {
    "duration": 1087,
    "start_time": "2021-06-21T08:47:49.727Z"
   },
   {
    "duration": 1110,
    "start_time": "2021-06-21T08:47:50.818Z"
   },
   {
    "duration": 734,
    "start_time": "2021-06-21T08:47:51.931Z"
   },
   {
    "duration": 803,
    "start_time": "2021-06-21T08:47:52.669Z"
   },
   {
    "duration": 718,
    "start_time": "2021-06-21T08:47:53.475Z"
   },
   {
    "duration": 8,
    "start_time": "2021-06-21T08:47:54.196Z"
   },
   {
    "duration": 9,
    "start_time": "2021-06-21T08:47:54.208Z"
   },
   {
    "duration": 43,
    "start_time": "2021-06-21T08:47:54.220Z"
   },
   {
    "duration": 34,
    "start_time": "2021-06-21T08:47:54.266Z"
   },
   {
    "duration": 15,
    "start_time": "2021-06-21T08:47:54.303Z"
   },
   {
    "duration": 41,
    "start_time": "2021-06-21T08:47:54.321Z"
   },
   {
    "duration": 6,
    "start_time": "2021-06-21T08:47:54.364Z"
   },
   {
    "duration": 24,
    "start_time": "2021-06-21T08:47:54.372Z"
   },
   {
    "duration": 19,
    "start_time": "2021-06-21T08:47:54.399Z"
   },
   {
    "duration": 56,
    "start_time": "2021-06-21T08:47:54.421Z"
   },
   {
    "duration": 5,
    "start_time": "2021-06-21T08:47:54.480Z"
   },
   {
    "duration": 25,
    "start_time": "2021-06-21T08:47:54.488Z"
   },
   {
    "duration": 16,
    "start_time": "2021-06-21T08:47:54.515Z"
   },
   {
    "duration": 48,
    "start_time": "2021-06-21T08:47:54.533Z"
   },
   {
    "duration": 5,
    "start_time": "2021-06-21T08:47:54.583Z"
   },
   {
    "duration": 596,
    "start_time": "2021-06-21T08:47:54.590Z"
   },
   {
    "duration": 14,
    "start_time": "2021-06-21T08:47:55.188Z"
   },
   {
    "duration": 15,
    "start_time": "2021-06-21T08:47:55.205Z"
   },
   {
    "duration": 32,
    "start_time": "2021-06-21T09:02:39.322Z"
   },
   {
    "duration": 31,
    "start_time": "2021-06-21T09:02:50.517Z"
   },
   {
    "duration": 36,
    "start_time": "2021-06-21T09:03:26.193Z"
   },
   {
    "duration": 42,
    "start_time": "2021-06-21T09:03:47.693Z"
   },
   {
    "duration": 42,
    "start_time": "2021-06-21T09:04:08.722Z"
   },
   {
    "duration": 22,
    "start_time": "2021-06-21T09:04:37.782Z"
   },
   {
    "duration": 32,
    "start_time": "2021-06-21T09:21:28.806Z"
   },
   {
    "duration": 404,
    "start_time": "2021-06-21T09:24:03.738Z"
   },
   {
    "duration": 314,
    "start_time": "2021-06-21T09:24:15.406Z"
   },
   {
    "duration": 568,
    "start_time": "2021-06-21T09:24:21.934Z"
   },
   {
    "duration": 4,
    "start_time": "2021-06-21T09:28:36.224Z"
   },
   {
    "duration": 26,
    "start_time": "2021-06-21T09:32:18.412Z"
   },
   {
    "duration": 24,
    "start_time": "2021-06-21T09:32:22.104Z"
   },
   {
    "duration": 5,
    "start_time": "2021-06-21T09:32:39.714Z"
   },
   {
    "duration": 5,
    "start_time": "2021-06-21T09:32:43.173Z"
   },
   {
    "duration": 6,
    "start_time": "2021-06-21T09:32:49.366Z"
   },
   {
    "duration": 5,
    "start_time": "2021-06-21T09:32:53.465Z"
   },
   {
    "duration": 6,
    "start_time": "2021-06-21T09:33:00.787Z"
   },
   {
    "duration": 6,
    "start_time": "2021-06-21T09:33:06.268Z"
   },
   {
    "duration": 23,
    "start_time": "2021-06-21T09:33:11.833Z"
   },
   {
    "duration": 23,
    "start_time": "2021-06-21T09:33:16.489Z"
   },
   {
    "duration": 5,
    "start_time": "2021-06-21T09:33:19.405Z"
   },
   {
    "duration": 23,
    "start_time": "2021-06-21T09:34:04.632Z"
   },
   {
    "duration": 6,
    "start_time": "2021-06-21T09:34:09.524Z"
   },
   {
    "duration": 6,
    "start_time": "2021-06-21T09:34:19.066Z"
   },
   {
    "duration": 6,
    "start_time": "2021-06-21T09:34:22.474Z"
   },
   {
    "duration": 5,
    "start_time": "2021-06-21T09:34:26.625Z"
   },
   {
    "duration": 6,
    "start_time": "2021-06-21T09:34:29.716Z"
   },
   {
    "duration": 5,
    "start_time": "2021-06-21T09:34:36.325Z"
   },
   {
    "duration": 5,
    "start_time": "2021-06-21T09:34:39.532Z"
   },
   {
    "duration": 25,
    "start_time": "2021-06-21T09:35:43.011Z"
   },
   {
    "duration": 6,
    "start_time": "2021-06-21T09:35:50.821Z"
   },
   {
    "duration": 26,
    "start_time": "2021-06-21T09:36:59.225Z"
   },
   {
    "duration": 1349,
    "start_time": "2021-06-21T09:37:14.385Z"
   },
   {
    "duration": 47,
    "start_time": "2021-06-21T09:37:15.737Z"
   },
   {
    "duration": 15,
    "start_time": "2021-06-21T09:37:15.787Z"
   },
   {
    "duration": 32,
    "start_time": "2021-06-21T09:37:15.805Z"
   },
   {
    "duration": 94,
    "start_time": "2021-06-21T09:37:15.840Z"
   },
   {
    "duration": 4,
    "start_time": "2021-06-21T09:37:15.936Z"
   },
   {
    "duration": 33,
    "start_time": "2021-06-21T09:37:15.942Z"
   },
   {
    "duration": 14,
    "start_time": "2021-06-21T09:37:15.979Z"
   },
   {
    "duration": 12,
    "start_time": "2021-06-21T09:37:15.996Z"
   },
   {
    "duration": 54,
    "start_time": "2021-06-21T09:37:16.010Z"
   },
   {
    "duration": 23,
    "start_time": "2021-06-21T09:37:16.066Z"
   },
   {
    "duration": 370,
    "start_time": "2021-06-21T09:37:16.091Z"
   },
   {
    "duration": 7,
    "start_time": "2021-06-21T09:37:16.464Z"
   },
   {
    "duration": 574,
    "start_time": "2021-06-21T09:37:16.473Z"
   },
   {
    "duration": 577,
    "start_time": "2021-06-21T09:37:17.049Z"
   },
   {
    "duration": 572,
    "start_time": "2021-06-21T09:37:17.629Z"
   },
   {
    "duration": 357,
    "start_time": "2021-06-21T09:37:18.204Z"
   },
   {
    "duration": 353,
    "start_time": "2021-06-21T09:37:18.564Z"
   },
   {
    "duration": 358,
    "start_time": "2021-06-21T09:37:18.920Z"
   },
   {
    "duration": 340,
    "start_time": "2021-06-21T09:37:19.280Z"
   },
   {
    "duration": 342,
    "start_time": "2021-06-21T09:37:19.623Z"
   },
   {
    "duration": 405,
    "start_time": "2021-06-21T09:37:19.967Z"
   },
   {
    "duration": 648,
    "start_time": "2021-06-21T09:37:20.378Z"
   },
   {
    "duration": 384,
    "start_time": "2021-06-21T09:37:21.029Z"
   },
   {
    "duration": 778,
    "start_time": "2021-06-21T09:37:21.415Z"
   },
   {
    "duration": 765,
    "start_time": "2021-06-21T09:37:22.196Z"
   },
   {
    "duration": 762,
    "start_time": "2021-06-21T09:37:22.963Z"
   },
   {
    "duration": 887,
    "start_time": "2021-06-21T09:37:23.728Z"
   },
   {
    "duration": 893,
    "start_time": "2021-06-21T09:37:24.618Z"
   },
   {
    "duration": 909,
    "start_time": "2021-06-21T09:37:25.513Z"
   },
   {
    "duration": 725,
    "start_time": "2021-06-21T09:37:26.424Z"
   },
   {
    "duration": 710,
    "start_time": "2021-06-21T09:37:27.152Z"
   },
   {
    "duration": 927,
    "start_time": "2021-06-21T09:37:27.865Z"
   },
   {
    "duration": 7,
    "start_time": "2021-06-21T09:37:28.795Z"
   },
   {
    "duration": 8,
    "start_time": "2021-06-21T09:37:28.805Z"
   },
   {
    "duration": 7,
    "start_time": "2021-06-21T09:37:28.815Z"
   },
   {
    "duration": 50,
    "start_time": "2021-06-21T09:37:28.825Z"
   },
   {
    "duration": 15,
    "start_time": "2021-06-21T09:37:28.877Z"
   },
   {
    "duration": 24,
    "start_time": "2021-06-21T09:37:28.895Z"
   },
   {
    "duration": 6,
    "start_time": "2021-06-21T09:37:28.921Z"
   },
   {
    "duration": 17,
    "start_time": "2021-06-21T09:37:28.962Z"
   },
   {
    "duration": 15,
    "start_time": "2021-06-21T09:37:28.982Z"
   },
   {
    "duration": 23,
    "start_time": "2021-06-21T09:37:29.000Z"
   },
   {
    "duration": 5,
    "start_time": "2021-06-21T09:37:29.063Z"
   },
   {
    "duration": 20,
    "start_time": "2021-06-21T09:37:29.070Z"
   },
   {
    "duration": 17,
    "start_time": "2021-06-21T09:37:29.093Z"
   },
   {
    "duration": 62,
    "start_time": "2021-06-21T09:37:29.113Z"
   },
   {
    "duration": 7,
    "start_time": "2021-06-21T09:37:29.177Z"
   },
   {
    "duration": 596,
    "start_time": "2021-06-21T09:37:29.187Z"
   },
   {
    "duration": 15,
    "start_time": "2021-06-21T09:37:29.786Z"
   },
   {
    "duration": 16,
    "start_time": "2021-06-21T09:37:29.804Z"
   },
   {
    "duration": 32,
    "start_time": "2021-06-21T09:45:45.376Z"
   },
   {
    "duration": 30,
    "start_time": "2021-06-21T09:46:40.716Z"
   },
   {
    "duration": 78,
    "start_time": "2021-06-21T09:48:42.324Z"
   },
   {
    "duration": 78,
    "start_time": "2021-06-21T09:49:20.805Z"
   },
   {
    "duration": 4,
    "start_time": "2021-06-21T09:49:29.944Z"
   },
   {
    "duration": 61,
    "start_time": "2021-06-21T09:49:29.960Z"
   },
   {
    "duration": 20,
    "start_time": "2021-06-21T09:49:30.025Z"
   },
   {
    "duration": 34,
    "start_time": "2021-06-21T09:49:30.049Z"
   },
   {
    "duration": 141,
    "start_time": "2021-06-21T09:49:30.087Z"
   },
   {
    "duration": 4,
    "start_time": "2021-06-21T09:49:30.230Z"
   },
   {
    "duration": 38,
    "start_time": "2021-06-21T09:49:30.236Z"
   },
   {
    "duration": 40,
    "start_time": "2021-06-21T09:49:30.278Z"
   },
   {
    "duration": 37,
    "start_time": "2021-06-21T09:49:30.321Z"
   },
   {
    "duration": 46,
    "start_time": "2021-06-21T09:49:30.360Z"
   },
   {
    "duration": 28,
    "start_time": "2021-06-21T09:49:30.409Z"
   },
   {
    "duration": 382,
    "start_time": "2021-06-21T09:49:30.440Z"
   },
   {
    "duration": 7,
    "start_time": "2021-06-21T09:49:30.824Z"
   },
   {
    "duration": 603,
    "start_time": "2021-06-21T09:49:30.834Z"
   },
   {
    "duration": 581,
    "start_time": "2021-06-21T09:49:31.440Z"
   },
   {
    "duration": 565,
    "start_time": "2021-06-21T09:49:32.023Z"
   },
   {
    "duration": 347,
    "start_time": "2021-06-21T09:49:32.590Z"
   },
   {
    "duration": 347,
    "start_time": "2021-06-21T09:49:32.940Z"
   },
   {
    "duration": 342,
    "start_time": "2021-06-21T09:49:33.292Z"
   },
   {
    "duration": 334,
    "start_time": "2021-06-21T09:49:33.637Z"
   },
   {
    "duration": 340,
    "start_time": "2021-06-21T09:49:33.973Z"
   },
   {
    "duration": 422,
    "start_time": "2021-06-21T09:49:34.316Z"
   },
   {
    "duration": 656,
    "start_time": "2021-06-21T09:49:34.740Z"
   },
   {
    "duration": 408,
    "start_time": "2021-06-21T09:49:35.398Z"
   },
   {
    "duration": 822,
    "start_time": "2021-06-21T09:49:35.809Z"
   },
   {
    "duration": 748,
    "start_time": "2021-06-21T09:49:36.634Z"
   },
   {
    "duration": 757,
    "start_time": "2021-06-21T09:49:37.385Z"
   },
   {
    "duration": 774,
    "start_time": "2021-06-21T09:49:38.145Z"
   },
   {
    "duration": 766,
    "start_time": "2021-06-21T09:49:38.921Z"
   },
   {
    "duration": 796,
    "start_time": "2021-06-21T09:49:39.690Z"
   },
   {
    "duration": 775,
    "start_time": "2021-06-21T09:49:40.488Z"
   },
   {
    "duration": 720,
    "start_time": "2021-06-21T09:49:41.266Z"
   },
   {
    "duration": 807,
    "start_time": "2021-06-21T09:49:41.989Z"
   },
   {
    "duration": 7,
    "start_time": "2021-06-21T09:49:42.798Z"
   },
   {
    "duration": 39,
    "start_time": "2021-06-21T09:49:42.807Z"
   },
   {
    "duration": 17,
    "start_time": "2021-06-21T09:49:42.849Z"
   },
   {
    "duration": 24,
    "start_time": "2021-06-21T09:49:42.868Z"
   },
   {
    "duration": 15,
    "start_time": "2021-06-21T09:49:42.895Z"
   },
   {
    "duration": 48,
    "start_time": "2021-06-21T09:49:42.914Z"
   },
   {
    "duration": 7,
    "start_time": "2021-06-21T09:49:42.965Z"
   },
   {
    "duration": 29,
    "start_time": "2021-06-21T09:49:42.975Z"
   },
   {
    "duration": 17,
    "start_time": "2021-06-21T09:49:43.007Z"
   },
   {
    "duration": 59,
    "start_time": "2021-06-21T09:49:43.028Z"
   },
   {
    "duration": 5,
    "start_time": "2021-06-21T09:49:43.090Z"
   },
   {
    "duration": 25,
    "start_time": "2021-06-21T09:49:43.098Z"
   },
   {
    "duration": 51,
    "start_time": "2021-06-21T09:49:43.127Z"
   },
   {
    "duration": 35,
    "start_time": "2021-06-21T09:49:43.181Z"
   },
   {
    "duration": 6,
    "start_time": "2021-06-21T09:49:43.219Z"
   },
   {
    "duration": 820,
    "start_time": "2021-06-21T09:49:43.228Z"
   },
   {
    "duration": 23,
    "start_time": "2021-06-21T09:49:44.051Z"
   },
   {
    "duration": 39,
    "start_time": "2021-06-21T09:49:44.083Z"
   },
   {
    "duration": 527,
    "start_time": "2021-06-21T09:59:39.749Z"
   },
   {
    "duration": 4,
    "start_time": "2021-06-21T10:05:25.778Z"
   },
   {
    "duration": 47,
    "start_time": "2021-06-21T10:05:25.785Z"
   },
   {
    "duration": 31,
    "start_time": "2021-06-21T10:05:25.834Z"
   },
   {
    "duration": 17,
    "start_time": "2021-06-21T10:05:25.868Z"
   },
   {
    "duration": 104,
    "start_time": "2021-06-21T10:05:25.888Z"
   },
   {
    "duration": 6,
    "start_time": "2021-06-21T10:05:25.997Z"
   },
   {
    "duration": 20,
    "start_time": "2021-06-21T10:05:26.006Z"
   },
   {
    "duration": 12,
    "start_time": "2021-06-21T10:05:26.028Z"
   },
   {
    "duration": 5,
    "start_time": "2021-06-21T10:05:26.063Z"
   },
   {
    "duration": 43,
    "start_time": "2021-06-21T10:05:26.071Z"
   },
   {
    "duration": 17,
    "start_time": "2021-06-21T10:05:26.117Z"
   },
   {
    "duration": 375,
    "start_time": "2021-06-21T10:05:26.136Z"
   },
   {
    "duration": 7,
    "start_time": "2021-06-21T10:05:26.514Z"
   },
   {
    "duration": 1403,
    "start_time": "2021-06-21T10:06:18.920Z"
   },
   {
    "duration": 48,
    "start_time": "2021-06-21T10:06:20.325Z"
   },
   {
    "duration": 15,
    "start_time": "2021-06-21T10:06:20.375Z"
   },
   {
    "duration": 22,
    "start_time": "2021-06-21T10:06:20.392Z"
   },
   {
    "duration": 112,
    "start_time": "2021-06-21T10:06:20.417Z"
   },
   {
    "duration": 4,
    "start_time": "2021-06-21T10:06:20.531Z"
   },
   {
    "duration": 34,
    "start_time": "2021-06-21T10:06:20.537Z"
   },
   {
    "duration": 12,
    "start_time": "2021-06-21T10:06:20.575Z"
   },
   {
    "duration": 5,
    "start_time": "2021-06-21T10:06:20.590Z"
   },
   {
    "duration": 67,
    "start_time": "2021-06-21T10:06:20.597Z"
   },
   {
    "duration": 19,
    "start_time": "2021-06-21T10:06:20.666Z"
   },
   {
    "duration": 366,
    "start_time": "2021-06-21T10:06:20.688Z"
   },
   {
    "duration": 12,
    "start_time": "2021-06-21T10:06:21.056Z"
   },
   {
    "duration": 51338,
    "start_time": "2021-06-21T10:06:21.070Z"
   },
   {
    "duration": 577,
    "start_time": "2021-06-21T10:07:12.412Z"
   },
   {
    "duration": 579,
    "start_time": "2021-06-21T10:07:12.992Z"
   },
   {
    "duration": 339,
    "start_time": "2021-06-21T10:07:13.575Z"
   },
   {
    "duration": 340,
    "start_time": "2021-06-21T10:07:13.917Z"
   },
   {
    "duration": 355,
    "start_time": "2021-06-21T10:07:14.259Z"
   },
   {
    "duration": 332,
    "start_time": "2021-06-21T10:07:14.616Z"
   },
   {
    "duration": 1041,
    "start_time": "2021-06-21T10:07:14.950Z"
   },
   {
    "duration": 433,
    "start_time": "2021-06-21T10:07:15.993Z"
   },
   {
    "duration": 654,
    "start_time": "2021-06-21T10:07:16.431Z"
   },
   {
    "duration": 409,
    "start_time": "2021-06-21T10:07:17.088Z"
   },
   {
    "duration": 808,
    "start_time": "2021-06-21T10:07:17.500Z"
   },
   {
    "duration": 884,
    "start_time": "2021-06-21T10:07:18.310Z"
   },
   {
    "duration": 956,
    "start_time": "2021-06-21T10:07:19.197Z"
   },
   {
    "duration": 774,
    "start_time": "2021-06-21T10:07:20.156Z"
   },
   {
    "duration": 769,
    "start_time": "2021-06-21T10:07:20.934Z"
   },
   {
    "duration": 807,
    "start_time": "2021-06-21T10:07:21.706Z"
   },
   {
    "duration": 758,
    "start_time": "2021-06-21T10:07:22.516Z"
   },
   {
    "duration": 798,
    "start_time": "2021-06-21T10:07:23.278Z"
   },
   {
    "duration": 809,
    "start_time": "2021-06-21T10:07:24.079Z"
   },
   {
    "duration": 7,
    "start_time": "2021-06-21T10:07:24.890Z"
   },
   {
    "duration": 8,
    "start_time": "2021-06-21T10:07:24.899Z"
   },
   {
    "duration": 7,
    "start_time": "2021-06-21T10:07:24.910Z"
   },
   {
    "duration": 53,
    "start_time": "2021-06-21T10:07:24.920Z"
   },
   {
    "duration": 17,
    "start_time": "2021-06-21T10:07:24.976Z"
   },
   {
    "duration": 22,
    "start_time": "2021-06-21T10:07:24.995Z"
   },
   {
    "duration": 5,
    "start_time": "2021-06-21T10:07:25.020Z"
   },
   {
    "duration": 24,
    "start_time": "2021-06-21T10:07:25.063Z"
   },
   {
    "duration": 15,
    "start_time": "2021-06-21T10:07:25.089Z"
   },
   {
    "duration": 24,
    "start_time": "2021-06-21T10:07:25.107Z"
   },
   {
    "duration": 30,
    "start_time": "2021-06-21T10:07:25.134Z"
   },
   {
    "duration": 22,
    "start_time": "2021-06-21T10:07:25.167Z"
   },
   {
    "duration": 16,
    "start_time": "2021-06-21T10:07:25.192Z"
   },
   {
    "duration": 57,
    "start_time": "2021-06-21T10:07:25.211Z"
   },
   {
    "duration": 5,
    "start_time": "2021-06-21T10:07:25.270Z"
   },
   {
    "duration": 596,
    "start_time": "2021-06-21T10:07:25.278Z"
   },
   {
    "duration": 14,
    "start_time": "2021-06-21T10:07:25.877Z"
   },
   {
    "duration": 14,
    "start_time": "2021-06-21T10:07:25.894Z"
   },
   {
    "duration": 55016,
    "start_time": "2021-06-21T10:08:21.880Z"
   },
   {
    "duration": 53725,
    "start_time": "2021-06-21T10:11:59.919Z"
   },
   {
    "duration": 53696,
    "start_time": "2021-06-21T10:15:51.572Z"
   },
   {
    "duration": 53205,
    "start_time": "2021-06-21T10:16:58.526Z"
   },
   {
    "duration": 53961,
    "start_time": "2021-06-21T10:17:51.734Z"
   },
   {
    "duration": 1816,
    "start_time": "2021-06-21T10:19:26.634Z"
   },
   {
    "duration": 65,
    "start_time": "2021-06-21T10:19:28.454Z"
   },
   {
    "duration": 20,
    "start_time": "2021-06-21T10:19:28.523Z"
   },
   {
    "duration": 44,
    "start_time": "2021-06-21T10:19:28.547Z"
   },
   {
    "duration": 93,
    "start_time": "2021-06-21T10:19:28.594Z"
   },
   {
    "duration": 4,
    "start_time": "2021-06-21T10:19:28.690Z"
   },
   {
    "duration": 18,
    "start_time": "2021-06-21T10:19:28.696Z"
   },
   {
    "duration": 11,
    "start_time": "2021-06-21T10:19:28.717Z"
   },
   {
    "duration": 32,
    "start_time": "2021-06-21T10:19:28.734Z"
   },
   {
    "duration": 30,
    "start_time": "2021-06-21T10:19:28.771Z"
   },
   {
    "duration": 60,
    "start_time": "2021-06-21T10:19:28.804Z"
   },
   {
    "duration": 365,
    "start_time": "2021-06-21T10:19:28.867Z"
   },
   {
    "duration": 10,
    "start_time": "2021-06-21T10:19:29.236Z"
   },
   {
    "duration": 52606,
    "start_time": "2021-06-21T10:19:29.263Z"
   },
   {
    "duration": 3,
    "start_time": "2021-06-21T10:26:25.035Z"
   },
   {
    "duration": 45,
    "start_time": "2021-06-21T10:26:25.080Z"
   },
   {
    "duration": 16,
    "start_time": "2021-06-21T10:26:25.128Z"
   },
   {
    "duration": 20,
    "start_time": "2021-06-21T10:26:25.147Z"
   },
   {
    "duration": 102,
    "start_time": "2021-06-21T10:26:25.170Z"
   },
   {
    "duration": 5,
    "start_time": "2021-06-21T10:26:25.275Z"
   },
   {
    "duration": 19,
    "start_time": "2021-06-21T10:26:25.282Z"
   },
   {
    "duration": 12,
    "start_time": "2021-06-21T10:26:25.303Z"
   },
   {
    "duration": 47,
    "start_time": "2021-06-21T10:26:25.318Z"
   },
   {
    "duration": 30,
    "start_time": "2021-06-21T10:26:25.369Z"
   },
   {
    "duration": 19,
    "start_time": "2021-06-21T10:26:25.402Z"
   },
   {
    "duration": 441,
    "start_time": "2021-06-21T10:26:25.423Z"
   },
   {
    "duration": 7,
    "start_time": "2021-06-21T10:26:25.867Z"
   },
   {
    "duration": 54972,
    "start_time": "2021-06-21T10:26:25.877Z"
   },
   {
    "duration": 55862,
    "start_time": "2021-06-21T10:27:20.851Z"
   },
   {
    "duration": 54140,
    "start_time": "2021-06-21T10:28:16.717Z"
   },
   {
    "duration": 1061,
    "start_time": "2021-06-21T10:29:10.862Z"
   },
   {
    "duration": 348,
    "start_time": "2021-06-21T10:29:11.930Z"
   },
   {
    "duration": 352,
    "start_time": "2021-06-21T10:29:12.283Z"
   },
   {
    "duration": 334,
    "start_time": "2021-06-21T10:29:12.639Z"
   },
   {
    "duration": 359,
    "start_time": "2021-06-21T10:29:12.976Z"
   },
   {
    "duration": 329,
    "start_time": "2021-06-21T10:29:13.338Z"
   },
   {
    "duration": 660,
    "start_time": "2021-06-21T10:29:13.670Z"
   },
   {
    "duration": 419,
    "start_time": "2021-06-21T10:29:14.332Z"
   },
   {
    "duration": 894,
    "start_time": "2021-06-21T10:29:14.754Z"
   },
   {
    "duration": 861,
    "start_time": "2021-06-21T10:29:15.651Z"
   },
   {
    "duration": 942,
    "start_time": "2021-06-21T10:29:16.514Z"
   },
   {
    "duration": 888,
    "start_time": "2021-06-21T10:29:17.461Z"
   },
   {
    "duration": 877,
    "start_time": "2021-06-21T10:29:18.351Z"
   },
   {
    "duration": 905,
    "start_time": "2021-06-21T10:29:19.231Z"
   },
   {
    "duration": 843,
    "start_time": "2021-06-21T10:29:20.139Z"
   },
   {
    "duration": 799,
    "start_time": "2021-06-21T10:29:20.985Z"
   },
   {
    "duration": 839,
    "start_time": "2021-06-21T10:29:21.787Z"
   },
   {
    "duration": 7,
    "start_time": "2021-06-21T10:29:22.629Z"
   },
   {
    "duration": 26,
    "start_time": "2021-06-21T10:29:22.638Z"
   },
   {
    "duration": 17,
    "start_time": "2021-06-21T10:29:22.667Z"
   },
   {
    "duration": 28,
    "start_time": "2021-06-21T10:29:22.686Z"
   },
   {
    "duration": 18,
    "start_time": "2021-06-21T10:29:22.716Z"
   },
   {
    "duration": 24,
    "start_time": "2021-06-21T10:29:22.761Z"
   },
   {
    "duration": 16,
    "start_time": "2021-06-21T10:29:22.788Z"
   },
   {
    "duration": 35,
    "start_time": "2021-06-21T10:29:22.810Z"
   },
   {
    "duration": 23,
    "start_time": "2021-06-21T10:29:22.864Z"
   },
   {
    "duration": 34,
    "start_time": "2021-06-21T10:29:22.891Z"
   },
   {
    "duration": 34,
    "start_time": "2021-06-21T10:29:22.928Z"
   },
   {
    "duration": 23,
    "start_time": "2021-06-21T10:29:22.966Z"
   },
   {
    "duration": 22,
    "start_time": "2021-06-21T10:29:22.992Z"
   },
   {
    "duration": 58,
    "start_time": "2021-06-21T10:29:23.017Z"
   },
   {
    "duration": 5,
    "start_time": "2021-06-21T10:29:23.078Z"
   },
   {
    "duration": 619,
    "start_time": "2021-06-21T10:29:23.085Z"
   },
   {
    "duration": 18,
    "start_time": "2021-06-21T10:29:23.707Z"
   },
   {
    "duration": 35,
    "start_time": "2021-06-21T10:29:23.728Z"
   },
   {
    "duration": 1330,
    "start_time": "2021-06-21T10:29:47.701Z"
   },
   {
    "duration": 63,
    "start_time": "2021-06-21T10:29:49.033Z"
   },
   {
    "duration": 23,
    "start_time": "2021-06-21T10:29:49.100Z"
   },
   {
    "duration": 50,
    "start_time": "2021-06-21T10:29:49.127Z"
   },
   {
    "duration": 131,
    "start_time": "2021-06-21T10:29:49.181Z"
   },
   {
    "duration": 6,
    "start_time": "2021-06-21T10:29:49.315Z"
   },
   {
    "duration": 39,
    "start_time": "2021-06-21T10:29:49.323Z"
   },
   {
    "duration": 16,
    "start_time": "2021-06-21T10:29:49.368Z"
   },
   {
    "duration": 7,
    "start_time": "2021-06-21T10:29:49.388Z"
   },
   {
    "duration": 66,
    "start_time": "2021-06-21T10:29:49.398Z"
   },
   {
    "duration": 29,
    "start_time": "2021-06-21T10:29:49.467Z"
   },
   {
    "duration": 529,
    "start_time": "2021-06-21T10:29:49.499Z"
   },
   {
    "duration": 9,
    "start_time": "2021-06-21T10:29:50.031Z"
   },
   {
    "duration": 81406,
    "start_time": "2021-06-21T10:29:50.043Z"
   },
   {
    "duration": 69087,
    "start_time": "2021-06-21T10:31:11.452Z"
   },
   {
    "duration": 52714,
    "start_time": "2021-06-21T10:32:20.541Z"
   },
   {
    "duration": 2392,
    "start_time": "2021-06-21T10:33:13.262Z"
   },
   {
    "duration": 345,
    "start_time": "2021-06-21T10:33:15.661Z"
   },
   {
    "duration": 357,
    "start_time": "2021-06-21T10:33:16.009Z"
   },
   {
    "duration": 338,
    "start_time": "2021-06-21T10:33:16.369Z"
   },
   {
    "duration": 338,
    "start_time": "2021-06-21T10:33:16.710Z"
   },
   {
    "duration": 333,
    "start_time": "2021-06-21T10:33:17.051Z"
   },
   {
    "duration": 661,
    "start_time": "2021-06-21T10:33:17.390Z"
   },
   {
    "duration": 419,
    "start_time": "2021-06-21T10:33:18.055Z"
   },
   {
    "duration": 821,
    "start_time": "2021-06-21T10:33:18.477Z"
   },
   {
    "duration": 773,
    "start_time": "2021-06-21T10:33:19.301Z"
   },
   {
    "duration": 762,
    "start_time": "2021-06-21T10:33:20.076Z"
   },
   {
    "duration": 781,
    "start_time": "2021-06-21T10:33:20.840Z"
   },
   {
    "duration": 762,
    "start_time": "2021-06-21T10:33:21.623Z"
   },
   {
    "duration": 817,
    "start_time": "2021-06-21T10:33:22.388Z"
   },
   {
    "duration": 758,
    "start_time": "2021-06-21T10:33:23.208Z"
   },
   {
    "duration": 720,
    "start_time": "2021-06-21T10:33:23.969Z"
   },
   {
    "duration": 787,
    "start_time": "2021-06-21T10:33:24.691Z"
   },
   {
    "duration": 7,
    "start_time": "2021-06-21T10:33:25.480Z"
   },
   {
    "duration": 28,
    "start_time": "2021-06-21T10:33:25.490Z"
   },
   {
    "duration": 13,
    "start_time": "2021-06-21T10:33:25.521Z"
   },
   {
    "duration": 36,
    "start_time": "2021-06-21T10:33:25.536Z"
   },
   {
    "duration": 15,
    "start_time": "2021-06-21T10:33:25.574Z"
   },
   {
    "duration": 29,
    "start_time": "2021-06-21T10:33:25.592Z"
   },
   {
    "duration": 5,
    "start_time": "2021-06-21T10:33:25.623Z"
   },
   {
    "duration": 16,
    "start_time": "2021-06-21T10:33:25.663Z"
   },
   {
    "duration": 14,
    "start_time": "2021-06-21T10:33:25.682Z"
   },
   {
    "duration": 31,
    "start_time": "2021-06-21T10:33:25.699Z"
   },
   {
    "duration": 5,
    "start_time": "2021-06-21T10:33:25.762Z"
   },
   {
    "duration": 20,
    "start_time": "2021-06-21T10:33:25.770Z"
   },
   {
    "duration": 27,
    "start_time": "2021-06-21T10:33:25.793Z"
   },
   {
    "duration": 50,
    "start_time": "2021-06-21T10:33:25.823Z"
   },
   {
    "duration": 7,
    "start_time": "2021-06-21T10:33:25.876Z"
   },
   {
    "duration": 619,
    "start_time": "2021-06-21T10:33:25.886Z"
   },
   {
    "duration": 17,
    "start_time": "2021-06-21T10:33:26.508Z"
   },
   {
    "duration": 44,
    "start_time": "2021-06-21T10:33:26.528Z"
   },
   {
    "duration": 321,
    "start_time": "2021-06-21T10:35:45.813Z"
   },
   {
    "duration": 336,
    "start_time": "2021-06-21T10:35:57.008Z"
   },
   {
    "duration": 329,
    "start_time": "2021-06-21T10:36:09.736Z"
   },
   {
    "duration": 320,
    "start_time": "2021-06-21T10:36:47.689Z"
   },
   {
    "duration": 9326,
    "start_time": "2021-06-21T11:24:18.714Z"
   },
   {
    "duration": 395,
    "start_time": "2021-06-21T11:31:39.733Z"
   },
   {
    "duration": 4896,
    "start_time": "2021-06-21T11:37:11.467Z"
   },
   {
    "duration": 3979,
    "start_time": "2021-06-21T11:38:13.131Z"
   },
   {
    "duration": 2220,
    "start_time": "2021-06-21T11:39:09.322Z"
   },
   {
    "duration": 15864,
    "start_time": "2021-06-21T11:41:27.967Z"
   },
   {
    "duration": 16501,
    "start_time": "2021-06-21T11:43:11.562Z"
   },
   {
    "duration": 7243,
    "start_time": "2021-06-21T11:44:27.610Z"
   },
   {
    "duration": 445,
    "start_time": "2021-06-21T12:20:49.760Z"
   },
   {
    "duration": 339,
    "start_time": "2021-06-21T12:20:56.030Z"
   },
   {
    "duration": 368,
    "start_time": "2021-06-21T12:25:17.748Z"
   },
   {
    "duration": 6,
    "start_time": "2021-06-21T13:47:34.210Z"
   },
   {
    "duration": 9,
    "start_time": "2021-06-21T13:58:34.369Z"
   },
   {
    "duration": 27,
    "start_time": "2021-06-21T13:58:36.448Z"
   },
   {
    "duration": 17,
    "start_time": "2021-06-21T13:58:38.993Z"
   },
   {
    "duration": 30,
    "start_time": "2021-06-21T13:58:59.784Z"
   },
   {
    "duration": 27,
    "start_time": "2021-06-21T14:00:56.650Z"
   },
   {
    "duration": 39,
    "start_time": "2021-06-21T14:02:51.021Z"
   },
   {
    "duration": 115,
    "start_time": "2021-06-21T14:02:58.579Z"
   },
   {
    "duration": 7,
    "start_time": "2021-06-21T14:03:09.493Z"
   },
   {
    "duration": 23,
    "start_time": "2021-06-21T14:03:23.530Z"
   },
   {
    "duration": 1347,
    "start_time": "2021-06-21T14:03:59.701Z"
   },
   {
    "duration": 49,
    "start_time": "2021-06-21T14:04:01.050Z"
   },
   {
    "duration": 14,
    "start_time": "2021-06-21T14:04:01.102Z"
   },
   {
    "duration": 51,
    "start_time": "2021-06-21T14:04:01.119Z"
   },
   {
    "duration": 83,
    "start_time": "2021-06-21T14:04:01.172Z"
   },
   {
    "duration": 5,
    "start_time": "2021-06-21T14:04:01.262Z"
   },
   {
    "duration": 41,
    "start_time": "2021-06-21T14:04:01.269Z"
   },
   {
    "duration": 17,
    "start_time": "2021-06-21T14:04:01.314Z"
   },
   {
    "duration": 16,
    "start_time": "2021-06-21T14:04:01.333Z"
   },
   {
    "duration": 27,
    "start_time": "2021-06-21T14:04:01.351Z"
   },
   {
    "duration": 484,
    "start_time": "2021-06-21T14:04:01.380Z"
   },
   {
    "duration": -678,
    "start_time": "2021-06-21T14:04:02.547Z"
   },
   {
    "duration": -695,
    "start_time": "2021-06-21T14:04:02.565Z"
   },
   {
    "duration": -791,
    "start_time": "2021-06-21T14:04:02.663Z"
   },
   {
    "duration": -816,
    "start_time": "2021-06-21T14:04:02.689Z"
   },
   {
    "duration": -838,
    "start_time": "2021-06-21T14:04:02.713Z"
   },
   {
    "duration": -860,
    "start_time": "2021-06-21T14:04:02.737Z"
   },
   {
    "duration": -900,
    "start_time": "2021-06-21T14:04:02.778Z"
   },
   {
    "duration": -919,
    "start_time": "2021-06-21T14:04:02.799Z"
   },
   {
    "duration": -937,
    "start_time": "2021-06-21T14:04:02.818Z"
   },
   {
    "duration": -957,
    "start_time": "2021-06-21T14:04:02.839Z"
   },
   {
    "duration": -977,
    "start_time": "2021-06-21T14:04:02.861Z"
   },
   {
    "duration": -1016,
    "start_time": "2021-06-21T14:04:02.901Z"
   },
   {
    "duration": -1034,
    "start_time": "2021-06-21T14:04:02.920Z"
   },
   {
    "duration": -1057,
    "start_time": "2021-06-21T14:04:02.945Z"
   },
   {
    "duration": -1076,
    "start_time": "2021-06-21T14:04:02.966Z"
   },
   {
    "duration": -1095,
    "start_time": "2021-06-21T14:04:02.986Z"
   },
   {
    "duration": -1135,
    "start_time": "2021-06-21T14:04:03.027Z"
   },
   {
    "duration": -1153,
    "start_time": "2021-06-21T14:04:03.047Z"
   },
   {
    "duration": -1170,
    "start_time": "2021-06-21T14:04:03.065Z"
   },
   {
    "duration": -1189,
    "start_time": "2021-06-21T14:04:03.086Z"
   },
   {
    "duration": -1206,
    "start_time": "2021-06-21T14:04:03.104Z"
   },
   {
    "duration": -1245,
    "start_time": "2021-06-21T14:04:03.145Z"
   },
   {
    "duration": -1263,
    "start_time": "2021-06-21T14:04:03.164Z"
   },
   {
    "duration": -1282,
    "start_time": "2021-06-21T14:04:03.184Z"
   },
   {
    "duration": -1299,
    "start_time": "2021-06-21T14:04:03.203Z"
   },
   {
    "duration": -1322,
    "start_time": "2021-06-21T14:04:03.227Z"
   },
   {
    "duration": -1303,
    "start_time": "2021-06-21T14:04:03.265Z"
   },
   {
    "duration": -1321,
    "start_time": "2021-06-21T14:04:03.284Z"
   },
   {
    "duration": -1339,
    "start_time": "2021-06-21T14:04:03.304Z"
   },
   {
    "duration": -1361,
    "start_time": "2021-06-21T14:04:03.327Z"
   },
   {
    "duration": -1378,
    "start_time": "2021-06-21T14:04:03.345Z"
   },
   {
    "duration": -1418,
    "start_time": "2021-06-21T14:04:03.387Z"
   },
   {
    "duration": -1436,
    "start_time": "2021-06-21T14:04:03.406Z"
   },
   {
    "duration": -1456,
    "start_time": "2021-06-21T14:04:03.427Z"
   },
   {
    "duration": -1474,
    "start_time": "2021-06-21T14:04:03.446Z"
   },
   {
    "duration": -1493,
    "start_time": "2021-06-21T14:04:03.467Z"
   },
   {
    "duration": -1531,
    "start_time": "2021-06-21T14:04:03.506Z"
   },
   {
    "duration": -1552,
    "start_time": "2021-06-21T14:04:03.529Z"
   },
   {
    "duration": -1570,
    "start_time": "2021-06-21T14:04:03.548Z"
   },
   {
    "duration": -1600,
    "start_time": "2021-06-21T14:04:03.579Z"
   },
   {
    "duration": -1616,
    "start_time": "2021-06-21T14:04:03.597Z"
   },
   {
    "duration": -1653,
    "start_time": "2021-06-21T14:04:03.635Z"
   },
   {
    "duration": -1670,
    "start_time": "2021-06-21T14:04:03.653Z"
   },
   {
    "duration": -1690,
    "start_time": "2021-06-21T14:04:03.675Z"
   },
   {
    "duration": -1708,
    "start_time": "2021-06-21T14:04:03.694Z"
   },
   {
    "duration": -1727,
    "start_time": "2021-06-21T14:04:03.715Z"
   },
   {
    "duration": -1764,
    "start_time": "2021-06-21T14:04:03.753Z"
   },
   {
    "duration": -1785,
    "start_time": "2021-06-21T14:04:03.775Z"
   },
   {
    "duration": 5,
    "start_time": "2021-06-21T14:05:40.979Z"
   },
   {
    "duration": 60,
    "start_time": "2021-06-21T14:05:40.987Z"
   },
   {
    "duration": 13,
    "start_time": "2021-06-21T14:05:41.050Z"
   },
   {
    "duration": 18,
    "start_time": "2021-06-21T14:05:41.066Z"
   },
   {
    "duration": 103,
    "start_time": "2021-06-21T14:05:41.086Z"
   },
   {
    "duration": 4,
    "start_time": "2021-06-21T14:05:41.192Z"
   },
   {
    "duration": 19,
    "start_time": "2021-06-21T14:05:41.198Z"
   },
   {
    "duration": 11,
    "start_time": "2021-06-21T14:05:41.219Z"
   },
   {
    "duration": 6,
    "start_time": "2021-06-21T14:05:41.264Z"
   },
   {
    "duration": 14,
    "start_time": "2021-06-21T14:05:41.273Z"
   },
   {
    "duration": 368,
    "start_time": "2021-06-21T14:05:41.289Z"
   },
   {
    "duration": -1198,
    "start_time": "2021-06-21T14:05:42.858Z"
   },
   {
    "duration": -1218,
    "start_time": "2021-06-21T14:05:42.879Z"
   },
   {
    "duration": -1236,
    "start_time": "2021-06-21T14:05:42.899Z"
   },
   {
    "duration": -1339,
    "start_time": "2021-06-21T14:05:43.003Z"
   },
   {
    "duration": -1365,
    "start_time": "2021-06-21T14:05:43.030Z"
   },
   {
    "duration": -1384,
    "start_time": "2021-06-21T14:05:43.050Z"
   },
   {
    "duration": -1401,
    "start_time": "2021-06-21T14:05:43.069Z"
   },
   {
    "duration": -1422,
    "start_time": "2021-06-21T14:05:43.091Z"
   },
   {
    "duration": -1460,
    "start_time": "2021-06-21T14:05:43.130Z"
   },
   {
    "duration": -1481,
    "start_time": "2021-06-21T14:05:43.153Z"
   },
   {
    "duration": -1498,
    "start_time": "2021-06-21T14:05:43.171Z"
   },
   {
    "duration": -1518,
    "start_time": "2021-06-21T14:05:43.192Z"
   },
   {
    "duration": -1535,
    "start_time": "2021-06-21T14:05:43.210Z"
   },
   {
    "duration": -1577,
    "start_time": "2021-06-21T14:05:43.253Z"
   },
   {
    "duration": -1594,
    "start_time": "2021-06-21T14:05:43.272Z"
   },
   {
    "duration": -1612,
    "start_time": "2021-06-21T14:05:43.291Z"
   },
   {
    "duration": -1631,
    "start_time": "2021-06-21T14:05:43.311Z"
   },
   {
    "duration": -1648,
    "start_time": "2021-06-21T14:05:43.329Z"
   },
   {
    "duration": -1664,
    "start_time": "2021-06-21T14:05:43.347Z"
   },
   {
    "duration": -1705,
    "start_time": "2021-06-21T14:05:43.389Z"
   },
   {
    "duration": -1722,
    "start_time": "2021-06-21T14:05:43.407Z"
   },
   {
    "duration": -1737,
    "start_time": "2021-06-21T14:05:43.424Z"
   },
   {
    "duration": -1755,
    "start_time": "2021-06-21T14:05:43.445Z"
   },
   {
    "duration": -1773,
    "start_time": "2021-06-21T14:05:43.464Z"
   },
   {
    "duration": -1790,
    "start_time": "2021-06-21T14:05:43.482Z"
   },
   {
    "duration": -1829,
    "start_time": "2021-06-21T14:05:43.523Z"
   },
   {
    "duration": -1847,
    "start_time": "2021-06-21T14:05:43.542Z"
   },
   {
    "duration": -1863,
    "start_time": "2021-06-21T14:05:43.560Z"
   },
   {
    "duration": -1884,
    "start_time": "2021-06-21T14:05:43.582Z"
   },
   {
    "duration": -1900,
    "start_time": "2021-06-21T14:05:43.600Z"
   },
   {
    "duration": -1916,
    "start_time": "2021-06-21T14:05:43.618Z"
   },
   {
    "duration": -1953,
    "start_time": "2021-06-21T14:05:43.657Z"
   },
   {
    "duration": -1969,
    "start_time": "2021-06-21T14:05:43.676Z"
   },
   {
    "duration": 15,
    "start_time": "2021-06-21T14:05:41.762Z"
   },
   {
    "duration": 14,
    "start_time": "2021-06-21T14:05:41.779Z"
   },
   {
    "duration": 90,
    "start_time": "2021-06-21T14:05:41.796Z"
   },
   {
    "duration": 7,
    "start_time": "2021-06-21T14:05:41.890Z"
   },
   {
    "duration": 79,
    "start_time": "2021-06-21T14:05:41.901Z"
   },
   {
    "duration": 80,
    "start_time": "2021-06-21T14:05:41.984Z"
   },
   {
    "duration": 31,
    "start_time": "2021-06-21T14:05:42.068Z"
   },
   {
    "duration": 7,
    "start_time": "2021-06-21T14:05:42.102Z"
   },
   {
    "duration": 15,
    "start_time": "2021-06-21T14:05:42.162Z"
   },
   {
    "duration": 15,
    "start_time": "2021-06-21T14:05:42.179Z"
   },
   {
    "duration": 24,
    "start_time": "2021-06-21T14:05:42.197Z"
   },
   {
    "duration": 42,
    "start_time": "2021-06-21T14:05:42.223Z"
   },
   {
    "duration": 587,
    "start_time": "2021-06-21T14:05:42.267Z"
   },
   {
    "duration": 629,
    "start_time": "2021-06-21T14:05:42.858Z"
   },
   {
    "duration": -1523,
    "start_time": "2021-06-21T14:05:45.013Z"
   },
   {
    "duration": 17,
    "start_time": "2021-06-21T14:08:35.695Z"
   },
   {
    "duration": 29,
    "start_time": "2021-06-21T14:08:43.128Z"
   },
   {
    "duration": 17,
    "start_time": "2021-06-21T14:08:46.463Z"
   },
   {
    "duration": 21,
    "start_time": "2021-06-21T14:08:54.608Z"
   },
   {
    "duration": 7720,
    "start_time": "2021-06-21T14:09:34.496Z"
   },
   {
    "duration": 18,
    "start_time": "2021-06-21T14:10:02.057Z"
   },
   {
    "duration": 14,
    "start_time": "2021-06-21T14:10:22.738Z"
   },
   {
    "duration": 19,
    "start_time": "2021-06-21T14:19:44.200Z"
   },
   {
    "duration": 20,
    "start_time": "2021-06-21T14:20:28.576Z"
   },
   {
    "duration": 23,
    "start_time": "2021-06-21T14:20:41.588Z"
   },
   {
    "duration": 1416,
    "start_time": "2021-06-21T14:21:37.917Z"
   },
   {
    "duration": 53,
    "start_time": "2021-06-21T14:21:39.336Z"
   },
   {
    "duration": 18,
    "start_time": "2021-06-21T14:21:39.392Z"
   },
   {
    "duration": 49,
    "start_time": "2021-06-21T14:21:39.413Z"
   },
   {
    "duration": 97,
    "start_time": "2021-06-21T14:21:39.464Z"
   },
   {
    "duration": 4,
    "start_time": "2021-06-21T14:21:39.564Z"
   },
   {
    "duration": 20,
    "start_time": "2021-06-21T14:21:39.571Z"
   },
   {
    "duration": 19,
    "start_time": "2021-06-21T14:21:39.593Z"
   },
   {
    "duration": 15,
    "start_time": "2021-06-21T14:21:39.616Z"
   },
   {
    "duration": 40,
    "start_time": "2021-06-21T14:21:39.634Z"
   },
   {
    "duration": 26,
    "start_time": "2021-06-21T14:21:39.677Z"
   },
   {
    "duration": 23,
    "start_time": "2021-06-21T14:21:39.706Z"
   },
   {
    "duration": 52,
    "start_time": "2021-06-21T14:21:39.731Z"
   },
   {
    "duration": 20,
    "start_time": "2021-06-21T14:21:39.785Z"
   },
   {
    "duration": 32,
    "start_time": "2021-06-21T14:21:39.808Z"
   },
   {
    "duration": 345,
    "start_time": "2021-06-21T14:21:39.862Z"
   },
   {
    "duration": 7,
    "start_time": "2021-06-21T14:21:40.210Z"
   },
   {
    "duration": 56871,
    "start_time": "2021-06-21T14:21:40.220Z"
   },
   {
    "duration": 56839,
    "start_time": "2021-06-21T14:22:37.095Z"
   },
   {
    "duration": 55189,
    "start_time": "2021-06-21T14:23:33.937Z"
   },
   {
    "duration": 2195,
    "start_time": "2021-06-21T14:24:29.129Z"
   },
   {
    "duration": 442,
    "start_time": "2021-06-21T14:24:31.326Z"
   },
   {
    "duration": 347,
    "start_time": "2021-06-21T14:24:31.770Z"
   },
   {
    "duration": 342,
    "start_time": "2021-06-21T14:24:32.120Z"
   },
   {
    "duration": 336,
    "start_time": "2021-06-21T14:24:32.464Z"
   },
   {
    "duration": 347,
    "start_time": "2021-06-21T14:24:32.802Z"
   },
   {
    "duration": 334,
    "start_time": "2021-06-21T14:24:33.155Z"
   },
   {
    "duration": 13289,
    "start_time": "2021-06-21T14:24:33.493Z"
   },
   {
    "duration": 15414,
    "start_time": "2021-06-21T14:24:46.785Z"
   },
   {
    "duration": 10086,
    "start_time": "2021-06-21T14:25:02.202Z"
   },
   {
    "duration": 386,
    "start_time": "2021-06-21T14:25:12.290Z"
   },
   {
    "duration": 752,
    "start_time": "2021-06-21T14:25:12.679Z"
   },
   {
    "duration": 737,
    "start_time": "2021-06-21T14:25:13.434Z"
   },
   {
    "duration": 762,
    "start_time": "2021-06-21T14:25:14.174Z"
   },
   {
    "duration": 800,
    "start_time": "2021-06-21T14:25:14.939Z"
   },
   {
    "duration": 776,
    "start_time": "2021-06-21T14:25:15.742Z"
   },
   {
    "duration": 810,
    "start_time": "2021-06-21T14:25:16.521Z"
   },
   {
    "duration": 774,
    "start_time": "2021-06-21T14:25:17.334Z"
   },
   {
    "duration": 752,
    "start_time": "2021-06-21T14:25:18.111Z"
   },
   {
    "duration": 745,
    "start_time": "2021-06-21T14:25:18.866Z"
   },
   {
    "duration": 9,
    "start_time": "2021-06-21T14:25:19.614Z"
   },
   {
    "duration": 8,
    "start_time": "2021-06-21T14:25:19.626Z"
   },
   {
    "duration": 8,
    "start_time": "2021-06-21T14:25:19.663Z"
   },
   {
    "duration": 17,
    "start_time": "2021-06-21T14:25:19.673Z"
   },
   {
    "duration": 15,
    "start_time": "2021-06-21T14:25:19.692Z"
   },
   {
    "duration": 64,
    "start_time": "2021-06-21T14:25:19.709Z"
   },
   {
    "duration": 5,
    "start_time": "2021-06-21T14:25:19.775Z"
   },
   {
    "duration": 26,
    "start_time": "2021-06-21T14:25:19.783Z"
   },
   {
    "duration": 17,
    "start_time": "2021-06-21T14:25:19.811Z"
   },
   {
    "duration": 55,
    "start_time": "2021-06-21T14:25:19.830Z"
   },
   {
    "duration": 5,
    "start_time": "2021-06-21T14:25:19.888Z"
   },
   {
    "duration": 19,
    "start_time": "2021-06-21T14:25:19.896Z"
   },
   {
    "duration": 45,
    "start_time": "2021-06-21T14:25:19.917Z"
   },
   {
    "duration": 34,
    "start_time": "2021-06-21T14:25:19.965Z"
   },
   {
    "duration": 7,
    "start_time": "2021-06-21T14:25:20.002Z"
   },
   {
    "duration": 819,
    "start_time": "2021-06-21T14:25:20.012Z"
   },
   {
    "duration": 29,
    "start_time": "2021-06-21T14:25:20.834Z"
   },
   {
    "duration": 20,
    "start_time": "2021-06-21T14:25:20.866Z"
   },
   {
    "duration": 42,
    "start_time": "2021-06-21T14:29:31.240Z"
   },
   {
    "duration": 29,
    "start_time": "2021-06-21T14:29:44.689Z"
   },
   {
    "duration": 28,
    "start_time": "2021-06-21T14:32:06.394Z"
   },
   {
    "duration": 19,
    "start_time": "2021-06-21T14:34:48.362Z"
   },
   {
    "duration": 4,
    "start_time": "2021-06-21T14:34:58.723Z"
   },
   {
    "duration": 49,
    "start_time": "2021-06-21T14:34:58.731Z"
   },
   {
    "duration": 14,
    "start_time": "2021-06-21T14:34:58.783Z"
   },
   {
    "duration": 16,
    "start_time": "2021-06-21T14:34:58.799Z"
   },
   {
    "duration": 115,
    "start_time": "2021-06-21T14:34:58.817Z"
   },
   {
    "duration": 5,
    "start_time": "2021-06-21T14:34:58.935Z"
   },
   {
    "duration": 15,
    "start_time": "2021-06-21T14:34:58.962Z"
   },
   {
    "duration": 12,
    "start_time": "2021-06-21T14:34:58.979Z"
   },
   {
    "duration": 7,
    "start_time": "2021-06-21T14:34:58.994Z"
   },
   {
    "duration": 61,
    "start_time": "2021-06-21T14:34:59.003Z"
   },
   {
    "duration": 25,
    "start_time": "2021-06-21T14:34:59.068Z"
   },
   {
    "duration": 20,
    "start_time": "2021-06-21T14:34:59.096Z"
   },
   {
    "duration": 59,
    "start_time": "2021-06-21T14:34:59.118Z"
   },
   {
    "duration": 18,
    "start_time": "2021-06-21T14:34:59.179Z"
   },
   {
    "duration": 24,
    "start_time": "2021-06-21T14:34:59.199Z"
   },
   {
    "duration": 387,
    "start_time": "2021-06-21T14:34:59.262Z"
   },
   {
    "duration": 15,
    "start_time": "2021-06-21T14:34:59.651Z"
   },
   {
    "duration": 57171,
    "start_time": "2021-06-21T14:34:59.668Z"
   },
   {
    "duration": 58369,
    "start_time": "2021-06-21T14:35:56.843Z"
   },
   {
    "duration": 58258,
    "start_time": "2021-06-21T14:36:55.216Z"
   },
   {
    "duration": 3340,
    "start_time": "2021-06-21T14:37:53.477Z"
   },
   {
    "duration": 515,
    "start_time": "2021-06-21T14:37:56.821Z"
   },
   {
    "duration": 523,
    "start_time": "2021-06-21T14:37:57.339Z"
   },
   {
    "duration": 509,
    "start_time": "2021-06-21T14:37:57.865Z"
   },
   {
    "duration": 493,
    "start_time": "2021-06-21T14:37:58.378Z"
   },
   {
    "duration": 518,
    "start_time": "2021-06-21T14:37:58.875Z"
   },
   {
    "duration": 490,
    "start_time": "2021-06-21T14:37:59.396Z"
   },
   {
    "duration": 22200,
    "start_time": "2021-06-21T14:37:59.889Z"
   },
   {
    "duration": 17077,
    "start_time": "2021-06-21T14:38:22.092Z"
   },
   {
    "duration": 7642,
    "start_time": "2021-06-21T14:38:39.172Z"
   },
   {
    "duration": 3224,
    "start_time": "2021-06-21T14:38:46.817Z"
   },
   {
    "duration": 781,
    "start_time": "2021-06-21T14:38:50.043Z"
   },
   {
    "duration": 868,
    "start_time": "2021-06-21T14:38:50.828Z"
   },
   {
    "duration": 837,
    "start_time": "2021-06-21T14:38:51.699Z"
   },
   {
    "duration": 916,
    "start_time": "2021-06-21T14:38:52.539Z"
   },
   {
    "duration": 763,
    "start_time": "2021-06-21T14:38:53.458Z"
   },
   {
    "duration": 891,
    "start_time": "2021-06-21T14:38:54.224Z"
   },
   {
    "duration": 774,
    "start_time": "2021-06-21T14:38:55.117Z"
   },
   {
    "duration": 688,
    "start_time": "2021-06-21T14:38:55.895Z"
   },
   {
    "duration": 1079,
    "start_time": "2021-06-21T14:38:56.586Z"
   },
   {
    "duration": 10,
    "start_time": "2021-06-21T14:38:57.668Z"
   },
   {
    "duration": 9,
    "start_time": "2021-06-21T14:38:57.688Z"
   },
   {
    "duration": 9,
    "start_time": "2021-06-21T14:38:57.701Z"
   },
   {
    "duration": 68,
    "start_time": "2021-06-21T14:38:57.713Z"
   },
   {
    "duration": 16,
    "start_time": "2021-06-21T14:38:57.784Z"
   },
   {
    "duration": 63,
    "start_time": "2021-06-21T14:38:57.803Z"
   },
   {
    "duration": 6,
    "start_time": "2021-06-21T14:38:57.870Z"
   },
   {
    "duration": 34,
    "start_time": "2021-06-21T14:38:57.880Z"
   },
   {
    "duration": 46,
    "start_time": "2021-06-21T14:38:57.917Z"
   },
   {
    "duration": 25,
    "start_time": "2021-06-21T14:38:57.966Z"
   },
   {
    "duration": 5,
    "start_time": "2021-06-21T14:38:57.994Z"
   },
   {
    "duration": 17,
    "start_time": "2021-06-21T14:38:58.002Z"
   },
   {
    "duration": 59,
    "start_time": "2021-06-21T14:38:58.022Z"
   },
   {
    "duration": 32,
    "start_time": "2021-06-21T14:38:58.084Z"
   },
   {
    "duration": 7,
    "start_time": "2021-06-21T14:38:58.119Z"
   },
   {
    "duration": 625,
    "start_time": "2021-06-21T14:38:58.163Z"
   },
   {
    "duration": 15,
    "start_time": "2021-06-21T14:38:58.791Z"
   },
   {
    "duration": 20,
    "start_time": "2021-06-21T14:38:58.808Z"
   },
   {
    "duration": 503,
    "start_time": "2021-06-21T15:40:01.642Z"
   },
   {
    "duration": 1613,
    "start_time": "2021-06-21T15:42:18.474Z"
   },
   {
    "duration": 63,
    "start_time": "2021-06-21T15:42:20.090Z"
   },
   {
    "duration": 22,
    "start_time": "2021-06-21T15:42:20.157Z"
   },
   {
    "duration": 37,
    "start_time": "2021-06-21T15:42:20.182Z"
   },
   {
    "duration": 144,
    "start_time": "2021-06-21T15:42:20.222Z"
   },
   {
    "duration": 6,
    "start_time": "2021-06-21T15:42:20.369Z"
   },
   {
    "duration": 18,
    "start_time": "2021-06-21T15:42:20.378Z"
   },
   {
    "duration": 11,
    "start_time": "2021-06-21T15:42:20.400Z"
   },
   {
    "duration": 11,
    "start_time": "2021-06-21T15:42:20.414Z"
   },
   {
    "duration": 45,
    "start_time": "2021-06-21T15:42:20.427Z"
   },
   {
    "duration": 27,
    "start_time": "2021-06-21T15:42:20.476Z"
   },
   {
    "duration": 19,
    "start_time": "2021-06-21T15:42:20.506Z"
   },
   {
    "duration": 61,
    "start_time": "2021-06-21T15:42:20.528Z"
   },
   {
    "duration": 17,
    "start_time": "2021-06-21T15:42:20.592Z"
   },
   {
    "duration": 23,
    "start_time": "2021-06-21T15:42:20.612Z"
   },
   {
    "duration": 362,
    "start_time": "2021-06-21T15:42:20.667Z"
   },
   {
    "duration": 8,
    "start_time": "2021-06-21T15:42:21.032Z"
   },
   {
    "duration": 55065,
    "start_time": "2021-06-21T15:42:21.043Z"
   },
   {
    "duration": 55820,
    "start_time": "2021-06-21T15:43:16.110Z"
   },
   {
    "duration": 58222,
    "start_time": "2021-06-21T15:44:11.933Z"
   },
   {
    "duration": 2420,
    "start_time": "2021-06-21T15:45:10.158Z"
   },
   {
    "duration": 516,
    "start_time": "2021-06-21T15:45:12.581Z"
   },
   {
    "duration": 518,
    "start_time": "2021-06-21T15:45:13.106Z"
   },
   {
    "duration": 495,
    "start_time": "2021-06-21T15:45:13.629Z"
   },
   {
    "duration": 361,
    "start_time": "2021-06-21T15:45:14.127Z"
   },
   {
    "duration": 383,
    "start_time": "2021-06-21T15:45:14.491Z"
   },
   {
    "duration": 402,
    "start_time": "2021-06-21T15:45:14.877Z"
   },
   {
    "duration": 14558,
    "start_time": "2021-06-21T15:45:15.282Z"
   },
   {
    "duration": 16573,
    "start_time": "2021-06-21T15:45:29.842Z"
   },
   {
    "duration": 9556,
    "start_time": "2021-06-21T15:45:46.419Z"
   },
   {
    "duration": 388,
    "start_time": "2021-06-21T15:45:55.977Z"
   },
   {
    "duration": 1091,
    "start_time": "2021-06-21T15:45:56.368Z"
   },
   {
    "duration": 907,
    "start_time": "2021-06-21T15:45:57.462Z"
   },
   {
    "duration": 895,
    "start_time": "2021-06-21T15:45:58.374Z"
   },
   {
    "duration": 909,
    "start_time": "2021-06-21T15:45:59.274Z"
   },
   {
    "duration": 867,
    "start_time": "2021-06-21T15:46:00.186Z"
   },
   {
    "duration": 866,
    "start_time": "2021-06-21T15:46:01.063Z"
   },
   {
    "duration": 817,
    "start_time": "2021-06-21T15:46:01.932Z"
   },
   {
    "duration": 895,
    "start_time": "2021-06-21T15:46:02.752Z"
   },
   {
    "duration": 969,
    "start_time": "2021-06-21T15:46:03.651Z"
   },
   {
    "duration": 1737,
    "start_time": "2021-06-21T16:56:41.687Z"
   },
   {
    "duration": 50,
    "start_time": "2021-06-21T16:56:43.426Z"
   },
   {
    "duration": 13,
    "start_time": "2021-06-21T16:56:43.479Z"
   },
   {
    "duration": 27,
    "start_time": "2021-06-21T16:56:43.495Z"
   },
   {
    "duration": 107,
    "start_time": "2021-06-21T16:56:43.525Z"
   },
   {
    "duration": 4,
    "start_time": "2021-06-21T16:56:43.634Z"
   },
   {
    "duration": 32,
    "start_time": "2021-06-21T16:56:43.640Z"
   },
   {
    "duration": 12,
    "start_time": "2021-06-21T16:56:43.675Z"
   },
   {
    "duration": 25,
    "start_time": "2021-06-21T16:56:43.690Z"
   },
   {
    "duration": 31,
    "start_time": "2021-06-21T16:56:43.717Z"
   },
   {
    "duration": 34,
    "start_time": "2021-06-21T16:56:43.750Z"
   },
   {
    "duration": 22,
    "start_time": "2021-06-21T16:56:43.786Z"
   },
   {
    "duration": 54,
    "start_time": "2021-06-21T16:56:43.811Z"
   },
   {
    "duration": 18,
    "start_time": "2021-06-21T16:56:43.868Z"
   },
   {
    "duration": 48,
    "start_time": "2021-06-21T16:56:43.888Z"
   },
   {
    "duration": 357,
    "start_time": "2021-06-21T16:56:43.938Z"
   },
   {
    "duration": 8,
    "start_time": "2021-06-21T16:56:44.297Z"
   },
   {
    "duration": 53519,
    "start_time": "2021-06-21T16:58:31.491Z"
   },
   {
    "duration": 2366,
    "start_time": "2021-06-21T16:59:25.012Z"
   },
   {
    "duration": 354,
    "start_time": "2021-06-21T16:59:27.380Z"
   },
   {
    "duration": 365,
    "start_time": "2021-06-21T16:59:27.740Z"
   },
   {
    "duration": 357,
    "start_time": "2021-06-21T16:59:28.109Z"
   },
   {
    "duration": 492,
    "start_time": "2021-06-21T16:59:28.469Z"
   },
   {
    "duration": 518,
    "start_time": "2021-06-21T16:59:28.965Z"
   },
   {
    "duration": 485,
    "start_time": "2021-06-21T16:59:29.486Z"
   },
   {
    "duration": 21974,
    "start_time": "2021-06-21T16:59:29.974Z"
   },
   {
    "duration": 17314,
    "start_time": "2021-06-21T16:59:51.951Z"
   },
   {
    "duration": 9618,
    "start_time": "2021-06-21T17:00:09.268Z"
   },
   {
    "duration": 385,
    "start_time": "2021-06-21T17:00:18.889Z"
   },
   {
    "duration": 746,
    "start_time": "2021-06-21T17:00:19.276Z"
   },
   {
    "duration": 741,
    "start_time": "2021-06-21T17:00:20.025Z"
   },
   {
    "duration": 767,
    "start_time": "2021-06-21T17:00:20.769Z"
   },
   {
    "duration": 794,
    "start_time": "2021-06-21T17:00:21.539Z"
   },
   {
    "duration": 889,
    "start_time": "2021-06-21T17:00:22.337Z"
   },
   {
    "duration": 903,
    "start_time": "2021-06-21T17:00:23.228Z"
   },
   {
    "duration": 898,
    "start_time": "2021-06-21T17:00:24.134Z"
   },
   {
    "duration": 875,
    "start_time": "2021-06-21T17:00:25.035Z"
   },
   {
    "duration": 910,
    "start_time": "2021-06-21T17:00:25.913Z"
   },
   {
    "duration": 7,
    "start_time": "2021-06-21T17:00:26.826Z"
   },
   {
    "duration": 30,
    "start_time": "2021-06-21T17:00:26.835Z"
   },
   {
    "duration": 7,
    "start_time": "2021-06-21T17:00:26.868Z"
   },
   {
    "duration": 19,
    "start_time": "2021-06-21T17:00:26.877Z"
   },
   {
    "duration": 16,
    "start_time": "2021-06-21T17:00:26.898Z"
   },
   {
    "duration": 66,
    "start_time": "2021-06-21T17:00:26.916Z"
   },
   {
    "duration": 5,
    "start_time": "2021-06-21T17:00:26.984Z"
   },
   {
    "duration": 21,
    "start_time": "2021-06-21T17:00:26.991Z"
   },
   {
    "duration": 48,
    "start_time": "2021-06-21T17:00:27.015Z"
   },
   {
    "duration": 24,
    "start_time": "2021-06-21T17:00:27.066Z"
   },
   {
    "duration": 5,
    "start_time": "2021-06-21T17:00:27.092Z"
   },
   {
    "duration": 23,
    "start_time": "2021-06-21T17:00:27.100Z"
   },
   {
    "duration": 44,
    "start_time": "2021-06-21T17:00:27.125Z"
   },
   {
    "duration": 23,
    "start_time": "2021-06-21T17:00:27.172Z"
   },
   {
    "duration": 6,
    "start_time": "2021-06-21T17:00:27.197Z"
   },
   {
    "duration": 592,
    "start_time": "2021-06-21T17:00:27.205Z"
   },
   {
    "duration": 14,
    "start_time": "2021-06-21T17:00:27.800Z"
   },
   {
    "duration": 16,
    "start_time": "2021-06-21T17:00:27.817Z"
   },
   {
    "duration": 764,
    "start_time": "2021-06-21T17:05:14.465Z"
   },
   {
    "duration": 749,
    "start_time": "2021-06-21T17:05:51.225Z"
   },
   {
    "duration": 723,
    "start_time": "2021-06-21T17:06:13.714Z"
   },
   {
    "duration": 835,
    "start_time": "2021-06-21T17:06:32.730Z"
   },
   {
    "duration": 745,
    "start_time": "2021-06-21T17:06:50.298Z"
   },
   {
    "duration": 780,
    "start_time": "2021-06-21T17:07:13.961Z"
   },
   {
    "duration": 816,
    "start_time": "2021-06-21T17:07:23.512Z"
   },
   {
    "duration": 765,
    "start_time": "2021-06-21T17:07:41.185Z"
   },
   {
    "duration": 772,
    "start_time": "2021-06-21T17:07:55.353Z"
   },
   {
    "duration": 789,
    "start_time": "2021-06-21T17:08:06.650Z"
   }
  ],
  "kernelspec": {
   "display_name": "Python 3",
   "language": "python",
   "name": "python3"
  },
  "language_info": {
   "codemirror_mode": {
    "name": "ipython",
    "version": 3
   },
   "file_extension": ".py",
   "mimetype": "text/x-python",
   "name": "python",
   "nbconvert_exporter": "python",
   "pygments_lexer": "ipython3",
   "version": "3.8.5"
  },
  "toc": {
   "base_numbering": 1,
   "nav_menu": {},
   "number_sections": true,
   "sideBar": true,
   "skip_h1_title": true,
   "title_cell": "Table of Contents",
   "title_sidebar": "Contents",
   "toc_cell": false,
   "toc_position": {},
   "toc_section_display": true,
   "toc_window_display": false
  }
 },
 "nbformat": 4,
 "nbformat_minor": 2
}
