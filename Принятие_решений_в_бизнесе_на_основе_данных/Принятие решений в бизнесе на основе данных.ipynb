{
 "cells": [
  {
   "cell_type": "markdown",
   "metadata": {},
   "source": [
    "### Проверка гипотез по увеличению выручки в интернет-магазине — оценить результаты A/B теста."
   ]
  },
  {
   "cell_type": "markdown",
   "metadata": {},
   "source": [
    "### План проекта\n",
    " \n",
    "1.[Приоритизация гипотез](#cell1)\n",
    "\n",
    "2.[Анализ A/B-теста](#cell2)"
   ]
  },
  {
   "cell_type": "code",
   "execution_count": 1,
   "metadata": {},
   "outputs": [],
   "source": [
    "import pandas as pd\n",
    "pd.set_option('max_columns',None)\n",
    "import datetime as dt\n",
    "import numpy as np\n",
    "import matplotlib.pyplot as plt\n",
    "import scipy.stats as stats"
   ]
  },
  {
   "cell_type": "code",
   "execution_count": 2,
   "metadata": {},
   "outputs": [
    {
     "data": {
      "text/html": [
       "<div>\n",
       "<style scoped>\n",
       "    .dataframe tbody tr th:only-of-type {\n",
       "        vertical-align: middle;\n",
       "    }\n",
       "\n",
       "    .dataframe tbody tr th {\n",
       "        vertical-align: top;\n",
       "    }\n",
       "\n",
       "    .dataframe thead th {\n",
       "        text-align: right;\n",
       "    }\n",
       "</style>\n",
       "<table border=\"1\" class=\"dataframe\">\n",
       "  <thead>\n",
       "    <tr style=\"text-align: right;\">\n",
       "      <th></th>\n",
       "      <th>Hypothesis</th>\n",
       "      <th>Reach</th>\n",
       "      <th>Impact</th>\n",
       "      <th>Confidence</th>\n",
       "      <th>Efforts</th>\n",
       "    </tr>\n",
       "  </thead>\n",
       "  <tbody>\n",
       "    <tr>\n",
       "      <td>0</td>\n",
       "      <td>Добавить два новых канала привлечения трафика,...</td>\n",
       "      <td>3</td>\n",
       "      <td>10</td>\n",
       "      <td>8</td>\n",
       "      <td>6</td>\n",
       "    </tr>\n",
       "    <tr>\n",
       "      <td>1</td>\n",
       "      <td>Запустить собственную службу доставки, что сок...</td>\n",
       "      <td>2</td>\n",
       "      <td>5</td>\n",
       "      <td>4</td>\n",
       "      <td>10</td>\n",
       "    </tr>\n",
       "    <tr>\n",
       "      <td>2</td>\n",
       "      <td>Добавить блоки рекомендаций товаров на сайт ин...</td>\n",
       "      <td>8</td>\n",
       "      <td>3</td>\n",
       "      <td>7</td>\n",
       "      <td>3</td>\n",
       "    </tr>\n",
       "    <tr>\n",
       "      <td>3</td>\n",
       "      <td>Изменить структура категорий, что увеличит кон...</td>\n",
       "      <td>8</td>\n",
       "      <td>3</td>\n",
       "      <td>3</td>\n",
       "      <td>8</td>\n",
       "    </tr>\n",
       "    <tr>\n",
       "      <td>4</td>\n",
       "      <td>Изменить цвет фона главной страницы, чтобы уве...</td>\n",
       "      <td>3</td>\n",
       "      <td>1</td>\n",
       "      <td>1</td>\n",
       "      <td>1</td>\n",
       "    </tr>\n",
       "  </tbody>\n",
       "</table>\n",
       "</div>"
      ],
      "text/plain": [
       "                                          Hypothesis  Reach  Impact  \\\n",
       "0  Добавить два новых канала привлечения трафика,...      3      10   \n",
       "1  Запустить собственную службу доставки, что сок...      2       5   \n",
       "2  Добавить блоки рекомендаций товаров на сайт ин...      8       3   \n",
       "3  Изменить структура категорий, что увеличит кон...      8       3   \n",
       "4  Изменить цвет фона главной страницы, чтобы уве...      3       1   \n",
       "\n",
       "   Confidence  Efforts  \n",
       "0           8        6  \n",
       "1           4       10  \n",
       "2           7        3  \n",
       "3           3        8  \n",
       "4           1        1  "
      ]
     },
     "metadata": {},
     "output_type": "display_data"
    }
   ],
   "source": [
    "hypothesis = pd.read_csv('/datasets/hypothesis.csv')\n",
    "display(hypothesis.head())"
   ]
  },
  {
   "cell_type": "markdown",
   "metadata": {},
   "source": [
    "4.1 Применил фреймворк ICE для приоритизации гипотез. Отсортировал их по убыванию приоритета."
   ]
  },
  {
   "cell_type": "code",
   "execution_count": 3,
   "metadata": {},
   "outputs": [
    {
     "data": {
      "text/html": [
       "<div>\n",
       "<style scoped>\n",
       "    .dataframe tbody tr th:only-of-type {\n",
       "        vertical-align: middle;\n",
       "    }\n",
       "\n",
       "    .dataframe tbody tr th {\n",
       "        vertical-align: top;\n",
       "    }\n",
       "\n",
       "    .dataframe thead th {\n",
       "        text-align: right;\n",
       "    }\n",
       "</style>\n",
       "<table border=\"1\" class=\"dataframe\">\n",
       "  <thead>\n",
       "    <tr style=\"text-align: right;\">\n",
       "      <th></th>\n",
       "      <th>Hypothesis</th>\n",
       "      <th>ICE</th>\n",
       "    </tr>\n",
       "  </thead>\n",
       "  <tbody>\n",
       "    <tr>\n",
       "      <td>8</td>\n",
       "      <td>Запустить акцию, дающую скидку на товар в день...</td>\n",
       "      <td>16.0</td>\n",
       "    </tr>\n",
       "    <tr>\n",
       "      <td>0</td>\n",
       "      <td>Добавить два новых канала привлечения трафика,...</td>\n",
       "      <td>13.0</td>\n",
       "    </tr>\n",
       "    <tr>\n",
       "      <td>7</td>\n",
       "      <td>Добавить форму подписки на все основные страни...</td>\n",
       "      <td>11.0</td>\n",
       "    </tr>\n",
       "    <tr>\n",
       "      <td>6</td>\n",
       "      <td>Показать на главной странице баннеры с актуаль...</td>\n",
       "      <td>8.0</td>\n",
       "    </tr>\n",
       "    <tr>\n",
       "      <td>2</td>\n",
       "      <td>Добавить блоки рекомендаций товаров на сайт ин...</td>\n",
       "      <td>7.0</td>\n",
       "    </tr>\n",
       "    <tr>\n",
       "      <td>1</td>\n",
       "      <td>Запустить собственную службу доставки, что сок...</td>\n",
       "      <td>2.0</td>\n",
       "    </tr>\n",
       "    <tr>\n",
       "      <td>3</td>\n",
       "      <td>Изменить структура категорий, что увеличит кон...</td>\n",
       "      <td>1.0</td>\n",
       "    </tr>\n",
       "    <tr>\n",
       "      <td>4</td>\n",
       "      <td>Изменить цвет фона главной страницы, чтобы уве...</td>\n",
       "      <td>1.0</td>\n",
       "    </tr>\n",
       "    <tr>\n",
       "      <td>5</td>\n",
       "      <td>Добавить страницу отзывов клиентов о магазине,...</td>\n",
       "      <td>1.0</td>\n",
       "    </tr>\n",
       "  </tbody>\n",
       "</table>\n",
       "</div>"
      ],
      "text/plain": [
       "                                          Hypothesis   ICE\n",
       "8  Запустить акцию, дающую скидку на товар в день...  16.0\n",
       "0  Добавить два новых канала привлечения трафика,...  13.0\n",
       "7  Добавить форму подписки на все основные страни...  11.0\n",
       "6  Показать на главной странице баннеры с актуаль...   8.0\n",
       "2  Добавить блоки рекомендаций товаров на сайт ин...   7.0\n",
       "1  Запустить собственную службу доставки, что сок...   2.0\n",
       "3  Изменить структура категорий, что увеличит кон...   1.0\n",
       "4  Изменить цвет фона главной страницы, чтобы уве...   1.0\n",
       "5  Добавить страницу отзывов клиентов о магазине,...   1.0"
      ]
     },
     "metadata": {},
     "output_type": "display_data"
    }
   ],
   "source": [
    "hypothesis['ICE'] = (((hypothesis['Impact'] * hypothesis['Confidence']) / hypothesis['Efforts']))\n",
    "hypothesis['ICE'] = hypothesis['ICE'].round(0)\n",
    "display(hypothesis[['Hypothesis', 'ICE']].sort_values(by=['ICE'], ascending=False))"
   ]
  },
  {
   "cell_type": "code",
   "execution_count": 4,
   "metadata": {},
   "outputs": [
    {
     "data": {
      "image/png": "[encoded data removed]",
      "text/plain": [
       "<Figure size 1080x360 with 1 Axes>"
      ]
     },
     "metadata": {
      "needs_background": "light"
     },
     "output_type": "display_data"
    }
   ],
   "source": [
    "hypothesis.pivot_table(values='ICE', index='Hypothesis').plot.bar(grid=True, figsize=(15, 5), title='ICE');\n",
    "#plt.update_xaxes(tickangle=45)\n",
    "plt.show;"
   ]
  },
  {
   "cell_type": "markdown",
   "metadata": {},
   "source": [
    "4.2 Применил фреймворк RICE для приоритизации гипотез. Отсортировал их по убыванию приоритета."
   ]
  },
  {
   "cell_type": "code",
   "execution_count": 5,
   "metadata": {},
   "outputs": [
    {
     "data": {
      "text/html": [
       "<div>\n",
       "<style scoped>\n",
       "    .dataframe tbody tr th:only-of-type {\n",
       "        vertical-align: middle;\n",
       "    }\n",
       "\n",
       "    .dataframe tbody tr th {\n",
       "        vertical-align: top;\n",
       "    }\n",
       "\n",
       "    .dataframe thead th {\n",
       "        text-align: right;\n",
       "    }\n",
       "</style>\n",
       "<table border=\"1\" class=\"dataframe\">\n",
       "  <thead>\n",
       "    <tr style=\"text-align: right;\">\n",
       "      <th></th>\n",
       "      <th>Hypothesis</th>\n",
       "      <th>RICE</th>\n",
       "    </tr>\n",
       "  </thead>\n",
       "  <tbody>\n",
       "    <tr>\n",
       "      <td>7</td>\n",
       "      <td>Добавить форму подписки на все основные страни...</td>\n",
       "      <td>112.0</td>\n",
       "    </tr>\n",
       "    <tr>\n",
       "      <td>2</td>\n",
       "      <td>Добавить блоки рекомендаций товаров на сайт ин...</td>\n",
       "      <td>56.0</td>\n",
       "    </tr>\n",
       "    <tr>\n",
       "      <td>0</td>\n",
       "      <td>Добавить два новых канала привлечения трафика,...</td>\n",
       "      <td>40.0</td>\n",
       "    </tr>\n",
       "    <tr>\n",
       "      <td>6</td>\n",
       "      <td>Показать на главной странице баннеры с актуаль...</td>\n",
       "      <td>40.0</td>\n",
       "    </tr>\n",
       "    <tr>\n",
       "      <td>8</td>\n",
       "      <td>Запустить акцию, дающую скидку на товар в день...</td>\n",
       "      <td>16.2</td>\n",
       "    </tr>\n",
       "    <tr>\n",
       "      <td>3</td>\n",
       "      <td>Изменить структура категорий, что увеличит кон...</td>\n",
       "      <td>9.0</td>\n",
       "    </tr>\n",
       "    <tr>\n",
       "      <td>1</td>\n",
       "      <td>Запустить собственную службу доставки, что сок...</td>\n",
       "      <td>4.0</td>\n",
       "    </tr>\n",
       "    <tr>\n",
       "      <td>5</td>\n",
       "      <td>Добавить страницу отзывов клиентов о магазине,...</td>\n",
       "      <td>4.0</td>\n",
       "    </tr>\n",
       "    <tr>\n",
       "      <td>4</td>\n",
       "      <td>Изменить цвет фона главной страницы, чтобы уве...</td>\n",
       "      <td>3.0</td>\n",
       "    </tr>\n",
       "  </tbody>\n",
       "</table>\n",
       "</div>"
      ],
      "text/plain": [
       "                                          Hypothesis   RICE\n",
       "7  Добавить форму подписки на все основные страни...  112.0\n",
       "2  Добавить блоки рекомендаций товаров на сайт ин...   56.0\n",
       "0  Добавить два новых канала привлечения трафика,...   40.0\n",
       "6  Показать на главной странице баннеры с актуаль...   40.0\n",
       "8  Запустить акцию, дающую скидку на товар в день...   16.2\n",
       "3  Изменить структура категорий, что увеличит кон...    9.0\n",
       "1  Запустить собственную службу доставки, что сок...    4.0\n",
       "5  Добавить страницу отзывов клиентов о магазине,...    4.0\n",
       "4  Изменить цвет фона главной страницы, чтобы уве...    3.0"
      ]
     },
     "metadata": {},
     "output_type": "display_data"
    }
   ],
   "source": [
    "hypothesis['RICE'] = (((hypothesis['Reach'] * hypothesis['Impact'] * hypothesis['Confidence']) / hypothesis['Efforts']))\n",
    "display(hypothesis[['Hypothesis', 'RICE']].sort_values(by=['RICE'], ascending=False))"
   ]
  },
  {
   "cell_type": "code",
   "execution_count": 6,
   "metadata": {},
   "outputs": [
    {
     "data": {
      "image/png": "[encoded data removed]",
      "text/plain": [
       "<Figure size 1080x360 with 1 Axes>"
      ]
     },
     "metadata": {
      "needs_background": "light"
     },
     "output_type": "display_data"
    }
   ],
   "source": [
    "hypothesis.pivot_table(values='RICE', index='Hypothesis').plot.bar(grid=True, figsize=(15, 5), title='RICE');\n",
    "plt.show;"
   ]
  },
  {
   "cell_type": "markdown",
   "metadata": {},
   "source": [
    "Вывод: Фреймворк RICE состоит из четырёх компонентов, к компонентам ICE impact,confidence,efforts добавляется reach — скольких пользователей затронет изменение, которое мы хотим внести. Добавление компанента reach повлияло на измение приоритезации."
   ]
  },
  {
   "cell_type": "markdown",
   "metadata": {},
   "source": [
    "### Анализ A/B-теста\n",
    "<a id='cell2'></a>"
   ]
  },
  {
   "cell_type": "markdown",
   "metadata": {},
   "source": [
    "Вы провели A/B-тест и получили результаты, которые описаны в файлах /datasets/orders.csv и /datasets/visitors.csv.\n",
    "\n",
    "Задача\n",
    "\n",
    "* Проанализируйте A/B-тест:\n",
    "1. Постройте график кумулятивной выручки по группам. Сделайте выводы и предположения.***\n",
    "2. Постройте график кумулятивного среднего чека по группам. Сделайте выводы и предположения.***\n",
    "3. Постройте график относительного изменения кумулятивного среднего чека группы B к группе A. Сделайте выводы и предположения.***\n",
    "4. Постройте график кумулятивной конверсии по группам. Сделайте выводы и предположения.***\n",
    "5. Постройте график относительного изменения кумулятивной конверсии группы B к группе A. Сделайте выводы и предположения.***\n",
    "6. Постройте точечный график количества заказов по пользователям. Сделайте выводы и предположения.***\n",
    "7. Посчитайте 95-й и 99-й перцентили количества заказов на пользователя. Выберите границу для определения аномальных пользователей.***\n",
    "8. Постройте точечный график стоимостей заказов. Сделайте выводы и предположения.***\n",
    "9. Посчитайте 95-й и 99-й перцентили стоимости заказов. Выберите границу для определения аномальных заказов.***\n",
    "10. Посчитайте статистическую значимость различий в конверсии между группами по «сырым» данным. Сделайте выводы и предположения.***\n",
    "11. Посчитайте статистическую значимость различий в среднем чеке заказа между группами по «сырым» данным. Сделайте выводы и предположения.***\n",
    "12. Посчитайте статистическую значимость различий в конверсии между группами по «очищенным» данным. Сделайте выводы и предположения.***\n",
    "13. Посчитайте статистическую значимость различий в среднем чеке заказа между группами по «очищенным» данным. Сделайте выводы и предположения.***\n",
    "14. Примите решение по результатам теста и объясните его. Варианты решений: 1. Остановить тест, зафиксировать победу одной из групп. 2. Остановить тест, зафиксировать отсутствие различий между группами. 3. Продолжить тест.***"
   ]
  },
  {
   "cell_type": "code",
   "execution_count": 7,
   "metadata": {},
   "outputs": [
    {
     "data": {
      "text/html": [
       "<div>\n",
       "<style scoped>\n",
       "    .dataframe tbody tr th:only-of-type {\n",
       "        vertical-align: middle;\n",
       "    }\n",
       "\n",
       "    .dataframe tbody tr th {\n",
       "        vertical-align: top;\n",
       "    }\n",
       "\n",
       "    .dataframe thead th {\n",
       "        text-align: right;\n",
       "    }\n",
       "</style>\n",
       "<table border=\"1\" class=\"dataframe\">\n",
       "  <thead>\n",
       "    <tr style=\"text-align: right;\">\n",
       "      <th></th>\n",
       "      <th>transactionId</th>\n",
       "      <th>visitorId</th>\n",
       "      <th>date</th>\n",
       "      <th>revenue</th>\n",
       "      <th>group</th>\n",
       "    </tr>\n",
       "  </thead>\n",
       "  <tbody>\n",
       "    <tr>\n",
       "      <td>0</td>\n",
       "      <td>3667963787</td>\n",
       "      <td>3312258926</td>\n",
       "      <td>2019-08-15</td>\n",
       "      <td>1650</td>\n",
       "      <td>B</td>\n",
       "    </tr>\n",
       "    <tr>\n",
       "      <td>1</td>\n",
       "      <td>2804400009</td>\n",
       "      <td>3642806036</td>\n",
       "      <td>2019-08-15</td>\n",
       "      <td>730</td>\n",
       "      <td>B</td>\n",
       "    </tr>\n",
       "    <tr>\n",
       "      <td>2</td>\n",
       "      <td>2961555356</td>\n",
       "      <td>4069496402</td>\n",
       "      <td>2019-08-15</td>\n",
       "      <td>400</td>\n",
       "      <td>A</td>\n",
       "    </tr>\n",
       "    <tr>\n",
       "      <td>3</td>\n",
       "      <td>3797467345</td>\n",
       "      <td>1196621759</td>\n",
       "      <td>2019-08-15</td>\n",
       "      <td>9759</td>\n",
       "      <td>B</td>\n",
       "    </tr>\n",
       "    <tr>\n",
       "      <td>4</td>\n",
       "      <td>2282983706</td>\n",
       "      <td>2322279887</td>\n",
       "      <td>2019-08-15</td>\n",
       "      <td>2308</td>\n",
       "      <td>B</td>\n",
       "    </tr>\n",
       "  </tbody>\n",
       "</table>\n",
       "</div>"
      ],
      "text/plain": [
       "   transactionId   visitorId       date  revenue group\n",
       "0     3667963787  3312258926 2019-08-15     1650     B\n",
       "1     2804400009  3642806036 2019-08-15      730     B\n",
       "2     2961555356  4069496402 2019-08-15      400     A\n",
       "3     3797467345  1196621759 2019-08-15     9759     B\n",
       "4     2282983706  2322279887 2019-08-15     2308     B"
      ]
     },
     "metadata": {},
     "output_type": "display_data"
    }
   ],
   "source": [
    "orders = pd.read_csv('/datasets/orders.csv', sep=',')\n",
    "orders['date'] = orders['date'].map(lambda x: dt.datetime.strptime(x, '%Y-%m-%d'))\n",
    "display(orders.head())"
   ]
  },
  {
   "cell_type": "code",
   "execution_count": 8,
   "metadata": {},
   "outputs": [
    {
     "data": {
      "text/html": [
       "<div>\n",
       "<style scoped>\n",
       "    .dataframe tbody tr th:only-of-type {\n",
       "        vertical-align: middle;\n",
       "    }\n",
       "\n",
       "    .dataframe tbody tr th {\n",
       "        vertical-align: top;\n",
       "    }\n",
       "\n",
       "    .dataframe thead th {\n",
       "        text-align: right;\n",
       "    }\n",
       "</style>\n",
       "<table border=\"1\" class=\"dataframe\">\n",
       "  <thead>\n",
       "    <tr style=\"text-align: right;\">\n",
       "      <th></th>\n",
       "      <th>date</th>\n",
       "      <th>group</th>\n",
       "      <th>visitors</th>\n",
       "    </tr>\n",
       "  </thead>\n",
       "  <tbody>\n",
       "    <tr>\n",
       "      <td>0</td>\n",
       "      <td>2019-08-01</td>\n",
       "      <td>A</td>\n",
       "      <td>719</td>\n",
       "    </tr>\n",
       "    <tr>\n",
       "      <td>1</td>\n",
       "      <td>2019-08-02</td>\n",
       "      <td>A</td>\n",
       "      <td>619</td>\n",
       "    </tr>\n",
       "    <tr>\n",
       "      <td>2</td>\n",
       "      <td>2019-08-03</td>\n",
       "      <td>A</td>\n",
       "      <td>507</td>\n",
       "    </tr>\n",
       "    <tr>\n",
       "      <td>3</td>\n",
       "      <td>2019-08-04</td>\n",
       "      <td>A</td>\n",
       "      <td>717</td>\n",
       "    </tr>\n",
       "    <tr>\n",
       "      <td>4</td>\n",
       "      <td>2019-08-05</td>\n",
       "      <td>A</td>\n",
       "      <td>756</td>\n",
       "    </tr>\n",
       "  </tbody>\n",
       "</table>\n",
       "</div>"
      ],
      "text/plain": [
       "        date group  visitors\n",
       "0 2019-08-01     A       719\n",
       "1 2019-08-02     A       619\n",
       "2 2019-08-03     A       507\n",
       "3 2019-08-04     A       717\n",
       "4 2019-08-05     A       756"
      ]
     },
     "metadata": {},
     "output_type": "display_data"
    }
   ],
   "source": [
    "visitors = pd.read_csv('/datasets/visitors.csv', sep=',')\n",
    "visitors['date'] = visitors['date'].map(lambda x: dt.datetime.strptime(x, '%Y-%m-%d'))\n",
    "display(visitors.head())"
   ]
  },
  {
   "cell_type": "markdown",
   "metadata": {},
   "source": [
    "5.1 Построил график кумулятивной выручки по группам. Сделал выводы и предположения."
   ]
  },
  {
   "cell_type": "code",
   "execution_count": 9,
   "metadata": {},
   "outputs": [
    {
     "name": "stdout",
     "output_type": "stream",
     "text": [
      "        date group  orders  revenue  visitors\n",
      "0 2019-08-01     A      20   148579       719\n",
      "1 2019-08-01     B      20   101217       713\n",
      "2 2019-08-02     A      38   242401      1338\n",
      "3 2019-08-02     B      43   266748      1294\n",
      "4 2019-08-03     A      62   354874      1845\n"
     ]
    }
   ],
   "source": [
    "datesGroups = orders[['date','group']].drop_duplicates() \n",
    "\n",
    "ordersAggregated = datesGroups.apply(lambda x: orders[np.logical_and(orders['date'] <= x['date'], orders['group'] == x['group'])]\\\n",
    ".agg({'date' : 'max', 'group' : 'max', 'visitorId' : pd.Series.nunique, 'visitorId' : pd.Series.nunique, 'revenue' : 'sum'}), axis=1).sort_values(by=['date','group'])\n",
    "\n",
    "visitorsAggregated = datesGroups.apply(lambda x: visitors[np.logical_and(visitors['date'] <= x['date'], visitors['group'] == x['group'])].agg({'date' : 'max', 'group' : 'max', 'visitors' : 'sum'}), axis=1).sort_values(by=['date','group'])\n",
    "\n",
    "cumulativeData = ordersAggregated.merge(visitorsAggregated, left_on=['date', 'group'], right_on=['date', 'group'])\n",
    "cumulativeData.columns = ['date', 'group', 'orders', 'revenue', 'visitors']\n",
    "\n",
    "print(cumulativeData.head(5)) "
   ]
  },
  {
   "cell_type": "code",
   "execution_count": 10,
   "metadata": {},
   "outputs": [
    {
     "data": {
      "image/png": "[encoded data removed]",
      "text/plain": [
       "<Figure size 1080x720 with 1 Axes>"
      ]
     },
     "metadata": {
      "needs_background": "light"
     },
     "output_type": "display_data"
    }
   ],
   "source": [
    "# датафрейм с кумулятивным количеством заказов и кумулятивной выручкой по дням в группе А\n",
    "cumulativeRevenueA = cumulativeData[cumulativeData['group']=='A'][['date','revenue', 'orders']]\n",
    "\n",
    "# датафрейм с кумулятивным количеством заказов и кумулятивной выручкой по дням в группе B\n",
    "cumulativeRevenueB = cumulativeData[cumulativeData['group']=='B'][['date','revenue', 'orders']]\n",
    "\n",
    "plt.figure(figsize=(15,10))\n",
    "\n",
    "# Строим график выручки группы А\n",
    "plt.plot(cumulativeRevenueA['date'], cumulativeRevenueA['revenue'], label='A');\n",
    "\n",
    "# Строим график выручки группы B\n",
    "plt.plot(cumulativeRevenueB['date'], cumulativeRevenueB['revenue'], label='B');\n",
    "plt.legend();\n",
    "plt.axis([\"2019-08-01\", '2019-08-29', 0, 6000000]);"
   ]
  },
  {
   "cell_type": "markdown",
   "metadata": {},
   "source": [
    "Вывод: Сегмент B лидирует на протяжении всего временного интервала, а с определенного момента резко возрастает и вырывается вперед еще больше, такому всплеску посбособствовали крупные заказы."
   ]
  },
  {
   "cell_type": "markdown",
   "metadata": {},
   "source": [
    "5.2 Построил график кумулятивного среднего чека по группам. Сделал выводы и предположения."
   ]
  },
  {
   "cell_type": "code",
   "execution_count": 11,
   "metadata": {},
   "outputs": [
    {
     "data": {
      "image/png": "[encoded data removed]",
      "text/plain": [
       "<Figure size 1080x720 with 1 Axes>"
      ]
     },
     "metadata": {
      "needs_background": "light"
     },
     "output_type": "display_data"
    }
   ],
   "source": [
    "cumulativeRevenueA = cumulativeData[cumulativeData['group'] == 'A'][\n",
    "    ['date', 'revenue', 'orders']\n",
    "]\n",
    "cumulativeRevenueB = cumulativeData[cumulativeData['group'] == 'B'][\n",
    "    ['date', 'revenue', 'orders']\n",
    "]\n",
    "\n",
    "plt.figure(figsize=(15,10))\n",
    "\n",
    "plt.plot(cumulativeRevenueA['date'], cumulativeRevenueA['revenue']/cumulativeRevenueA['orders'], label='A')\n",
    "plt.plot(cumulativeRevenueB['date'], cumulativeRevenueB['revenue']/cumulativeRevenueB['orders'], label='B')\n",
    "plt.legend();\n",
    "plt.axis([\"2019-08-01\", '2019-08-29', 5000, 11000]);"
   ]
  },
  {
   "cell_type": "markdown",
   "metadata": {},
   "source": [
    "Вывод: Кумулятивное среднее по сегментам колеблется, результаты искажены, необходим анализ выбросов."
   ]
  },
  {
   "cell_type": "markdown",
   "metadata": {},
   "source": [
    "5.3 Построил график относительного изменения кумулятивного среднего чека группы B к группе A. Сделал выводы и предположения."
   ]
  },
  {
   "cell_type": "code",
   "execution_count": 12,
   "metadata": {},
   "outputs": [
    {
     "data": {
      "image/png": "[encoded data removed]",
      "text/plain": [
       "<Figure size 1080x720 with 1 Axes>"
      ]
     },
     "metadata": {
      "needs_background": "light"
     },
     "output_type": "display_data"
    }
   ],
   "source": [
    "cumulativeRevenueA = cumulativeData[cumulativeData['group'] == 'A'][\n",
    "    ['date', 'revenue', 'orders']\n",
    "]\n",
    "cumulativeRevenueB = cumulativeData[cumulativeData['group'] == 'B'][\n",
    "    ['date', 'revenue', 'orders']\n",
    "]\n",
    "\n",
    "plt.figure(figsize=(15,10))\n",
    "\n",
    "# собираем данные в одном датафрейме\n",
    "mergedCumulativeRevenue = cumulativeRevenueA.merge(cumulativeRevenueB, left_on='date', right_on='date', how='left', suffixes=['A', 'B'])\n",
    "\n",
    "# cтроим отношение средних чеков\n",
    "plt.plot(mergedCumulativeRevenue['date'], (mergedCumulativeRevenue['revenueB']/mergedCumulativeRevenue['ordersB'])/(mergedCumulativeRevenue['revenueA']/mergedCumulativeRevenue['ordersA'])-1)\n",
    "\n",
    "plt.axhline(y=0, color='black', linestyle='--');"
   ]
  },
  {
   "cell_type": "markdown",
   "metadata": {},
   "source": [
    "Вывод: Результаты теста довольно резко меняются по нескольким датам, видимо это даты совершения аномальных заказов."
   ]
  },
  {
   "cell_type": "markdown",
   "metadata": {},
   "source": [
    "5.4 Построил график кумулятивной конверсии по группам. Сделал выводы и предположения."
   ]
  },
  {
   "cell_type": "code",
   "execution_count": 13,
   "metadata": {},
   "outputs": [
    {
     "data": {
      "image/png": "[encoded data removed]",
      "text/plain": [
       "<Figure size 1080x720 with 1 Axes>"
      ]
     },
     "metadata": {
      "needs_background": "light"
     },
     "output_type": "display_data"
    }
   ],
   "source": [
    "cumulativeData['conversion'] = cumulativeData['orders']/cumulativeData['visitors']\n",
    "\n",
    "# отделяем данные по группе A\n",
    "cumulativeDataA = cumulativeData[cumulativeData['group']=='A']\n",
    "\n",
    "# отделяем данные по группе B\n",
    "cumulativeDataB = cumulativeData[cumulativeData['group']=='B']\n",
    "\n",
    "plt.figure(figsize=(15,10))\n",
    "\n",
    "plt.plot(cumulativeDataA['date'], cumulativeDataA['conversion'], label='A')\n",
    "plt.plot(cumulativeDataB['date'], cumulativeDataB['conversion'], label='B')\n",
    "plt.legend()\n",
    "\n",
    "plt.axis([\"2019-08-01\", '2019-08-29', 0.025, 0.035]);"
   ]
  },
  {
   "cell_type": "markdown",
   "metadata": {},
   "source": [
    "Вывод: Сегмент B имеет большую конверсию."
   ]
  },
  {
   "cell_type": "markdown",
   "metadata": {},
   "source": [
    "5.5 Построил график относительного изменения кумулятивной конверсии группы B к группе A. Сделал выводы и предположения."
   ]
  },
  {
   "cell_type": "code",
   "execution_count": 14,
   "metadata": {},
   "outputs": [
    {
     "data": {
      "image/png": "[encoded data removed]",
      "text/plain": [
       "<Figure size 1080x720 with 1 Axes>"
      ]
     },
     "metadata": {
      "needs_background": "light"
     },
     "output_type": "display_data"
    }
   ],
   "source": [
    "#cumulativeData['conversion'] = cumulativeData['orders']/cumulativeData['visitors']\n",
    "cumulativeDataA = cumulativeData[cumulativeData['group'] == 'A']\n",
    "cumulativeDataB = cumulativeData[cumulativeData['group'] == 'B']\n",
    "\n",
    "mergedCumulativeConversions = cumulativeDataA[['date','conversion']].merge(cumulativeDataB[['date','conversion']], left_on='date', right_on='date', how='left', suffixes=['A', 'B'])\n",
    "\n",
    "plt.figure(figsize=(15,10))\n",
    "\n",
    "plt.plot(mergedCumulativeConversions['date'], mergedCumulativeConversions['conversionB']/mergedCumulativeConversions['conversionA']-1, label=\"Относительный прирост конверсии группы B относительно группы A\")\n",
    "plt.legend()\n",
    "\n",
    "plt.axhline(y=0, color='black', linestyle='--')\n",
    "plt.axhline(y=0.2, color='grey', linestyle='--')\n",
    "plt.axis([\"2019-08-01\", '2019-08-29', -0.1, 0.3]);"
   ]
  },
  {
   "cell_type": "markdown",
   "metadata": {},
   "source": [
    "Вывод:Тест группа B значительно выигрывает группу A. У тест группы B было падение, но затем она снова вырвалась."
   ]
  },
  {
   "cell_type": "markdown",
   "metadata": {},
   "source": [
    "5.6 Построил точечный график количества заказов по пользователям. Сделал выводы и предположения."
   ]
  },
  {
   "cell_type": "code",
   "execution_count": 15,
   "metadata": {},
   "outputs": [
    {
     "name": "stdout",
     "output_type": "stream",
     "text": [
      "       visitorId  orders\n",
      "1023  4256040402      11\n",
      "591   2458001652      11\n",
      "569   2378935119       9\n",
      "487   2038680547       8\n",
      "44     199603092       5\n",
      "744   3062433592       5\n",
      "55     237748145       5\n",
      "917   3803269165       5\n",
      "299   1230306981       5\n",
      "897   3717692402       5\n"
     ]
    }
   ],
   "source": [
    "ordersByUsers = (\n",
    "    orders.drop(['group', 'revenue', 'date'], axis=1)\n",
    "    .groupby('visitorId', as_index=False)\n",
    "    .agg({'transactionId': pd.Series.nunique})\n",
    ")\n",
    "\n",
    "ordersByUsers.columns = ['visitorId', 'orders']\n",
    "\n",
    "print(ordersByUsers.sort_values(by='orders', ascending=False).head(10)) "
   ]
  },
  {
   "cell_type": "code",
   "execution_count": 16,
   "metadata": {},
   "outputs": [
    {
     "data": {
      "image/png": "[encoded data removed]",
      "text/plain": [
       "<Figure size 432x288 with 1 Axes>"
      ]
     },
     "metadata": {
      "needs_background": "light"
     },
     "output_type": "display_data"
    }
   ],
   "source": [
    "n_orders = pd.Series(range(0,len(ordersByUsers)))\n",
    "plt.scatter(n_orders, ordersByUsers['orders']);"
   ]
  },
  {
   "cell_type": "markdown",
   "metadata": {},
   "source": [
    "5.7 Посчитал 95-й и 99-й перцентили количества заказов на пользователя. Выбрал границу для определения аномальных пользователей."
   ]
  },
  {
   "cell_type": "code",
   "execution_count": 17,
   "metadata": {},
   "outputs": [
    {
     "name": "stdout",
     "output_type": "stream",
     "text": [
      "[2. 4.]\n"
     ]
    }
   ],
   "source": [
    "print(np.percentile(ordersByUsers['orders'], [95, 99]))"
   ]
  },
  {
   "cell_type": "markdown",
   "metadata": {},
   "source": [
    "Вывод: Не более 5% людей совершают свыше 2 заказов, и не более 1% свыше 4 заказов. На графике видны аномальные выбросы свыше 10 заказов."
   ]
  },
  {
   "cell_type": "markdown",
   "metadata": {},
   "source": [
    "5.8 Построил точечный график стоимостей заказов. Сделал выводы и предположения."
   ]
  },
  {
   "cell_type": "code",
   "execution_count": 18,
   "metadata": {},
   "outputs": [
    {
     "data": {
      "image/png": "[encoded data removed]",
      "text/plain": [
       "<Figure size 432x288 with 1 Axes>"
      ]
     },
     "metadata": {
      "needs_background": "light"
     },
     "output_type": "display_data"
    }
   ],
   "source": [
    "n_revenue = pd.Series(range(0,len(orders['revenue'])))\n",
    "plt.scatter(n_revenue, orders['revenue']);"
   ]
  },
  {
   "cell_type": "markdown",
   "metadata": {},
   "source": [
    "5.9 Посчитал 95-й и 99-й перцентили стоимости заказов. Выберал границу для определения аномальных заказов."
   ]
  },
  {
   "cell_type": "code",
   "execution_count": 19,
   "metadata": {},
   "outputs": [
    {
     "name": "stdout",
     "output_type": "stream",
     "text": [
      "[28000.  58233.2]\n"
     ]
    }
   ],
   "source": [
    "print(np.percentile(orders['revenue'], [95, 99]))"
   ]
  },
  {
   "cell_type": "markdown",
   "metadata": {},
   "source": [
    "Вывод: Не более 5% людей совершают покупку дороже 28000, и не более 1% дороже 58233.2. На графике видны аномальные выбросы.\n",
    "\n",
    "Примем за аномальных пользователей тех, кто совершил от 4 заказов или совершил заказ дороже 28 000 рублей. Так мы уберём 5% пользователей с наибольшим числом заказов и от 1% до 5% пользователей с дорогими заказами."
   ]
  },
  {
   "cell_type": "markdown",
   "metadata": {},
   "source": [
    "5.10 Посчитал статистическую значимость различий в конверсии между группами по «сырым» данным. Сделал выводы и предположения.\n",
    "\n",
    "H0 - Cтатистически значимых различий в конверсии между группами нет.\n",
    "\n",
    "Ha - Есть статистически значимые различия в конверсии между группами.\n",
    "\n",
    "Предварительно-\n",
    "* Оценили результаты A/B-теста визуально и выяснили, что в данных, скорее всего, есть выбросы;\n",
    "* Увидели выбросы и нашли границу для их определения.\n",
    "\n",
    "Метод , который будем применять для A/B-тестирования, это метод st.mannwhitneyu(),(U-критерий Манна-Уитни)."
   ]
  },
  {
   "cell_type": "code",
   "execution_count": 20,
   "metadata": {},
   "outputs": [
    {
     "name": "stdout",
     "output_type": "stream",
     "text": [
      "        date  ordersPerDateA  revenuePerDateA  ordersPerDateB  \\\n",
      "0 2019-08-01              24           148579              21   \n",
      "1 2019-08-02              20            93822              24   \n",
      "2 2019-08-03              24           112473              16   \n",
      "3 2019-08-04              16            70825              17   \n",
      "4 2019-08-05              25           124218              23   \n",
      "\n",
      "   revenuePerDateB  ordersCummulativeA  revenueCummulativeA  \\\n",
      "0           101217                  24               148579   \n",
      "1           165531                  44               242401   \n",
      "2           114248                  68               354874   \n",
      "3           108571                  84               425699   \n",
      "4            92428                 109               549917   \n",
      "\n",
      "   ordersCummulativeB  revenueCummulativeB  visitorsPerDateA  \\\n",
      "0                  21               101217               719   \n",
      "1                  45               266748               619   \n",
      "2                  61               380996               507   \n",
      "3                  78               489567               717   \n",
      "4                 101               581995               756   \n",
      "\n",
      "   visitorsPerDateB  visitorsCummulativeA  visitorsCummulativeB  \n",
      "0               713                   719                   713  \n",
      "1               581                  1338                  1294  \n",
      "2               509                  1845                  1803  \n",
      "3               770                  2562                  2573  \n",
      "4               707                  3318                  3280  \n"
     ]
    }
   ],
   "source": [
    "visitorsADaily = visitors[visitors['group'] == 'A'][['date', 'visitors']]\n",
    "visitorsADaily.columns = ['date', 'visitorsPerDateA']\n",
    "\n",
    "visitorsACummulative = visitorsADaily.apply(\n",
    "    lambda x: visitorsADaily[visitorsADaily['date'] <= x['date']].agg(\n",
    "        {'date': 'max', 'visitorsPerDateA': 'sum'}\n",
    "    ),\n",
    "    axis=1,\n",
    ")\n",
    "visitorsACummulative.columns = ['date', 'visitorsCummulativeA']\n",
    "\n",
    "visitorsBDaily = visitors[visitors['group'] == 'B'][['date', 'visitors']]\n",
    "visitorsBDaily.columns = ['date', 'visitorsPerDateB']\n",
    "\n",
    "visitorsBCummulative = visitorsBDaily.apply(\n",
    "    lambda x: visitorsBDaily[visitorsBDaily['date'] <= x['date']].agg(\n",
    "        {'date': 'max', 'visitorsPerDateB': 'sum'}\n",
    "    ),\n",
    "    axis=1,\n",
    ")\n",
    "visitorsBCummulative.columns = ['date', 'visitorsCummulativeB']\n",
    "\n",
    "ordersADaily = (\n",
    "    orders[orders['group'] == 'A'][['date', 'transactionId', 'visitorId', 'revenue']]\n",
    "    .groupby('date', as_index=False)\n",
    "    .agg({'transactionId': pd.Series.nunique, 'revenue': 'sum'})\n",
    ")\n",
    "ordersADaily.columns = ['date', 'ordersPerDateA', 'revenuePerDateA']\n",
    "\n",
    "ordersACummulative = ordersADaily.apply(\n",
    "    lambda x: ordersADaily[ordersADaily['date'] <= x['date']].agg(\n",
    "        {'date': 'max', 'ordersPerDateA': 'sum', 'revenuePerDateA': 'sum'}\n",
    "    ),\n",
    "    axis=1,\n",
    ").sort_values(by=['date'])\n",
    "ordersACummulative.columns = [\n",
    "    'date',\n",
    "    'ordersCummulativeA',\n",
    "    'revenueCummulativeA',\n",
    "]\n",
    "\n",
    "ordersBDaily = (\n",
    "    orders[orders['group'] == 'B'][['date', 'transactionId', 'visitorId', 'revenue']]\n",
    "    .groupby('date', as_index=False)\n",
    "    .agg({'transactionId': pd.Series.nunique, 'revenue': 'sum'})\n",
    ")\n",
    "ordersBDaily.columns = ['date', 'ordersPerDateB', 'revenuePerDateB']\n",
    "\n",
    "ordersBCummulative = ordersBDaily.apply(\n",
    "    lambda x: ordersBDaily[ordersBDaily['date'] <= x['date']].agg(\n",
    "        {'date': 'max', 'ordersPerDateB': 'sum', 'revenuePerDateB': 'sum'}\n",
    "    ),\n",
    "    axis=1,\n",
    ").sort_values(by=['date'])\n",
    "ordersBCummulative.columns = [\n",
    "    'date',\n",
    "    'ordersCummulativeB',\n",
    "    'revenueCummulativeB',\n",
    "]\n",
    "\n",
    "data = (\n",
    "    ordersADaily.merge(\n",
    "        ordersBDaily, left_on='date', right_on='date', how='left'\n",
    "    )\n",
    "    .merge(ordersACummulative, left_on='date', right_on='date', how='left')\n",
    "    .merge(ordersBCummulative, left_on='date', right_on='date', how='left')\n",
    "    .merge(visitorsADaily, left_on='date', right_on='date', how='left')\n",
    "    .merge(visitorsBDaily, left_on='date', right_on='date', how='left')\n",
    "    .merge(visitorsACummulative, left_on='date', right_on='date', how='left')\n",
    "    .merge(visitorsBCummulative, left_on='date', right_on='date', how='left')\n",
    ")\n",
    "\n",
    "print(data.head(5)) "
   ]
  },
  {
   "cell_type": "code",
   "execution_count": 21,
   "metadata": {},
   "outputs": [],
   "source": [
    "ordersByUsersA = (\n",
    "    orders[orders['group'] == 'A']\n",
    "    .groupby('visitorId', as_index=False)\n",
    "    .agg({'transactionId': pd.Series.nunique})\n",
    ")\n",
    "ordersByUsersA.columns = ['visitorId', 'orders']\n",
    "\n",
    "ordersByUsersB = (\n",
    "    orders[orders['group'] == 'B']\n",
    "    .groupby('visitorId', as_index=False)\n",
    "    .agg({'transactionId': pd.Series.nunique})\n",
    ")\n",
    "ordersByUsersB.columns = ['visitorId', 'orders']"
   ]
  },
  {
   "cell_type": "code",
   "execution_count": 22,
   "metadata": {},
   "outputs": [],
   "source": [
    "pd.Series(0, index=np.arange(data['visitorsPerDateA'].sum() - len(ordersByUsersA['orders'])), name='orders')\n",
    " \n",
    "sampleA = pd.concat([ordersByUsersA['orders'],pd.Series(0, index=np.arange(data['visitorsPerDateA'].sum() - len(ordersByUsersA['orders'])), name='orders')],axis=0)\n",
    "\n",
    "sampleB = pd.concat([ordersByUsersB['orders'],pd.Series(0, index=np.arange(data['visitorsPerDateB'].sum() - len(ordersByUsersB['orders'])), name='orders')],axis=0)"
   ]
  },
  {
   "cell_type": "code",
   "execution_count": 23,
   "metadata": {},
   "outputs": [
    {
     "name": "stdout",
     "output_type": "stream",
     "text": [
      "0.008\n",
      "0.138\n"
     ]
    }
   ],
   "source": [
    "ordersByUsersA = (\n",
    "    orders[orders['group'] == 'A']\n",
    "    .groupby('visitorId', as_index=False)\n",
    "    .agg({'transactionId': pd.Series.nunique})\n",
    ")\n",
    "ordersByUsersA.columns = ['userId', 'orders']\n",
    "\n",
    "ordersByUsersB = (\n",
    "    orders[orders['group'] == 'B']\n",
    "    .groupby('visitorId', as_index=False)\n",
    "    .agg({'transactionId': pd.Series.nunique})\n",
    ")\n",
    "ordersByUsersB.columns = ['visitorId', 'orders']\n",
    "\n",
    "sampleA = pd.concat(\n",
    "    [\n",
    "        ordersByUsersA['orders'],\n",
    "        pd.Series(\n",
    "            0,\n",
    "            index=np.arange(\n",
    "                data['visitorsPerDateA'].sum() - len(ordersByUsersA['orders'])\n",
    "            ),\n",
    "            name='orders',\n",
    "        ),\n",
    "    ],\n",
    "    axis=0,\n",
    ")\n",
    "\n",
    "sampleB = pd.concat(\n",
    "    [\n",
    "        ordersByUsersB['orders'],\n",
    "        pd.Series(\n",
    "            0,\n",
    "            index=np.arange(\n",
    "                data['visitorsPerDateB'].sum() - len(ordersByUsersB['orders'])\n",
    "            ),\n",
    "            name='orders',\n",
    "        ),\n",
    "    ],\n",
    "    axis=0,\n",
    ")\n",
    "\n",
    "print(\"{0:.3f}\".format(stats.mannwhitneyu(sampleA, sampleB)[1]))\n",
    "\n",
    "print(\"{0:.3f}\".format(sampleB.mean() / sampleA.mean() - 1))\n"
   ]
  },
  {
   "cell_type": "markdown",
   "metadata": {},
   "source": [
    "Вывод: p-value меньше 0.05 поэтому отвергаем нулевую гипотезу, отностиельный прирост конверсии группы B к группе A равен 13,8 %.Анализ 'сырых данных' сообщает,что в конверсии между группами есть статистически значимые различия."
   ]
  },
  {
   "cell_type": "markdown",
   "metadata": {},
   "source": [
    "5.11 Посчитал статистическую значимость различий в среднем чеке заказа между группами по «сырым» данным. Сделал выводы и предположения.\n",
    "\n",
    "H0 - Cтатистически значимых различий в среднем чеке между группами нет.\n",
    "\n",
    "Ha - Есть статистически значимые различия в среднем чеке между группами."
   ]
  },
  {
   "cell_type": "code",
   "execution_count": 24,
   "metadata": {},
   "outputs": [
    {
     "name": "stdout",
     "output_type": "stream",
     "text": [
      "0.365\n",
      "0.259\n"
     ]
    }
   ],
   "source": [
    "print('{0:.3f}'.format(stats.mannwhitneyu(orders[orders['group']=='A']['revenue'], orders[orders['group']=='B']['revenue'])[1]))\n",
    "print('{0:.3f}'.format(orders[orders['group']=='B']['revenue'].mean()/orders[orders['group']=='A']['revenue'].mean()-1))"
   ]
  },
  {
   "cell_type": "markdown",
   "metadata": {},
   "source": [
    "Вывод: p-value больше 0.05 статистически значимых отличий в среднем чеке между группами нет. Относительное различие среднего чека между сегментами 25,9 %"
   ]
  },
  {
   "cell_type": "code",
   "execution_count": 25,
   "metadata": {},
   "outputs": [
    {
     "data": {
      "text/html": [
       "<div>\n",
       "<style scoped>\n",
       "    .dataframe tbody tr th:only-of-type {\n",
       "        vertical-align: middle;\n",
       "    }\n",
       "\n",
       "    .dataframe tbody tr th {\n",
       "        vertical-align: top;\n",
       "    }\n",
       "\n",
       "    .dataframe thead th {\n",
       "        text-align: right;\n",
       "    }\n",
       "</style>\n",
       "<table border=\"1\" class=\"dataframe\">\n",
       "  <thead>\n",
       "    <tr style=\"text-align: right;\">\n",
       "      <th></th>\n",
       "      <th>userId</th>\n",
       "      <th>orders</th>\n",
       "    </tr>\n",
       "  </thead>\n",
       "  <tbody>\n",
       "    <tr>\n",
       "      <td>0</td>\n",
       "      <td>8300375</td>\n",
       "      <td>1</td>\n",
       "    </tr>\n",
       "    <tr>\n",
       "      <td>1</td>\n",
       "      <td>11685486</td>\n",
       "      <td>1</td>\n",
       "    </tr>\n",
       "    <tr>\n",
       "      <td>2</td>\n",
       "      <td>54447517</td>\n",
       "      <td>1</td>\n",
       "    </tr>\n",
       "    <tr>\n",
       "      <td>3</td>\n",
       "      <td>66685450</td>\n",
       "      <td>1</td>\n",
       "    </tr>\n",
       "    <tr>\n",
       "      <td>4</td>\n",
       "      <td>78758296</td>\n",
       "      <td>1</td>\n",
       "    </tr>\n",
       "  </tbody>\n",
       "</table>\n",
       "</div>"
      ],
      "text/plain": [
       "     userId  orders\n",
       "0   8300375       1\n",
       "1  11685486       1\n",
       "2  54447517       1\n",
       "3  66685450       1\n",
       "4  78758296       1"
      ]
     },
     "execution_count": 25,
     "metadata": {},
     "output_type": "execute_result"
    }
   ],
   "source": [
    "ordersByUsersA.head()"
   ]
  },
  {
   "cell_type": "markdown",
   "metadata": {},
   "source": [
    "5.12 Посчитал статистическую значимость различий в конверсии между группами по «очищенным» данным. Сделал выводы и предположения."
   ]
  },
  {
   "cell_type": "markdown",
   "metadata": {},
   "source": [
    "* Узнаем, сколько всего аномальных пользователей методом shape()."
   ]
  },
  {
   "cell_type": "code",
   "execution_count": 26,
   "metadata": {},
   "outputs": [
    {
     "name": "stdout",
     "output_type": "stream",
     "text": [
      "568     113298937\n",
      "1099    148427295\n",
      "461     154576532\n",
      "928     204675465\n",
      "684     358944393\n",
      "dtype: int64\n",
      "(86,)\n"
     ]
    }
   ],
   "source": [
    "usersWithManyOrders = pd.concat(\n",
    "    [\n",
    "        ordersByUsersA[ordersByUsersA['orders'] > 4]['userId'],\n",
    "        ordersByUsersB[ordersByUsersB['orders'] > 4]['visitorId'],\n",
    "    ],\n",
    "    axis=0,\n",
    ")\n",
    "usersWithExpensiveOrders = orders[orders['revenue'] > 20000]['visitorId']\n",
    "abnormalUsers = (\n",
    "    pd.concat([usersWithManyOrders, usersWithExpensiveOrders], axis=0)\n",
    "    .drop_duplicates()\n",
    "    .sort_values()\n",
    ")\n",
    "print(abnormalUsers.head(5))\n",
    "print(abnormalUsers.shape)"
   ]
  },
  {
   "cell_type": "markdown",
   "metadata": {},
   "source": [
    "* Посчитаем статистическую значимость различий в конверсии между группами теста по очищенным данным."
   ]
  },
  {
   "cell_type": "code",
   "execution_count": 27,
   "metadata": {},
   "outputs": [],
   "source": [
    "sampleAFiltered = pd.concat(\n",
    "    [\n",
    "        ordersByUsersA[\n",
    "            np.logical_not(ordersByUsersA['userId'].isin(abnormalUsers))\n",
    "        ]['orders'],\n",
    "        pd.Series(\n",
    "            0,\n",
    "            index=np.arange(\n",
    "                data['visitorsPerDateA'].sum() - len(ordersByUsersA['orders'])\n",
    "            ),\n",
    "            name='orders',\n",
    "        ),\n",
    "    ],\n",
    "    axis=0,\n",
    ")\n",
    "\n",
    "sampleBFiltered = pd.concat(\n",
    "    [\n",
    "        ordersByUsersB[\n",
    "            np.logical_not(ordersByUsersB['visitorId'].isin(abnormalUsers))\n",
    "        ]['orders'],\n",
    "        pd.Series(\n",
    "            0,\n",
    "            index=np.arange(\n",
    "                data['visitorsPerDateB'].sum() - len(ordersByUsersB['orders'])\n",
    "            ),\n",
    "            name='orders',\n",
    "        ),\n",
    "    ],\n",
    "    axis=0,\n",
    ")"
   ]
  },
  {
   "cell_type": "markdown",
   "metadata": {},
   "source": [
    "* Применим статистический критерий Манна-Уитни к полученным выборкам:"
   ]
  },
  {
   "cell_type": "code",
   "execution_count": 28,
   "metadata": {},
   "outputs": [
    {
     "name": "stdout",
     "output_type": "stream",
     "text": [
      "0.011\n",
      "0.149\n"
     ]
    }
   ],
   "source": [
    "print('{0:.3f}'.format(stats.mannwhitneyu(sampleAFiltered, sampleBFiltered)[1]))\n",
    "print('{0:.3f}'.format(sampleBFiltered.mean()/sampleAFiltered.mean()-1))"
   ]
  },
  {
   "cell_type": "markdown",
   "metadata": {},
   "source": [
    "Вывод: Как и в случае с 'сырыми данными' статистическая значимость достигнута, сегмент B лучше сегмента A."
   ]
  },
  {
   "cell_type": "markdown",
   "metadata": {},
   "source": [
    "5.13 Посчитал статистическую значимость различий в среднем чеке заказа между группами по «очищенным» данным. Сделал выводы и предположения."
   ]
  },
  {
   "cell_type": "code",
   "execution_count": 29,
   "metadata": {},
   "outputs": [
    {
     "name": "stdout",
     "output_type": "stream",
     "text": [
      "0.433\n",
      "-0.002\n"
     ]
    }
   ],
   "source": [
    "print(\n",
    "    '{0:.3f}'.format(\n",
    "        stats.mannwhitneyu(\n",
    "            orders[\n",
    "                np.logical_and(\n",
    "                    orders['group'] == 'A',\n",
    "                    np.logical_not(orders['visitorId'].isin(abnormalUsers)),\n",
    "                )\n",
    "            ]['revenue'],\n",
    "            orders[\n",
    "                np.logical_and(\n",
    "                    orders['group'] == 'B',\n",
    "                    np.logical_not(orders['visitorId'].isin(abnormalUsers)),\n",
    "                )\n",
    "            ]['revenue'],\n",
    "        )[1]\n",
    "    )\n",
    ")\n",
    "\n",
    "print(\n",
    "    \"{0:.3f}\".format(\n",
    "        orders[\n",
    "            np.logical_and(\n",
    "                orders['group'] == 'B',\n",
    "                np.logical_not(orders['visitorId'].isin(abnormalUsers)),\n",
    "            )\n",
    "        ]['revenue'].mean()\n",
    "        / orders[\n",
    "            np.logical_and(\n",
    "                orders['group'] == 'A',\n",
    "                np.logical_not(orders['visitorId'].isin(abnormalUsers)),\n",
    "            )\n",
    "        ]['revenue'].mean()\n",
    "        - 1\n",
    "    )\n",
    ")"
   ]
  },
  {
   "cell_type": "markdown",
   "metadata": {},
   "source": [
    "Вывод:  По «очищенным» данным различий в среднем чеке групп A и B нет, относительный проигрыш группы B равен 0.2%"
   ]
  },
  {
   "cell_type": "markdown",
   "metadata": {},
   "source": [
    "### Вывод: Исходя из обнаруженных фактов тест следует остановить и зафиксировать что группа B выиграла. Группа B лидирует в конверсии,  а разница в среднем чеке еще не установилась, но у группы B видны тенденции к росту ."
   ]
  }
 ],
 "metadata": {
  "ExecuteTimeLog": [
   {
    "duration": 758,
    "start_time": "2021-08-10T17:26:42.966Z"
   },
   {
    "duration": 2386,
    "start_time": "2021-08-10T17:27:40.835Z"
   },
   {
    "duration": 37,
    "start_time": "2021-08-10T17:28:09.623Z"
   },
   {
    "duration": 22,
    "start_time": "2021-08-10T17:32:10.428Z"
   },
   {
    "duration": 16,
    "start_time": "2021-08-10T17:37:19.295Z"
   },
   {
    "duration": 5,
    "start_time": "2021-08-10T18:00:34.562Z"
   },
   {
    "duration": 2151,
    "start_time": "2021-08-10T18:01:36.647Z"
   },
   {
    "duration": 46,
    "start_time": "2021-08-10T18:01:56.279Z"
   },
   {
    "duration": 2388,
    "start_time": "2021-08-10T18:02:42.148Z"
   },
   {
    "duration": 24,
    "start_time": "2021-08-10T18:02:48.734Z"
   },
   {
    "duration": 100,
    "start_time": "2021-08-10T18:03:43.613Z"
   },
   {
    "duration": 47,
    "start_time": "2021-08-10T18:03:49.049Z"
   },
   {
    "duration": 31,
    "start_time": "2021-08-10T18:03:56.742Z"
   },
   {
    "duration": 1564,
    "start_time": "2021-08-10T18:04:22.763Z"
   },
   {
    "duration": 47,
    "start_time": "2021-08-10T18:05:44.292Z"
   },
   {
    "duration": 46,
    "start_time": "2021-08-10T18:05:53.757Z"
   },
   {
    "duration": 45,
    "start_time": "2021-08-10T18:06:03.746Z"
   },
   {
    "duration": 44,
    "start_time": "2021-08-10T18:06:50.530Z"
   },
   {
    "duration": 71,
    "start_time": "2021-08-10T18:06:58.478Z"
   },
   {
    "duration": 1370,
    "start_time": "2021-08-10T18:07:30.502Z"
   },
   {
    "duration": 27,
    "start_time": "2021-08-10T18:07:48.076Z"
   },
   {
    "duration": 7630,
    "start_time": "2021-08-10T18:08:20.792Z"
   },
   {
    "duration": 8002,
    "start_time": "2021-08-10T18:09:05.760Z"
   },
   {
    "duration": 4,
    "start_time": "2021-08-10T18:09:34.014Z"
   },
   {
    "duration": 51,
    "start_time": "2021-08-10T18:09:34.030Z"
   },
   {
    "duration": 27,
    "start_time": "2021-08-10T18:09:34.084Z"
   },
   {
    "duration": 25,
    "start_time": "2021-08-10T18:09:34.115Z"
   },
   {
    "duration": 72,
    "start_time": "2021-08-10T18:09:34.143Z"
   },
   {
    "duration": 28,
    "start_time": "2021-08-10T18:09:34.218Z"
   },
   {
    "duration": 8311,
    "start_time": "2021-08-10T18:09:34.249Z"
   },
   {
    "duration": 704,
    "start_time": "2021-08-10T18:09:52.526Z"
   },
   {
    "duration": 37,
    "start_time": "2021-08-10T18:09:53.233Z"
   },
   {
    "duration": 25,
    "start_time": "2021-08-10T18:09:53.273Z"
   },
   {
    "duration": 21,
    "start_time": "2021-08-10T18:09:53.301Z"
   },
   {
    "duration": 73,
    "start_time": "2021-08-10T18:09:53.325Z"
   },
   {
    "duration": 27,
    "start_time": "2021-08-10T18:09:53.401Z"
   },
   {
    "duration": 1880,
    "start_time": "2021-08-10T18:09:53.430Z"
   },
   {
    "duration": 551,
    "start_time": "2021-08-10T18:11:05.797Z"
   },
   {
    "duration": 114,
    "start_time": "2021-08-10T18:12:44.617Z"
   },
   {
    "duration": 340,
    "start_time": "2021-08-10T18:12:49.439Z"
   },
   {
    "duration": 328,
    "start_time": "2021-08-10T18:13:08.175Z"
   },
   {
    "duration": 606,
    "start_time": "2021-08-10T18:13:47.745Z"
   },
   {
    "duration": 372,
    "start_time": "2021-08-10T18:14:01.824Z"
   },
   {
    "duration": 328,
    "start_time": "2021-08-10T18:18:03.896Z"
   },
   {
    "duration": 305,
    "start_time": "2021-08-10T18:18:25.912Z"
   },
   {
    "duration": 284,
    "start_time": "2021-08-10T18:21:46.621Z"
   },
   {
    "duration": 305,
    "start_time": "2021-08-10T18:22:06.187Z"
   },
   {
    "duration": 312,
    "start_time": "2021-08-10T18:22:21.673Z"
   },
   {
    "duration": 285,
    "start_time": "2021-08-10T18:22:46.137Z"
   },
   {
    "duration": 114,
    "start_time": "2021-08-10T18:22:54.885Z"
   },
   {
    "duration": 292,
    "start_time": "2021-08-10T18:22:59.049Z"
   },
   {
    "duration": 305,
    "start_time": "2021-08-10T18:23:52.648Z"
   },
   {
    "duration": 305,
    "start_time": "2021-08-10T18:24:12.912Z"
   },
   {
    "duration": 298,
    "start_time": "2021-08-10T18:24:16.092Z"
   },
   {
    "duration": 359,
    "start_time": "2021-08-10T18:25:16.173Z"
   },
   {
    "duration": 284,
    "start_time": "2021-08-10T18:26:17.112Z"
   },
   {
    "duration": 307,
    "start_time": "2021-08-10T18:26:30.488Z"
   },
   {
    "duration": 328,
    "start_time": "2021-08-10T18:26:54.835Z"
   },
   {
    "duration": 1039,
    "start_time": "2021-08-10T18:27:34.349Z"
   },
   {
    "duration": 317,
    "start_time": "2021-08-10T18:28:02.080Z"
   },
   {
    "duration": 309,
    "start_time": "2021-08-10T18:28:12.910Z"
   },
   {
    "duration": 318,
    "start_time": "2021-08-10T18:28:41.240Z"
   },
   {
    "duration": 328,
    "start_time": "2021-08-10T18:29:14.876Z"
   },
   {
    "duration": 299,
    "start_time": "2021-08-10T18:29:26.701Z"
   },
   {
    "duration": 301,
    "start_time": "2021-08-10T18:29:41.621Z"
   },
   {
    "duration": 391,
    "start_time": "2021-08-10T18:29:57.266Z"
   },
   {
    "duration": 324,
    "start_time": "2021-08-10T18:30:10.477Z"
   },
   {
    "duration": 309,
    "start_time": "2021-08-10T18:30:45.562Z"
   },
   {
    "duration": 299,
    "start_time": "2021-08-10T18:31:45.597Z"
   },
   {
    "duration": 321,
    "start_time": "2021-08-10T18:33:12.765Z"
   },
   {
    "duration": 320,
    "start_time": "2021-08-10T18:34:08.368Z"
   },
   {
    "duration": 444,
    "start_time": "2021-08-10T18:34:53.039Z"
   },
   {
    "duration": 404,
    "start_time": "2021-08-10T18:35:19.107Z"
   },
   {
    "duration": 507,
    "start_time": "2021-08-10T18:35:45.344Z"
   },
   {
    "duration": 460,
    "start_time": "2021-08-10T18:36:01.751Z"
   },
   {
    "duration": 420,
    "start_time": "2021-08-10T18:36:34.587Z"
   },
   {
    "duration": 455,
    "start_time": "2021-08-10T18:36:40.639Z"
   },
   {
    "duration": 471,
    "start_time": "2021-08-10T18:36:49.243Z"
   },
   {
    "duration": 808,
    "start_time": "2021-08-11T17:44:34.354Z"
   },
   {
    "duration": 30,
    "start_time": "2021-08-11T17:44:35.165Z"
   },
   {
    "duration": 24,
    "start_time": "2021-08-11T17:44:35.201Z"
   },
   {
    "duration": 14,
    "start_time": "2021-08-11T17:44:35.228Z"
   },
   {
    "duration": 76,
    "start_time": "2021-08-11T17:44:35.244Z"
   },
   {
    "duration": 27,
    "start_time": "2021-08-11T17:44:35.322Z"
   },
   {
    "duration": 538,
    "start_time": "2021-08-11T17:44:35.351Z"
   },
   {
    "duration": 344,
    "start_time": "2021-08-11T17:44:35.892Z"
   },
   {
    "duration": 368,
    "start_time": "2021-08-11T17:44:36.239Z"
   },
   {
    "duration": 429,
    "start_time": "2021-08-11T17:44:36.610Z"
   },
   {
    "duration": 450,
    "start_time": "2021-08-11T17:46:04.800Z"
   },
   {
    "duration": 393,
    "start_time": "2021-08-11T17:46:09.946Z"
   },
   {
    "duration": 290,
    "start_time": "2021-08-11T17:49:21.581Z"
   },
   {
    "duration": 274,
    "start_time": "2021-08-11T17:52:52.247Z"
   },
   {
    "duration": 278,
    "start_time": "2021-08-11T17:53:18.783Z"
   },
   {
    "duration": 305,
    "start_time": "2021-08-11T17:53:48.023Z"
   },
   {
    "duration": 312,
    "start_time": "2021-08-11T17:54:00.508Z"
   },
   {
    "duration": 375,
    "start_time": "2021-08-11T17:57:18.858Z"
   },
   {
    "duration": 7043,
    "start_time": "2021-08-11T17:57:43.702Z"
   },
   {
    "duration": 391,
    "start_time": "2021-08-11T17:58:17.060Z"
   },
   {
    "duration": 339,
    "start_time": "2021-08-11T17:58:21.636Z"
   },
   {
    "duration": 6,
    "start_time": "2021-08-11T18:01:03.997Z"
   },
   {
    "duration": 411,
    "start_time": "2021-08-11T18:03:52.476Z"
   },
   {
    "duration": 281,
    "start_time": "2021-08-11T18:04:42.216Z"
   },
   {
    "duration": 379,
    "start_time": "2021-08-11T18:05:10.488Z"
   },
   {
    "duration": 288,
    "start_time": "2021-08-11T18:05:34.144Z"
   },
   {
    "duration": 551,
    "start_time": "2021-08-11T18:05:40.162Z"
   },
   {
    "duration": 279,
    "start_time": "2021-08-11T18:06:49.847Z"
   },
   {
    "duration": 496,
    "start_time": "2021-08-11T18:06:59.245Z"
   },
   {
    "duration": 289,
    "start_time": "2021-08-11T18:07:29.113Z"
   },
   {
    "duration": 289,
    "start_time": "2021-08-11T18:07:58.517Z"
   },
   {
    "duration": 371,
    "start_time": "2021-08-11T18:08:16.166Z"
   },
   {
    "duration": 276,
    "start_time": "2021-08-11T18:08:25.048Z"
   },
   {
    "duration": 398,
    "start_time": "2021-08-11T18:10:43.412Z"
   },
   {
    "duration": 6,
    "start_time": "2021-08-11T18:12:53.960Z"
   },
   {
    "duration": 357,
    "start_time": "2021-08-11T18:15:54.590Z"
   },
   {
    "duration": 298,
    "start_time": "2021-08-11T18:16:18.238Z"
   },
   {
    "duration": 6634,
    "start_time": "2021-08-11T18:16:36.008Z"
   },
   {
    "duration": 6959,
    "start_time": "2021-08-11T18:16:51.022Z"
   },
   {
    "duration": 491,
    "start_time": "2021-08-11T18:17:26.113Z"
   },
   {
    "duration": 223,
    "start_time": "2021-08-11T18:19:26.825Z"
   },
   {
    "duration": 375,
    "start_time": "2021-08-11T18:20:05.389Z"
   },
   {
    "duration": 342,
    "start_time": "2021-08-11T18:20:09.039Z"
   },
   {
    "duration": 7,
    "start_time": "2021-08-11T18:21:05.605Z"
   },
   {
    "duration": 202,
    "start_time": "2021-08-11T18:28:09.309Z"
   },
   {
    "duration": 341,
    "start_time": "2021-08-11T18:28:11.810Z"
   },
   {
    "duration": 6979,
    "start_time": "2021-08-11T18:29:00.636Z"
   },
   {
    "duration": 11,
    "start_time": "2021-08-11T18:29:28.810Z"
   },
   {
    "duration": 465,
    "start_time": "2021-08-11T18:32:02.850Z"
   },
   {
    "duration": 450,
    "start_time": "2021-08-11T18:32:52.083Z"
   },
   {
    "duration": 453,
    "start_time": "2021-08-11T18:33:23.973Z"
   },
   {
    "duration": 580,
    "start_time": "2021-08-11T18:33:38.734Z"
   },
   {
    "duration": 444,
    "start_time": "2021-08-11T18:34:17.124Z"
   },
   {
    "duration": 229,
    "start_time": "2021-08-11T18:35:10.153Z"
   },
   {
    "duration": 17163,
    "start_time": "2021-08-11T18:35:12.161Z"
   },
   {
    "duration": 10,
    "start_time": "2021-08-11T18:36:01.580Z"
   },
   {
    "duration": 534,
    "start_time": "2021-08-11T18:36:05.980Z"
   },
   {
    "duration": 510,
    "start_time": "2021-08-11T18:36:46.298Z"
   },
   {
    "duration": 225,
    "start_time": "2021-08-11T18:36:51.577Z"
   },
   {
    "duration": 15,
    "start_time": "2021-08-11T18:38:38.454Z"
   },
   {
    "duration": 12,
    "start_time": "2021-08-11T18:39:44.792Z"
   },
   {
    "duration": 16,
    "start_time": "2021-08-11T18:40:08.306Z"
   },
   {
    "duration": 6844,
    "start_time": "2021-08-11T18:43:29.749Z"
   },
   {
    "duration": 9,
    "start_time": "2021-08-11T18:44:48.078Z"
   },
   {
    "duration": 6601,
    "start_time": "2021-08-11T18:45:30.353Z"
   },
   {
    "duration": 9341,
    "start_time": "2021-08-11T18:45:50.617Z"
   },
   {
    "duration": 19,
    "start_time": "2021-08-11T18:46:03.667Z"
   },
   {
    "duration": 6621,
    "start_time": "2021-08-11T18:47:28.808Z"
   },
   {
    "duration": 13,
    "start_time": "2021-08-11T18:47:56.039Z"
   },
   {
    "duration": 10,
    "start_time": "2021-08-11T18:48:42.309Z"
   },
   {
    "duration": 10734,
    "start_time": "2021-08-11T18:50:32.805Z"
   },
   {
    "duration": 21,
    "start_time": "2021-08-11T18:51:59.592Z"
   },
   {
    "duration": 1467,
    "start_time": "2021-08-12T18:06:23.846Z"
   },
   {
    "duration": 31,
    "start_time": "2021-08-12T18:06:25.315Z"
   },
   {
    "duration": 28,
    "start_time": "2021-08-12T18:06:25.350Z"
   },
   {
    "duration": 16,
    "start_time": "2021-08-12T18:06:25.382Z"
   },
   {
    "duration": 73,
    "start_time": "2021-08-12T18:06:25.401Z"
   },
   {
    "duration": 28,
    "start_time": "2021-08-12T18:06:25.476Z"
   },
   {
    "duration": 554,
    "start_time": "2021-08-12T18:06:25.506Z"
   },
   {
    "duration": 338,
    "start_time": "2021-08-12T18:06:26.064Z"
   },
   {
    "duration": 324,
    "start_time": "2021-08-12T18:06:26.405Z"
   },
   {
    "duration": 399,
    "start_time": "2021-08-12T18:06:26.731Z"
   },
   {
    "duration": -1630,
    "start_time": "2021-08-12T18:06:28.763Z"
   },
   {
    "duration": -1650,
    "start_time": "2021-08-12T18:06:28.784Z"
   },
   {
    "duration": -1703,
    "start_time": "2021-08-12T18:06:28.839Z"
   },
   {
    "duration": -1716,
    "start_time": "2021-08-12T18:06:28.853Z"
   },
   {
    "duration": -1749,
    "start_time": "2021-08-12T18:06:28.888Z"
   },
   {
    "duration": -1760,
    "start_time": "2021-08-12T18:06:28.900Z"
   },
   {
    "duration": -1776,
    "start_time": "2021-08-12T18:06:28.917Z"
   },
   {
    "duration": -1819,
    "start_time": "2021-08-12T18:06:28.962Z"
   },
   {
    "duration": -1857,
    "start_time": "2021-08-12T18:06:29.001Z"
   },
   {
    "duration": -1866,
    "start_time": "2021-08-12T18:06:29.012Z"
   },
   {
    "duration": -1898,
    "start_time": "2021-08-12T18:06:29.045Z"
   },
   {
    "duration": -1926,
    "start_time": "2021-08-12T18:06:29.074Z"
   },
   {
    "duration": -1937,
    "start_time": "2021-08-12T18:06:29.087Z"
   },
   {
    "duration": -1948,
    "start_time": "2021-08-12T18:06:29.099Z"
   },
   {
    "duration": -1986,
    "start_time": "2021-08-12T18:06:29.138Z"
   },
   {
    "duration": -2010,
    "start_time": "2021-08-12T18:06:29.164Z"
   },
   {
    "duration": -2024,
    "start_time": "2021-08-12T18:06:29.179Z"
   },
   {
    "duration": 423,
    "start_time": "2021-08-12T18:07:25.595Z"
   },
   {
    "duration": 556,
    "start_time": "2021-08-12T18:14:19.306Z"
   },
   {
    "duration": 590,
    "start_time": "2021-08-12T18:14:56.247Z"
   },
   {
    "duration": 628,
    "start_time": "2021-08-12T18:18:30.219Z"
   },
   {
    "duration": 401,
    "start_time": "2021-08-12T18:19:09.360Z"
   },
   {
    "duration": 306,
    "start_time": "2021-08-12T18:19:18.176Z"
   },
   {
    "duration": 318,
    "start_time": "2021-08-12T18:19:23.366Z"
   },
   {
    "duration": 428,
    "start_time": "2021-08-12T18:19:28.482Z"
   },
   {
    "duration": 310,
    "start_time": "2021-08-12T18:19:50.015Z"
   },
   {
    "duration": 338,
    "start_time": "2021-08-12T18:19:54.208Z"
   },
   {
    "duration": 319,
    "start_time": "2021-08-12T18:20:00.557Z"
   },
   {
    "duration": 336,
    "start_time": "2021-08-12T18:20:07.037Z"
   },
   {
    "duration": 670,
    "start_time": "2021-08-12T18:20:18.821Z"
   },
   {
    "duration": 376,
    "start_time": "2021-08-12T18:20:24.081Z"
   },
   {
    "duration": 317,
    "start_time": "2021-08-12T18:20:29.973Z"
   },
   {
    "duration": 312,
    "start_time": "2021-08-12T18:21:35.590Z"
   },
   {
    "duration": 303,
    "start_time": "2021-08-12T18:21:46.555Z"
   },
   {
    "duration": 610,
    "start_time": "2021-08-12T18:23:08.893Z"
   },
   {
    "duration": 472,
    "start_time": "2021-08-12T18:23:22.633Z"
   },
   {
    "duration": 547,
    "start_time": "2021-08-12T18:27:55.376Z"
   },
   {
    "duration": 589,
    "start_time": "2021-08-12T18:29:10.679Z"
   },
   {
    "duration": 550,
    "start_time": "2021-08-12T18:29:26.429Z"
   },
   {
    "duration": 320,
    "start_time": "2021-08-12T18:29:44.451Z"
   },
   {
    "duration": 4,
    "start_time": "2021-08-12T18:30:04.933Z"
   },
   {
    "duration": 28,
    "start_time": "2021-08-12T18:30:04.944Z"
   },
   {
    "duration": 20,
    "start_time": "2021-08-12T18:30:04.975Z"
   },
   {
    "duration": 18,
    "start_time": "2021-08-12T18:30:04.998Z"
   },
   {
    "duration": 67,
    "start_time": "2021-08-12T18:30:05.019Z"
   },
   {
    "duration": 28,
    "start_time": "2021-08-12T18:30:05.088Z"
   },
   {
    "duration": 591,
    "start_time": "2021-08-12T18:30:05.120Z"
   },
   {
    "duration": 339,
    "start_time": "2021-08-12T18:30:05.715Z"
   },
   {
    "duration": 352,
    "start_time": "2021-08-12T18:30:06.058Z"
   },
   {
    "duration": 449,
    "start_time": "2021-08-12T18:30:06.413Z"
   },
   {
    "duration": 322,
    "start_time": "2021-08-12T18:30:06.865Z"
   },
   {
    "duration": 448,
    "start_time": "2021-08-12T18:30:07.189Z"
   },
   {
    "duration": 214,
    "start_time": "2021-08-12T18:30:07.640Z"
   },
   {
    "duration": 397,
    "start_time": "2021-08-12T18:30:07.857Z"
   },
   {
    "duration": 8,
    "start_time": "2021-08-12T18:30:08.257Z"
   },
   {
    "duration": 500,
    "start_time": "2021-08-12T18:30:08.267Z"
   },
   {
    "duration": 6,
    "start_time": "2021-08-12T18:30:08.770Z"
   },
   {
    "duration": 488,
    "start_time": "2021-08-12T18:30:08.778Z"
   },
   {
    "duration": 270,
    "start_time": "2021-08-12T18:30:09.269Z"
   },
   {
    "duration": 14,
    "start_time": "2021-08-12T18:30:09.541Z"
   },
   {
    "duration": 233,
    "start_time": "2021-08-12T18:30:09.558Z"
   },
   {
    "duration": 15,
    "start_time": "2021-08-12T18:30:09.793Z"
   },
   {
    "duration": 12,
    "start_time": "2021-08-12T18:30:09.810Z"
   },
   {
    "duration": 38,
    "start_time": "2021-08-12T18:30:09.826Z"
   },
   {
    "duration": 14,
    "start_time": "2021-08-12T18:30:09.867Z"
   },
   {
    "duration": 14,
    "start_time": "2021-08-12T18:30:09.884Z"
   },
   {
    "duration": 23,
    "start_time": "2021-08-12T18:30:09.901Z"
   },
   {
    "duration": 474,
    "start_time": "2021-08-12T18:52:28.749Z"
   },
   {
    "duration": 1348,
    "start_time": "2021-08-12T19:24:52.777Z"
   },
   {
    "duration": 35,
    "start_time": "2021-08-12T19:24:54.128Z"
   },
   {
    "duration": 23,
    "start_time": "2021-08-12T19:24:54.167Z"
   },
   {
    "duration": 33,
    "start_time": "2021-08-12T19:24:54.194Z"
   },
   {
    "duration": 93,
    "start_time": "2021-08-12T19:24:54.230Z"
   },
   {
    "duration": 27,
    "start_time": "2021-08-12T19:24:54.326Z"
   },
   {
    "duration": 620,
    "start_time": "2021-08-12T19:24:54.356Z"
   },
   {
    "duration": 346,
    "start_time": "2021-08-12T19:24:54.980Z"
   },
   {
    "duration": 331,
    "start_time": "2021-08-12T19:24:55.329Z"
   },
   {
    "duration": 399,
    "start_time": "2021-08-12T19:24:55.662Z"
   },
   {
    "duration": 318,
    "start_time": "2021-08-12T19:24:56.063Z"
   },
   {
    "duration": 603,
    "start_time": "2021-08-12T19:24:56.384Z"
   },
   {
    "duration": 241,
    "start_time": "2021-08-12T19:24:56.990Z"
   },
   {
    "duration": 405,
    "start_time": "2021-08-12T19:24:57.233Z"
   },
   {
    "duration": 5,
    "start_time": "2021-08-12T19:24:57.641Z"
   },
   {
    "duration": 412,
    "start_time": "2021-08-12T19:24:57.655Z"
   },
   {
    "duration": 6,
    "start_time": "2021-08-12T19:24:58.069Z"
   },
   {
    "duration": 468,
    "start_time": "2021-08-12T19:24:58.078Z"
   },
   {
    "duration": 231,
    "start_time": "2021-08-12T19:24:58.548Z"
   },
   {
    "duration": 9,
    "start_time": "2021-08-12T19:24:58.782Z"
   },
   {
    "duration": 254,
    "start_time": "2021-08-12T19:24:58.793Z"
   },
   {
    "duration": 16,
    "start_time": "2021-08-12T19:24:59.050Z"
   },
   {
    "duration": 9,
    "start_time": "2021-08-12T19:24:59.072Z"
   },
   {
    "duration": 17,
    "start_time": "2021-08-12T19:24:59.084Z"
   },
   {
    "duration": 59,
    "start_time": "2021-08-12T19:24:59.104Z"
   },
   {
    "duration": 13,
    "start_time": "2021-08-12T19:24:59.166Z"
   },
   {
    "duration": 22,
    "start_time": "2021-08-12T19:24:59.182Z"
   },
   {
    "duration": 75,
    "start_time": "2021-08-12T20:13:49.700Z"
   },
   {
    "duration": 90,
    "start_time": "2021-08-12T20:18:29.621Z"
   },
   {
    "duration": 1054,
    "start_time": "2021-08-15T12:02:38.451Z"
   },
   {
    "duration": 24,
    "start_time": "2021-08-15T12:02:39.507Z"
   },
   {
    "duration": 15,
    "start_time": "2021-08-15T12:02:39.533Z"
   },
   {
    "duration": 9,
    "start_time": "2021-08-15T12:02:39.549Z"
   },
   {
    "duration": 52,
    "start_time": "2021-08-15T12:02:39.560Z"
   },
   {
    "duration": 29,
    "start_time": "2021-08-15T12:02:39.614Z"
   },
   {
    "duration": 305,
    "start_time": "2021-08-15T12:02:39.645Z"
   },
   {
    "duration": 189,
    "start_time": "2021-08-15T12:02:39.952Z"
   },
   {
    "duration": 181,
    "start_time": "2021-08-15T12:02:40.142Z"
   },
   {
    "duration": 298,
    "start_time": "2021-08-15T12:02:40.324Z"
   },
   {
    "duration": 181,
    "start_time": "2021-08-15T12:02:40.623Z"
   },
   {
    "duration": 323,
    "start_time": "2021-08-15T12:02:40.805Z"
   },
   {
    "duration": 112,
    "start_time": "2021-08-15T12:02:41.129Z"
   },
   {
    "duration": 264,
    "start_time": "2021-08-15T12:02:41.242Z"
   },
   {
    "duration": 4,
    "start_time": "2021-08-15T12:02:41.507Z"
   },
   {
    "duration": 292,
    "start_time": "2021-08-15T12:02:41.512Z"
   },
   {
    "duration": 4,
    "start_time": "2021-08-15T12:02:41.806Z"
   },
   {
    "duration": 275,
    "start_time": "2021-08-15T12:02:41.811Z"
   },
   {
    "duration": 109,
    "start_time": "2021-08-15T12:02:42.088Z"
   },
   {
    "duration": 6,
    "start_time": "2021-08-15T12:02:42.199Z"
   },
   {
    "duration": 121,
    "start_time": "2021-08-15T12:02:42.206Z"
   },
   {
    "duration": 19,
    "start_time": "2021-08-15T12:02:42.328Z"
   },
   {
    "duration": 6,
    "start_time": "2021-08-15T12:02:42.350Z"
   },
   {
    "duration": 8,
    "start_time": "2021-08-15T12:02:42.358Z"
   },
   {
    "duration": 7,
    "start_time": "2021-08-15T12:02:42.368Z"
   },
   {
    "duration": 7,
    "start_time": "2021-08-15T12:02:42.377Z"
   },
   {
    "duration": 12,
    "start_time": "2021-08-15T12:02:42.385Z"
   },
   {
    "duration": 11,
    "start_time": "2021-08-15T12:04:51.105Z"
   },
   {
    "duration": 333,
    "start_time": "2021-08-15T12:14:31.402Z"
   },
   {
    "duration": 402,
    "start_time": "2021-08-15T12:15:04.266Z"
   },
   {
    "duration": 398,
    "start_time": "2021-08-15T12:16:02.567Z"
   },
   {
    "duration": 859,
    "start_time": "2021-08-15T12:16:11.499Z"
   },
   {
    "duration": 936,
    "start_time": "2021-08-15T12:16:28.835Z"
   },
   {
    "duration": 774,
    "start_time": "2021-08-15T12:17:08.050Z"
   },
   {
    "duration": 811,
    "start_time": "2021-08-15T12:18:35.473Z"
   },
   {
    "duration": 317,
    "start_time": "2021-08-15T12:20:28.024Z"
   },
   {
    "duration": 259,
    "start_time": "2021-08-15T12:21:09.887Z"
   },
   {
    "duration": 222,
    "start_time": "2021-08-15T12:21:20.487Z"
   },
   {
    "duration": 640,
    "start_time": "2021-08-15T12:24:05.107Z"
   },
   {
    "duration": 670,
    "start_time": "2021-08-15T12:24:41.094Z"
   },
   {
    "duration": 245,
    "start_time": "2021-08-15T12:25:27.942Z"
   },
   {
    "duration": 331,
    "start_time": "2021-08-15T12:26:52.687Z"
   },
   {
    "duration": 251,
    "start_time": "2021-08-15T12:26:59.683Z"
   },
   {
    "duration": 247,
    "start_time": "2021-08-15T12:27:56.744Z"
   },
   {
    "duration": 268,
    "start_time": "2021-08-15T12:28:12.820Z"
   },
   {
    "duration": 279,
    "start_time": "2021-08-15T12:28:16.922Z"
   },
   {
    "duration": 283,
    "start_time": "2021-08-15T12:28:45.383Z"
   },
   {
    "duration": 249,
    "start_time": "2021-08-15T12:29:56.132Z"
   },
   {
    "duration": 252,
    "start_time": "2021-08-15T12:30:09.026Z"
   },
   {
    "duration": 248,
    "start_time": "2021-08-15T12:30:18.754Z"
   },
   {
    "duration": 483,
    "start_time": "2021-08-15T12:31:00.186Z"
   },
   {
    "duration": 397,
    "start_time": "2021-08-15T12:31:10.852Z"
   },
   {
    "duration": 2,
    "start_time": "2021-08-15T12:31:32.235Z"
   },
   {
    "duration": 6486,
    "start_time": "2021-08-15T12:32:21.535Z"
   },
   {
    "duration": 7503,
    "start_time": "2021-08-15T12:32:51.126Z"
   },
   {
    "duration": 255,
    "start_time": "2021-08-15T12:33:17.788Z"
   },
   {
    "duration": 1105,
    "start_time": "2021-08-15T12:33:31.882Z"
   },
   {
    "duration": 3,
    "start_time": "2021-08-15T12:33:54.593Z"
   },
   {
    "duration": 20,
    "start_time": "2021-08-15T12:33:54.616Z"
   },
   {
    "duration": 12,
    "start_time": "2021-08-15T12:33:54.638Z"
   },
   {
    "duration": 324,
    "start_time": "2021-08-15T12:33:54.652Z"
   },
   {
    "duration": 10,
    "start_time": "2021-08-15T12:33:54.978Z"
   },
   {
    "duration": 51,
    "start_time": "2021-08-15T12:33:54.989Z"
   },
   {
    "duration": 20,
    "start_time": "2021-08-15T12:33:55.042Z"
   },
   {
    "duration": 299,
    "start_time": "2021-08-15T12:33:55.064Z"
   },
   {
    "duration": 177,
    "start_time": "2021-08-15T12:33:55.364Z"
   },
   {
    "duration": 191,
    "start_time": "2021-08-15T12:33:55.543Z"
   },
   {
    "duration": 287,
    "start_time": "2021-08-15T12:33:55.736Z"
   },
   {
    "duration": 198,
    "start_time": "2021-08-15T12:33:56.025Z"
   },
   {
    "duration": 317,
    "start_time": "2021-08-15T12:33:56.224Z"
   },
   {
    "duration": 124,
    "start_time": "2021-08-15T12:33:56.543Z"
   },
   {
    "duration": 247,
    "start_time": "2021-08-15T12:33:56.670Z"
   },
   {
    "duration": 3,
    "start_time": "2021-08-15T12:33:56.919Z"
   },
   {
    "duration": 291,
    "start_time": "2021-08-15T12:33:56.924Z"
   },
   {
    "duration": 3,
    "start_time": "2021-08-15T12:33:57.217Z"
   },
   {
    "duration": 257,
    "start_time": "2021-08-15T12:33:57.222Z"
   },
   {
    "duration": 112,
    "start_time": "2021-08-15T12:33:57.480Z"
   },
   {
    "duration": 6,
    "start_time": "2021-08-15T12:33:57.593Z"
   },
   {
    "duration": 122,
    "start_time": "2021-08-15T12:33:57.601Z"
   },
   {
    "duration": 22,
    "start_time": "2021-08-15T12:33:57.724Z"
   },
   {
    "duration": 9,
    "start_time": "2021-08-15T12:33:57.747Z"
   },
   {
    "duration": 10,
    "start_time": "2021-08-15T12:33:57.757Z"
   },
   {
    "duration": 10,
    "start_time": "2021-08-15T12:33:57.769Z"
   },
   {
    "duration": 7,
    "start_time": "2021-08-15T12:33:57.781Z"
   },
   {
    "duration": 13,
    "start_time": "2021-08-15T12:33:57.789Z"
   },
   {
    "duration": 195,
    "start_time": "2021-08-15T12:34:43.321Z"
   },
   {
    "duration": 250,
    "start_time": "2021-08-15T12:35:35.240Z"
   },
   {
    "duration": 302,
    "start_time": "2021-08-15T12:35:50.666Z"
   },
   {
    "duration": 491,
    "start_time": "2021-08-15T12:36:36.766Z"
   },
   {
    "duration": 619,
    "start_time": "2021-08-15T12:37:41.721Z"
   },
   {
    "duration": 380,
    "start_time": "2021-08-15T12:38:00.064Z"
   },
   {
    "duration": 371,
    "start_time": "2021-08-15T12:38:48.890Z"
   },
   {
    "duration": 361,
    "start_time": "2021-08-15T12:43:33.798Z"
   },
   {
    "duration": 305,
    "start_time": "2021-08-15T12:44:17.753Z"
   },
   {
    "duration": 243,
    "start_time": "2021-08-15T12:44:57.925Z"
   },
   {
    "duration": 3,
    "start_time": "2021-08-15T12:45:24.103Z"
   },
   {
    "duration": 288,
    "start_time": "2021-08-15T12:49:42.004Z"
   },
   {
    "duration": 997,
    "start_time": "2021-08-15T13:16:58.082Z"
   },
   {
    "duration": 24,
    "start_time": "2021-08-15T13:16:59.080Z"
   },
   {
    "duration": 15,
    "start_time": "2021-08-15T13:16:59.106Z"
   },
   {
    "duration": 381,
    "start_time": "2021-08-15T13:16:59.123Z"
   },
   {
    "duration": 11,
    "start_time": "2021-08-15T13:16:59.505Z"
   },
   {
    "duration": 372,
    "start_time": "2021-08-15T13:16:59.517Z"
   },
   {
    "duration": 51,
    "start_time": "2021-08-15T13:16:59.891Z"
   },
   {
    "duration": 21,
    "start_time": "2021-08-15T13:16:59.945Z"
   },
   {
    "duration": 322,
    "start_time": "2021-08-15T13:16:59.969Z"
   },
   {
    "duration": 210,
    "start_time": "2021-08-15T13:17:00.293Z"
   },
   {
    "duration": 195,
    "start_time": "2021-08-15T13:17:00.505Z"
   },
   {
    "duration": 347,
    "start_time": "2021-08-15T13:17:00.702Z"
   },
   {
    "duration": 179,
    "start_time": "2021-08-15T13:17:01.051Z"
   },
   {
    "duration": 316,
    "start_time": "2021-08-15T13:17:01.231Z"
   },
   {
    "duration": 121,
    "start_time": "2021-08-15T13:17:01.549Z"
   },
   {
    "duration": 249,
    "start_time": "2021-08-15T13:17:01.672Z"
   },
   {
    "duration": 4,
    "start_time": "2021-08-15T13:17:01.923Z"
   },
   {
    "duration": 332,
    "start_time": "2021-08-15T13:17:01.929Z"
   },
   {
    "duration": 4,
    "start_time": "2021-08-15T13:17:02.263Z"
   },
   {
    "duration": 283,
    "start_time": "2021-08-15T13:17:02.268Z"
   },
   {
    "duration": 134,
    "start_time": "2021-08-15T13:17:02.553Z"
   },
   {
    "duration": 9,
    "start_time": "2021-08-15T13:17:02.688Z"
   },
   {
    "duration": 124,
    "start_time": "2021-08-15T13:17:02.700Z"
   },
   {
    "duration": 25,
    "start_time": "2021-08-15T13:17:02.826Z"
   },
   {
    "duration": 8,
    "start_time": "2021-08-15T13:17:02.853Z"
   },
   {
    "duration": 10,
    "start_time": "2021-08-15T13:17:02.863Z"
   },
   {
    "duration": 9,
    "start_time": "2021-08-15T13:17:02.875Z"
   },
   {
    "duration": 9,
    "start_time": "2021-08-15T13:17:02.886Z"
   },
   {
    "duration": 55,
    "start_time": "2021-08-15T13:17:02.898Z"
   },
   {
    "duration": 1043,
    "start_time": "2021-08-15T14:15:44.870Z"
   },
   {
    "duration": 23,
    "start_time": "2021-08-15T14:15:45.915Z"
   },
   {
    "duration": 16,
    "start_time": "2021-08-15T14:15:45.940Z"
   },
   {
    "duration": 369,
    "start_time": "2021-08-15T14:15:45.958Z"
   },
   {
    "duration": 17,
    "start_time": "2021-08-15T14:15:46.329Z"
   },
   {
    "duration": 358,
    "start_time": "2021-08-15T14:15:46.348Z"
   },
   {
    "duration": 51,
    "start_time": "2021-08-15T14:15:46.707Z"
   },
   {
    "duration": 28,
    "start_time": "2021-08-15T14:15:46.760Z"
   },
   {
    "duration": 306,
    "start_time": "2021-08-15T14:15:46.791Z"
   },
   {
    "duration": 179,
    "start_time": "2021-08-15T14:15:47.100Z"
   },
   {
    "duration": 185,
    "start_time": "2021-08-15T14:15:47.281Z"
   },
   {
    "duration": 266,
    "start_time": "2021-08-15T14:15:47.468Z"
   },
   {
    "duration": 180,
    "start_time": "2021-08-15T14:15:47.740Z"
   },
   {
    "duration": 323,
    "start_time": "2021-08-15T14:15:47.921Z"
   },
   {
    "duration": 122,
    "start_time": "2021-08-15T14:15:48.245Z"
   },
   {
    "duration": 246,
    "start_time": "2021-08-15T14:15:48.369Z"
   },
   {
    "duration": 5,
    "start_time": "2021-08-15T14:15:48.617Z"
   },
   {
    "duration": 365,
    "start_time": "2021-08-15T14:15:48.623Z"
   },
   {
    "duration": 5,
    "start_time": "2021-08-15T14:15:48.990Z"
   },
   {
    "duration": 331,
    "start_time": "2021-08-15T14:15:48.997Z"
   },
   {
    "duration": 121,
    "start_time": "2021-08-15T14:15:49.329Z"
   },
   {
    "duration": 6,
    "start_time": "2021-08-15T14:15:49.452Z"
   },
   {
    "duration": 135,
    "start_time": "2021-08-15T14:15:49.459Z"
   },
   {
    "duration": 8,
    "start_time": "2021-08-15T14:15:49.596Z"
   },
   {
    "duration": 7,
    "start_time": "2021-08-15T14:15:49.606Z"
   },
   {
    "duration": 9,
    "start_time": "2021-08-15T14:15:49.614Z"
   },
   {
    "duration": 7,
    "start_time": "2021-08-15T14:15:49.643Z"
   },
   {
    "duration": 6,
    "start_time": "2021-08-15T14:15:49.652Z"
   },
   {
    "duration": 12,
    "start_time": "2021-08-15T14:15:49.660Z"
   },
   {
    "duration": 190,
    "start_time": "2021-08-15T14:19:43.542Z"
   },
   {
    "duration": 188,
    "start_time": "2021-08-15T14:19:52.029Z"
   },
   {
    "duration": 181,
    "start_time": "2021-08-15T14:20:06.258Z"
   },
   {
    "duration": 180,
    "start_time": "2021-08-15T14:20:18.181Z"
   },
   {
    "duration": 173,
    "start_time": "2021-08-15T14:20:27.816Z"
   },
   {
    "duration": 168,
    "start_time": "2021-08-15T14:20:41.683Z"
   },
   {
    "duration": 168,
    "start_time": "2021-08-15T14:20:47.807Z"
   },
   {
    "duration": 182,
    "start_time": "2021-08-15T14:21:03.821Z"
   },
   {
    "duration": 646,
    "start_time": "2021-08-15T14:30:24.755Z"
   },
   {
    "duration": 170,
    "start_time": "2021-08-15T14:30:34.333Z"
   },
   {
    "duration": 170,
    "start_time": "2021-08-15T14:30:46.758Z"
   },
   {
    "duration": 264,
    "start_time": "2021-08-15T14:31:02.734Z"
   },
   {
    "duration": 263,
    "start_time": "2021-08-15T14:31:07.999Z"
   },
   {
    "duration": 482,
    "start_time": "2021-08-15T14:32:08.701Z"
   },
   {
    "duration": 173,
    "start_time": "2021-08-15T14:32:18.778Z"
   },
   {
    "duration": 226,
    "start_time": "2021-08-15T14:34:15.290Z"
   },
   {
    "duration": 170,
    "start_time": "2021-08-15T14:34:28.372Z"
   },
   {
    "duration": 174,
    "start_time": "2021-08-15T14:36:32.455Z"
   },
   {
    "duration": 179,
    "start_time": "2021-08-15T14:36:37.238Z"
   },
   {
    "duration": 179,
    "start_time": "2021-08-15T14:36:46.448Z"
   },
   {
    "duration": 172,
    "start_time": "2021-08-15T14:37:14.570Z"
   },
   {
    "duration": 307,
    "start_time": "2021-08-15T14:37:38.110Z"
   },
   {
    "duration": 167,
    "start_time": "2021-08-15T14:37:52.625Z"
   },
   {
    "duration": 242,
    "start_time": "2021-08-15T14:37:59.467Z"
   },
   {
    "duration": 280,
    "start_time": "2021-08-15T14:38:05.406Z"
   },
   {
    "duration": 175,
    "start_time": "2021-08-15T14:38:21.088Z"
   },
   {
    "duration": 172,
    "start_time": "2021-08-15T14:38:25.227Z"
   },
   {
    "duration": 296,
    "start_time": "2021-08-15T14:38:35.329Z"
   },
   {
    "duration": 166,
    "start_time": "2021-08-15T14:51:57.550Z"
   },
   {
    "duration": 192,
    "start_time": "2021-08-15T14:52:05.646Z"
   },
   {
    "duration": 636,
    "start_time": "2021-08-15T14:56:38.881Z"
   },
   {
    "duration": 638,
    "start_time": "2021-08-15T14:56:53.464Z"
   },
   {
    "duration": 421,
    "start_time": "2021-08-15T14:57:14.346Z"
   },
   {
    "duration": 84,
    "start_time": "2021-08-15T14:57:20.586Z"
   },
   {
    "duration": 410,
    "start_time": "2021-08-15T14:57:24.758Z"
   },
   {
    "duration": 238,
    "start_time": "2021-08-15T14:57:30.562Z"
   },
   {
    "duration": 415,
    "start_time": "2021-08-15T14:58:46.083Z"
   },
   {
    "duration": 497,
    "start_time": "2021-08-15T14:59:08.960Z"
   },
   {
    "duration": 164,
    "start_time": "2021-08-15T14:59:19.634Z"
   },
   {
    "duration": 167,
    "start_time": "2021-08-15T15:02:27.749Z"
   },
   {
    "duration": 178,
    "start_time": "2021-08-15T15:02:40.572Z"
   },
   {
    "duration": 173,
    "start_time": "2021-08-15T15:02:44.800Z"
   },
   {
    "duration": 5,
    "start_time": "2021-08-15T15:03:12.864Z"
   },
   {
    "duration": 5,
    "start_time": "2021-08-15T15:03:24.286Z"
   },
   {
    "duration": 420,
    "start_time": "2021-08-15T15:09:24.725Z"
   },
   {
    "duration": 184,
    "start_time": "2021-08-15T15:09:37.356Z"
   },
   {
    "duration": 172,
    "start_time": "2021-08-15T15:10:24.495Z"
   },
   {
    "duration": 169,
    "start_time": "2021-08-15T15:10:29.377Z"
   },
   {
    "duration": 169,
    "start_time": "2021-08-15T15:10:33.701Z"
   },
   {
    "duration": 397,
    "start_time": "2021-08-15T15:10:50.955Z"
   },
   {
    "duration": 474,
    "start_time": "2021-08-15T15:11:02.846Z"
   },
   {
    "duration": 477,
    "start_time": "2021-08-15T15:11:18.146Z"
   },
   {
    "duration": 179,
    "start_time": "2021-08-15T15:11:22.134Z"
   },
   {
    "duration": 1590,
    "start_time": "2021-08-15T15:12:57.017Z"
   },
   {
    "duration": 1594,
    "start_time": "2021-08-15T15:13:32.850Z"
   },
   {
    "duration": 461,
    "start_time": "2021-08-15T15:14:00.314Z"
   },
   {
    "duration": 315,
    "start_time": "2021-08-15T15:14:21.774Z"
   },
   {
    "duration": 283,
    "start_time": "2021-08-15T15:14:51.390Z"
   },
   {
    "duration": 413,
    "start_time": "2021-08-15T15:15:10.108Z"
   },
   {
    "duration": 289,
    "start_time": "2021-08-15T15:16:51.669Z"
   },
   {
    "duration": 595,
    "start_time": "2021-08-15T15:17:05.810Z"
   },
   {
    "duration": 1046,
    "start_time": "2021-08-15T15:17:55.458Z"
   },
   {
    "duration": 23,
    "start_time": "2021-08-15T15:17:56.506Z"
   },
   {
    "duration": 16,
    "start_time": "2021-08-15T15:17:56.531Z"
   },
   {
    "duration": 376,
    "start_time": "2021-08-15T15:17:56.549Z"
   },
   {
    "duration": 15,
    "start_time": "2021-08-15T15:17:56.927Z"
   },
   {
    "duration": 374,
    "start_time": "2021-08-15T15:17:56.944Z"
   },
   {
    "duration": 50,
    "start_time": "2021-08-15T15:17:57.320Z"
   },
   {
    "duration": 22,
    "start_time": "2021-08-15T15:17:57.372Z"
   },
   {
    "duration": 316,
    "start_time": "2021-08-15T15:17:57.396Z"
   },
   {
    "duration": 307,
    "start_time": "2021-08-15T15:17:57.715Z"
   },
   {
    "duration": 300,
    "start_time": "2021-08-15T15:17:58.024Z"
   },
   {
    "duration": 412,
    "start_time": "2021-08-15T15:17:58.326Z"
   },
   {
    "duration": 309,
    "start_time": "2021-08-15T15:17:58.740Z"
   },
   {
    "duration": 446,
    "start_time": "2021-08-15T15:17:59.051Z"
   },
   {
    "duration": 142,
    "start_time": "2021-08-15T15:17:59.499Z"
   },
   {
    "duration": 287,
    "start_time": "2021-08-15T15:17:59.643Z"
   },
   {
    "duration": 9,
    "start_time": "2021-08-15T15:17:59.932Z"
   },
   {
    "duration": 382,
    "start_time": "2021-08-15T15:17:59.943Z"
   },
   {
    "duration": 13,
    "start_time": "2021-08-15T15:18:00.327Z"
   },
   {
    "duration": 282,
    "start_time": "2021-08-15T15:18:00.342Z"
   },
   {
    "duration": 138,
    "start_time": "2021-08-15T15:18:00.625Z"
   },
   {
    "duration": 7,
    "start_time": "2021-08-15T15:18:00.764Z"
   },
   {
    "duration": 130,
    "start_time": "2021-08-15T15:18:00.774Z"
   },
   {
    "duration": 9,
    "start_time": "2021-08-15T15:18:00.906Z"
   },
   {
    "duration": 25,
    "start_time": "2021-08-15T15:18:00.916Z"
   },
   {
    "duration": 17,
    "start_time": "2021-08-15T15:18:00.943Z"
   },
   {
    "duration": 18,
    "start_time": "2021-08-15T15:18:00.962Z"
   },
   {
    "duration": 18,
    "start_time": "2021-08-15T15:18:00.982Z"
   },
   {
    "duration": 23,
    "start_time": "2021-08-15T15:18:01.002Z"
   }
  ],
  "kernelspec": {
   "display_name": "Python 3",
   "language": "python",
   "name": "python3"
  },
  "language_info": {
   "codemirror_mode": {
    "name": "ipython",
    "version": 3
   },
   "file_extension": ".py",
   "mimetype": "text/x-python",
   "name": "python",
   "nbconvert_exporter": "python",
   "pygments_lexer": "ipython3",
   "version": "3.8.5"
  },
  "toc": {
   "base_numbering": 1,
   "nav_menu": {},
   "number_sections": true,
   "sideBar": true,
   "skip_h1_title": true,
   "title_cell": "Table of Contents",
   "title_sidebar": "Contents",
   "toc_cell": false,
   "toc_position": {},
   "toc_section_display": true,
   "toc_window_display": false
  }
 },
 "nbformat": 4,
 "nbformat_minor": 2
}
