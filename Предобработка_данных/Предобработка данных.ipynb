{
 "cells": [
  {
   "cell_type": "markdown",
   "metadata": {},
   "source": [
    "# Исследование надёжности заёмщиков"
   ]
  },
  {
   "cell_type": "markdown",
   "metadata": {},
   "source": [
    "## План проекта\n",
    "1.[Открыть файл с данными](#cell1)\n",
    "\n",
    "2.[Предобработка данных](#cell2)\n",
    "\n",
    "3.[Ответы на вопросы](#cell3)\n",
    "\n",
    "4.[Общий вывод](#cell4)"
   ]
  },
  {
   "cell_type": "markdown",
   "metadata": {},
   "source": [
    "## Шаг 1. Откройте файл с данными и изучите общую информацию\n",
    "<a id='cell1'></a>"
   ]
  },
  {
   "cell_type": "markdown",
   "metadata": {},
   "source": [
    "1.Вызвал библиотеку pandas."
   ]
  },
  {
   "cell_type": "code",
   "execution_count": 125,
   "metadata": {},
   "outputs": [],
   "source": [
    "import pandas as pd"
   ]
  },
  {
   "cell_type": "markdown",
   "metadata": {},
   "source": [
    "2.Прочитал содержимое файла data.csv и сохранил его в датафрейме credit_score."
   ]
  },
  {
   "cell_type": "code",
   "execution_count": 126,
   "metadata": {},
   "outputs": [],
   "source": [
    "credit_score = pd.read_csv('/datasets/data.csv')"
   ]
  },
  {
   "cell_type": "markdown",
   "metadata": {},
   "source": [
    "3.Ознакомился со сводной информацией в таблице, вызвав метод info()."
   ]
  },
  {
   "cell_type": "code",
   "execution_count": 127,
   "metadata": {},
   "outputs": [
    {
     "name": "stdout",
     "output_type": "stream",
     "text": [
      "<class 'pandas.core.frame.DataFrame'>\n",
      "RangeIndex: 21525 entries, 0 to 21524\n",
      "Data columns (total 12 columns):\n",
      "children            21525 non-null int64\n",
      "days_employed       19351 non-null float64\n",
      "dob_years           21525 non-null int64\n",
      "education           21525 non-null object\n",
      "education_id        21525 non-null int64\n",
      "family_status       21525 non-null object\n",
      "family_status_id    21525 non-null int64\n",
      "gender              21525 non-null object\n",
      "income_type         21525 non-null object\n",
      "debt                21525 non-null int64\n",
      "total_income        19351 non-null float64\n",
      "purpose             21525 non-null object\n",
      "dtypes: float64(2), int64(5), object(5)\n",
      "memory usage: 2.0+ MB\n"
     ]
    }
   ],
   "source": [
    "credit_score.info()"
   ]
  },
  {
   "cell_type": "markdown",
   "metadata": {},
   "source": [
    "4.Ознакомился с данными вызвав методы head()."
   ]
  },
  {
   "cell_type": "code",
   "execution_count": 128,
   "metadata": {},
   "outputs": [
    {
     "data": {
      "text/html": [
       "<div>\n",
       "<style scoped>\n",
       "    .dataframe tbody tr th:only-of-type {\n",
       "        vertical-align: middle;\n",
       "    }\n",
       "\n",
       "    .dataframe tbody tr th {\n",
       "        vertical-align: top;\n",
       "    }\n",
       "\n",
       "    .dataframe thead th {\n",
       "        text-align: right;\n",
       "    }\n",
       "</style>\n",
       "<table border=\"1\" class=\"dataframe\">\n",
       "  <thead>\n",
       "    <tr style=\"text-align: right;\">\n",
       "      <th></th>\n",
       "      <th>children</th>\n",
       "      <th>days_employed</th>\n",
       "      <th>dob_years</th>\n",
       "      <th>education</th>\n",
       "      <th>education_id</th>\n",
       "      <th>family_status</th>\n",
       "      <th>family_status_id</th>\n",
       "      <th>gender</th>\n",
       "      <th>income_type</th>\n",
       "      <th>debt</th>\n",
       "      <th>total_income</th>\n",
       "      <th>purpose</th>\n",
       "    </tr>\n",
       "  </thead>\n",
       "  <tbody>\n",
       "    <tr>\n",
       "      <td>0</td>\n",
       "      <td>1</td>\n",
       "      <td>-8437.673028</td>\n",
       "      <td>42</td>\n",
       "      <td>высшее</td>\n",
       "      <td>0</td>\n",
       "      <td>женат / замужем</td>\n",
       "      <td>0</td>\n",
       "      <td>F</td>\n",
       "      <td>сотрудник</td>\n",
       "      <td>0</td>\n",
       "      <td>253875.639453</td>\n",
       "      <td>покупка жилья</td>\n",
       "    </tr>\n",
       "    <tr>\n",
       "      <td>1</td>\n",
       "      <td>1</td>\n",
       "      <td>-4024.803754</td>\n",
       "      <td>36</td>\n",
       "      <td>среднее</td>\n",
       "      <td>1</td>\n",
       "      <td>женат / замужем</td>\n",
       "      <td>0</td>\n",
       "      <td>F</td>\n",
       "      <td>сотрудник</td>\n",
       "      <td>0</td>\n",
       "      <td>112080.014102</td>\n",
       "      <td>приобретение автомобиля</td>\n",
       "    </tr>\n",
       "    <tr>\n",
       "      <td>2</td>\n",
       "      <td>0</td>\n",
       "      <td>-5623.422610</td>\n",
       "      <td>33</td>\n",
       "      <td>Среднее</td>\n",
       "      <td>1</td>\n",
       "      <td>женат / замужем</td>\n",
       "      <td>0</td>\n",
       "      <td>M</td>\n",
       "      <td>сотрудник</td>\n",
       "      <td>0</td>\n",
       "      <td>145885.952297</td>\n",
       "      <td>покупка жилья</td>\n",
       "    </tr>\n",
       "    <tr>\n",
       "      <td>3</td>\n",
       "      <td>3</td>\n",
       "      <td>-4124.747207</td>\n",
       "      <td>32</td>\n",
       "      <td>среднее</td>\n",
       "      <td>1</td>\n",
       "      <td>женат / замужем</td>\n",
       "      <td>0</td>\n",
       "      <td>M</td>\n",
       "      <td>сотрудник</td>\n",
       "      <td>0</td>\n",
       "      <td>267628.550329</td>\n",
       "      <td>дополнительное образование</td>\n",
       "    </tr>\n",
       "    <tr>\n",
       "      <td>4</td>\n",
       "      <td>0</td>\n",
       "      <td>340266.072047</td>\n",
       "      <td>53</td>\n",
       "      <td>среднее</td>\n",
       "      <td>1</td>\n",
       "      <td>гражданский брак</td>\n",
       "      <td>1</td>\n",
       "      <td>F</td>\n",
       "      <td>пенсионер</td>\n",
       "      <td>0</td>\n",
       "      <td>158616.077870</td>\n",
       "      <td>сыграть свадьбу</td>\n",
       "    </tr>\n",
       "    <tr>\n",
       "      <td>5</td>\n",
       "      <td>0</td>\n",
       "      <td>-926.185831</td>\n",
       "      <td>27</td>\n",
       "      <td>высшее</td>\n",
       "      <td>0</td>\n",
       "      <td>гражданский брак</td>\n",
       "      <td>1</td>\n",
       "      <td>M</td>\n",
       "      <td>компаньон</td>\n",
       "      <td>0</td>\n",
       "      <td>255763.565419</td>\n",
       "      <td>покупка жилья</td>\n",
       "    </tr>\n",
       "    <tr>\n",
       "      <td>6</td>\n",
       "      <td>0</td>\n",
       "      <td>-2879.202052</td>\n",
       "      <td>43</td>\n",
       "      <td>высшее</td>\n",
       "      <td>0</td>\n",
       "      <td>женат / замужем</td>\n",
       "      <td>0</td>\n",
       "      <td>F</td>\n",
       "      <td>компаньон</td>\n",
       "      <td>0</td>\n",
       "      <td>240525.971920</td>\n",
       "      <td>операции с жильем</td>\n",
       "    </tr>\n",
       "    <tr>\n",
       "      <td>7</td>\n",
       "      <td>0</td>\n",
       "      <td>-152.779569</td>\n",
       "      <td>50</td>\n",
       "      <td>СРЕДНЕЕ</td>\n",
       "      <td>1</td>\n",
       "      <td>женат / замужем</td>\n",
       "      <td>0</td>\n",
       "      <td>M</td>\n",
       "      <td>сотрудник</td>\n",
       "      <td>0</td>\n",
       "      <td>135823.934197</td>\n",
       "      <td>образование</td>\n",
       "    </tr>\n",
       "    <tr>\n",
       "      <td>8</td>\n",
       "      <td>2</td>\n",
       "      <td>-6929.865299</td>\n",
       "      <td>35</td>\n",
       "      <td>ВЫСШЕЕ</td>\n",
       "      <td>0</td>\n",
       "      <td>гражданский брак</td>\n",
       "      <td>1</td>\n",
       "      <td>F</td>\n",
       "      <td>сотрудник</td>\n",
       "      <td>0</td>\n",
       "      <td>95856.832424</td>\n",
       "      <td>на проведение свадьбы</td>\n",
       "    </tr>\n",
       "    <tr>\n",
       "      <td>9</td>\n",
       "      <td>0</td>\n",
       "      <td>-2188.756445</td>\n",
       "      <td>41</td>\n",
       "      <td>среднее</td>\n",
       "      <td>1</td>\n",
       "      <td>женат / замужем</td>\n",
       "      <td>0</td>\n",
       "      <td>M</td>\n",
       "      <td>сотрудник</td>\n",
       "      <td>0</td>\n",
       "      <td>144425.938277</td>\n",
       "      <td>покупка жилья для семьи</td>\n",
       "    </tr>\n",
       "    <tr>\n",
       "      <td>10</td>\n",
       "      <td>2</td>\n",
       "      <td>-4171.483647</td>\n",
       "      <td>36</td>\n",
       "      <td>высшее</td>\n",
       "      <td>0</td>\n",
       "      <td>женат / замужем</td>\n",
       "      <td>0</td>\n",
       "      <td>M</td>\n",
       "      <td>компаньон</td>\n",
       "      <td>0</td>\n",
       "      <td>113943.491460</td>\n",
       "      <td>покупка недвижимости</td>\n",
       "    </tr>\n",
       "    <tr>\n",
       "      <td>11</td>\n",
       "      <td>0</td>\n",
       "      <td>-792.701887</td>\n",
       "      <td>40</td>\n",
       "      <td>среднее</td>\n",
       "      <td>1</td>\n",
       "      <td>женат / замужем</td>\n",
       "      <td>0</td>\n",
       "      <td>F</td>\n",
       "      <td>сотрудник</td>\n",
       "      <td>0</td>\n",
       "      <td>77069.234271</td>\n",
       "      <td>покупка коммерческой недвижимости</td>\n",
       "    </tr>\n",
       "    <tr>\n",
       "      <td>12</td>\n",
       "      <td>0</td>\n",
       "      <td>NaN</td>\n",
       "      <td>65</td>\n",
       "      <td>среднее</td>\n",
       "      <td>1</td>\n",
       "      <td>гражданский брак</td>\n",
       "      <td>1</td>\n",
       "      <td>M</td>\n",
       "      <td>пенсионер</td>\n",
       "      <td>0</td>\n",
       "      <td>NaN</td>\n",
       "      <td>сыграть свадьбу</td>\n",
       "    </tr>\n",
       "    <tr>\n",
       "      <td>13</td>\n",
       "      <td>0</td>\n",
       "      <td>-1846.641941</td>\n",
       "      <td>54</td>\n",
       "      <td>неоконченное высшее</td>\n",
       "      <td>2</td>\n",
       "      <td>женат / замужем</td>\n",
       "      <td>0</td>\n",
       "      <td>F</td>\n",
       "      <td>сотрудник</td>\n",
       "      <td>0</td>\n",
       "      <td>130458.228857</td>\n",
       "      <td>приобретение автомобиля</td>\n",
       "    </tr>\n",
       "    <tr>\n",
       "      <td>14</td>\n",
       "      <td>0</td>\n",
       "      <td>-1844.956182</td>\n",
       "      <td>56</td>\n",
       "      <td>высшее</td>\n",
       "      <td>0</td>\n",
       "      <td>гражданский брак</td>\n",
       "      <td>1</td>\n",
       "      <td>F</td>\n",
       "      <td>компаньон</td>\n",
       "      <td>1</td>\n",
       "      <td>165127.911772</td>\n",
       "      <td>покупка жилой недвижимости</td>\n",
       "    </tr>\n",
       "    <tr>\n",
       "      <td>15</td>\n",
       "      <td>1</td>\n",
       "      <td>-972.364419</td>\n",
       "      <td>26</td>\n",
       "      <td>среднее</td>\n",
       "      <td>1</td>\n",
       "      <td>женат / замужем</td>\n",
       "      <td>0</td>\n",
       "      <td>F</td>\n",
       "      <td>сотрудник</td>\n",
       "      <td>0</td>\n",
       "      <td>116820.904450</td>\n",
       "      <td>строительство собственной недвижимости</td>\n",
       "    </tr>\n",
       "    <tr>\n",
       "      <td>16</td>\n",
       "      <td>0</td>\n",
       "      <td>-1719.934226</td>\n",
       "      <td>35</td>\n",
       "      <td>среднее</td>\n",
       "      <td>1</td>\n",
       "      <td>женат / замужем</td>\n",
       "      <td>0</td>\n",
       "      <td>F</td>\n",
       "      <td>сотрудник</td>\n",
       "      <td>0</td>\n",
       "      <td>289202.704229</td>\n",
       "      <td>недвижимость</td>\n",
       "    </tr>\n",
       "    <tr>\n",
       "      <td>17</td>\n",
       "      <td>0</td>\n",
       "      <td>-2369.999720</td>\n",
       "      <td>33</td>\n",
       "      <td>высшее</td>\n",
       "      <td>0</td>\n",
       "      <td>гражданский брак</td>\n",
       "      <td>1</td>\n",
       "      <td>M</td>\n",
       "      <td>сотрудник</td>\n",
       "      <td>0</td>\n",
       "      <td>90410.586745</td>\n",
       "      <td>строительство недвижимости</td>\n",
       "    </tr>\n",
       "    <tr>\n",
       "      <td>18</td>\n",
       "      <td>0</td>\n",
       "      <td>400281.136913</td>\n",
       "      <td>53</td>\n",
       "      <td>среднее</td>\n",
       "      <td>1</td>\n",
       "      <td>вдовец / вдова</td>\n",
       "      <td>2</td>\n",
       "      <td>F</td>\n",
       "      <td>пенсионер</td>\n",
       "      <td>0</td>\n",
       "      <td>56823.777243</td>\n",
       "      <td>на покупку подержанного автомобиля</td>\n",
       "    </tr>\n",
       "    <tr>\n",
       "      <td>19</td>\n",
       "      <td>0</td>\n",
       "      <td>-10038.818549</td>\n",
       "      <td>48</td>\n",
       "      <td>СРЕДНЕЕ</td>\n",
       "      <td>1</td>\n",
       "      <td>в разводе</td>\n",
       "      <td>3</td>\n",
       "      <td>F</td>\n",
       "      <td>сотрудник</td>\n",
       "      <td>0</td>\n",
       "      <td>242831.107982</td>\n",
       "      <td>на покупку своего автомобиля</td>\n",
       "    </tr>\n",
       "  </tbody>\n",
       "</table>\n",
       "</div>"
      ],
      "text/plain": [
       "    children  days_employed  dob_years            education  education_id  \\\n",
       "0          1   -8437.673028         42               высшее             0   \n",
       "1          1   -4024.803754         36              среднее             1   \n",
       "2          0   -5623.422610         33              Среднее             1   \n",
       "3          3   -4124.747207         32              среднее             1   \n",
       "4          0  340266.072047         53              среднее             1   \n",
       "5          0    -926.185831         27               высшее             0   \n",
       "6          0   -2879.202052         43               высшее             0   \n",
       "7          0    -152.779569         50              СРЕДНЕЕ             1   \n",
       "8          2   -6929.865299         35               ВЫСШЕЕ             0   \n",
       "9          0   -2188.756445         41              среднее             1   \n",
       "10         2   -4171.483647         36               высшее             0   \n",
       "11         0    -792.701887         40              среднее             1   \n",
       "12         0            NaN         65              среднее             1   \n",
       "13         0   -1846.641941         54  неоконченное высшее             2   \n",
       "14         0   -1844.956182         56               высшее             0   \n",
       "15         1    -972.364419         26              среднее             1   \n",
       "16         0   -1719.934226         35              среднее             1   \n",
       "17         0   -2369.999720         33               высшее             0   \n",
       "18         0  400281.136913         53              среднее             1   \n",
       "19         0  -10038.818549         48              СРЕДНЕЕ             1   \n",
       "\n",
       "       family_status  family_status_id gender income_type  debt  \\\n",
       "0    женат / замужем                 0      F   сотрудник     0   \n",
       "1    женат / замужем                 0      F   сотрудник     0   \n",
       "2    женат / замужем                 0      M   сотрудник     0   \n",
       "3    женат / замужем                 0      M   сотрудник     0   \n",
       "4   гражданский брак                 1      F   пенсионер     0   \n",
       "5   гражданский брак                 1      M   компаньон     0   \n",
       "6    женат / замужем                 0      F   компаньон     0   \n",
       "7    женат / замужем                 0      M   сотрудник     0   \n",
       "8   гражданский брак                 1      F   сотрудник     0   \n",
       "9    женат / замужем                 0      M   сотрудник     0   \n",
       "10   женат / замужем                 0      M   компаньон     0   \n",
       "11   женат / замужем                 0      F   сотрудник     0   \n",
       "12  гражданский брак                 1      M   пенсионер     0   \n",
       "13   женат / замужем                 0      F   сотрудник     0   \n",
       "14  гражданский брак                 1      F   компаньон     1   \n",
       "15   женат / замужем                 0      F   сотрудник     0   \n",
       "16   женат / замужем                 0      F   сотрудник     0   \n",
       "17  гражданский брак                 1      M   сотрудник     0   \n",
       "18    вдовец / вдова                 2      F   пенсионер     0   \n",
       "19         в разводе                 3      F   сотрудник     0   \n",
       "\n",
       "     total_income                                 purpose  \n",
       "0   253875.639453                           покупка жилья  \n",
       "1   112080.014102                 приобретение автомобиля  \n",
       "2   145885.952297                           покупка жилья  \n",
       "3   267628.550329              дополнительное образование  \n",
       "4   158616.077870                         сыграть свадьбу  \n",
       "5   255763.565419                           покупка жилья  \n",
       "6   240525.971920                       операции с жильем  \n",
       "7   135823.934197                             образование  \n",
       "8    95856.832424                   на проведение свадьбы  \n",
       "9   144425.938277                 покупка жилья для семьи  \n",
       "10  113943.491460                    покупка недвижимости  \n",
       "11   77069.234271       покупка коммерческой недвижимости  \n",
       "12            NaN                         сыграть свадьбу  \n",
       "13  130458.228857                 приобретение автомобиля  \n",
       "14  165127.911772              покупка жилой недвижимости  \n",
       "15  116820.904450  строительство собственной недвижимости  \n",
       "16  289202.704229                            недвижимость  \n",
       "17   90410.586745              строительство недвижимости  \n",
       "18   56823.777243      на покупку подержанного автомобиля  \n",
       "19  242831.107982            на покупку своего автомобиля  "
      ]
     },
     "execution_count": 128,
     "metadata": {},
     "output_type": "execute_result"
    }
   ],
   "source": [
    "credit_score.head(20)"
   ]
  },
  {
   "cell_type": "markdown",
   "metadata": {},
   "source": [
    "5.Ознакомился с данными вызвав методы describe()"
   ]
  },
  {
   "cell_type": "code",
   "execution_count": 129,
   "metadata": {},
   "outputs": [
    {
     "data": {
      "text/html": [
       "<div>\n",
       "<style scoped>\n",
       "    .dataframe tbody tr th:only-of-type {\n",
       "        vertical-align: middle;\n",
       "    }\n",
       "\n",
       "    .dataframe tbody tr th {\n",
       "        vertical-align: top;\n",
       "    }\n",
       "\n",
       "    .dataframe thead th {\n",
       "        text-align: right;\n",
       "    }\n",
       "</style>\n",
       "<table border=\"1\" class=\"dataframe\">\n",
       "  <thead>\n",
       "    <tr style=\"text-align: right;\">\n",
       "      <th></th>\n",
       "      <th>children</th>\n",
       "      <th>days_employed</th>\n",
       "      <th>dob_years</th>\n",
       "      <th>education_id</th>\n",
       "      <th>family_status_id</th>\n",
       "      <th>debt</th>\n",
       "      <th>total_income</th>\n",
       "    </tr>\n",
       "  </thead>\n",
       "  <tbody>\n",
       "    <tr>\n",
       "      <td>count</td>\n",
       "      <td>21525.000000</td>\n",
       "      <td>19351.000000</td>\n",
       "      <td>21525.000000</td>\n",
       "      <td>21525.000000</td>\n",
       "      <td>21525.000000</td>\n",
       "      <td>21525.000000</td>\n",
       "      <td>1.935100e+04</td>\n",
       "    </tr>\n",
       "    <tr>\n",
       "      <td>mean</td>\n",
       "      <td>0.538908</td>\n",
       "      <td>63046.497661</td>\n",
       "      <td>43.293380</td>\n",
       "      <td>0.817236</td>\n",
       "      <td>0.972544</td>\n",
       "      <td>0.080883</td>\n",
       "      <td>1.674223e+05</td>\n",
       "    </tr>\n",
       "    <tr>\n",
       "      <td>std</td>\n",
       "      <td>1.381587</td>\n",
       "      <td>140827.311974</td>\n",
       "      <td>12.574584</td>\n",
       "      <td>0.548138</td>\n",
       "      <td>1.420324</td>\n",
       "      <td>0.272661</td>\n",
       "      <td>1.029716e+05</td>\n",
       "    </tr>\n",
       "    <tr>\n",
       "      <td>min</td>\n",
       "      <td>-1.000000</td>\n",
       "      <td>-18388.949901</td>\n",
       "      <td>0.000000</td>\n",
       "      <td>0.000000</td>\n",
       "      <td>0.000000</td>\n",
       "      <td>0.000000</td>\n",
       "      <td>2.066726e+04</td>\n",
       "    </tr>\n",
       "    <tr>\n",
       "      <td>25%</td>\n",
       "      <td>0.000000</td>\n",
       "      <td>-2747.423625</td>\n",
       "      <td>33.000000</td>\n",
       "      <td>1.000000</td>\n",
       "      <td>0.000000</td>\n",
       "      <td>0.000000</td>\n",
       "      <td>1.030532e+05</td>\n",
       "    </tr>\n",
       "    <tr>\n",
       "      <td>50%</td>\n",
       "      <td>0.000000</td>\n",
       "      <td>-1203.369529</td>\n",
       "      <td>42.000000</td>\n",
       "      <td>1.000000</td>\n",
       "      <td>0.000000</td>\n",
       "      <td>0.000000</td>\n",
       "      <td>1.450179e+05</td>\n",
       "    </tr>\n",
       "    <tr>\n",
       "      <td>75%</td>\n",
       "      <td>1.000000</td>\n",
       "      <td>-291.095954</td>\n",
       "      <td>53.000000</td>\n",
       "      <td>1.000000</td>\n",
       "      <td>1.000000</td>\n",
       "      <td>0.000000</td>\n",
       "      <td>2.034351e+05</td>\n",
       "    </tr>\n",
       "    <tr>\n",
       "      <td>max</td>\n",
       "      <td>20.000000</td>\n",
       "      <td>401755.400475</td>\n",
       "      <td>75.000000</td>\n",
       "      <td>4.000000</td>\n",
       "      <td>4.000000</td>\n",
       "      <td>1.000000</td>\n",
       "      <td>2.265604e+06</td>\n",
       "    </tr>\n",
       "  </tbody>\n",
       "</table>\n",
       "</div>"
      ],
      "text/plain": [
       "           children  days_employed     dob_years  education_id  \\\n",
       "count  21525.000000   19351.000000  21525.000000  21525.000000   \n",
       "mean       0.538908   63046.497661     43.293380      0.817236   \n",
       "std        1.381587  140827.311974     12.574584      0.548138   \n",
       "min       -1.000000  -18388.949901      0.000000      0.000000   \n",
       "25%        0.000000   -2747.423625     33.000000      1.000000   \n",
       "50%        0.000000   -1203.369529     42.000000      1.000000   \n",
       "75%        1.000000    -291.095954     53.000000      1.000000   \n",
       "max       20.000000  401755.400475     75.000000      4.000000   \n",
       "\n",
       "       family_status_id          debt  total_income  \n",
       "count      21525.000000  21525.000000  1.935100e+04  \n",
       "mean           0.972544      0.080883  1.674223e+05  \n",
       "std            1.420324      0.272661  1.029716e+05  \n",
       "min            0.000000      0.000000  2.066726e+04  \n",
       "25%            0.000000      0.000000  1.030532e+05  \n",
       "50%            0.000000      0.000000  1.450179e+05  \n",
       "75%            1.000000      0.000000  2.034351e+05  \n",
       "max            4.000000      1.000000  2.265604e+06  "
      ]
     },
     "execution_count": 129,
     "metadata": {},
     "output_type": "execute_result"
    }
   ],
   "source": [
    "credit_score.describe()"
   ]
  },
  {
   "cell_type": "markdown",
   "metadata": {},
   "source": [
    "**Вывод**:\n",
    "1. Значения в столбцах 'education' и 'family_status', имеют разный регистр.\n",
    "2. Имеются аномальные значения и пропуски типа NaN в столбце 'days_employed' и 'total_income'.\n",
    "3. Столбец 'days_employed' должен иметь тип данных int, т.к трудовой стаж в днях должен быть целочисленным.\n",
    "4. В столбце 'purpose' имеются значения 'сыграть свадьбу / на проведение свадьбы' и т.п, которые необходимо привести к единому значению объединенному по смыслу."
   ]
  },
  {
   "cell_type": "markdown",
   "metadata": {},
   "source": []
  },
  {
   "cell_type": "markdown",
   "metadata": {},
   "source": [
    "## Шаг 2. Предобработка данных\n",
    "<a id='cell2'></a>"
   ]
  },
  {
   "cell_type": "markdown",
   "metadata": {},
   "source": [
    "### Обработка пропусков"
   ]
  },
  {
   "cell_type": "markdown",
   "metadata": {},
   "source": [
    "1. Подсчитал пропущенные значения методами isnull() и sum()."
   ]
  },
  {
   "cell_type": "code",
   "execution_count": 130,
   "metadata": {},
   "outputs": [
    {
     "data": {
      "text/plain": [
       "children               0\n",
       "days_employed       2174\n",
       "dob_years              0\n",
       "education              0\n",
       "education_id           0\n",
       "family_status          0\n",
       "family_status_id       0\n",
       "gender                 0\n",
       "income_type            0\n",
       "debt                   0\n",
       "total_income        2174\n",
       "purpose                0\n",
       "dtype: int64"
      ]
     },
     "execution_count": 130,
     "metadata": {},
     "output_type": "execute_result"
    }
   ],
   "source": [
    "credit_score.isnull().sum()"
   ]
  },
  {
   "cell_type": "markdown",
   "metadata": {},
   "source": [
    "2. Произвел подсчет медианы месячного дохода в зависимости от типа занятости примення groupby и median()."
   ]
  },
  {
   "cell_type": "code",
   "execution_count": 131,
   "metadata": {},
   "outputs": [],
   "source": [
    "income_type_median = credit_score.groupby('income_type')['total_income'].median()"
   ]
  },
  {
   "cell_type": "markdown",
   "metadata": {},
   "source": [
    "3. При помощи merge подсоединил датасет с медианами к основному датасету. В итоге в каждой строчке должно появиться медианное значение, которое можно использовать при замене пустых значений."
   ]
  },
  {
   "cell_type": "code",
   "execution_count": 132,
   "metadata": {},
   "outputs": [],
   "source": [
    "credit_income = credit_score.merge(income_type_median, on='income_type', how='left')"
   ]
  },
  {
   "cell_type": "markdown",
   "metadata": {},
   "source": [
    "4. Произвел замену пропущенных значений в столбце 'total_income_x' на медианы дохода в зависимости от типа занятости методом fillna()."
   ]
  },
  {
   "cell_type": "code",
   "execution_count": 133,
   "metadata": {},
   "outputs": [],
   "source": [
    "credit_income['total_income_x'] = credit_income['total_income_x'].fillna(credit_income.loc[:,'total_income_y'])"
   ]
  },
  {
   "cell_type": "markdown",
   "metadata": {},
   "source": [
    "5. Избавляюсь от отрицательных значений в столбце 'days_employed'."
   ]
  },
  {
   "cell_type": "code",
   "execution_count": 134,
   "metadata": {},
   "outputs": [],
   "source": [
    "credit_income['days_employed'] = credit_income['days_employed'].abs()"
   ]
  },
  {
   "cell_type": "markdown",
   "metadata": {},
   "source": [
    "6. Подсчитал медианы трудового стажа клиента исходя из возраста."
   ]
  },
  {
   "cell_type": "code",
   "execution_count": 135,
   "metadata": {},
   "outputs": [],
   "source": [
    "dob_years_median = credit_score.groupby('dob_years')['days_employed'].median()"
   ]
  },
  {
   "cell_type": "markdown",
   "metadata": {},
   "source": [
    "7. При помощи merge подсоединил датасет с медианами к основному датасету. В итоге в каждой строчке должно появиться медианное значение, которое можно использовать при замене пустых значений."
   ]
  },
  {
   "cell_type": "code",
   "execution_count": 136,
   "metadata": {},
   "outputs": [],
   "source": [
    "credit_income_dob = credit_income.merge(dob_years_median, on='dob_years', how='left')"
   ]
  },
  {
   "cell_type": "markdown",
   "metadata": {},
   "source": [
    "8. Произвел замену пропущенных значений в столбце'days_employed', для замены использовал медианы посчитанные в зависимости от среднего возраста клиента, учитывая его тип занятости.Использовал метод fillna()."
   ]
  },
  {
   "cell_type": "code",
   "execution_count": 137,
   "metadata": {},
   "outputs": [],
   "source": [
    "credit_income_dob['days_employed_x'] = credit_income_dob['days_employed_x'].fillna(credit_income_dob.loc[:,'days_employed_y'])"
   ]
  },
  {
   "cell_type": "markdown",
   "metadata": {},
   "source": [
    "9. Удаляю столбцы 'days_employed_y', 'total_income_y', чтобы облегчить датафрейм."
   ]
  },
  {
   "cell_type": "code",
   "execution_count": 138,
   "metadata": {},
   "outputs": [],
   "source": [
    "credit_income_dob.drop(columns = ['days_employed_y', 'total_income_y'], axis=1, inplace=True )"
   ]
  },
  {
   "cell_type": "markdown",
   "metadata": {},
   "source": [
    "10. После замены, провел проверку наличия пропущенных значений методами isnull() и sum()."
   ]
  },
  {
   "cell_type": "code",
   "execution_count": 139,
   "metadata": {},
   "outputs": [
    {
     "name": "stdout",
     "output_type": "stream",
     "text": [
      "children            0\n",
      "days_employed_x     0\n",
      "dob_years           0\n",
      "education           0\n",
      "education_id        0\n",
      "family_status       0\n",
      "family_status_id    0\n",
      "gender              0\n",
      "income_type         0\n",
      "debt                0\n",
      "total_income_x      0\n",
      "purpose             0\n",
      "dtype: int64\n"
     ]
    }
   ],
   "source": [
    "print(credit_income_dob.isnull().sum())"
   ]
  },
  {
   "cell_type": "markdown",
   "metadata": {},
   "source": [
    "**Вывод** Имеются пропуски в столбцах 'days_employed' и 'total_income'. Произвел замену пропущенных значений на значение медианы по данным столбцам."
   ]
  },
  {
   "cell_type": "markdown",
   "metadata": {},
   "source": []
  },
  {
   "cell_type": "markdown",
   "metadata": {},
   "source": [
    "### Замена типа данных"
   ]
  },
  {
   "cell_type": "markdown",
   "metadata": {},
   "source": [
    "1. Изменил типа данных в столбце ['days_employed'] на integer. "
   ]
  },
  {
   "cell_type": "code",
   "execution_count": 140,
   "metadata": {},
   "outputs": [],
   "source": [
    "credit_income_dob['days_employed_x'] = credit_income_dob['days_employed_x'].astype('int')"
   ]
  },
  {
   "cell_type": "markdown",
   "metadata": {},
   "source": [
    "2. Проверил полученный результат, вызвав метод info()"
   ]
  },
  {
   "cell_type": "code",
   "execution_count": 141,
   "metadata": {},
   "outputs": [
    {
     "name": "stdout",
     "output_type": "stream",
     "text": [
      "<class 'pandas.core.frame.DataFrame'>\n",
      "Int64Index: 21525 entries, 0 to 21524\n",
      "Data columns (total 12 columns):\n",
      "children            21525 non-null int64\n",
      "days_employed_x     21525 non-null int64\n",
      "dob_years           21525 non-null int64\n",
      "education           21525 non-null object\n",
      "education_id        21525 non-null int64\n",
      "family_status       21525 non-null object\n",
      "family_status_id    21525 non-null int64\n",
      "gender              21525 non-null object\n",
      "income_type         21525 non-null object\n",
      "debt                21525 non-null int64\n",
      "total_income_x      21525 non-null float64\n",
      "purpose             21525 non-null object\n",
      "dtypes: float64(1), int64(6), object(5)\n",
      "memory usage: 2.1+ MB\n"
     ]
    }
   ],
   "source": [
    "credit_income_dob.info()"
   ]
  },
  {
   "cell_type": "markdown",
   "metadata": {},
   "source": [
    "**Вывод**: Столбец 'days_employed' теперь имеет тип данных int, т.к трудовой стаж в днях должен быть целочисленным."
   ]
  },
  {
   "cell_type": "markdown",
   "metadata": {},
   "source": []
  },
  {
   "cell_type": "markdown",
   "metadata": {},
   "source": [
    "### Обработка дубликатов"
   ]
  },
  {
   "cell_type": "markdown",
   "metadata": {},
   "source": [
    "1. Перевел столбцы 'education' и 'family_status' в нижний регистр, чтобы в дальнейшем с ними было легче работать."
   ]
  },
  {
   "cell_type": "code",
   "execution_count": 142,
   "metadata": {},
   "outputs": [],
   "source": [
    "credit_income_dob['education'] = credit_income_dob['education'].str.lower()\n",
    "credit_income_dob['family_status'] = credit_income_dob['family_status'].str.lower()"
   ]
  },
  {
   "cell_type": "markdown",
   "metadata": {},
   "source": [
    "2. Проверил результат изменений регистра в столбце 'family_status' при помощи метода unique()."
   ]
  },
  {
   "cell_type": "code",
   "execution_count": 143,
   "metadata": {
    "scrolled": true
   },
   "outputs": [
    {
     "data": {
      "text/plain": [
       "array(['женат / замужем', 'гражданский брак', 'вдовец / вдова',\n",
       "       'в разводе', 'не женат / не замужем'], dtype=object)"
      ]
     },
     "execution_count": 143,
     "metadata": {},
     "output_type": "execute_result"
    }
   ],
   "source": [
    "credit_income_dob['family_status'].unique()"
   ]
  },
  {
   "cell_type": "markdown",
   "metadata": {},
   "source": [
    "3. Проверил результат изменений регистра в столбце 'education' при помощи метода unique()."
   ]
  },
  {
   "cell_type": "code",
   "execution_count": 144,
   "metadata": {},
   "outputs": [
    {
     "data": {
      "text/plain": [
       "array(['высшее', 'среднее', 'неоконченное высшее', 'начальное',\n",
       "       'ученая степень'], dtype=object)"
      ]
     },
     "execution_count": 144,
     "metadata": {},
     "output_type": "execute_result"
    }
   ],
   "source": [
    "credit_income_dob['education'].unique()"
   ]
  },
  {
   "cell_type": "markdown",
   "metadata": {},
   "source": [
    "4. Изменил значения -1 и 20 на 1 и 2 в столбце 'children'"
   ]
  },
  {
   "cell_type": "code",
   "execution_count": 145,
   "metadata": {},
   "outputs": [],
   "source": [
    "credit_income_dob['children'] = credit_income_dob['children'].replace(-1, 1)\n",
    "credit_income_dob['children'] = credit_income_dob['children'].replace(20, 2)"
   ]
  },
  {
   "cell_type": "markdown",
   "metadata": {},
   "source": [
    "5. Проверил полученные значения при помощи метода unique()"
   ]
  },
  {
   "cell_type": "code",
   "execution_count": 146,
   "metadata": {},
   "outputs": [
    {
     "data": {
      "text/plain": [
       "array([1, 0, 3, 2, 4, 5])"
      ]
     },
     "execution_count": 146,
     "metadata": {},
     "output_type": "execute_result"
    }
   ],
   "source": [
    "credit_income_dob['children'].unique()"
   ]
  },
  {
   "cell_type": "markdown",
   "metadata": {},
   "source": [
    "**Вывод**: В столбцах 'education' и 'family_status' изменил регистр. Произвел замену некорректных значений в столбце 'children'."
   ]
  },
  {
   "cell_type": "markdown",
   "metadata": {},
   "source": []
  },
  {
   "cell_type": "markdown",
   "metadata": {},
   "source": [
    "### Лемматизация"
   ]
  },
  {
   "cell_type": "markdown",
   "metadata": {},
   "source": [
    "1. Импортировал библиотеку pymystem3."
   ]
  },
  {
   "cell_type": "code",
   "execution_count": 147,
   "metadata": {},
   "outputs": [],
   "source": [
    "from pymystem3 import Mystem\n",
    "m = Mystem()"
   ]
  },
  {
   "cell_type": "markdown",
   "metadata": {},
   "source": [
    "2. Создал список из значений столбца purpose используя метод unique()"
   ]
  },
  {
   "cell_type": "code",
   "execution_count": 148,
   "metadata": {},
   "outputs": [
    {
     "name": "stdout",
     "output_type": "stream",
     "text": [
      "['покупка жилья' 'приобретение автомобиля' 'дополнительное образование'\n",
      " 'сыграть свадьбу' 'операции с жильем' 'образование'\n",
      " 'на проведение свадьбы' 'покупка жилья для семьи' 'покупка недвижимости'\n",
      " 'покупка коммерческой недвижимости' 'покупка жилой недвижимости'\n",
      " 'строительство собственной недвижимости' 'недвижимость'\n",
      " 'строительство недвижимости' 'на покупку подержанного автомобиля'\n",
      " 'на покупку своего автомобиля' 'операции с коммерческой недвижимостью'\n",
      " 'строительство жилой недвижимости' 'жилье'\n",
      " 'операции со своей недвижимостью' 'автомобили' 'заняться образованием'\n",
      " 'сделка с подержанным автомобилем' 'получение образования' 'автомобиль'\n",
      " 'свадьба' 'получение дополнительного образования' 'покупка своего жилья'\n",
      " 'операции с недвижимостью' 'получение высшего образования'\n",
      " 'свой автомобиль' 'сделка с автомобилем' 'профильное образование'\n",
      " 'высшее образование' 'покупка жилья для сдачи' 'на покупку автомобиля'\n",
      " 'ремонт жилью' 'заняться высшим образованием']\n"
     ]
    }
   ],
   "source": [
    "purposes = credit_income_dob['purpose'].unique()\n",
    "print(purposes)"
   ]
  },
  {
   "cell_type": "markdown",
   "metadata": {},
   "source": [
    "3. Лемматизировал список purposes, полученный список лемм добавил в пустой список lemmas."
   ]
  },
  {
   "cell_type": "code",
   "execution_count": 149,
   "metadata": {},
   "outputs": [
    {
     "name": "stdout",
     "output_type": "stream",
     "text": [
      "[['покупка', ' ', 'жилье', '\\n'], ['приобретение', ' ', 'автомобиль', '\\n'], ['дополнительный', ' ', 'образование', '\\n'], ['сыграть', ' ', 'свадьба', '\\n'], ['операция', ' ', 'с', ' ', 'жилье', '\\n'], ['образование', '\\n'], ['на', ' ', 'проведение', ' ', 'свадьба', '\\n'], ['покупка', ' ', 'жилье', ' ', 'для', ' ', 'семья', '\\n'], ['покупка', ' ', 'недвижимость', '\\n'], ['покупка', ' ', 'коммерческий', ' ', 'недвижимость', '\\n'], ['покупка', ' ', 'жилой', ' ', 'недвижимость', '\\n'], ['строительство', ' ', 'собственный', ' ', 'недвижимость', '\\n'], ['недвижимость', '\\n'], ['строительство', ' ', 'недвижимость', '\\n'], ['на', ' ', 'покупка', ' ', 'подержать', ' ', 'автомобиль', '\\n'], ['на', ' ', 'покупка', ' ', 'свой', ' ', 'автомобиль', '\\n'], ['операция', ' ', 'с', ' ', 'коммерческий', ' ', 'недвижимость', '\\n'], ['строительство', ' ', 'жилой', ' ', 'недвижимость', '\\n'], ['жилье', '\\n'], ['операция', ' ', 'со', ' ', 'свой', ' ', 'недвижимость', '\\n'], ['автомобиль', '\\n'], ['заниматься', ' ', 'образование', '\\n'], ['сделка', ' ', 'с', ' ', 'подержанный', ' ', 'автомобиль', '\\n'], ['получение', ' ', 'образование', '\\n'], ['автомобиль', '\\n'], ['свадьба', '\\n'], ['получение', ' ', 'дополнительный', ' ', 'образование', '\\n'], ['покупка', ' ', 'свой', ' ', 'жилье', '\\n'], ['операция', ' ', 'с', ' ', 'недвижимость', '\\n'], ['получение', ' ', 'высокий', ' ', 'образование', '\\n'], ['свой', ' ', 'автомобиль', '\\n'], ['сделка', ' ', 'с', ' ', 'автомобиль', '\\n'], ['профильный', ' ', 'образование', '\\n'], ['высокий', ' ', 'образование', '\\n'], ['покупка', ' ', 'жилье', ' ', 'для', ' ', 'сдача', '\\n'], ['на', ' ', 'покупка', ' ', 'автомобиль', '\\n'], ['ремонт', ' ', 'жилье', '\\n'], ['заниматься', ' ', 'высокий', ' ', 'образование', '\\n']]\n"
     ]
    }
   ],
   "source": [
    "lemmas = []\n",
    "for i in purposes:\n",
    "    lemma = m.lemmatize(i)\n",
    "    lemmas.append(lemma)\n",
    "print(lemmas)"
   ]
  },
  {
   "cell_type": "markdown",
   "metadata": {},
   "source": [
    "4. Разбил на категории по леммам."
   ]
  },
  {
   "cell_type": "code",
   "execution_count": 150,
   "metadata": {},
   "outputs": [],
   "source": [
    "def purpose_change(purpose):\n",
    "    lemmas_row = m.lemmatize(purpose)\n",
    "    for i in lemmas_row:\n",
    "        if 'свад' in i:\n",
    "            return  'свадьба'\n",
    "        if 'образов' in i:\n",
    "            return 'образование'\n",
    "        if 'авто' in i:\n",
    "            return 'автомобиль'\n",
    "        if 'недвиж' or 'жил' in i:\n",
    "            return  'недвижимость'"
   ]
  },
  {
   "cell_type": "markdown",
   "metadata": {},
   "source": [
    "5. Добавим новый столбец purpose_lemm в датафрейм и посмотрим полученные значения столбца."
   ]
  },
  {
   "cell_type": "code",
   "execution_count": 151,
   "metadata": {},
   "outputs": [
    {
     "data": {
      "text/plain": [
       "недвижимость    19308\n",
       "автомобиль        973\n",
       "свадьба           797\n",
       "образование       447\n",
       "Name: purpose_lemm, dtype: int64"
      ]
     },
     "execution_count": 151,
     "metadata": {},
     "output_type": "execute_result"
    }
   ],
   "source": [
    "credit_income_dob['purpose_lemm'] = credit_income_dob['purpose'].apply(purpose_change)\n",
    "credit_income_dob['purpose_lemm'].value_counts()"
   ]
  },
  {
   "cell_type": "markdown",
   "metadata": {},
   "source": [
    "**Вывод**: Новый столбец 'purpose_lemm' имеет значения объедененные по смыслу при помощи лемматизации."
   ]
  },
  {
   "cell_type": "markdown",
   "metadata": {},
   "source": []
  },
  {
   "cell_type": "markdown",
   "metadata": {},
   "source": [
    "### Категоризация данных"
   ]
  },
  {
   "cell_type": "markdown",
   "metadata": {},
   "source": [
    "1. Написал функцию, которая оценивает статус семьи в зависимости от количества детей."
   ]
  },
  {
   "cell_type": "code",
   "execution_count": 152,
   "metadata": {},
   "outputs": [],
   "source": [
    "def children_group(child):\n",
    "\n",
    "        if child == 0:\n",
    "                return 'нет детей'\n",
    "        if child >= 1 and child < 3:\n",
    "                return 'немногодетная семья'\n",
    "        return 'многодетная семья'"
   ]
  },
  {
   "cell_type": "markdown",
   "metadata": {},
   "source": [
    "2. Вывел данные из столбца 'total_income', которые пригодятся в оценке показателя платежеспособности по кредиту."
   ]
  },
  {
   "cell_type": "code",
   "execution_count": 153,
   "metadata": {},
   "outputs": [
    {
     "name": "stdout",
     "output_type": "stream",
     "text": [
      "           children  days_employed_x     dob_years  education_id  \\\n",
      "count  21525.000000     21525.000000  21525.000000  21525.000000   \n",
      "mean       0.479721     66625.441069     43.293380      0.817236   \n",
      "std        0.755528    138779.625382     12.574584      0.548138   \n",
      "min        0.000000     -2143.000000      0.000000      0.000000   \n",
      "25%        0.000000       686.000000     33.000000      1.000000   \n",
      "50%        0.000000      1946.000000     42.000000      1.000000   \n",
      "75%        1.000000      5333.000000     53.000000      1.000000   \n",
      "max        5.000000    401755.000000     75.000000      4.000000   \n",
      "\n",
      "       family_status_id          debt  total_income_x  \n",
      "count      21525.000000  21525.000000    2.152500e+04  \n",
      "mean           0.972544      0.080883    1.652253e+05  \n",
      "std            1.420324      0.272661    9.804367e+04  \n",
      "min            0.000000      0.000000    2.066726e+04  \n",
      "25%            0.000000      0.000000    1.077982e+05  \n",
      "50%            0.000000      0.000000    1.425944e+05  \n",
      "75%            1.000000      0.000000    1.955499e+05  \n",
      "max            4.000000      1.000000    2.265604e+06  \n"
     ]
    }
   ],
   "source": [
    "print(credit_income_dob.describe())"
   ]
  },
  {
   "cell_type": "markdown",
   "metadata": {},
   "source": [
    "3. Написал функцию, которая оценивает показатель платежеспособности по кредиту исходя из уровня заработной платы. Разделил на категории по квартилям: 25% - 107798.2, 50% - 142594.4, 75% - 195549.9. "
   ]
  },
  {
   "cell_type": "code",
   "execution_count": 154,
   "metadata": {},
   "outputs": [],
   "source": [
    "def income_group(cash):\n",
    "\n",
    "        if cash <= 107798.2:\n",
    "                return 'низкий доход'\n",
    "        if cash > 107798.2 and cash <= 142594.4:\n",
    "                return 'средний доход'\n",
    "        if cash > 142594.4 and cash <= 195549.9:\n",
    "                return 'высокий доход'\n",
    "        return 'сверхвысокий доход'"
   ]
  },
  {
   "cell_type": "markdown",
   "metadata": {},
   "source": [
    "4. Добавил в датафрейм столбцы 'children_group' и 'income_group', где хранятся результаты применения функции children_group() и income_group()."
   ]
  },
  {
   "cell_type": "code",
   "execution_count": 155,
   "metadata": {},
   "outputs": [
    {
     "data": {
      "text/html": [
       "<div>\n",
       "<style scoped>\n",
       "    .dataframe tbody tr th:only-of-type {\n",
       "        vertical-align: middle;\n",
       "    }\n",
       "\n",
       "    .dataframe tbody tr th {\n",
       "        vertical-align: top;\n",
       "    }\n",
       "\n",
       "    .dataframe thead th {\n",
       "        text-align: right;\n",
       "    }\n",
       "</style>\n",
       "<table border=\"1\" class=\"dataframe\">\n",
       "  <thead>\n",
       "    <tr style=\"text-align: right;\">\n",
       "      <th></th>\n",
       "      <th>children</th>\n",
       "      <th>days_employed_x</th>\n",
       "      <th>dob_years</th>\n",
       "      <th>education</th>\n",
       "      <th>education_id</th>\n",
       "      <th>family_status</th>\n",
       "      <th>family_status_id</th>\n",
       "      <th>gender</th>\n",
       "      <th>income_type</th>\n",
       "      <th>debt</th>\n",
       "      <th>total_income_x</th>\n",
       "      <th>purpose</th>\n",
       "      <th>purpose_lemm</th>\n",
       "      <th>children_group</th>\n",
       "      <th>income_group</th>\n",
       "    </tr>\n",
       "  </thead>\n",
       "  <tbody>\n",
       "    <tr>\n",
       "      <td>0</td>\n",
       "      <td>1</td>\n",
       "      <td>8437</td>\n",
       "      <td>42</td>\n",
       "      <td>высшее</td>\n",
       "      <td>0</td>\n",
       "      <td>женат / замужем</td>\n",
       "      <td>0</td>\n",
       "      <td>F</td>\n",
       "      <td>сотрудник</td>\n",
       "      <td>0</td>\n",
       "      <td>253875.639453</td>\n",
       "      <td>покупка жилья</td>\n",
       "      <td>недвижимость</td>\n",
       "      <td>немногодетная семья</td>\n",
       "      <td>сверхвысокий доход</td>\n",
       "    </tr>\n",
       "    <tr>\n",
       "      <td>1</td>\n",
       "      <td>1</td>\n",
       "      <td>4024</td>\n",
       "      <td>36</td>\n",
       "      <td>среднее</td>\n",
       "      <td>1</td>\n",
       "      <td>женат / замужем</td>\n",
       "      <td>0</td>\n",
       "      <td>F</td>\n",
       "      <td>сотрудник</td>\n",
       "      <td>0</td>\n",
       "      <td>112080.014102</td>\n",
       "      <td>приобретение автомобиля</td>\n",
       "      <td>недвижимость</td>\n",
       "      <td>немногодетная семья</td>\n",
       "      <td>средний доход</td>\n",
       "    </tr>\n",
       "    <tr>\n",
       "      <td>2</td>\n",
       "      <td>0</td>\n",
       "      <td>5623</td>\n",
       "      <td>33</td>\n",
       "      <td>среднее</td>\n",
       "      <td>1</td>\n",
       "      <td>женат / замужем</td>\n",
       "      <td>0</td>\n",
       "      <td>M</td>\n",
       "      <td>сотрудник</td>\n",
       "      <td>0</td>\n",
       "      <td>145885.952297</td>\n",
       "      <td>покупка жилья</td>\n",
       "      <td>недвижимость</td>\n",
       "      <td>нет детей</td>\n",
       "      <td>высокий доход</td>\n",
       "    </tr>\n",
       "    <tr>\n",
       "      <td>3</td>\n",
       "      <td>3</td>\n",
       "      <td>4124</td>\n",
       "      <td>32</td>\n",
       "      <td>среднее</td>\n",
       "      <td>1</td>\n",
       "      <td>женат / замужем</td>\n",
       "      <td>0</td>\n",
       "      <td>M</td>\n",
       "      <td>сотрудник</td>\n",
       "      <td>0</td>\n",
       "      <td>267628.550329</td>\n",
       "      <td>дополнительное образование</td>\n",
       "      <td>недвижимость</td>\n",
       "      <td>многодетная семья</td>\n",
       "      <td>сверхвысокий доход</td>\n",
       "    </tr>\n",
       "    <tr>\n",
       "      <td>4</td>\n",
       "      <td>0</td>\n",
       "      <td>340266</td>\n",
       "      <td>53</td>\n",
       "      <td>среднее</td>\n",
       "      <td>1</td>\n",
       "      <td>гражданский брак</td>\n",
       "      <td>1</td>\n",
       "      <td>F</td>\n",
       "      <td>пенсионер</td>\n",
       "      <td>0</td>\n",
       "      <td>158616.077870</td>\n",
       "      <td>сыграть свадьбу</td>\n",
       "      <td>недвижимость</td>\n",
       "      <td>нет детей</td>\n",
       "      <td>высокий доход</td>\n",
       "    </tr>\n",
       "  </tbody>\n",
       "</table>\n",
       "</div>"
      ],
      "text/plain": [
       "   children  days_employed_x  dob_years education  education_id  \\\n",
       "0         1             8437         42    высшее             0   \n",
       "1         1             4024         36   среднее             1   \n",
       "2         0             5623         33   среднее             1   \n",
       "3         3             4124         32   среднее             1   \n",
       "4         0           340266         53   среднее             1   \n",
       "\n",
       "      family_status  family_status_id gender income_type  debt  \\\n",
       "0   женат / замужем                 0      F   сотрудник     0   \n",
       "1   женат / замужем                 0      F   сотрудник     0   \n",
       "2   женат / замужем                 0      M   сотрудник     0   \n",
       "3   женат / замужем                 0      M   сотрудник     0   \n",
       "4  гражданский брак                 1      F   пенсионер     0   \n",
       "\n",
       "   total_income_x                     purpose  purpose_lemm  \\\n",
       "0   253875.639453               покупка жилья  недвижимость   \n",
       "1   112080.014102     приобретение автомобиля  недвижимость   \n",
       "2   145885.952297               покупка жилья  недвижимость   \n",
       "3   267628.550329  дополнительное образование  недвижимость   \n",
       "4   158616.077870             сыграть свадьбу  недвижимость   \n",
       "\n",
       "        children_group        income_group  \n",
       "0  немногодетная семья  сверхвысокий доход  \n",
       "1  немногодетная семья       средний доход  \n",
       "2            нет детей       высокий доход  \n",
       "3    многодетная семья  сверхвысокий доход  \n",
       "4            нет детей       высокий доход  "
      ]
     },
     "execution_count": 155,
     "metadata": {},
     "output_type": "execute_result"
    }
   ],
   "source": [
    "credit_income_dob['children_group'] = credit_income_dob['children'].apply(children_group)\n",
    "credit_income_dob['income_group'] = credit_income_dob['total_income_x'].apply(income_group)\n",
    "credit_income_dob.head(5)"
   ]
  },
  {
   "cell_type": "markdown",
   "metadata": {},
   "source": [
    "**Вывод**: В датафрейм добавлен столбец 'children_group' в котором хранятся значения статуса семьи в зависимости от количества детей: нет детей - количество детей 0, немногодетная семья - количество детей 1-2, многодетная семья - количество детей больше или равно 3. Также в датафрейм добавлен столбец 'income_group' в котором хранятся значения показателя платежеспособности."
   ]
  },
  {
   "cell_type": "markdown",
   "metadata": {},
   "source": []
  },
  {
   "cell_type": "markdown",
   "metadata": {},
   "source": [
    "## Шаг 3. Ответьте на вопросы\n",
    "<a id='cell3'></a>"
   ]
  },
  {
   "cell_type": "markdown",
   "metadata": {},
   "source": [
    "- Есть ли зависимость между наличием детей и возвратом кредита в срок?"
   ]
  },
  {
   "cell_type": "markdown",
   "metadata": {},
   "source": [
    "1. Для подсчета общего количества людей имеющих разное семейное положение, использую следующее условие credit_score['children_group'] == 'children_group' и функцию len(). Результаты записываю в переменные: no_children_total, low_children_total, many_children_total. В переменных суммировал показатели по категориям: нет детей - количество детей 0, немногодетная семья - количество детей 1-2 и многодетная семья у которых количество детей больше 3.\n"
   ]
  },
  {
   "cell_type": "code",
   "execution_count": 156,
   "metadata": {},
   "outputs": [],
   "source": [
    "no_children_total = len(credit_income_dob.loc[credit_income_dob.loc[:,'children_group'] == 'нет детей'])\n",
    "low_children_total = len(credit_income_dob.loc[credit_income_dob.loc[:,'children_group'] == 'немногодетная семья'])\n",
    "many_children_total = len(credit_income_dob.loc[credit_income_dob.loc[:,'children_group'] == 'многодетная семья'])"
   ]
  },
  {
   "cell_type": "markdown",
   "metadata": {},
   "source": [
    "3. Нахожу общее количество людей с разным статусом в зависимости от количества детей и имеющих задолженности по кредиту. \n",
    "    Использую функцию sum() и следующие условия: \n",
    "                                 [credit_score['children_group'] == 'нет детей']['debt']\n",
    "                                 [credit_score['children_group'] == 'немногодетная семья']['debt']\n",
    "                                 [credit_score['children_group'] == 'многодетная семья']['debt']."
   ]
  },
  {
   "cell_type": "code",
   "execution_count": 157,
   "metadata": {},
   "outputs": [],
   "source": [
    "no_children_debt = credit_income_dob.loc[credit_income_dob.loc[:,'children_group'] == 'нет детей']['debt'].sum()\n",
    "low_children_debt = credit_income_dob.loc[credit_income_dob.loc[:,'children_group'] == 'немногодетная семья']['debt'].sum()\n",
    "many_children_debt = credit_income_dob.loc[credit_income_dob.loc[:,'children_group'] == 'многодетная семья']['debt'].sum()"
   ]
  },
  {
   "cell_type": "markdown",
   "metadata": {},
   "source": [
    "4. Создаю список списков с необходимыми значениями для дальнейшего вывода в таблицу."
   ]
  },
  {
   "cell_type": "code",
   "execution_count": 158,
   "metadata": {},
   "outputs": [],
   "source": [
    "debt_children_list = [['нет детей', no_children_total, no_children_debt],\n",
    "             ['немногодетная семья',low_children_total, low_children_debt],\n",
    "             ['многодетная семья', many_children_total, many_children_debt],\n",
    "            ]"
   ]
  },
  {
   "cell_type": "markdown",
   "metadata": {},
   "source": [
    "5. Вывожу полученные значения в таблицу."
   ]
  },
  {
   "cell_type": "code",
   "execution_count": 159,
   "metadata": {},
   "outputs": [
    {
     "name": "stdout",
     "output_type": "stream",
     "text": [
      "Статус семьи        | Общее количество | Количество должников| Количество недолжников| Процент должников\n",
      "--------------------------------------------------------------------------------------------------------\n",
      "нет детей           |            14149 |                1063 |                13086|      7.51%\n",
      "немногодетная семья |             6996 |                 647 |                 6349|      9.25%\n",
      "многодетная семья   |              380 |                  31 |                  349|      8.16%\n"
     ]
    }
   ],
   "source": [
    "print('Статус семьи        | Общее количество | Количество должников| Количество недолжников| Процент должников')\n",
    "print('--------------------------------------------------------------------------------------------------------')\n",
    "\n",
    "for row in debt_children_list:\n",
    "\n",
    "    print('{: <19} | {: >16} | {: >19} | {: >20}| {: >10.2%}'.format(row[0], row[1], row[2], row[1]-row[2], row[2]/row[1]))"
   ]
  },
  {
   "cell_type": "markdown",
   "metadata": {},
   "source": [
    "**Вывод**: Самый большой процент должников среди семей имеющих статус \"немногодетная семья\" у которых количество детей 1-2. Минимальная доля у семей со статусом \"нет детей\". Семья со статусом \"многодетная семья\" у которых количество детей больше 3, занимает среднее положение среди должников.\n",
    "\n",
    "**Вывод**: Вывод о том, что на детей приходится тратить, большую долю денежных средств, очевиден; поэтому люди у которых нет детей чаще берут кредит и чаще его возвращают. Семьи с 1-2 детьми более распространены чем многодетные семьи. Многодетным семьям государство оказывает поддержку, их финансовое состояние более устойчиво в отличии от немногодетной семьи."
   ]
  },
  {
   "cell_type": "markdown",
   "metadata": {},
   "source": []
  },
  {
   "cell_type": "markdown",
   "metadata": {},
   "source": [
    "- Есть ли зависимость между семейным положением и возвратом кредита в срок?"
   ]
  },
  {
   "cell_type": "markdown",
   "metadata": {},
   "source": [
    "1. Для подсчета общего количества людей имеющих разное семейное положение, использую следующее условие credit_score['family_status'] == 'family_status' и функцию len(). Результаты записываю в переменные: married_total, not_married_total, civil_mariage_total, divorced_debt_total, widow_widower_total."
   ]
  },
  {
   "cell_type": "code",
   "execution_count": 160,
   "metadata": {},
   "outputs": [],
   "source": [
    "married_total = len(credit_income_dob.loc[credit_income_dob.loc[:,'family_status'] == 'женат / замужем'])\n",
    "not_married_total = len(credit_income_dob.loc[credit_income_dob.loc[:,'family_status'] == 'не женат / не замужем'])\n",
    "civil_marriage_total = len(credit_income_dob.loc[credit_income_dob.loc[:,'family_status'] == 'гражданский брак'])\n",
    "divorced_total = len(credit_income_dob.loc[credit_income_dob.loc[:,'family_status'] == 'в разводе'])\n",
    "widow_widower_total = len(credit_income_dob.loc[credit_income_dob.loc[:,'family_status'] == 'вдовец / вдова'])"
   ]
  },
  {
   "cell_type": "markdown",
   "metadata": {},
   "source": [
    "3. Нахожу общее количество семей с разным семейным положением и имеющих задолженности по кредиту. \n",
    "    Использую функцию sum() и следующие условия: \n",
    "                                 [credit_score['family_status'] == 'женат / замужем']['debt']\n",
    "                             [credit_score['family_status'] == 'не женат / не замужем']['debt']\n",
    "                                 [credit_score['family_status'] == 'гражданский брак']['debt']\n",
    "                                 [credit_score['family_status'] == 'в разводе']['debt']\n",
    "                                 [credit_score['family_status'] == 'вдовец / вдова']['debt']."
   ]
  },
  {
   "cell_type": "code",
   "execution_count": 161,
   "metadata": {},
   "outputs": [],
   "source": [
    "married_debt = credit_income_dob.loc[credit_income_dob.loc[:,'family_status'] == 'женат / замужем']['debt'].sum()\n",
    "not_married_debt = credit_income_dob.loc[credit_income_dob.loc[:,'family_status'] == 'не женат / не замужем']['debt'].sum()\n",
    "civil_marriage_debt = credit_income_dob.loc[credit_income_dob.loc[:,'family_status'] == 'гражданский брак']['debt'].sum()\n",
    "divorced_debt = credit_income_dob.loc[credit_income_dob.loc[:,'family_status'] == 'в разводе']['debt'].sum()\n",
    "widow_widower_debt = credit_income_dob.loc[credit_income_dob.loc[:,'family_status'] == 'вдовец / вдова']['debt'].sum()\n"
   ]
  },
  {
   "cell_type": "markdown",
   "metadata": {},
   "source": [
    "4. Создаю список списков с необходимыми значениями для дальнейшего вывода в таблицу."
   ]
  },
  {
   "cell_type": "code",
   "execution_count": 162,
   "metadata": {},
   "outputs": [],
   "source": [
    "debt_family_list = [['женат / замужем', married_total, married_debt],\n",
    "             ['не женат / не замужем', not_married_total, not_married_debt],\n",
    "             ['гражданский брак', civil_marriage_total, civil_marriage_debt],\n",
    "             ['в разводе', divorced_total, divorced_debt],\n",
    "             ['вдовец / вдова', widow_widower_total, widow_widower_debt],\n",
    "            ]"
   ]
  },
  {
   "cell_type": "markdown",
   "metadata": {},
   "source": [
    "5. Вывожу полученные значения в таблицу."
   ]
  },
  {
   "cell_type": "code",
   "execution_count": 163,
   "metadata": {},
   "outputs": [
    {
     "name": "stdout",
     "output_type": "stream",
     "text": [
      "Семейное положение   | Общее количество | Количество должников| Количество недолжников| Процент должников\n",
      "---------------------------------------------------------------------------------------------------------\n",
      "женат / замужем       |            12380 |                 931 |                  11449|      7.52%\n",
      "не женат / не замужем |             2813 |                 274 |                   2539|      9.74%\n",
      "гражданский брак      |             4177 |                 388 |                   3789|      9.29%\n",
      "в разводе             |             1195 |                  85 |                   1110|      7.11%\n",
      "вдовец / вдова        |              960 |                  63 |                    897|      6.56%\n"
     ]
    }
   ],
   "source": [
    "print('Семейное положение   | Общее количество | Количество должников| Количество недолжников| Процент должников')\n",
    "print('---------------------------------------------------------------------------------------------------------')\n",
    "\n",
    "for row in debt_family_list:\n",
    "\n",
    "    print('{: <21} | {: >16} | {: >19} | {: >22}| {: >10.2%}'.format(row[0], row[1], row[2], row[1]-row[2], row[2]/row[1]))"
   ]
  },
  {
   "cell_type": "markdown",
   "metadata": {},
   "source": [
    "**Вывод**: Самый большой процент должников среди людей имеющих статус \"не женат / не замужем\", на втором месте люди имеющие статус \"гражданский брак\", на третьем месте люди имеющие примерно одинаковые показатели со статусами \"женат / замужем\" и \"в разводе\". Минимальный процент у людей со статусом \"вдовец / вдова\".\n",
    "\n",
    "**Вывод**: Выделю две категории людей: \n",
    "1. Люди у которых не было официального брака ( не женат / не замужем, гражданский брак).\n",
    "2. Люди которые состояли в официальном браке или состоят (женат / замужем, в разводе, вдовец / вдова).\n",
    "\n",
    "**Вывод**: Первая категория менее добросовестно выплачивает кредит нежели вторая. Касательно второй категории, видимо это связано с более развитым чувством ответственности, приобретенным за время официального брака.\n"
   ]
  },
  {
   "cell_type": "markdown",
   "metadata": {},
   "source": []
  },
  {
   "cell_type": "markdown",
   "metadata": {},
   "source": [
    "- Есть ли зависимость между уровнем дохода и возвратом кредита в срок?"
   ]
  },
  {
   "cell_type": "markdown",
   "metadata": {},
   "source": [
    "1. Для подсчета общего количества семей имеющих ежемесячную заработную плату ниже и выше среднего использую функцию value_counts()."
   ]
  },
  {
   "cell_type": "code",
   "execution_count": 164,
   "metadata": {},
   "outputs": [
    {
     "data": {
      "text/plain": [
       "средний доход         5523\n",
       "низкий доход          5382\n",
       "сверхвысокий доход    5382\n",
       "высокий доход         5238\n",
       "Name: income_group, dtype: int64"
      ]
     },
     "execution_count": 164,
     "metadata": {},
     "output_type": "execute_result"
    }
   ],
   "source": [
    "credit_income_dob['income_group'].value_counts()"
   ]
  },
  {
   "cell_type": "markdown",
   "metadata": {},
   "source": [
    "2. Результаты записываю в переменные: low_mean и more_mean."
   ]
  },
  {
   "cell_type": "code",
   "execution_count": 165,
   "metadata": {},
   "outputs": [],
   "source": [
    "mean_indicator_total = len(credit_income_dob.loc[credit_income_dob.loc[:,'income_group'] == 'средний доход'])\n",
    "low_indicator_total = len(credit_income_dob.loc[credit_income_dob.loc[:,'income_group'] == 'низкий доход'])\n",
    "superhigh_indicator_total = len(credit_income_dob.loc[credit_income_dob.loc[:,'income_group'] == 'сверхвысокий доход'])\n",
    "high_indicator_total = len(credit_income_dob.loc[credit_income_dob.loc[:,'income_group'] == 'высокий доход'])"
   ]
  },
  {
   "cell_type": "markdown",
   "metadata": {},
   "source": [
    "3. Нахожу общее количество семей с разным уровнем заработной платы и имеющих задолженности по кредиту. \n",
    "    Использую функцию sum() и следующие условия:\n",
    "                                             [credit_score['income_group'] == 'income_value']['debt']\n",
    "                                           "
   ]
  },
  {
   "cell_type": "code",
   "execution_count": 166,
   "metadata": {},
   "outputs": [],
   "source": [
    "mean_indicator_debt = credit_income_dob.loc[credit_income_dob.loc[:,'income_group'] == 'средний доход']['debt'].sum()\n",
    "low_indicator_debt = credit_income_dob.loc[credit_income_dob.loc[:,'income_group'] == 'низкий доход']['debt'].sum()\n",
    "superhigh_indicator_debt = credit_income_dob.loc[credit_income_dob.loc[:,'income_group'] == 'сверхвысокий доход']['debt'].sum()\n",
    "high_indicator_debt = credit_income_dob.loc[credit_income_dob.loc[:,'income_group'] == 'высокий доход']['debt'].sum()"
   ]
  },
  {
   "cell_type": "markdown",
   "metadata": {},
   "source": []
  },
  {
   "cell_type": "code",
   "execution_count": 167,
   "metadata": {},
   "outputs": [],
   "source": [
    "debt_income_list = [['средний доход', mean_indicator_total, mean_indicator_debt],\n",
    "             ['низкий доход', low_indicator_total, low_indicator_debt],\n",
    "             ['сверхвысокий доход', superhigh_indicator_total, superhigh_indicator_debt],\n",
    "             ['высокий доход', high_indicator_total, high_indicator_debt],\n",
    "            ]"
   ]
  },
  {
   "cell_type": "markdown",
   "metadata": {},
   "source": [
    "4. Вывожу доли должников среди людей имеющих различные статусы заработной платы. "
   ]
  },
  {
   "cell_type": "code",
   "execution_count": 168,
   "metadata": {},
   "outputs": [
    {
     "name": "stdout",
     "output_type": "stream",
     "text": [
      "Показатель платежеспособности   | Общее кол-во | Кол-во должников| Кол-во недолжников| % должников\n",
      "--------------------------------------------------------------------------------------------------------\n",
      "средний доход                   |         5523 |             483 |               5040|      8.75%\n",
      "низкий доход                    |         5382 |             427 |               4955|      7.93%\n",
      "сверхвысокий доход              |         5382 |             386 |               4996|      7.17%\n",
      "высокий доход                   |         5238 |             445 |               4793|      8.50%\n"
     ]
    }
   ],
   "source": [
    "print('Показатель платежеспособности   | Общее кол-во | Кол-во должников| Кол-во недолжников| % должников')\n",
    "print('--------------------------------------------------------------------------------------------------------')\n",
    "\n",
    "for row in debt_income_list:\n",
    "\n",
    "    print('{: <31} | {: >12} | {: >15} | {: >18}| {: >10.2%}'.format(row[0], row[1], row[2], row[1]-row[2], row[2]/row[1]))\n"
   ]
  },
  {
   "cell_type": "markdown",
   "metadata": {},
   "source": [
    "**Вывод**: Самый высокий процент должников среди людей со средним и высоким доходом, минимальный процент у людей со сверхвысоким и низким доходом. Неудивительно, что должников меньше среди людей со сверхвысоким и низким доходом, у первых достаточно средств для погашения кредита, а вторые стараются не ухудшать свое итак не лучшее финансовое положение. Показатели по среднему и высокому доходу не сильно отличаются, люди с такими доходами чаще имеют долг по кредиту, видимо эта категория людей хуже соотносит свое финансовое состояние с возможностью выплаты суммы по кредиту."
   ]
  },
  {
   "cell_type": "markdown",
   "metadata": {},
   "source": []
  },
  {
   "cell_type": "markdown",
   "metadata": {},
   "source": [
    "- Как разные цели кредита влияют на его возврат в срок?"
   ]
  },
  {
   "cell_type": "markdown",
   "metadata": {},
   "source": [
    "1. Для подсчета общего количества людей берущих кредит в зависимости от целей использую следующие условия credit_score['purpose_lemm'] == 'purpose' и фунцкию len(). Результаты записываю в переменные: real_estate_purpose, automobile_purpose, wedding_purpose, education_purpose."
   ]
  },
  {
   "cell_type": "code",
   "execution_count": 169,
   "metadata": {},
   "outputs": [],
   "source": [
    "real_estate_purpose_total = len(credit_income_dob.loc[credit_income_dob.loc[:,'purpose_lemm'] == 'недвижимость'])\n",
    "automobile_purpose_total = len(credit_income_dob.loc[credit_income_dob.loc[:,'purpose_lemm'] == 'автомобиль'])\n",
    "wedding_purpose_total = len(credit_income_dob.loc[credit_income_dob.loc[:,'purpose_lemm'] == 'свадьба'])\n",
    "education_purpose_total = len(credit_income_dob.loc[credit_income_dob.loc[:,'purpose_lemm'] == 'образование'])"
   ]
  },
  {
   "cell_type": "markdown",
   "metadata": {},
   "source": [
    "3. Нахожу общее количество людей с разным целями по кредиту и имеющих задолженности. \n",
    "    Использую функцию sum() и следующие условия:\n",
    "                                             [credit_score['purpose_lemm'] == 'недвижимость']['debt']\n",
    "                                             [credit_score['purpose_lemm'] == 'автомобиль']['debt']\n",
    "                                             [credit_score['purpose_lemm'] == 'свадьба']['debt']\n",
    "                                             [credit_score['purpose_lemm'] == 'образование']['debt']"
   ]
  },
  {
   "cell_type": "code",
   "execution_count": 170,
   "metadata": {},
   "outputs": [],
   "source": [
    "real_estate_purpose_debt = credit_income_dob.loc[credit_income_dob.loc[:,'purpose_lemm'] == 'недвижимость']['debt'].sum()\n",
    "automobile_purpose_debt = credit_income_dob.loc[credit_income_dob.loc[:,'purpose_lemm'] == 'автомобиль']['debt'].sum()\n",
    "wedding_purpose_debt = credit_income_dob.loc[credit_income_dob.loc[:,'purpose_lemm'] == 'свадьба']['debt'].sum()\n",
    "education_purpose_debt = credit_income_dob.loc[credit_income_dob.loc[:,'purpose_lemm'] == 'образование']['debt'].sum()"
   ]
  },
  {
   "cell_type": "markdown",
   "metadata": {},
   "source": [
    "4. Вывожу доли должников среди людей имеющих различные цели получения кредита. "
   ]
  },
  {
   "cell_type": "code",
   "execution_count": 171,
   "metadata": {
    "scrolled": true
   },
   "outputs": [],
   "source": [
    "debt_family_list = [['недвижимость', real_estate_purpose_total, real_estate_purpose_debt],\n",
    "             ['автомобиль', automobile_purpose_total, automobile_purpose_debt],\n",
    "             ['свадьба', wedding_purpose_total, wedding_purpose_debt],\n",
    "             ['образование', education_purpose_total, education_purpose_debt],\n",
    "            ]"
   ]
  },
  {
   "cell_type": "code",
   "execution_count": 172,
   "metadata": {},
   "outputs": [
    {
     "name": "stdout",
     "output_type": "stream",
     "text": [
      "Цель кредита        | Общее количество | Количество должников| Количество недолжников| Процент должников\n",
      "--------------------------------------------------------------------------------------------------------\n",
      "недвижимость        |            19308 |                1559 |                17749|      8.07%\n",
      "автомобиль          |              973 |                  86 |                  887|      8.84%\n",
      "свадьба             |              797 |                  64 |                  733|      8.03%\n",
      "образование         |              447 |                  32 |                  415|      7.16%\n"
     ]
    }
   ],
   "source": [
    "print('Цель кредита        | Общее количество | Количество должников| Количество недолжников| Процент должников')\n",
    "print('--------------------------------------------------------------------------------------------------------')\n",
    "\n",
    "for row in debt_family_list:\n",
    "\n",
    "    print('{: <19} | {: >16} | {: >19} | {: >20}| {: >10.2%}'.format(row[0], row[1], row[2], row[1]-row[2], row[2]/row[1]))"
   ]
  },
  {
   "cell_type": "markdown",
   "metadata": {},
   "source": [
    "**Вывод**: Процент должников, среди людей имеющих разные цели кредита примерно одинаковый, немного выделяется цель 'образование'."
   ]
  },
  {
   "cell_type": "markdown",
   "metadata": {},
   "source": []
  },
  {
   "cell_type": "markdown",
   "metadata": {},
   "source": [
    "## Шаг 4. Общий вывод\n",
    "<a id='cell4'></a>"
   ]
  },
  {
   "cell_type": "markdown",
   "metadata": {},
   "source": [
    "1. Максимальный процент людей у которых была задолженность по кредиту это люди со статусами: 'немногодетная семья', 'не женат / не замужем', 'средний доход' и 'высокий доход'.\n",
    "2. Минимальный процент людей у которых была задолженность по кредиту это люди со статусами: 'нет детей', 'вдовец / вдова', 'низкий доход' и 'сверхвысокий доход'.\n",
    "3. Процент должников, в зависимости от цели кредита, почти одинаковый.\n",
    "\n",
    "### Вывод: Семейное положение, количество детей и уровень заработной платы влияет на  факт погашения кредита в срок, а цели не влияют.     Клиент, который реже имеет долги по кредиту обладает следующими статусами - 'вдовец / вдова', 'нет детей',  'низкий доход' или 'сверхвысокий доход'. Клиент, который чаще имеет долги по кредиту обладает следующими статусами - 'немногодетная семья', 'не женат / не замужем',  'средний доход' или 'высокий доход'. Исходя из вышеисложенного, вдова у которой нет детей и имеющая сверхвысокий доход предпочтительнее для выдачи кредита, нежели незамужняя дама с двумя детьми и средним доходом."
   ]
  }
 ],
 "metadata": {
  "kernelspec": {
   "display_name": "Python 3",
   "language": "python",
   "name": "python3"
  },
  "language_info": {
   "codemirror_mode": {
    "name": "ipython",
    "version": 3
   },
   "file_extension": ".py",
   "mimetype": "text/x-python",
   "name": "python",
   "nbconvert_exporter": "python",
   "pygments_lexer": "ipython3",
   "version": "3.8.5"
  },
  "toc": {
   "base_numbering": 1,
   "nav_menu": {},
   "number_sections": true,
   "sideBar": true,
   "skip_h1_title": true,
   "title_cell": "Table of Contents",
   "title_sidebar": "Contents",
   "toc_cell": false,
   "toc_position": {},
   "toc_section_display": true,
   "toc_window_display": true
  }
 },
 "nbformat": 4,
 "nbformat_minor": 2
}
